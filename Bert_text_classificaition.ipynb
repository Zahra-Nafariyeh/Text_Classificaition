{
  "nbformat": 4,
  "nbformat_minor": 0,
  "metadata": {
    "accelerator": "GPU",
    "colab": {
      "name": "Bert_text_classificaition.ipynb",
      "provenance": [],
      "collapsed_sections": [],
      "include_colab_link": true
    },
    "kernelspec": {
      "display_name": "Python 3",
      "name": "python3"
    }
  },
  "cells": [
    {
      "cell_type": "markdown",
      "metadata": {
        "id": "view-in-github",
        "colab_type": "text"
      },
      "source": [
        "<a href=\"https://colab.research.google.com/github/Zahra-Nafariyeh/Text_Classificaition/blob/main/Bert_text_classificaition.ipynb\" target=\"_parent\"><img src=\"https://colab.research.google.com/assets/colab-badge.svg\" alt=\"Open In Colab\"/></a>"
      ]
    },
    {
      "cell_type": "code",
      "metadata": {
        "id": "fDxuj0dBnKpd",
        "colab": {
          "base_uri": "https://localhost:8080/"
        },
        "outputId": "3e2cfdd0-9472-4ade-d2e2-bbf599257196"
      },
      "source": [
        "from google.colab import drive\n",
        "drive.mount('/content/gdrive')\n"
      ],
      "execution_count": null,
      "outputs": [
        {
          "output_type": "stream",
          "text": [
            "Drive already mounted at /content/gdrive; to attempt to forcibly remount, call drive.mount(\"/content/gdrive\", force_remount=True).\n"
          ],
          "name": "stdout"
        }
      ]
    },
    {
      "cell_type": "code",
      "metadata": {
        "id": "2n7VFO8VnLwS",
        "colab": {
          "base_uri": "https://localhost:8080/"
        },
        "outputId": "a4de5d58-b2f3-4fa8-9e09-582f3b8a60fc"
      },
      "source": [
        "cd /content/gdrive/My\\ Drive/Bahrami"
      ],
      "execution_count": null,
      "outputs": [
        {
          "output_type": "stream",
          "text": [
            "[Errno 2] No such file or directory: '/content/gdrive/My Drive/Bahrami'\n",
            "/content\n"
          ],
          "name": "stdout"
        }
      ]
    },
    {
      "cell_type": "code",
      "metadata": {
        "id": "9f_BeEgQnL0o",
        "colab": {
          "base_uri": "https://localhost:8080/"
        },
        "outputId": "0e6e09e6-f5e1-46b9-bf23-6c7e317147e6"
      },
      "source": [
        "!ls"
      ],
      "execution_count": null,
      "outputs": [
        {
          "output_type": "stream",
          "text": [
            "gdrive\tsample_data\n"
          ],
          "name": "stdout"
        }
      ]
    },
    {
      "cell_type": "code",
      "metadata": {
        "id": "A2E5FMsgnMAA"
      },
      "source": [
        "import numpy as np\n",
        "import pandas as pd\n",
        "import os, json, gc, re, random\n",
        "from tqdm.notebook import tqdm\n",
        "from sklearn.preprocessing import MultiLabelBinarizer\n",
        "from sklearn.model_selection import train_test_split\n",
        "from sklearn.metrics import confusion_matrix\n",
        "\n",
        "import matplotlib.pyplot as plt\n",
        "%matplotlib inline\n",
        "import plotly.express as px\n",
        "import seaborn as sns\n",
        "\n",
        "import warnings\n",
        "warnings.filterwarnings(\"ignore\")\n",
        "\n",
        "import logging\n",
        "logging.basicConfig(level=logging.INFO)\n",
        "transformers_logger = logging.getLogger(\"transformers\")\n",
        "transformers_logger.setLevel(logging.WARNING)"
      ],
      "execution_count": null,
      "outputs": []
    },
    {
      "cell_type": "code",
      "metadata": {
        "colab": {
          "base_uri": "https://localhost:8080/"
        },
        "id": "Y1c4I99xnNIl",
        "outputId": "3eb438a1-d432-484b-a83f-c2b5374472dd"
      },
      "source": [
        "!pip uninstall -q torch -y > /dev/null\n",
        "!pip install -q torch==1.7.0+cu101 -f https://download.pytorch.org/whl/torch_stable.html > /dev/null\n",
        "!pip install -q -U transformers > /dev/null\n",
        "!pip install -q -U simpletransformers > /dev/null"
      ],
      "execution_count": null,
      "outputs": [
        {
          "output_type": "stream",
          "text": [
            "\u001b[31mERROR: google-colab 1.0.0 has requirement ipykernel~=4.10, but you'll have ipykernel 5.4.2 which is incompatible.\u001b[0m\n"
          ],
          "name": "stdout"
        }
      ]
    },
    {
      "cell_type": "code",
      "metadata": {
        "colab": {
          "base_uri": "https://localhost:8080/",
          "height": 545
        },
        "id": "VaLAESKFnxI3",
        "outputId": "bf0574d3-7296-4c46-e6a6-df2143c491fe"
      },
      "source": [
        "import torch, transformers, tokenizers\n",
        "torch.__version__, transformers.__version__, tokenizers.__version__"
      ],
      "execution_count": null,
      "outputs": [
        {
          "output_type": "error",
          "ename": "FileNotFoundError",
          "evalue": "ignored",
          "traceback": [
            "\u001b[0;31m---------------------------------------------------------------------------\u001b[0m",
            "\u001b[0;31mAttributeError\u001b[0m                            Traceback (most recent call last)",
            "\u001b[0;32m/usr/local/lib/python3.6/dist-packages/pkg_resources/__init__.py\u001b[0m in \u001b[0;36m_dep_map\u001b[0;34m(self)\u001b[0m\n\u001b[1;32m   3011\u001b[0m         \u001b[0;32mtry\u001b[0m\u001b[0;34m:\u001b[0m\u001b[0;34m\u001b[0m\u001b[0;34m\u001b[0m\u001b[0m\n\u001b[0;32m-> 3012\u001b[0;31m             \u001b[0;32mreturn\u001b[0m \u001b[0mself\u001b[0m\u001b[0;34m.\u001b[0m\u001b[0m__dep_map\u001b[0m\u001b[0;34m\u001b[0m\u001b[0;34m\u001b[0m\u001b[0m\n\u001b[0m\u001b[1;32m   3013\u001b[0m         \u001b[0;32mexcept\u001b[0m \u001b[0mAttributeError\u001b[0m\u001b[0;34m:\u001b[0m\u001b[0;34m\u001b[0m\u001b[0;34m\u001b[0m\u001b[0m\n",
            "\u001b[0;32m/usr/local/lib/python3.6/dist-packages/pkg_resources/__init__.py\u001b[0m in \u001b[0;36m__getattr__\u001b[0;34m(self, attr)\u001b[0m\n\u001b[1;32m   2809\u001b[0m         \u001b[0;32mif\u001b[0m \u001b[0mattr\u001b[0m\u001b[0;34m.\u001b[0m\u001b[0mstartswith\u001b[0m\u001b[0;34m(\u001b[0m\u001b[0;34m'_'\u001b[0m\u001b[0;34m)\u001b[0m\u001b[0;34m:\u001b[0m\u001b[0;34m\u001b[0m\u001b[0;34m\u001b[0m\u001b[0m\n\u001b[0;32m-> 2810\u001b[0;31m             \u001b[0;32mraise\u001b[0m \u001b[0mAttributeError\u001b[0m\u001b[0;34m(\u001b[0m\u001b[0mattr\u001b[0m\u001b[0;34m)\u001b[0m\u001b[0;34m\u001b[0m\u001b[0;34m\u001b[0m\u001b[0m\n\u001b[0m\u001b[1;32m   2811\u001b[0m         \u001b[0;32mreturn\u001b[0m \u001b[0mgetattr\u001b[0m\u001b[0;34m(\u001b[0m\u001b[0mself\u001b[0m\u001b[0;34m.\u001b[0m\u001b[0m_provider\u001b[0m\u001b[0;34m,\u001b[0m \u001b[0mattr\u001b[0m\u001b[0;34m)\u001b[0m\u001b[0;34m\u001b[0m\u001b[0;34m\u001b[0m\u001b[0m\n",
            "\u001b[0;31mAttributeError\u001b[0m: _DistInfoDistribution__dep_map",
            "\nDuring handling of the above exception, another exception occurred:\n",
            "\u001b[0;31mAttributeError\u001b[0m                            Traceback (most recent call last)",
            "\u001b[0;32m/usr/local/lib/python3.6/dist-packages/pkg_resources/__init__.py\u001b[0m in \u001b[0;36m_parsed_pkg_info\u001b[0;34m(self)\u001b[0m\n\u001b[1;32m   3002\u001b[0m         \u001b[0;32mtry\u001b[0m\u001b[0;34m:\u001b[0m\u001b[0;34m\u001b[0m\u001b[0;34m\u001b[0m\u001b[0m\n\u001b[0;32m-> 3003\u001b[0;31m             \u001b[0;32mreturn\u001b[0m \u001b[0mself\u001b[0m\u001b[0;34m.\u001b[0m\u001b[0m_pkg_info\u001b[0m\u001b[0;34m\u001b[0m\u001b[0;34m\u001b[0m\u001b[0m\n\u001b[0m\u001b[1;32m   3004\u001b[0m         \u001b[0;32mexcept\u001b[0m \u001b[0mAttributeError\u001b[0m\u001b[0;34m:\u001b[0m\u001b[0;34m\u001b[0m\u001b[0;34m\u001b[0m\u001b[0m\n",
            "\u001b[0;32m/usr/local/lib/python3.6/dist-packages/pkg_resources/__init__.py\u001b[0m in \u001b[0;36m__getattr__\u001b[0;34m(self, attr)\u001b[0m\n\u001b[1;32m   2809\u001b[0m         \u001b[0;32mif\u001b[0m \u001b[0mattr\u001b[0m\u001b[0;34m.\u001b[0m\u001b[0mstartswith\u001b[0m\u001b[0;34m(\u001b[0m\u001b[0;34m'_'\u001b[0m\u001b[0;34m)\u001b[0m\u001b[0;34m:\u001b[0m\u001b[0;34m\u001b[0m\u001b[0;34m\u001b[0m\u001b[0m\n\u001b[0;32m-> 2810\u001b[0;31m             \u001b[0;32mraise\u001b[0m \u001b[0mAttributeError\u001b[0m\u001b[0;34m(\u001b[0m\u001b[0mattr\u001b[0m\u001b[0;34m)\u001b[0m\u001b[0;34m\u001b[0m\u001b[0;34m\u001b[0m\u001b[0m\n\u001b[0m\u001b[1;32m   2811\u001b[0m         \u001b[0;32mreturn\u001b[0m \u001b[0mgetattr\u001b[0m\u001b[0;34m(\u001b[0m\u001b[0mself\u001b[0m\u001b[0;34m.\u001b[0m\u001b[0m_provider\u001b[0m\u001b[0;34m,\u001b[0m \u001b[0mattr\u001b[0m\u001b[0;34m)\u001b[0m\u001b[0;34m\u001b[0m\u001b[0;34m\u001b[0m\u001b[0m\n",
            "\u001b[0;31mAttributeError\u001b[0m: _pkg_info",
            "\nDuring handling of the above exception, another exception occurred:\n",
            "\u001b[0;31mFileNotFoundError\u001b[0m                         Traceback (most recent call last)",
            "\u001b[0;32m<ipython-input-8-d2bc36c758d6>\u001b[0m in \u001b[0;36m<module>\u001b[0;34m()\u001b[0m\n\u001b[0;32m----> 1\u001b[0;31m \u001b[0;32mimport\u001b[0m \u001b[0mtorch\u001b[0m\u001b[0;34m,\u001b[0m \u001b[0mtransformers\u001b[0m\u001b[0;34m,\u001b[0m \u001b[0mtokenizers\u001b[0m\u001b[0;34m\u001b[0m\u001b[0;34m\u001b[0m\u001b[0m\n\u001b[0m\u001b[1;32m      2\u001b[0m \u001b[0mtorch\u001b[0m\u001b[0;34m.\u001b[0m\u001b[0m__version__\u001b[0m\u001b[0;34m,\u001b[0m \u001b[0mtransformers\u001b[0m\u001b[0;34m.\u001b[0m\u001b[0m__version__\u001b[0m\u001b[0;34m,\u001b[0m \u001b[0mtokenizers\u001b[0m\u001b[0;34m.\u001b[0m\u001b[0m__version__\u001b[0m\u001b[0;34m\u001b[0m\u001b[0;34m\u001b[0m\u001b[0m\n",
            "\u001b[0;32m/usr/local/lib/python3.6/dist-packages/transformers/__init__.py\u001b[0m in \u001b[0;36m<module>\u001b[0;34m()\u001b[0m\n\u001b[1;32m     32\u001b[0m     \u001b[0mabsl\u001b[0m\u001b[0;34m.\u001b[0m\u001b[0mlogging\u001b[0m\u001b[0;34m.\u001b[0m\u001b[0m_warn_preinit_stderr\u001b[0m \u001b[0;34m=\u001b[0m \u001b[0;32mFalse\u001b[0m\u001b[0;34m\u001b[0m\u001b[0;34m\u001b[0m\u001b[0m\n\u001b[1;32m     33\u001b[0m \u001b[0;34m\u001b[0m\u001b[0m\n\u001b[0;32m---> 34\u001b[0;31m \u001b[0;32mfrom\u001b[0m \u001b[0;34m.\u001b[0m \u001b[0;32mimport\u001b[0m \u001b[0mdependency_versions_check\u001b[0m\u001b[0;34m\u001b[0m\u001b[0;34m\u001b[0m\u001b[0m\n\u001b[0m\u001b[1;32m     35\u001b[0m \u001b[0;34m\u001b[0m\u001b[0m\n\u001b[1;32m     36\u001b[0m \u001b[0;31m# Configuration\u001b[0m\u001b[0;34m\u001b[0m\u001b[0;34m\u001b[0m\u001b[0;34m\u001b[0m\u001b[0m\n",
            "\u001b[0;32m/usr/local/lib/python3.6/dist-packages/transformers/dependency_versions_check.py\u001b[0m in \u001b[0;36m<module>\u001b[0;34m()\u001b[0m\n\u001b[1;32m     37\u001b[0m                 \u001b[0;32mcontinue\u001b[0m  \u001b[0;31m# not required, check version only if installed\u001b[0m\u001b[0;34m\u001b[0m\u001b[0;34m\u001b[0m\u001b[0m\n\u001b[1;32m     38\u001b[0m \u001b[0;34m\u001b[0m\u001b[0m\n\u001b[0;32m---> 39\u001b[0;31m         \u001b[0mrequire_version_core\u001b[0m\u001b[0;34m(\u001b[0m\u001b[0mdeps\u001b[0m\u001b[0;34m[\u001b[0m\u001b[0mpkg\u001b[0m\u001b[0;34m]\u001b[0m\u001b[0;34m)\u001b[0m\u001b[0;34m\u001b[0m\u001b[0;34m\u001b[0m\u001b[0m\n\u001b[0m\u001b[1;32m     40\u001b[0m     \u001b[0;32melse\u001b[0m\u001b[0;34m:\u001b[0m\u001b[0;34m\u001b[0m\u001b[0;34m\u001b[0m\u001b[0m\n\u001b[1;32m     41\u001b[0m         \u001b[0;32mraise\u001b[0m \u001b[0mValueError\u001b[0m\u001b[0;34m(\u001b[0m\u001b[0;34mf\"can't find {pkg} in {deps.keys()}, check dependency_versions_table.py\"\u001b[0m\u001b[0;34m)\u001b[0m\u001b[0;34m\u001b[0m\u001b[0;34m\u001b[0m\u001b[0m\n",
            "\u001b[0;32m/usr/local/lib/python3.6/dist-packages/transformers/utils/versions.py\u001b[0m in \u001b[0;36mrequire_version_core\u001b[0;34m(requirement)\u001b[0m\n\u001b[1;32m     92\u001b[0m     \u001b[0;34m\"\"\" require_version wrapper which emits a core-specific hint on failure \"\"\"\u001b[0m\u001b[0;34m\u001b[0m\u001b[0;34m\u001b[0m\u001b[0m\n\u001b[1;32m     93\u001b[0m     \u001b[0mhint\u001b[0m \u001b[0;34m=\u001b[0m \u001b[0;34m\"Try: pip install transformers -U or pip install -e '.[dev]' if you're working with git master\"\u001b[0m\u001b[0;34m\u001b[0m\u001b[0;34m\u001b[0m\u001b[0m\n\u001b[0;32m---> 94\u001b[0;31m     \u001b[0;32mreturn\u001b[0m \u001b[0mrequire_version\u001b[0m\u001b[0;34m(\u001b[0m\u001b[0mrequirement\u001b[0m\u001b[0;34m,\u001b[0m \u001b[0mhint\u001b[0m\u001b[0;34m)\u001b[0m\u001b[0;34m\u001b[0m\u001b[0;34m\u001b[0m\u001b[0m\n\u001b[0m\u001b[1;32m     95\u001b[0m \u001b[0;34m\u001b[0m\u001b[0m\n\u001b[1;32m     96\u001b[0m \u001b[0;34m\u001b[0m\u001b[0m\n",
            "\u001b[0;32m/usr/local/lib/python3.6/dist-packages/transformers/utils/versions.py\u001b[0m in \u001b[0;36mrequire_version\u001b[0;34m(requirement, hint)\u001b[0m\n\u001b[1;32m     78\u001b[0m     \u001b[0;31m# check if any version is installed\u001b[0m\u001b[0;34m\u001b[0m\u001b[0;34m\u001b[0m\u001b[0;34m\u001b[0m\u001b[0m\n\u001b[1;32m     79\u001b[0m     \u001b[0;32mtry\u001b[0m\u001b[0;34m:\u001b[0m\u001b[0;34m\u001b[0m\u001b[0;34m\u001b[0m\u001b[0m\n\u001b[0;32m---> 80\u001b[0;31m         \u001b[0mgot_ver\u001b[0m \u001b[0;34m=\u001b[0m \u001b[0mpkg_resources\u001b[0m\u001b[0;34m.\u001b[0m\u001b[0mget_distribution\u001b[0m\u001b[0;34m(\u001b[0m\u001b[0mpkg\u001b[0m\u001b[0;34m)\u001b[0m\u001b[0;34m.\u001b[0m\u001b[0mversion\u001b[0m\u001b[0;34m\u001b[0m\u001b[0;34m\u001b[0m\u001b[0m\n\u001b[0m\u001b[1;32m     81\u001b[0m     \u001b[0;32mexcept\u001b[0m \u001b[0mpkg_resources\u001b[0m\u001b[0;34m.\u001b[0m\u001b[0mDistributionNotFound\u001b[0m\u001b[0;34m:\u001b[0m\u001b[0;34m\u001b[0m\u001b[0;34m\u001b[0m\u001b[0m\n\u001b[1;32m     82\u001b[0m         \u001b[0;32mraise\u001b[0m \u001b[0mpkg_resources\u001b[0m\u001b[0;34m.\u001b[0m\u001b[0mDistributionNotFound\u001b[0m\u001b[0;34m(\u001b[0m\u001b[0mrequirement\u001b[0m\u001b[0;34m,\u001b[0m \u001b[0;34m[\u001b[0m\u001b[0;34m\"this application\"\u001b[0m\u001b[0;34m,\u001b[0m \u001b[0mhint\u001b[0m\u001b[0;34m]\u001b[0m\u001b[0;34m)\u001b[0m\u001b[0;34m\u001b[0m\u001b[0;34m\u001b[0m\u001b[0m\n",
            "\u001b[0;32m/usr/local/lib/python3.6/dist-packages/pkg_resources/__init__.py\u001b[0m in \u001b[0;36mget_distribution\u001b[0;34m(dist)\u001b[0m\n\u001b[1;32m    463\u001b[0m         \u001b[0mdist\u001b[0m \u001b[0;34m=\u001b[0m \u001b[0mRequirement\u001b[0m\u001b[0;34m.\u001b[0m\u001b[0mparse\u001b[0m\u001b[0;34m(\u001b[0m\u001b[0mdist\u001b[0m\u001b[0;34m)\u001b[0m\u001b[0;34m\u001b[0m\u001b[0;34m\u001b[0m\u001b[0m\n\u001b[1;32m    464\u001b[0m     \u001b[0;32mif\u001b[0m \u001b[0misinstance\u001b[0m\u001b[0;34m(\u001b[0m\u001b[0mdist\u001b[0m\u001b[0;34m,\u001b[0m \u001b[0mRequirement\u001b[0m\u001b[0;34m)\u001b[0m\u001b[0;34m:\u001b[0m\u001b[0;34m\u001b[0m\u001b[0;34m\u001b[0m\u001b[0m\n\u001b[0;32m--> 465\u001b[0;31m         \u001b[0mdist\u001b[0m \u001b[0;34m=\u001b[0m \u001b[0mget_provider\u001b[0m\u001b[0;34m(\u001b[0m\u001b[0mdist\u001b[0m\u001b[0;34m)\u001b[0m\u001b[0;34m\u001b[0m\u001b[0;34m\u001b[0m\u001b[0m\n\u001b[0m\u001b[1;32m    466\u001b[0m     \u001b[0;32mif\u001b[0m \u001b[0;32mnot\u001b[0m \u001b[0misinstance\u001b[0m\u001b[0;34m(\u001b[0m\u001b[0mdist\u001b[0m\u001b[0;34m,\u001b[0m \u001b[0mDistribution\u001b[0m\u001b[0;34m)\u001b[0m\u001b[0;34m:\u001b[0m\u001b[0;34m\u001b[0m\u001b[0;34m\u001b[0m\u001b[0m\n\u001b[1;32m    467\u001b[0m         \u001b[0;32mraise\u001b[0m \u001b[0mTypeError\u001b[0m\u001b[0;34m(\u001b[0m\u001b[0;34m\"Expected string, Requirement, or Distribution\"\u001b[0m\u001b[0;34m,\u001b[0m \u001b[0mdist\u001b[0m\u001b[0;34m)\u001b[0m\u001b[0;34m\u001b[0m\u001b[0;34m\u001b[0m\u001b[0m\n",
            "\u001b[0;32m/usr/local/lib/python3.6/dist-packages/pkg_resources/__init__.py\u001b[0m in \u001b[0;36mget_provider\u001b[0;34m(moduleOrReq)\u001b[0m\n\u001b[1;32m    339\u001b[0m     \u001b[0;34m\"\"\"Return an IResourceProvider for the named module or requirement\"\"\"\u001b[0m\u001b[0;34m\u001b[0m\u001b[0;34m\u001b[0m\u001b[0m\n\u001b[1;32m    340\u001b[0m     \u001b[0;32mif\u001b[0m \u001b[0misinstance\u001b[0m\u001b[0;34m(\u001b[0m\u001b[0mmoduleOrReq\u001b[0m\u001b[0;34m,\u001b[0m \u001b[0mRequirement\u001b[0m\u001b[0;34m)\u001b[0m\u001b[0;34m:\u001b[0m\u001b[0;34m\u001b[0m\u001b[0;34m\u001b[0m\u001b[0m\n\u001b[0;32m--> 341\u001b[0;31m         \u001b[0;32mreturn\u001b[0m \u001b[0mworking_set\u001b[0m\u001b[0;34m.\u001b[0m\u001b[0mfind\u001b[0m\u001b[0;34m(\u001b[0m\u001b[0mmoduleOrReq\u001b[0m\u001b[0;34m)\u001b[0m \u001b[0;32mor\u001b[0m \u001b[0mrequire\u001b[0m\u001b[0;34m(\u001b[0m\u001b[0mstr\u001b[0m\u001b[0;34m(\u001b[0m\u001b[0mmoduleOrReq\u001b[0m\u001b[0;34m)\u001b[0m\u001b[0;34m)\u001b[0m\u001b[0;34m[\u001b[0m\u001b[0;36m0\u001b[0m\u001b[0;34m]\u001b[0m\u001b[0;34m\u001b[0m\u001b[0;34m\u001b[0m\u001b[0m\n\u001b[0m\u001b[1;32m    342\u001b[0m     \u001b[0;32mtry\u001b[0m\u001b[0;34m:\u001b[0m\u001b[0;34m\u001b[0m\u001b[0;34m\u001b[0m\u001b[0m\n\u001b[1;32m    343\u001b[0m         \u001b[0mmodule\u001b[0m \u001b[0;34m=\u001b[0m \u001b[0msys\u001b[0m\u001b[0;34m.\u001b[0m\u001b[0mmodules\u001b[0m\u001b[0;34m[\u001b[0m\u001b[0mmoduleOrReq\u001b[0m\u001b[0;34m]\u001b[0m\u001b[0;34m\u001b[0m\u001b[0;34m\u001b[0m\u001b[0m\n",
            "\u001b[0;32m/usr/local/lib/python3.6/dist-packages/pkg_resources/__init__.py\u001b[0m in \u001b[0;36mrequire\u001b[0;34m(self, *requirements)\u001b[0m\n\u001b[1;32m    882\u001b[0m         \u001b[0mincluded\u001b[0m\u001b[0;34m,\u001b[0m \u001b[0meven\u001b[0m \u001b[0;32mif\u001b[0m \u001b[0mthey\u001b[0m \u001b[0mwere\u001b[0m \u001b[0malready\u001b[0m \u001b[0mactivated\u001b[0m \u001b[0;32min\u001b[0m \u001b[0mthis\u001b[0m \u001b[0mworking\u001b[0m \u001b[0mset\u001b[0m\u001b[0;34m.\u001b[0m\u001b[0;34m\u001b[0m\u001b[0;34m\u001b[0m\u001b[0m\n\u001b[1;32m    883\u001b[0m         \"\"\"\n\u001b[0;32m--> 884\u001b[0;31m         \u001b[0mneeded\u001b[0m \u001b[0;34m=\u001b[0m \u001b[0mself\u001b[0m\u001b[0;34m.\u001b[0m\u001b[0mresolve\u001b[0m\u001b[0;34m(\u001b[0m\u001b[0mparse_requirements\u001b[0m\u001b[0;34m(\u001b[0m\u001b[0mrequirements\u001b[0m\u001b[0;34m)\u001b[0m\u001b[0;34m)\u001b[0m\u001b[0;34m\u001b[0m\u001b[0;34m\u001b[0m\u001b[0m\n\u001b[0m\u001b[1;32m    885\u001b[0m \u001b[0;34m\u001b[0m\u001b[0m\n\u001b[1;32m    886\u001b[0m         \u001b[0;32mfor\u001b[0m \u001b[0mdist\u001b[0m \u001b[0;32min\u001b[0m \u001b[0mneeded\u001b[0m\u001b[0;34m:\u001b[0m\u001b[0;34m\u001b[0m\u001b[0;34m\u001b[0m\u001b[0m\n",
            "\u001b[0;32m/usr/local/lib/python3.6/dist-packages/pkg_resources/__init__.py\u001b[0m in \u001b[0;36mresolve\u001b[0;34m(self, requirements, env, installer, replace_conflicting, extras)\u001b[0m\n\u001b[1;32m    776\u001b[0m \u001b[0;34m\u001b[0m\u001b[0m\n\u001b[1;32m    777\u001b[0m             \u001b[0;31m# push the new requirements onto the stack\u001b[0m\u001b[0;34m\u001b[0m\u001b[0;34m\u001b[0m\u001b[0;34m\u001b[0m\u001b[0m\n\u001b[0;32m--> 778\u001b[0;31m             \u001b[0mnew_requirements\u001b[0m \u001b[0;34m=\u001b[0m \u001b[0mdist\u001b[0m\u001b[0;34m.\u001b[0m\u001b[0mrequires\u001b[0m\u001b[0;34m(\u001b[0m\u001b[0mreq\u001b[0m\u001b[0;34m.\u001b[0m\u001b[0mextras\u001b[0m\u001b[0;34m)\u001b[0m\u001b[0;34m[\u001b[0m\u001b[0;34m:\u001b[0m\u001b[0;34m:\u001b[0m\u001b[0;34m-\u001b[0m\u001b[0;36m1\u001b[0m\u001b[0;34m]\u001b[0m\u001b[0;34m\u001b[0m\u001b[0;34m\u001b[0m\u001b[0m\n\u001b[0m\u001b[1;32m    779\u001b[0m             \u001b[0mrequirements\u001b[0m\u001b[0;34m.\u001b[0m\u001b[0mextend\u001b[0m\u001b[0;34m(\u001b[0m\u001b[0mnew_requirements\u001b[0m\u001b[0;34m)\u001b[0m\u001b[0;34m\u001b[0m\u001b[0;34m\u001b[0m\u001b[0m\n\u001b[1;32m    780\u001b[0m \u001b[0;34m\u001b[0m\u001b[0m\n",
            "\u001b[0;32m/usr/local/lib/python3.6/dist-packages/pkg_resources/__init__.py\u001b[0m in \u001b[0;36mrequires\u001b[0;34m(self, extras)\u001b[0m\n\u001b[1;32m   2729\u001b[0m     \u001b[0;32mdef\u001b[0m \u001b[0mrequires\u001b[0m\u001b[0;34m(\u001b[0m\u001b[0mself\u001b[0m\u001b[0;34m,\u001b[0m \u001b[0mextras\u001b[0m\u001b[0;34m=\u001b[0m\u001b[0;34m(\u001b[0m\u001b[0;34m)\u001b[0m\u001b[0;34m)\u001b[0m\u001b[0;34m:\u001b[0m\u001b[0;34m\u001b[0m\u001b[0;34m\u001b[0m\u001b[0m\n\u001b[1;32m   2730\u001b[0m         \u001b[0;34m\"\"\"List of Requirements needed for this distro if `extras` are used\"\"\"\u001b[0m\u001b[0;34m\u001b[0m\u001b[0;34m\u001b[0m\u001b[0m\n\u001b[0;32m-> 2731\u001b[0;31m         \u001b[0mdm\u001b[0m \u001b[0;34m=\u001b[0m \u001b[0mself\u001b[0m\u001b[0;34m.\u001b[0m\u001b[0m_dep_map\u001b[0m\u001b[0;34m\u001b[0m\u001b[0;34m\u001b[0m\u001b[0m\n\u001b[0m\u001b[1;32m   2732\u001b[0m         \u001b[0mdeps\u001b[0m \u001b[0;34m=\u001b[0m \u001b[0;34m[\u001b[0m\u001b[0;34m]\u001b[0m\u001b[0;34m\u001b[0m\u001b[0;34m\u001b[0m\u001b[0m\n\u001b[1;32m   2733\u001b[0m         \u001b[0mdeps\u001b[0m\u001b[0;34m.\u001b[0m\u001b[0mextend\u001b[0m\u001b[0;34m(\u001b[0m\u001b[0mdm\u001b[0m\u001b[0;34m.\u001b[0m\u001b[0mget\u001b[0m\u001b[0;34m(\u001b[0m\u001b[0;32mNone\u001b[0m\u001b[0;34m,\u001b[0m \u001b[0;34m(\u001b[0m\u001b[0;34m)\u001b[0m\u001b[0;34m)\u001b[0m\u001b[0;34m)\u001b[0m\u001b[0;34m\u001b[0m\u001b[0;34m\u001b[0m\u001b[0m\n",
            "\u001b[0;32m/usr/local/lib/python3.6/dist-packages/pkg_resources/__init__.py\u001b[0m in \u001b[0;36m_dep_map\u001b[0;34m(self)\u001b[0m\n\u001b[1;32m   3012\u001b[0m             \u001b[0;32mreturn\u001b[0m \u001b[0mself\u001b[0m\u001b[0;34m.\u001b[0m\u001b[0m__dep_map\u001b[0m\u001b[0;34m\u001b[0m\u001b[0;34m\u001b[0m\u001b[0m\n\u001b[1;32m   3013\u001b[0m         \u001b[0;32mexcept\u001b[0m \u001b[0mAttributeError\u001b[0m\u001b[0;34m:\u001b[0m\u001b[0;34m\u001b[0m\u001b[0;34m\u001b[0m\u001b[0m\n\u001b[0;32m-> 3014\u001b[0;31m             \u001b[0mself\u001b[0m\u001b[0;34m.\u001b[0m\u001b[0m__dep_map\u001b[0m \u001b[0;34m=\u001b[0m \u001b[0mself\u001b[0m\u001b[0;34m.\u001b[0m\u001b[0m_compute_dependencies\u001b[0m\u001b[0;34m(\u001b[0m\u001b[0;34m)\u001b[0m\u001b[0;34m\u001b[0m\u001b[0;34m\u001b[0m\u001b[0m\n\u001b[0m\u001b[1;32m   3015\u001b[0m             \u001b[0;32mreturn\u001b[0m \u001b[0mself\u001b[0m\u001b[0;34m.\u001b[0m\u001b[0m__dep_map\u001b[0m\u001b[0;34m\u001b[0m\u001b[0;34m\u001b[0m\u001b[0m\n\u001b[1;32m   3016\u001b[0m \u001b[0;34m\u001b[0m\u001b[0m\n",
            "\u001b[0;32m/usr/local/lib/python3.6/dist-packages/pkg_resources/__init__.py\u001b[0m in \u001b[0;36m_compute_dependencies\u001b[0;34m(self)\u001b[0m\n\u001b[1;32m   3021\u001b[0m         \u001b[0mreqs\u001b[0m \u001b[0;34m=\u001b[0m \u001b[0;34m[\u001b[0m\u001b[0;34m]\u001b[0m\u001b[0;34m\u001b[0m\u001b[0;34m\u001b[0m\u001b[0m\n\u001b[1;32m   3022\u001b[0m         \u001b[0;31m# Including any condition expressions\u001b[0m\u001b[0;34m\u001b[0m\u001b[0;34m\u001b[0m\u001b[0;34m\u001b[0m\u001b[0m\n\u001b[0;32m-> 3023\u001b[0;31m         \u001b[0;32mfor\u001b[0m \u001b[0mreq\u001b[0m \u001b[0;32min\u001b[0m \u001b[0mself\u001b[0m\u001b[0;34m.\u001b[0m\u001b[0m_parsed_pkg_info\u001b[0m\u001b[0;34m.\u001b[0m\u001b[0mget_all\u001b[0m\u001b[0;34m(\u001b[0m\u001b[0;34m'Requires-Dist'\u001b[0m\u001b[0;34m)\u001b[0m \u001b[0;32mor\u001b[0m \u001b[0;34m[\u001b[0m\u001b[0;34m]\u001b[0m\u001b[0;34m:\u001b[0m\u001b[0;34m\u001b[0m\u001b[0;34m\u001b[0m\u001b[0m\n\u001b[0m\u001b[1;32m   3024\u001b[0m             \u001b[0mreqs\u001b[0m\u001b[0;34m.\u001b[0m\u001b[0mextend\u001b[0m\u001b[0;34m(\u001b[0m\u001b[0mparse_requirements\u001b[0m\u001b[0;34m(\u001b[0m\u001b[0mreq\u001b[0m\u001b[0;34m)\u001b[0m\u001b[0;34m)\u001b[0m\u001b[0;34m\u001b[0m\u001b[0;34m\u001b[0m\u001b[0m\n\u001b[1;32m   3025\u001b[0m \u001b[0;34m\u001b[0m\u001b[0m\n",
            "\u001b[0;32m/usr/local/lib/python3.6/dist-packages/pkg_resources/__init__.py\u001b[0m in \u001b[0;36m_parsed_pkg_info\u001b[0;34m(self)\u001b[0m\n\u001b[1;32m   3003\u001b[0m             \u001b[0;32mreturn\u001b[0m \u001b[0mself\u001b[0m\u001b[0;34m.\u001b[0m\u001b[0m_pkg_info\u001b[0m\u001b[0;34m\u001b[0m\u001b[0;34m\u001b[0m\u001b[0m\n\u001b[1;32m   3004\u001b[0m         \u001b[0;32mexcept\u001b[0m \u001b[0mAttributeError\u001b[0m\u001b[0;34m:\u001b[0m\u001b[0;34m\u001b[0m\u001b[0;34m\u001b[0m\u001b[0m\n\u001b[0;32m-> 3005\u001b[0;31m             \u001b[0mmetadata\u001b[0m \u001b[0;34m=\u001b[0m \u001b[0mself\u001b[0m\u001b[0;34m.\u001b[0m\u001b[0mget_metadata\u001b[0m\u001b[0;34m(\u001b[0m\u001b[0mself\u001b[0m\u001b[0;34m.\u001b[0m\u001b[0mPKG_INFO\u001b[0m\u001b[0;34m)\u001b[0m\u001b[0;34m\u001b[0m\u001b[0;34m\u001b[0m\u001b[0m\n\u001b[0m\u001b[1;32m   3006\u001b[0m             \u001b[0mself\u001b[0m\u001b[0;34m.\u001b[0m\u001b[0m_pkg_info\u001b[0m \u001b[0;34m=\u001b[0m \u001b[0memail\u001b[0m\u001b[0;34m.\u001b[0m\u001b[0mparser\u001b[0m\u001b[0;34m.\u001b[0m\u001b[0mParser\u001b[0m\u001b[0;34m(\u001b[0m\u001b[0;34m)\u001b[0m\u001b[0;34m.\u001b[0m\u001b[0mparsestr\u001b[0m\u001b[0;34m(\u001b[0m\u001b[0mmetadata\u001b[0m\u001b[0;34m)\u001b[0m\u001b[0;34m\u001b[0m\u001b[0;34m\u001b[0m\u001b[0m\n\u001b[1;32m   3007\u001b[0m             \u001b[0;32mreturn\u001b[0m \u001b[0mself\u001b[0m\u001b[0;34m.\u001b[0m\u001b[0m_pkg_info\u001b[0m\u001b[0;34m\u001b[0m\u001b[0;34m\u001b[0m\u001b[0m\n",
            "\u001b[0;32m/usr/local/lib/python3.6/dist-packages/pkg_resources/__init__.py\u001b[0m in \u001b[0;36mget_metadata\u001b[0;34m(self, name)\u001b[0m\n\u001b[1;32m   1403\u001b[0m             \u001b[0;32mreturn\u001b[0m \u001b[0;34m\"\"\u001b[0m\u001b[0;34m\u001b[0m\u001b[0;34m\u001b[0m\u001b[0m\n\u001b[1;32m   1404\u001b[0m         \u001b[0mpath\u001b[0m \u001b[0;34m=\u001b[0m \u001b[0mself\u001b[0m\u001b[0;34m.\u001b[0m\u001b[0m_get_metadata_path\u001b[0m\u001b[0;34m(\u001b[0m\u001b[0mname\u001b[0m\u001b[0;34m)\u001b[0m\u001b[0;34m\u001b[0m\u001b[0;34m\u001b[0m\u001b[0m\n\u001b[0;32m-> 1405\u001b[0;31m         \u001b[0mvalue\u001b[0m \u001b[0;34m=\u001b[0m \u001b[0mself\u001b[0m\u001b[0;34m.\u001b[0m\u001b[0m_get\u001b[0m\u001b[0;34m(\u001b[0m\u001b[0mpath\u001b[0m\u001b[0;34m)\u001b[0m\u001b[0;34m\u001b[0m\u001b[0;34m\u001b[0m\u001b[0m\n\u001b[0m\u001b[1;32m   1406\u001b[0m         \u001b[0;32mtry\u001b[0m\u001b[0;34m:\u001b[0m\u001b[0;34m\u001b[0m\u001b[0;34m\u001b[0m\u001b[0m\n\u001b[1;32m   1407\u001b[0m             \u001b[0;32mreturn\u001b[0m \u001b[0mvalue\u001b[0m\u001b[0;34m.\u001b[0m\u001b[0mdecode\u001b[0m\u001b[0;34m(\u001b[0m\u001b[0;34m'utf-8'\u001b[0m\u001b[0;34m)\u001b[0m\u001b[0;34m\u001b[0m\u001b[0;34m\u001b[0m\u001b[0m\n",
            "\u001b[0;32m/usr/local/lib/python3.6/dist-packages/pkg_resources/__init__.py\u001b[0m in \u001b[0;36m_get\u001b[0;34m(self, path)\u001b[0m\n\u001b[1;32m   1607\u001b[0m \u001b[0;34m\u001b[0m\u001b[0m\n\u001b[1;32m   1608\u001b[0m     \u001b[0;32mdef\u001b[0m \u001b[0m_get\u001b[0m\u001b[0;34m(\u001b[0m\u001b[0mself\u001b[0m\u001b[0;34m,\u001b[0m \u001b[0mpath\u001b[0m\u001b[0;34m)\u001b[0m\u001b[0;34m:\u001b[0m\u001b[0;34m\u001b[0m\u001b[0;34m\u001b[0m\u001b[0m\n\u001b[0;32m-> 1609\u001b[0;31m         \u001b[0;32mwith\u001b[0m \u001b[0mopen\u001b[0m\u001b[0;34m(\u001b[0m\u001b[0mpath\u001b[0m\u001b[0;34m,\u001b[0m \u001b[0;34m'rb'\u001b[0m\u001b[0;34m)\u001b[0m \u001b[0;32mas\u001b[0m \u001b[0mstream\u001b[0m\u001b[0;34m:\u001b[0m\u001b[0;34m\u001b[0m\u001b[0;34m\u001b[0m\u001b[0m\n\u001b[0m\u001b[1;32m   1610\u001b[0m             \u001b[0;32mreturn\u001b[0m \u001b[0mstream\u001b[0m\u001b[0;34m.\u001b[0m\u001b[0mread\u001b[0m\u001b[0;34m(\u001b[0m\u001b[0;34m)\u001b[0m\u001b[0;34m\u001b[0m\u001b[0;34m\u001b[0m\u001b[0m\n\u001b[1;32m   1611\u001b[0m \u001b[0;34m\u001b[0m\u001b[0m\n",
            "\u001b[0;31mFileNotFoundError\u001b[0m: [Errno 2] No such file or directory: '/usr/local/lib/python3.6/dist-packages/tqdm-4.41.1.dist-info/METADATA'"
          ]
        }
      ]
    },
    {
      "cell_type": "code",
      "metadata": {
        "id": "4PyINQpPn6eP"
      },
      "source": [
        "data_file = 'arxiv-metadata-oai-snapshot.json'\n",
        "\n",
        "\"\"\" Using `yield` to load the JSON file in a loop to prevent Python memory issues if JSON is loaded directly\"\"\"\n",
        "\n",
        "def get_metadata():\n",
        "    with open(data_file, 'r') as f:\n",
        "        for line in f:\n",
        "            # print(\"*****************\")\n",
        "            # print(line)\n",
        "            # print(\"*****************\")\n",
        "\n",
        "            yield line"
      ],
      "execution_count": null,
      "outputs": []
    },
    {
      "cell_type": "code",
      "metadata": {
        "id": "b35RR3tYOejO"
      },
      "source": [
        "!ls"
      ],
      "execution_count": null,
      "outputs": []
    },
    {
      "cell_type": "code",
      "metadata": {
        "id": "_ASx96TXpcUq"
      },
      "source": [
        "import json\n",
        "import csv"
      ],
      "execution_count": null,
      "outputs": []
    },
    {
      "cell_type": "code",
      "metadata": {
        "id": "8_HD33o8n7Kl"
      },
      "source": [
        "metadata = get_metadata()\n",
        "counter = 0\n",
        "\n",
        "with open('test_z.txt', 'w') as f:\n",
        "    for paper in metadata:\n",
        "        k1 = []\n",
        "        v1 = []\n",
        "        for k, v in json.loads(paper).items():\n",
        "            print(f'{k}: {v} \\n')\n",
        "            k1.append(k)\n",
        "            v1.appened(v)\n",
        "            # f.write(\"%s,%s\\n\"%(k,v))\n",
        "        f.write(\"%s,%s\\n\"%(k1,v1))\n",
        "        counter = counter +1\n",
        "        if (counter ==5):\n",
        "            break\n"
      ],
      "execution_count": null,
      "outputs": []
    },
    {
      "cell_type": "code",
      "metadata": {
        "id": "LuuVe9Ogi-cG"
      },
      "source": [
        "metadata = get_metadata()\n",
        "counter =1\n",
        "for paper in metadata:\n",
        "    for k, v in json.loads(paper).items():\n",
        "        print(f'{k}: {v} \\n')\n",
        "    break\n",
        "\n"
      ],
      "execution_count": null,
      "outputs": []
    },
    {
      "cell_type": "code",
      "metadata": {
        "id": "_OE9n7JOpbJ3"
      },
      "source": [
        ""
      ],
      "execution_count": null,
      "outputs": []
    },
    {
      "cell_type": "code",
      "metadata": {
        "id": "oLRcW6c7og-S"
      },
      "source": [
        "category_map = {'astro-ph': 'Astrophysics',\n",
        "                'astro-ph.CO': 'Cosmology and Nongalactic Astrophysics',\n",
        "                'astro-ph.EP': 'Earth and Planetary Astrophysics',\n",
        "                'astro-ph.GA': 'Astrophysics of Galaxies',\n",
        "                'astro-ph.HE': 'High Energy Astrophysical Phenomena',\n",
        "                'astro-ph.IM': 'Instrumentation and Methods for Astrophysics',\n",
        "                'astro-ph.SR': 'Solar and Stellar Astrophysics',\n",
        "                'cond-mat.dis-nn': 'Disordered Systems and Neural Networks',\n",
        "                'cond-mat.mes-hall': 'Mesoscale and Nanoscale Physics',\n",
        "                'cond-mat.mtrl-sci': 'Materials Science',\n",
        "                'cond-mat.other': 'Other Condensed Matter',\n",
        "                'cond-mat.quant-gas': 'Quantum Gases',\n",
        "                'cond-mat.soft': 'Soft Condensed Matter',\n",
        "                'cond-mat.stat-mech': 'Statistical Mechanics',\n",
        "                'cond-mat.str-el': 'Strongly Correlated Electrons',\n",
        "                'cond-mat.supr-con': 'Superconductivity',\n",
        "                'cs.AI': 'Artificial Intelligence',\n",
        "                'cs.AR': 'Hardware Architecture',\n",
        "                'cs.CC': 'Computational Complexity',\n",
        "                'cs.CE': 'Computational Engineering, Finance, and Science',\n",
        "                'cs.CG': 'Computational Geometry',\n",
        "                'cs.CL': 'Computation and Language',\n",
        "                'cs.CR': 'Cryptography and Security',\n",
        "                'cs.CV': 'Computer Vision and Pattern Recognition',\n",
        "                'cs.CY': 'Computers and Society',\n",
        "                'cs.DB': 'Databases',\n",
        "                'cs.DC': 'Distributed, Parallel, and Cluster Computing',\n",
        "                'cs.DL': 'Digital Libraries',\n",
        "                'cs.DM': 'Discrete Mathematics',\n",
        "                'cs.DS': 'Data Structures and Algorithms',\n",
        "                'cs.ET': 'Emerging Technologies',\n",
        "                'cs.FL': 'Formal Languages and Automata Theory',\n",
        "                'cs.GL': 'General Literature',\n",
        "                'cs.GR': 'Graphics',\n",
        "                'cs.GT': 'Computer Science and Game Theory',\n",
        "                'cs.HC': 'Human-Computer Interaction',\n",
        "                'cs.IR': 'Information Retrieval',\n",
        "                'cs.IT': 'Information Theory',\n",
        "                'cs.LG': 'Machine Learning',\n",
        "                'cs.LO': 'Logic in Computer Science',\n",
        "                'cs.MA': 'Multiagent Systems',\n",
        "                'cs.MM': 'Multimedia',\n",
        "                'cs.MS': 'Mathematical Software',\n",
        "                'cs.NA': 'Numerical Analysis',\n",
        "                'cs.NE': 'Neural and Evolutionary Computing',\n",
        "                'cs.NI': 'Networking and Internet Architecture',\n",
        "                'cs.OH': 'Other Computer Science',\n",
        "                'cs.OS': 'Operating Systems',\n",
        "                'cs.PF': 'Performance',\n",
        "                'cs.PL': 'Programming Languages',\n",
        "                'cs.RO': 'Robotics',\n",
        "                'cs.SC': 'Symbolic Computation',\n",
        "                'cs.SD': 'Sound',\n",
        "                'cs.SE': 'Software Engineering',\n",
        "                'cs.SI': 'Social and Information Networks',\n",
        "                'cs.SY': 'Systems and Control',\n",
        "                'econ.EM': 'Econometrics',\n",
        "                'eess.AS': 'Audio and Speech Processing',\n",
        "                'eess.IV': 'Image and Video Processing',\n",
        "                'eess.SP': 'Signal Processing',\n",
        "                'gr-qc': 'General Relativity and Quantum Cosmology',\n",
        "                'hep-ex': 'High Energy Physics - Experiment',\n",
        "                'hep-lat': 'High Energy Physics - Lattice',\n",
        "                'hep-ph': 'High Energy Physics - Phenomenology',\n",
        "                'hep-th': 'High Energy Physics - Theory',\n",
        "                'math.AC': 'Commutative Algebra',\n",
        "                'math.AG': 'Algebraic Geometry',\n",
        "                'math.AP': 'Analysis of PDEs',\n",
        "                'math.AT': 'Algebraic Topology',\n",
        "                'math.CA': 'Classical Analysis and ODEs',\n",
        "                'math.CO': 'Combinatorics',\n",
        "                'math.CT': 'Category Theory',\n",
        "                'math.CV': 'Complex Variables',\n",
        "                'math.DG': 'Differential Geometry',\n",
        "                'math.DS': 'Dynamical Systems',\n",
        "                'math.FA': 'Functional Analysis',\n",
        "                'math.GM': 'General Mathematics',\n",
        "                'math.GN': 'General Topology',\n",
        "                'math.GR': 'Group Theory',\n",
        "                'math.GT': 'Geometric Topology',\n",
        "                'math.HO': 'History and Overview',\n",
        "                'math.IT': 'Information Theory',\n",
        "                'math.KT': 'K-Theory and Homology',\n",
        "                'math.LO': 'Logic',\n",
        "                'math.MG': 'Metric Geometry',\n",
        "                'math.MP': 'Mathematical Physics',\n",
        "                'math.NA': 'Numerical Analysis',\n",
        "                'math.NT': 'Number Theory',\n",
        "                'math.OA': 'Operator Algebras',\n",
        "                'math.OC': 'Optimization and Control',\n",
        "                'math.PR': 'Probability',\n",
        "                'math.QA': 'Quantum Algebra',\n",
        "                'math.RA': 'Rings and Algebras',\n",
        "                'math.RT': 'Representation Theory',\n",
        "                'math.SG': 'Symplectic Geometry',\n",
        "                'math.SP': 'Spectral Theory',\n",
        "                'math.ST': 'Statistics Theory',\n",
        "                'math-ph': 'Mathematical Physics',\n",
        "                'nlin.AO': 'Adaptation and Self-Organizing Systems',\n",
        "                'nlin.CD': 'Chaotic Dynamics',\n",
        "                'nlin.CG': 'Cellular Automata and Lattice Gases',\n",
        "                'nlin.PS': 'Pattern Formation and Solitons',\n",
        "                'nlin.SI': 'Exactly Solvable and Integrable Systems',\n",
        "                'nucl-ex': 'Nuclear Experiment',\n",
        "                'nucl-th': 'Nuclear Theory',\n",
        "                'physics.acc-ph': 'Accelerator Physics',\n",
        "                'physics.ao-ph': 'Atmospheric and Oceanic Physics',\n",
        "                'physics.app-ph': 'Applied Physics',\n",
        "                'physics.atm-clus': 'Atomic and Molecular Clusters',\n",
        "                'physics.atom-ph': 'Atomic Physics',\n",
        "                'physics.bio-ph': 'Biological Physics',\n",
        "                'physics.chem-ph': 'Chemical Physics',\n",
        "                'physics.class-ph': 'Classical Physics',\n",
        "                'physics.comp-ph': 'Computational Physics',\n",
        "                'physics.data-an': 'Data Analysis, Statistics and Probability',\n",
        "                'physics.ed-ph': 'Physics Education',\n",
        "                'physics.flu-dyn': 'Fluid Dynamics',\n",
        "                'physics.gen-ph': 'General Physics',\n",
        "                'physics.geo-ph': 'Geophysics',\n",
        "                'physics.hist-ph': 'History and Philosophy of Physics',\n",
        "                'physics.ins-det': 'Instrumentation and Detectors',\n",
        "                'physics.med-ph': 'Medical Physics',\n",
        "                'physics.optics': 'Optics',\n",
        "                'physics.plasm-ph': 'Plasma Physics',\n",
        "                'physics.pop-ph': 'Popular Physics',\n",
        "                'physics.soc-ph': 'Physics and Society',\n",
        "                'physics.space-ph': 'Space Physics',\n",
        "                'q-bio.BM': 'Biomolecules',\n",
        "                'q-bio.CB': 'Cell Behavior',\n",
        "                'q-bio.GN': 'Genomics',\n",
        "                'q-bio.MN': 'Molecular Networks',\n",
        "                'q-bio.NC': 'Neurons and Cognition',\n",
        "                'q-bio.OT': 'Other Quantitative Biology',\n",
        "                'q-bio.PE': 'Populations and Evolution',\n",
        "                'q-bio.QM': 'Quantitative Methods',\n",
        "                'q-bio.SC': 'Subcellular Processes',\n",
        "                'q-bio.TO': 'Tissues and Organs',\n",
        "                'q-fin.CP': 'Computational Finance',\n",
        "                'q-fin.EC': 'Economics',\n",
        "                'q-fin.GN': 'General Finance',\n",
        "                'q-fin.MF': 'Mathematical Finance',\n",
        "                'q-fin.PM': 'Portfolio Management',\n",
        "                'q-fin.PR': 'Pricing of Securities',\n",
        "                'q-fin.RM': 'Risk Management',\n",
        "                'q-fin.ST': 'Statistical Finance',\n",
        "                'q-fin.TR': 'Trading and Market Microstructure',\n",
        "                'quant-ph': 'Quantum Physics',\n",
        "                'stat.AP': 'Applications',\n",
        "                'stat.CO': 'Computation',\n",
        "                'stat.ME': 'Methodology',\n",
        "                'stat.ML': 'Machine Learning',\n",
        "                'stat.OT': 'Other Statistics',\n",
        "                'stat.TH': 'Statistics Theory'}"
      ],
      "execution_count": null,
      "outputs": []
    },
    {
      "cell_type": "markdown",
      "metadata": {
        "id": "sDkgf2u5aGrD"
      },
      "source": [
        ""
      ]
    },
    {
      "cell_type": "code",
      "metadata": {
        "id": "Fughm7jQoqj3"
      },
      "source": [
        "# %%time\n",
        "\n",
        "titles = []\n",
        "abstracts = []\n",
        "categories = []\n",
        "\n",
        "# Consider all categories in the `category_map` to be used during training and prediction\n",
        "paper_categories = np.array(list(category_map.keys())).flatten()\n",
        "\n",
        "# Uncomment & edit below line to use specific paper categories to be used during training and prediction\n",
        "# paper_categories = [\"astro-ph\", # Astrophysics\n",
        "#                     \"cs.CV\", # Computer Vision and Pattern Recognition\n",
        "#                     'q-fin.EC'] # Economics\n",
        "\n",
        "metadata = get_metadata()\n",
        "for paper in tqdm(metadata):\n",
        "    paper_dict = json.loads(paper)\n",
        "    category = paper_dict.get('categories')\n",
        "    try:\n",
        "        try:\n",
        "            year = int(paper_dict.get('journal-ref')[-4:])    ### Example Format: \"Phys.Rev.D76:013009,2007\"\n",
        "        except:\n",
        "            year = int(paper_dict.get('journal-ref')[-5:-1])    ### Example Format: \"Phys.Rev.D76:013009,(2007)\"\n",
        "\n",
        "        if category in paper_categories and 2010<year<2021:\n",
        "            titles.append(paper_dict.get('title'))\n",
        "            abstracts.append(paper_dict.get('abstract'))\n",
        "            categories.append(paper_dict.get('categories'))\n",
        "    except:\n",
        "        pass \n",
        "\n",
        "len(titles), len(abstracts), len(categories)"
      ],
      "execution_count": null,
      "outputs": []
    },
    {
      "cell_type": "code",
      "metadata": {
        "id": "RVgTo_-fo06m"
      },
      "source": [
        "# %%time\n",
        "\n",
        "papers = pd.DataFrame({\n",
        "    'title': titles,\n",
        "    'abstract': abstracts,\n",
        "    'categories': categories\n",
        "})\n",
        "\n",
        "papers['abstract'] = papers['abstract'].apply(lambda x: x.replace(\"\\n\",\"\"))\n",
        "papers['abstract'] = papers['abstract'].apply(lambda x: x.strip())\n",
        "papers['text'] = papers['title'] + '. ' + papers['abstract']\n",
        "\n",
        "papers['categories'] = papers['categories'].apply(lambda x: tuple(x.split()))\n",
        "\n",
        "# Choosing paper categories based on their frequency & eliminating categories with very few papers\n",
        "shortlisted_categories = papers['categories'].value_counts().reset_index(name=\"count\").query(\"count > 250\")[\"index\"].tolist()\n",
        "papers = papers[papers[\"categories\"].isin(shortlisted_categories)].reset_index(drop=True)\n",
        "\n",
        "# Shuffle DataFrame\n",
        "papers = papers.sample(frac=1).reset_index(drop=True)\n",
        "\n",
        "# Sample roughtly equal number of texts from different paper categories (to reduce class imbalance issues)\n",
        "papers = papers.groupby('categories').head(250).reset_index(drop=True)\n",
        "\n",
        "multi_label_encoder = MultiLabelBinarizer()\n",
        "multi_label_encoder.fit(papers['categories'])\n",
        "papers['categories_encoded'] = papers['categories'].apply(lambda x: multi_label_encoder.transform([x])[0])\n",
        "\n",
        "papers = papers[[\"text\", \"categories\", \"categories_encoded\"]]\n",
        "del titles, abstracts, categories\n",
        "papers"
      ],
      "execution_count": null,
      "outputs": []
    },
    {
      "cell_type": "code",
      "metadata": {
        "id": "AQOtIcT4Rq21",
        "colab": {
          "base_uri": "https://localhost:8080/",
          "height": 227
        },
        "outputId": "15522772-7833-431b-b2a8-22f49ff62085"
      },
      "source": [
        "# %%time\n",
        "\n",
        "from simpletransformers.classification import MultiLabelClassificationModel\n",
        "\n",
        "model_args = {\n",
        "    \"reprocess_input_data\": True,\n",
        "    \"overwrite_output_dir\": True,\n",
        "    \"save_model_every_epoch\": False, # Model occupies 1.4GB size per epoch (Total Disk Space Available: 4.9GB)\n",
        "    \"save_eval_checkpoints\": False,\n",
        "    \"max_seq_length\": 512,\n",
        "    \"train_batch_size\": 16,\n",
        "    \"num_train_epochs\": 4,\n",
        "}\n",
        "\n",
        "# Create a MultiLabelClassificationModel\n",
        "model = MultiLabelClassificationModel('roberta', \n",
        "                                      'roberta-base', \n",
        "                                      num_labels=len(shortlisted_categories), \n",
        "                                      args=model_args , use_cuda=False)"
      ],
      "execution_count": null,
      "outputs": [
        {
          "output_type": "error",
          "ename": "NameError",
          "evalue": "ignored",
          "traceback": [
            "\u001b[0;31m---------------------------------------------------------------------------\u001b[0m",
            "\u001b[0;31mNameError\u001b[0m                                 Traceback (most recent call last)",
            "\u001b[0;32m<ipython-input-9-05fe1dba911b>\u001b[0m in \u001b[0;36m<module>\u001b[0;34m()\u001b[0m\n\u001b[1;32m     16\u001b[0m model = MultiLabelClassificationModel('roberta', \n\u001b[1;32m     17\u001b[0m                                       \u001b[0;34m'roberta-base'\u001b[0m\u001b[0;34m,\u001b[0m\u001b[0;34m\u001b[0m\u001b[0;34m\u001b[0m\u001b[0m\n\u001b[0;32m---> 18\u001b[0;31m                                       \u001b[0mnum_labels\u001b[0m\u001b[0;34m=\u001b[0m\u001b[0mlen\u001b[0m\u001b[0;34m(\u001b[0m\u001b[0mshortlisted_categories\u001b[0m\u001b[0;34m)\u001b[0m\u001b[0;34m,\u001b[0m\u001b[0;34m\u001b[0m\u001b[0;34m\u001b[0m\u001b[0m\n\u001b[0m\u001b[1;32m     19\u001b[0m                                       args=model_args , use_cuda=False)\n",
            "\u001b[0;31mNameError\u001b[0m: name 'shortlisted_categories' is not defined"
          ]
        }
      ]
    },
    {
      "cell_type": "code",
      "metadata": {
        "id": "3lruV_6fRqzA"
      },
      "source": [
        "%%time\n",
        "\n",
        "train_df, eval_df = train_test_split(papers, test_size=0.1, stratify=papers[\"categories\"], random_state=42)\n",
        "\n",
        "# Train the model\n",
        "model.train_model(train_df[[\"text\", \"categories_encoded\"]])\n",
        "\n",
        "# Evaluate the model\n",
        "result, model_outputs, wrong_predictions = model.eval_model(eval_df[[\"text\", \"categories_encoded\"]])\n",
        "print(result)"
      ],
      "execution_count": null,
      "outputs": []
    },
    {
      "cell_type": "code",
      "metadata": {
        "id": "Na9gCMJMenaM"
      },
      "source": [
        "predicted_categories_encoded = list(map(lambda x: np.argmax(x), model_outputs))\n",
        "eval_gt_labels = eval_df[\"categories_encoded\"].apply(lambda x: np.argmax(x)).tolist()\n",
        "\n",
        "plt.figure(figsize=(22,18))\n",
        "cf_matrix = confusion_matrix(predicted_categories_encoded, eval_gt_labels)\n",
        "ax = sns.heatmap(cf_matrix/np.sum(cf_matrix))\n",
        "ax.set_xlabel('Predicted labels', fontsize=16)\n",
        "ax.set_ylabel('True labels', fontsize=16)\n",
        "ax.set_title('Confusion Matrix', fontsize=20)\n",
        "\n",
        "plt.show()"
      ],
      "execution_count": null,
      "outputs": []
    },
    {
      "cell_type": "code",
      "metadata": {
        "id": "5fNRWTXnetHv",
        "colab": {
          "base_uri": "https://localhost:8080/",
          "height": 246
        },
        "outputId": "6baa0ba9-a89e-4543-a151-f2ed49969016"
      },
      "source": [
        "predicted_categories_argmax = list(map(lambda x: np.argmax(x), model_outputs))\n",
        "# https://stackoverflow.com/questions/29831489/convert-array-of-indices-to-1-hot-encoded-numpy-array\n",
        "predicted_categories_encoded = np.eye(len(shortlisted_categories))[predicted_categories_argmax]\n",
        "predicted_categories = multi_label_encoder.inverse_transform(predicted_categories_encoded)\n",
        "\n",
        "eval_gt_labels = eval_df[\"categories\"].tolist()\n",
        "\n",
        "shortlisted_categories_formatted = list(map(lambda x: list(x)[0], shortlisted_categories))\n",
        "\n",
        "plt.figure(figsize=(22,18))\n",
        "cf_matrix = confusion_matrix(predicted_categories, eval_gt_labels, shortlisted_categories_formatted)\n",
        "ax = sns.heatmap(cf_matrix/np.sum(cf_matrix))\n",
        "ax.set_xlabel('Predicted labels', fontsize=18)\n",
        "ax.set_ylabel('True labels', fontsize=18)\n",
        "ax.set_title('Confusion Matrix', fontsize=20)\n",
        "ax.set_xticklabels(shortlisted_categories_formatted, rotation=90, fontsize=16)\n",
        "ax.set_yticklabels(shortlisted_categories_formatted, rotation=0, fontsize=16)\n",
        "\n",
        "plt.show()"
      ],
      "execution_count": null,
      "outputs": [
        {
          "output_type": "error",
          "ename": "NameError",
          "evalue": "ignored",
          "traceback": [
            "\u001b[0;31m---------------------------------------------------------------------------\u001b[0m",
            "\u001b[0;31mNameError\u001b[0m                                 Traceback (most recent call last)",
            "\u001b[0;32m<ipython-input-11-d1e26adc6f8e>\u001b[0m in \u001b[0;36m<module>\u001b[0;34m()\u001b[0m\n\u001b[0;32m----> 1\u001b[0;31m \u001b[0mpredicted_categories_argmax\u001b[0m \u001b[0;34m=\u001b[0m \u001b[0mlist\u001b[0m\u001b[0;34m(\u001b[0m\u001b[0mmap\u001b[0m\u001b[0;34m(\u001b[0m\u001b[0;32mlambda\u001b[0m \u001b[0mx\u001b[0m\u001b[0;34m:\u001b[0m \u001b[0mnp\u001b[0m\u001b[0;34m.\u001b[0m\u001b[0margmax\u001b[0m\u001b[0;34m(\u001b[0m\u001b[0mx\u001b[0m\u001b[0;34m)\u001b[0m\u001b[0;34m,\u001b[0m \u001b[0mmodel_outputs\u001b[0m\u001b[0;34m)\u001b[0m\u001b[0;34m)\u001b[0m\u001b[0;34m\u001b[0m\u001b[0;34m\u001b[0m\u001b[0m\n\u001b[0m\u001b[1;32m      2\u001b[0m \u001b[0;31m# https://stackoverflow.com/questions/29831489/convert-array-of-indices-to-1-hot-encoded-numpy-array\u001b[0m\u001b[0;34m\u001b[0m\u001b[0;34m\u001b[0m\u001b[0;34m\u001b[0m\u001b[0m\n\u001b[1;32m      3\u001b[0m \u001b[0mpredicted_categories_encoded\u001b[0m \u001b[0;34m=\u001b[0m \u001b[0mnp\u001b[0m\u001b[0;34m.\u001b[0m\u001b[0meye\u001b[0m\u001b[0;34m(\u001b[0m\u001b[0mlen\u001b[0m\u001b[0;34m(\u001b[0m\u001b[0mshortlisted_categories\u001b[0m\u001b[0;34m)\u001b[0m\u001b[0;34m)\u001b[0m\u001b[0;34m[\u001b[0m\u001b[0mpredicted_categories_argmax\u001b[0m\u001b[0;34m]\u001b[0m\u001b[0;34m\u001b[0m\u001b[0;34m\u001b[0m\u001b[0m\n\u001b[1;32m      4\u001b[0m \u001b[0mpredicted_categories\u001b[0m \u001b[0;34m=\u001b[0m \u001b[0mmulti_label_encoder\u001b[0m\u001b[0;34m.\u001b[0m\u001b[0minverse_transform\u001b[0m\u001b[0;34m(\u001b[0m\u001b[0mpredicted_categories_encoded\u001b[0m\u001b[0;34m)\u001b[0m\u001b[0;34m\u001b[0m\u001b[0;34m\u001b[0m\u001b[0m\n\u001b[1;32m      5\u001b[0m \u001b[0;34m\u001b[0m\u001b[0m\n",
            "\u001b[0;31mNameError\u001b[0m: name 'model_outputs' is not defined"
          ]
        }
      ]
    },
    {
      "cell_type": "code",
      "metadata": {
        "id": "TxJgLed5ewT-"
      },
      "source": [
        "for _ in range(50):\n",
        "\n",
        "    random_idx = random.randint(0, len(eval_df)-1)\n",
        "    text = eval_df.iloc[random_idx]['text']\n",
        "    true_categories = eval_df.iloc[random_idx]['categories']\n",
        "\n",
        "    # Predict with trained multilabel classification model\n",
        "    predicted_categories_encoded, raw_outputs = model.predict([text])\n",
        "    predicted_categories_encoded = np.array(predicted_categories_encoded)\n",
        "    predicted_categories_encoded[0][np.argmax(raw_outputs[0])] = 1\n",
        "    predicted_categories = multi_label_encoder.inverse_transform(predicted_categories_encoded)[0]\n",
        "\n",
        "    print(f'True Categories:'.ljust(21,' '), f'{true_categories} - {category_map[true_categories[0]]}\\n')\n",
        "    print(f'Predicted Categories: {predicted_categories} - {category_map[predicted_categories[0]]}\\n')\n",
        "    print(f'Abstract: {text}\\n\\n')"
      ],
      "execution_count": null,
      "outputs": []
    },
    {
      "cell_type": "code",
      "metadata": {
        "id": "HjX-GiGHkIrJ"
      },
      "source": [
        ""
      ],
      "execution_count": null,
      "outputs": []
    }
  ]
}