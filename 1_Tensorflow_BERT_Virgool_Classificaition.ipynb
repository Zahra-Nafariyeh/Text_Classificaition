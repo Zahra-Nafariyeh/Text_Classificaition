{
  "nbformat": 4,
  "nbformat_minor": 0,
  "metadata": {
    "colab": {
      "name": "1_Tensorflow_BERT_Virgool_Classificaition.ipynb",
      "provenance": [],
      "collapsed_sections": [],
      "include_colab_link": true
    },
    "kernelspec": {
      "name": "python3",
      "display_name": "Python 3"
    },
    "accelerator": "GPU",
    "widgets": {
      "application/vnd.jupyter.widget-state+json": {
        "a3b6b0533f8d4dc2b7a26c03f8cba244": {
          "model_module": "@jupyter-widgets/controls",
          "model_name": "HBoxModel",
          "state": {
            "_view_name": "HBoxView",
            "_dom_classes": [],
            "_model_name": "HBoxModel",
            "_view_module": "@jupyter-widgets/controls",
            "_model_module_version": "1.5.0",
            "_view_count": null,
            "_view_module_version": "1.5.0",
            "box_style": "",
            "layout": "IPY_MODEL_c420aadb6ac54725bc73d37ce285e17f",
            "_model_module": "@jupyter-widgets/controls",
            "children": [
              "IPY_MODEL_d4efbe51a25341f28a7463076a4a9320",
              "IPY_MODEL_99e443eea5634dd19866bc8bb9c419ce"
            ]
          }
        },
        "c420aadb6ac54725bc73d37ce285e17f": {
          "model_module": "@jupyter-widgets/base",
          "model_name": "LayoutModel",
          "state": {
            "_view_name": "LayoutView",
            "grid_template_rows": null,
            "right": null,
            "justify_content": null,
            "_view_module": "@jupyter-widgets/base",
            "overflow": null,
            "_model_module_version": "1.2.0",
            "_view_count": null,
            "flex_flow": null,
            "width": null,
            "min_width": null,
            "border": null,
            "align_items": null,
            "bottom": null,
            "_model_module": "@jupyter-widgets/base",
            "top": null,
            "grid_column": null,
            "overflow_y": null,
            "overflow_x": null,
            "grid_auto_flow": null,
            "grid_area": null,
            "grid_template_columns": null,
            "flex": null,
            "_model_name": "LayoutModel",
            "justify_items": null,
            "grid_row": null,
            "max_height": null,
            "align_content": null,
            "visibility": null,
            "align_self": null,
            "height": null,
            "min_height": null,
            "padding": null,
            "grid_auto_rows": null,
            "grid_gap": null,
            "max_width": null,
            "order": null,
            "_view_module_version": "1.2.0",
            "grid_template_areas": null,
            "object_position": null,
            "object_fit": null,
            "grid_auto_columns": null,
            "margin": null,
            "display": null,
            "left": null
          }
        },
        "d4efbe51a25341f28a7463076a4a9320": {
          "model_module": "@jupyter-widgets/controls",
          "model_name": "FloatProgressModel",
          "state": {
            "_view_name": "ProgressView",
            "style": "IPY_MODEL_5a203e915baa426a8b88dc5ea2678eeb",
            "_dom_classes": [],
            "description": "Downloading: 100%",
            "_model_name": "FloatProgressModel",
            "bar_style": "success",
            "max": 1198122,
            "_view_module": "@jupyter-widgets/controls",
            "_model_module_version": "1.5.0",
            "value": 1198122,
            "_view_count": null,
            "_view_module_version": "1.5.0",
            "orientation": "horizontal",
            "min": 0,
            "description_tooltip": null,
            "_model_module": "@jupyter-widgets/controls",
            "layout": "IPY_MODEL_8de0d32ee1dd4b3ea97ae4379eb609fd"
          }
        },
        "99e443eea5634dd19866bc8bb9c419ce": {
          "model_module": "@jupyter-widgets/controls",
          "model_name": "HTMLModel",
          "state": {
            "_view_name": "HTMLView",
            "style": "IPY_MODEL_bffc8b399f9c4c1cba9fbf04cbbdc2b9",
            "_dom_classes": [],
            "description": "",
            "_model_name": "HTMLModel",
            "placeholder": "​",
            "_view_module": "@jupyter-widgets/controls",
            "_model_module_version": "1.5.0",
            "value": " 1.20M/1.20M [00:00&lt;00:00, 1.84MB/s]",
            "_view_count": null,
            "_view_module_version": "1.5.0",
            "description_tooltip": null,
            "_model_module": "@jupyter-widgets/controls",
            "layout": "IPY_MODEL_9054f71e5a3e487887df81f33c9ca392"
          }
        },
        "5a203e915baa426a8b88dc5ea2678eeb": {
          "model_module": "@jupyter-widgets/controls",
          "model_name": "ProgressStyleModel",
          "state": {
            "_view_name": "StyleView",
            "_model_name": "ProgressStyleModel",
            "description_width": "initial",
            "_view_module": "@jupyter-widgets/base",
            "_model_module_version": "1.5.0",
            "_view_count": null,
            "_view_module_version": "1.2.0",
            "bar_color": null,
            "_model_module": "@jupyter-widgets/controls"
          }
        },
        "8de0d32ee1dd4b3ea97ae4379eb609fd": {
          "model_module": "@jupyter-widgets/base",
          "model_name": "LayoutModel",
          "state": {
            "_view_name": "LayoutView",
            "grid_template_rows": null,
            "right": null,
            "justify_content": null,
            "_view_module": "@jupyter-widgets/base",
            "overflow": null,
            "_model_module_version": "1.2.0",
            "_view_count": null,
            "flex_flow": null,
            "width": null,
            "min_width": null,
            "border": null,
            "align_items": null,
            "bottom": null,
            "_model_module": "@jupyter-widgets/base",
            "top": null,
            "grid_column": null,
            "overflow_y": null,
            "overflow_x": null,
            "grid_auto_flow": null,
            "grid_area": null,
            "grid_template_columns": null,
            "flex": null,
            "_model_name": "LayoutModel",
            "justify_items": null,
            "grid_row": null,
            "max_height": null,
            "align_content": null,
            "visibility": null,
            "align_self": null,
            "height": null,
            "min_height": null,
            "padding": null,
            "grid_auto_rows": null,
            "grid_gap": null,
            "max_width": null,
            "order": null,
            "_view_module_version": "1.2.0",
            "grid_template_areas": null,
            "object_position": null,
            "object_fit": null,
            "grid_auto_columns": null,
            "margin": null,
            "display": null,
            "left": null
          }
        },
        "bffc8b399f9c4c1cba9fbf04cbbdc2b9": {
          "model_module": "@jupyter-widgets/controls",
          "model_name": "DescriptionStyleModel",
          "state": {
            "_view_name": "StyleView",
            "_model_name": "DescriptionStyleModel",
            "description_width": "",
            "_view_module": "@jupyter-widgets/base",
            "_model_module_version": "1.5.0",
            "_view_count": null,
            "_view_module_version": "1.2.0",
            "_model_module": "@jupyter-widgets/controls"
          }
        },
        "9054f71e5a3e487887df81f33c9ca392": {
          "model_module": "@jupyter-widgets/base",
          "model_name": "LayoutModel",
          "state": {
            "_view_name": "LayoutView",
            "grid_template_rows": null,
            "right": null,
            "justify_content": null,
            "_view_module": "@jupyter-widgets/base",
            "overflow": null,
            "_model_module_version": "1.2.0",
            "_view_count": null,
            "flex_flow": null,
            "width": null,
            "min_width": null,
            "border": null,
            "align_items": null,
            "bottom": null,
            "_model_module": "@jupyter-widgets/base",
            "top": null,
            "grid_column": null,
            "overflow_y": null,
            "overflow_x": null,
            "grid_auto_flow": null,
            "grid_area": null,
            "grid_template_columns": null,
            "flex": null,
            "_model_name": "LayoutModel",
            "justify_items": null,
            "grid_row": null,
            "max_height": null,
            "align_content": null,
            "visibility": null,
            "align_self": null,
            "height": null,
            "min_height": null,
            "padding": null,
            "grid_auto_rows": null,
            "grid_gap": null,
            "max_width": null,
            "order": null,
            "_view_module_version": "1.2.0",
            "grid_template_areas": null,
            "object_position": null,
            "object_fit": null,
            "grid_auto_columns": null,
            "margin": null,
            "display": null,
            "left": null
          }
        },
        "8b731623c43c4055a6ed772f2f0fb506": {
          "model_module": "@jupyter-widgets/controls",
          "model_name": "HBoxModel",
          "state": {
            "_view_name": "HBoxView",
            "_dom_classes": [],
            "_model_name": "HBoxModel",
            "_view_module": "@jupyter-widgets/controls",
            "_model_module_version": "1.5.0",
            "_view_count": null,
            "_view_module_version": "1.5.0",
            "box_style": "",
            "layout": "IPY_MODEL_0066f0c6b95c46a59bc9494a9f300dd4",
            "_model_module": "@jupyter-widgets/controls",
            "children": [
              "IPY_MODEL_cd72d3aaab614e02ac7b2919f40a6d37",
              "IPY_MODEL_5151c90ee96f4a13a541a12600862884"
            ]
          }
        },
        "0066f0c6b95c46a59bc9494a9f300dd4": {
          "model_module": "@jupyter-widgets/base",
          "model_name": "LayoutModel",
          "state": {
            "_view_name": "LayoutView",
            "grid_template_rows": null,
            "right": null,
            "justify_content": null,
            "_view_module": "@jupyter-widgets/base",
            "overflow": null,
            "_model_module_version": "1.2.0",
            "_view_count": null,
            "flex_flow": null,
            "width": null,
            "min_width": null,
            "border": null,
            "align_items": null,
            "bottom": null,
            "_model_module": "@jupyter-widgets/base",
            "top": null,
            "grid_column": null,
            "overflow_y": null,
            "overflow_x": null,
            "grid_auto_flow": null,
            "grid_area": null,
            "grid_template_columns": null,
            "flex": null,
            "_model_name": "LayoutModel",
            "justify_items": null,
            "grid_row": null,
            "max_height": null,
            "align_content": null,
            "visibility": null,
            "align_self": null,
            "height": null,
            "min_height": null,
            "padding": null,
            "grid_auto_rows": null,
            "grid_gap": null,
            "max_width": null,
            "order": null,
            "_view_module_version": "1.2.0",
            "grid_template_areas": null,
            "object_position": null,
            "object_fit": null,
            "grid_auto_columns": null,
            "margin": null,
            "display": null,
            "left": null
          }
        },
        "cd72d3aaab614e02ac7b2919f40a6d37": {
          "model_module": "@jupyter-widgets/controls",
          "model_name": "FloatProgressModel",
          "state": {
            "_view_name": "ProgressView",
            "style": "IPY_MODEL_a005b10148a14e11b9817535fac63b92",
            "_dom_classes": [],
            "description": "Downloading: 100%",
            "_model_name": "FloatProgressModel",
            "bar_style": "success",
            "max": 440,
            "_view_module": "@jupyter-widgets/controls",
            "_model_module_version": "1.5.0",
            "value": 440,
            "_view_count": null,
            "_view_module_version": "1.5.0",
            "orientation": "horizontal",
            "min": 0,
            "description_tooltip": null,
            "_model_module": "@jupyter-widgets/controls",
            "layout": "IPY_MODEL_d7d6cfa6fa67422ea1d47155231bdc01"
          }
        },
        "5151c90ee96f4a13a541a12600862884": {
          "model_module": "@jupyter-widgets/controls",
          "model_name": "HTMLModel",
          "state": {
            "_view_name": "HTMLView",
            "style": "IPY_MODEL_1509ec5c22bd4ba3920db583d6d9cbdc",
            "_dom_classes": [],
            "description": "",
            "_model_name": "HTMLModel",
            "placeholder": "​",
            "_view_module": "@jupyter-widgets/controls",
            "_model_module_version": "1.5.0",
            "value": " 440/440 [00:00&lt;00:00, 3.93kB/s]",
            "_view_count": null,
            "_view_module_version": "1.5.0",
            "description_tooltip": null,
            "_model_module": "@jupyter-widgets/controls",
            "layout": "IPY_MODEL_a91ccd25ebe946b5a2e2dd94b43c39e1"
          }
        },
        "a005b10148a14e11b9817535fac63b92": {
          "model_module": "@jupyter-widgets/controls",
          "model_name": "ProgressStyleModel",
          "state": {
            "_view_name": "StyleView",
            "_model_name": "ProgressStyleModel",
            "description_width": "initial",
            "_view_module": "@jupyter-widgets/base",
            "_model_module_version": "1.5.0",
            "_view_count": null,
            "_view_module_version": "1.2.0",
            "bar_color": null,
            "_model_module": "@jupyter-widgets/controls"
          }
        },
        "d7d6cfa6fa67422ea1d47155231bdc01": {
          "model_module": "@jupyter-widgets/base",
          "model_name": "LayoutModel",
          "state": {
            "_view_name": "LayoutView",
            "grid_template_rows": null,
            "right": null,
            "justify_content": null,
            "_view_module": "@jupyter-widgets/base",
            "overflow": null,
            "_model_module_version": "1.2.0",
            "_view_count": null,
            "flex_flow": null,
            "width": null,
            "min_width": null,
            "border": null,
            "align_items": null,
            "bottom": null,
            "_model_module": "@jupyter-widgets/base",
            "top": null,
            "grid_column": null,
            "overflow_y": null,
            "overflow_x": null,
            "grid_auto_flow": null,
            "grid_area": null,
            "grid_template_columns": null,
            "flex": null,
            "_model_name": "LayoutModel",
            "justify_items": null,
            "grid_row": null,
            "max_height": null,
            "align_content": null,
            "visibility": null,
            "align_self": null,
            "height": null,
            "min_height": null,
            "padding": null,
            "grid_auto_rows": null,
            "grid_gap": null,
            "max_width": null,
            "order": null,
            "_view_module_version": "1.2.0",
            "grid_template_areas": null,
            "object_position": null,
            "object_fit": null,
            "grid_auto_columns": null,
            "margin": null,
            "display": null,
            "left": null
          }
        },
        "1509ec5c22bd4ba3920db583d6d9cbdc": {
          "model_module": "@jupyter-widgets/controls",
          "model_name": "DescriptionStyleModel",
          "state": {
            "_view_name": "StyleView",
            "_model_name": "DescriptionStyleModel",
            "description_width": "",
            "_view_module": "@jupyter-widgets/base",
            "_model_module_version": "1.5.0",
            "_view_count": null,
            "_view_module_version": "1.2.0",
            "_model_module": "@jupyter-widgets/controls"
          }
        },
        "a91ccd25ebe946b5a2e2dd94b43c39e1": {
          "model_module": "@jupyter-widgets/base",
          "model_name": "LayoutModel",
          "state": {
            "_view_name": "LayoutView",
            "grid_template_rows": null,
            "right": null,
            "justify_content": null,
            "_view_module": "@jupyter-widgets/base",
            "overflow": null,
            "_model_module_version": "1.2.0",
            "_view_count": null,
            "flex_flow": null,
            "width": null,
            "min_width": null,
            "border": null,
            "align_items": null,
            "bottom": null,
            "_model_module": "@jupyter-widgets/base",
            "top": null,
            "grid_column": null,
            "overflow_y": null,
            "overflow_x": null,
            "grid_auto_flow": null,
            "grid_area": null,
            "grid_template_columns": null,
            "flex": null,
            "_model_name": "LayoutModel",
            "justify_items": null,
            "grid_row": null,
            "max_height": null,
            "align_content": null,
            "visibility": null,
            "align_self": null,
            "height": null,
            "min_height": null,
            "padding": null,
            "grid_auto_rows": null,
            "grid_gap": null,
            "max_width": null,
            "order": null,
            "_view_module_version": "1.2.0",
            "grid_template_areas": null,
            "object_position": null,
            "object_fit": null,
            "grid_auto_columns": null,
            "margin": null,
            "display": null,
            "left": null
          }
        },
        "fdb68f66ba454915a6728f84b26ae7f1": {
          "model_module": "@jupyter-widgets/controls",
          "model_name": "HBoxModel",
          "state": {
            "_view_name": "HBoxView",
            "_dom_classes": [],
            "_model_name": "HBoxModel",
            "_view_module": "@jupyter-widgets/controls",
            "_model_module_version": "1.5.0",
            "_view_count": null,
            "_view_module_version": "1.5.0",
            "box_style": "",
            "layout": "IPY_MODEL_284dc972a1204bd5a4ab276636f896c8",
            "_model_module": "@jupyter-widgets/controls",
            "children": [
              "IPY_MODEL_74d0a87ab2454d8e9747b48fe1ebdb86",
              "IPY_MODEL_5ecbf666256643449404d7cbe15c2f0d"
            ]
          }
        },
        "284dc972a1204bd5a4ab276636f896c8": {
          "model_module": "@jupyter-widgets/base",
          "model_name": "LayoutModel",
          "state": {
            "_view_name": "LayoutView",
            "grid_template_rows": null,
            "right": null,
            "justify_content": null,
            "_view_module": "@jupyter-widgets/base",
            "overflow": null,
            "_model_module_version": "1.2.0",
            "_view_count": null,
            "flex_flow": null,
            "width": null,
            "min_width": null,
            "border": null,
            "align_items": null,
            "bottom": null,
            "_model_module": "@jupyter-widgets/base",
            "top": null,
            "grid_column": null,
            "overflow_y": null,
            "overflow_x": null,
            "grid_auto_flow": null,
            "grid_area": null,
            "grid_template_columns": null,
            "flex": null,
            "_model_name": "LayoutModel",
            "justify_items": null,
            "grid_row": null,
            "max_height": null,
            "align_content": null,
            "visibility": null,
            "align_self": null,
            "height": null,
            "min_height": null,
            "padding": null,
            "grid_auto_rows": null,
            "grid_gap": null,
            "max_width": null,
            "order": null,
            "_view_module_version": "1.2.0",
            "grid_template_areas": null,
            "object_position": null,
            "object_fit": null,
            "grid_auto_columns": null,
            "margin": null,
            "display": null,
            "left": null
          }
        },
        "74d0a87ab2454d8e9747b48fe1ebdb86": {
          "model_module": "@jupyter-widgets/controls",
          "model_name": "FloatProgressModel",
          "state": {
            "_view_name": "ProgressView",
            "style": "IPY_MODEL_4f29168bcb0b4a1bb62c57906b1fb5b8",
            "_dom_classes": [],
            "description": "100%",
            "_model_name": "FloatProgressModel",
            "bar_style": "success",
            "max": 16661,
            "_view_module": "@jupyter-widgets/controls",
            "_model_module_version": "1.5.0",
            "value": 16661,
            "_view_count": null,
            "_view_module_version": "1.5.0",
            "orientation": "horizontal",
            "min": 0,
            "description_tooltip": null,
            "_model_module": "@jupyter-widgets/controls",
            "layout": "IPY_MODEL_b26cab6463e146ddb0a801a7f315611b"
          }
        },
        "5ecbf666256643449404d7cbe15c2f0d": {
          "model_module": "@jupyter-widgets/controls",
          "model_name": "HTMLModel",
          "state": {
            "_view_name": "HTMLView",
            "style": "IPY_MODEL_87b1273234a54234981c387733f64d31",
            "_dom_classes": [],
            "description": "",
            "_model_name": "HTMLModel",
            "placeholder": "​",
            "_view_module": "@jupyter-widgets/controls",
            "_model_module_version": "1.5.0",
            "value": " 16661/16661 [00:35&lt;00:00, 464.29it/s]",
            "_view_count": null,
            "_view_module_version": "1.5.0",
            "description_tooltip": null,
            "_model_module": "@jupyter-widgets/controls",
            "layout": "IPY_MODEL_6c82bdbb1e014db7a070a939d9839f17"
          }
        },
        "4f29168bcb0b4a1bb62c57906b1fb5b8": {
          "model_module": "@jupyter-widgets/controls",
          "model_name": "ProgressStyleModel",
          "state": {
            "_view_name": "StyleView",
            "_model_name": "ProgressStyleModel",
            "description_width": "initial",
            "_view_module": "@jupyter-widgets/base",
            "_model_module_version": "1.5.0",
            "_view_count": null,
            "_view_module_version": "1.2.0",
            "bar_color": null,
            "_model_module": "@jupyter-widgets/controls"
          }
        },
        "b26cab6463e146ddb0a801a7f315611b": {
          "model_module": "@jupyter-widgets/base",
          "model_name": "LayoutModel",
          "state": {
            "_view_name": "LayoutView",
            "grid_template_rows": null,
            "right": null,
            "justify_content": null,
            "_view_module": "@jupyter-widgets/base",
            "overflow": null,
            "_model_module_version": "1.2.0",
            "_view_count": null,
            "flex_flow": null,
            "width": null,
            "min_width": null,
            "border": null,
            "align_items": null,
            "bottom": null,
            "_model_module": "@jupyter-widgets/base",
            "top": null,
            "grid_column": null,
            "overflow_y": null,
            "overflow_x": null,
            "grid_auto_flow": null,
            "grid_area": null,
            "grid_template_columns": null,
            "flex": null,
            "_model_name": "LayoutModel",
            "justify_items": null,
            "grid_row": null,
            "max_height": null,
            "align_content": null,
            "visibility": null,
            "align_self": null,
            "height": null,
            "min_height": null,
            "padding": null,
            "grid_auto_rows": null,
            "grid_gap": null,
            "max_width": null,
            "order": null,
            "_view_module_version": "1.2.0",
            "grid_template_areas": null,
            "object_position": null,
            "object_fit": null,
            "grid_auto_columns": null,
            "margin": null,
            "display": null,
            "left": null
          }
        },
        "87b1273234a54234981c387733f64d31": {
          "model_module": "@jupyter-widgets/controls",
          "model_name": "DescriptionStyleModel",
          "state": {
            "_view_name": "StyleView",
            "_model_name": "DescriptionStyleModel",
            "description_width": "",
            "_view_module": "@jupyter-widgets/base",
            "_model_module_version": "1.5.0",
            "_view_count": null,
            "_view_module_version": "1.2.0",
            "_model_module": "@jupyter-widgets/controls"
          }
        },
        "6c82bdbb1e014db7a070a939d9839f17": {
          "model_module": "@jupyter-widgets/base",
          "model_name": "LayoutModel",
          "state": {
            "_view_name": "LayoutView",
            "grid_template_rows": null,
            "right": null,
            "justify_content": null,
            "_view_module": "@jupyter-widgets/base",
            "overflow": null,
            "_model_module_version": "1.2.0",
            "_view_count": null,
            "flex_flow": null,
            "width": null,
            "min_width": null,
            "border": null,
            "align_items": null,
            "bottom": null,
            "_model_module": "@jupyter-widgets/base",
            "top": null,
            "grid_column": null,
            "overflow_y": null,
            "overflow_x": null,
            "grid_auto_flow": null,
            "grid_area": null,
            "grid_template_columns": null,
            "flex": null,
            "_model_name": "LayoutModel",
            "justify_items": null,
            "grid_row": null,
            "max_height": null,
            "align_content": null,
            "visibility": null,
            "align_self": null,
            "height": null,
            "min_height": null,
            "padding": null,
            "grid_auto_rows": null,
            "grid_gap": null,
            "max_width": null,
            "order": null,
            "_view_module_version": "1.2.0",
            "grid_template_areas": null,
            "object_position": null,
            "object_fit": null,
            "grid_auto_columns": null,
            "margin": null,
            "display": null,
            "left": null
          }
        },
        "86e7c63e0cdc4025871d05696079b509": {
          "model_module": "@jupyter-widgets/controls",
          "model_name": "HBoxModel",
          "state": {
            "_view_name": "HBoxView",
            "_dom_classes": [],
            "_model_name": "HBoxModel",
            "_view_module": "@jupyter-widgets/controls",
            "_model_module_version": "1.5.0",
            "_view_count": null,
            "_view_module_version": "1.5.0",
            "box_style": "",
            "layout": "IPY_MODEL_7e58e44b2246424e89ce86f1e133afdd",
            "_model_module": "@jupyter-widgets/controls",
            "children": [
              "IPY_MODEL_1e958b8d9d254e549f52ecffe59128e1",
              "IPY_MODEL_c3736dbbae3d48dab669516de72d666b"
            ]
          }
        },
        "7e58e44b2246424e89ce86f1e133afdd": {
          "model_module": "@jupyter-widgets/base",
          "model_name": "LayoutModel",
          "state": {
            "_view_name": "LayoutView",
            "grid_template_rows": null,
            "right": null,
            "justify_content": null,
            "_view_module": "@jupyter-widgets/base",
            "overflow": null,
            "_model_module_version": "1.2.0",
            "_view_count": null,
            "flex_flow": null,
            "width": null,
            "min_width": null,
            "border": null,
            "align_items": null,
            "bottom": null,
            "_model_module": "@jupyter-widgets/base",
            "top": null,
            "grid_column": null,
            "overflow_y": null,
            "overflow_x": null,
            "grid_auto_flow": null,
            "grid_area": null,
            "grid_template_columns": null,
            "flex": null,
            "_model_name": "LayoutModel",
            "justify_items": null,
            "grid_row": null,
            "max_height": null,
            "align_content": null,
            "visibility": null,
            "align_self": null,
            "height": null,
            "min_height": null,
            "padding": null,
            "grid_auto_rows": null,
            "grid_gap": null,
            "max_width": null,
            "order": null,
            "_view_module_version": "1.2.0",
            "grid_template_areas": null,
            "object_position": null,
            "object_fit": null,
            "grid_auto_columns": null,
            "margin": null,
            "display": null,
            "left": null
          }
        },
        "1e958b8d9d254e549f52ecffe59128e1": {
          "model_module": "@jupyter-widgets/controls",
          "model_name": "FloatProgressModel",
          "state": {
            "_view_name": "ProgressView",
            "style": "IPY_MODEL_8fd8ce9db53e46c986bb0d0239ebbaf0",
            "_dom_classes": [],
            "description": "100%",
            "_model_name": "FloatProgressModel",
            "bar_style": "success",
            "max": 16661,
            "_view_module": "@jupyter-widgets/controls",
            "_model_module_version": "1.5.0",
            "value": 16661,
            "_view_count": null,
            "_view_module_version": "1.5.0",
            "orientation": "horizontal",
            "min": 0,
            "description_tooltip": null,
            "_model_module": "@jupyter-widgets/controls",
            "layout": "IPY_MODEL_6529a900f6ca4591baa23e27c180876e"
          }
        },
        "c3736dbbae3d48dab669516de72d666b": {
          "model_module": "@jupyter-widgets/controls",
          "model_name": "HTMLModel",
          "state": {
            "_view_name": "HTMLView",
            "style": "IPY_MODEL_36efcca8d7314819816e220082d17e16",
            "_dom_classes": [],
            "description": "",
            "_model_name": "HTMLModel",
            "placeholder": "​",
            "_view_module": "@jupyter-widgets/controls",
            "_model_module_version": "1.5.0",
            "value": " 16661/16661 [00:05&lt;00:00, 2842.66it/s]",
            "_view_count": null,
            "_view_module_version": "1.5.0",
            "description_tooltip": null,
            "_model_module": "@jupyter-widgets/controls",
            "layout": "IPY_MODEL_b834cc657c894c438f924c0f8e5a2509"
          }
        },
        "8fd8ce9db53e46c986bb0d0239ebbaf0": {
          "model_module": "@jupyter-widgets/controls",
          "model_name": "ProgressStyleModel",
          "state": {
            "_view_name": "StyleView",
            "_model_name": "ProgressStyleModel",
            "description_width": "initial",
            "_view_module": "@jupyter-widgets/base",
            "_model_module_version": "1.5.0",
            "_view_count": null,
            "_view_module_version": "1.2.0",
            "bar_color": null,
            "_model_module": "@jupyter-widgets/controls"
          }
        },
        "6529a900f6ca4591baa23e27c180876e": {
          "model_module": "@jupyter-widgets/base",
          "model_name": "LayoutModel",
          "state": {
            "_view_name": "LayoutView",
            "grid_template_rows": null,
            "right": null,
            "justify_content": null,
            "_view_module": "@jupyter-widgets/base",
            "overflow": null,
            "_model_module_version": "1.2.0",
            "_view_count": null,
            "flex_flow": null,
            "width": null,
            "min_width": null,
            "border": null,
            "align_items": null,
            "bottom": null,
            "_model_module": "@jupyter-widgets/base",
            "top": null,
            "grid_column": null,
            "overflow_y": null,
            "overflow_x": null,
            "grid_auto_flow": null,
            "grid_area": null,
            "grid_template_columns": null,
            "flex": null,
            "_model_name": "LayoutModel",
            "justify_items": null,
            "grid_row": null,
            "max_height": null,
            "align_content": null,
            "visibility": null,
            "align_self": null,
            "height": null,
            "min_height": null,
            "padding": null,
            "grid_auto_rows": null,
            "grid_gap": null,
            "max_width": null,
            "order": null,
            "_view_module_version": "1.2.0",
            "grid_template_areas": null,
            "object_position": null,
            "object_fit": null,
            "grid_auto_columns": null,
            "margin": null,
            "display": null,
            "left": null
          }
        },
        "36efcca8d7314819816e220082d17e16": {
          "model_module": "@jupyter-widgets/controls",
          "model_name": "DescriptionStyleModel",
          "state": {
            "_view_name": "StyleView",
            "_model_name": "DescriptionStyleModel",
            "description_width": "",
            "_view_module": "@jupyter-widgets/base",
            "_model_module_version": "1.5.0",
            "_view_count": null,
            "_view_module_version": "1.2.0",
            "_model_module": "@jupyter-widgets/controls"
          }
        },
        "b834cc657c894c438f924c0f8e5a2509": {
          "model_module": "@jupyter-widgets/base",
          "model_name": "LayoutModel",
          "state": {
            "_view_name": "LayoutView",
            "grid_template_rows": null,
            "right": null,
            "justify_content": null,
            "_view_module": "@jupyter-widgets/base",
            "overflow": null,
            "_model_module_version": "1.2.0",
            "_view_count": null,
            "flex_flow": null,
            "width": null,
            "min_width": null,
            "border": null,
            "align_items": null,
            "bottom": null,
            "_model_module": "@jupyter-widgets/base",
            "top": null,
            "grid_column": null,
            "overflow_y": null,
            "overflow_x": null,
            "grid_auto_flow": null,
            "grid_area": null,
            "grid_template_columns": null,
            "flex": null,
            "_model_name": "LayoutModel",
            "justify_items": null,
            "grid_row": null,
            "max_height": null,
            "align_content": null,
            "visibility": null,
            "align_self": null,
            "height": null,
            "min_height": null,
            "padding": null,
            "grid_auto_rows": null,
            "grid_gap": null,
            "max_width": null,
            "order": null,
            "_view_module_version": "1.2.0",
            "grid_template_areas": null,
            "object_position": null,
            "object_fit": null,
            "grid_auto_columns": null,
            "margin": null,
            "display": null,
            "left": null
          }
        },
        "f9792ce7e25145edbb5a89a763211962": {
          "model_module": "@jupyter-widgets/controls",
          "model_name": "HBoxModel",
          "state": {
            "_view_name": "HBoxView",
            "_dom_classes": [],
            "_model_name": "HBoxModel",
            "_view_module": "@jupyter-widgets/controls",
            "_model_module_version": "1.5.0",
            "_view_count": null,
            "_view_module_version": "1.5.0",
            "box_style": "",
            "layout": "IPY_MODEL_4bf0bb97a68449119146ca045cf4dcc9",
            "_model_module": "@jupyter-widgets/controls",
            "children": [
              "IPY_MODEL_f3645e7ecb7448cf9208bb377b92c83e",
              "IPY_MODEL_57e79fd02a424782a3a430f58474cab6"
            ]
          }
        },
        "4bf0bb97a68449119146ca045cf4dcc9": {
          "model_module": "@jupyter-widgets/base",
          "model_name": "LayoutModel",
          "state": {
            "_view_name": "LayoutView",
            "grid_template_rows": null,
            "right": null,
            "justify_content": null,
            "_view_module": "@jupyter-widgets/base",
            "overflow": null,
            "_model_module_version": "1.2.0",
            "_view_count": null,
            "flex_flow": null,
            "width": null,
            "min_width": null,
            "border": null,
            "align_items": null,
            "bottom": null,
            "_model_module": "@jupyter-widgets/base",
            "top": null,
            "grid_column": null,
            "overflow_y": null,
            "overflow_x": null,
            "grid_auto_flow": null,
            "grid_area": null,
            "grid_template_columns": null,
            "flex": null,
            "_model_name": "LayoutModel",
            "justify_items": null,
            "grid_row": null,
            "max_height": null,
            "align_content": null,
            "visibility": null,
            "align_self": null,
            "height": null,
            "min_height": null,
            "padding": null,
            "grid_auto_rows": null,
            "grid_gap": null,
            "max_width": null,
            "order": null,
            "_view_module_version": "1.2.0",
            "grid_template_areas": null,
            "object_position": null,
            "object_fit": null,
            "grid_auto_columns": null,
            "margin": null,
            "display": null,
            "left": null
          }
        },
        "f3645e7ecb7448cf9208bb377b92c83e": {
          "model_module": "@jupyter-widgets/controls",
          "model_name": "FloatProgressModel",
          "state": {
            "_view_name": "ProgressView",
            "style": "IPY_MODEL_f01e320fa4cf4ee0ae85fe9a0ef90921",
            "_dom_classes": [],
            "description": "100%",
            "_model_name": "FloatProgressModel",
            "bar_style": "success",
            "max": 1852,
            "_view_module": "@jupyter-widgets/controls",
            "_model_module_version": "1.5.0",
            "value": 1852,
            "_view_count": null,
            "_view_module_version": "1.5.0",
            "orientation": "horizontal",
            "min": 0,
            "description_tooltip": null,
            "_model_module": "@jupyter-widgets/controls",
            "layout": "IPY_MODEL_183ab83d9cf14db5a8cf65f58882c901"
          }
        },
        "57e79fd02a424782a3a430f58474cab6": {
          "model_module": "@jupyter-widgets/controls",
          "model_name": "HTMLModel",
          "state": {
            "_view_name": "HTMLView",
            "style": "IPY_MODEL_ba573aa17dde465c826d6d8783aa61f6",
            "_dom_classes": [],
            "description": "",
            "_model_name": "HTMLModel",
            "placeholder": "​",
            "_view_module": "@jupyter-widgets/controls",
            "_model_module_version": "1.5.0",
            "value": " 1852/1852 [00:09&lt;00:00, 204.06it/s]",
            "_view_count": null,
            "_view_module_version": "1.5.0",
            "description_tooltip": null,
            "_model_module": "@jupyter-widgets/controls",
            "layout": "IPY_MODEL_45a5faa0351c4e1ca6d7f14cc1d3347a"
          }
        },
        "f01e320fa4cf4ee0ae85fe9a0ef90921": {
          "model_module": "@jupyter-widgets/controls",
          "model_name": "ProgressStyleModel",
          "state": {
            "_view_name": "StyleView",
            "_model_name": "ProgressStyleModel",
            "description_width": "initial",
            "_view_module": "@jupyter-widgets/base",
            "_model_module_version": "1.5.0",
            "_view_count": null,
            "_view_module_version": "1.2.0",
            "bar_color": null,
            "_model_module": "@jupyter-widgets/controls"
          }
        },
        "183ab83d9cf14db5a8cf65f58882c901": {
          "model_module": "@jupyter-widgets/base",
          "model_name": "LayoutModel",
          "state": {
            "_view_name": "LayoutView",
            "grid_template_rows": null,
            "right": null,
            "justify_content": null,
            "_view_module": "@jupyter-widgets/base",
            "overflow": null,
            "_model_module_version": "1.2.0",
            "_view_count": null,
            "flex_flow": null,
            "width": null,
            "min_width": null,
            "border": null,
            "align_items": null,
            "bottom": null,
            "_model_module": "@jupyter-widgets/base",
            "top": null,
            "grid_column": null,
            "overflow_y": null,
            "overflow_x": null,
            "grid_auto_flow": null,
            "grid_area": null,
            "grid_template_columns": null,
            "flex": null,
            "_model_name": "LayoutModel",
            "justify_items": null,
            "grid_row": null,
            "max_height": null,
            "align_content": null,
            "visibility": null,
            "align_self": null,
            "height": null,
            "min_height": null,
            "padding": null,
            "grid_auto_rows": null,
            "grid_gap": null,
            "max_width": null,
            "order": null,
            "_view_module_version": "1.2.0",
            "grid_template_areas": null,
            "object_position": null,
            "object_fit": null,
            "grid_auto_columns": null,
            "margin": null,
            "display": null,
            "left": null
          }
        },
        "ba573aa17dde465c826d6d8783aa61f6": {
          "model_module": "@jupyter-widgets/controls",
          "model_name": "DescriptionStyleModel",
          "state": {
            "_view_name": "StyleView",
            "_model_name": "DescriptionStyleModel",
            "description_width": "",
            "_view_module": "@jupyter-widgets/base",
            "_model_module_version": "1.5.0",
            "_view_count": null,
            "_view_module_version": "1.2.0",
            "_model_module": "@jupyter-widgets/controls"
          }
        },
        "45a5faa0351c4e1ca6d7f14cc1d3347a": {
          "model_module": "@jupyter-widgets/base",
          "model_name": "LayoutModel",
          "state": {
            "_view_name": "LayoutView",
            "grid_template_rows": null,
            "right": null,
            "justify_content": null,
            "_view_module": "@jupyter-widgets/base",
            "overflow": null,
            "_model_module_version": "1.2.0",
            "_view_count": null,
            "flex_flow": null,
            "width": null,
            "min_width": null,
            "border": null,
            "align_items": null,
            "bottom": null,
            "_model_module": "@jupyter-widgets/base",
            "top": null,
            "grid_column": null,
            "overflow_y": null,
            "overflow_x": null,
            "grid_auto_flow": null,
            "grid_area": null,
            "grid_template_columns": null,
            "flex": null,
            "_model_name": "LayoutModel",
            "justify_items": null,
            "grid_row": null,
            "max_height": null,
            "align_content": null,
            "visibility": null,
            "align_self": null,
            "height": null,
            "min_height": null,
            "padding": null,
            "grid_auto_rows": null,
            "grid_gap": null,
            "max_width": null,
            "order": null,
            "_view_module_version": "1.2.0",
            "grid_template_areas": null,
            "object_position": null,
            "object_fit": null,
            "grid_auto_columns": null,
            "margin": null,
            "display": null,
            "left": null
          }
        },
        "699444ba5214485492b807772caafc30": {
          "model_module": "@jupyter-widgets/controls",
          "model_name": "HBoxModel",
          "state": {
            "_view_name": "HBoxView",
            "_dom_classes": [],
            "_model_name": "HBoxModel",
            "_view_module": "@jupyter-widgets/controls",
            "_model_module_version": "1.5.0",
            "_view_count": null,
            "_view_module_version": "1.5.0",
            "box_style": "",
            "layout": "IPY_MODEL_65a6f2c300ec481a87b26db16e1292aa",
            "_model_module": "@jupyter-widgets/controls",
            "children": [
              "IPY_MODEL_de0be684a2e9406e89d4458c134ce615",
              "IPY_MODEL_b482cb4b289741b989fd5ca69787789a"
            ]
          }
        },
        "65a6f2c300ec481a87b26db16e1292aa": {
          "model_module": "@jupyter-widgets/base",
          "model_name": "LayoutModel",
          "state": {
            "_view_name": "LayoutView",
            "grid_template_rows": null,
            "right": null,
            "justify_content": null,
            "_view_module": "@jupyter-widgets/base",
            "overflow": null,
            "_model_module_version": "1.2.0",
            "_view_count": null,
            "flex_flow": null,
            "width": null,
            "min_width": null,
            "border": null,
            "align_items": null,
            "bottom": null,
            "_model_module": "@jupyter-widgets/base",
            "top": null,
            "grid_column": null,
            "overflow_y": null,
            "overflow_x": null,
            "grid_auto_flow": null,
            "grid_area": null,
            "grid_template_columns": null,
            "flex": null,
            "_model_name": "LayoutModel",
            "justify_items": null,
            "grid_row": null,
            "max_height": null,
            "align_content": null,
            "visibility": null,
            "align_self": null,
            "height": null,
            "min_height": null,
            "padding": null,
            "grid_auto_rows": null,
            "grid_gap": null,
            "max_width": null,
            "order": null,
            "_view_module_version": "1.2.0",
            "grid_template_areas": null,
            "object_position": null,
            "object_fit": null,
            "grid_auto_columns": null,
            "margin": null,
            "display": null,
            "left": null
          }
        },
        "de0be684a2e9406e89d4458c134ce615": {
          "model_module": "@jupyter-widgets/controls",
          "model_name": "FloatProgressModel",
          "state": {
            "_view_name": "ProgressView",
            "style": "IPY_MODEL_62cb6690033c4d3c9b81973f31c3aa45",
            "_dom_classes": [],
            "description": "100%",
            "_model_name": "FloatProgressModel",
            "bar_style": "success",
            "max": 1852,
            "_view_module": "@jupyter-widgets/controls",
            "_model_module_version": "1.5.0",
            "value": 1852,
            "_view_count": null,
            "_view_module_version": "1.5.0",
            "orientation": "horizontal",
            "min": 0,
            "description_tooltip": null,
            "_model_module": "@jupyter-widgets/controls",
            "layout": "IPY_MODEL_59a7e1c07da74a7483e4ff0d620eacf5"
          }
        },
        "b482cb4b289741b989fd5ca69787789a": {
          "model_module": "@jupyter-widgets/controls",
          "model_name": "HTMLModel",
          "state": {
            "_view_name": "HTMLView",
            "style": "IPY_MODEL_00b40eff383541d2ab73620fade6d5ee",
            "_dom_classes": [],
            "description": "",
            "_model_name": "HTMLModel",
            "placeholder": "​",
            "_view_module": "@jupyter-widgets/controls",
            "_model_module_version": "1.5.0",
            "value": " 1852/1852 [00:04&lt;00:00, 371.07it/s]",
            "_view_count": null,
            "_view_module_version": "1.5.0",
            "description_tooltip": null,
            "_model_module": "@jupyter-widgets/controls",
            "layout": "IPY_MODEL_c2a6a11b0fe349f59771399889f93545"
          }
        },
        "62cb6690033c4d3c9b81973f31c3aa45": {
          "model_module": "@jupyter-widgets/controls",
          "model_name": "ProgressStyleModel",
          "state": {
            "_view_name": "StyleView",
            "_model_name": "ProgressStyleModel",
            "description_width": "initial",
            "_view_module": "@jupyter-widgets/base",
            "_model_module_version": "1.5.0",
            "_view_count": null,
            "_view_module_version": "1.2.0",
            "bar_color": null,
            "_model_module": "@jupyter-widgets/controls"
          }
        },
        "59a7e1c07da74a7483e4ff0d620eacf5": {
          "model_module": "@jupyter-widgets/base",
          "model_name": "LayoutModel",
          "state": {
            "_view_name": "LayoutView",
            "grid_template_rows": null,
            "right": null,
            "justify_content": null,
            "_view_module": "@jupyter-widgets/base",
            "overflow": null,
            "_model_module_version": "1.2.0",
            "_view_count": null,
            "flex_flow": null,
            "width": null,
            "min_width": null,
            "border": null,
            "align_items": null,
            "bottom": null,
            "_model_module": "@jupyter-widgets/base",
            "top": null,
            "grid_column": null,
            "overflow_y": null,
            "overflow_x": null,
            "grid_auto_flow": null,
            "grid_area": null,
            "grid_template_columns": null,
            "flex": null,
            "_model_name": "LayoutModel",
            "justify_items": null,
            "grid_row": null,
            "max_height": null,
            "align_content": null,
            "visibility": null,
            "align_self": null,
            "height": null,
            "min_height": null,
            "padding": null,
            "grid_auto_rows": null,
            "grid_gap": null,
            "max_width": null,
            "order": null,
            "_view_module_version": "1.2.0",
            "grid_template_areas": null,
            "object_position": null,
            "object_fit": null,
            "grid_auto_columns": null,
            "margin": null,
            "display": null,
            "left": null
          }
        },
        "00b40eff383541d2ab73620fade6d5ee": {
          "model_module": "@jupyter-widgets/controls",
          "model_name": "DescriptionStyleModel",
          "state": {
            "_view_name": "StyleView",
            "_model_name": "DescriptionStyleModel",
            "description_width": "",
            "_view_module": "@jupyter-widgets/base",
            "_model_module_version": "1.5.0",
            "_view_count": null,
            "_view_module_version": "1.2.0",
            "_model_module": "@jupyter-widgets/controls"
          }
        },
        "c2a6a11b0fe349f59771399889f93545": {
          "model_module": "@jupyter-widgets/base",
          "model_name": "LayoutModel",
          "state": {
            "_view_name": "LayoutView",
            "grid_template_rows": null,
            "right": null,
            "justify_content": null,
            "_view_module": "@jupyter-widgets/base",
            "overflow": null,
            "_model_module_version": "1.2.0",
            "_view_count": null,
            "flex_flow": null,
            "width": null,
            "min_width": null,
            "border": null,
            "align_items": null,
            "bottom": null,
            "_model_module": "@jupyter-widgets/base",
            "top": null,
            "grid_column": null,
            "overflow_y": null,
            "overflow_x": null,
            "grid_auto_flow": null,
            "grid_area": null,
            "grid_template_columns": null,
            "flex": null,
            "_model_name": "LayoutModel",
            "justify_items": null,
            "grid_row": null,
            "max_height": null,
            "align_content": null,
            "visibility": null,
            "align_self": null,
            "height": null,
            "min_height": null,
            "padding": null,
            "grid_auto_rows": null,
            "grid_gap": null,
            "max_width": null,
            "order": null,
            "_view_module_version": "1.2.0",
            "grid_template_areas": null,
            "object_position": null,
            "object_fit": null,
            "grid_auto_columns": null,
            "margin": null,
            "display": null,
            "left": null
          }
        },
        "f02f66ab8dd342c98eb1fc5c0cf6000e": {
          "model_module": "@jupyter-widgets/controls",
          "model_name": "HBoxModel",
          "state": {
            "_view_name": "HBoxView",
            "_dom_classes": [],
            "_model_name": "HBoxModel",
            "_view_module": "@jupyter-widgets/controls",
            "_model_module_version": "1.5.0",
            "_view_count": null,
            "_view_module_version": "1.5.0",
            "box_style": "",
            "layout": "IPY_MODEL_be77ecae36044aa4932b7bfab68e0609",
            "_model_module": "@jupyter-widgets/controls",
            "children": [
              "IPY_MODEL_eb1d3de84ace41d3b689ebf4213354ec",
              "IPY_MODEL_ffacfb262da841b0830236acd82a07f3"
            ]
          }
        },
        "be77ecae36044aa4932b7bfab68e0609": {
          "model_module": "@jupyter-widgets/base",
          "model_name": "LayoutModel",
          "state": {
            "_view_name": "LayoutView",
            "grid_template_rows": null,
            "right": null,
            "justify_content": null,
            "_view_module": "@jupyter-widgets/base",
            "overflow": null,
            "_model_module_version": "1.2.0",
            "_view_count": null,
            "flex_flow": null,
            "width": null,
            "min_width": null,
            "border": null,
            "align_items": null,
            "bottom": null,
            "_model_module": "@jupyter-widgets/base",
            "top": null,
            "grid_column": null,
            "overflow_y": null,
            "overflow_x": null,
            "grid_auto_flow": null,
            "grid_area": null,
            "grid_template_columns": null,
            "flex": null,
            "_model_name": "LayoutModel",
            "justify_items": null,
            "grid_row": null,
            "max_height": null,
            "align_content": null,
            "visibility": null,
            "align_self": null,
            "height": null,
            "min_height": null,
            "padding": null,
            "grid_auto_rows": null,
            "grid_gap": null,
            "max_width": null,
            "order": null,
            "_view_module_version": "1.2.0",
            "grid_template_areas": null,
            "object_position": null,
            "object_fit": null,
            "grid_auto_columns": null,
            "margin": null,
            "display": null,
            "left": null
          }
        },
        "eb1d3de84ace41d3b689ebf4213354ec": {
          "model_module": "@jupyter-widgets/controls",
          "model_name": "FloatProgressModel",
          "state": {
            "_view_name": "ProgressView",
            "style": "IPY_MODEL_49b20ebbf9c5433dbdb2977dcadc590e",
            "_dom_classes": [],
            "description": "100%",
            "_model_name": "FloatProgressModel",
            "bar_style": "success",
            "max": 2057,
            "_view_module": "@jupyter-widgets/controls",
            "_model_module_version": "1.5.0",
            "value": 2057,
            "_view_count": null,
            "_view_module_version": "1.5.0",
            "orientation": "horizontal",
            "min": 0,
            "description_tooltip": null,
            "_model_module": "@jupyter-widgets/controls",
            "layout": "IPY_MODEL_8f87ad8ca7e345a7a6f099ee17736533"
          }
        },
        "ffacfb262da841b0830236acd82a07f3": {
          "model_module": "@jupyter-widgets/controls",
          "model_name": "HTMLModel",
          "state": {
            "_view_name": "HTMLView",
            "style": "IPY_MODEL_5cca860a4b4d42a480dcd119610df840",
            "_dom_classes": [],
            "description": "",
            "_model_name": "HTMLModel",
            "placeholder": "​",
            "_view_module": "@jupyter-widgets/controls",
            "_model_module_version": "1.5.0",
            "value": " 2057/2057 [00:02&lt;00:00, 797.14it/s]",
            "_view_count": null,
            "_view_module_version": "1.5.0",
            "description_tooltip": null,
            "_model_module": "@jupyter-widgets/controls",
            "layout": "IPY_MODEL_ace0810437754e85bff344e4885cc52d"
          }
        },
        "49b20ebbf9c5433dbdb2977dcadc590e": {
          "model_module": "@jupyter-widgets/controls",
          "model_name": "ProgressStyleModel",
          "state": {
            "_view_name": "StyleView",
            "_model_name": "ProgressStyleModel",
            "description_width": "initial",
            "_view_module": "@jupyter-widgets/base",
            "_model_module_version": "1.5.0",
            "_view_count": null,
            "_view_module_version": "1.2.0",
            "bar_color": null,
            "_model_module": "@jupyter-widgets/controls"
          }
        },
        "8f87ad8ca7e345a7a6f099ee17736533": {
          "model_module": "@jupyter-widgets/base",
          "model_name": "LayoutModel",
          "state": {
            "_view_name": "LayoutView",
            "grid_template_rows": null,
            "right": null,
            "justify_content": null,
            "_view_module": "@jupyter-widgets/base",
            "overflow": null,
            "_model_module_version": "1.2.0",
            "_view_count": null,
            "flex_flow": null,
            "width": null,
            "min_width": null,
            "border": null,
            "align_items": null,
            "bottom": null,
            "_model_module": "@jupyter-widgets/base",
            "top": null,
            "grid_column": null,
            "overflow_y": null,
            "overflow_x": null,
            "grid_auto_flow": null,
            "grid_area": null,
            "grid_template_columns": null,
            "flex": null,
            "_model_name": "LayoutModel",
            "justify_items": null,
            "grid_row": null,
            "max_height": null,
            "align_content": null,
            "visibility": null,
            "align_self": null,
            "height": null,
            "min_height": null,
            "padding": null,
            "grid_auto_rows": null,
            "grid_gap": null,
            "max_width": null,
            "order": null,
            "_view_module_version": "1.2.0",
            "grid_template_areas": null,
            "object_position": null,
            "object_fit": null,
            "grid_auto_columns": null,
            "margin": null,
            "display": null,
            "left": null
          }
        },
        "5cca860a4b4d42a480dcd119610df840": {
          "model_module": "@jupyter-widgets/controls",
          "model_name": "DescriptionStyleModel",
          "state": {
            "_view_name": "StyleView",
            "_model_name": "DescriptionStyleModel",
            "description_width": "",
            "_view_module": "@jupyter-widgets/base",
            "_model_module_version": "1.5.0",
            "_view_count": null,
            "_view_module_version": "1.2.0",
            "_model_module": "@jupyter-widgets/controls"
          }
        },
        "ace0810437754e85bff344e4885cc52d": {
          "model_module": "@jupyter-widgets/base",
          "model_name": "LayoutModel",
          "state": {
            "_view_name": "LayoutView",
            "grid_template_rows": null,
            "right": null,
            "justify_content": null,
            "_view_module": "@jupyter-widgets/base",
            "overflow": null,
            "_model_module_version": "1.2.0",
            "_view_count": null,
            "flex_flow": null,
            "width": null,
            "min_width": null,
            "border": null,
            "align_items": null,
            "bottom": null,
            "_model_module": "@jupyter-widgets/base",
            "top": null,
            "grid_column": null,
            "overflow_y": null,
            "overflow_x": null,
            "grid_auto_flow": null,
            "grid_area": null,
            "grid_template_columns": null,
            "flex": null,
            "_model_name": "LayoutModel",
            "justify_items": null,
            "grid_row": null,
            "max_height": null,
            "align_content": null,
            "visibility": null,
            "align_self": null,
            "height": null,
            "min_height": null,
            "padding": null,
            "grid_auto_rows": null,
            "grid_gap": null,
            "max_width": null,
            "order": null,
            "_view_module_version": "1.2.0",
            "grid_template_areas": null,
            "object_position": null,
            "object_fit": null,
            "grid_auto_columns": null,
            "margin": null,
            "display": null,
            "left": null
          }
        },
        "d91317968628497db88325d355a213fa": {
          "model_module": "@jupyter-widgets/controls",
          "model_name": "HBoxModel",
          "state": {
            "_view_name": "HBoxView",
            "_dom_classes": [],
            "_model_name": "HBoxModel",
            "_view_module": "@jupyter-widgets/controls",
            "_model_module_version": "1.5.0",
            "_view_count": null,
            "_view_module_version": "1.5.0",
            "box_style": "",
            "layout": "IPY_MODEL_939b7fd91f3c4a8abd5e27ff3b50108c",
            "_model_module": "@jupyter-widgets/controls",
            "children": [
              "IPY_MODEL_e3f1882b7fee44e49573115197bf87ba",
              "IPY_MODEL_02aadda177ae4f1f875be5f6275612e0"
            ]
          }
        },
        "939b7fd91f3c4a8abd5e27ff3b50108c": {
          "model_module": "@jupyter-widgets/base",
          "model_name": "LayoutModel",
          "state": {
            "_view_name": "LayoutView",
            "grid_template_rows": null,
            "right": null,
            "justify_content": null,
            "_view_module": "@jupyter-widgets/base",
            "overflow": null,
            "_model_module_version": "1.2.0",
            "_view_count": null,
            "flex_flow": null,
            "width": null,
            "min_width": null,
            "border": null,
            "align_items": null,
            "bottom": null,
            "_model_module": "@jupyter-widgets/base",
            "top": null,
            "grid_column": null,
            "overflow_y": null,
            "overflow_x": null,
            "grid_auto_flow": null,
            "grid_area": null,
            "grid_template_columns": null,
            "flex": null,
            "_model_name": "LayoutModel",
            "justify_items": null,
            "grid_row": null,
            "max_height": null,
            "align_content": null,
            "visibility": null,
            "align_self": null,
            "height": null,
            "min_height": null,
            "padding": null,
            "grid_auto_rows": null,
            "grid_gap": null,
            "max_width": null,
            "order": null,
            "_view_module_version": "1.2.0",
            "grid_template_areas": null,
            "object_position": null,
            "object_fit": null,
            "grid_auto_columns": null,
            "margin": null,
            "display": null,
            "left": null
          }
        },
        "e3f1882b7fee44e49573115197bf87ba": {
          "model_module": "@jupyter-widgets/controls",
          "model_name": "FloatProgressModel",
          "state": {
            "_view_name": "ProgressView",
            "style": "IPY_MODEL_db2fa0064bbf4a5d8e29cd1247cc06d0",
            "_dom_classes": [],
            "description": "100%",
            "_model_name": "FloatProgressModel",
            "bar_style": "success",
            "max": 2057,
            "_view_module": "@jupyter-widgets/controls",
            "_model_module_version": "1.5.0",
            "value": 2057,
            "_view_count": null,
            "_view_module_version": "1.5.0",
            "orientation": "horizontal",
            "min": 0,
            "description_tooltip": null,
            "_model_module": "@jupyter-widgets/controls",
            "layout": "IPY_MODEL_6831a6940b8941af81b3a2f1a26e0a7e"
          }
        },
        "02aadda177ae4f1f875be5f6275612e0": {
          "model_module": "@jupyter-widgets/controls",
          "model_name": "HTMLModel",
          "state": {
            "_view_name": "HTMLView",
            "style": "IPY_MODEL_8a4abcfd7b264c908d869e7c871ede68",
            "_dom_classes": [],
            "description": "",
            "_model_name": "HTMLModel",
            "placeholder": "​",
            "_view_module": "@jupyter-widgets/controls",
            "_model_module_version": "1.5.0",
            "value": " 2057/2057 [00:00&lt;00:00, 5789.53it/s]",
            "_view_count": null,
            "_view_module_version": "1.5.0",
            "description_tooltip": null,
            "_model_module": "@jupyter-widgets/controls",
            "layout": "IPY_MODEL_12046460d14142ee843b0836a2112363"
          }
        },
        "db2fa0064bbf4a5d8e29cd1247cc06d0": {
          "model_module": "@jupyter-widgets/controls",
          "model_name": "ProgressStyleModel",
          "state": {
            "_view_name": "StyleView",
            "_model_name": "ProgressStyleModel",
            "description_width": "initial",
            "_view_module": "@jupyter-widgets/base",
            "_model_module_version": "1.5.0",
            "_view_count": null,
            "_view_module_version": "1.2.0",
            "bar_color": null,
            "_model_module": "@jupyter-widgets/controls"
          }
        },
        "6831a6940b8941af81b3a2f1a26e0a7e": {
          "model_module": "@jupyter-widgets/base",
          "model_name": "LayoutModel",
          "state": {
            "_view_name": "LayoutView",
            "grid_template_rows": null,
            "right": null,
            "justify_content": null,
            "_view_module": "@jupyter-widgets/base",
            "overflow": null,
            "_model_module_version": "1.2.0",
            "_view_count": null,
            "flex_flow": null,
            "width": null,
            "min_width": null,
            "border": null,
            "align_items": null,
            "bottom": null,
            "_model_module": "@jupyter-widgets/base",
            "top": null,
            "grid_column": null,
            "overflow_y": null,
            "overflow_x": null,
            "grid_auto_flow": null,
            "grid_area": null,
            "grid_template_columns": null,
            "flex": null,
            "_model_name": "LayoutModel",
            "justify_items": null,
            "grid_row": null,
            "max_height": null,
            "align_content": null,
            "visibility": null,
            "align_self": null,
            "height": null,
            "min_height": null,
            "padding": null,
            "grid_auto_rows": null,
            "grid_gap": null,
            "max_width": null,
            "order": null,
            "_view_module_version": "1.2.0",
            "grid_template_areas": null,
            "object_position": null,
            "object_fit": null,
            "grid_auto_columns": null,
            "margin": null,
            "display": null,
            "left": null
          }
        },
        "8a4abcfd7b264c908d869e7c871ede68": {
          "model_module": "@jupyter-widgets/controls",
          "model_name": "DescriptionStyleModel",
          "state": {
            "_view_name": "StyleView",
            "_model_name": "DescriptionStyleModel",
            "description_width": "",
            "_view_module": "@jupyter-widgets/base",
            "_model_module_version": "1.5.0",
            "_view_count": null,
            "_view_module_version": "1.2.0",
            "_model_module": "@jupyter-widgets/controls"
          }
        },
        "12046460d14142ee843b0836a2112363": {
          "model_module": "@jupyter-widgets/base",
          "model_name": "LayoutModel",
          "state": {
            "_view_name": "LayoutView",
            "grid_template_rows": null,
            "right": null,
            "justify_content": null,
            "_view_module": "@jupyter-widgets/base",
            "overflow": null,
            "_model_module_version": "1.2.0",
            "_view_count": null,
            "flex_flow": null,
            "width": null,
            "min_width": null,
            "border": null,
            "align_items": null,
            "bottom": null,
            "_model_module": "@jupyter-widgets/base",
            "top": null,
            "grid_column": null,
            "overflow_y": null,
            "overflow_x": null,
            "grid_auto_flow": null,
            "grid_area": null,
            "grid_template_columns": null,
            "flex": null,
            "_model_name": "LayoutModel",
            "justify_items": null,
            "grid_row": null,
            "max_height": null,
            "align_content": null,
            "visibility": null,
            "align_self": null,
            "height": null,
            "min_height": null,
            "padding": null,
            "grid_auto_rows": null,
            "grid_gap": null,
            "max_width": null,
            "order": null,
            "_view_module_version": "1.2.0",
            "grid_template_areas": null,
            "object_position": null,
            "object_fit": null,
            "grid_auto_columns": null,
            "margin": null,
            "display": null,
            "left": null
          }
        },
        "39e9b1d9986047de9306991b00229e37": {
          "model_module": "@jupyter-widgets/controls",
          "model_name": "HBoxModel",
          "state": {
            "_view_name": "HBoxView",
            "_dom_classes": [],
            "_model_name": "HBoxModel",
            "_view_module": "@jupyter-widgets/controls",
            "_model_module_version": "1.5.0",
            "_view_count": null,
            "_view_module_version": "1.5.0",
            "box_style": "",
            "layout": "IPY_MODEL_979d68201b84440bbd5ed2eb37d51d3f",
            "_model_module": "@jupyter-widgets/controls",
            "children": [
              "IPY_MODEL_704dabf28e5c4aebaa74e428ed71ea35",
              "IPY_MODEL_d92a7684964f4f8ea32d0355ba00a7d2"
            ]
          }
        },
        "979d68201b84440bbd5ed2eb37d51d3f": {
          "model_module": "@jupyter-widgets/base",
          "model_name": "LayoutModel",
          "state": {
            "_view_name": "LayoutView",
            "grid_template_rows": null,
            "right": null,
            "justify_content": null,
            "_view_module": "@jupyter-widgets/base",
            "overflow": null,
            "_model_module_version": "1.2.0",
            "_view_count": null,
            "flex_flow": null,
            "width": null,
            "min_width": null,
            "border": null,
            "align_items": null,
            "bottom": null,
            "_model_module": "@jupyter-widgets/base",
            "top": null,
            "grid_column": null,
            "overflow_y": null,
            "overflow_x": null,
            "grid_auto_flow": null,
            "grid_area": null,
            "grid_template_columns": null,
            "flex": null,
            "_model_name": "LayoutModel",
            "justify_items": null,
            "grid_row": null,
            "max_height": null,
            "align_content": null,
            "visibility": null,
            "align_self": null,
            "height": null,
            "min_height": null,
            "padding": null,
            "grid_auto_rows": null,
            "grid_gap": null,
            "max_width": null,
            "order": null,
            "_view_module_version": "1.2.0",
            "grid_template_areas": null,
            "object_position": null,
            "object_fit": null,
            "grid_auto_columns": null,
            "margin": null,
            "display": null,
            "left": null
          }
        },
        "704dabf28e5c4aebaa74e428ed71ea35": {
          "model_module": "@jupyter-widgets/controls",
          "model_name": "FloatProgressModel",
          "state": {
            "_view_name": "ProgressView",
            "style": "IPY_MODEL_e0f1a3dfcb34466aae66d8b3c35003a8",
            "_dom_classes": [],
            "description": "100%",
            "_model_name": "FloatProgressModel",
            "bar_style": "success",
            "max": 2057,
            "_view_module": "@jupyter-widgets/controls",
            "_model_module_version": "1.5.0",
            "value": 2057,
            "_view_count": null,
            "_view_module_version": "1.5.0",
            "orientation": "horizontal",
            "min": 0,
            "description_tooltip": null,
            "_model_module": "@jupyter-widgets/controls",
            "layout": "IPY_MODEL_0222540f970f4725a7e5c37849baf68a"
          }
        },
        "d92a7684964f4f8ea32d0355ba00a7d2": {
          "model_module": "@jupyter-widgets/controls",
          "model_name": "HTMLModel",
          "state": {
            "_view_name": "HTMLView",
            "style": "IPY_MODEL_8d34d31c3f16451e94a6f68ffafa302f",
            "_dom_classes": [],
            "description": "",
            "_model_name": "HTMLModel",
            "placeholder": "​",
            "_view_module": "@jupyter-widgets/controls",
            "_model_module_version": "1.5.0",
            "value": " 2057/2057 [00:00&lt;00:00, 44155.54it/s]",
            "_view_count": null,
            "_view_module_version": "1.5.0",
            "description_tooltip": null,
            "_model_module": "@jupyter-widgets/controls",
            "layout": "IPY_MODEL_249dc5b8d2cd4f34aa0bfe9e2e3ca102"
          }
        },
        "e0f1a3dfcb34466aae66d8b3c35003a8": {
          "model_module": "@jupyter-widgets/controls",
          "model_name": "ProgressStyleModel",
          "state": {
            "_view_name": "StyleView",
            "_model_name": "ProgressStyleModel",
            "description_width": "initial",
            "_view_module": "@jupyter-widgets/base",
            "_model_module_version": "1.5.0",
            "_view_count": null,
            "_view_module_version": "1.2.0",
            "bar_color": null,
            "_model_module": "@jupyter-widgets/controls"
          }
        },
        "0222540f970f4725a7e5c37849baf68a": {
          "model_module": "@jupyter-widgets/base",
          "model_name": "LayoutModel",
          "state": {
            "_view_name": "LayoutView",
            "grid_template_rows": null,
            "right": null,
            "justify_content": null,
            "_view_module": "@jupyter-widgets/base",
            "overflow": null,
            "_model_module_version": "1.2.0",
            "_view_count": null,
            "flex_flow": null,
            "width": null,
            "min_width": null,
            "border": null,
            "align_items": null,
            "bottom": null,
            "_model_module": "@jupyter-widgets/base",
            "top": null,
            "grid_column": null,
            "overflow_y": null,
            "overflow_x": null,
            "grid_auto_flow": null,
            "grid_area": null,
            "grid_template_columns": null,
            "flex": null,
            "_model_name": "LayoutModel",
            "justify_items": null,
            "grid_row": null,
            "max_height": null,
            "align_content": null,
            "visibility": null,
            "align_self": null,
            "height": null,
            "min_height": null,
            "padding": null,
            "grid_auto_rows": null,
            "grid_gap": null,
            "max_width": null,
            "order": null,
            "_view_module_version": "1.2.0",
            "grid_template_areas": null,
            "object_position": null,
            "object_fit": null,
            "grid_auto_columns": null,
            "margin": null,
            "display": null,
            "left": null
          }
        },
        "8d34d31c3f16451e94a6f68ffafa302f": {
          "model_module": "@jupyter-widgets/controls",
          "model_name": "DescriptionStyleModel",
          "state": {
            "_view_name": "StyleView",
            "_model_name": "DescriptionStyleModel",
            "description_width": "",
            "_view_module": "@jupyter-widgets/base",
            "_model_module_version": "1.5.0",
            "_view_count": null,
            "_view_module_version": "1.2.0",
            "_model_module": "@jupyter-widgets/controls"
          }
        },
        "249dc5b8d2cd4f34aa0bfe9e2e3ca102": {
          "model_module": "@jupyter-widgets/base",
          "model_name": "LayoutModel",
          "state": {
            "_view_name": "LayoutView",
            "grid_template_rows": null,
            "right": null,
            "justify_content": null,
            "_view_module": "@jupyter-widgets/base",
            "overflow": null,
            "_model_module_version": "1.2.0",
            "_view_count": null,
            "flex_flow": null,
            "width": null,
            "min_width": null,
            "border": null,
            "align_items": null,
            "bottom": null,
            "_model_module": "@jupyter-widgets/base",
            "top": null,
            "grid_column": null,
            "overflow_y": null,
            "overflow_x": null,
            "grid_auto_flow": null,
            "grid_area": null,
            "grid_template_columns": null,
            "flex": null,
            "_model_name": "LayoutModel",
            "justify_items": null,
            "grid_row": null,
            "max_height": null,
            "align_content": null,
            "visibility": null,
            "align_self": null,
            "height": null,
            "min_height": null,
            "padding": null,
            "grid_auto_rows": null,
            "grid_gap": null,
            "max_width": null,
            "order": null,
            "_view_module_version": "1.2.0",
            "grid_template_areas": null,
            "object_position": null,
            "object_fit": null,
            "grid_auto_columns": null,
            "margin": null,
            "display": null,
            "left": null
          }
        },
        "065a6c04ec0b408bb3d5d85feabba67d": {
          "model_module": "@jupyter-widgets/controls",
          "model_name": "HBoxModel",
          "state": {
            "_view_name": "HBoxView",
            "_dom_classes": [],
            "_model_name": "HBoxModel",
            "_view_module": "@jupyter-widgets/controls",
            "_model_module_version": "1.5.0",
            "_view_count": null,
            "_view_module_version": "1.5.0",
            "box_style": "",
            "layout": "IPY_MODEL_eb030b80a6554a188e7057417d8a9673",
            "_model_module": "@jupyter-widgets/controls",
            "children": [
              "IPY_MODEL_01295779ab3345b79f55bb3c3432b0b0",
              "IPY_MODEL_c517748261c04ec0b41557b4e8ce2e4c"
            ]
          }
        },
        "eb030b80a6554a188e7057417d8a9673": {
          "model_module": "@jupyter-widgets/base",
          "model_name": "LayoutModel",
          "state": {
            "_view_name": "LayoutView",
            "grid_template_rows": null,
            "right": null,
            "justify_content": null,
            "_view_module": "@jupyter-widgets/base",
            "overflow": null,
            "_model_module_version": "1.2.0",
            "_view_count": null,
            "flex_flow": null,
            "width": null,
            "min_width": null,
            "border": null,
            "align_items": null,
            "bottom": null,
            "_model_module": "@jupyter-widgets/base",
            "top": null,
            "grid_column": null,
            "overflow_y": null,
            "overflow_x": null,
            "grid_auto_flow": null,
            "grid_area": null,
            "grid_template_columns": null,
            "flex": null,
            "_model_name": "LayoutModel",
            "justify_items": null,
            "grid_row": null,
            "max_height": null,
            "align_content": null,
            "visibility": null,
            "align_self": null,
            "height": null,
            "min_height": null,
            "padding": null,
            "grid_auto_rows": null,
            "grid_gap": null,
            "max_width": null,
            "order": null,
            "_view_module_version": "1.2.0",
            "grid_template_areas": null,
            "object_position": null,
            "object_fit": null,
            "grid_auto_columns": null,
            "margin": null,
            "display": null,
            "left": null
          }
        },
        "01295779ab3345b79f55bb3c3432b0b0": {
          "model_module": "@jupyter-widgets/controls",
          "model_name": "FloatProgressModel",
          "state": {
            "_view_name": "ProgressView",
            "style": "IPY_MODEL_155d9ca3fcfe4ed49cb5a51e3523ea82",
            "_dom_classes": [],
            "description": "100%",
            "_model_name": "FloatProgressModel",
            "bar_style": "success",
            "max": 2057,
            "_view_module": "@jupyter-widgets/controls",
            "_model_module_version": "1.5.0",
            "value": 2057,
            "_view_count": null,
            "_view_module_version": "1.5.0",
            "orientation": "horizontal",
            "min": 0,
            "description_tooltip": null,
            "_model_module": "@jupyter-widgets/controls",
            "layout": "IPY_MODEL_8ae7dc57bbd64f998de7e0bf60a50e0d"
          }
        },
        "c517748261c04ec0b41557b4e8ce2e4c": {
          "model_module": "@jupyter-widgets/controls",
          "model_name": "HTMLModel",
          "state": {
            "_view_name": "HTMLView",
            "style": "IPY_MODEL_8a534d135d8440848dc6235dcb58fb84",
            "_dom_classes": [],
            "description": "",
            "_model_name": "HTMLModel",
            "placeholder": "​",
            "_view_module": "@jupyter-widgets/controls",
            "_model_module_version": "1.5.0",
            "value": " 2057/2057 [00:24&lt;00:00, 84.88it/s]",
            "_view_count": null,
            "_view_module_version": "1.5.0",
            "description_tooltip": null,
            "_model_module": "@jupyter-widgets/controls",
            "layout": "IPY_MODEL_2cbc678a2bfe4d83a6f803acc716caee"
          }
        },
        "155d9ca3fcfe4ed49cb5a51e3523ea82": {
          "model_module": "@jupyter-widgets/controls",
          "model_name": "ProgressStyleModel",
          "state": {
            "_view_name": "StyleView",
            "_model_name": "ProgressStyleModel",
            "description_width": "initial",
            "_view_module": "@jupyter-widgets/base",
            "_model_module_version": "1.5.0",
            "_view_count": null,
            "_view_module_version": "1.2.0",
            "bar_color": null,
            "_model_module": "@jupyter-widgets/controls"
          }
        },
        "8ae7dc57bbd64f998de7e0bf60a50e0d": {
          "model_module": "@jupyter-widgets/base",
          "model_name": "LayoutModel",
          "state": {
            "_view_name": "LayoutView",
            "grid_template_rows": null,
            "right": null,
            "justify_content": null,
            "_view_module": "@jupyter-widgets/base",
            "overflow": null,
            "_model_module_version": "1.2.0",
            "_view_count": null,
            "flex_flow": null,
            "width": null,
            "min_width": null,
            "border": null,
            "align_items": null,
            "bottom": null,
            "_model_module": "@jupyter-widgets/base",
            "top": null,
            "grid_column": null,
            "overflow_y": null,
            "overflow_x": null,
            "grid_auto_flow": null,
            "grid_area": null,
            "grid_template_columns": null,
            "flex": null,
            "_model_name": "LayoutModel",
            "justify_items": null,
            "grid_row": null,
            "max_height": null,
            "align_content": null,
            "visibility": null,
            "align_self": null,
            "height": null,
            "min_height": null,
            "padding": null,
            "grid_auto_rows": null,
            "grid_gap": null,
            "max_width": null,
            "order": null,
            "_view_module_version": "1.2.0",
            "grid_template_areas": null,
            "object_position": null,
            "object_fit": null,
            "grid_auto_columns": null,
            "margin": null,
            "display": null,
            "left": null
          }
        },
        "8a534d135d8440848dc6235dcb58fb84": {
          "model_module": "@jupyter-widgets/controls",
          "model_name": "DescriptionStyleModel",
          "state": {
            "_view_name": "StyleView",
            "_model_name": "DescriptionStyleModel",
            "description_width": "",
            "_view_module": "@jupyter-widgets/base",
            "_model_module_version": "1.5.0",
            "_view_count": null,
            "_view_module_version": "1.2.0",
            "_model_module": "@jupyter-widgets/controls"
          }
        },
        "2cbc678a2bfe4d83a6f803acc716caee": {
          "model_module": "@jupyter-widgets/base",
          "model_name": "LayoutModel",
          "state": {
            "_view_name": "LayoutView",
            "grid_template_rows": null,
            "right": null,
            "justify_content": null,
            "_view_module": "@jupyter-widgets/base",
            "overflow": null,
            "_model_module_version": "1.2.0",
            "_view_count": null,
            "flex_flow": null,
            "width": null,
            "min_width": null,
            "border": null,
            "align_items": null,
            "bottom": null,
            "_model_module": "@jupyter-widgets/base",
            "top": null,
            "grid_column": null,
            "overflow_y": null,
            "overflow_x": null,
            "grid_auto_flow": null,
            "grid_area": null,
            "grid_template_columns": null,
            "flex": null,
            "_model_name": "LayoutModel",
            "justify_items": null,
            "grid_row": null,
            "max_height": null,
            "align_content": null,
            "visibility": null,
            "align_self": null,
            "height": null,
            "min_height": null,
            "padding": null,
            "grid_auto_rows": null,
            "grid_gap": null,
            "max_width": null,
            "order": null,
            "_view_module_version": "1.2.0",
            "grid_template_areas": null,
            "object_position": null,
            "object_fit": null,
            "grid_auto_columns": null,
            "margin": null,
            "display": null,
            "left": null
          }
        },
        "8bf2c013656342558da40f769bf6e35e": {
          "model_module": "@jupyter-widgets/controls",
          "model_name": "HBoxModel",
          "state": {
            "_view_name": "HBoxView",
            "_dom_classes": [],
            "_model_name": "HBoxModel",
            "_view_module": "@jupyter-widgets/controls",
            "_model_module_version": "1.5.0",
            "_view_count": null,
            "_view_module_version": "1.5.0",
            "box_style": "",
            "layout": "IPY_MODEL_0aa8fa84eb914e858234f94e3af2a4f8",
            "_model_module": "@jupyter-widgets/controls",
            "children": [
              "IPY_MODEL_b2d0339df8c3407e9ad2c1ed71f82eed",
              "IPY_MODEL_09feb00efa404e91975deae5bdf18b28"
            ]
          }
        },
        "0aa8fa84eb914e858234f94e3af2a4f8": {
          "model_module": "@jupyter-widgets/base",
          "model_name": "LayoutModel",
          "state": {
            "_view_name": "LayoutView",
            "grid_template_rows": null,
            "right": null,
            "justify_content": null,
            "_view_module": "@jupyter-widgets/base",
            "overflow": null,
            "_model_module_version": "1.2.0",
            "_view_count": null,
            "flex_flow": null,
            "width": null,
            "min_width": null,
            "border": null,
            "align_items": null,
            "bottom": null,
            "_model_module": "@jupyter-widgets/base",
            "top": null,
            "grid_column": null,
            "overflow_y": null,
            "overflow_x": null,
            "grid_auto_flow": null,
            "grid_area": null,
            "grid_template_columns": null,
            "flex": null,
            "_model_name": "LayoutModel",
            "justify_items": null,
            "grid_row": null,
            "max_height": null,
            "align_content": null,
            "visibility": null,
            "align_self": null,
            "height": null,
            "min_height": null,
            "padding": null,
            "grid_auto_rows": null,
            "grid_gap": null,
            "max_width": null,
            "order": null,
            "_view_module_version": "1.2.0",
            "grid_template_areas": null,
            "object_position": null,
            "object_fit": null,
            "grid_auto_columns": null,
            "margin": null,
            "display": null,
            "left": null
          }
        },
        "b2d0339df8c3407e9ad2c1ed71f82eed": {
          "model_module": "@jupyter-widgets/controls",
          "model_name": "FloatProgressModel",
          "state": {
            "_view_name": "ProgressView",
            "style": "IPY_MODEL_b1ec7f949f114f6c823dcd851e53dce5",
            "_dom_classes": [],
            "description": "Downloading: 100%",
            "_model_name": "FloatProgressModel",
            "bar_style": "success",
            "max": 963211760,
            "_view_module": "@jupyter-widgets/controls",
            "_model_module_version": "1.5.0",
            "value": 963211760,
            "_view_count": null,
            "_view_module_version": "1.5.0",
            "orientation": "horizontal",
            "min": 0,
            "description_tooltip": null,
            "_model_module": "@jupyter-widgets/controls",
            "layout": "IPY_MODEL_4b5e307736b943e9a808e1d63d82d46d"
          }
        },
        "09feb00efa404e91975deae5bdf18b28": {
          "model_module": "@jupyter-widgets/controls",
          "model_name": "HTMLModel",
          "state": {
            "_view_name": "HTMLView",
            "style": "IPY_MODEL_00b8bfb86feb4634be2bf5af1343ad21",
            "_dom_classes": [],
            "description": "",
            "_model_name": "HTMLModel",
            "placeholder": "​",
            "_view_module": "@jupyter-widgets/controls",
            "_model_module_version": "1.5.0",
            "value": " 963M/963M [00:23&lt;00:00, 40.9MB/s]",
            "_view_count": null,
            "_view_module_version": "1.5.0",
            "description_tooltip": null,
            "_model_module": "@jupyter-widgets/controls",
            "layout": "IPY_MODEL_62cdba1cd00d4b22a7ac852adae4f3c8"
          }
        },
        "b1ec7f949f114f6c823dcd851e53dce5": {
          "model_module": "@jupyter-widgets/controls",
          "model_name": "ProgressStyleModel",
          "state": {
            "_view_name": "StyleView",
            "_model_name": "ProgressStyleModel",
            "description_width": "initial",
            "_view_module": "@jupyter-widgets/base",
            "_model_module_version": "1.5.0",
            "_view_count": null,
            "_view_module_version": "1.2.0",
            "bar_color": null,
            "_model_module": "@jupyter-widgets/controls"
          }
        },
        "4b5e307736b943e9a808e1d63d82d46d": {
          "model_module": "@jupyter-widgets/base",
          "model_name": "LayoutModel",
          "state": {
            "_view_name": "LayoutView",
            "grid_template_rows": null,
            "right": null,
            "justify_content": null,
            "_view_module": "@jupyter-widgets/base",
            "overflow": null,
            "_model_module_version": "1.2.0",
            "_view_count": null,
            "flex_flow": null,
            "width": null,
            "min_width": null,
            "border": null,
            "align_items": null,
            "bottom": null,
            "_model_module": "@jupyter-widgets/base",
            "top": null,
            "grid_column": null,
            "overflow_y": null,
            "overflow_x": null,
            "grid_auto_flow": null,
            "grid_area": null,
            "grid_template_columns": null,
            "flex": null,
            "_model_name": "LayoutModel",
            "justify_items": null,
            "grid_row": null,
            "max_height": null,
            "align_content": null,
            "visibility": null,
            "align_self": null,
            "height": null,
            "min_height": null,
            "padding": null,
            "grid_auto_rows": null,
            "grid_gap": null,
            "max_width": null,
            "order": null,
            "_view_module_version": "1.2.0",
            "grid_template_areas": null,
            "object_position": null,
            "object_fit": null,
            "grid_auto_columns": null,
            "margin": null,
            "display": null,
            "left": null
          }
        },
        "00b8bfb86feb4634be2bf5af1343ad21": {
          "model_module": "@jupyter-widgets/controls",
          "model_name": "DescriptionStyleModel",
          "state": {
            "_view_name": "StyleView",
            "_model_name": "DescriptionStyleModel",
            "description_width": "",
            "_view_module": "@jupyter-widgets/base",
            "_model_module_version": "1.5.0",
            "_view_count": null,
            "_view_module_version": "1.2.0",
            "_model_module": "@jupyter-widgets/controls"
          }
        },
        "62cdba1cd00d4b22a7ac852adae4f3c8": {
          "model_module": "@jupyter-widgets/base",
          "model_name": "LayoutModel",
          "state": {
            "_view_name": "LayoutView",
            "grid_template_rows": null,
            "right": null,
            "justify_content": null,
            "_view_module": "@jupyter-widgets/base",
            "overflow": null,
            "_model_module_version": "1.2.0",
            "_view_count": null,
            "flex_flow": null,
            "width": null,
            "min_width": null,
            "border": null,
            "align_items": null,
            "bottom": null,
            "_model_module": "@jupyter-widgets/base",
            "top": null,
            "grid_column": null,
            "overflow_y": null,
            "overflow_x": null,
            "grid_auto_flow": null,
            "grid_area": null,
            "grid_template_columns": null,
            "flex": null,
            "_model_name": "LayoutModel",
            "justify_items": null,
            "grid_row": null,
            "max_height": null,
            "align_content": null,
            "visibility": null,
            "align_self": null,
            "height": null,
            "min_height": null,
            "padding": null,
            "grid_auto_rows": null,
            "grid_gap": null,
            "max_width": null,
            "order": null,
            "_view_module_version": "1.2.0",
            "grid_template_areas": null,
            "object_position": null,
            "object_fit": null,
            "grid_auto_columns": null,
            "margin": null,
            "display": null,
            "left": null
          }
        }
      }
    }
  },
  "cells": [
    {
      "cell_type": "markdown",
      "metadata": {
        "id": "view-in-github",
        "colab_type": "text"
      },
      "source": [
        "<a href=\"https://colab.research.google.com/github/Zahra-Nafariyeh/Text_Classificaition/blob/main/1_Tensorflow_BERT_Virgool_Classificaition.ipynb\" target=\"_parent\"><img src=\"https://colab.research.google.com/assets/colab-badge.svg\" alt=\"Open In Colab\"/></a>"
      ]
    },
    {
      "cell_type": "markdown",
      "metadata": {
        "id": "BaM5GtHBWx3Q"
      },
      "source": [
        "https://github.com/hooshvare/parsbert\n"
      ]
    },
    {
      "cell_type": "markdown",
      "metadata": {
        "id": "uTKmx2o3baHo"
      },
      "source": [
        "Article: https://arxiv.org/abs/2005.12515"
      ]
    },
    {
      "cell_type": "code",
      "metadata": {
        "colab": {
          "base_uri": "https://localhost:8080/"
        },
        "id": "504YWttoJ4om",
        "outputId": "ad39f254-8480-48db-a640-b1f66d25ad30"
      },
      "source": [
        "from google.colab import drive\n",
        "drive.mount('/content/gdrive')"
      ],
      "execution_count": 1,
      "outputs": [
        {
          "output_type": "stream",
          "text": [
            "Mounted at /content/gdrive\n"
          ],
          "name": "stdout"
        }
      ]
    },
    {
      "cell_type": "code",
      "metadata": {
        "id": "agOYHk0FJ7xv"
      },
      "source": [
        "import os \n",
        "os.chdir('/content/gdrive/My Drive/Dataset')"
      ],
      "execution_count": 5,
      "outputs": []
    },
    {
      "cell_type": "code",
      "metadata": {
        "id": "dnO7CM5PRJVX",
        "colab": {
          "base_uri": "https://localhost:8080/"
        },
        "outputId": "3feb0d4d-7eee-4117-97a2-dca688cad373"
      },
      "source": [
        "!nvidia-smi"
      ],
      "execution_count": 6,
      "outputs": [
        {
          "output_type": "stream",
          "text": [
            "Tue Apr 27 04:25:39 2021       \n",
            "+-----------------------------------------------------------------------------+\n",
            "| NVIDIA-SMI 465.19.01    Driver Version: 460.32.03    CUDA Version: 11.2     |\n",
            "|-------------------------------+----------------------+----------------------+\n",
            "| GPU  Name        Persistence-M| Bus-Id        Disp.A | Volatile Uncorr. ECC |\n",
            "| Fan  Temp  Perf  Pwr:Usage/Cap|         Memory-Usage | GPU-Util  Compute M. |\n",
            "|                               |                      |               MIG M. |\n",
            "|===============================+======================+======================|\n",
            "|   0  Tesla T4            Off  | 00000000:00:04.0 Off |                    0 |\n",
            "| N/A   56C    P8    10W /  70W |      0MiB / 15109MiB |      0%      Default |\n",
            "|                               |                      |                  N/A |\n",
            "+-------------------------------+----------------------+----------------------+\n",
            "                                                                               \n",
            "+-----------------------------------------------------------------------------+\n",
            "| Processes:                                                                  |\n",
            "|  GPU   GI   CI        PID   Type   Process name                  GPU Memory |\n",
            "|        ID   ID                                                   Usage      |\n",
            "|=============================================================================|\n",
            "|  No running processes found                                                 |\n",
            "+-----------------------------------------------------------------------------+\n"
          ],
          "name": "stdout"
        }
      ]
    },
    {
      "cell_type": "code",
      "metadata": {
        "id": "aQB4nl4VP2-V",
        "colab": {
          "base_uri": "https://localhost:8080/"
        },
        "outputId": "571caa40-4b4e-4a16-e270-3b20cf57f172"
      },
      "source": [
        "# Install required packages\n",
        "\n",
        "!pip install -q transformers\n",
        "!pip install -q hazm\n",
        "!pip install -q clean-text[gpl]"
      ],
      "execution_count": 7,
      "outputs": [
        {
          "output_type": "stream",
          "text": [
            "\u001b[K     |████████████████████████████████| 2.1MB 19.0MB/s \n",
            "\u001b[K     |████████████████████████████████| 901kB 46.8MB/s \n",
            "\u001b[K     |████████████████████████████████| 3.3MB 49.4MB/s \n",
            "\u001b[K     |████████████████████████████████| 317kB 18.0MB/s \n",
            "\u001b[K     |████████████████████████████████| 235kB 40.5MB/s \n",
            "\u001b[K     |████████████████████████████████| 1.4MB 48.5MB/s \n",
            "\u001b[?25h  Building wheel for libwapiti (setup.py) ... \u001b[?25l\u001b[?25hdone\n",
            "  Building wheel for nltk (setup.py) ... \u001b[?25l\u001b[?25hdone\n",
            "\u001b[K     |████████████████████████████████| 71kB 9.7MB/s \n",
            "\u001b[K     |████████████████████████████████| 133kB 34.5MB/s \n",
            "\u001b[K     |████████████████████████████████| 245kB 57.4MB/s \n",
            "\u001b[?25h  Building wheel for ftfy (setup.py) ... \u001b[?25l\u001b[?25hdone\n"
          ],
          "name": "stdout"
        }
      ]
    },
    {
      "cell_type": "code",
      "metadata": {
        "id": "k7osRSezQB5P"
      },
      "source": [
        "# Import required packages\n",
        "\n",
        "import numpy as np\n",
        "import pandas as pd\n",
        "\n",
        "from sklearn.model_selection import train_test_split\n",
        "from sklearn.metrics import classification_report\n",
        "from sklearn.metrics import f1_score\n",
        "from sklearn.utils import shuffle\n",
        "\n",
        "import hazm\n",
        "from cleantext import clean\n",
        "\n",
        "import plotly.express as px\n",
        "import plotly.graph_objects as go\n",
        "\n",
        "from tqdm.notebook import tqdm\n",
        "\n",
        "import os\n",
        "import re\n",
        "import json\n",
        "import copy\n",
        "import collections"
      ],
      "execution_count": 8,
      "outputs": []
    },
    {
      "cell_type": "markdown",
      "metadata": {
        "id": "cCTKvthyQlOG"
      },
      "source": [
        "### Load the data using Pandas"
      ]
    },
    {
      "cell_type": "code",
      "metadata": {
        "colab": {
          "base_uri": "https://localhost:8080/",
          "height": 143
        },
        "id": "3O9SAthxKu4R",
        "outputId": "8ba5727a-526c-4892-ea95-df98e3ec042a"
      },
      "source": [
        "import pandas as pd\n",
        "df1 = pd.read_json('virgool_cleaned.json')\n",
        "df1 = pd.DataFrame(df1['topic'])\n",
        "\n",
        "import pandas as pd\n",
        "df = pd.read_json('virgool_removed_word_112_4.json')\n",
        "\n",
        "df_all = pd.concat([df, df1], axis=1)\n",
        "df = df_all\n",
        "df.head(3)"
      ],
      "execution_count": 10,
      "outputs": [
        {
          "output_type": "execute_result",
          "data": {
            "text/html": [
              "<div>\n",
              "<style scoped>\n",
              "    .dataframe tbody tr th:only-of-type {\n",
              "        vertical-align: middle;\n",
              "    }\n",
              "\n",
              "    .dataframe tbody tr th {\n",
              "        vertical-align: top;\n",
              "    }\n",
              "\n",
              "    .dataframe thead th {\n",
              "        text-align: right;\n",
              "    }\n",
              "</style>\n",
              "<table border=\"1\" class=\"dataframe\">\n",
              "  <thead>\n",
              "    <tr style=\"text-align: right;\">\n",
              "      <th></th>\n",
              "      <th>text</th>\n",
              "      <th>topic</th>\n",
              "    </tr>\n",
              "  </thead>\n",
              "  <tbody>\n",
              "    <tr>\n",
              "      <th>0</th>\n",
              "      <td>کسب اینترنت مهم بحث رشد فناوری اطلاعات مشاغل ا...</td>\n",
              "      <td>استارتاپ</td>\n",
              "    </tr>\n",
              "    <tr>\n",
              "      <th>1</th>\n",
              "      <td>نکات کلیدی کتاب شرکت امریکای دلار درامد محدودی...</td>\n",
              "      <td>استارتاپ</td>\n",
              "    </tr>\n",
              "    <tr>\n",
              "      <th>2</th>\n",
              "      <td>تولد لحظه گذشت استارتاپی شروع فراز فرود انتظار...</td>\n",
              "      <td>استارتاپ</td>\n",
              "    </tr>\n",
              "  </tbody>\n",
              "</table>\n",
              "</div>"
            ],
            "text/plain": [
              "                                                text     topic\n",
              "0  کسب اینترنت مهم بحث رشد فناوری اطلاعات مشاغل ا...  استارتاپ\n",
              "1  نکات کلیدی کتاب شرکت امریکای دلار درامد محدودی...  استارتاپ\n",
              "2  تولد لحظه گذشت استارتاپی شروع فراز فرود انتظار...  استارتاپ"
            ]
          },
          "metadata": {
            "tags": []
          },
          "execution_count": 10
        }
      ]
    },
    {
      "cell_type": "code",
      "metadata": {
        "colab": {
          "base_uri": "https://localhost:8080/",
          "height": 143
        },
        "id": "KUYIh1lpLo2g",
        "outputId": "325a3a06-1ee7-4bfb-9325-a9f4d26565bb"
      },
      "source": [
        "data = df[['text', 'topic']]\n",
        "\n",
        "data.head(3)"
      ],
      "execution_count": 11,
      "outputs": [
        {
          "output_type": "execute_result",
          "data": {
            "text/html": [
              "<div>\n",
              "<style scoped>\n",
              "    .dataframe tbody tr th:only-of-type {\n",
              "        vertical-align: middle;\n",
              "    }\n",
              "\n",
              "    .dataframe tbody tr th {\n",
              "        vertical-align: top;\n",
              "    }\n",
              "\n",
              "    .dataframe thead th {\n",
              "        text-align: right;\n",
              "    }\n",
              "</style>\n",
              "<table border=\"1\" class=\"dataframe\">\n",
              "  <thead>\n",
              "    <tr style=\"text-align: right;\">\n",
              "      <th></th>\n",
              "      <th>text</th>\n",
              "      <th>topic</th>\n",
              "    </tr>\n",
              "  </thead>\n",
              "  <tbody>\n",
              "    <tr>\n",
              "      <th>0</th>\n",
              "      <td>کسب اینترنت مهم بحث رشد فناوری اطلاعات مشاغل ا...</td>\n",
              "      <td>استارتاپ</td>\n",
              "    </tr>\n",
              "    <tr>\n",
              "      <th>1</th>\n",
              "      <td>نکات کلیدی کتاب شرکت امریکای دلار درامد محدودی...</td>\n",
              "      <td>استارتاپ</td>\n",
              "    </tr>\n",
              "    <tr>\n",
              "      <th>2</th>\n",
              "      <td>تولد لحظه گذشت استارتاپی شروع فراز فرود انتظار...</td>\n",
              "      <td>استارتاپ</td>\n",
              "    </tr>\n",
              "  </tbody>\n",
              "</table>\n",
              "</div>"
            ],
            "text/plain": [
              "                                                text     topic\n",
              "0  کسب اینترنت مهم بحث رشد فناوری اطلاعات مشاغل ا...  استارتاپ\n",
              "1  نکات کلیدی کتاب شرکت امریکای دلار درامد محدودی...  استارتاپ\n",
              "2  تولد لحظه گذشت استارتاپی شروع فراز فرود انتظار...  استارتاپ"
            ]
          },
          "metadata": {
            "tags": []
          },
          "execution_count": 11
        }
      ]
    },
    {
      "cell_type": "code",
      "metadata": {
        "id": "EzBx-MYSQnTS",
        "colab": {
          "base_uri": "https://localhost:8080/"
        },
        "outputId": "77bbf4cb-4f78-462f-a904-742693b52b82"
      },
      "source": [
        "# print data information\n",
        "print('data information')\n",
        "print(data.info(), '\\n')\n",
        "\n",
        "# print missing values information\n",
        "print('missing values stats')\n",
        "print(data.isnull().sum(), '\\n')\n",
        "\n",
        "# print some missing values\n",
        "print('some missing values')\n",
        "print(data[data['topic'].isnull()].iloc[:5], '\\n')"
      ],
      "execution_count": 12,
      "outputs": [
        {
          "output_type": "stream",
          "text": [
            "data information\n",
            "<class 'pandas.core.frame.DataFrame'>\n",
            "Int64Index: 93479 entries, 0 to 93478\n",
            "Data columns (total 2 columns):\n",
            " #   Column  Non-Null Count  Dtype \n",
            "---  ------  --------------  ----- \n",
            " 0   text    93479 non-null  object\n",
            " 1   topic   93479 non-null  object\n",
            "dtypes: object(2)\n",
            "memory usage: 2.1+ MB\n",
            "None \n",
            "\n",
            "missing values stats\n",
            "text     0\n",
            "topic    0\n",
            "dtype: int64 \n",
            "\n",
            "some missing values\n",
            "Empty DataFrame\n",
            "Columns: [text, topic]\n",
            "Index: [] \n",
            "\n"
          ],
          "name": "stdout"
        }
      ]
    },
    {
      "cell_type": "code",
      "metadata": {
        "id": "YjjHSjyeQvqb",
        "colab": {
          "base_uri": "https://localhost:8080/"
        },
        "outputId": "4eb7eade-f82a-4af4-e783-196a52211ae9"
      },
      "source": [
        "# handle some conflicts with the dataset structure\n",
        "# you can find a reliable solution, for the sake of the simplicity\n",
        "# I just remove these bad combinations!\n",
        "\n",
        "# data['topic'] = data['topic'].apply(lambda r: r if r < 6 else None)\n",
        "\n",
        "data = data.dropna(subset=['topic'])\n",
        "data = data.dropna(subset=['text'])\n",
        "data = data.drop_duplicates(subset=['text'], keep='first')\n",
        "data = data.reset_index(drop=True)\n",
        "\n",
        "\n",
        "# previous information after solving the conflicts\n",
        "\n",
        "# print data information\n",
        "print('data information')\n",
        "print(data.info(), '\\n')\n",
        "\n",
        "# print missing values information\n",
        "print('missing values stats')\n",
        "print(data.isnull().sum(), '\\n')\n",
        "\n",
        "# print some missing values\n",
        "print('some missing values')\n",
        "print(data[data['topic'].isnull()].iloc[:5], '\\n')"
      ],
      "execution_count": 13,
      "outputs": [
        {
          "output_type": "stream",
          "text": [
            "data information\n",
            "<class 'pandas.core.frame.DataFrame'>\n",
            "RangeIndex: 73123 entries, 0 to 73122\n",
            "Data columns (total 2 columns):\n",
            " #   Column  Non-Null Count  Dtype \n",
            "---  ------  --------------  ----- \n",
            " 0   text    73123 non-null  object\n",
            " 1   topic   73123 non-null  object\n",
            "dtypes: object(2)\n",
            "memory usage: 1.1+ MB\n",
            "None \n",
            "\n",
            "missing values stats\n",
            "text     0\n",
            "topic    0\n",
            "dtype: int64 \n",
            "\n",
            "some missing values\n",
            "Empty DataFrame\n",
            "Columns: [text, topic]\n",
            "Index: [] \n",
            "\n"
          ],
          "name": "stdout"
        }
      ]
    },
    {
      "cell_type": "markdown",
      "metadata": {
        "id": "CWmMbGFCQ1Rf"
      },
      "source": [
        "### Normalization / Preprocessing\n",
        "\n",
        "The comments have different lengths based on words! Detecting the most normal range could help us find the maximum length of the sequences for the preprocessing step. On the other hand, we suppose that the minimum word combination for having a meaningful phrase for our learning process is 3."
      ]
    },
    {
      "cell_type": "code",
      "metadata": {
        "id": "ioFL5_1MQzIb"
      },
      "source": [
        "# calculate the length of comments based on their words\n",
        "data['comment_len_by_words'] = data['text'].apply(lambda t: len(hazm.word_tokenize(t)))"
      ],
      "execution_count": 14,
      "outputs": []
    },
    {
      "cell_type": "code",
      "metadata": {
        "id": "0CO3wJr4Q3gK",
        "colab": {
          "base_uri": "https://localhost:8080/"
        },
        "outputId": "5bb9004b-bde0-45e4-cbc8-ef7f18ecd4a6"
      },
      "source": [
        "min_max_len = data[\"comment_len_by_words\"].min(), data[\"comment_len_by_words\"].max()\n",
        "print(f'Min: {min_max_len[0]} \\tMax: {min_max_len[1]}')"
      ],
      "execution_count": 15,
      "outputs": [
        {
          "output_type": "stream",
          "text": [
            "Min: 0 \tMax: 1807\n"
          ],
          "name": "stdout"
        }
      ]
    },
    {
      "cell_type": "code",
      "metadata": {
        "id": "rnCj-iLe3cjb"
      },
      "source": [
        "def data_gl_than(data, less_than=100.0, greater_than=0.0, col='comment_len_by_words'):\n",
        "    data_length = data[col].values\n",
        "\n",
        "    data_glt = sum([1 for length in data_length if greater_than < length <= less_than])\n",
        "\n",
        "    data_glt_rate = (data_glt / len(data_length)) * 100\n",
        "\n",
        "    print(f'Texts with word length of greater than {greater_than} and less than {less_than} includes {data_glt_rate:.2f}% of the whole!')"
      ],
      "execution_count": 16,
      "outputs": []
    },
    {
      "cell_type": "code",
      "metadata": {
        "id": "iket7VRN5cgG",
        "colab": {
          "base_uri": "https://localhost:8080/"
        },
        "outputId": "5e978588-1fdb-4091-c1c4-691b34f3b716"
      },
      "source": [
        "data_gl_than(data, 256, 3)"
      ],
      "execution_count": 17,
      "outputs": [
        {
          "output_type": "stream",
          "text": [
            "Texts with word length of greater than 3 and less than 256 includes 95.16% of the whole!\n"
          ],
          "name": "stdout"
        }
      ]
    },
    {
      "cell_type": "code",
      "metadata": {
        "id": "kNausH6L55fQ"
      },
      "source": [
        "minlim, maxlim = 3, 256"
      ],
      "execution_count": 18,
      "outputs": []
    },
    {
      "cell_type": "code",
      "metadata": {
        "id": "kliWRX7-3U1c"
      },
      "source": [
        "# remove comments with the length of fewer than three words\n",
        "data['comment_len_by_words'] = data['comment_len_by_words'].apply(lambda len_t: len_t if minlim < len_t <= maxlim else None)\n",
        "data = data.dropna(subset=['comment_len_by_words'])\n",
        "data = data.reset_index(drop=True)"
      ],
      "execution_count": 19,
      "outputs": []
    },
    {
      "cell_type": "code",
      "metadata": {
        "id": "q5UgJoPlQ4l6",
        "colab": {
          "base_uri": "https://localhost:8080/",
          "height": 542
        },
        "outputId": "0a48c8f6-a6ea-4c59-b7ec-169d4edd03ac"
      },
      "source": [
        "fig = go.Figure()\n",
        "\n",
        "fig.add_trace(go.Histogram(\n",
        "    x=data['comment_len_by_words']\n",
        "))\n",
        "\n",
        "fig.update_layout(\n",
        "    title_text='Distribution of word counts within comments',\n",
        "    xaxis_title_text='Word Count',\n",
        "    yaxis_title_text='Frequency',\n",
        "    bargap=0.2,\n",
        "    bargroupgap=0.2)\n",
        "\n",
        "fig.show()\n",
        "\n",
        "#یعنی 4 یا 5 تا داکیومنت بودند که طولشون 145 بوده    (145 و4-5)"
      ],
      "execution_count": 20,
      "outputs": [
        {
          "output_type": "display_data",
          "data": {
            "text/html": [
              "<html>\n",
              "<head><meta charset=\"utf-8\" /></head>\n",
              "<body>\n",
              "    <div>\n",
              "            <script src=\"https://cdnjs.cloudflare.com/ajax/libs/mathjax/2.7.5/MathJax.js?config=TeX-AMS-MML_SVG\"></script><script type=\"text/javascript\">if (window.MathJax) {MathJax.Hub.Config({SVG: {font: \"STIX-Web\"}});}</script>\n",
              "                <script type=\"text/javascript\">window.PlotlyConfig = {MathJaxConfig: 'local'};</script>\n",
              "        <script src=\"https://cdn.plot.ly/plotly-latest.min.js\"></script>    \n",
              "            <div id=\"1a467d04-c33d-4bb3-9110-5818c734e4a5\" class=\"plotly-graph-div\" style=\"height:525px; width:100%;\"></div>\n",
              "            <script type=\"text/javascript\">\n",
              "                \n",
              "                    window.PLOTLYENV=window.PLOTLYENV || {};\n",
              "                    \n",
              "                if (document.getElementById(\"1a467d04-c33d-4bb3-9110-5818c734e4a5\")) {\n",
              "                    Plotly.newPlot(\n",
              "                        '1a467d04-c33d-4bb3-9110-5818c734e4a5',\n",
              "                        [{\"type\": \"histogram\", \"x\": [108.0, 182.0, 153.0, 121.0, 77.0, 93.0, 94.0, 109.0, 46.0, 69.0, 30.0, 191.0, 79.0, 134.0, 70.0, 56.0, 73.0, 66.0, 113.0, 94.0, 93.0, 79.0, 65.0, 75.0, 107.0, 161.0, 57.0, 167.0, 182.0, 218.0, 131.0, 130.0, 103.0, 120.0, 190.0, 224.0, 115.0, 186.0, 147.0, 184.0, 90.0, 207.0, 241.0, 42.0, 147.0, 228.0, 64.0, 107.0, 123.0, 80.0, 40.0, 86.0, 180.0, 157.0, 66.0, 97.0, 77.0, 85.0, 48.0, 92.0, 62.0, 104.0, 176.0, 70.0, 63.0, 98.0, 122.0, 154.0, 230.0, 134.0, 188.0, 166.0, 189.0, 92.0, 70.0, 183.0, 103.0, 199.0, 177.0, 89.0, 230.0, 238.0, 219.0, 46.0, 184.0, 160.0, 102.0, 53.0, 170.0, 120.0, 107.0, 134.0, 143.0, 88.0, 115.0, 148.0, 146.0, 184.0, 93.0, 132.0, 86.0, 177.0, 106.0, 41.0, 60.0, 103.0, 79.0, 102.0, 20.0, 55.0, 100.0, 127.0, 77.0, 26.0, 119.0, 60.0, 87.0, 94.0, 131.0, 86.0, 106.0, 143.0, 161.0, 251.0, 178.0, 57.0, 210.0, 46.0, 111.0, 94.0, 219.0, 88.0, 76.0, 156.0, 219.0, 80.0, 188.0, 63.0, 123.0, 113.0, 22.0, 197.0, 61.0, 162.0, 104.0, 185.0, 206.0, 71.0, 127.0, 176.0, 25.0, 177.0, 133.0, 57.0, 140.0, 123.0, 35.0, 105.0, 58.0, 16.0, 221.0, 169.0, 25.0, 233.0, 93.0, 255.0, 246.0, 147.0, 27.0, 164.0, 67.0, 142.0, 24.0, 132.0, 109.0, 195.0, 72.0, 50.0, 105.0, 78.0, 27.0, 105.0, 57.0, 55.0, 221.0, 168.0, 68.0, 248.0, 56.0, 198.0, 59.0, 114.0, 93.0, 152.0, 34.0, 71.0, 43.0, 38.0, 12.0, 124.0, 94.0, 212.0, 188.0, 95.0, 140.0, 111.0, 179.0, 193.0, 189.0, 207.0, 97.0, 140.0, 15.0, 225.0, 95.0, 12.0, 125.0, 145.0, 69.0, 95.0, 18.0, 21.0, 139.0, 64.0, 126.0, 69.0, 64.0, 79.0, 116.0, 49.0, 62.0, 85.0, 50.0, 63.0, 189.0, 119.0, 238.0, 114.0, 100.0, 148.0, 107.0, 56.0, 81.0, 114.0, 150.0, 112.0, 156.0, 191.0, 210.0, 124.0, 119.0, 37.0, 185.0, 96.0, 57.0, 187.0, 93.0, 211.0, 130.0, 158.0, 29.0, 12.0, 196.0, 78.0, 90.0, 128.0, 214.0, 160.0, 203.0, 108.0, 126.0, 24.0, 108.0, 171.0, 180.0, 173.0, 101.0, 105.0, 52.0, 118.0, 152.0, 193.0, 159.0, 130.0, 168.0, 174.0, 241.0, 249.0, 131.0, 234.0, 96.0, 183.0, 153.0, 108.0, 63.0, 131.0, 42.0, 114.0, 67.0, 66.0, 229.0, 173.0, 79.0, 62.0, 62.0, 84.0, 167.0, 53.0, 75.0, 72.0, 130.0, 112.0, 108.0, 205.0, 230.0, 147.0, 148.0, 252.0, 148.0, 59.0, 131.0, 133.0, 114.0, 102.0, 128.0, 201.0, 209.0, 138.0, 122.0, 157.0, 90.0, 139.0, 99.0, 247.0, 128.0, 125.0, 35.0, 64.0, 162.0, 228.0, 105.0, 164.0, 185.0, 142.0, 114.0, 121.0, 130.0, 76.0, 130.0, 19.0, 220.0, 172.0, 113.0, 214.0, 239.0, 184.0, 78.0, 118.0, 149.0, 221.0, 140.0, 68.0, 143.0, 158.0, 52.0, 142.0, 41.0, 126.0, 176.0, 163.0, 116.0, 118.0, 61.0, 99.0, 102.0, 120.0, 121.0, 22.0, 27.0, 173.0, 53.0, 113.0, 78.0, 110.0, 95.0, 239.0, 97.0, 147.0, 111.0, 241.0, 237.0, 112.0, 10.0, 45.0, 151.0, 224.0, 233.0, 93.0, 140.0, 227.0, 119.0, 170.0, 77.0, 206.0, 148.0, 195.0, 24.0, 199.0, 142.0, 135.0, 154.0, 187.0, 38.0, 115.0, 214.0, 88.0, 184.0, 152.0, 184.0, 65.0, 178.0, 238.0, 122.0, 118.0, 143.0, 164.0, 144.0, 118.0, 215.0, 44.0, 142.0, 61.0, 242.0, 106.0, 98.0, 253.0, 82.0, 138.0, 67.0, 138.0, 206.0, 69.0, 71.0, 199.0, 94.0, 99.0, 236.0, 213.0, 113.0, 171.0, 180.0, 144.0, 206.0, 96.0, 15.0, 174.0, 38.0, 42.0, 82.0, 204.0, 215.0, 35.0, 65.0, 120.0, 108.0, 46.0, 141.0, 50.0, 181.0, 99.0, 175.0, 166.0, 71.0, 73.0, 139.0, 108.0, 193.0, 163.0, 242.0, 72.0, 72.0, 83.0, 93.0, 84.0, 91.0, 93.0, 25.0, 20.0, 197.0, 102.0, 213.0, 142.0, 187.0, 173.0, 142.0, 39.0, 81.0, 185.0, 153.0, 112.0, 108.0, 50.0, 147.0, 71.0, 151.0, 147.0, 118.0, 169.0, 134.0, 256.0, 160.0, 72.0, 78.0, 65.0, 134.0, 126.0, 198.0, 123.0, 136.0, 192.0, 136.0, 89.0, 70.0, 56.0, 92.0, 235.0, 117.0, 119.0, 41.0, 75.0, 181.0, 173.0, 158.0, 238.0, 83.0, 70.0, 191.0, 56.0, 81.0, 183.0, 90.0, 119.0, 116.0, 161.0, 83.0, 171.0, 164.0, 162.0, 119.0, 101.0, 94.0, 164.0, 58.0, 155.0, 63.0, 134.0, 29.0, 48.0, 62.0, 139.0, 85.0, 245.0, 162.0, 122.0, 87.0, 97.0, 183.0, 148.0, 162.0, 152.0, 126.0, 211.0, 139.0, 100.0, 125.0, 81.0, 174.0, 234.0, 143.0, 88.0, 158.0, 203.0, 123.0, 59.0, 58.0, 103.0, 44.0, 99.0, 98.0, 143.0, 137.0, 64.0, 178.0, 118.0, 89.0, 35.0, 64.0, 140.0, 67.0, 106.0, 200.0, 81.0, 122.0, 9.0, 56.0, 113.0, 164.0, 168.0, 239.0, 124.0, 124.0, 196.0, 122.0, 94.0, 99.0, 130.0, 95.0, 90.0, 213.0, 118.0, 127.0, 136.0, 183.0, 85.0, 74.0, 56.0, 230.0, 99.0, 113.0, 95.0, 57.0, 198.0, 30.0, 203.0, 157.0, 145.0, 245.0, 40.0, 173.0, 205.0, 87.0, 115.0, 56.0, 159.0, 111.0, 238.0, 120.0, 92.0, 107.0, 62.0, 79.0, 57.0, 173.0, 121.0, 60.0, 147.0, 89.0, 148.0, 206.0, 108.0, 111.0, 50.0, 174.0, 156.0, 124.0, 150.0, 63.0, 125.0, 208.0, 49.0, 31.0, 59.0, 90.0, 25.0, 68.0, 49.0, 113.0, 239.0, 52.0, 101.0, 92.0, 137.0, 62.0, 55.0, 120.0, 94.0, 87.0, 90.0, 45.0, 250.0, 56.0, 31.0, 149.0, 46.0, 183.0, 35.0, 146.0, 170.0, 50.0, 58.0, 133.0, 170.0, 203.0, 113.0, 78.0, 219.0, 67.0, 75.0, 44.0, 36.0, 178.0, 144.0, 154.0, 119.0, 77.0, 71.0, 59.0, 75.0, 57.0, 100.0, 54.0, 114.0, 66.0, 77.0, 255.0, 95.0, 187.0, 101.0, 206.0, 113.0, 136.0, 48.0, 236.0, 158.0, 244.0, 63.0, 124.0, 54.0, 62.0, 65.0, 59.0, 91.0, 120.0, 37.0, 249.0, 111.0, 194.0, 93.0, 83.0, 145.0, 40.0, 144.0, 161.0, 112.0, 152.0, 112.0, 120.0, 73.0, 60.0, 55.0, 231.0, 214.0, 86.0, 103.0, 119.0, 141.0, 208.0, 76.0, 97.0, 128.0, 55.0, 66.0, 39.0, 90.0, 153.0, 77.0, 167.0, 75.0, 135.0, 116.0, 117.0, 143.0, 168.0, 132.0, 61.0, 89.0, 194.0, 65.0, 68.0, 74.0, 217.0, 208.0, 114.0, 149.0, 128.0, 113.0, 139.0, 122.0, 193.0, 39.0, 46.0, 193.0, 153.0, 48.0, 120.0, 135.0, 51.0, 89.0, 150.0, 43.0, 165.0, 124.0, 28.0, 135.0, 91.0, 175.0, 243.0, 71.0, 69.0, 63.0, 39.0, 79.0, 77.0, 155.0, 77.0, 97.0, 103.0, 107.0, 78.0, 230.0, 179.0, 136.0, 159.0, 105.0, 49.0, 18.0, 129.0, 135.0, 122.0, 186.0, 81.0, 78.0, 167.0, 105.0, 93.0, 150.0, 113.0, 130.0, 144.0, 57.0, 31.0, 57.0, 105.0, 135.0, 83.0, 221.0, 160.0, 44.0, 142.0, 137.0, 181.0, 130.0, 191.0, 65.0, 180.0, 39.0, 55.0, 23.0, 14.0, 187.0, 79.0, 98.0, 69.0, 136.0, 196.0, 194.0, 25.0, 218.0, 173.0, 103.0, 129.0, 147.0, 62.0, 92.0, 184.0, 159.0, 97.0, 42.0, 86.0, 146.0, 16.0, 70.0, 50.0, 131.0, 201.0, 9.0, 149.0, 43.0, 229.0, 45.0, 50.0, 165.0, 218.0, 60.0, 241.0, 203.0, 198.0, 66.0, 162.0, 82.0, 235.0, 77.0, 200.0, 14.0, 188.0, 35.0, 139.0, 138.0, 100.0, 29.0, 63.0, 103.0, 82.0, 170.0, 146.0, 191.0, 155.0, 82.0, 221.0, 75.0, 173.0, 33.0, 179.0, 87.0, 62.0, 27.0, 51.0, 246.0, 22.0, 225.0, 90.0, 92.0, 119.0, 66.0, 120.0, 120.0, 79.0, 60.0, 180.0, 91.0, 163.0, 193.0, 38.0, 126.0, 148.0, 56.0, 158.0, 165.0, 150.0, 123.0, 65.0, 167.0, 156.0, 175.0, 67.0, 83.0, 241.0, 229.0, 114.0, 171.0, 104.0, 127.0, 209.0, 49.0, 107.0, 64.0, 176.0, 102.0, 186.0, 135.0, 17.0, 106.0, 238.0, 125.0, 113.0, 137.0, 103.0, 105.0, 76.0, 156.0, 176.0, 37.0, 125.0, 49.0, 91.0, 37.0, 206.0, 79.0, 62.0, 91.0, 120.0, 124.0, 114.0, 45.0, 108.0, 41.0, 65.0, 128.0, 183.0, 186.0, 147.0, 153.0, 114.0, 121.0, 41.0, 155.0, 82.0, 27.0, 71.0, 121.0, 24.0, 100.0, 104.0, 181.0, 195.0, 144.0, 190.0, 108.0, 129.0, 131.0, 233.0, 203.0, 244.0, 120.0, 108.0, 30.0, 151.0, 195.0, 130.0, 212.0, 55.0, 81.0, 143.0, 87.0, 119.0, 134.0, 72.0, 79.0, 218.0, 59.0, 155.0, 64.0, 157.0, 61.0, 27.0, 71.0, 25.0, 166.0, 67.0, 113.0, 23.0, 84.0, 171.0, 121.0, 126.0, 83.0, 192.0, 48.0, 90.0, 140.0, 49.0, 184.0, 71.0, 217.0, 256.0, 75.0, 19.0, 224.0, 129.0, 122.0, 196.0, 120.0, 166.0, 87.0, 238.0, 137.0, 90.0, 168.0, 101.0, 45.0, 108.0, 97.0, 115.0, 60.0, 119.0, 119.0, 182.0, 92.0, 54.0, 226.0, 125.0, 135.0, 88.0, 243.0, 189.0, 183.0, 122.0, 19.0, 85.0, 59.0, 129.0, 82.0, 162.0, 11.0, 146.0, 181.0, 44.0, 158.0, 166.0, 114.0, 60.0, 149.0, 104.0, 70.0, 59.0, 115.0, 70.0, 29.0, 125.0, 178.0, 176.0, 162.0, 37.0, 120.0, 109.0, 60.0, 194.0, 69.0, 201.0, 192.0, 219.0, 18.0, 110.0, 100.0, 52.0, 144.0, 81.0, 186.0, 180.0, 144.0, 96.0, 48.0, 120.0, 176.0, 122.0, 26.0, 50.0, 163.0, 62.0, 207.0, 146.0, 58.0, 181.0, 69.0, 132.0, 212.0, 105.0, 110.0, 106.0, 90.0, 124.0, 113.0, 157.0, 58.0, 207.0, 246.0, 14.0, 51.0, 130.0, 192.0, 219.0, 172.0, 118.0, 148.0, 215.0, 91.0, 109.0, 207.0, 136.0, 168.0, 148.0, 138.0, 164.0, 81.0, 69.0, 108.0, 58.0, 137.0, 139.0, 89.0, 190.0, 75.0, 188.0, 80.0, 145.0, 210.0, 30.0, 195.0, 201.0, 44.0, 156.0, 75.0, 85.0, 86.0, 199.0, 117.0, 47.0, 227.0, 241.0, 173.0, 244.0, 156.0, 145.0, 96.0, 83.0, 71.0, 144.0, 189.0, 124.0, 176.0, 79.0, 47.0, 115.0, 124.0, 113.0, 155.0, 66.0, 78.0, 73.0, 99.0, 36.0, 27.0, 229.0, 49.0, 131.0, 97.0, 187.0, 223.0, 103.0, 163.0, 108.0, 23.0, 71.0, 75.0, 54.0, 77.0, 95.0, 135.0, 168.0, 163.0, 67.0, 109.0, 65.0, 102.0, 174.0, 124.0, 148.0, 101.0, 179.0, 21.0, 144.0, 81.0, 139.0, 70.0, 67.0, 166.0, 138.0, 15.0, 142.0, 100.0, 120.0, 34.0, 118.0, 58.0, 64.0, 83.0, 81.0, 180.0, 199.0, 237.0, 130.0, 120.0, 143.0, 107.0, 113.0, 135.0, 143.0, 127.0, 155.0, 174.0, 64.0, 66.0, 108.0, 163.0, 171.0, 42.0, 125.0, 184.0, 164.0, 144.0, 120.0, 85.0, 35.0, 74.0, 108.0, 66.0, 174.0, 172.0, 76.0, 64.0, 64.0, 162.0, 119.0, 79.0, 74.0, 72.0, 67.0, 27.0, 65.0, 62.0, 103.0, 51.0, 202.0, 90.0, 91.0, 62.0, 201.0, 214.0, 106.0, 93.0, 191.0, 141.0, 106.0, 84.0, 93.0, 46.0, 198.0, 113.0, 84.0, 98.0, 166.0, 53.0, 172.0, 39.0, 29.0, 73.0, 162.0, 22.0, 78.0, 113.0, 93.0, 162.0, 62.0, 57.0, 28.0, 205.0, 84.0, 223.0, 39.0, 220.0, 60.0, 54.0, 176.0, 176.0, 146.0, 127.0, 98.0, 34.0, 129.0, 57.0, 250.0, 92.0, 147.0, 208.0, 25.0, 127.0, 113.0, 33.0, 142.0, 131.0, 167.0, 47.0, 219.0, 101.0, 166.0, 171.0, 111.0, 131.0, 165.0, 232.0, 10.0, 124.0, 47.0, 127.0, 77.0, 92.0, 48.0, 207.0, 127.0, 52.0, 165.0, 91.0, 43.0, 89.0, 58.0, 133.0, 36.0, 121.0, 91.0, 145.0, 104.0, 146.0, 48.0, 30.0, 161.0, 65.0, 121.0, 148.0, 24.0, 226.0, 66.0, 189.0, 27.0, 192.0, 149.0, 247.0, 202.0, 68.0, 169.0, 72.0, 86.0, 141.0, 20.0, 198.0, 88.0, 238.0, 54.0, 175.0, 127.0, 106.0, 243.0, 135.0, 138.0, 112.0, 249.0, 85.0, 85.0, 139.0, 48.0, 73.0, 86.0, 21.0, 49.0, 63.0, 43.0, 222.0, 84.0, 69.0, 90.0, 95.0, 182.0, 177.0, 65.0, 149.0, 209.0, 153.0, 59.0, 128.0, 135.0, 176.0, 48.0, 116.0, 234.0, 180.0, 82.0, 98.0, 210.0, 126.0, 125.0, 150.0, 111.0, 161.0, 114.0, 63.0, 84.0, 62.0, 179.0, 122.0, 103.0, 126.0, 102.0, 118.0, 116.0, 174.0, 107.0, 180.0, 50.0, 99.0, 75.0, 109.0, 125.0, 142.0, 244.0, 46.0, 143.0, 44.0, 164.0, 155.0, 47.0, 95.0, 65.0, 131.0, 16.0, 156.0, 74.0, 157.0, 153.0, 217.0, 124.0, 68.0, 219.0, 124.0, 219.0, 59.0, 215.0, 79.0, 198.0, 105.0, 55.0, 67.0, 67.0, 51.0, 33.0, 98.0, 68.0, 66.0, 211.0, 30.0, 176.0, 52.0, 119.0, 97.0, 145.0, 117.0, 196.0, 70.0, 161.0, 70.0, 87.0, 107.0, 48.0, 175.0, 115.0, 133.0, 137.0, 110.0, 109.0, 89.0, 136.0, 178.0, 90.0, 162.0, 212.0, 18.0, 215.0, 146.0, 94.0, 204.0, 22.0, 182.0, 251.0, 99.0, 101.0, 160.0, 105.0, 35.0, 255.0, 173.0, 48.0, 28.0, 39.0, 117.0, 108.0, 66.0, 102.0, 199.0, 207.0, 106.0, 100.0, 58.0, 24.0, 67.0, 66.0, 155.0, 14.0, 151.0, 88.0, 65.0, 33.0, 82.0, 37.0, 76.0, 88.0, 112.0, 85.0, 126.0, 82.0, 72.0, 255.0, 93.0, 136.0, 93.0, 105.0, 176.0, 135.0, 136.0, 152.0, 96.0, 49.0, 154.0, 123.0, 95.0, 136.0, 148.0, 36.0, 93.0, 131.0, 140.0, 116.0, 51.0, 41.0, 55.0, 78.0, 127.0, 175.0, 77.0, 54.0, 71.0, 73.0, 66.0, 58.0, 216.0, 90.0, 72.0, 231.0, 144.0, 42.0, 163.0, 9.0, 22.0, 108.0, 62.0, 44.0, 72.0, 119.0, 66.0, 120.0, 101.0, 90.0, 50.0, 255.0, 110.0, 108.0, 65.0, 104.0, 55.0, 71.0, 210.0, 141.0, 53.0, 43.0, 188.0, 41.0, 89.0, 39.0, 204.0, 191.0, 85.0, 71.0, 103.0, 85.0, 55.0, 242.0, 95.0, 188.0, 125.0, 242.0, 83.0, 184.0, 102.0, 232.0, 123.0, 107.0, 117.0, 98.0, 152.0, 81.0, 98.0, 80.0, 156.0, 33.0, 79.0, 74.0, 45.0, 41.0, 66.0, 116.0, 97.0, 90.0, 37.0, 85.0, 153.0, 55.0, 61.0, 226.0, 100.0, 134.0, 91.0, 78.0, 132.0, 139.0, 34.0, 85.0, 119.0, 35.0, 119.0, 146.0, 143.0, 147.0, 46.0, 113.0, 104.0, 93.0, 137.0, 128.0, 85.0, 123.0, 54.0, 30.0, 130.0, 109.0, 61.0, 126.0, 208.0, 198.0, 89.0, 99.0, 107.0, 173.0, 71.0, 113.0, 41.0, 50.0, 81.0, 231.0, 146.0, 48.0, 85.0, 243.0, 223.0, 87.0, 171.0, 107.0, 173.0, 90.0, 140.0, 80.0, 118.0, 46.0, 185.0, 209.0, 48.0, 74.0, 177.0, 31.0, 71.0, 172.0, 83.0, 76.0, 5.0, 142.0, 163.0, 151.0, 125.0, 207.0, 57.0, 180.0, 38.0, 143.0, 72.0, 11.0, 123.0, 62.0, 71.0, 91.0, 114.0, 121.0, 22.0, 48.0, 150.0, 46.0, 142.0, 36.0, 24.0, 122.0, 57.0, 37.0, 167.0, 61.0, 51.0, 117.0, 105.0, 184.0, 221.0, 123.0, 67.0, 108.0, 115.0, 237.0, 188.0, 164.0, 141.0, 20.0, 59.0, 120.0, 151.0, 141.0, 123.0, 163.0, 103.0, 147.0, 51.0, 65.0, 200.0, 119.0, 28.0, 84.0, 140.0, 189.0, 78.0, 39.0, 228.0, 56.0, 21.0, 216.0, 93.0, 175.0, 65.0, 109.0, 102.0, 173.0, 196.0, 96.0, 70.0, 73.0, 138.0, 100.0, 56.0, 204.0, 90.0, 55.0, 94.0, 46.0, 147.0, 102.0, 152.0, 72.0, 120.0, 250.0, 20.0, 17.0, 69.0, 71.0, 78.0, 84.0, 123.0, 159.0, 169.0, 63.0, 69.0, 80.0, 224.0, 82.0, 64.0, 91.0, 98.0, 93.0, 185.0, 180.0, 75.0, 210.0, 141.0, 116.0, 132.0, 165.0, 225.0, 121.0, 41.0, 76.0, 171.0, 94.0, 246.0, 157.0, 129.0, 167.0, 84.0, 74.0, 110.0, 13.0, 159.0, 170.0, 24.0, 115.0, 35.0, 56.0, 121.0, 170.0, 41.0, 100.0, 89.0, 97.0, 185.0, 126.0, 180.0, 193.0, 7.0, 128.0, 179.0, 107.0, 38.0, 76.0, 191.0, 196.0, 56.0, 202.0, 32.0, 15.0, 225.0, 124.0, 82.0, 112.0, 50.0, 44.0, 14.0, 10.0, 21.0, 72.0, 41.0, 44.0, 43.0, 29.0, 50.0, 84.0, 214.0, 154.0, 127.0, 184.0, 160.0, 73.0, 102.0, 61.0, 101.0, 239.0, 73.0, 134.0, 42.0, 74.0, 74.0, 155.0, 191.0, 58.0, 119.0, 205.0, 170.0, 223.0, 116.0, 156.0, 215.0, 42.0, 114.0, 147.0, 193.0, 107.0, 65.0, 194.0, 213.0, 110.0, 193.0, 74.0, 132.0, 117.0, 61.0, 114.0, 117.0, 87.0, 52.0, 34.0, 145.0, 96.0, 62.0, 139.0, 75.0, 123.0, 132.0, 182.0, 149.0, 120.0, 128.0, 63.0, 124.0, 100.0, 5.0, 102.0, 89.0, 122.0, 126.0, 31.0, 35.0, 134.0, 46.0, 35.0, 152.0, 130.0, 31.0, 133.0, 53.0, 67.0, 34.0, 208.0, 82.0, 88.0, 48.0, 111.0, 63.0, 18.0, 57.0, 66.0, 59.0, 55.0, 129.0, 75.0, 67.0, 146.0, 112.0, 50.0, 155.0, 11.0, 96.0, 44.0, 72.0, 59.0, 247.0, 133.0, 44.0, 123.0, 115.0, 124.0, 55.0, 105.0, 57.0, 67.0, 141.0, 128.0, 6.0, 5.0, 99.0, 34.0, 89.0, 120.0, 109.0, 48.0, 100.0, 37.0, 63.0, 93.0, 77.0, 92.0, 144.0, 97.0, 114.0, 96.0, 119.0, 92.0, 90.0, 126.0, 92.0, 141.0, 88.0, 129.0, 106.0, 70.0, 101.0, 84.0, 130.0, 198.0, 116.0, 53.0, 160.0, 142.0, 45.0, 125.0, 130.0, 187.0, 129.0, 64.0, 69.0, 105.0, 76.0, 116.0, 47.0, 30.0, 58.0, 128.0, 103.0, 191.0, 112.0, 141.0, 139.0, 113.0, 70.0, 137.0, 74.0, 104.0, 135.0, 87.0, 111.0, 100.0, 86.0, 72.0, 48.0, 100.0, 146.0, 46.0, 117.0, 30.0, 98.0, 40.0, 124.0, 90.0, 51.0, 93.0, 74.0, 108.0, 191.0, 193.0, 10.0, 174.0, 188.0, 86.0, 41.0, 128.0, 108.0, 21.0, 149.0, 140.0, 84.0, 6.0, 21.0, 126.0, 252.0, 12.0, 248.0, 113.0, 12.0, 103.0, 85.0, 71.0, 215.0, 90.0, 105.0, 31.0, 44.0, 165.0, 60.0, 130.0, 210.0, 8.0, 124.0, 4.0, 56.0, 20.0, 8.0, 56.0, 121.0, 27.0, 21.0, 48.0, 27.0, 81.0, 20.0, 31.0, 225.0, 115.0, 25.0, 34.0, 78.0, 35.0, 66.0, 71.0, 82.0, 55.0, 83.0, 76.0, 23.0, 123.0, 45.0, 129.0, 89.0, 100.0, 60.0, 51.0, 124.0, 67.0, 32.0, 26.0, 4.0, 128.0, 62.0, 189.0, 34.0, 122.0, 119.0, 151.0, 231.0, 51.0, 54.0, 36.0, 63.0, 64.0, 43.0, 60.0, 80.0, 42.0, 63.0, 77.0, 145.0, 20.0, 112.0, 96.0, 57.0, 71.0, 128.0, 126.0, 33.0, 135.0, 93.0, 58.0, 33.0, 105.0, 23.0, 28.0, 63.0, 38.0, 112.0, 88.0, 88.0, 68.0, 82.0, 58.0, 107.0, 108.0, 39.0, 165.0, 40.0, 137.0, 132.0, 141.0, 61.0, 226.0, 137.0, 28.0, 49.0, 144.0, 28.0, 34.0, 39.0, 47.0, 249.0, 41.0, 68.0, 35.0, 89.0, 80.0, 87.0, 45.0, 50.0, 64.0, 69.0, 37.0, 54.0, 165.0, 46.0, 27.0, 43.0, 27.0, 97.0, 47.0, 114.0, 58.0, 53.0, 44.0, 137.0, 162.0, 154.0, 159.0, 33.0, 150.0, 102.0, 46.0, 37.0, 115.0, 116.0, 66.0, 223.0, 69.0, 57.0, 46.0, 18.0, 99.0, 49.0, 109.0, 141.0, 21.0, 31.0, 85.0, 107.0, 79.0, 106.0, 125.0, 34.0, 195.0, 121.0, 139.0, 151.0, 24.0, 115.0, 91.0, 83.0, 82.0, 105.0, 128.0, 116.0, 103.0, 100.0, 31.0, 4.0, 29.0, 13.0, 105.0, 122.0, 123.0, 121.0, 175.0, 50.0, 89.0, 113.0, 81.0, 56.0, 10.0, 23.0, 94.0, 126.0, 31.0, 39.0, 133.0, 67.0, 124.0, 83.0, 48.0, 130.0, 35.0, 79.0, 94.0, 13.0, 57.0, 66.0, 136.0, 103.0, 115.0, 48.0, 28.0, 30.0, 39.0, 30.0, 49.0, 50.0, 37.0, 32.0, 91.0, 143.0, 10.0, 10.0, 8.0, 12.0, 93.0, 116.0, 140.0, 130.0, 24.0, 56.0, 76.0, 137.0, 100.0, 105.0, 123.0, 155.0, 72.0, 43.0, 51.0, 105.0, 34.0, 81.0, 55.0, 74.0, 70.0, 126.0, 48.0, 52.0, 137.0, 95.0, 24.0, 29.0, 22.0, 72.0, 78.0, 13.0, 84.0, 8.0, 27.0, 66.0, 9.0, 90.0, 157.0, 114.0, 82.0, 141.0, 107.0, 14.0, 136.0, 59.0, 118.0, 16.0, 168.0, 255.0, 35.0, 65.0, 33.0, 121.0, 130.0, 103.0, 162.0, 180.0, 190.0, 80.0, 101.0, 59.0, 147.0, 43.0, 16.0, 88.0, 86.0, 177.0, 127.0, 103.0, 112.0, 14.0, 72.0, 88.0, 243.0, 102.0, 141.0, 78.0, 21.0, 22.0, 27.0, 32.0, 23.0, 26.0, 125.0, 175.0, 160.0, 130.0, 135.0, 71.0, 27.0, 133.0, 61.0, 47.0, 100.0, 165.0, 24.0, 105.0, 165.0, 36.0, 135.0, 123.0, 128.0, 131.0, 23.0, 53.0, 26.0, 47.0, 14.0, 6.0, 67.0, 57.0, 75.0, 66.0, 133.0, 116.0, 76.0, 76.0, 38.0, 114.0, 13.0, 50.0, 58.0, 75.0, 75.0, 245.0, 53.0, 85.0, 50.0, 124.0, 92.0, 181.0, 64.0, 45.0, 60.0, 86.0, 110.0, 86.0, 91.0, 137.0, 106.0, 211.0, 253.0, 115.0, 62.0, 15.0, 19.0, 106.0, 55.0, 23.0, 18.0, 56.0, 25.0, 98.0, 23.0, 19.0, 17.0, 19.0, 12.0, 41.0, 60.0, 88.0, 75.0, 106.0, 97.0, 16.0, 29.0, 38.0, 6.0, 133.0, 99.0, 99.0, 74.0, 74.0, 122.0, 12.0, 23.0, 145.0, 108.0, 66.0, 76.0, 81.0, 87.0, 105.0, 76.0, 20.0, 59.0, 38.0, 67.0, 81.0, 64.0, 97.0, 11.0, 48.0, 190.0, 209.0, 137.0, 147.0, 174.0, 87.0, 79.0, 37.0, 24.0, 82.0, 127.0, 38.0, 173.0, 14.0, 54.0, 165.0, 26.0, 71.0, 177.0, 172.0, 126.0, 128.0, 76.0, 64.0, 22.0, 114.0, 50.0, 72.0, 20.0, 75.0, 55.0, 55.0, 34.0, 131.0, 31.0, 73.0, 94.0, 19.0, 29.0, 49.0, 15.0, 129.0, 130.0, 52.0, 69.0, 78.0, 57.0, 48.0, 157.0, 18.0, 81.0, 23.0, 17.0, 38.0, 58.0, 48.0, 43.0, 57.0, 230.0, 43.0, 37.0, 131.0, 56.0, 62.0, 9.0, 18.0, 31.0, 29.0, 180.0, 96.0, 33.0, 92.0, 112.0, 184.0, 51.0, 4.0, 135.0, 86.0, 45.0, 162.0, 97.0, 203.0, 37.0, 29.0, 9.0, 42.0, 45.0, 49.0, 161.0, 103.0, 97.0, 16.0, 170.0, 61.0, 42.0, 54.0, 134.0, 175.0, 24.0, 25.0, 35.0, 77.0, 166.0, 79.0, 90.0, 123.0, 37.0, 60.0, 109.0, 135.0, 63.0, 70.0, 198.0, 17.0, 137.0, 115.0, 36.0, 36.0, 82.0, 87.0, 30.0, 37.0, 83.0, 75.0, 103.0, 160.0, 30.0, 28.0, 39.0, 66.0, 84.0, 91.0, 128.0, 36.0, 163.0, 22.0, 252.0, 38.0, 49.0, 145.0, 29.0, 21.0, 148.0, 118.0, 125.0, 12.0, 43.0, 39.0, 100.0, 28.0, 70.0, 9.0, 69.0, 142.0, 72.0, 181.0, 15.0, 37.0, 37.0, 71.0, 31.0, 15.0, 66.0, 47.0, 112.0, 91.0, 61.0, 32.0, 51.0, 142.0, 105.0, 17.0, 143.0, 91.0, 72.0, 34.0, 124.0, 23.0, 129.0, 116.0, 168.0, 123.0, 176.0, 161.0, 76.0, 132.0, 14.0, 57.0, 24.0, 73.0, 49.0, 145.0, 37.0, 62.0, 55.0, 132.0, 25.0, 43.0, 43.0, 100.0, 21.0, 178.0, 182.0, 36.0, 46.0, 125.0, 56.0, 37.0, 173.0, 32.0, 51.0, 35.0, 62.0, 125.0, 63.0, 79.0, 52.0, 34.0, 117.0, 137.0, 90.0, 4.0, 28.0, 43.0, 5.0, 120.0, 136.0, 139.0, 16.0, 13.0, 166.0, 53.0, 14.0, 8.0, 51.0, 163.0, 45.0, 155.0, 28.0, 25.0, 107.0, 108.0, 158.0, 184.0, 139.0, 61.0, 67.0, 76.0, 125.0, 72.0, 14.0, 131.0, 41.0, 19.0, 102.0, 188.0, 71.0, 23.0, 143.0, 30.0, 40.0, 28.0, 113.0, 42.0, 86.0, 46.0, 21.0, 58.0, 34.0, 61.0, 74.0, 28.0, 84.0, 88.0, 67.0, 52.0, 130.0, 82.0, 19.0, 106.0, 28.0, 48.0, 70.0, 59.0, 65.0, 71.0, 52.0, 23.0, 21.0, 99.0, 11.0, 9.0, 14.0, 21.0, 16.0, 55.0, 93.0, 25.0, 49.0, 102.0, 97.0, 67.0, 65.0, 44.0, 36.0, 110.0, 173.0, 13.0, 147.0, 125.0, 256.0, 48.0, 22.0, 16.0, 39.0, 86.0, 30.0, 13.0, 11.0, 37.0, 74.0, 118.0, 57.0, 76.0, 73.0, 25.0, 65.0, 67.0, 156.0, 114.0, 56.0, 215.0, 137.0, 107.0, 74.0, 102.0, 108.0, 80.0, 67.0, 9.0, 16.0, 111.0, 253.0, 227.0, 78.0, 44.0, 68.0, 60.0, 46.0, 147.0, 17.0, 28.0, 137.0, 106.0, 188.0, 82.0, 156.0, 40.0, 75.0, 126.0, 27.0, 32.0, 95.0, 47.0, 131.0, 140.0, 64.0, 234.0, 146.0, 251.0, 180.0, 169.0, 167.0, 50.0, 138.0, 31.0, 111.0, 88.0, 231.0, 16.0, 59.0, 96.0, 88.0, 131.0, 87.0, 83.0, 124.0, 35.0, 102.0, 91.0, 249.0, 243.0, 30.0, 26.0, 139.0, 20.0, 17.0, 31.0, 123.0, 223.0, 227.0, 25.0, 136.0, 38.0, 13.0, 31.0, 33.0, 22.0, 131.0, 78.0, 37.0, 119.0, 53.0, 129.0, 52.0, 85.0, 123.0, 28.0, 190.0, 24.0, 27.0, 78.0, 136.0, 94.0, 134.0, 15.0, 29.0, 203.0, 71.0, 141.0, 81.0, 84.0, 74.0, 77.0, 33.0, 46.0, 19.0, 61.0, 122.0, 25.0, 71.0, 79.0, 21.0, 40.0, 44.0, 229.0, 94.0, 147.0, 101.0, 159.0, 37.0, 131.0, 60.0, 209.0, 204.0, 32.0, 107.0, 10.0, 183.0, 54.0, 103.0, 181.0, 136.0, 71.0, 197.0, 132.0, 7.0, 30.0, 89.0, 244.0, 122.0, 101.0, 23.0, 36.0, 49.0, 98.0, 13.0, 112.0, 32.0, 80.0, 15.0, 38.0, 146.0, 88.0, 26.0, 123.0, 155.0, 135.0, 7.0, 13.0, 40.0, 10.0, 11.0, 20.0, 50.0, 81.0, 36.0, 52.0, 105.0, 28.0, 105.0, 67.0, 19.0, 42.0, 16.0, 78.0, 74.0, 132.0, 131.0, 55.0, 16.0, 37.0, 72.0, 120.0, 28.0, 69.0, 152.0, 25.0, 21.0, 114.0, 59.0, 78.0, 16.0, 67.0, 23.0, 24.0, 193.0, 76.0, 123.0, 188.0, 42.0, 147.0, 101.0, 35.0, 174.0, 62.0, 124.0, 119.0, 44.0, 30.0, 38.0, 54.0, 37.0, 27.0, 40.0, 121.0, 246.0, 42.0, 23.0, 28.0, 29.0, 25.0, 97.0, 183.0, 29.0, 49.0, 48.0, 71.0, 130.0, 119.0, 121.0, 122.0, 56.0, 13.0, 56.0, 127.0, 139.0, 243.0, 108.0, 10.0, 21.0, 95.0, 100.0, 43.0, 36.0, 85.0, 83.0, 119.0, 128.0, 15.0, 25.0, 150.0, 108.0, 175.0, 218.0, 100.0, 44.0, 66.0, 98.0, 35.0, 79.0, 138.0, 108.0, 33.0, 142.0, 61.0, 117.0, 39.0, 49.0, 92.0, 141.0, 23.0, 22.0, 152.0, 132.0, 136.0, 199.0, 37.0, 107.0, 98.0, 92.0, 131.0, 254.0, 35.0, 187.0, 175.0, 20.0, 125.0, 115.0, 61.0, 51.0, 55.0, 96.0, 82.0, 122.0, 73.0, 158.0, 69.0, 94.0, 110.0, 166.0, 54.0, 48.0, 63.0, 121.0, 32.0, 204.0, 55.0, 74.0, 52.0, 128.0, 73.0, 208.0, 62.0, 70.0, 50.0, 121.0, 94.0, 98.0, 75.0, 28.0, 68.0, 148.0, 113.0, 46.0, 86.0, 88.0, 153.0, 79.0, 165.0, 158.0, 64.0, 11.0, 86.0, 26.0, 67.0, 26.0, 11.0, 92.0, 14.0, 92.0, 68.0, 50.0, 87.0, 131.0, 34.0, 38.0, 205.0, 60.0, 131.0, 21.0, 243.0, 26.0, 10.0, 12.0, 10.0, 26.0, 4.0, 167.0, 54.0, 15.0, 14.0, 34.0, 71.0, 119.0, 15.0, 16.0, 38.0, 14.0, 14.0, 84.0, 29.0, 33.0, 97.0, 18.0, 35.0, 30.0, 30.0, 34.0, 53.0, 58.0, 45.0, 19.0, 29.0, 8.0, 218.0, 50.0, 57.0, 35.0, 14.0, 90.0, 17.0, 86.0, 132.0, 157.0, 105.0, 63.0, 225.0, 39.0, 82.0, 12.0, 241.0, 29.0, 6.0, 27.0, 83.0, 77.0, 86.0, 105.0, 20.0, 140.0, 48.0, 14.0, 43.0, 115.0, 182.0, 36.0, 36.0, 180.0, 104.0, 15.0, 10.0, 41.0, 81.0, 13.0, 17.0, 114.0, 64.0, 193.0, 25.0, 144.0, 35.0, 158.0, 25.0, 98.0, 117.0, 24.0, 40.0, 11.0, 15.0, 45.0, 59.0, 20.0, 95.0, 98.0, 173.0, 30.0, 20.0, 33.0, 108.0, 46.0, 28.0, 48.0, 37.0, 120.0, 20.0, 8.0, 40.0, 19.0, 80.0, 79.0, 45.0, 223.0, 15.0, 27.0, 57.0, 16.0, 37.0, 25.0, 63.0, 48.0, 37.0, 118.0, 69.0, 182.0, 138.0, 126.0, 11.0, 48.0, 19.0, 25.0, 80.0, 60.0, 54.0, 12.0, 36.0, 65.0, 190.0, 176.0, 22.0, 105.0, 67.0, 94.0, 41.0, 84.0, 21.0, 25.0, 25.0, 84.0, 57.0, 54.0, 19.0, 77.0, 69.0, 83.0, 36.0, 38.0, 85.0, 48.0, 21.0, 72.0, 48.0, 95.0, 24.0, 85.0, 42.0, 42.0, 62.0, 55.0, 31.0, 190.0, 26.0, 23.0, 125.0, 79.0, 118.0, 14.0, 72.0, 41.0, 95.0, 24.0, 45.0, 20.0, 39.0, 6.0, 10.0, 41.0, 66.0, 169.0, 38.0, 120.0, 120.0, 169.0, 102.0, 122.0, 108.0, 92.0, 51.0, 19.0, 35.0, 38.0, 70.0, 112.0, 84.0, 102.0, 157.0, 119.0, 12.0, 205.0, 245.0, 143.0, 141.0, 11.0, 57.0, 63.0, 35.0, 24.0, 46.0, 110.0, 90.0, 71.0, 162.0, 59.0, 18.0, 155.0, 35.0, 97.0, 37.0, 17.0, 56.0, 67.0, 58.0, 45.0, 31.0, 11.0, 41.0, 69.0, 53.0, 48.0, 121.0, 10.0, 23.0, 26.0, 36.0, 70.0, 51.0, 187.0, 91.0, 34.0, 167.0, 173.0, 36.0, 19.0, 7.0, 60.0, 125.0, 159.0, 108.0, 6.0, 122.0, 90.0, 151.0, 89.0, 41.0, 46.0, 19.0, 137.0, 139.0, 114.0, 132.0, 179.0, 190.0, 8.0, 33.0, 143.0, 12.0, 199.0, 38.0, 25.0, 60.0, 54.0, 36.0, 46.0, 41.0, 70.0, 54.0, 41.0, 58.0, 217.0, 89.0, 101.0, 174.0, 256.0, 27.0, 50.0, 82.0, 159.0, 56.0, 91.0, 51.0, 34.0, 73.0, 145.0, 52.0, 47.0, 56.0, 45.0, 14.0, 129.0, 70.0, 71.0, 130.0, 40.0, 9.0, 22.0, 39.0, 233.0, 18.0, 37.0, 14.0, 107.0, 22.0, 32.0, 60.0, 34.0, 36.0, 45.0, 25.0, 13.0, 211.0, 81.0, 15.0, 75.0, 66.0, 88.0, 50.0, 46.0, 52.0, 59.0, 20.0, 156.0, 132.0, 45.0, 121.0, 47.0, 34.0, 8.0, 21.0, 48.0, 27.0, 34.0, 24.0, 40.0, 19.0, 22.0, 44.0, 62.0, 44.0, 157.0, 50.0, 53.0, 46.0, 203.0, 20.0, 19.0, 48.0, 86.0, 121.0, 53.0, 30.0, 106.0, 149.0, 241.0, 97.0, 63.0, 50.0, 63.0, 54.0, 72.0, 43.0, 33.0, 12.0, 61.0, 23.0, 26.0, 66.0, 9.0, 54.0, 36.0, 34.0, 87.0, 97.0, 28.0, 67.0, 24.0, 55.0, 60.0, 127.0, 79.0, 69.0, 68.0, 37.0, 66.0, 22.0, 131.0, 48.0, 144.0, 132.0, 21.0, 53.0, 12.0, 151.0, 57.0, 29.0, 88.0, 189.0, 123.0, 153.0, 91.0, 65.0, 14.0, 30.0, 18.0, 53.0, 58.0, 55.0, 73.0, 57.0, 13.0, 30.0, 37.0, 86.0, 133.0, 33.0, 142.0, 124.0, 227.0, 44.0, 39.0, 11.0, 29.0, 54.0, 94.0, 121.0, 119.0, 11.0, 79.0, 68.0, 45.0, 86.0, 78.0, 179.0, 65.0, 89.0, 73.0, 70.0, 144.0, 67.0, 22.0, 108.0, 86.0, 86.0, 9.0, 22.0, 15.0, 18.0, 26.0, 19.0, 71.0, 39.0, 21.0, 149.0, 151.0, 118.0, 177.0, 13.0, 100.0, 56.0, 57.0, 61.0, 66.0, 85.0, 158.0, 49.0, 61.0, 75.0, 19.0, 32.0, 67.0, 26.0, 61.0, 18.0, 78.0, 13.0, 36.0, 54.0, 231.0, 78.0, 232.0, 29.0, 39.0, 163.0, 18.0, 168.0, 10.0, 71.0, 86.0, 211.0, 35.0, 53.0, 50.0, 146.0, 56.0, 39.0, 98.0, 39.0, 156.0, 43.0, 154.0, 43.0, 77.0, 29.0, 46.0, 39.0, 63.0, 80.0, 10.0, 118.0, 48.0, 68.0, 71.0, 71.0, 55.0, 66.0, 60.0, 16.0, 180.0, 48.0, 84.0, 125.0, 93.0, 78.0, 51.0, 39.0, 40.0, 89.0, 134.0, 72.0, 47.0, 25.0, 33.0, 41.0, 126.0, 61.0, 67.0, 57.0, 51.0, 59.0, 181.0, 151.0, 52.0, 69.0, 86.0, 45.0, 107.0, 76.0, 138.0, 61.0, 79.0, 49.0, 42.0, 129.0, 39.0, 20.0, 89.0, 56.0, 30.0, 51.0, 91.0, 36.0, 33.0, 252.0, 187.0, 82.0, 40.0, 101.0, 17.0, 54.0, 204.0, 5.0, 27.0, 36.0, 40.0, 39.0, 8.0, 54.0, 59.0, 34.0, 106.0, 96.0, 28.0, 137.0, 47.0, 28.0, 76.0, 61.0, 24.0, 23.0, 54.0, 150.0, 51.0, 75.0, 158.0, 66.0, 26.0, 33.0, 64.0, 13.0, 72.0, 132.0, 49.0, 53.0, 53.0, 45.0, 46.0, 26.0, 27.0, 20.0, 155.0, 158.0, 49.0, 48.0, 220.0, 54.0, 42.0, 27.0, 42.0, 14.0, 45.0, 167.0, 20.0, 238.0, 15.0, 8.0, 163.0, 211.0, 59.0, 35.0, 113.0, 81.0, 110.0, 15.0, 67.0, 72.0, 45.0, 76.0, 7.0, 62.0, 133.0, 52.0, 53.0, 29.0, 41.0, 51.0, 82.0, 130.0, 43.0, 172.0, 30.0, 49.0, 54.0, 45.0, 78.0, 10.0, 44.0, 71.0, 87.0, 181.0, 86.0, 91.0, 68.0, 46.0, 46.0, 72.0, 36.0, 97.0, 24.0, 31.0, 41.0, 120.0, 52.0, 94.0, 146.0, 163.0, 48.0, 136.0, 14.0, 62.0, 98.0, 64.0, 60.0, 53.0, 160.0, 62.0, 125.0, 195.0, 86.0, 87.0, 149.0, 117.0, 24.0, 176.0, 28.0, 18.0, 13.0, 49.0, 21.0, 23.0, 21.0, 31.0, 63.0, 20.0, 67.0, 81.0, 46.0, 14.0, 94.0, 90.0, 16.0, 47.0, 114.0, 43.0, 57.0, 37.0, 79.0, 58.0, 37.0, 22.0, 14.0, 189.0, 17.0, 98.0, 100.0, 53.0, 25.0, 37.0, 42.0, 54.0, 42.0, 12.0, 77.0, 31.0, 57.0, 69.0, 42.0, 25.0, 107.0, 32.0, 71.0, 29.0, 67.0, 27.0, 151.0, 64.0, 178.0, 47.0, 34.0, 72.0, 114.0, 26.0, 38.0, 34.0, 54.0, 73.0, 35.0, 24.0, 63.0, 51.0, 44.0, 31.0, 78.0, 66.0, 122.0, 58.0, 45.0, 74.0, 52.0, 67.0, 59.0, 45.0, 108.0, 149.0, 63.0, 48.0, 34.0, 65.0, 62.0, 95.0, 94.0, 59.0, 125.0, 17.0, 92.0, 10.0, 21.0, 70.0, 92.0, 22.0, 87.0, 170.0, 58.0, 45.0, 56.0, 53.0, 54.0, 94.0, 59.0, 88.0, 28.0, 30.0, 30.0, 61.0, 33.0, 37.0, 20.0, 85.0, 56.0, 52.0, 38.0, 27.0, 24.0, 51.0, 63.0, 16.0, 22.0, 17.0, 55.0, 47.0, 107.0, 67.0, 72.0, 62.0, 46.0, 13.0, 24.0, 21.0, 20.0, 66.0, 108.0, 53.0, 6.0, 18.0, 40.0, 50.0, 202.0, 19.0, 46.0, 10.0, 18.0, 151.0, 44.0, 164.0, 52.0, 70.0, 13.0, 45.0, 91.0, 65.0, 62.0, 59.0, 6.0, 25.0, 33.0, 129.0, 63.0, 18.0, 117.0, 10.0, 10.0, 85.0, 28.0, 74.0, 133.0, 49.0, 4.0, 113.0, 9.0, 19.0, 38.0, 32.0, 139.0, 91.0, 29.0, 94.0, 105.0, 103.0, 114.0, 88.0, 66.0, 115.0, 76.0, 57.0, 55.0, 132.0, 59.0, 24.0, 89.0, 53.0, 141.0, 97.0, 147.0, 31.0, 76.0, 60.0, 59.0, 106.0, 65.0, 61.0, 90.0, 90.0, 69.0, 94.0, 62.0, 76.0, 84.0, 60.0, 94.0, 226.0, 115.0, 138.0, 40.0, 60.0, 87.0, 101.0, 136.0, 48.0, 170.0, 115.0, 43.0, 41.0, 122.0, 56.0, 103.0, 219.0, 215.0, 86.0, 109.0, 200.0, 123.0, 68.0, 226.0, 28.0, 117.0, 122.0, 96.0, 242.0, 106.0, 52.0, 96.0, 42.0, 46.0, 29.0, 121.0, 17.0, 220.0, 172.0, 124.0, 129.0, 75.0, 163.0, 72.0, 63.0, 73.0, 224.0, 62.0, 115.0, 61.0, 58.0, 126.0, 51.0, 53.0, 149.0, 138.0, 61.0, 167.0, 92.0, 98.0, 119.0, 112.0, 98.0, 103.0, 151.0, 158.0, 197.0, 41.0, 108.0, 92.0, 66.0, 50.0, 224.0, 108.0, 206.0, 180.0, 99.0, 183.0, 193.0, 131.0, 125.0, 14.0, 124.0, 94.0, 171.0, 159.0, 255.0, 77.0, 93.0, 41.0, 121.0, 175.0, 123.0, 243.0, 65.0, 224.0, 48.0, 210.0, 122.0, 102.0, 88.0, 21.0, 25.0, 137.0, 177.0, 80.0, 68.0, 131.0, 36.0, 21.0, 47.0, 70.0, 86.0, 78.0, 41.0, 26.0, 29.0, 77.0, 43.0, 81.0, 40.0, 132.0, 56.0, 69.0, 136.0, 82.0, 17.0, 193.0, 97.0, 65.0, 44.0, 38.0, 153.0, 177.0, 65.0, 33.0, 77.0, 167.0, 25.0, 222.0, 110.0, 96.0, 123.0, 179.0, 82.0, 117.0, 124.0, 42.0, 77.0, 255.0, 110.0, 114.0, 44.0, 97.0, 163.0, 92.0, 87.0, 40.0, 61.0, 47.0, 57.0, 176.0, 49.0, 156.0, 125.0, 164.0, 96.0, 186.0, 24.0, 73.0, 126.0, 206.0, 98.0, 107.0, 115.0, 4.0, 190.0, 65.0, 145.0, 255.0, 57.0, 183.0, 104.0, 101.0, 102.0, 77.0, 95.0, 65.0, 94.0, 65.0, 116.0, 80.0, 91.0, 169.0, 145.0, 110.0, 98.0, 189.0, 87.0, 52.0, 139.0, 97.0, 69.0, 193.0, 142.0, 87.0, 121.0, 25.0, 58.0, 175.0, 199.0, 70.0, 57.0, 71.0, 41.0, 77.0, 141.0, 80.0, 30.0, 123.0, 109.0, 78.0, 135.0, 133.0, 175.0, 166.0, 119.0, 142.0, 138.0, 54.0, 83.0, 33.0, 118.0, 167.0, 77.0, 116.0, 67.0, 141.0, 25.0, 123.0, 232.0, 50.0, 170.0, 78.0, 19.0, 66.0, 105.0, 80.0, 151.0, 80.0, 92.0, 93.0, 134.0, 159.0, 243.0, 20.0, 113.0, 65.0, 112.0, 139.0, 48.0, 74.0, 55.0, 163.0, 106.0, 95.0, 156.0, 13.0, 176.0, 85.0, 67.0, 47.0, 33.0, 95.0, 217.0, 56.0, 112.0, 93.0, 136.0, 128.0, 204.0, 62.0, 127.0, 62.0, 148.0, 157.0, 196.0, 119.0, 145.0, 155.0, 69.0, 58.0, 145.0, 99.0, 141.0, 39.0, 70.0, 126.0, 96.0, 143.0, 184.0, 189.0, 202.0, 64.0, 77.0, 192.0, 132.0, 185.0, 78.0, 118.0, 62.0, 104.0, 58.0, 225.0, 244.0, 126.0, 101.0, 104.0, 91.0, 73.0, 87.0, 232.0, 90.0, 64.0, 123.0, 76.0, 121.0, 26.0, 58.0, 230.0, 69.0, 113.0, 77.0, 54.0, 222.0, 132.0, 32.0, 179.0, 42.0, 221.0, 52.0, 115.0, 122.0, 156.0, 156.0, 206.0, 129.0, 67.0, 55.0, 85.0, 33.0, 76.0, 95.0, 105.0, 69.0, 87.0, 82.0, 96.0, 94.0, 139.0, 185.0, 228.0, 140.0, 101.0, 177.0, 100.0, 231.0, 143.0, 119.0, 113.0, 88.0, 114.0, 21.0, 118.0, 247.0, 227.0, 184.0, 58.0, 68.0, 120.0, 89.0, 101.0, 90.0, 19.0, 251.0, 177.0, 155.0, 46.0, 55.0, 116.0, 139.0, 98.0, 173.0, 86.0, 39.0, 211.0, 80.0, 117.0, 79.0, 95.0, 45.0, 90.0, 97.0, 77.0, 254.0, 168.0, 88.0, 109.0, 80.0, 143.0, 38.0, 128.0, 13.0, 154.0, 45.0, 91.0, 118.0, 66.0, 174.0, 206.0, 60.0, 159.0, 67.0, 66.0, 33.0, 41.0, 96.0, 68.0, 87.0, 118.0, 87.0, 128.0, 50.0, 61.0, 126.0, 66.0, 60.0, 109.0, 116.0, 159.0, 58.0, 92.0, 74.0, 128.0, 59.0, 131.0, 57.0, 58.0, 171.0, 40.0, 38.0, 24.0, 80.0, 115.0, 86.0, 84.0, 243.0, 99.0, 215.0, 200.0, 45.0, 124.0, 153.0, 50.0, 210.0, 111.0, 31.0, 31.0, 158.0, 107.0, 249.0, 43.0, 64.0, 134.0, 207.0, 14.0, 102.0, 110.0, 44.0, 21.0, 140.0, 166.0, 252.0, 230.0, 188.0, 121.0, 223.0, 195.0, 42.0, 116.0, 110.0, 234.0, 57.0, 91.0, 74.0, 115.0, 89.0, 40.0, 121.0, 54.0, 141.0, 69.0, 34.0, 86.0, 106.0, 128.0, 14.0, 162.0, 70.0, 117.0, 158.0, 85.0, 167.0, 97.0, 154.0, 88.0, 98.0, 51.0, 125.0, 18.0, 48.0, 47.0, 77.0, 43.0, 122.0, 97.0, 186.0, 40.0, 92.0, 81.0, 43.0, 127.0, 10.0, 217.0, 114.0, 73.0, 56.0, 62.0, 102.0, 100.0, 38.0, 84.0, 67.0, 27.0, 9.0, 100.0, 151.0, 194.0, 82.0, 126.0, 191.0, 58.0, 21.0, 82.0, 64.0, 33.0, 106.0, 76.0, 151.0, 135.0, 155.0, 50.0, 157.0, 80.0, 164.0, 147.0, 23.0, 80.0, 220.0, 115.0, 129.0, 97.0, 105.0, 38.0, 43.0, 144.0, 122.0, 58.0, 182.0, 143.0, 122.0, 96.0, 102.0, 210.0, 9.0, 17.0, 155.0, 85.0, 59.0, 160.0, 140.0, 81.0, 256.0, 199.0, 86.0, 63.0, 72.0, 201.0, 42.0, 151.0, 19.0, 125.0, 53.0, 120.0, 59.0, 89.0, 44.0, 34.0, 94.0, 105.0, 52.0, 126.0, 210.0, 70.0, 173.0, 142.0, 141.0, 89.0, 60.0, 95.0, 156.0, 104.0, 91.0, 161.0, 188.0, 57.0, 9.0, 169.0, 70.0, 126.0, 164.0, 59.0, 110.0, 44.0, 57.0, 174.0, 215.0, 177.0, 242.0, 70.0, 222.0, 156.0, 68.0, 48.0, 128.0, 122.0, 22.0, 164.0, 60.0, 86.0, 64.0, 7.0, 110.0, 123.0, 135.0, 47.0, 157.0, 189.0, 133.0, 237.0, 115.0, 38.0, 204.0, 162.0, 60.0, 57.0, 110.0, 102.0, 194.0, 162.0, 218.0, 148.0, 226.0, 172.0, 127.0, 226.0, 96.0, 109.0, 89.0, 134.0, 102.0, 81.0, 11.0, 114.0, 185.0, 34.0, 30.0, 199.0, 149.0, 113.0, 219.0, 112.0, 57.0, 73.0, 77.0, 71.0, 181.0, 161.0, 58.0, 122.0, 60.0, 52.0, 92.0, 90.0, 43.0, 109.0, 72.0, 214.0, 129.0, 182.0, 30.0, 64.0, 235.0, 145.0, 120.0, 192.0, 46.0, 130.0, 33.0, 122.0, 34.0, 176.0, 74.0, 40.0, 94.0, 182.0, 126.0, 135.0, 59.0, 219.0, 145.0, 72.0, 100.0, 30.0, 92.0, 89.0, 130.0, 121.0, 169.0, 120.0, 206.0, 245.0, 70.0, 59.0, 197.0, 51.0, 113.0, 78.0, 55.0, 149.0, 63.0, 117.0, 39.0, 72.0, 162.0, 58.0, 212.0, 61.0, 176.0, 54.0, 112.0, 45.0, 49.0, 72.0, 121.0, 122.0, 143.0, 150.0, 168.0, 123.0, 107.0, 155.0, 197.0, 68.0, 132.0, 140.0, 143.0, 227.0, 111.0, 42.0, 18.0, 56.0, 173.0, 101.0, 103.0, 79.0, 241.0, 173.0, 65.0, 69.0, 123.0, 44.0, 47.0, 140.0, 191.0, 121.0, 164.0, 109.0, 107.0, 256.0, 225.0, 90.0, 73.0, 50.0, 43.0, 87.0, 174.0, 115.0, 155.0, 93.0, 85.0, 87.0, 142.0, 83.0, 105.0, 137.0, 97.0, 107.0, 82.0, 191.0, 116.0, 195.0, 166.0, 92.0, 80.0, 164.0, 158.0, 69.0, 94.0, 82.0, 57.0, 149.0, 25.0, 139.0, 62.0, 70.0, 174.0, 79.0, 66.0, 22.0, 97.0, 75.0, 43.0, 110.0, 92.0, 72.0, 90.0, 63.0, 81.0, 117.0, 138.0, 107.0, 128.0, 201.0, 111.0, 123.0, 210.0, 114.0, 39.0, 169.0, 117.0, 134.0, 172.0, 210.0, 85.0, 179.0, 252.0, 18.0, 105.0, 124.0, 210.0, 201.0, 78.0, 73.0, 82.0, 109.0, 219.0, 117.0, 61.0, 38.0, 101.0, 111.0, 111.0, 137.0, 85.0, 137.0, 121.0, 83.0, 77.0, 122.0, 161.0, 43.0, 115.0, 163.0, 118.0, 62.0, 126.0, 70.0, 110.0, 51.0, 79.0, 87.0, 85.0, 88.0, 170.0, 28.0, 65.0, 77.0, 126.0, 96.0, 212.0, 39.0, 61.0, 128.0, 128.0, 49.0, 138.0, 16.0, 72.0, 41.0, 57.0, 144.0, 56.0, 130.0, 4.0, 128.0, 41.0, 66.0, 41.0, 194.0, 85.0, 49.0, 130.0, 33.0, 71.0, 50.0, 89.0, 132.0, 131.0, 91.0, 69.0, 137.0, 67.0, 124.0, 79.0, 39.0, 40.0, 88.0, 72.0, 61.0, 55.0, 167.0, 132.0, 242.0, 105.0, 106.0, 32.0, 164.0, 225.0, 32.0, 120.0, 112.0, 111.0, 136.0, 81.0, 48.0, 44.0, 130.0, 28.0, 123.0, 137.0, 109.0, 27.0, 84.0, 36.0, 83.0, 50.0, 132.0, 111.0, 66.0, 69.0, 226.0, 91.0, 105.0, 133.0, 111.0, 106.0, 121.0, 141.0, 103.0, 151.0, 35.0, 14.0, 39.0, 57.0, 42.0, 55.0, 15.0, 108.0, 98.0, 63.0, 53.0, 97.0, 41.0, 186.0, 203.0, 89.0, 98.0, 113.0, 191.0, 239.0, 104.0, 99.0, 96.0, 100.0, 235.0, 244.0, 200.0, 93.0, 224.0, 54.0, 100.0, 55.0, 95.0, 46.0, 92.0, 55.0, 32.0, 78.0, 64.0, 29.0, 38.0, 62.0, 160.0, 124.0, 133.0, 195.0, 33.0, 57.0, 132.0, 161.0, 110.0, 121.0, 130.0, 243.0, 60.0, 25.0, 58.0, 98.0, 130.0, 53.0, 103.0, 59.0, 92.0, 64.0, 82.0, 221.0, 61.0, 117.0, 192.0, 89.0, 116.0, 69.0, 124.0, 114.0, 176.0, 131.0, 33.0, 90.0, 116.0, 77.0, 87.0, 87.0, 126.0, 81.0, 77.0, 186.0, 93.0, 105.0, 76.0, 120.0, 152.0, 183.0, 161.0, 161.0, 126.0, 111.0, 64.0, 131.0, 63.0, 118.0, 166.0, 234.0, 105.0, 15.0, 168.0, 157.0, 100.0, 80.0, 153.0, 40.0, 74.0, 70.0, 93.0, 108.0, 58.0, 90.0, 209.0, 156.0, 78.0, 125.0, 103.0, 95.0, 86.0, 78.0, 245.0, 156.0, 24.0, 64.0, 6.0, 124.0, 44.0, 55.0, 118.0, 238.0, 42.0, 110.0, 69.0, 132.0, 48.0, 235.0, 97.0, 43.0, 250.0, 78.0, 220.0, 121.0, 81.0, 119.0, 125.0, 164.0, 55.0, 134.0, 174.0, 134.0, 200.0, 90.0, 193.0, 34.0, 125.0, 102.0, 188.0, 121.0, 91.0, 64.0, 86.0, 37.0, 89.0, 138.0, 132.0, 75.0, 76.0, 109.0, 13.0, 67.0, 54.0, 229.0, 157.0, 93.0, 40.0, 77.0, 73.0, 78.0, 190.0, 131.0, 49.0, 92.0, 44.0, 57.0, 139.0, 158.0, 88.0, 84.0, 122.0, 148.0, 122.0, 137.0, 112.0, 109.0, 51.0, 63.0, 163.0, 92.0, 123.0, 53.0, 121.0, 112.0, 123.0, 25.0, 62.0, 99.0, 110.0, 118.0, 53.0, 76.0, 44.0, 139.0, 98.0, 171.0, 203.0, 221.0, 90.0, 33.0, 75.0, 217.0, 72.0, 99.0, 195.0, 77.0, 223.0, 114.0, 98.0, 61.0, 83.0, 52.0, 56.0, 147.0, 133.0, 106.0, 38.0, 104.0, 126.0, 199.0, 124.0, 147.0, 160.0, 94.0, 124.0, 88.0, 229.0, 114.0, 165.0, 170.0, 85.0, 72.0, 34.0, 62.0, 207.0, 180.0, 208.0, 49.0, 41.0, 56.0, 107.0, 22.0, 96.0, 194.0, 52.0, 33.0, 200.0, 62.0, 69.0, 121.0, 90.0, 108.0, 196.0, 72.0, 221.0, 65.0, 70.0, 132.0, 78.0, 28.0, 70.0, 50.0, 122.0, 38.0, 111.0, 98.0, 38.0, 90.0, 40.0, 39.0, 58.0, 255.0, 54.0, 156.0, 59.0, 85.0, 82.0, 43.0, 72.0, 63.0, 56.0, 68.0, 164.0, 65.0, 98.0, 69.0, 49.0, 183.0, 77.0, 112.0, 36.0, 137.0, 140.0, 110.0, 28.0, 237.0, 152.0, 108.0, 59.0, 56.0, 144.0, 82.0, 129.0, 19.0, 98.0, 232.0, 72.0, 202.0, 36.0, 14.0, 97.0, 39.0, 167.0, 100.0, 174.0, 169.0, 214.0, 119.0, 248.0, 165.0, 182.0, 83.0, 16.0, 127.0, 178.0, 156.0, 77.0, 43.0, 225.0, 187.0, 102.0, 121.0, 21.0, 109.0, 47.0, 84.0, 42.0, 128.0, 131.0, 106.0, 111.0, 73.0, 112.0, 152.0, 135.0, 28.0, 58.0, 137.0, 145.0, 23.0, 186.0, 125.0, 162.0, 162.0, 77.0, 165.0, 211.0, 124.0, 84.0, 68.0, 140.0, 80.0, 150.0, 141.0, 102.0, 120.0, 137.0, 117.0, 109.0, 153.0, 101.0, 92.0, 166.0, 57.0, 64.0, 50.0, 82.0, 100.0, 100.0, 68.0, 18.0, 68.0, 214.0, 107.0, 149.0, 106.0, 192.0, 141.0, 89.0, 112.0, 95.0, 208.0, 106.0, 30.0, 90.0, 47.0, 91.0, 39.0, 191.0, 182.0, 106.0, 108.0, 48.0, 115.0, 123.0, 53.0, 42.0, 47.0, 52.0, 12.0, 41.0, 131.0, 100.0, 45.0, 100.0, 51.0, 41.0, 17.0, 89.0, 182.0, 66.0, 69.0, 22.0, 49.0, 111.0, 71.0, 48.0, 23.0, 24.0, 14.0, 113.0, 166.0, 35.0, 105.0, 121.0, 41.0, 62.0, 86.0, 90.0, 57.0, 45.0, 61.0, 209.0, 117.0, 83.0, 31.0, 84.0, 44.0, 85.0, 252.0, 84.0, 57.0, 9.0, 146.0, 146.0, 87.0, 138.0, 127.0, 62.0, 17.0, 154.0, 117.0, 131.0, 153.0, 166.0, 19.0, 44.0, 95.0, 85.0, 185.0, 40.0, 25.0, 16.0, 144.0, 156.0, 71.0, 112.0, 52.0, 73.0, 237.0, 206.0, 47.0, 12.0, 121.0, 167.0, 132.0, 211.0, 78.0, 85.0, 121.0, 146.0, 71.0, 97.0, 208.0, 42.0, 41.0, 177.0, 93.0, 48.0, 68.0, 156.0, 115.0, 95.0, 109.0, 198.0, 22.0, 13.0, 5.0, 126.0, 156.0, 68.0, 98.0, 57.0, 65.0, 54.0, 92.0, 45.0, 87.0, 69.0, 65.0, 29.0, 72.0, 106.0, 109.0, 62.0, 112.0, 64.0, 138.0, 99.0, 199.0, 42.0, 75.0, 27.0, 60.0, 41.0, 145.0, 32.0, 155.0, 101.0, 183.0, 69.0, 131.0, 236.0, 57.0, 99.0, 50.0, 101.0, 176.0, 66.0, 90.0, 156.0, 44.0, 227.0, 47.0, 163.0, 90.0, 46.0, 72.0, 40.0, 86.0, 128.0, 110.0, 246.0, 177.0, 251.0, 122.0, 60.0, 102.0, 77.0, 151.0, 70.0, 112.0, 60.0, 109.0, 90.0, 14.0, 79.0, 14.0, 35.0, 63.0, 62.0, 86.0, 102.0, 114.0, 57.0, 52.0, 108.0, 113.0, 101.0, 112.0, 51.0, 79.0, 74.0, 137.0, 46.0, 96.0, 95.0, 51.0, 114.0, 173.0, 120.0, 65.0, 88.0, 92.0, 73.0, 68.0, 41.0, 110.0, 153.0, 64.0, 58.0, 47.0, 85.0, 92.0, 98.0, 103.0, 199.0, 72.0, 56.0, 68.0, 122.0, 27.0, 73.0, 106.0, 182.0, 14.0, 63.0, 79.0, 164.0, 34.0, 83.0, 77.0, 128.0, 60.0, 112.0, 151.0, 107.0, 185.0, 224.0, 37.0, 60.0, 27.0, 57.0, 70.0, 173.0, 245.0, 53.0, 16.0, 76.0, 115.0, 101.0, 29.0, 75.0, 77.0, 75.0, 177.0, 141.0, 27.0, 84.0, 17.0, 108.0, 114.0, 125.0, 83.0, 41.0, 29.0, 44.0, 23.0, 49.0, 114.0, 228.0, 191.0, 26.0, 139.0, 102.0, 106.0, 145.0, 85.0, 24.0, 48.0, 23.0, 111.0, 133.0, 97.0, 81.0, 151.0, 99.0, 126.0, 58.0, 162.0, 140.0, 70.0, 95.0, 184.0, 113.0, 118.0, 91.0, 96.0, 34.0, 57.0, 67.0, 79.0, 55.0, 132.0, 10.0, 100.0, 61.0, 97.0, 86.0, 232.0, 75.0, 127.0, 91.0, 11.0, 170.0, 37.0, 130.0, 32.0, 168.0, 63.0, 88.0, 107.0, 87.0, 61.0, 114.0, 92.0, 152.0, 39.0, 75.0, 104.0, 192.0, 45.0, 142.0, 111.0, 134.0, 89.0, 68.0, 231.0, 40.0, 175.0, 150.0, 151.0, 170.0, 104.0, 174.0, 100.0, 203.0, 177.0, 170.0, 36.0, 256.0, 136.0, 55.0, 31.0, 43.0, 86.0, 197.0, 186.0, 135.0, 48.0, 156.0, 92.0, 55.0, 173.0, 29.0, 113.0, 87.0, 105.0, 224.0, 141.0, 94.0, 104.0, 83.0, 148.0, 86.0, 225.0, 46.0, 50.0, 116.0, 186.0, 162.0, 137.0, 93.0, 96.0, 105.0, 91.0, 79.0, 194.0, 28.0, 208.0, 94.0, 75.0, 183.0, 98.0, 47.0, 157.0, 147.0, 108.0, 103.0, 47.0, 70.0, 45.0, 130.0, 56.0, 114.0, 39.0, 52.0, 94.0, 172.0, 76.0, 45.0, 24.0, 57.0, 190.0, 66.0, 116.0, 13.0, 60.0, 102.0, 21.0, 96.0, 127.0, 119.0, 18.0, 51.0, 91.0, 104.0, 93.0, 43.0, 52.0, 94.0, 97.0, 63.0, 42.0, 155.0, 112.0, 104.0, 20.0, 47.0, 133.0, 207.0, 228.0, 29.0, 171.0, 57.0, 85.0, 157.0, 129.0, 131.0, 63.0, 55.0, 50.0, 206.0, 13.0, 59.0, 151.0, 52.0, 41.0, 59.0, 205.0, 94.0, 174.0, 126.0, 174.0, 150.0, 176.0, 59.0, 250.0, 143.0, 43.0, 71.0, 138.0, 62.0, 6.0, 116.0, 187.0, 39.0, 117.0, 24.0, 119.0, 60.0, 229.0, 80.0, 93.0, 88.0, 108.0, 243.0, 130.0, 95.0, 87.0, 72.0, 144.0, 19.0, 85.0, 105.0, 89.0, 67.0, 125.0, 53.0, 119.0, 66.0, 73.0, 24.0, 98.0, 114.0, 28.0, 113.0, 228.0, 20.0, 60.0, 73.0, 36.0, 50.0, 36.0, 75.0, 168.0, 90.0, 52.0, 203.0, 42.0, 158.0, 248.0, 213.0, 211.0, 56.0, 92.0, 48.0, 51.0, 150.0, 124.0, 82.0, 111.0, 120.0, 213.0, 133.0, 112.0, 110.0, 77.0, 106.0, 99.0, 22.0, 140.0, 60.0, 59.0, 176.0, 163.0, 110.0, 163.0, 75.0, 114.0, 63.0, 75.0, 84.0, 36.0, 73.0, 104.0, 68.0, 42.0, 161.0, 98.0, 108.0, 29.0, 18.0, 51.0, 156.0, 84.0, 72.0, 109.0, 69.0, 182.0, 91.0, 131.0, 164.0, 47.0, 75.0, 111.0, 22.0, 125.0, 145.0, 193.0, 123.0, 103.0, 26.0, 163.0, 70.0, 27.0, 101.0, 98.0, 45.0, 85.0, 60.0, 47.0, 6.0, 82.0, 90.0, 177.0, 98.0, 88.0, 152.0, 18.0, 28.0, 94.0, 40.0, 21.0, 34.0, 172.0, 74.0, 43.0, 64.0, 178.0, 91.0, 201.0, 116.0, 25.0, 97.0, 77.0, 106.0, 119.0, 42.0, 166.0, 146.0, 140.0, 172.0, 176.0, 79.0, 68.0, 51.0, 152.0, 112.0, 128.0, 160.0, 30.0, 102.0, 95.0, 120.0, 69.0, 135.0, 68.0, 79.0, 94.0, 39.0, 62.0, 106.0, 147.0, 38.0, 69.0, 34.0, 137.0, 49.0, 39.0, 99.0, 35.0, 155.0, 190.0, 73.0, 79.0, 64.0, 90.0, 28.0, 71.0, 73.0, 213.0, 58.0, 46.0, 96.0, 63.0, 69.0, 67.0, 116.0, 37.0, 72.0, 108.0, 78.0, 94.0, 121.0, 124.0, 25.0, 74.0, 56.0, 85.0, 125.0, 39.0, 80.0, 123.0, 171.0, 22.0, 46.0, 29.0, 121.0, 110.0, 114.0, 143.0, 184.0, 135.0, 109.0, 167.0, 181.0, 99.0, 50.0, 179.0, 69.0, 121.0, 19.0, 98.0, 81.0, 178.0, 252.0, 121.0, 214.0, 79.0, 127.0, 171.0, 45.0, 247.0, 69.0, 83.0, 94.0, 119.0, 86.0, 95.0, 36.0, 151.0, 25.0, 71.0, 63.0, 104.0, 217.0, 255.0, 227.0, 22.0, 58.0, 235.0, 166.0, 132.0, 114.0, 169.0, 110.0, 121.0, 87.0, 172.0, 64.0, 184.0, 105.0, 61.0, 209.0, 42.0, 144.0, 93.0, 143.0, 163.0, 126.0, 36.0, 74.0, 183.0, 56.0, 81.0, 51.0, 59.0, 38.0, 104.0, 39.0, 150.0, 69.0, 138.0, 39.0, 136.0, 99.0, 58.0, 163.0, 228.0, 66.0, 174.0, 60.0, 142.0, 36.0, 117.0, 138.0, 151.0, 58.0, 71.0, 121.0, 142.0, 222.0, 64.0, 32.0, 159.0, 70.0, 67.0, 256.0, 71.0, 109.0, 95.0, 129.0, 12.0, 148.0, 144.0, 36.0, 118.0, 101.0, 184.0, 113.0, 120.0, 13.0, 113.0, 9.0, 34.0, 26.0, 57.0, 49.0, 128.0, 190.0, 103.0, 70.0, 62.0, 92.0, 125.0, 129.0, 76.0, 47.0, 98.0, 163.0, 63.0, 59.0, 46.0, 43.0, 63.0, 40.0, 21.0, 122.0, 66.0, 50.0, 66.0, 123.0, 179.0, 21.0, 120.0, 149.0, 69.0, 136.0, 44.0, 56.0, 37.0, 116.0, 88.0, 110.0, 144.0, 26.0, 100.0, 128.0, 85.0, 145.0, 85.0, 44.0, 72.0, 124.0, 127.0, 124.0, 89.0, 141.0, 41.0, 50.0, 106.0, 136.0, 145.0, 170.0, 100.0, 33.0, 77.0, 59.0, 33.0, 21.0, 44.0, 64.0, 17.0, 131.0, 26.0, 203.0, 9.0, 190.0, 50.0, 37.0, 60.0, 144.0, 34.0, 74.0, 53.0, 38.0, 54.0, 24.0, 46.0, 31.0, 66.0, 168.0, 163.0, 51.0, 92.0, 199.0, 164.0, 249.0, 138.0, 77.0, 94.0, 37.0, 39.0, 245.0, 230.0, 70.0, 126.0, 62.0, 147.0, 144.0, 33.0, 110.0, 21.0, 97.0, 233.0, 32.0, 74.0, 38.0, 75.0, 131.0, 57.0, 84.0, 226.0, 15.0, 66.0, 60.0, 201.0, 121.0, 42.0, 65.0, 75.0, 57.0, 63.0, 39.0, 72.0, 36.0, 50.0, 42.0, 125.0, 14.0, 235.0, 98.0, 44.0, 178.0, 88.0, 64.0, 43.0, 154.0, 167.0, 72.0, 78.0, 93.0, 67.0, 45.0, 25.0, 29.0, 28.0, 42.0, 28.0, 58.0, 132.0, 242.0, 38.0, 108.0, 193.0, 142.0, 86.0, 65.0, 58.0, 69.0, 89.0, 139.0, 22.0, 151.0, 62.0, 221.0, 222.0, 213.0, 229.0, 200.0, 154.0, 84.0, 175.0, 208.0, 163.0, 22.0, 82.0, 65.0, 211.0, 100.0, 78.0, 62.0, 156.0, 13.0, 61.0, 166.0, 93.0, 11.0, 80.0, 99.0, 147.0, 58.0, 238.0, 60.0, 33.0, 156.0, 28.0, 175.0, 91.0, 129.0, 98.0, 114.0, 120.0, 245.0, 63.0, 96.0, 49.0, 70.0, 121.0, 64.0, 62.0, 20.0, 6.0, 165.0, 181.0, 25.0, 99.0, 108.0, 48.0, 65.0, 153.0, 35.0, 237.0, 25.0, 46.0, 122.0, 33.0, 76.0, 9.0, 79.0, 96.0, 138.0, 34.0, 132.0, 201.0, 230.0, 91.0, 229.0, 28.0, 43.0, 12.0, 149.0, 54.0, 34.0, 199.0, 42.0, 56.0, 75.0, 143.0, 169.0, 29.0, 160.0, 206.0, 168.0, 202.0, 249.0, 134.0, 170.0, 213.0, 118.0, 129.0, 119.0, 75.0, 81.0, 16.0, 147.0, 88.0, 16.0, 91.0, 201.0, 47.0, 209.0, 83.0, 117.0, 192.0, 169.0, 36.0, 63.0, 30.0, 158.0, 111.0, 133.0, 80.0, 105.0, 194.0, 150.0, 24.0, 90.0, 210.0, 45.0, 41.0, 8.0, 116.0, 253.0, 35.0, 215.0, 198.0, 79.0, 165.0, 107.0, 109.0, 129.0, 104.0, 39.0, 44.0, 156.0, 156.0, 107.0, 83.0, 114.0, 79.0, 181.0, 35.0, 130.0, 77.0, 132.0, 201.0, 100.0, 239.0, 57.0, 24.0, 224.0, 126.0, 58.0, 93.0, 115.0, 81.0, 160.0, 29.0, 99.0, 149.0, 109.0, 119.0, 134.0, 32.0, 159.0, 89.0, 105.0, 124.0, 46.0, 70.0, 58.0, 103.0, 115.0, 86.0, 115.0, 61.0, 93.0, 158.0, 171.0, 37.0, 31.0, 105.0, 60.0, 41.0, 29.0, 127.0, 42.0, 218.0, 60.0, 242.0, 132.0, 66.0, 118.0, 122.0, 67.0, 232.0, 17.0, 128.0, 44.0, 88.0, 41.0, 40.0, 66.0, 174.0, 77.0, 97.0, 91.0, 63.0, 148.0, 133.0, 58.0, 217.0, 83.0, 118.0, 66.0, 77.0, 111.0, 117.0, 239.0, 135.0, 202.0, 239.0, 116.0, 72.0, 126.0, 97.0, 134.0, 125.0, 69.0, 175.0, 183.0, 135.0, 74.0, 190.0, 85.0, 42.0, 173.0, 65.0, 139.0, 131.0, 247.0, 194.0, 116.0, 177.0, 45.0, 66.0, 89.0, 53.0, 155.0, 41.0, 161.0, 40.0, 46.0, 32.0, 68.0, 79.0, 81.0, 122.0, 36.0, 146.0, 88.0, 138.0, 52.0, 144.0, 75.0, 129.0, 43.0, 157.0, 108.0, 124.0, 76.0, 38.0, 165.0, 144.0, 119.0, 106.0, 91.0, 140.0, 142.0, 117.0, 78.0, 237.0, 86.0, 183.0, 90.0, 39.0, 68.0, 78.0, 93.0, 29.0, 77.0, 169.0, 167.0, 103.0, 135.0, 10.0, 146.0, 42.0, 116.0, 167.0, 191.0, 158.0, 109.0, 79.0, 31.0, 42.0, 229.0, 198.0, 29.0, 135.0, 76.0, 51.0, 100.0, 47.0, 35.0, 87.0, 94.0, 68.0, 38.0, 220.0, 51.0, 59.0, 77.0, 82.0, 67.0, 35.0, 147.0, 89.0, 41.0, 144.0, 133.0, 124.0, 64.0, 187.0, 75.0, 124.0, 89.0, 48.0, 58.0, 55.0, 52.0, 104.0, 152.0, 40.0, 103.0, 115.0, 108.0, 105.0, 32.0, 47.0, 57.0, 73.0, 41.0, 189.0, 115.0, 50.0, 69.0, 53.0, 206.0, 70.0, 30.0, 58.0, 195.0, 35.0, 145.0, 83.0, 26.0, 56.0, 184.0, 85.0, 49.0, 79.0, 86.0, 253.0, 100.0, 113.0, 67.0, 96.0, 125.0, 23.0, 133.0, 14.0, 161.0, 75.0, 30.0, 19.0, 193.0, 101.0, 237.0, 44.0, 19.0, 47.0, 95.0, 117.0, 50.0, 88.0, 58.0, 99.0, 124.0, 128.0, 60.0, 179.0, 80.0, 135.0, 165.0, 109.0, 82.0, 64.0, 54.0, 43.0, 88.0, 187.0, 56.0, 53.0, 220.0, 80.0, 75.0, 233.0, 101.0, 123.0, 68.0, 63.0, 97.0, 135.0, 94.0, 55.0, 106.0, 95.0, 70.0, 59.0, 122.0, 162.0, 60.0, 30.0, 123.0, 31.0, 143.0, 65.0, 119.0, 25.0, 59.0, 59.0, 39.0, 227.0, 57.0, 76.0, 87.0, 57.0, 189.0, 120.0, 18.0, 64.0, 120.0, 51.0, 189.0, 77.0, 73.0, 88.0, 126.0, 29.0, 40.0, 48.0, 69.0, 133.0, 54.0, 113.0, 38.0, 34.0, 40.0, 18.0, 88.0, 37.0, 24.0, 194.0, 66.0, 95.0, 38.0, 250.0, 54.0, 48.0, 166.0, 78.0, 163.0, 55.0, 82.0, 105.0, 103.0, 44.0, 31.0, 53.0, 107.0, 32.0, 82.0, 58.0, 25.0, 39.0, 140.0, 23.0, 43.0, 95.0, 42.0, 96.0, 48.0, 101.0, 68.0, 138.0, 23.0, 76.0, 156.0, 30.0, 102.0, 110.0, 60.0, 61.0, 53.0, 42.0, 211.0, 37.0, 77.0, 63.0, 39.0, 90.0, 55.0, 232.0, 66.0, 38.0, 45.0, 180.0, 75.0, 93.0, 189.0, 42.0, 204.0, 56.0, 70.0, 107.0, 118.0, 44.0, 106.0, 92.0, 65.0, 43.0, 91.0, 171.0, 118.0, 25.0, 32.0, 103.0, 12.0, 89.0, 122.0, 63.0, 170.0, 33.0, 84.0, 36.0, 83.0, 78.0, 28.0, 18.0, 62.0, 159.0, 147.0, 60.0, 196.0, 45.0, 18.0, 119.0, 132.0, 88.0, 133.0, 120.0, 72.0, 127.0, 49.0, 32.0, 134.0, 44.0, 66.0, 84.0, 122.0, 110.0, 55.0, 68.0, 68.0, 28.0, 53.0, 84.0, 50.0, 65.0, 54.0, 125.0, 120.0, 121.0, 34.0, 197.0, 97.0, 110.0, 162.0, 89.0, 27.0, 18.0, 38.0, 44.0, 39.0, 108.0, 79.0, 207.0, 135.0, 83.0, 50.0, 122.0, 60.0, 49.0, 134.0, 101.0, 143.0, 119.0, 58.0, 117.0, 104.0, 123.0, 128.0, 102.0, 36.0, 200.0, 71.0, 66.0, 45.0, 84.0, 136.0, 71.0, 77.0, 46.0, 166.0, 100.0, 110.0, 203.0, 93.0, 41.0, 87.0, 74.0, 39.0, 140.0, 47.0, 49.0, 114.0, 77.0, 71.0, 126.0, 164.0, 70.0, 65.0, 74.0, 73.0, 95.0, 12.0, 74.0, 121.0, 148.0, 68.0, 95.0, 106.0, 145.0, 70.0, 80.0, 48.0, 59.0, 247.0, 223.0, 51.0, 89.0, 185.0, 113.0, 246.0, 142.0, 37.0, 30.0, 57.0, 103.0, 97.0, 83.0, 115.0, 171.0, 99.0, 193.0, 143.0, 74.0, 57.0, 51.0, 43.0, 99.0, 57.0, 138.0, 63.0, 122.0, 97.0, 83.0, 141.0, 107.0, 102.0, 79.0, 44.0, 112.0, 76.0, 78.0, 91.0, 128.0, 27.0, 210.0, 50.0, 77.0, 43.0, 238.0, 47.0, 147.0, 65.0, 202.0, 38.0, 100.0, 39.0, 106.0, 165.0, 161.0, 218.0, 64.0, 238.0, 131.0, 88.0, 74.0, 23.0, 21.0, 163.0, 228.0, 21.0, 117.0, 112.0, 139.0, 155.0, 77.0, 128.0, 193.0, 107.0, 89.0, 105.0, 57.0, 106.0, 246.0, 214.0, 232.0, 196.0, 45.0, 10.0, 93.0, 27.0, 148.0, 128.0, 104.0, 29.0, 209.0, 164.0, 81.0, 104.0, 154.0, 27.0, 73.0, 122.0, 68.0, 120.0, 52.0, 84.0, 39.0, 58.0, 126.0, 256.0, 40.0, 53.0, 104.0, 68.0, 82.0, 73.0, 70.0, 99.0, 68.0, 175.0, 110.0, 34.0, 59.0, 12.0, 104.0, 42.0, 52.0, 92.0, 94.0, 113.0, 25.0, 56.0, 53.0, 68.0, 41.0, 125.0, 48.0, 96.0, 63.0, 36.0, 123.0, 49.0, 180.0, 25.0, 48.0, 140.0, 59.0, 141.0, 42.0, 65.0, 80.0, 55.0, 73.0, 10.0, 12.0, 71.0, 24.0, 121.0, 60.0, 86.0, 58.0, 78.0, 48.0, 48.0, 46.0, 152.0, 100.0, 96.0, 102.0, 143.0, 47.0, 161.0, 160.0, 43.0, 113.0, 23.0, 85.0, 198.0, 142.0, 86.0, 206.0, 66.0, 214.0, 87.0, 61.0, 172.0, 77.0, 101.0, 77.0, 84.0, 70.0, 88.0, 143.0, 48.0, 46.0, 108.0, 99.0, 155.0, 97.0, 47.0, 98.0, 49.0, 97.0, 115.0, 91.0, 130.0, 68.0, 80.0, 13.0, 127.0, 53.0, 118.0, 106.0, 33.0, 178.0, 74.0, 120.0, 117.0, 69.0, 111.0, 20.0, 139.0, 94.0, 174.0, 15.0, 61.0, 101.0, 70.0, 71.0, 53.0, 148.0, 76.0, 77.0, 108.0, 47.0, 143.0, 57.0, 81.0, 142.0, 42.0, 21.0, 104.0, 111.0, 53.0, 9.0, 176.0, 108.0, 102.0, 163.0, 130.0, 153.0, 36.0, 45.0, 39.0, 36.0, 143.0, 57.0, 17.0, 35.0, 16.0, 20.0, 14.0, 30.0, 43.0, 82.0, 114.0, 80.0, 34.0, 50.0, 48.0, 49.0, 132.0, 37.0, 130.0, 119.0, 132.0, 55.0, 69.0, 141.0, 69.0, 71.0, 178.0, 141.0, 5.0, 25.0, 35.0, 48.0, 161.0, 62.0, 48.0, 207.0, 61.0, 53.0, 89.0, 159.0, 75.0, 49.0, 56.0, 79.0, 229.0, 69.0, 69.0, 50.0, 230.0, 166.0, 170.0, 156.0, 35.0, 73.0, 121.0, 75.0, 57.0, 208.0, 104.0, 53.0, 29.0, 40.0, 39.0, 37.0, 32.0, 127.0, 222.0, 36.0, 74.0, 205.0, 11.0, 44.0, 155.0, 154.0, 140.0, 22.0, 59.0, 40.0, 48.0, 138.0, 49.0, 114.0, 124.0, 76.0, 176.0, 65.0, 95.0, 70.0, 14.0, 110.0, 39.0, 78.0, 75.0, 108.0, 70.0, 222.0, 49.0, 24.0, 37.0, 170.0, 109.0, 58.0, 134.0, 54.0, 53.0, 27.0, 33.0, 38.0, 88.0, 28.0, 44.0, 120.0, 17.0, 88.0, 12.0, 142.0, 107.0, 26.0, 68.0, 59.0, 134.0, 197.0, 101.0, 76.0, 103.0, 104.0, 140.0, 20.0, 89.0, 83.0, 77.0, 27.0, 187.0, 28.0, 71.0, 150.0, 127.0, 40.0, 59.0, 48.0, 71.0, 133.0, 91.0, 152.0, 83.0, 47.0, 37.0, 133.0, 99.0, 56.0, 159.0, 84.0, 108.0, 86.0, 69.0, 103.0, 210.0, 113.0, 76.0, 90.0, 60.0, 66.0, 101.0, 81.0, 132.0, 116.0, 93.0, 151.0, 202.0, 52.0, 30.0, 48.0, 40.0, 63.0, 68.0, 117.0, 152.0, 234.0, 103.0, 30.0, 30.0, 51.0, 239.0, 150.0, 94.0, 204.0, 173.0, 102.0, 136.0, 112.0, 112.0, 113.0, 91.0, 37.0, 39.0, 109.0, 145.0, 69.0, 114.0, 105.0, 84.0, 44.0, 77.0, 241.0, 84.0, 77.0, 44.0, 180.0, 40.0, 38.0, 36.0, 112.0, 134.0, 79.0, 24.0, 27.0, 8.0, 79.0, 37.0, 74.0, 74.0, 36.0, 77.0, 230.0, 45.0, 118.0, 118.0, 52.0, 84.0, 46.0, 80.0, 89.0, 146.0, 104.0, 68.0, 54.0, 68.0, 38.0, 47.0, 59.0, 69.0, 131.0, 103.0, 123.0, 56.0, 52.0, 68.0, 72.0, 109.0, 126.0, 84.0, 169.0, 53.0, 91.0, 72.0, 86.0, 50.0, 180.0, 14.0, 94.0, 167.0, 111.0, 54.0, 189.0, 62.0, 61.0, 211.0, 29.0, 77.0, 85.0, 73.0, 71.0, 188.0, 29.0, 62.0, 98.0, 140.0, 27.0, 52.0, 84.0, 37.0, 70.0, 25.0, 99.0, 82.0, 84.0, 62.0, 18.0, 216.0, 68.0, 53.0, 92.0, 85.0, 59.0, 41.0, 112.0, 47.0, 150.0, 78.0, 114.0, 55.0, 81.0, 141.0, 64.0, 89.0, 81.0, 47.0, 162.0, 152.0, 88.0, 79.0, 76.0, 113.0, 43.0, 214.0, 23.0, 89.0, 68.0, 125.0, 250.0, 104.0, 235.0, 146.0, 64.0, 54.0, 31.0, 51.0, 90.0, 34.0, 13.0, 55.0, 45.0, 40.0, 40.0, 200.0, 172.0, 11.0, 153.0, 98.0, 134.0, 167.0, 128.0, 76.0, 54.0, 74.0, 71.0, 108.0, 80.0, 129.0, 236.0, 209.0, 135.0, 139.0, 49.0, 106.0, 146.0, 40.0, 87.0, 73.0, 63.0, 38.0, 48.0, 98.0, 49.0, 96.0, 66.0, 22.0, 85.0, 112.0, 60.0, 112.0, 51.0, 17.0, 91.0, 71.0, 70.0, 35.0, 69.0, 158.0, 32.0, 122.0, 89.0, 73.0, 31.0, 204.0, 80.0, 35.0, 90.0, 90.0, 59.0, 59.0, 92.0, 97.0, 56.0, 39.0, 121.0, 65.0, 41.0, 163.0, 80.0, 244.0, 27.0, 82.0, 38.0, 64.0, 43.0, 38.0, 119.0, 60.0, 58.0, 78.0, 67.0, 143.0, 54.0, 99.0, 52.0, 96.0, 90.0, 86.0, 65.0, 64.0, 16.0, 98.0, 44.0, 29.0, 56.0, 21.0, 84.0, 53.0, 18.0, 38.0, 29.0, 180.0, 15.0, 105.0, 121.0, 123.0, 69.0, 54.0, 53.0, 179.0, 24.0, 117.0, 105.0, 111.0, 207.0, 136.0, 52.0, 221.0, 92.0, 104.0, 95.0, 28.0, 109.0, 101.0, 147.0, 28.0, 110.0, 115.0, 7.0, 100.0, 57.0, 46.0, 102.0, 29.0, 88.0, 33.0, 69.0, 47.0, 158.0, 176.0, 117.0, 29.0, 38.0, 98.0, 80.0, 103.0, 110.0, 120.0, 188.0, 199.0, 81.0, 122.0, 36.0, 100.0, 62.0, 190.0, 82.0, 82.0, 36.0, 63.0, 11.0, 72.0, 83.0, 63.0, 118.0, 123.0, 28.0, 52.0, 44.0, 117.0, 69.0, 73.0, 44.0, 105.0, 59.0, 148.0, 52.0, 34.0, 61.0, 94.0, 135.0, 50.0, 51.0, 70.0, 102.0, 73.0, 108.0, 28.0, 33.0, 131.0, 26.0, 146.0, 174.0, 101.0, 191.0, 23.0, 121.0, 114.0, 130.0, 201.0, 194.0, 209.0, 133.0, 75.0, 52.0, 107.0, 125.0, 137.0, 94.0, 103.0, 58.0, 33.0, 61.0, 125.0, 22.0, 207.0, 120.0, 71.0, 78.0, 91.0, 123.0, 219.0, 49.0, 23.0, 186.0, 22.0, 230.0, 121.0, 53.0, 110.0, 243.0, 60.0, 256.0, 40.0, 60.0, 204.0, 62.0, 102.0, 65.0, 80.0, 137.0, 122.0, 208.0, 71.0, 149.0, 126.0, 175.0, 21.0, 185.0, 226.0, 29.0, 241.0, 51.0, 49.0, 60.0, 126.0, 37.0, 50.0, 26.0, 74.0, 132.0, 59.0, 78.0, 16.0, 118.0, 12.0, 57.0, 28.0, 66.0, 147.0, 28.0, 206.0, 35.0, 119.0, 96.0, 51.0, 82.0, 94.0, 20.0, 20.0, 46.0, 101.0, 126.0, 81.0, 40.0, 114.0, 45.0, 22.0, 47.0, 40.0, 182.0, 67.0, 97.0, 97.0, 81.0, 126.0, 60.0, 161.0, 24.0, 67.0, 144.0, 83.0, 35.0, 180.0, 123.0, 250.0, 23.0, 104.0, 100.0, 104.0, 136.0, 143.0, 73.0, 79.0, 200.0, 139.0, 143.0, 147.0, 88.0, 36.0, 15.0, 211.0, 40.0, 162.0, 115.0, 98.0, 79.0, 125.0, 90.0, 104.0, 65.0, 36.0, 104.0, 56.0, 56.0, 65.0, 104.0, 67.0, 51.0, 121.0, 72.0, 105.0, 105.0, 103.0, 92.0, 58.0, 50.0, 127.0, 205.0, 95.0, 219.0, 19.0, 112.0, 100.0, 94.0, 78.0, 80.0, 95.0, 133.0, 18.0, 197.0, 81.0, 59.0, 69.0, 77.0, 90.0, 41.0, 126.0, 100.0, 81.0, 51.0, 6.0, 104.0, 121.0, 83.0, 122.0, 111.0, 93.0, 19.0, 102.0, 137.0, 135.0, 113.0, 121.0, 22.0, 80.0, 72.0, 124.0, 169.0, 124.0, 134.0, 205.0, 178.0, 117.0, 157.0, 129.0, 77.0, 67.0, 219.0, 91.0, 178.0, 57.0, 18.0, 57.0, 185.0, 186.0, 30.0, 52.0, 54.0, 93.0, 172.0, 25.0, 48.0, 55.0, 61.0, 105.0, 48.0, 161.0, 41.0, 169.0, 46.0, 75.0, 114.0, 24.0, 18.0, 99.0, 38.0, 60.0, 27.0, 69.0, 83.0, 91.0, 68.0, 58.0, 49.0, 27.0, 70.0, 40.0, 47.0, 191.0, 93.0, 152.0, 60.0, 116.0, 78.0, 21.0, 163.0, 33.0, 73.0, 18.0, 110.0, 92.0, 105.0, 45.0, 21.0, 130.0, 141.0, 153.0, 71.0, 228.0, 18.0, 29.0, 196.0, 22.0, 145.0, 213.0, 21.0, 11.0, 185.0, 34.0, 210.0, 255.0, 61.0, 107.0, 60.0, 153.0, 128.0, 22.0, 76.0, 77.0, 146.0, 55.0, 29.0, 245.0, 34.0, 232.0, 48.0, 101.0, 205.0, 148.0, 51.0, 76.0, 74.0, 205.0, 153.0, 15.0, 249.0, 56.0, 69.0, 133.0, 247.0, 132.0, 206.0, 66.0, 135.0, 192.0, 181.0, 57.0, 144.0, 84.0, 61.0, 11.0, 97.0, 42.0, 118.0, 107.0, 111.0, 77.0, 69.0, 49.0, 120.0, 46.0, 152.0, 65.0, 39.0, 150.0, 109.0, 233.0, 48.0, 129.0, 241.0, 175.0, 50.0, 49.0, 96.0, 207.0, 64.0, 135.0, 204.0, 226.0, 115.0, 226.0, 84.0, 180.0, 118.0, 200.0, 53.0, 136.0, 112.0, 48.0, 189.0, 68.0, 237.0, 95.0, 154.0, 77.0, 106.0, 243.0, 247.0, 97.0, 25.0, 97.0, 95.0, 116.0, 210.0, 138.0, 178.0, 133.0, 251.0, 92.0, 69.0, 154.0, 61.0, 39.0, 61.0, 27.0, 218.0, 86.0, 33.0, 86.0, 52.0, 147.0, 42.0, 188.0, 68.0, 141.0, 239.0, 150.0, 93.0, 72.0, 162.0, 50.0, 99.0, 114.0, 159.0, 109.0, 91.0, 33.0, 54.0, 231.0, 171.0, 85.0, 51.0, 73.0, 138.0, 42.0, 199.0, 89.0, 96.0, 74.0, 46.0, 110.0, 121.0, 159.0, 182.0, 71.0, 105.0, 86.0, 83.0, 153.0, 141.0, 81.0, 128.0, 67.0, 194.0, 200.0, 112.0, 125.0, 45.0, 139.0, 65.0, 211.0, 183.0, 218.0, 60.0, 123.0, 89.0, 140.0, 56.0, 71.0, 74.0, 112.0, 148.0, 54.0, 226.0, 139.0, 130.0, 132.0, 48.0, 123.0, 105.0, 96.0, 98.0, 13.0, 129.0, 107.0, 93.0, 114.0, 79.0, 13.0, 108.0, 102.0, 50.0, 199.0, 151.0, 108.0, 57.0, 124.0, 90.0, 140.0, 149.0, 22.0, 183.0, 117.0, 27.0, 155.0, 120.0, 54.0, 122.0, 75.0, 126.0, 210.0, 73.0, 132.0, 138.0, 88.0, 66.0, 56.0, 118.0, 160.0, 86.0, 123.0, 154.0, 135.0, 67.0, 95.0, 12.0, 91.0, 14.0, 98.0, 54.0, 88.0, 17.0, 32.0, 76.0, 164.0, 118.0, 49.0, 81.0, 201.0, 59.0, 205.0, 143.0, 200.0, 111.0, 179.0, 60.0, 42.0, 66.0, 146.0, 147.0, 173.0, 143.0, 154.0, 240.0, 216.0, 168.0, 67.0, 121.0, 146.0, 61.0, 124.0, 45.0, 238.0, 53.0, 104.0, 152.0, 77.0, 103.0, 139.0, 18.0, 28.0, 69.0, 123.0, 150.0, 36.0, 93.0, 130.0, 159.0, 34.0, 161.0, 13.0, 224.0, 129.0, 148.0, 77.0, 136.0, 210.0, 151.0, 132.0, 115.0, 207.0, 106.0, 36.0, 148.0, 87.0, 133.0, 135.0, 25.0, 84.0, 51.0, 61.0, 97.0, 46.0, 109.0, 204.0, 212.0, 79.0, 148.0, 112.0, 125.0, 42.0, 151.0, 58.0, 49.0, 36.0, 127.0, 116.0, 67.0, 212.0, 66.0, 131.0, 38.0, 143.0, 178.0, 65.0, 166.0, 77.0, 237.0, 46.0, 31.0, 193.0, 156.0, 162.0, 69.0, 146.0, 48.0, 134.0, 159.0, 40.0, 170.0, 78.0, 67.0, 143.0, 256.0, 114.0, 103.0, 124.0, 88.0, 109.0, 121.0, 174.0, 181.0, 62.0, 91.0, 46.0, 128.0, 123.0, 109.0, 129.0, 200.0, 182.0, 168.0, 74.0, 175.0, 192.0, 130.0, 234.0, 172.0, 97.0, 171.0, 93.0, 182.0, 150.0, 87.0, 42.0, 187.0, 103.0, 75.0, 76.0, 136.0, 39.0, 189.0, 168.0, 208.0, 176.0, 246.0, 246.0, 93.0, 99.0, 29.0, 52.0, 195.0, 84.0, 129.0, 156.0, 56.0, 116.0, 217.0, 55.0, 141.0, 156.0, 124.0, 168.0, 129.0, 126.0, 70.0, 188.0, 163.0, 113.0, 28.0, 106.0, 134.0, 153.0, 192.0, 208.0, 74.0, 188.0, 192.0, 49.0, 75.0, 120.0, 128.0, 66.0, 144.0, 86.0, 100.0, 141.0, 64.0, 44.0, 131.0, 91.0, 117.0, 50.0, 73.0, 73.0, 183.0, 108.0, 252.0, 30.0, 32.0, 19.0, 68.0, 133.0, 116.0, 213.0, 76.0, 111.0, 101.0, 69.0, 204.0, 106.0, 205.0, 116.0, 110.0, 137.0, 172.0, 142.0, 65.0, 48.0, 55.0, 133.0, 110.0, 179.0, 217.0, 110.0, 201.0, 62.0, 90.0, 102.0, 120.0, 68.0, 141.0, 113.0, 146.0, 204.0, 146.0, 245.0, 212.0, 200.0, 125.0, 112.0, 149.0, 127.0, 142.0, 25.0, 27.0, 67.0, 124.0, 13.0, 65.0, 25.0, 97.0, 67.0, 127.0, 153.0, 22.0, 180.0, 50.0, 89.0, 111.0, 117.0, 72.0, 92.0, 106.0, 53.0, 110.0, 143.0, 91.0, 158.0, 113.0, 22.0, 108.0, 88.0, 159.0, 65.0, 22.0, 111.0, 194.0, 186.0, 103.0, 199.0, 172.0, 65.0, 103.0, 96.0, 47.0, 52.0, 205.0, 104.0, 123.0, 105.0, 111.0, 55.0, 30.0, 12.0, 212.0, 251.0, 160.0, 101.0, 121.0, 102.0, 107.0, 88.0, 183.0, 113.0, 135.0, 57.0, 84.0, 92.0, 141.0, 99.0, 116.0, 90.0, 223.0, 154.0, 171.0, 98.0, 34.0, 76.0, 195.0, 110.0, 38.0, 66.0, 55.0, 163.0, 10.0, 75.0, 52.0, 60.0, 45.0, 221.0, 91.0, 195.0, 102.0, 79.0, 135.0, 123.0, 111.0, 59.0, 78.0, 120.0, 170.0, 109.0, 124.0, 134.0, 110.0, 129.0, 155.0, 14.0, 172.0, 117.0, 39.0, 154.0, 103.0, 88.0, 51.0, 71.0, 25.0, 211.0, 79.0, 116.0, 81.0, 241.0, 78.0, 124.0, 111.0, 29.0, 64.0, 152.0, 223.0, 166.0, 100.0, 167.0, 228.0, 94.0, 122.0, 232.0, 72.0, 114.0, 169.0, 33.0, 115.0, 216.0, 204.0, 105.0, 45.0, 40.0, 11.0, 126.0, 98.0, 142.0, 226.0, 99.0, 42.0, 12.0, 181.0, 240.0, 169.0, 186.0, 170.0, 162.0, 163.0, 194.0, 218.0, 186.0, 79.0, 142.0, 99.0, 16.0, 160.0, 21.0, 84.0, 42.0, 62.0, 177.0, 71.0, 121.0, 52.0, 135.0, 135.0, 110.0, 116.0, 28.0, 232.0, 132.0, 88.0, 178.0, 107.0, 42.0, 175.0, 28.0, 198.0, 131.0, 171.0, 41.0, 133.0, 197.0, 151.0, 30.0, 36.0, 246.0, 67.0, 119.0, 161.0, 166.0, 209.0, 206.0, 115.0, 94.0, 168.0, 118.0, 178.0, 112.0, 170.0, 71.0, 68.0, 87.0, 26.0, 177.0, 37.0, 147.0, 145.0, 123.0, 138.0, 117.0, 75.0, 111.0, 7.0, 25.0, 79.0, 254.0, 75.0, 55.0, 78.0, 216.0, 99.0, 148.0, 183.0, 33.0, 34.0, 26.0, 107.0, 32.0, 67.0, 140.0, 63.0, 174.0, 103.0, 197.0, 204.0, 56.0, 91.0, 53.0, 66.0, 39.0, 123.0, 52.0, 24.0, 129.0, 82.0, 46.0, 39.0, 100.0, 218.0, 44.0, 65.0, 175.0, 29.0, 117.0, 26.0, 201.0, 29.0, 67.0, 192.0, 81.0, 240.0, 167.0, 84.0, 181.0, 45.0, 156.0, 91.0, 39.0, 124.0, 149.0, 109.0, 75.0, 180.0, 94.0, 56.0, 17.0, 124.0, 11.0, 27.0, 57.0, 218.0, 29.0, 176.0, 107.0, 157.0, 151.0, 19.0, 101.0, 128.0, 94.0, 87.0, 176.0, 144.0, 33.0, 69.0, 20.0, 89.0, 105.0, 216.0, 84.0, 127.0, 57.0, 134.0, 18.0, 69.0, 109.0, 41.0, 141.0, 13.0, 56.0, 49.0, 151.0, 114.0, 54.0, 122.0, 207.0, 61.0, 84.0, 26.0, 46.0, 33.0, 217.0, 101.0, 64.0, 109.0, 214.0, 78.0, 113.0, 156.0, 250.0, 78.0, 250.0, 6.0, 144.0, 172.0, 124.0, 105.0, 44.0, 111.0, 174.0, 67.0, 133.0, 150.0, 57.0, 14.0, 106.0, 62.0, 65.0, 123.0, 74.0, 144.0, 165.0, 216.0, 147.0, 223.0, 133.0, 148.0, 135.0, 183.0, 227.0, 40.0, 252.0, 102.0, 40.0, 130.0, 45.0, 66.0, 23.0, 54.0, 236.0, 231.0, 140.0, 167.0, 63.0, 168.0, 167.0, 202.0, 231.0, 72.0, 38.0, 109.0, 33.0, 89.0, 52.0, 66.0, 179.0, 236.0, 74.0, 89.0, 228.0, 51.0, 83.0, 61.0, 34.0, 67.0, 86.0, 185.0, 40.0, 15.0, 55.0, 10.0, 113.0, 21.0, 184.0, 37.0, 34.0, 125.0, 112.0, 249.0, 179.0, 56.0, 151.0, 109.0, 212.0, 19.0, 106.0, 173.0, 113.0, 45.0, 121.0, 35.0, 114.0, 55.0, 100.0, 47.0, 137.0, 16.0, 59.0, 90.0, 112.0, 50.0, 91.0, 46.0, 119.0, 111.0, 47.0, 122.0, 56.0, 99.0, 92.0, 200.0, 202.0, 142.0, 64.0, 76.0, 178.0, 199.0, 159.0, 59.0, 79.0, 79.0, 36.0, 110.0, 18.0, 69.0, 37.0, 109.0, 96.0, 61.0, 34.0, 130.0, 63.0, 46.0, 50.0, 213.0, 60.0, 43.0, 20.0, 49.0, 27.0, 237.0, 88.0, 179.0, 141.0, 92.0, 129.0, 85.0, 73.0, 44.0, 84.0, 75.0, 211.0, 63.0, 87.0, 58.0, 41.0, 35.0, 229.0, 158.0, 41.0, 121.0, 175.0, 51.0, 114.0, 65.0, 71.0, 42.0, 73.0, 53.0, 43.0, 77.0, 102.0, 205.0, 136.0, 173.0, 84.0, 47.0, 45.0, 143.0, 142.0, 88.0, 57.0, 49.0, 214.0, 213.0, 174.0, 23.0, 82.0, 139.0, 199.0, 89.0, 28.0, 55.0, 75.0, 175.0, 55.0, 129.0, 61.0, 110.0, 107.0, 198.0, 32.0, 205.0, 91.0, 138.0, 152.0, 44.0, 32.0, 98.0, 190.0, 43.0, 127.0, 217.0, 48.0, 88.0, 155.0, 93.0, 108.0, 151.0, 243.0, 114.0, 69.0, 163.0, 18.0, 97.0, 166.0, 136.0, 202.0, 82.0, 144.0, 105.0, 55.0, 109.0, 159.0, 184.0, 132.0, 141.0, 123.0, 77.0, 42.0, 88.0, 103.0, 156.0, 66.0, 116.0, 196.0, 131.0, 95.0, 77.0, 206.0, 128.0, 57.0, 90.0, 105.0, 172.0, 202.0, 170.0, 91.0, 199.0, 108.0, 146.0, 136.0, 189.0, 171.0, 191.0, 76.0, 70.0, 36.0, 112.0, 246.0, 12.0, 183.0, 133.0, 87.0, 76.0, 43.0, 132.0, 97.0, 48.0, 167.0, 84.0, 194.0, 147.0, 118.0, 168.0, 176.0, 46.0, 14.0, 39.0, 135.0, 111.0, 132.0, 26.0, 125.0, 171.0, 66.0, 185.0, 106.0, 72.0, 128.0, 55.0, 89.0, 102.0, 76.0, 178.0, 94.0, 162.0, 126.0, 151.0, 18.0, 106.0, 131.0, 34.0, 71.0, 224.0, 116.0, 184.0, 53.0, 106.0, 118.0, 103.0, 77.0, 47.0, 235.0, 44.0, 132.0, 161.0, 149.0, 70.0, 111.0, 141.0, 219.0, 221.0, 114.0, 70.0, 192.0, 30.0, 136.0, 152.0, 138.0, 185.0, 96.0, 108.0, 79.0, 58.0, 92.0, 30.0, 196.0, 92.0, 17.0, 76.0, 63.0, 18.0, 77.0, 112.0, 162.0, 148.0, 231.0, 92.0, 204.0, 189.0, 68.0, 124.0, 164.0, 97.0, 200.0, 212.0, 47.0, 96.0, 85.0, 130.0, 49.0, 150.0, 159.0, 67.0, 136.0, 67.0, 143.0, 31.0, 47.0, 253.0, 29.0, 87.0, 202.0, 127.0, 49.0, 145.0, 41.0, 123.0, 160.0, 130.0, 55.0, 135.0, 134.0, 128.0, 157.0, 106.0, 109.0, 126.0, 154.0, 80.0, 125.0, 241.0, 131.0, 104.0, 188.0, 157.0, 46.0, 94.0, 60.0, 113.0, 81.0, 36.0, 120.0, 153.0, 34.0, 108.0, 141.0, 177.0, 105.0, 114.0, 51.0, 58.0, 32.0, 177.0, 67.0, 229.0, 166.0, 44.0, 159.0, 152.0, 66.0, 91.0, 92.0, 221.0, 160.0, 175.0, 209.0, 133.0, 80.0, 98.0, 153.0, 163.0, 100.0, 213.0, 119.0, 130.0, 163.0, 15.0, 93.0, 88.0, 172.0, 95.0, 142.0, 98.0, 140.0, 93.0, 133.0, 64.0, 130.0, 75.0, 93.0, 26.0, 156.0, 207.0, 68.0, 56.0, 84.0, 124.0, 13.0, 186.0, 196.0, 111.0, 171.0, 226.0, 115.0, 122.0, 107.0, 150.0, 142.0, 140.0, 165.0, 74.0, 125.0, 71.0, 48.0, 61.0, 150.0, 99.0, 64.0, 115.0, 174.0, 41.0, 244.0, 55.0, 17.0, 91.0, 93.0, 127.0, 89.0, 143.0, 227.0, 112.0, 90.0, 63.0, 158.0, 35.0, 126.0, 218.0, 51.0, 130.0, 58.0, 120.0, 67.0, 142.0, 76.0, 52.0, 133.0, 160.0, 126.0, 53.0, 177.0, 158.0, 56.0, 35.0, 37.0, 157.0, 141.0, 20.0, 208.0, 42.0, 45.0, 148.0, 120.0, 209.0, 55.0, 77.0, 185.0, 27.0, 42.0, 81.0, 233.0, 49.0, 177.0, 102.0, 136.0, 41.0, 75.0, 110.0, 145.0, 60.0, 36.0, 42.0, 45.0, 193.0, 40.0, 50.0, 59.0, 155.0, 84.0, 169.0, 171.0, 195.0, 242.0, 175.0, 84.0, 173.0, 115.0, 64.0, 32.0, 98.0, 101.0, 130.0, 154.0, 45.0, 161.0, 93.0, 50.0, 82.0, 112.0, 151.0, 101.0, 79.0, 41.0, 118.0, 75.0, 225.0, 174.0, 20.0, 101.0, 30.0, 181.0, 64.0, 23.0, 194.0, 83.0, 145.0, 124.0, 178.0, 84.0, 40.0, 190.0, 192.0, 175.0, 185.0, 64.0, 117.0, 95.0, 172.0, 185.0, 106.0, 10.0, 69.0, 6.0, 83.0, 97.0, 157.0, 8.0, 27.0, 107.0, 98.0, 199.0, 222.0, 180.0, 82.0, 90.0, 90.0, 44.0, 100.0, 97.0, 111.0, 219.0, 68.0, 176.0, 57.0, 107.0, 147.0, 245.0, 162.0, 38.0, 96.0, 143.0, 245.0, 190.0, 244.0, 142.0, 133.0, 138.0, 22.0, 168.0, 163.0, 153.0, 156.0, 26.0, 178.0, 175.0, 240.0, 231.0, 74.0, 144.0, 188.0, 156.0, 146.0, 59.0, 193.0, 82.0, 161.0, 239.0, 206.0, 162.0, 47.0, 89.0, 148.0, 92.0, 90.0, 118.0, 188.0, 45.0, 85.0, 201.0, 57.0, 148.0, 127.0, 178.0, 165.0, 216.0, 89.0, 57.0, 190.0, 194.0, 138.0, 65.0, 47.0, 118.0, 38.0, 134.0, 88.0, 60.0, 175.0, 94.0, 158.0, 52.0, 165.0, 90.0, 124.0, 235.0, 101.0, 70.0, 186.0, 124.0, 226.0, 192.0, 33.0, 90.0, 138.0, 122.0, 46.0, 100.0, 45.0, 73.0, 102.0, 107.0, 74.0, 116.0, 162.0, 210.0, 118.0, 121.0, 164.0, 187.0, 127.0, 125.0, 52.0, 42.0, 14.0, 159.0, 155.0, 78.0, 26.0, 149.0, 33.0, 136.0, 78.0, 159.0, 108.0, 162.0, 100.0, 87.0, 164.0, 92.0, 132.0, 169.0, 108.0, 150.0, 138.0, 49.0, 125.0, 147.0, 81.0, 133.0, 64.0, 167.0, 53.0, 117.0, 87.0, 96.0, 160.0, 80.0, 199.0, 164.0, 147.0, 183.0, 135.0, 79.0, 151.0, 77.0, 126.0, 134.0, 73.0, 154.0, 189.0, 120.0, 215.0, 209.0, 144.0, 112.0, 63.0, 173.0, 150.0, 199.0, 82.0, 86.0, 45.0, 151.0, 138.0, 76.0, 111.0, 138.0, 113.0, 126.0, 118.0, 153.0, 148.0, 63.0, 177.0, 90.0, 77.0, 211.0, 81.0, 22.0, 163.0, 191.0, 145.0, 118.0, 109.0, 41.0, 102.0, 139.0, 59.0, 85.0, 68.0, 80.0, 29.0, 118.0, 66.0, 41.0, 112.0, 35.0, 164.0, 160.0, 105.0, 137.0, 174.0, 102.0, 107.0, 177.0, 137.0, 163.0, 172.0, 21.0, 218.0, 253.0, 155.0, 14.0, 188.0, 228.0, 196.0, 82.0, 59.0, 114.0, 105.0, 39.0, 160.0, 130.0, 55.0, 151.0, 69.0, 178.0, 128.0, 133.0, 119.0, 227.0, 80.0, 18.0, 252.0, 126.0, 148.0, 92.0, 185.0, 28.0, 96.0, 82.0, 73.0, 41.0, 86.0, 79.0, 115.0, 121.0, 16.0, 81.0, 7.0, 155.0, 94.0, 190.0, 100.0, 41.0, 58.0, 27.0, 251.0, 153.0, 27.0, 74.0, 91.0, 50.0, 139.0, 55.0, 22.0, 239.0, 31.0, 62.0, 99.0, 94.0, 145.0, 36.0, 165.0, 152.0, 130.0, 132.0, 121.0, 44.0, 23.0, 229.0, 119.0, 109.0, 205.0, 85.0, 62.0, 109.0, 89.0, 107.0, 116.0, 99.0, 96.0, 116.0, 70.0, 137.0, 168.0, 78.0, 129.0, 37.0, 27.0, 161.0, 151.0, 183.0, 157.0, 76.0, 113.0, 176.0, 217.0, 158.0, 14.0, 26.0, 159.0, 72.0, 131.0, 138.0, 50.0, 17.0, 23.0, 133.0, 171.0, 94.0, 70.0, 80.0, 135.0, 57.0, 90.0, 171.0, 28.0, 20.0, 57.0, 28.0, 115.0, 198.0, 135.0, 229.0, 74.0, 64.0, 104.0, 185.0, 52.0, 68.0, 45.0, 27.0, 199.0, 74.0, 88.0, 215.0, 97.0, 55.0, 40.0, 190.0, 57.0, 120.0, 248.0, 176.0, 142.0, 66.0, 40.0, 53.0, 99.0, 226.0, 82.0, 30.0, 35.0, 251.0, 127.0, 118.0, 32.0, 33.0, 56.0, 29.0, 59.0, 45.0, 129.0, 29.0, 49.0, 227.0, 80.0, 159.0, 14.0, 236.0, 147.0, 122.0, 191.0, 87.0, 143.0, 78.0, 74.0, 117.0, 96.0, 198.0, 49.0, 114.0, 174.0, 122.0, 54.0, 142.0, 159.0, 106.0, 86.0, 159.0, 44.0, 120.0, 40.0, 45.0, 227.0, 190.0, 128.0, 90.0, 78.0, 80.0, 71.0, 106.0, 189.0, 152.0, 54.0, 133.0, 105.0, 34.0, 179.0, 188.0, 161.0, 91.0, 96.0, 145.0, 182.0, 98.0, 228.0, 242.0, 97.0, 52.0, 225.0, 116.0, 104.0, 62.0, 79.0, 174.0, 151.0, 119.0, 64.0, 108.0, 217.0, 178.0, 62.0, 160.0, 87.0, 191.0, 110.0, 19.0, 34.0, 146.0, 162.0, 214.0, 119.0, 189.0, 171.0, 128.0, 153.0, 158.0, 124.0, 41.0, 148.0, 165.0, 141.0, 59.0, 59.0, 49.0, 200.0, 107.0, 134.0, 112.0, 19.0, 154.0, 135.0, 209.0, 110.0, 65.0, 99.0, 126.0, 100.0, 145.0, 176.0, 160.0, 156.0, 153.0, 84.0, 151.0, 140.0, 97.0, 45.0, 120.0, 67.0, 122.0, 176.0, 122.0, 53.0, 147.0, 132.0, 146.0, 153.0, 243.0, 180.0, 94.0, 104.0, 120.0, 174.0, 42.0, 83.0, 83.0, 142.0, 75.0, 92.0, 47.0, 180.0, 134.0, 126.0, 92.0, 85.0, 190.0, 29.0, 103.0, 55.0, 140.0, 250.0, 44.0, 214.0, 110.0, 29.0, 89.0, 113.0, 77.0, 120.0, 124.0, 109.0, 176.0, 109.0, 109.0, 199.0, 95.0, 58.0, 246.0, 102.0, 156.0, 123.0, 175.0, 79.0, 234.0, 142.0, 76.0, 65.0, 169.0, 142.0, 78.0, 51.0, 156.0, 32.0, 151.0, 77.0, 43.0, 41.0, 114.0, 24.0, 135.0, 130.0, 50.0, 175.0, 192.0, 163.0, 139.0, 34.0, 127.0, 136.0, 167.0, 178.0, 97.0, 121.0, 45.0, 73.0, 72.0, 120.0, 158.0, 101.0, 153.0, 105.0, 45.0, 126.0, 174.0, 29.0, 126.0, 77.0, 208.0, 189.0, 193.0, 128.0, 177.0, 201.0, 169.0, 201.0, 178.0, 111.0, 120.0, 116.0, 157.0, 70.0, 180.0, 126.0, 87.0, 233.0, 31.0, 145.0, 227.0, 90.0, 180.0, 106.0, 129.0, 56.0, 88.0, 59.0, 40.0, 96.0, 113.0, 51.0, 98.0, 29.0, 171.0, 139.0, 86.0, 118.0, 121.0, 76.0, 87.0, 149.0, 76.0, 51.0, 134.0, 54.0, 79.0, 111.0, 211.0, 14.0, 77.0, 38.0, 160.0, 134.0, 95.0, 174.0, 211.0, 94.0, 62.0, 105.0, 62.0, 183.0, 222.0, 129.0, 75.0, 49.0, 184.0, 78.0, 92.0, 130.0, 31.0, 92.0, 111.0, 244.0, 141.0, 211.0, 23.0, 82.0, 94.0, 106.0, 141.0, 242.0, 7.0, 98.0, 119.0, 51.0, 69.0, 81.0, 76.0, 53.0, 164.0, 225.0, 45.0, 56.0, 53.0, 112.0, 234.0, 167.0, 178.0, 93.0, 43.0, 8.0, 93.0, 132.0, 118.0, 91.0, 115.0, 73.0, 97.0, 8.0, 138.0, 133.0, 127.0, 146.0, 25.0, 8.0, 9.0, 254.0, 123.0, 106.0, 36.0, 203.0, 110.0, 6.0, 8.0, 64.0, 110.0, 148.0, 163.0, 162.0, 176.0, 108.0, 189.0, 167.0, 165.0, 58.0, 143.0, 51.0, 129.0, 29.0, 147.0, 107.0, 161.0, 29.0, 32.0, 69.0, 104.0, 75.0, 125.0, 106.0, 143.0, 146.0, 144.0, 153.0, 96.0, 38.0, 204.0, 137.0, 191.0, 108.0, 204.0, 224.0, 92.0, 17.0, 168.0, 94.0, 95.0, 184.0, 64.0, 69.0, 96.0, 5.0, 144.0, 158.0, 124.0, 107.0, 204.0, 73.0, 126.0, 109.0, 91.0, 28.0, 108.0, 139.0, 134.0, 247.0, 79.0, 46.0, 135.0, 193.0, 123.0, 140.0, 147.0, 146.0, 39.0, 93.0, 129.0, 67.0, 39.0, 127.0, 33.0, 112.0, 7.0, 72.0, 209.0, 44.0, 72.0, 153.0, 146.0, 116.0, 120.0, 46.0, 129.0, 181.0, 104.0, 57.0, 232.0, 68.0, 168.0, 75.0, 192.0, 136.0, 90.0, 65.0, 118.0, 94.0, 40.0, 159.0, 153.0, 154.0, 141.0, 82.0, 79.0, 206.0, 126.0, 197.0, 150.0, 170.0, 140.0, 112.0, 189.0, 115.0, 191.0, 140.0, 187.0, 53.0, 71.0, 160.0, 194.0, 62.0, 199.0, 49.0, 83.0, 101.0, 21.0, 99.0, 126.0, 38.0, 90.0, 207.0, 138.0, 65.0, 60.0, 167.0, 114.0, 85.0, 89.0, 51.0, 127.0, 61.0, 146.0, 108.0, 83.0, 190.0, 78.0, 121.0, 70.0, 89.0, 76.0, 177.0, 84.0, 47.0, 129.0, 148.0, 238.0, 108.0, 131.0, 141.0, 118.0, 112.0, 52.0, 125.0, 125.0, 188.0, 204.0, 146.0, 68.0, 161.0, 92.0, 76.0, 80.0, 94.0, 234.0, 81.0, 27.0, 109.0, 121.0, 12.0, 25.0, 26.0, 122.0, 75.0, 126.0, 6.0, 112.0, 84.0, 82.0, 118.0, 218.0, 130.0, 42.0, 98.0, 111.0, 138.0, 234.0, 27.0, 78.0, 193.0, 198.0, 67.0, 159.0, 104.0, 191.0, 113.0, 181.0, 74.0, 29.0, 123.0, 9.0, 138.0, 163.0, 122.0, 129.0, 76.0, 140.0, 57.0, 92.0, 159.0, 20.0, 59.0, 141.0, 155.0, 55.0, 119.0, 36.0, 37.0, 32.0, 46.0, 119.0, 152.0, 112.0, 216.0, 68.0, 135.0, 114.0, 211.0, 94.0, 54.0, 105.0, 99.0, 100.0, 67.0, 193.0, 111.0, 97.0, 108.0, 37.0, 38.0, 163.0, 198.0, 62.0, 185.0, 81.0, 168.0, 133.0, 135.0, 79.0, 105.0, 174.0, 95.0, 111.0, 32.0, 113.0, 56.0, 108.0, 109.0, 232.0, 36.0, 63.0, 142.0, 128.0, 229.0, 152.0, 138.0, 90.0, 43.0, 36.0, 114.0, 100.0, 128.0, 37.0, 151.0, 219.0, 133.0, 75.0, 86.0, 149.0, 102.0, 85.0, 109.0, 236.0, 145.0, 207.0, 138.0, 149.0, 80.0, 256.0, 125.0, 131.0, 75.0, 104.0, 99.0, 98.0, 230.0, 125.0, 147.0, 192.0, 129.0, 241.0, 138.0, 150.0, 230.0, 161.0, 69.0, 108.0, 89.0, 161.0, 74.0, 73.0, 54.0, 220.0, 132.0, 95.0, 179.0, 95.0, 153.0, 119.0, 87.0, 121.0, 175.0, 77.0, 77.0, 100.0, 68.0, 163.0, 125.0, 186.0, 112.0, 105.0, 28.0, 28.0, 106.0, 102.0, 68.0, 252.0, 37.0, 92.0, 66.0, 117.0, 228.0, 114.0, 180.0, 101.0, 94.0, 120.0, 178.0, 114.0, 166.0, 144.0, 133.0, 50.0, 117.0, 240.0, 47.0, 104.0, 153.0, 105.0, 189.0, 166.0, 236.0, 139.0, 109.0, 71.0, 183.0, 158.0, 67.0, 109.0, 135.0, 134.0, 86.0, 238.0, 173.0, 70.0, 51.0, 132.0, 84.0, 43.0, 51.0, 212.0, 192.0, 38.0, 155.0, 142.0, 98.0, 31.0, 91.0, 124.0, 82.0, 29.0, 112.0, 45.0, 108.0, 184.0, 64.0, 80.0, 201.0, 113.0, 64.0, 127.0, 195.0, 172.0, 91.0, 160.0, 127.0, 122.0, 153.0, 176.0, 104.0, 83.0, 232.0, 104.0, 107.0, 69.0, 221.0, 127.0, 168.0, 134.0, 110.0, 51.0, 126.0, 61.0, 156.0, 186.0, 140.0, 102.0, 125.0, 155.0, 80.0, 96.0, 103.0, 42.0, 134.0, 124.0, 62.0, 135.0, 40.0, 82.0, 134.0, 177.0, 148.0, 190.0, 139.0, 203.0, 71.0, 159.0, 116.0, 110.0, 163.0, 47.0, 116.0, 167.0, 143.0, 140.0, 172.0, 85.0, 80.0, 192.0, 193.0, 49.0, 137.0, 97.0, 33.0, 158.0, 134.0, 221.0, 102.0, 98.0, 40.0, 139.0, 169.0, 145.0, 111.0, 237.0, 58.0, 152.0, 74.0, 129.0, 141.0, 189.0, 229.0, 88.0, 129.0, 113.0, 173.0, 112.0, 110.0, 147.0, 43.0, 162.0, 30.0, 71.0, 187.0, 43.0, 83.0, 105.0, 246.0, 79.0, 141.0, 87.0, 76.0, 105.0, 173.0, 55.0, 162.0, 110.0, 170.0, 104.0, 67.0, 19.0, 68.0, 95.0, 184.0, 141.0, 153.0, 143.0, 109.0, 174.0, 43.0, 98.0, 138.0, 154.0, 60.0, 97.0, 114.0, 64.0, 97.0, 124.0, 228.0, 122.0, 132.0, 149.0, 135.0, 133.0, 125.0, 223.0, 112.0, 161.0, 133.0, 58.0, 82.0, 99.0, 212.0, 95.0, 155.0, 137.0, 107.0, 145.0, 131.0, 127.0, 184.0, 166.0, 251.0, 143.0, 113.0, 61.0, 123.0, 155.0, 222.0, 58.0, 199.0, 194.0, 178.0, 118.0, 195.0, 77.0, 223.0, 96.0, 74.0, 113.0, 84.0, 90.0, 103.0, 138.0, 173.0, 216.0, 238.0, 46.0, 117.0, 179.0, 133.0, 142.0, 53.0, 94.0, 137.0, 150.0, 61.0, 89.0, 129.0, 53.0, 47.0, 182.0, 127.0, 175.0, 166.0, 80.0, 177.0, 153.0, 155.0, 67.0, 119.0, 35.0, 162.0, 157.0, 66.0, 247.0, 211.0, 152.0, 57.0, 79.0, 135.0, 220.0, 44.0, 144.0, 60.0, 114.0, 50.0, 50.0, 101.0, 103.0, 173.0, 119.0, 67.0, 149.0, 86.0, 58.0, 156.0, 59.0, 88.0, 103.0, 116.0, 77.0, 68.0, 136.0, 188.0, 65.0, 36.0, 236.0, 115.0, 244.0, 103.0, 63.0, 96.0, 167.0, 187.0, 255.0, 126.0, 225.0, 238.0, 112.0, 161.0, 118.0, 123.0, 53.0, 79.0, 211.0, 131.0, 117.0, 56.0, 46.0, 42.0, 88.0, 141.0, 222.0, 119.0, 88.0, 131.0, 151.0, 102.0, 92.0, 136.0, 161.0, 132.0, 62.0, 91.0, 134.0, 124.0, 83.0, 11.0, 104.0, 221.0, 134.0, 186.0, 152.0, 85.0, 99.0, 75.0, 101.0, 108.0, 55.0, 101.0, 164.0, 63.0, 155.0, 40.0, 38.0, 50.0, 167.0, 40.0, 125.0, 228.0, 31.0, 134.0, 161.0, 142.0, 135.0, 82.0, 139.0, 199.0, 109.0, 212.0, 167.0, 143.0, 74.0, 101.0, 88.0, 127.0, 91.0, 72.0, 37.0, 46.0, 168.0, 76.0, 239.0, 243.0, 103.0, 231.0, 96.0, 134.0, 145.0, 96.0, 39.0, 123.0, 151.0, 181.0, 123.0, 100.0, 102.0, 217.0, 221.0, 192.0, 18.0, 126.0, 88.0, 191.0, 146.0, 106.0, 95.0, 180.0, 114.0, 173.0, 202.0, 83.0, 111.0, 100.0, 197.0, 66.0, 78.0, 140.0, 99.0, 199.0, 78.0, 138.0, 132.0, 135.0, 81.0, 54.0, 62.0, 138.0, 140.0, 110.0, 111.0, 97.0, 95.0, 75.0, 112.0, 161.0, 173.0, 151.0, 110.0, 33.0, 215.0, 109.0, 99.0, 98.0, 94.0, 36.0, 43.0, 26.0, 193.0, 239.0, 145.0, 183.0, 174.0, 194.0, 103.0, 187.0, 140.0, 59.0, 109.0, 179.0, 83.0, 49.0, 70.0, 31.0, 129.0, 186.0, 99.0, 136.0, 157.0, 34.0, 228.0, 78.0, 120.0, 175.0, 7.0, 101.0, 164.0, 150.0, 83.0, 177.0, 192.0, 74.0, 70.0, 92.0, 155.0, 86.0, 134.0, 78.0, 102.0, 117.0, 127.0, 19.0, 235.0, 101.0, 69.0, 240.0, 146.0, 165.0, 83.0, 247.0, 58.0, 171.0, 134.0, 140.0, 109.0, 51.0, 70.0, 124.0, 89.0, 110.0, 7.0, 53.0, 71.0, 62.0, 110.0, 103.0, 77.0, 45.0, 165.0, 157.0, 162.0, 125.0, 215.0, 142.0, 121.0, 55.0, 91.0, 235.0, 119.0, 149.0, 103.0, 142.0, 135.0, 72.0, 78.0, 9.0, 20.0, 67.0, 46.0, 111.0, 216.0, 10.0, 58.0, 112.0, 137.0, 75.0, 59.0, 142.0, 72.0, 54.0, 155.0, 191.0, 38.0, 23.0, 121.0, 80.0, 77.0, 65.0, 210.0, 144.0, 123.0, 181.0, 155.0, 195.0, 68.0, 214.0, 132.0, 114.0, 162.0, 75.0, 88.0, 107.0, 178.0, 76.0, 162.0, 170.0, 181.0, 209.0, 29.0, 180.0, 148.0, 218.0, 76.0, 118.0, 61.0, 101.0, 163.0, 28.0, 156.0, 98.0, 105.0, 102.0, 139.0, 162.0, 79.0, 102.0, 134.0, 60.0, 146.0, 227.0, 64.0, 201.0, 177.0, 102.0, 202.0, 43.0, 101.0, 83.0, 161.0, 125.0, 93.0, 109.0, 213.0, 94.0, 72.0, 119.0, 215.0, 75.0, 237.0, 91.0, 130.0, 102.0, 93.0, 90.0, 109.0, 111.0, 72.0, 62.0, 89.0, 52.0, 137.0, 85.0, 44.0, 238.0, 118.0, 201.0, 210.0, 98.0, 91.0, 66.0, 163.0, 160.0, 120.0, 75.0, 134.0, 54.0, 107.0, 76.0, 100.0, 72.0, 133.0, 45.0, 131.0, 180.0, 60.0, 56.0, 118.0, 206.0, 162.0, 252.0, 161.0, 79.0, 67.0, 200.0, 156.0, 104.0, 127.0, 83.0, 5.0, 147.0, 45.0, 137.0, 73.0, 151.0, 110.0, 63.0, 9.0, 50.0, 114.0, 20.0, 219.0, 102.0, 131.0, 223.0, 23.0, 136.0, 102.0, 49.0, 128.0, 98.0, 121.0, 88.0, 64.0, 212.0, 86.0, 52.0, 137.0, 242.0, 164.0, 73.0, 138.0, 238.0, 174.0, 42.0, 173.0, 83.0, 86.0, 110.0, 165.0, 207.0, 170.0, 102.0, 117.0, 70.0, 168.0, 91.0, 212.0, 86.0, 58.0, 109.0, 142.0, 62.0, 46.0, 121.0, 157.0, 97.0, 68.0, 76.0, 43.0, 96.0, 22.0, 48.0, 173.0, 79.0, 167.0, 225.0, 33.0, 85.0, 161.0, 69.0, 75.0, 98.0, 85.0, 80.0, 228.0, 148.0, 49.0, 66.0, 186.0, 231.0, 73.0, 58.0, 26.0, 76.0, 19.0, 28.0, 249.0, 137.0, 169.0, 27.0, 31.0, 113.0, 93.0, 72.0, 227.0, 52.0, 49.0, 89.0, 134.0, 100.0, 166.0, 72.0, 107.0, 188.0, 46.0, 117.0, 64.0, 164.0, 41.0, 64.0, 119.0, 114.0, 132.0, 134.0, 92.0, 256.0, 11.0, 192.0, 63.0, 106.0, 31.0, 110.0, 124.0, 40.0, 52.0, 125.0, 215.0, 52.0, 118.0, 122.0, 35.0, 103.0, 256.0, 172.0, 161.0, 35.0, 40.0, 125.0, 26.0, 147.0, 119.0, 33.0, 87.0, 105.0, 86.0, 83.0, 166.0, 122.0, 47.0, 55.0, 175.0, 98.0, 181.0, 165.0, 25.0, 78.0, 97.0, 31.0, 120.0, 55.0, 245.0, 50.0, 154.0, 72.0, 71.0, 101.0, 76.0, 179.0, 62.0, 212.0, 85.0, 122.0, 92.0, 190.0, 96.0, 151.0, 107.0, 78.0, 79.0, 85.0, 220.0, 93.0, 86.0, 77.0, 101.0, 61.0, 220.0, 96.0, 85.0, 103.0, 173.0, 168.0, 109.0, 98.0, 96.0, 93.0, 82.0, 95.0, 129.0, 61.0, 115.0, 154.0, 73.0, 165.0, 195.0, 45.0, 81.0, 79.0, 120.0, 151.0, 45.0, 81.0, 162.0, 254.0, 137.0, 58.0, 100.0, 111.0, 93.0, 10.0, 56.0, 214.0, 51.0, 161.0, 97.0, 210.0, 109.0, 217.0, 171.0, 44.0, 208.0, 138.0, 79.0, 83.0, 189.0, 142.0, 150.0, 185.0, 68.0, 122.0, 64.0, 63.0, 123.0, 64.0, 159.0, 30.0, 41.0, 104.0, 34.0, 177.0, 111.0, 133.0, 68.0, 77.0, 70.0, 157.0, 200.0, 110.0, 105.0, 96.0, 250.0, 100.0, 53.0, 128.0, 75.0, 53.0, 79.0, 148.0, 107.0, 80.0, 74.0, 100.0, 74.0, 54.0, 93.0, 108.0, 68.0, 189.0, 121.0, 45.0, 167.0, 127.0, 47.0, 83.0, 61.0, 69.0, 136.0, 67.0, 147.0, 147.0, 39.0, 114.0, 169.0, 101.0, 170.0, 21.0, 101.0, 43.0, 209.0, 58.0, 104.0, 65.0, 174.0, 223.0, 47.0, 96.0, 132.0, 101.0, 31.0, 186.0, 86.0, 19.0, 112.0, 105.0, 70.0, 130.0, 208.0, 82.0, 111.0, 82.0, 66.0, 53.0, 61.0, 60.0, 56.0, 138.0, 169.0, 115.0, 126.0, 34.0, 155.0, 82.0, 180.0, 40.0, 83.0, 71.0, 77.0, 104.0, 102.0, 151.0, 114.0, 83.0, 125.0, 47.0, 101.0, 42.0, 34.0, 138.0, 56.0, 233.0, 131.0, 46.0, 44.0, 76.0, 176.0, 125.0, 85.0, 42.0, 83.0, 92.0, 76.0, 115.0, 64.0, 124.0, 5.0, 110.0, 51.0, 150.0, 118.0, 99.0, 78.0, 105.0, 154.0, 67.0, 15.0, 76.0, 78.0, 88.0, 140.0, 144.0, 145.0, 154.0, 208.0, 148.0, 188.0, 82.0, 123.0, 18.0, 95.0, 96.0, 28.0, 164.0, 50.0, 44.0, 234.0, 67.0, 156.0, 59.0, 123.0, 122.0, 55.0, 84.0, 101.0, 240.0, 103.0, 129.0, 208.0, 210.0, 215.0, 192.0, 240.0, 102.0, 196.0, 202.0, 142.0, 91.0, 98.0, 120.0, 177.0, 30.0, 131.0, 93.0, 35.0, 136.0, 182.0, 138.0, 108.0, 163.0, 42.0, 93.0, 77.0, 182.0, 78.0, 217.0, 97.0, 138.0, 196.0, 175.0, 196.0, 33.0, 128.0, 121.0, 71.0, 53.0, 53.0, 121.0, 161.0, 109.0, 39.0, 188.0, 51.0, 84.0, 117.0, 65.0, 185.0, 180.0, 165.0, 69.0, 184.0, 168.0, 146.0, 207.0, 22.0, 186.0, 11.0, 101.0, 61.0, 56.0, 116.0, 26.0, 102.0, 51.0, 88.0, 86.0, 75.0, 178.0, 93.0, 19.0, 85.0, 39.0, 107.0, 124.0, 243.0, 220.0, 65.0, 11.0, 132.0, 105.0, 180.0, 98.0, 51.0, 144.0, 71.0, 184.0, 40.0, 126.0, 173.0, 76.0, 172.0, 57.0, 99.0, 24.0, 46.0, 130.0, 80.0, 64.0, 11.0, 59.0, 85.0, 5.0, 48.0, 92.0, 177.0, 24.0, 31.0, 64.0, 169.0, 38.0, 51.0, 189.0, 25.0, 40.0, 74.0, 133.0, 152.0, 91.0, 137.0, 158.0, 77.0, 30.0, 25.0, 163.0, 135.0, 74.0, 157.0, 230.0, 255.0, 244.0, 72.0, 62.0, 88.0, 89.0, 23.0, 143.0, 41.0, 44.0, 94.0, 177.0, 230.0, 50.0, 187.0, 44.0, 40.0, 76.0, 106.0, 33.0, 164.0, 229.0, 94.0, 41.0, 108.0, 117.0, 184.0, 159.0, 58.0, 75.0, 96.0, 147.0, 156.0, 124.0, 86.0, 24.0, 73.0, 46.0, 115.0, 184.0, 82.0, 141.0, 84.0, 108.0, 33.0, 24.0, 73.0, 111.0, 132.0, 89.0, 105.0, 87.0, 83.0, 96.0, 205.0, 46.0, 121.0, 254.0, 227.0, 47.0, 150.0, 169.0, 40.0, 134.0, 78.0, 109.0, 104.0, 151.0, 86.0, 95.0, 125.0, 100.0, 109.0, 125.0, 87.0, 152.0, 30.0, 148.0, 77.0, 184.0, 61.0, 199.0, 102.0, 105.0, 132.0, 49.0, 91.0, 153.0, 146.0, 108.0, 191.0, 171.0, 256.0, 150.0, 216.0, 120.0, 80.0, 212.0, 132.0, 177.0, 193.0, 107.0, 183.0, 125.0, 110.0, 45.0, 76.0, 144.0, 138.0, 123.0, 74.0, 115.0, 144.0, 113.0, 23.0, 98.0, 107.0, 98.0, 79.0, 123.0, 123.0, 143.0, 131.0, 178.0, 111.0, 125.0, 159.0, 143.0, 131.0, 101.0, 113.0, 143.0, 100.0, 119.0, 27.0, 76.0, 121.0, 98.0, 78.0, 158.0, 225.0, 85.0, 75.0, 120.0, 149.0, 103.0, 154.0, 186.0, 123.0, 159.0, 54.0, 109.0, 119.0, 159.0, 118.0, 101.0, 158.0, 153.0, 72.0, 183.0, 161.0, 112.0, 62.0, 90.0, 39.0, 106.0, 87.0, 107.0, 193.0, 121.0, 156.0, 122.0, 50.0, 24.0, 167.0, 136.0, 206.0, 139.0, 172.0, 76.0, 131.0, 110.0, 112.0, 72.0, 56.0, 76.0, 122.0, 30.0, 172.0, 122.0, 73.0, 163.0, 151.0, 11.0, 17.0, 117.0, 51.0, 147.0, 106.0, 59.0, 136.0, 80.0, 41.0, 99.0, 35.0, 164.0, 36.0, 164.0, 118.0, 55.0, 131.0, 184.0, 124.0, 176.0, 64.0, 144.0, 116.0, 184.0, 65.0, 20.0, 162.0, 113.0, 117.0, 159.0, 54.0, 38.0, 64.0, 65.0, 109.0, 100.0, 143.0, 78.0, 60.0, 21.0, 62.0, 45.0, 41.0, 92.0, 187.0, 151.0, 74.0, 209.0, 122.0, 128.0, 67.0, 24.0, 8.0, 191.0, 69.0, 145.0, 197.0, 127.0, 111.0, 20.0, 97.0, 42.0, 175.0, 121.0, 6.0, 61.0, 24.0, 87.0, 28.0, 66.0, 161.0, 7.0, 84.0, 28.0, 150.0, 35.0, 54.0, 55.0, 86.0, 15.0, 133.0, 89.0, 151.0, 113.0, 115.0, 143.0, 128.0, 129.0, 153.0, 138.0, 55.0, 96.0, 34.0, 101.0, 21.0, 152.0, 7.0, 16.0, 20.0, 143.0, 47.0, 26.0, 76.0, 171.0, 97.0, 25.0, 44.0, 161.0, 18.0, 111.0, 91.0, 23.0, 46.0, 9.0, 73.0, 63.0, 12.0, 43.0, 9.0, 8.0, 201.0, 18.0, 23.0, 13.0, 108.0, 107.0, 17.0, 148.0, 42.0, 12.0, 27.0, 19.0, 9.0, 12.0, 23.0, 11.0, 31.0, 16.0, 34.0, 27.0, 25.0, 28.0, 37.0, 16.0, 19.0, 25.0, 41.0, 42.0, 82.0, 103.0, 108.0, 162.0, 80.0, 104.0, 40.0, 18.0, 86.0, 104.0, 157.0, 93.0, 164.0, 20.0, 236.0, 41.0, 25.0, 43.0, 67.0, 61.0, 128.0, 96.0, 175.0, 207.0, 22.0, 130.0, 102.0, 36.0, 162.0, 35.0, 16.0, 58.0, 65.0, 16.0, 114.0, 26.0, 101.0, 210.0, 7.0, 111.0, 48.0, 109.0, 37.0, 35.0, 51.0, 30.0, 84.0, 210.0, 12.0, 217.0, 120.0, 130.0, 62.0, 106.0, 39.0, 23.0, 133.0, 18.0, 57.0, 143.0, 15.0, 64.0, 31.0, 134.0, 73.0, 46.0, 97.0, 103.0, 22.0, 26.0, 216.0, 163.0, 134.0, 12.0, 18.0, 93.0, 142.0, 69.0, 84.0, 36.0, 31.0, 156.0, 39.0, 169.0, 12.0, 22.0, 32.0, 94.0, 147.0, 119.0, 87.0, 68.0, 17.0, 63.0, 121.0, 52.0, 108.0, 115.0, 68.0, 178.0, 66.0, 57.0, 75.0, 130.0, 70.0, 220.0, 142.0, 50.0, 81.0, 193.0, 165.0, 139.0, 99.0, 216.0, 202.0, 10.0, 158.0, 107.0, 176.0, 27.0, 37.0, 21.0, 18.0, 61.0, 152.0, 120.0, 42.0, 100.0, 60.0, 142.0, 118.0, 73.0, 77.0, 205.0, 84.0, 44.0, 116.0, 171.0, 44.0, 9.0, 159.0, 50.0, 208.0, 41.0, 147.0, 97.0, 33.0, 158.0, 92.0, 26.0, 56.0, 11.0, 194.0, 79.0, 167.0, 60.0, 53.0, 140.0, 88.0, 43.0, 48.0, 86.0, 75.0, 58.0, 17.0, 158.0, 86.0, 37.0, 183.0, 179.0, 124.0, 126.0, 127.0, 104.0, 84.0, 227.0, 8.0, 73.0, 91.0, 79.0, 52.0, 213.0, 99.0, 134.0, 43.0, 94.0, 105.0, 5.0, 113.0, 93.0, 14.0, 101.0, 9.0, 208.0, 9.0, 52.0, 172.0, 40.0, 43.0, 20.0, 195.0, 146.0, 18.0, 171.0, 6.0, 130.0, 74.0, 119.0, 80.0, 119.0, 59.0, 69.0, 88.0, 143.0, 36.0, 42.0, 53.0, 21.0, 93.0, 68.0, 140.0, 20.0, 165.0, 38.0, 80.0, 85.0, 30.0, 51.0, 64.0, 12.0, 47.0, 193.0, 44.0, 25.0, 36.0, 26.0, 45.0, 124.0, 63.0, 67.0, 42.0, 25.0, 30.0, 160.0, 143.0, 22.0, 57.0, 9.0, 45.0, 152.0, 150.0, 135.0, 234.0, 161.0, 87.0, 110.0, 56.0, 151.0, 106.0, 125.0, 31.0, 171.0, 76.0, 219.0, 180.0, 132.0, 80.0, 97.0, 151.0, 215.0, 57.0, 35.0, 110.0, 54.0, 41.0, 100.0, 158.0, 52.0, 46.0, 45.0, 37.0, 45.0, 35.0, 93.0, 87.0, 77.0, 41.0, 42.0, 88.0, 230.0, 17.0, 99.0, 37.0, 68.0, 80.0, 37.0, 66.0, 21.0, 19.0, 238.0, 113.0, 53.0, 118.0, 110.0, 190.0, 176.0, 120.0, 14.0, 21.0, 21.0, 64.0, 152.0, 15.0, 19.0, 106.0, 86.0, 100.0, 108.0, 94.0, 118.0, 110.0, 90.0, 18.0, 71.0, 19.0, 13.0, 54.0, 32.0, 67.0, 22.0, 57.0, 70.0, 139.0, 17.0, 12.0, 66.0, 107.0, 48.0, 117.0, 41.0, 4.0, 165.0, 56.0, 168.0, 114.0, 108.0, 23.0, 135.0, 88.0, 62.0, 68.0, 161.0, 131.0, 97.0, 21.0, 205.0, 17.0, 25.0, 51.0, 106.0, 43.0, 98.0, 106.0, 31.0, 15.0, 63.0, 144.0, 157.0, 65.0, 166.0, 29.0, 166.0, 117.0, 89.0, 149.0, 179.0, 115.0, 46.0, 33.0, 116.0, 106.0, 143.0, 194.0, 89.0, 207.0, 195.0, 73.0, 209.0, 100.0, 20.0, 59.0, 143.0, 24.0, 13.0, 33.0, 141.0, 136.0, 208.0, 64.0, 50.0, 75.0, 90.0, 138.0, 103.0, 24.0, 54.0, 46.0, 42.0, 64.0, 10.0, 81.0, 146.0, 27.0, 102.0, 174.0, 207.0, 108.0, 11.0, 101.0, 144.0, 22.0, 65.0, 13.0, 54.0, 204.0, 6.0, 136.0, 100.0, 32.0, 75.0, 134.0, 44.0, 10.0, 71.0, 22.0, 67.0, 37.0, 20.0, 75.0, 32.0, 194.0, 112.0, 147.0, 164.0, 126.0, 41.0, 144.0, 84.0, 65.0, 203.0, 30.0, 61.0, 25.0, 73.0, 57.0, 27.0, 19.0, 51.0, 107.0, 27.0, 223.0, 47.0, 234.0, 89.0, 83.0, 91.0, 60.0, 77.0, 107.0, 97.0, 165.0, 104.0, 65.0, 110.0, 102.0, 50.0, 32.0, 62.0, 21.0, 30.0, 195.0, 73.0, 55.0, 19.0, 31.0, 98.0, 57.0, 88.0, 167.0, 170.0, 42.0, 119.0, 41.0, 194.0, 201.0, 38.0, 84.0, 44.0, 184.0, 37.0, 83.0, 16.0, 156.0, 12.0, 16.0, 31.0, 27.0, 113.0, 18.0, 114.0, 21.0, 52.0, 58.0, 177.0, 121.0, 58.0, 43.0, 30.0, 61.0, 94.0, 92.0, 67.0, 38.0, 71.0, 83.0, 23.0, 67.0, 45.0, 97.0, 42.0, 6.0, 20.0, 81.0, 72.0, 114.0, 15.0, 183.0, 25.0, 29.0, 53.0, 167.0, 16.0, 10.0, 156.0, 56.0, 182.0, 130.0, 56.0, 67.0, 126.0, 20.0, 22.0, 94.0, 25.0, 27.0, 38.0, 142.0, 70.0, 56.0, 87.0, 111.0, 93.0, 34.0, 36.0, 66.0, 228.0, 13.0, 80.0, 185.0, 181.0, 72.0, 8.0, 26.0, 43.0, 175.0, 123.0, 74.0, 25.0, 29.0, 23.0, 254.0, 45.0, 41.0, 63.0, 44.0, 124.0, 67.0, 132.0, 130.0, 18.0, 14.0, 115.0, 61.0, 70.0, 216.0, 78.0, 72.0, 101.0, 56.0, 117.0, 58.0, 60.0, 62.0, 100.0, 69.0, 28.0, 189.0, 95.0, 156.0, 125.0, 166.0, 176.0, 32.0, 43.0, 40.0, 19.0, 33.0, 79.0, 88.0, 148.0, 240.0, 142.0, 93.0, 156.0, 34.0, 113.0, 179.0, 126.0, 169.0, 177.0, 63.0, 69.0, 73.0, 120.0, 113.0, 83.0, 37.0, 116.0, 63.0, 149.0, 25.0, 136.0, 98.0, 61.0, 252.0, 17.0, 123.0, 139.0, 93.0, 49.0, 66.0, 172.0, 48.0, 86.0, 100.0, 100.0, 63.0, 23.0, 101.0, 131.0, 81.0, 179.0, 136.0, 47.0, 46.0, 42.0, 99.0, 92.0, 145.0, 70.0, 114.0, 68.0, 238.0, 53.0, 49.0, 36.0, 67.0, 228.0, 6.0, 52.0, 121.0, 208.0, 15.0, 36.0, 42.0, 75.0, 88.0, 77.0, 13.0, 41.0, 56.0, 60.0, 135.0, 181.0, 42.0, 108.0, 17.0, 107.0, 133.0, 52.0, 192.0, 116.0, 47.0, 31.0, 97.0, 78.0, 123.0, 117.0, 163.0, 156.0, 87.0, 13.0, 54.0, 49.0, 143.0, 55.0, 22.0, 108.0, 23.0, 47.0, 141.0, 81.0, 39.0, 99.0, 145.0, 52.0, 148.0, 133.0, 60.0, 64.0, 34.0, 129.0, 19.0, 132.0, 102.0, 56.0, 131.0, 98.0, 41.0, 161.0, 56.0, 107.0, 42.0, 133.0, 20.0, 90.0, 166.0, 20.0, 13.0, 50.0, 128.0, 71.0, 21.0, 81.0, 176.0, 248.0, 20.0, 231.0, 198.0, 84.0, 41.0, 21.0, 17.0, 103.0, 74.0, 113.0, 17.0, 171.0, 15.0, 10.0, 9.0, 12.0, 120.0, 94.0, 90.0, 89.0, 171.0, 7.0, 39.0, 68.0, 247.0, 61.0, 53.0, 206.0, 59.0, 215.0, 55.0, 109.0, 59.0, 88.0, 132.0, 176.0, 91.0, 205.0, 156.0, 169.0, 79.0, 9.0, 106.0, 58.0, 70.0, 109.0, 88.0, 136.0, 25.0, 115.0, 86.0, 36.0, 22.0, 220.0, 88.0, 116.0, 25.0, 43.0, 11.0, 70.0, 50.0, 124.0, 23.0, 240.0, 224.0, 136.0, 172.0, 10.0, 152.0, 100.0, 64.0, 24.0, 14.0, 125.0, 57.0, 8.0, 48.0, 59.0, 86.0, 52.0, 87.0, 76.0, 109.0, 93.0, 10.0, 96.0, 46.0, 97.0, 63.0, 127.0, 82.0, 46.0, 30.0, 50.0, 51.0, 69.0, 60.0, 39.0, 82.0, 47.0, 61.0, 137.0, 113.0, 128.0, 232.0, 99.0, 79.0, 55.0, 5.0, 33.0, 110.0, 101.0, 68.0, 46.0, 110.0, 49.0, 38.0, 14.0, 146.0, 103.0, 24.0, 46.0, 44.0, 163.0, 16.0, 129.0, 44.0, 185.0, 159.0, 196.0, 76.0, 70.0, 35.0, 122.0, 127.0, 171.0, 106.0, 130.0, 165.0, 139.0, 114.0, 127.0, 76.0, 40.0, 82.0, 230.0, 29.0, 132.0, 60.0, 73.0, 192.0, 126.0, 84.0, 28.0, 161.0, 19.0, 204.0, 23.0, 56.0, 161.0, 101.0, 116.0, 196.0, 76.0, 75.0, 71.0, 244.0, 207.0, 136.0, 204.0, 12.0, 24.0, 27.0, 31.0, 71.0, 22.0, 61.0, 20.0, 68.0, 19.0, 76.0, 68.0, 42.0, 44.0, 58.0, 58.0, 80.0, 42.0, 95.0, 31.0, 105.0, 76.0, 29.0, 179.0, 67.0, 231.0, 171.0, 219.0, 40.0, 156.0, 129.0, 12.0, 17.0, 130.0, 74.0, 188.0, 107.0, 235.0, 73.0, 64.0, 130.0, 49.0, 12.0, 89.0, 248.0, 241.0, 65.0, 31.0, 73.0, 196.0, 91.0, 240.0, 199.0, 77.0, 157.0, 18.0, 105.0, 81.0, 86.0, 83.0, 178.0, 139.0, 130.0, 117.0, 129.0, 34.0, 40.0, 36.0, 133.0, 61.0, 27.0, 70.0, 113.0, 187.0, 155.0, 140.0, 208.0, 240.0, 32.0, 29.0, 119.0, 213.0, 196.0, 53.0, 165.0, 115.0, 109.0, 136.0, 130.0, 7.0, 60.0, 142.0, 59.0, 102.0, 52.0, 69.0, 146.0, 193.0, 72.0, 213.0, 238.0, 81.0, 171.0, 183.0, 105.0, 202.0, 128.0, 82.0, 106.0, 71.0, 247.0, 209.0, 62.0, 177.0, 234.0, 127.0, 140.0, 89.0, 77.0, 72.0, 21.0, 170.0, 63.0, 65.0, 89.0, 167.0, 161.0, 24.0, 181.0, 88.0, 56.0, 103.0, 183.0, 131.0, 169.0, 106.0, 44.0, 106.0, 74.0, 200.0, 164.0, 6.0, 25.0, 94.0, 43.0, 108.0, 14.0, 64.0, 51.0, 75.0, 41.0, 76.0, 77.0, 4.0, 19.0, 59.0, 44.0, 145.0, 48.0, 29.0, 68.0, 23.0, 223.0, 49.0, 55.0, 64.0, 106.0, 48.0, 32.0, 48.0, 123.0, 27.0, 79.0, 45.0, 40.0, 49.0, 52.0, 124.0, 134.0, 190.0, 81.0, 154.0, 90.0, 54.0, 43.0, 62.0, 110.0, 64.0, 50.0, 195.0, 34.0, 85.0, 159.0, 118.0, 78.0, 42.0, 64.0, 45.0, 55.0, 50.0, 68.0, 37.0, 53.0, 19.0, 98.0, 14.0, 202.0, 22.0, 9.0, 108.0, 66.0, 96.0, 16.0, 8.0, 43.0, 78.0, 82.0, 55.0, 47.0, 63.0, 19.0, 94.0, 101.0, 26.0, 60.0, 45.0, 40.0, 184.0, 77.0, 75.0, 88.0, 59.0, 48.0, 27.0, 191.0, 95.0, 5.0, 99.0, 22.0, 63.0, 33.0, 56.0, 61.0, 59.0, 52.0, 79.0, 19.0, 57.0, 110.0, 58.0, 43.0, 59.0, 119.0, 23.0, 62.0, 64.0, 111.0, 65.0, 144.0, 144.0, 180.0, 80.0, 113.0, 141.0, 58.0, 49.0, 22.0, 114.0, 41.0, 34.0, 73.0, 124.0, 62.0, 20.0, 128.0, 126.0, 29.0, 58.0, 22.0, 70.0, 63.0, 212.0, 191.0, 182.0, 49.0, 141.0, 13.0, 35.0, 24.0, 31.0, 19.0, 120.0, 89.0, 68.0, 111.0, 22.0, 35.0, 99.0, 72.0, 8.0, 43.0, 29.0, 87.0, 45.0, 85.0, 172.0, 196.0, 67.0, 73.0, 98.0, 50.0, 62.0, 38.0, 89.0, 104.0, 113.0, 160.0, 42.0, 48.0, 33.0, 98.0, 33.0, 14.0, 29.0, 74.0, 62.0, 45.0, 26.0, 46.0, 62.0, 15.0, 107.0, 24.0, 102.0, 56.0, 154.0, 92.0, 113.0, 38.0, 204.0, 163.0, 40.0, 52.0, 40.0, 65.0, 32.0, 72.0, 156.0, 126.0, 93.0, 95.0, 34.0, 104.0, 102.0, 115.0, 62.0, 50.0, 77.0, 101.0, 27.0, 15.0, 40.0, 85.0, 144.0, 19.0, 132.0, 42.0, 21.0, 144.0, 71.0, 91.0, 150.0, 180.0, 196.0, 133.0, 126.0, 110.0, 67.0, 56.0, 80.0, 44.0, 30.0, 63.0, 23.0, 33.0, 40.0, 74.0, 122.0, 80.0, 56.0, 220.0, 33.0, 78.0, 57.0, 86.0, 61.0, 23.0, 106.0, 107.0, 219.0, 217.0, 54.0, 19.0, 10.0, 66.0, 26.0, 78.0, 107.0, 37.0, 54.0, 63.0, 27.0, 29.0, 19.0, 120.0, 15.0, 49.0, 105.0, 157.0, 54.0, 32.0, 60.0, 27.0, 47.0, 154.0, 120.0, 27.0, 129.0, 32.0, 17.0, 35.0, 24.0, 90.0, 47.0, 23.0, 88.0, 68.0, 173.0, 100.0, 67.0, 82.0, 101.0, 75.0, 47.0, 42.0, 63.0, 33.0, 80.0, 72.0, 107.0, 12.0, 180.0, 43.0, 22.0, 106.0, 91.0, 78.0, 30.0, 5.0, 58.0, 28.0, 33.0, 43.0, 22.0, 36.0, 140.0, 130.0, 150.0, 47.0, 25.0, 13.0, 43.0, 72.0, 221.0, 107.0, 13.0, 86.0, 67.0, 62.0, 24.0, 37.0, 61.0, 34.0, 76.0, 189.0, 77.0, 100.0, 111.0, 8.0, 77.0, 21.0, 43.0, 42.0, 61.0, 90.0, 90.0, 34.0, 47.0, 20.0, 65.0, 86.0, 57.0, 15.0, 114.0, 76.0, 180.0, 191.0, 8.0, 162.0, 8.0, 135.0, 30.0, 56.0, 17.0, 6.0, 46.0, 43.0, 9.0, 9.0, 8.0, 178.0, 39.0, 57.0, 27.0, 74.0, 71.0, 163.0, 36.0, 17.0, 63.0, 151.0, 44.0, 59.0, 69.0, 50.0, 29.0, 37.0, 47.0, 22.0, 72.0, 53.0, 32.0, 39.0, 72.0, 119.0, 24.0, 77.0, 51.0, 31.0, 27.0, 48.0, 101.0, 64.0, 78.0, 46.0, 67.0, 125.0, 25.0, 41.0, 87.0, 72.0, 23.0, 20.0, 204.0, 24.0, 97.0, 37.0, 202.0, 113.0, 55.0, 38.0, 68.0, 45.0, 206.0, 61.0, 16.0, 171.0, 80.0, 40.0, 62.0, 121.0, 66.0, 78.0, 91.0, 15.0, 74.0, 65.0, 176.0, 15.0, 113.0, 143.0, 220.0, 109.0, 57.0, 57.0, 26.0, 118.0, 84.0, 129.0, 105.0, 57.0, 56.0, 50.0, 59.0, 193.0, 62.0, 94.0, 24.0, 45.0, 132.0, 149.0, 12.0, 27.0, 67.0, 38.0, 40.0, 33.0, 112.0, 59.0, 34.0, 29.0, 77.0, 59.0, 55.0, 7.0, 33.0, 61.0, 87.0, 56.0, 33.0, 166.0, 69.0, 60.0, 33.0, 149.0, 24.0, 27.0, 141.0, 96.0, 61.0, 51.0, 96.0, 226.0, 88.0, 46.0, 116.0, 50.0, 206.0, 82.0, 4.0, 18.0, 78.0, 134.0, 80.0, 72.0, 55.0, 25.0, 15.0, 24.0, 72.0, 30.0, 31.0, 46.0, 113.0, 48.0, 55.0, 40.0, 156.0, 150.0, 50.0, 42.0, 110.0, 176.0, 19.0, 43.0, 49.0, 126.0, 26.0, 65.0, 75.0, 49.0, 117.0, 12.0, 63.0, 80.0, 139.0, 25.0, 104.0, 36.0, 85.0, 16.0, 45.0, 34.0, 25.0, 116.0, 87.0, 37.0, 65.0, 169.0, 21.0, 43.0, 93.0, 108.0, 70.0, 14.0, 75.0, 39.0, 17.0, 131.0, 35.0, 68.0, 29.0, 30.0, 195.0, 32.0, 27.0, 25.0, 73.0, 89.0, 55.0, 27.0, 46.0, 181.0, 31.0, 23.0, 58.0, 144.0, 144.0, 252.0, 88.0, 109.0, 26.0, 47.0, 159.0, 45.0, 77.0, 44.0, 19.0, 26.0, 21.0, 226.0, 100.0, 91.0, 54.0, 155.0, 44.0, 160.0, 80.0, 107.0, 103.0, 36.0, 30.0, 48.0, 12.0, 140.0, 104.0, 40.0, 177.0, 88.0, 36.0, 12.0, 33.0, 26.0, 171.0, 34.0, 35.0, 115.0, 77.0, 89.0, 70.0, 36.0, 45.0, 71.0, 104.0, 171.0, 37.0, 6.0, 66.0, 37.0, 154.0, 27.0, 71.0, 11.0, 95.0, 242.0, 102.0, 43.0, 9.0, 82.0, 79.0, 17.0, 77.0, 177.0, 130.0, 34.0, 93.0, 42.0, 104.0, 102.0, 51.0, 39.0, 28.0, 105.0, 49.0, 77.0, 102.0, 74.0, 49.0, 85.0, 38.0, 71.0, 16.0, 60.0, 39.0, 118.0, 80.0, 117.0, 37.0, 64.0, 91.0, 72.0, 72.0, 54.0, 31.0, 35.0, 143.0, 52.0, 64.0, 69.0, 147.0, 140.0, 64.0, 103.0, 80.0, 71.0, 14.0, 42.0, 51.0, 102.0, 50.0, 58.0, 85.0, 73.0, 60.0, 43.0, 171.0, 45.0, 182.0, 35.0, 57.0, 106.0, 97.0, 71.0, 42.0, 34.0, 56.0, 7.0, 130.0, 19.0, 118.0, 82.0, 100.0, 95.0, 96.0, 110.0, 21.0, 76.0, 97.0, 92.0, 100.0, 52.0, 62.0, 47.0, 62.0, 104.0, 5.0, 20.0, 67.0, 39.0, 120.0, 124.0, 35.0, 64.0, 21.0, 31.0, 156.0, 127.0, 56.0, 93.0, 22.0, 21.0, 70.0, 65.0, 11.0, 15.0, 100.0, 166.0, 53.0, 204.0, 94.0, 16.0, 75.0, 44.0, 112.0, 12.0, 66.0, 23.0, 15.0, 46.0, 60.0, 59.0, 11.0, 76.0, 47.0, 25.0, 75.0, 121.0, 131.0, 105.0, 101.0, 248.0, 94.0, 210.0, 62.0, 22.0, 91.0, 101.0, 148.0, 76.0, 72.0, 27.0, 75.0, 165.0, 78.0, 79.0, 114.0, 86.0, 166.0, 92.0, 24.0, 147.0, 43.0, 32.0, 23.0, 33.0, 117.0, 41.0, 17.0, 23.0, 41.0, 193.0, 54.0, 18.0, 81.0, 46.0, 98.0, 81.0, 152.0, 143.0, 142.0, 14.0, 32.0, 32.0, 17.0, 49.0, 72.0, 132.0, 41.0, 143.0, 176.0, 19.0, 112.0, 58.0, 53.0, 40.0, 26.0, 90.0, 211.0, 67.0, 30.0, 123.0, 72.0, 211.0, 49.0, 39.0, 44.0, 165.0, 45.0, 107.0, 203.0, 75.0, 50.0, 17.0, 16.0, 84.0, 52.0, 34.0, 45.0, 172.0, 59.0, 75.0, 21.0, 34.0, 14.0, 30.0, 114.0, 36.0, 39.0, 108.0, 59.0, 13.0, 175.0, 123.0, 178.0, 81.0, 6.0, 90.0, 16.0, 50.0, 78.0, 22.0, 44.0, 35.0, 116.0, 101.0, 27.0, 10.0, 144.0, 106.0, 39.0, 187.0, 67.0, 20.0, 38.0, 50.0, 95.0, 36.0, 53.0, 120.0, 21.0, 79.0, 99.0, 115.0, 72.0, 74.0, 105.0, 182.0, 33.0, 21.0, 169.0, 33.0, 10.0, 90.0, 60.0, 62.0, 133.0, 83.0, 110.0, 112.0, 228.0, 37.0, 34.0, 14.0, 28.0, 121.0, 36.0, 26.0, 17.0, 175.0, 74.0, 56.0, 251.0, 62.0, 69.0, 74.0, 108.0, 91.0, 200.0, 100.0, 45.0, 97.0, 48.0, 45.0, 41.0, 52.0, 61.0, 67.0, 61.0, 35.0, 142.0, 234.0, 98.0, 98.0, 61.0, 150.0, 31.0, 30.0, 91.0, 30.0, 100.0, 91.0, 247.0, 35.0, 16.0, 88.0, 56.0, 82.0, 56.0, 58.0, 55.0, 75.0, 55.0, 64.0, 53.0, 40.0, 7.0, 120.0, 153.0, 180.0, 66.0, 83.0, 30.0, 35.0, 66.0, 90.0, 186.0, 157.0, 82.0, 198.0, 85.0, 90.0, 43.0, 44.0, 38.0, 41.0, 54.0, 75.0, 68.0, 20.0, 158.0, 74.0, 58.0, 111.0, 215.0, 134.0, 20.0, 67.0, 48.0, 91.0, 31.0, 32.0, 79.0, 158.0, 19.0, 125.0, 30.0, 200.0, 45.0, 42.0, 87.0, 26.0, 20.0, 113.0, 59.0, 43.0, 62.0, 189.0, 119.0, 30.0, 54.0, 58.0, 17.0, 43.0, 83.0, 125.0, 115.0, 44.0, 58.0, 98.0, 33.0, 43.0, 20.0, 39.0, 49.0, 42.0, 108.0, 88.0, 27.0, 190.0, 25.0, 42.0, 52.0, 88.0, 101.0, 130.0, 109.0, 75.0, 186.0, 78.0, 72.0, 138.0, 41.0, 76.0, 40.0, 57.0, 19.0, 51.0, 26.0, 156.0, 133.0, 47.0, 59.0, 57.0, 233.0, 9.0, 90.0, 39.0, 20.0, 60.0, 85.0, 174.0, 32.0, 53.0, 163.0, 28.0, 160.0, 74.0, 46.0, 85.0, 110.0, 64.0, 164.0, 29.0, 30.0, 21.0, 42.0, 61.0, 58.0, 45.0, 140.0, 64.0, 22.0, 64.0, 79.0, 42.0, 256.0, 66.0, 74.0, 149.0, 87.0, 40.0, 89.0, 50.0, 52.0, 52.0, 55.0, 51.0, 71.0, 40.0, 22.0, 17.0, 22.0, 36.0, 77.0, 37.0, 13.0, 55.0, 7.0, 234.0, 116.0, 53.0, 133.0, 67.0, 92.0, 103.0, 21.0, 12.0, 105.0, 67.0, 46.0, 34.0, 139.0, 25.0, 11.0, 195.0, 39.0, 151.0, 33.0, 127.0, 23.0, 70.0, 39.0, 30.0, 62.0, 85.0, 56.0, 61.0, 92.0, 59.0, 43.0, 19.0, 17.0, 126.0, 30.0, 137.0, 46.0, 72.0, 28.0, 21.0, 106.0, 42.0, 174.0, 109.0, 101.0, 56.0, 222.0, 150.0, 92.0, 145.0, 132.0, 18.0, 92.0, 94.0, 34.0, 91.0, 90.0, 42.0, 91.0, 76.0, 22.0, 170.0, 14.0, 64.0, 213.0, 41.0, 110.0, 25.0, 85.0, 92.0, 125.0, 136.0, 123.0, 43.0, 32.0, 144.0, 27.0, 25.0, 59.0, 25.0, 28.0, 87.0, 122.0, 42.0, 48.0, 78.0, 12.0, 102.0, 173.0, 116.0, 69.0, 18.0, 95.0, 65.0, 51.0, 24.0, 33.0, 89.0, 78.0, 18.0, 94.0, 52.0, 45.0, 10.0, 102.0, 37.0, 126.0, 146.0, 158.0, 39.0, 60.0, 94.0, 98.0, 129.0, 119.0, 54.0, 97.0, 133.0, 97.0, 88.0, 74.0, 180.0, 51.0, 96.0, 174.0, 206.0, 52.0, 24.0, 72.0, 59.0, 121.0, 82.0, 94.0, 35.0, 130.0, 62.0, 105.0, 106.0, 128.0, 223.0, 76.0, 57.0, 32.0, 99.0, 91.0, 77.0, 63.0, 125.0, 33.0, 79.0, 111.0, 118.0, 40.0, 106.0, 32.0, 227.0, 64.0, 32.0, 46.0, 9.0, 95.0, 57.0, 62.0, 50.0, 45.0, 166.0, 18.0, 111.0, 46.0, 16.0, 106.0, 46.0, 113.0, 137.0, 187.0, 56.0, 51.0, 14.0, 33.0, 109.0, 41.0, 92.0, 68.0, 119.0, 81.0, 115.0, 114.0, 119.0, 85.0, 104.0, 51.0, 7.0, 132.0, 150.0, 35.0, 64.0, 66.0, 121.0, 199.0, 196.0, 99.0, 122.0, 65.0, 20.0, 70.0, 149.0, 56.0, 178.0, 32.0, 62.0, 200.0, 85.0, 35.0, 179.0, 102.0, 177.0, 48.0, 178.0, 8.0, 82.0, 39.0, 77.0, 44.0, 46.0, 97.0, 139.0, 35.0, 128.0, 128.0, 168.0, 31.0, 34.0, 49.0, 129.0, 111.0, 93.0, 67.0, 37.0, 29.0, 174.0, 104.0, 45.0, 13.0, 133.0, 151.0, 130.0, 143.0, 167.0, 39.0, 89.0, 111.0, 30.0, 30.0, 131.0, 55.0, 97.0, 109.0, 48.0, 118.0, 93.0, 148.0, 42.0, 108.0, 43.0, 65.0, 56.0, 83.0, 136.0, 93.0, 103.0, 71.0, 17.0, 43.0, 86.0, 6.0, 122.0, 183.0, 142.0, 110.0, 7.0, 24.0, 44.0, 118.0, 229.0, 66.0, 109.0, 138.0, 36.0, 76.0, 61.0, 105.0, 47.0, 108.0, 40.0, 99.0, 66.0, 65.0, 58.0, 43.0, 21.0, 186.0, 180.0, 157.0, 143.0, 151.0, 25.0, 79.0, 34.0, 228.0, 12.0, 158.0, 105.0, 80.0, 67.0, 43.0, 26.0, 96.0, 30.0, 60.0, 20.0, 66.0, 21.0, 46.0, 91.0, 37.0, 17.0, 126.0, 138.0, 60.0, 38.0, 171.0, 76.0, 62.0, 11.0, 103.0, 39.0, 33.0, 64.0, 80.0, 22.0, 68.0, 100.0, 39.0, 144.0, 117.0, 81.0, 118.0, 65.0, 23.0, 44.0, 30.0, 88.0, 115.0, 121.0, 11.0, 81.0, 43.0, 33.0, 27.0, 159.0, 65.0, 81.0, 138.0, 101.0, 82.0, 128.0, 23.0, 24.0, 216.0, 22.0, 34.0, 114.0, 130.0, 39.0, 82.0, 45.0, 34.0, 57.0, 208.0, 183.0, 37.0, 91.0, 131.0, 27.0, 26.0, 112.0, 75.0, 17.0, 46.0, 48.0, 75.0, 44.0, 130.0, 81.0, 30.0, 86.0, 26.0, 139.0, 20.0, 49.0, 38.0, 31.0, 74.0, 111.0, 78.0, 32.0, 60.0, 46.0, 167.0, 68.0, 208.0, 21.0, 147.0, 62.0, 19.0, 39.0, 11.0, 57.0, 46.0, 57.0, 81.0, 65.0, 43.0, 68.0, 42.0, 61.0, 23.0, 62.0, 103.0, 59.0, 74.0, 132.0, 85.0, 62.0, 13.0, 14.0, 50.0, 11.0, 104.0, 174.0, 121.0, 42.0, 43.0, 109.0, 19.0, 136.0, 33.0, 113.0, 48.0, 28.0, 108.0, 125.0, 58.0, 199.0, 55.0, 89.0, 35.0, 129.0, 19.0, 36.0, 111.0, 77.0, 20.0, 57.0, 102.0, 31.0, 108.0, 165.0, 51.0, 28.0, 103.0, 23.0, 29.0, 118.0, 26.0, 28.0, 85.0, 88.0, 26.0, 36.0, 32.0, 24.0, 58.0, 146.0, 95.0, 50.0, 31.0, 18.0, 99.0, 44.0, 110.0, 129.0, 86.0, 166.0, 23.0, 77.0, 88.0, 52.0, 70.0, 18.0, 61.0, 57.0, 121.0, 26.0, 35.0, 23.0, 179.0, 143.0, 40.0, 33.0, 126.0, 58.0, 14.0, 157.0, 4.0, 71.0, 63.0, 59.0, 85.0, 48.0, 67.0, 48.0, 75.0, 100.0, 29.0, 6.0, 100.0, 130.0, 80.0, 35.0, 67.0, 24.0, 67.0, 54.0, 183.0, 61.0, 83.0, 7.0, 121.0, 117.0, 100.0, 116.0, 121.0, 26.0, 39.0, 147.0, 103.0, 103.0, 69.0, 58.0, 88.0, 36.0, 93.0, 65.0, 102.0, 36.0, 37.0, 94.0, 96.0, 42.0, 75.0, 145.0, 111.0, 7.0, 154.0, 18.0, 68.0, 47.0, 76.0, 68.0, 184.0, 47.0, 99.0, 122.0, 40.0, 81.0, 159.0, 46.0, 23.0, 122.0, 49.0, 192.0, 16.0, 94.0, 144.0, 145.0, 94.0, 74.0, 35.0, 183.0, 133.0, 85.0, 68.0, 91.0, 6.0, 64.0, 88.0, 45.0, 193.0, 44.0, 107.0, 93.0, 31.0, 56.0, 78.0, 174.0, 94.0, 17.0, 25.0, 160.0, 92.0, 66.0, 96.0, 96.0, 13.0, 74.0, 23.0, 36.0, 32.0, 9.0, 153.0, 138.0, 92.0, 205.0, 10.0, 34.0, 49.0, 73.0, 136.0, 69.0, 68.0, 101.0, 136.0, 142.0, 105.0, 11.0, 40.0, 98.0, 45.0, 78.0, 71.0, 234.0, 76.0, 43.0, 11.0, 59.0, 24.0, 88.0, 46.0, 69.0, 55.0, 11.0, 23.0, 49.0, 79.0, 21.0, 22.0, 66.0, 84.0, 63.0, 57.0, 83.0, 9.0, 49.0, 54.0, 63.0, 199.0, 119.0, 38.0, 84.0, 138.0, 39.0, 31.0, 97.0, 130.0, 150.0, 78.0, 20.0, 170.0, 44.0, 78.0, 85.0, 30.0, 38.0, 148.0, 47.0, 45.0, 82.0, 195.0, 92.0, 49.0, 65.0, 248.0, 117.0, 148.0, 53.0, 155.0, 62.0, 72.0, 100.0, 64.0, 30.0, 24.0, 54.0, 47.0, 24.0, 52.0, 87.0, 168.0, 227.0, 39.0, 76.0, 48.0, 65.0, 80.0, 91.0, 33.0, 176.0, 80.0, 255.0, 80.0, 36.0, 68.0, 49.0, 130.0, 92.0, 107.0, 128.0, 167.0, 52.0, 127.0, 60.0, 125.0, 120.0, 68.0, 193.0, 145.0, 57.0, 130.0, 159.0, 34.0, 53.0, 57.0, 68.0, 94.0, 70.0, 95.0, 48.0, 41.0, 65.0, 9.0, 88.0, 58.0, 181.0, 122.0, 64.0, 167.0, 96.0, 144.0, 42.0, 90.0, 55.0, 11.0, 78.0, 147.0, 38.0, 60.0, 44.0, 144.0, 53.0, 145.0, 74.0, 51.0, 36.0, 7.0, 58.0, 23.0, 103.0, 92.0, 118.0, 45.0, 100.0, 67.0, 35.0, 61.0, 93.0, 209.0, 38.0, 97.0, 16.0, 148.0, 56.0, 17.0, 19.0, 94.0, 33.0, 106.0, 208.0, 79.0, 76.0, 28.0, 43.0, 131.0, 29.0, 39.0, 32.0, 116.0, 127.0, 20.0, 111.0, 156.0, 152.0, 23.0, 47.0, 50.0, 54.0, 238.0, 171.0, 62.0, 52.0, 14.0, 29.0, 226.0, 134.0, 118.0, 45.0, 45.0, 46.0, 143.0, 24.0, 45.0, 37.0, 128.0, 59.0, 37.0, 49.0, 41.0, 24.0, 34.0, 174.0, 66.0, 156.0, 32.0, 28.0, 33.0, 131.0, 45.0, 60.0, 55.0, 83.0, 59.0, 26.0, 54.0, 14.0, 50.0, 47.0, 106.0, 48.0, 32.0, 36.0, 72.0, 96.0, 88.0, 28.0, 59.0, 83.0, 168.0, 95.0, 38.0, 120.0, 59.0, 38.0, 120.0, 141.0, 50.0, 82.0, 206.0, 22.0, 41.0, 135.0, 72.0, 30.0, 43.0, 52.0, 115.0, 65.0, 109.0, 192.0, 45.0, 72.0, 219.0, 53.0, 49.0, 98.0, 75.0, 63.0, 51.0, 98.0, 19.0, 10.0, 40.0, 13.0, 47.0, 93.0, 54.0, 19.0, 35.0, 13.0, 25.0, 7.0, 5.0, 15.0, 76.0, 81.0, 8.0, 82.0, 97.0, 74.0, 14.0, 38.0, 30.0, 38.0, 60.0, 21.0, 8.0, 26.0, 125.0, 133.0, 65.0, 34.0, 39.0, 8.0, 34.0, 60.0, 36.0, 30.0, 83.0, 100.0, 32.0, 75.0, 57.0, 126.0, 79.0, 21.0, 67.0, 18.0, 112.0, 82.0, 22.0, 107.0, 150.0, 56.0, 124.0, 80.0, 183.0, 57.0, 110.0, 68.0, 153.0, 55.0, 78.0, 136.0, 5.0, 82.0, 23.0, 17.0, 47.0, 226.0, 102.0, 204.0, 86.0, 37.0, 99.0, 83.0, 21.0, 58.0, 172.0, 36.0, 49.0, 67.0, 37.0, 23.0, 48.0, 61.0, 45.0, 152.0, 220.0, 154.0, 189.0, 70.0, 34.0, 41.0, 43.0, 65.0, 116.0, 24.0, 113.0, 104.0, 137.0, 116.0, 142.0, 30.0, 59.0, 101.0, 88.0, 12.0, 72.0, 98.0, 7.0, 11.0, 14.0, 5.0, 46.0, 56.0, 41.0, 36.0, 51.0, 132.0, 26.0, 94.0, 76.0, 12.0, 15.0, 32.0, 88.0, 112.0, 62.0, 51.0, 69.0, 61.0, 12.0, 23.0, 122.0, 47.0, 59.0, 142.0, 40.0, 75.0, 56.0, 45.0, 11.0, 35.0, 39.0, 28.0, 24.0, 112.0, 77.0, 23.0, 11.0, 180.0, 74.0, 28.0, 72.0, 83.0, 106.0, 113.0, 94.0, 29.0, 39.0, 84.0, 87.0, 22.0, 114.0, 104.0, 72.0, 64.0, 45.0, 224.0, 21.0, 36.0, 80.0, 78.0, 63.0, 26.0, 220.0, 54.0, 14.0, 8.0, 69.0, 48.0, 40.0, 147.0, 41.0, 31.0, 104.0, 40.0, 124.0, 47.0, 146.0, 62.0, 123.0, 95.0, 30.0, 52.0, 188.0, 53.0, 97.0, 192.0, 16.0, 103.0, 66.0, 97.0, 43.0, 13.0, 149.0, 71.0, 20.0, 159.0, 122.0, 28.0, 32.0, 75.0, 155.0, 126.0, 54.0, 57.0, 64.0, 34.0, 59.0, 16.0, 43.0, 74.0, 46.0, 29.0, 61.0, 37.0, 60.0, 55.0, 52.0, 62.0, 63.0, 43.0, 100.0, 118.0, 140.0, 54.0, 84.0, 22.0, 42.0, 73.0, 119.0, 51.0, 71.0, 22.0, 91.0, 98.0, 117.0, 76.0, 33.0, 14.0, 53.0, 151.0, 58.0, 142.0, 100.0, 72.0, 94.0, 148.0, 59.0, 79.0, 59.0, 60.0, 18.0, 19.0, 81.0, 93.0, 82.0, 239.0, 58.0, 92.0, 44.0, 70.0, 29.0, 82.0, 28.0, 44.0, 49.0, 43.0, 174.0, 99.0, 28.0, 25.0, 84.0, 35.0, 45.0, 53.0, 11.0, 132.0, 65.0, 214.0, 99.0, 57.0, 74.0, 44.0, 62.0, 210.0, 57.0, 59.0, 105.0, 207.0, 47.0, 183.0, 40.0, 147.0, 189.0, 191.0, 123.0, 46.0, 125.0, 83.0, 38.0, 96.0, 78.0, 53.0, 90.0, 101.0, 29.0, 36.0, 24.0, 106.0, 130.0, 45.0, 168.0, 172.0, 15.0, 132.0, 73.0, 16.0, 21.0, 6.0, 135.0, 12.0, 138.0, 100.0, 63.0, 90.0, 51.0, 26.0, 66.0, 67.0, 127.0, 112.0, 198.0, 60.0, 5.0, 65.0, 53.0, 88.0, 30.0, 42.0, 61.0, 227.0, 94.0, 66.0, 229.0, 26.0, 52.0, 86.0, 95.0, 21.0, 119.0, 49.0, 49.0, 28.0, 84.0, 64.0, 166.0, 63.0, 28.0, 80.0, 109.0, 160.0, 129.0, 57.0, 30.0, 31.0, 31.0, 106.0, 200.0, 68.0, 117.0, 167.0, 72.0, 102.0, 52.0, 143.0, 100.0, 143.0, 107.0, 69.0, 125.0, 116.0, 162.0, 46.0, 51.0, 31.0, 47.0, 43.0, 125.0, 156.0, 196.0, 151.0, 23.0, 66.0, 58.0, 10.0, 8.0, 44.0, 72.0, 33.0, 93.0, 77.0, 73.0, 29.0, 49.0, 155.0, 96.0, 89.0, 27.0, 71.0, 61.0, 85.0, 24.0, 39.0, 121.0, 45.0, 162.0, 58.0, 80.0, 25.0, 50.0, 73.0, 77.0, 88.0, 62.0, 100.0, 39.0, 16.0, 171.0, 129.0, 22.0, 12.0, 40.0, 51.0, 95.0, 66.0, 186.0, 54.0, 85.0, 76.0, 17.0, 20.0, 189.0, 109.0, 56.0, 37.0, 35.0, 49.0, 140.0, 29.0, 126.0, 79.0, 37.0, 23.0, 31.0, 40.0, 109.0, 119.0, 60.0, 84.0, 62.0, 18.0, 57.0, 59.0, 83.0, 171.0, 26.0, 42.0, 115.0, 70.0, 159.0, 172.0, 140.0, 244.0, 102.0, 96.0, 86.0, 102.0, 91.0, 83.0, 29.0, 26.0, 23.0, 155.0, 107.0, 12.0, 126.0, 70.0, 104.0, 93.0, 94.0, 80.0, 26.0, 38.0, 103.0, 27.0, 32.0, 86.0, 21.0, 48.0, 112.0, 91.0, 59.0, 91.0, 111.0, 66.0, 14.0, 51.0, 82.0, 45.0, 161.0, 44.0, 144.0, 87.0, 154.0, 43.0, 92.0, 218.0, 144.0, 66.0, 115.0, 19.0, 63.0, 151.0, 34.0, 53.0, 204.0, 90.0, 65.0, 88.0, 78.0, 192.0, 45.0, 117.0, 165.0, 171.0, 43.0, 24.0, 30.0, 115.0, 142.0, 24.0, 70.0, 85.0, 78.0, 137.0, 50.0, 117.0, 96.0, 44.0, 39.0, 65.0, 36.0, 53.0, 114.0, 199.0, 54.0, 165.0, 13.0, 20.0, 38.0, 40.0, 76.0, 41.0, 19.0, 109.0, 56.0, 66.0, 99.0, 67.0, 43.0, 191.0, 95.0, 59.0, 236.0, 117.0, 183.0, 63.0, 38.0, 109.0, 13.0, 59.0, 17.0, 6.0, 59.0, 82.0, 54.0, 252.0, 103.0, 91.0, 37.0, 63.0, 166.0, 68.0, 12.0, 92.0, 85.0, 75.0, 210.0, 178.0, 59.0, 120.0, 172.0, 64.0, 20.0, 37.0, 34.0, 62.0, 20.0, 92.0, 64.0, 121.0, 67.0, 16.0, 145.0, 62.0, 28.0, 38.0, 173.0, 27.0, 72.0, 33.0, 29.0, 91.0, 97.0, 69.0, 24.0, 47.0, 163.0, 162.0, 71.0, 76.0, 82.0, 117.0, 98.0, 44.0, 77.0, 35.0, 93.0, 65.0, 73.0, 56.0, 70.0, 101.0, 72.0, 35.0, 33.0, 67.0, 168.0, 53.0, 48.0, 121.0, 40.0, 88.0, 30.0, 10.0, 28.0, 38.0, 40.0, 23.0, 16.0, 168.0, 163.0, 17.0, 38.0, 35.0, 30.0, 27.0, 60.0, 63.0, 68.0, 98.0, 87.0, 78.0, 42.0, 30.0, 72.0, 31.0, 54.0, 32.0, 99.0, 27.0, 59.0, 34.0, 136.0, 19.0, 58.0, 61.0, 125.0, 54.0, 23.0, 32.0, 152.0, 14.0, 62.0, 116.0, 33.0, 80.0, 17.0, 250.0, 26.0, 49.0, 43.0, 37.0, 73.0, 72.0, 17.0, 52.0, 139.0, 40.0, 37.0, 19.0, 176.0, 44.0, 82.0, 93.0, 103.0, 20.0, 22.0, 101.0, 57.0, 31.0, 80.0, 42.0, 16.0, 127.0, 79.0, 28.0, 137.0, 53.0, 132.0, 25.0, 29.0, 167.0, 94.0, 133.0, 75.0, 23.0, 50.0, 76.0, 30.0, 112.0, 83.0, 111.0, 22.0, 86.0, 141.0, 95.0, 237.0, 68.0, 34.0, 41.0, 84.0, 63.0, 121.0, 178.0, 100.0, 96.0, 36.0, 39.0, 37.0, 93.0, 64.0, 89.0, 53.0, 84.0, 70.0, 40.0, 68.0, 87.0, 124.0, 39.0, 80.0, 114.0, 41.0, 56.0, 84.0, 88.0, 122.0, 41.0, 46.0, 198.0, 32.0, 144.0, 184.0, 128.0, 51.0, 134.0, 62.0, 122.0, 33.0, 37.0, 113.0, 41.0, 44.0, 54.0, 67.0, 29.0, 37.0, 163.0, 115.0, 34.0, 32.0, 86.0, 80.0, 54.0, 43.0, 25.0, 91.0, 38.0, 60.0, 88.0, 35.0, 157.0, 135.0, 119.0, 74.0, 74.0, 67.0, 94.0, 53.0, 43.0, 68.0, 53.0, 84.0, 113.0, 109.0, 206.0, 142.0, 50.0, 120.0, 24.0, 33.0, 168.0, 52.0, 94.0, 138.0, 12.0, 118.0, 58.0, 25.0, 57.0, 90.0, 15.0, 55.0, 110.0, 45.0, 66.0, 94.0, 45.0, 27.0, 41.0, 130.0, 140.0, 47.0, 39.0, 135.0, 50.0, 64.0, 11.0, 117.0, 73.0, 83.0, 65.0, 28.0, 62.0, 116.0, 55.0, 30.0, 40.0, 90.0, 73.0, 88.0, 234.0, 62.0, 83.0, 34.0, 95.0, 91.0, 58.0, 32.0, 231.0, 67.0, 72.0, 44.0, 64.0, 78.0, 190.0, 30.0, 76.0, 31.0, 35.0, 38.0, 37.0, 52.0, 72.0, 33.0, 19.0, 19.0, 35.0, 48.0, 45.0, 25.0, 49.0, 142.0, 12.0, 37.0, 113.0, 38.0, 48.0, 22.0, 176.0, 44.0, 29.0, 31.0, 80.0, 13.0, 54.0, 34.0, 14.0, 23.0, 7.0, 71.0, 65.0, 41.0, 50.0, 17.0, 158.0, 32.0, 82.0, 21.0, 51.0, 20.0, 28.0, 164.0, 8.0, 83.0, 18.0, 56.0, 19.0, 33.0, 96.0, 78.0, 53.0, 60.0, 19.0, 52.0, 44.0, 36.0, 34.0, 66.0, 38.0, 83.0, 107.0, 37.0, 138.0, 214.0, 31.0, 123.0, 57.0, 13.0, 81.0, 48.0, 125.0, 89.0, 21.0, 61.0, 141.0, 101.0, 55.0, 11.0, 89.0, 60.0, 27.0, 37.0, 136.0, 248.0, 10.0, 22.0, 59.0, 188.0, 27.0, 23.0, 59.0, 19.0, 147.0, 111.0, 104.0, 141.0, 17.0, 23.0, 53.0, 39.0, 31.0, 118.0, 130.0, 40.0, 143.0, 141.0, 100.0, 16.0, 61.0, 12.0, 19.0, 142.0, 20.0, 31.0, 22.0, 53.0, 92.0, 87.0, 27.0, 89.0, 26.0, 21.0, 42.0, 57.0, 75.0, 101.0, 121.0, 27.0, 112.0, 46.0, 75.0, 19.0, 82.0, 86.0, 185.0, 57.0, 64.0, 53.0, 60.0, 119.0, 65.0, 66.0, 23.0, 27.0, 28.0, 78.0, 54.0, 68.0, 48.0, 58.0, 88.0, 65.0, 56.0, 215.0, 34.0, 81.0, 22.0, 7.0, 52.0, 63.0, 17.0, 70.0, 73.0, 39.0, 19.0, 34.0, 62.0, 27.0, 36.0, 61.0, 24.0, 42.0, 44.0, 42.0, 53.0, 77.0, 78.0, 23.0, 158.0, 96.0, 76.0, 99.0, 13.0, 41.0, 11.0, 7.0, 117.0, 32.0, 64.0, 123.0, 131.0, 19.0, 45.0, 20.0, 94.0, 54.0, 71.0, 18.0, 48.0, 35.0, 177.0, 57.0, 38.0, 21.0, 75.0, 140.0, 53.0, 16.0, 33.0, 107.0, 64.0, 45.0, 50.0, 32.0, 73.0, 27.0, 151.0, 146.0, 52.0, 23.0, 94.0, 59.0, 53.0, 14.0, 10.0, 22.0, 15.0, 138.0, 176.0, 81.0, 67.0, 50.0, 45.0, 46.0, 72.0, 46.0, 25.0, 53.0, 171.0, 28.0, 37.0, 64.0, 33.0, 20.0, 57.0, 225.0, 76.0, 20.0, 66.0, 28.0, 97.0, 25.0, 172.0, 87.0, 135.0, 139.0, 173.0, 29.0, 137.0, 45.0, 108.0, 11.0, 30.0, 114.0, 73.0, 117.0, 59.0, 24.0, 14.0, 173.0, 107.0, 36.0, 65.0, 162.0, 48.0, 11.0, 39.0, 48.0, 30.0, 76.0, 17.0, 56.0, 119.0, 160.0, 17.0, 82.0, 144.0, 72.0, 117.0, 23.0, 30.0, 59.0, 117.0, 25.0, 16.0, 26.0, 35.0, 24.0, 37.0, 122.0, 47.0, 66.0, 99.0, 155.0, 10.0, 80.0, 91.0, 162.0, 14.0, 40.0, 73.0, 79.0, 8.0, 32.0, 8.0, 4.0, 209.0, 128.0, 68.0, 200.0, 107.0, 63.0, 16.0, 13.0, 64.0, 36.0, 70.0, 215.0, 99.0, 98.0, 65.0, 68.0, 82.0, 31.0, 39.0, 126.0, 75.0, 26.0, 40.0, 110.0, 23.0, 110.0, 61.0, 125.0, 24.0, 106.0, 80.0, 162.0, 161.0, 53.0, 29.0, 63.0, 27.0, 76.0, 69.0, 16.0, 122.0, 150.0, 90.0, 59.0, 80.0, 48.0, 211.0, 202.0, 19.0, 86.0, 101.0, 68.0, 107.0, 19.0, 29.0, 28.0, 88.0, 29.0, 103.0, 28.0, 78.0, 42.0, 16.0, 56.0, 19.0, 61.0, 91.0, 53.0, 120.0, 42.0, 90.0, 110.0, 36.0, 89.0, 30.0, 19.0, 42.0, 90.0, 80.0, 42.0, 163.0, 56.0, 125.0, 87.0, 20.0, 25.0, 75.0, 125.0, 25.0, 161.0, 15.0, 149.0, 39.0, 45.0, 65.0, 31.0, 70.0, 46.0, 51.0, 21.0, 164.0, 32.0, 17.0, 67.0, 196.0, 62.0, 198.0, 180.0, 19.0, 189.0, 34.0, 116.0, 38.0, 20.0, 33.0, 19.0, 112.0, 63.0, 55.0, 62.0, 48.0, 23.0, 28.0, 84.0, 45.0, 95.0, 19.0, 46.0, 53.0, 38.0, 22.0, 154.0, 30.0, 42.0, 70.0, 26.0, 69.0, 42.0, 23.0, 26.0, 44.0, 57.0, 18.0, 180.0, 53.0, 189.0, 44.0, 74.0, 32.0, 50.0, 57.0, 60.0, 10.0, 21.0, 68.0, 119.0, 129.0, 99.0, 119.0, 39.0, 31.0, 34.0, 111.0, 86.0, 34.0, 31.0, 30.0, 150.0, 25.0, 74.0, 115.0, 56.0, 66.0, 124.0, 104.0, 101.0, 25.0, 15.0, 34.0, 12.0, 61.0, 158.0, 30.0, 28.0, 38.0, 74.0, 59.0, 36.0, 116.0, 54.0, 19.0, 29.0, 79.0, 37.0, 200.0, 41.0, 94.0, 30.0, 32.0, 192.0, 91.0, 81.0, 62.0, 91.0, 80.0, 20.0, 4.0, 80.0, 31.0, 105.0, 41.0, 100.0, 38.0, 37.0, 84.0, 124.0, 51.0, 73.0, 61.0, 17.0, 246.0, 22.0, 24.0, 50.0, 110.0, 105.0, 52.0, 85.0, 147.0, 59.0, 78.0, 37.0, 11.0, 58.0, 24.0, 75.0, 66.0, 99.0, 29.0, 25.0, 214.0, 72.0, 60.0, 101.0, 20.0, 67.0, 71.0, 96.0, 26.0, 215.0, 140.0, 42.0, 215.0, 74.0, 20.0, 65.0, 48.0, 53.0, 71.0, 52.0, 82.0, 223.0, 113.0, 46.0, 25.0, 22.0, 61.0, 98.0, 92.0, 46.0, 24.0, 11.0, 33.0, 129.0, 92.0, 66.0, 56.0, 20.0, 63.0, 55.0, 19.0, 161.0, 165.0, 58.0, 60.0, 203.0, 58.0, 32.0, 65.0, 38.0, 160.0, 7.0, 173.0, 29.0, 56.0, 43.0, 45.0, 124.0, 148.0, 67.0, 154.0, 35.0, 102.0, 19.0, 231.0, 112.0, 24.0, 60.0, 86.0, 67.0, 62.0, 10.0, 27.0, 21.0, 35.0, 30.0, 120.0, 78.0, 96.0, 15.0, 26.0, 51.0, 56.0, 69.0, 61.0, 75.0, 168.0, 167.0, 93.0, 33.0, 42.0, 19.0, 110.0, 75.0, 10.0, 78.0, 20.0, 54.0, 10.0, 105.0, 163.0, 20.0, 64.0, 94.0, 108.0, 22.0, 54.0, 137.0, 24.0, 71.0, 27.0, 46.0, 20.0, 128.0, 21.0, 70.0, 101.0, 118.0, 92.0, 102.0, 28.0, 16.0, 21.0, 31.0, 116.0, 73.0, 14.0, 34.0, 141.0, 80.0, 52.0, 82.0, 72.0, 84.0, 99.0, 100.0, 44.0, 124.0, 41.0, 37.0, 61.0, 107.0, 80.0, 40.0, 100.0, 33.0, 24.0, 92.0, 90.0, 29.0, 59.0, 92.0, 88.0, 57.0, 159.0, 28.0, 24.0, 14.0, 23.0, 110.0, 41.0, 53.0, 88.0, 47.0, 37.0, 101.0, 50.0, 44.0, 189.0, 15.0, 55.0, 107.0, 52.0, 29.0, 152.0, 21.0, 32.0, 79.0, 132.0, 61.0, 13.0, 31.0, 61.0, 214.0, 103.0, 130.0, 95.0, 44.0, 110.0, 51.0, 17.0, 6.0, 136.0, 77.0, 55.0, 152.0, 125.0, 83.0, 75.0, 225.0, 39.0, 25.0, 17.0, 33.0, 34.0, 59.0, 120.0, 61.0, 151.0, 33.0, 150.0, 34.0, 91.0, 24.0, 76.0, 66.0, 50.0, 39.0, 34.0, 45.0, 77.0, 216.0, 124.0, 46.0, 128.0, 36.0, 220.0, 98.0, 11.0, 111.0, 28.0, 103.0, 60.0, 109.0, 72.0, 134.0, 53.0, 105.0, 45.0, 120.0, 42.0, 183.0, 142.0, 104.0, 84.0, 74.0, 134.0, 105.0, 54.0, 74.0, 171.0, 106.0, 64.0, 102.0, 64.0, 91.0, 64.0, 63.0, 91.0, 107.0, 82.0, 113.0, 147.0, 45.0, 118.0, 60.0, 35.0, 148.0, 21.0, 52.0, 14.0, 14.0, 43.0, 113.0, 95.0, 107.0, 32.0, 19.0, 99.0, 9.0, 76.0, 77.0, 54.0, 117.0, 125.0, 47.0, 39.0, 12.0, 130.0, 43.0, 34.0, 78.0, 49.0, 33.0, 62.0, 165.0, 57.0, 83.0, 67.0, 80.0, 121.0, 83.0, 34.0, 69.0, 25.0, 19.0, 10.0, 84.0, 85.0, 97.0, 33.0, 50.0, 68.0, 121.0, 98.0, 16.0, 117.0, 66.0, 97.0, 40.0, 14.0, 57.0, 132.0, 69.0, 104.0, 66.0, 85.0, 22.0, 80.0, 75.0, 167.0, 73.0, 28.0, 38.0, 70.0, 73.0, 61.0, 36.0, 223.0, 196.0, 92.0, 118.0, 63.0, 54.0, 99.0, 80.0, 11.0, 106.0, 19.0, 47.0, 15.0, 16.0, 104.0, 118.0, 103.0, 38.0, 19.0, 121.0, 112.0, 43.0, 156.0, 118.0, 119.0, 87.0, 56.0, 111.0, 31.0, 59.0, 115.0, 178.0, 93.0, 69.0, 38.0, 15.0, 82.0, 69.0, 59.0, 124.0, 49.0, 68.0, 28.0, 67.0, 47.0, 58.0, 57.0, 34.0, 71.0, 49.0, 86.0, 8.0, 203.0, 17.0, 34.0, 54.0, 47.0, 26.0, 18.0, 63.0, 78.0, 114.0, 110.0, 185.0, 96.0, 191.0, 68.0, 48.0, 43.0, 75.0, 121.0, 59.0, 43.0, 166.0, 35.0, 23.0, 79.0, 67.0, 98.0, 121.0, 98.0, 81.0, 66.0, 69.0, 21.0, 49.0, 51.0, 115.0, 105.0, 113.0, 124.0, 38.0, 73.0, 50.0, 36.0, 59.0, 18.0, 71.0, 123.0, 15.0, 12.0, 209.0, 128.0, 64.0, 70.0, 45.0, 5.0, 30.0, 57.0, 58.0, 56.0, 51.0, 39.0, 52.0, 35.0, 12.0, 98.0, 10.0, 32.0, 129.0, 7.0, 44.0, 21.0, 13.0, 128.0, 10.0, 123.0, 75.0, 32.0, 114.0, 32.0, 42.0, 128.0, 37.0, 76.0, 62.0, 65.0, 28.0, 234.0, 15.0, 7.0, 176.0, 8.0, 87.0, 39.0, 119.0, 142.0, 20.0, 210.0, 88.0, 35.0, 105.0, 33.0, 89.0, 55.0, 56.0, 90.0, 88.0, 174.0, 120.0, 31.0, 93.0, 69.0, 107.0, 81.0, 53.0, 55.0, 89.0, 98.0, 29.0, 143.0, 119.0, 25.0, 129.0, 42.0, 138.0, 121.0, 12.0, 152.0, 197.0, 72.0, 36.0, 66.0, 214.0, 81.0, 121.0, 137.0, 11.0, 39.0, 103.0, 54.0, 25.0, 38.0, 20.0, 124.0, 33.0, 170.0, 13.0, 68.0, 87.0, 34.0, 56.0, 116.0, 193.0, 52.0, 59.0, 72.0, 19.0, 21.0, 19.0, 42.0, 20.0, 44.0, 93.0, 94.0, 46.0, 249.0, 56.0, 28.0, 20.0, 28.0, 45.0, 79.0, 31.0, 141.0, 165.0, 173.0, 129.0, 177.0, 73.0, 39.0, 44.0, 49.0, 44.0, 88.0, 16.0, 15.0, 49.0, 48.0, 33.0, 24.0, 19.0, 40.0, 204.0, 62.0, 20.0, 42.0, 44.0, 36.0, 62.0, 103.0, 75.0, 5.0, 82.0, 44.0, 99.0, 183.0, 107.0, 117.0, 33.0, 18.0, 32.0, 33.0, 132.0, 46.0, 72.0, 22.0, 48.0, 99.0, 48.0, 44.0, 33.0, 94.0, 108.0, 29.0, 21.0, 69.0, 26.0, 25.0, 11.0, 173.0, 152.0, 39.0, 131.0, 4.0, 22.0, 106.0, 60.0, 44.0, 83.0, 87.0, 211.0, 132.0, 18.0, 11.0, 115.0, 81.0, 80.0, 232.0, 84.0, 44.0, 26.0, 155.0, 74.0, 59.0, 85.0, 99.0, 22.0, 85.0, 73.0, 32.0, 71.0, 105.0, 68.0, 15.0, 57.0, 30.0, 49.0, 68.0, 64.0, 84.0, 38.0, 42.0, 55.0, 129.0, 127.0, 106.0, 61.0, 44.0, 41.0, 58.0, 162.0, 35.0, 91.0, 134.0, 76.0, 69.0, 103.0, 12.0, 120.0, 48.0, 94.0, 219.0, 44.0, 45.0, 28.0, 31.0, 40.0, 25.0, 165.0, 40.0, 74.0, 71.0, 66.0, 64.0, 114.0, 176.0, 76.0, 39.0, 109.0, 12.0, 74.0, 70.0, 25.0, 88.0, 21.0, 68.0, 143.0, 55.0, 133.0, 76.0, 75.0, 23.0, 106.0, 74.0, 23.0, 122.0, 49.0, 40.0, 224.0, 54.0, 63.0, 157.0, 138.0, 59.0, 84.0, 13.0, 90.0, 20.0, 145.0, 49.0, 51.0, 112.0, 101.0, 119.0, 51.0, 99.0, 211.0, 206.0, 76.0, 80.0, 54.0, 85.0, 43.0, 109.0, 127.0, 61.0, 87.0, 36.0, 98.0, 45.0, 12.0, 33.0, 127.0, 30.0, 38.0, 85.0, 29.0, 87.0, 193.0, 90.0, 53.0, 31.0, 22.0, 138.0, 62.0, 113.0, 31.0, 34.0, 53.0, 17.0, 74.0, 38.0, 107.0, 21.0, 90.0, 30.0, 144.0, 104.0, 44.0, 68.0, 102.0, 81.0, 36.0, 126.0, 22.0, 178.0, 41.0, 111.0, 94.0, 42.0, 44.0, 36.0, 86.0, 135.0, 20.0, 105.0, 41.0, 61.0, 54.0, 122.0, 71.0, 106.0, 38.0, 70.0, 56.0, 21.0, 42.0, 51.0, 108.0, 114.0, 193.0, 17.0, 70.0, 215.0, 226.0, 18.0, 46.0, 29.0, 32.0, 57.0, 26.0, 115.0, 57.0, 64.0, 13.0, 120.0, 63.0, 59.0, 51.0, 19.0, 43.0, 63.0, 85.0, 79.0, 52.0, 57.0, 96.0, 50.0, 74.0, 54.0, 46.0, 24.0, 44.0, 163.0, 74.0, 88.0, 17.0, 145.0, 74.0, 35.0, 77.0, 213.0, 22.0, 35.0, 61.0, 175.0, 17.0, 90.0, 67.0, 69.0, 124.0, 57.0, 34.0, 91.0, 19.0, 109.0, 16.0, 64.0, 110.0, 32.0, 54.0, 107.0, 37.0, 36.0, 72.0, 116.0, 29.0, 33.0, 32.0, 83.0, 213.0, 178.0, 63.0, 54.0, 96.0, 46.0, 88.0, 144.0, 51.0, 121.0, 73.0, 66.0, 71.0, 80.0, 22.0, 17.0, 12.0, 55.0, 53.0, 196.0, 50.0, 44.0, 25.0, 26.0, 134.0, 205.0, 76.0, 18.0, 50.0, 29.0, 38.0, 91.0, 167.0, 63.0, 82.0, 55.0, 236.0, 48.0, 42.0, 105.0, 77.0, 33.0, 36.0, 132.0, 34.0, 23.0, 138.0, 24.0, 107.0, 246.0, 71.0, 164.0, 44.0, 77.0, 185.0, 116.0, 51.0, 26.0, 65.0, 88.0, 75.0, 196.0, 111.0, 44.0, 35.0, 64.0, 80.0, 104.0, 46.0, 63.0, 174.0, 53.0, 40.0, 64.0, 43.0, 63.0, 14.0, 75.0, 90.0, 165.0, 94.0, 75.0, 96.0, 78.0, 54.0, 92.0, 50.0, 90.0, 39.0, 58.0, 41.0, 93.0, 158.0, 138.0, 33.0, 45.0, 74.0, 33.0, 52.0, 52.0, 19.0, 69.0, 36.0, 51.0, 92.0, 119.0, 110.0, 97.0, 54.0, 25.0, 76.0, 114.0, 30.0, 44.0, 121.0, 46.0, 39.0, 12.0, 60.0, 68.0, 16.0, 74.0, 11.0, 42.0, 94.0, 15.0, 99.0, 29.0, 231.0, 50.0, 58.0, 51.0, 55.0, 66.0, 27.0, 58.0, 22.0, 12.0, 18.0, 44.0, 13.0, 74.0, 77.0, 73.0, 95.0, 7.0, 102.0, 31.0, 176.0, 143.0, 65.0, 98.0, 28.0, 37.0, 6.0, 52.0, 111.0, 31.0, 147.0, 135.0, 8.0, 6.0, 19.0, 189.0, 58.0, 53.0, 62.0, 47.0, 105.0, 14.0, 173.0, 27.0, 38.0, 26.0, 117.0, 158.0, 37.0, 141.0, 50.0, 67.0, 26.0, 18.0, 54.0, 33.0, 6.0, 33.0, 44.0, 57.0, 52.0, 61.0, 21.0, 20.0, 116.0, 31.0, 51.0, 60.0, 70.0, 72.0, 38.0, 19.0, 55.0, 42.0, 38.0, 51.0, 64.0, 18.0, 177.0, 190.0, 50.0, 88.0, 33.0, 9.0, 47.0, 31.0, 90.0, 89.0, 12.0, 94.0, 41.0, 12.0, 68.0, 109.0, 62.0, 57.0, 64.0, 62.0, 79.0, 102.0, 31.0, 39.0, 44.0, 68.0, 139.0, 32.0, 11.0, 47.0, 31.0, 70.0, 145.0, 98.0, 42.0, 49.0, 9.0, 45.0, 73.0, 145.0, 15.0, 107.0, 211.0, 21.0, 132.0, 14.0, 67.0, 36.0, 96.0, 30.0, 33.0, 28.0, 82.0, 39.0, 45.0, 26.0, 136.0, 30.0, 59.0, 76.0, 47.0, 51.0, 14.0, 100.0, 73.0, 153.0, 93.0, 33.0, 105.0, 38.0, 54.0, 41.0, 46.0, 76.0, 98.0, 75.0, 26.0, 57.0, 90.0, 19.0, 81.0, 36.0, 8.0, 20.0, 99.0, 100.0, 11.0, 6.0, 78.0, 11.0, 112.0, 59.0, 140.0, 100.0, 36.0, 15.0, 32.0, 74.0, 80.0, 14.0, 8.0, 34.0, 88.0, 72.0, 26.0, 12.0, 227.0, 23.0, 75.0, 75.0, 96.0, 141.0, 45.0, 31.0, 35.0, 20.0, 41.0, 59.0, 18.0, 94.0, 138.0, 50.0, 75.0, 24.0, 38.0, 15.0, 37.0, 16.0, 39.0, 63.0, 237.0, 158.0, 69.0, 41.0, 26.0, 43.0, 52.0, 70.0, 15.0, 34.0, 117.0, 73.0, 93.0, 64.0, 34.0, 61.0, 38.0, 58.0, 17.0, 35.0, 32.0, 30.0, 81.0, 211.0, 110.0, 27.0, 94.0, 54.0, 170.0, 89.0, 69.0, 28.0, 79.0, 62.0, 127.0, 212.0, 86.0, 20.0, 129.0, 63.0, 92.0, 29.0, 57.0, 60.0, 33.0, 32.0, 83.0, 170.0, 77.0, 9.0, 11.0, 82.0, 178.0, 23.0, 26.0, 39.0, 101.0, 150.0, 81.0, 27.0, 165.0, 42.0, 116.0, 162.0, 20.0, 77.0, 10.0, 38.0, 69.0, 18.0, 47.0, 185.0, 44.0, 54.0, 78.0, 159.0, 15.0, 108.0, 76.0, 9.0, 115.0, 37.0, 228.0, 21.0, 102.0, 45.0, 44.0, 125.0, 106.0, 53.0, 139.0, 67.0, 171.0, 89.0, 19.0, 205.0, 93.0, 40.0, 27.0, 112.0, 73.0, 45.0, 108.0, 56.0, 33.0, 34.0, 50.0, 67.0, 63.0, 115.0, 47.0, 47.0, 116.0, 118.0, 67.0, 52.0, 30.0, 84.0, 22.0, 83.0, 28.0, 63.0, 150.0, 72.0, 47.0, 105.0, 26.0, 10.0, 27.0, 110.0, 66.0, 62.0, 38.0, 118.0, 55.0, 14.0, 111.0, 74.0, 68.0, 80.0, 56.0, 160.0, 57.0, 9.0, 80.0, 50.0, 172.0, 38.0, 178.0, 120.0, 71.0, 52.0, 80.0, 110.0, 41.0, 173.0, 77.0, 34.0, 104.0, 133.0, 29.0, 143.0, 122.0, 115.0, 133.0, 53.0, 91.0, 178.0, 109.0, 33.0, 162.0, 40.0, 65.0, 33.0, 83.0, 77.0, 126.0, 55.0, 104.0, 107.0, 127.0, 127.0, 50.0, 124.0, 73.0, 30.0, 83.0, 120.0, 88.0, 88.0, 48.0, 43.0, 110.0, 121.0, 64.0, 23.0, 80.0, 131.0, 97.0, 36.0, 69.0, 14.0, 60.0, 22.0, 76.0, 32.0, 43.0, 43.0, 28.0, 25.0, 52.0, 108.0, 94.0, 87.0, 52.0, 29.0, 56.0, 126.0, 78.0, 71.0, 119.0, 132.0, 66.0, 179.0, 73.0, 96.0, 100.0, 87.0, 76.0, 36.0, 206.0, 67.0, 80.0, 182.0, 32.0, 43.0, 44.0, 206.0, 134.0, 43.0, 66.0, 83.0, 124.0, 110.0, 66.0, 23.0, 24.0, 30.0, 52.0, 172.0, 31.0, 60.0, 27.0, 103.0, 128.0, 104.0, 75.0, 39.0, 42.0, 31.0, 15.0, 58.0, 25.0, 73.0, 27.0, 134.0, 124.0, 74.0, 34.0, 80.0, 63.0, 30.0, 45.0, 84.0, 59.0, 73.0, 81.0, 53.0, 109.0, 67.0, 31.0, 135.0, 30.0, 67.0, 196.0, 9.0, 208.0, 34.0, 91.0, 10.0, 26.0, 20.0, 87.0, 52.0, 22.0, 23.0, 73.0, 77.0, 200.0, 100.0, 71.0, 20.0, 56.0, 41.0, 161.0, 15.0, 8.0, 51.0, 23.0, 87.0, 35.0, 23.0, 141.0, 47.0, 8.0, 19.0, 90.0, 82.0, 53.0, 46.0, 116.0, 32.0, 23.0, 38.0, 147.0, 41.0, 116.0, 15.0, 13.0, 144.0, 84.0, 48.0, 79.0, 13.0, 126.0, 150.0, 224.0, 56.0, 11.0, 79.0, 141.0, 183.0, 101.0, 97.0, 148.0, 84.0, 36.0, 56.0, 28.0, 224.0, 94.0, 146.0, 88.0, 48.0, 154.0, 51.0, 96.0, 89.0, 30.0, 69.0, 48.0, 67.0, 71.0, 172.0, 107.0, 136.0, 37.0, 39.0, 63.0, 84.0, 51.0, 29.0, 57.0, 166.0, 29.0, 79.0, 64.0, 65.0, 73.0, 181.0, 70.0, 45.0, 30.0, 18.0, 19.0, 46.0, 37.0, 61.0, 96.0, 42.0, 49.0, 54.0, 234.0, 162.0, 22.0, 15.0, 41.0, 41.0, 66.0, 97.0, 8.0, 28.0, 47.0, 42.0, 98.0, 8.0, 17.0, 60.0, 180.0, 66.0, 148.0, 110.0, 33.0, 48.0, 45.0, 58.0, 36.0, 55.0, 71.0, 95.0, 129.0, 30.0, 183.0, 34.0, 23.0, 15.0, 65.0, 146.0, 73.0, 130.0, 117.0, 107.0, 25.0, 103.0, 115.0, 41.0, 57.0, 19.0, 231.0, 36.0, 226.0, 53.0, 53.0, 175.0, 10.0, 112.0, 83.0, 166.0, 11.0, 69.0, 58.0, 33.0, 36.0, 163.0, 59.0, 20.0, 75.0, 25.0, 90.0, 89.0, 140.0, 19.0, 24.0, 69.0, 15.0, 15.0, 54.0, 54.0, 153.0, 55.0, 123.0, 77.0, 154.0, 68.0, 101.0, 112.0, 73.0, 37.0, 71.0, 161.0, 28.0, 76.0, 116.0, 198.0, 79.0, 132.0, 19.0, 71.0, 63.0, 48.0, 91.0, 114.0, 9.0, 46.0, 8.0, 51.0, 41.0, 68.0, 40.0, 158.0, 171.0, 134.0, 63.0, 25.0, 112.0, 120.0, 39.0, 24.0, 123.0, 50.0, 34.0, 39.0, 44.0, 36.0, 59.0, 17.0, 40.0, 26.0, 34.0, 79.0, 78.0, 20.0, 70.0, 43.0, 33.0, 84.0, 57.0, 74.0, 125.0, 64.0, 11.0, 32.0, 102.0, 23.0, 54.0, 48.0, 78.0, 129.0, 31.0, 43.0, 23.0, 67.0, 83.0, 44.0, 89.0, 33.0, 96.0, 135.0, 63.0, 81.0, 63.0, 50.0, 65.0, 205.0, 115.0, 70.0, 26.0, 23.0, 152.0, 61.0, 81.0, 63.0, 55.0, 100.0, 19.0, 91.0, 31.0, 78.0, 60.0, 15.0, 44.0, 76.0, 70.0, 102.0, 37.0, 89.0, 39.0, 81.0, 66.0, 114.0, 54.0, 9.0, 54.0, 21.0, 40.0, 48.0, 143.0, 83.0, 48.0, 49.0, 44.0, 76.0, 82.0, 112.0, 58.0, 62.0, 34.0, 69.0, 53.0, 85.0, 85.0, 47.0, 105.0, 55.0, 49.0, 82.0, 93.0, 128.0, 179.0, 24.0, 36.0, 81.0, 26.0, 54.0, 73.0, 68.0, 26.0, 151.0, 96.0, 61.0, 20.0, 42.0, 48.0, 14.0, 42.0, 74.0, 122.0, 24.0, 41.0, 20.0, 94.0, 158.0, 70.0, 52.0, 86.0, 25.0, 5.0, 6.0, 56.0, 59.0, 42.0, 48.0, 115.0, 104.0, 79.0, 62.0, 105.0, 29.0, 109.0, 51.0, 77.0, 146.0, 98.0, 43.0, 51.0, 26.0, 96.0, 55.0, 72.0, 73.0, 22.0, 30.0, 96.0, 27.0, 17.0, 30.0, 54.0, 151.0, 12.0, 98.0, 89.0, 147.0, 192.0, 30.0, 121.0, 89.0, 41.0, 25.0, 82.0, 83.0, 26.0, 218.0, 73.0, 159.0, 41.0, 79.0, 85.0, 42.0, 140.0, 41.0, 116.0, 42.0, 206.0, 96.0, 13.0, 101.0, 122.0, 24.0, 28.0, 65.0, 19.0, 86.0, 54.0, 58.0, 14.0, 37.0, 47.0, 170.0, 26.0, 50.0, 145.0, 56.0, 56.0, 35.0, 53.0, 56.0, 42.0, 61.0, 32.0, 35.0, 32.0, 252.0, 30.0, 26.0, 71.0, 30.0, 23.0, 205.0, 40.0, 71.0, 52.0, 5.0, 55.0, 136.0, 94.0, 4.0, 134.0, 41.0, 57.0, 31.0, 167.0, 55.0, 47.0, 5.0, 78.0, 77.0, 172.0, 46.0, 72.0, 75.0, 52.0, 123.0, 10.0, 23.0, 79.0, 212.0, 33.0, 45.0, 84.0, 116.0, 21.0, 55.0, 90.0, 34.0, 69.0, 47.0, 53.0, 29.0, 39.0, 38.0, 40.0, 25.0, 91.0, 43.0, 38.0, 50.0, 21.0, 69.0, 8.0, 48.0, 91.0, 236.0, 105.0, 69.0, 79.0, 128.0, 42.0, 88.0, 65.0, 126.0, 89.0, 57.0, 153.0, 32.0, 18.0, 10.0, 26.0, 108.0, 35.0, 54.0, 118.0, 86.0, 73.0, 41.0, 34.0, 67.0, 19.0, 93.0, 120.0, 36.0, 116.0, 74.0, 75.0, 56.0, 49.0, 62.0, 64.0, 66.0, 40.0, 81.0, 39.0, 15.0, 96.0, 22.0, 237.0, 166.0, 49.0, 70.0, 35.0, 146.0, 47.0, 82.0, 138.0, 27.0, 253.0, 113.0, 17.0, 174.0, 86.0, 47.0, 118.0, 20.0, 16.0, 29.0, 26.0, 58.0, 97.0, 47.0, 173.0, 37.0, 170.0, 183.0, 73.0, 86.0, 124.0, 63.0, 29.0, 22.0, 35.0, 130.0, 106.0, 21.0, 53.0, 58.0, 20.0, 97.0, 65.0, 90.0, 36.0, 54.0, 39.0, 127.0, 121.0, 21.0, 204.0, 89.0, 91.0, 147.0, 89.0, 56.0, 40.0, 61.0, 98.0, 16.0, 184.0, 227.0, 47.0, 58.0, 111.0, 13.0, 52.0, 72.0, 82.0, 205.0, 256.0, 25.0, 50.0, 39.0, 82.0, 74.0, 180.0, 66.0, 43.0, 28.0, 72.0, 57.0, 45.0, 39.0, 52.0, 32.0, 13.0, 92.0, 62.0, 15.0, 54.0, 67.0, 48.0, 35.0, 49.0, 86.0, 73.0, 28.0, 33.0, 34.0, 21.0, 42.0, 61.0, 37.0, 28.0, 66.0, 31.0, 106.0, 30.0, 65.0, 105.0, 31.0, 126.0, 105.0, 24.0, 32.0, 30.0, 31.0, 56.0, 27.0, 61.0, 39.0, 56.0, 43.0, 124.0, 56.0, 9.0, 48.0, 152.0, 39.0, 51.0, 30.0, 76.0, 68.0, 43.0, 105.0, 93.0, 24.0, 63.0, 37.0, 23.0, 67.0, 74.0, 43.0, 78.0, 16.0, 92.0, 23.0, 54.0, 55.0, 47.0, 25.0, 106.0, 90.0, 25.0, 51.0, 20.0, 204.0, 39.0, 109.0, 202.0, 17.0, 85.0, 32.0, 17.0, 86.0, 32.0, 81.0, 60.0, 121.0, 26.0, 46.0, 25.0, 26.0, 99.0, 31.0, 76.0, 142.0, 48.0, 19.0, 56.0, 20.0, 97.0, 68.0, 49.0, 24.0, 25.0, 28.0, 13.0, 22.0, 76.0, 55.0, 176.0, 32.0, 46.0, 55.0, 27.0, 47.0, 36.0, 51.0, 44.0, 23.0, 19.0, 28.0, 48.0, 88.0, 62.0, 139.0, 109.0, 133.0, 12.0, 94.0, 57.0, 18.0, 47.0, 164.0, 53.0, 43.0, 110.0, 129.0, 62.0, 25.0, 35.0, 26.0, 137.0, 41.0, 119.0, 80.0, 21.0, 49.0, 25.0, 17.0, 25.0, 35.0, 49.0, 129.0, 133.0, 59.0, 72.0, 225.0, 80.0, 55.0, 27.0, 25.0, 213.0, 122.0, 199.0, 125.0, 107.0, 68.0, 109.0, 112.0, 93.0, 28.0, 14.0, 184.0, 27.0, 114.0, 103.0, 38.0, 68.0, 82.0, 28.0, 21.0, 13.0, 84.0, 16.0, 106.0, 140.0, 59.0, 98.0, 51.0, 19.0, 40.0, 94.0, 18.0, 25.0, 36.0, 83.0, 35.0, 37.0, 120.0, 37.0, 62.0, 65.0, 96.0, 89.0, 30.0, 13.0, 20.0, 11.0, 36.0, 38.0, 160.0, 98.0, 60.0, 12.0, 36.0, 40.0, 99.0, 93.0, 141.0, 28.0, 44.0, 25.0, 44.0, 31.0, 97.0, 8.0, 49.0, 16.0, 30.0, 60.0, 144.0, 23.0, 86.0, 102.0, 98.0, 151.0, 68.0, 183.0, 29.0, 68.0, 28.0, 99.0, 33.0, 70.0, 43.0, 64.0, 54.0, 71.0, 104.0, 58.0, 45.0, 51.0, 225.0, 34.0, 39.0, 24.0, 16.0, 39.0, 64.0, 191.0, 80.0, 56.0, 121.0, 27.0, 59.0, 224.0, 117.0, 132.0, 8.0, 62.0, 45.0, 131.0, 28.0, 8.0, 112.0, 41.0, 23.0, 237.0, 26.0, 10.0, 76.0, 21.0, 145.0, 81.0, 189.0, 63.0, 16.0, 36.0, 73.0, 68.0, 96.0, 22.0, 6.0, 40.0, 89.0, 91.0, 36.0, 30.0, 19.0, 149.0, 52.0, 13.0, 34.0, 23.0, 51.0, 51.0, 90.0, 47.0, 157.0, 62.0, 58.0, 22.0, 71.0, 45.0, 128.0, 113.0, 75.0, 107.0, 16.0, 27.0, 210.0, 44.0, 23.0, 133.0, 125.0, 32.0, 123.0, 93.0, 107.0, 72.0, 66.0, 72.0, 52.0, 108.0, 45.0, 28.0, 98.0, 94.0, 37.0, 77.0, 173.0, 48.0, 73.0, 38.0, 65.0, 75.0, 33.0, 63.0, 51.0, 24.0, 98.0, 82.0, 6.0, 5.0, 7.0, 109.0, 158.0, 30.0, 156.0, 45.0, 63.0, 25.0, 43.0, 81.0, 7.0, 147.0, 15.0, 139.0, 53.0, 15.0, 12.0, 58.0, 49.0, 74.0, 23.0, 63.0, 46.0, 32.0, 45.0, 67.0, 85.0, 9.0, 113.0, 132.0, 168.0, 47.0, 16.0, 34.0, 123.0, 61.0, 29.0, 41.0, 146.0, 34.0, 145.0, 122.0, 136.0, 60.0, 34.0, 43.0, 35.0, 10.0, 184.0, 65.0, 131.0, 170.0, 30.0, 49.0, 125.0, 97.0, 77.0, 104.0, 28.0, 79.0, 110.0, 103.0, 69.0, 47.0, 29.0, 213.0, 92.0, 19.0, 92.0, 36.0, 149.0, 18.0, 119.0, 22.0, 91.0, 62.0, 15.0, 251.0, 46.0, 55.0, 29.0, 29.0, 163.0, 70.0, 73.0, 150.0, 142.0, 7.0, 37.0, 67.0, 39.0, 100.0, 82.0, 133.0, 112.0, 88.0, 178.0, 18.0, 52.0, 63.0, 118.0, 38.0, 116.0, 156.0, 6.0, 19.0, 11.0, 59.0, 54.0, 27.0, 20.0, 13.0, 161.0, 69.0, 30.0, 6.0, 91.0, 17.0, 161.0, 80.0, 36.0, 59.0, 96.0, 76.0, 44.0, 70.0, 128.0, 23.0, 83.0, 73.0, 184.0, 97.0, 154.0, 68.0, 9.0, 19.0, 61.0, 97.0, 80.0, 59.0, 61.0, 17.0, 71.0, 80.0, 71.0, 86.0, 87.0, 26.0, 97.0, 60.0, 148.0, 169.0, 39.0, 40.0, 40.0, 185.0, 12.0, 18.0, 101.0, 14.0, 42.0, 66.0, 85.0, 100.0, 53.0, 44.0, 67.0, 236.0, 5.0, 222.0, 38.0, 164.0, 119.0, 88.0, 82.0, 98.0, 180.0, 167.0, 194.0, 94.0, 109.0, 105.0, 64.0, 75.0, 32.0, 26.0, 59.0, 64.0, 24.0, 13.0, 70.0, 132.0, 85.0, 56.0, 78.0, 38.0, 12.0, 82.0, 152.0, 34.0, 83.0, 187.0, 92.0, 168.0, 34.0, 207.0, 36.0, 53.0, 127.0, 52.0, 30.0, 17.0, 50.0, 20.0, 114.0, 54.0, 47.0, 18.0, 134.0, 32.0, 57.0, 83.0, 113.0, 44.0, 60.0, 103.0, 65.0, 29.0, 21.0, 117.0, 37.0, 138.0, 31.0, 38.0, 255.0, 123.0, 27.0, 43.0, 14.0, 122.0, 20.0, 97.0, 29.0, 120.0, 55.0, 68.0, 84.0, 72.0, 84.0, 95.0, 102.0, 11.0, 47.0, 55.0, 80.0, 48.0, 75.0, 73.0, 229.0, 61.0, 43.0, 47.0, 36.0, 15.0, 112.0, 61.0, 78.0, 68.0, 42.0, 38.0, 115.0, 139.0, 18.0, 27.0, 42.0, 59.0, 46.0, 195.0, 120.0, 27.0, 81.0, 118.0, 124.0, 39.0, 63.0, 15.0, 34.0, 35.0, 13.0, 61.0, 17.0, 30.0, 48.0, 133.0, 60.0, 14.0, 137.0, 49.0, 62.0, 46.0, 160.0, 61.0, 49.0, 111.0, 204.0, 26.0, 57.0, 59.0, 89.0, 123.0, 41.0, 97.0, 64.0, 37.0, 38.0, 64.0, 95.0, 52.0, 49.0, 26.0, 26.0, 73.0, 100.0, 119.0, 88.0, 46.0, 67.0, 33.0, 57.0, 49.0, 113.0, 52.0, 19.0, 76.0, 33.0, 47.0, 47.0, 227.0, 56.0, 39.0, 37.0, 55.0, 35.0, 35.0, 149.0, 75.0, 89.0, 109.0, 57.0, 46.0, 148.0, 155.0, 55.0, 60.0, 138.0, 165.0, 11.0, 61.0, 148.0, 87.0, 32.0, 7.0, 90.0, 37.0, 80.0, 29.0, 156.0, 60.0, 32.0, 169.0, 76.0, 161.0, 40.0, 16.0, 129.0, 105.0, 66.0, 45.0, 43.0, 15.0, 60.0, 60.0, 142.0, 51.0, 165.0, 115.0, 34.0, 92.0, 40.0, 182.0, 42.0, 98.0, 85.0, 62.0, 39.0, 62.0, 98.0, 26.0, 108.0, 63.0, 34.0, 79.0, 70.0, 16.0, 69.0, 120.0, 82.0, 71.0, 142.0, 90.0, 106.0, 235.0, 71.0, 99.0, 37.0, 14.0, 66.0, 35.0, 45.0, 67.0, 27.0, 71.0, 167.0, 43.0, 40.0, 37.0, 39.0, 23.0, 43.0, 33.0, 120.0, 26.0, 41.0, 68.0, 33.0, 35.0, 86.0, 35.0, 50.0, 41.0, 81.0, 62.0, 26.0, 56.0, 51.0, 55.0, 122.0, 81.0, 105.0, 46.0, 53.0, 71.0, 161.0, 112.0, 7.0, 163.0, 116.0, 76.0, 51.0, 184.0, 142.0, 51.0, 25.0, 127.0, 32.0, 43.0, 138.0, 44.0, 26.0, 28.0, 52.0, 34.0, 28.0, 53.0, 37.0, 33.0, 54.0, 71.0, 111.0, 43.0, 27.0, 49.0, 26.0, 27.0, 48.0, 71.0, 170.0, 39.0, 137.0, 94.0, 27.0, 39.0, 31.0, 67.0, 55.0, 112.0, 82.0, 26.0, 34.0, 40.0, 15.0, 16.0, 151.0, 81.0, 95.0, 85.0, 30.0, 33.0, 11.0, 191.0, 118.0, 52.0, 142.0, 72.0, 41.0, 100.0, 42.0, 38.0, 165.0, 62.0, 91.0, 24.0, 95.0, 66.0, 79.0, 78.0, 149.0, 212.0, 80.0, 61.0, 64.0, 50.0, 96.0, 152.0, 200.0, 85.0, 86.0, 49.0, 43.0, 118.0, 77.0, 157.0, 38.0, 53.0, 55.0, 31.0, 81.0, 101.0, 43.0, 7.0, 38.0, 82.0, 15.0, 77.0, 65.0, 29.0, 31.0, 56.0, 31.0, 95.0, 50.0, 159.0, 61.0, 88.0, 66.0, 46.0, 122.0, 60.0, 76.0, 103.0, 64.0, 10.0, 72.0, 65.0, 130.0, 215.0, 16.0, 14.0, 22.0, 79.0, 55.0, 39.0, 149.0, 41.0, 51.0, 29.0, 40.0, 22.0, 47.0, 42.0, 115.0, 115.0, 95.0, 77.0, 41.0, 50.0, 21.0, 57.0, 38.0, 21.0, 13.0, 179.0, 67.0, 37.0, 72.0, 63.0, 58.0, 74.0, 28.0, 41.0, 46.0, 93.0, 32.0, 54.0, 78.0, 51.0, 68.0, 135.0, 94.0, 37.0, 39.0, 58.0, 86.0, 68.0, 135.0, 25.0, 88.0, 97.0, 88.0, 106.0, 31.0, 128.0, 38.0, 25.0, 195.0, 87.0, 65.0, 43.0, 66.0, 101.0, 117.0, 117.0, 25.0, 122.0, 6.0, 82.0, 39.0, 134.0, 46.0, 68.0, 17.0, 54.0, 30.0, 57.0, 13.0, 123.0, 76.0, 95.0, 19.0, 59.0, 23.0, 90.0, 120.0, 8.0, 128.0, 17.0, 37.0, 114.0, 51.0, 30.0, 33.0, 30.0, 25.0, 42.0, 8.0, 125.0, 68.0, 58.0, 100.0, 12.0, 8.0, 123.0, 111.0, 53.0, 51.0, 41.0, 101.0, 195.0, 29.0, 123.0, 87.0, 18.0, 155.0, 57.0, 55.0, 36.0, 8.0, 82.0, 27.0, 99.0, 26.0, 27.0, 120.0, 70.0, 120.0, 42.0, 145.0, 31.0, 30.0, 95.0, 9.0, 12.0, 151.0, 43.0, 134.0, 116.0, 22.0, 90.0, 226.0, 82.0, 150.0, 83.0, 149.0, 87.0, 129.0, 94.0, 15.0, 205.0, 68.0, 35.0, 12.0, 124.0, 74.0, 155.0, 224.0, 45.0, 50.0, 58.0, 38.0, 11.0, 28.0, 133.0, 93.0, 36.0, 44.0, 31.0, 75.0, 222.0, 60.0, 75.0, 249.0, 98.0, 74.0, 86.0, 49.0, 207.0, 54.0, 120.0, 162.0, 75.0, 201.0, 87.0, 70.0, 47.0, 58.0, 20.0, 57.0, 30.0, 73.0, 31.0, 51.0, 41.0, 25.0, 31.0, 153.0, 95.0, 143.0, 130.0, 69.0, 140.0, 44.0, 123.0, 48.0, 135.0, 164.0, 18.0, 47.0, 24.0, 74.0, 81.0, 33.0, 16.0, 54.0, 15.0, 15.0, 37.0, 45.0, 36.0, 8.0, 11.0, 7.0, 51.0, 166.0, 16.0, 96.0, 10.0, 65.0, 126.0, 154.0, 120.0, 67.0, 55.0, 85.0, 109.0, 12.0, 17.0, 34.0, 41.0, 64.0, 67.0, 141.0, 58.0, 44.0, 137.0, 44.0, 134.0, 37.0, 130.0, 35.0, 22.0, 47.0, 43.0, 48.0, 24.0, 91.0, 45.0, 186.0, 52.0, 104.0, 46.0, 62.0, 53.0, 32.0, 129.0, 20.0, 32.0, 71.0, 88.0, 101.0, 243.0, 89.0, 61.0, 76.0, 46.0, 102.0, 107.0, 69.0, 61.0, 25.0, 34.0, 43.0, 39.0, 47.0, 114.0, 36.0, 25.0, 161.0, 77.0, 98.0, 71.0, 101.0, 11.0, 123.0, 127.0, 133.0, 34.0, 34.0, 94.0, 42.0, 172.0, 18.0, 133.0, 60.0, 33.0, 64.0, 85.0, 79.0, 75.0, 82.0, 48.0, 5.0, 51.0, 38.0, 37.0, 67.0, 75.0, 61.0, 53.0, 33.0, 115.0, 59.0, 78.0, 153.0, 122.0, 116.0, 34.0, 82.0, 68.0, 61.0, 168.0, 42.0, 43.0, 26.0, 49.0, 97.0, 143.0, 169.0, 62.0, 210.0, 71.0, 35.0, 44.0, 181.0, 53.0, 32.0, 30.0, 83.0, 72.0, 65.0, 93.0, 194.0, 160.0, 94.0, 28.0, 41.0, 89.0, 17.0, 32.0, 141.0, 94.0, 40.0, 32.0, 98.0, 145.0, 105.0, 49.0, 28.0, 65.0, 160.0, 102.0, 81.0, 117.0, 106.0, 77.0, 40.0, 139.0, 23.0, 139.0, 41.0, 28.0, 141.0, 73.0, 26.0, 29.0, 113.0, 115.0, 22.0, 163.0, 55.0, 73.0, 87.0, 150.0, 38.0, 40.0, 40.0, 45.0, 17.0, 49.0, 181.0, 158.0, 36.0, 70.0, 70.0, 75.0, 145.0, 64.0, 47.0, 52.0, 45.0, 54.0, 19.0, 134.0, 28.0, 59.0, 22.0, 44.0, 50.0, 232.0, 50.0, 68.0, 49.0, 115.0, 36.0, 53.0, 82.0, 24.0, 156.0, 70.0, 64.0, 46.0, 99.0, 47.0, 70.0, 193.0, 31.0, 61.0, 78.0, 52.0, 29.0, 36.0, 13.0, 81.0, 78.0, 155.0, 61.0, 52.0, 11.0, 65.0, 23.0, 84.0, 116.0, 89.0, 73.0, 26.0, 34.0, 41.0, 30.0, 42.0, 195.0, 20.0, 57.0, 11.0, 112.0, 70.0, 148.0, 105.0, 226.0, 47.0, 83.0, 148.0, 136.0, 12.0, 61.0, 60.0, 55.0, 56.0, 151.0, 38.0, 56.0, 32.0, 29.0, 105.0, 77.0, 48.0, 88.0, 45.0, 37.0, 117.0, 68.0, 146.0, 115.0, 41.0, 114.0, 35.0, 65.0, 10.0, 99.0, 88.0, 47.0, 55.0, 61.0, 25.0, 37.0, 48.0, 40.0, 73.0, 21.0, 28.0, 41.0, 90.0, 12.0, 103.0, 52.0, 4.0, 45.0, 48.0, 97.0, 34.0, 38.0, 95.0, 107.0, 56.0, 69.0, 21.0, 173.0, 60.0, 21.0, 46.0, 39.0, 168.0, 43.0, 27.0, 27.0, 44.0, 54.0, 44.0, 85.0, 71.0, 84.0, 57.0, 28.0, 170.0, 204.0, 31.0, 64.0, 14.0, 139.0, 41.0, 27.0, 15.0, 102.0, 120.0, 34.0, 74.0, 189.0, 42.0, 121.0, 63.0, 62.0, 25.0, 57.0, 76.0, 44.0, 18.0, 212.0, 138.0, 31.0, 195.0, 153.0, 175.0, 25.0, 85.0, 62.0, 35.0, 119.0, 96.0, 47.0, 44.0, 171.0, 58.0, 30.0, 40.0, 67.0, 36.0, 36.0, 33.0, 44.0, 33.0, 86.0, 44.0, 103.0, 78.0, 47.0, 105.0, 8.0, 102.0, 81.0, 18.0, 103.0, 148.0, 57.0, 99.0, 39.0, 51.0, 167.0, 125.0, 120.0, 97.0, 172.0, 65.0, 96.0, 21.0, 82.0, 67.0, 95.0, 113.0, 32.0, 51.0, 83.0, 114.0, 123.0, 8.0, 44.0, 67.0, 131.0, 117.0, 40.0, 20.0, 142.0, 56.0, 25.0, 21.0, 81.0, 54.0, 80.0, 79.0, 188.0, 66.0, 79.0, 17.0, 39.0, 76.0, 70.0, 77.0, 134.0, 21.0, 16.0, 102.0, 79.0, 30.0, 82.0, 154.0, 34.0, 25.0, 120.0, 129.0, 177.0, 114.0, 40.0, 32.0, 53.0, 84.0, 61.0, 97.0, 89.0, 11.0, 26.0, 80.0, 77.0, 17.0, 45.0, 9.0, 86.0, 25.0, 20.0, 23.0, 42.0, 114.0, 37.0, 60.0, 156.0, 40.0, 27.0, 25.0, 248.0, 19.0, 133.0, 12.0, 27.0, 47.0, 65.0, 31.0, 32.0, 104.0, 62.0, 61.0, 26.0, 30.0, 85.0, 107.0, 100.0, 85.0, 68.0, 41.0, 40.0, 100.0, 24.0, 57.0, 11.0, 55.0, 27.0, 48.0, 5.0, 83.0, 116.0, 14.0, 42.0, 37.0, 130.0, 103.0, 59.0, 47.0, 20.0, 51.0, 229.0, 27.0, 17.0, 23.0, 18.0, 11.0, 37.0, 19.0, 48.0, 91.0, 24.0, 93.0, 127.0, 50.0, 70.0, 51.0, 14.0, 55.0, 41.0, 71.0, 181.0, 43.0, 56.0, 26.0, 14.0, 10.0, 63.0, 6.0, 42.0, 179.0, 51.0, 24.0, 130.0, 207.0, 40.0, 109.0, 24.0, 103.0, 26.0, 58.0, 59.0, 12.0, 46.0, 34.0, 33.0, 19.0, 76.0, 45.0, 238.0, 35.0, 32.0, 114.0, 23.0, 74.0, 116.0, 66.0, 29.0, 46.0, 71.0, 59.0, 106.0, 19.0, 72.0, 123.0, 69.0, 29.0, 24.0, 86.0, 32.0, 48.0, 60.0, 34.0, 43.0, 66.0, 29.0, 57.0, 139.0, 34.0, 96.0, 79.0, 9.0, 128.0, 97.0, 170.0, 107.0, 14.0, 34.0, 13.0, 62.0, 15.0, 144.0, 65.0, 77.0, 27.0, 111.0, 8.0, 52.0, 52.0, 63.0, 74.0, 79.0, 80.0, 52.0, 109.0, 39.0, 8.0, 126.0, 85.0, 80.0, 48.0, 42.0, 62.0, 181.0, 80.0, 159.0, 26.0, 17.0, 189.0, 49.0, 183.0, 112.0, 152.0, 18.0, 10.0, 37.0, 11.0, 16.0, 62.0, 8.0, 25.0, 111.0, 120.0, 11.0, 32.0, 137.0, 6.0, 85.0, 55.0, 59.0, 51.0, 103.0, 24.0, 6.0, 117.0, 202.0, 48.0, 61.0, 107.0, 52.0, 41.0, 110.0, 14.0, 26.0, 51.0, 82.0, 40.0, 88.0, 8.0, 36.0, 40.0, 102.0, 85.0, 52.0, 42.0, 69.0, 16.0, 192.0, 36.0, 62.0, 87.0, 73.0, 200.0, 139.0, 47.0, 43.0, 14.0, 65.0, 27.0, 51.0, 112.0, 84.0, 152.0, 38.0, 16.0, 70.0, 21.0, 22.0, 36.0, 158.0, 11.0, 89.0, 83.0, 21.0, 13.0, 136.0, 18.0, 214.0, 33.0, 66.0, 46.0, 16.0, 148.0, 42.0, 17.0, 77.0, 25.0, 186.0, 147.0, 77.0, 14.0, 77.0, 17.0, 94.0, 32.0, 30.0, 78.0, 22.0, 91.0, 207.0, 44.0, 32.0, 30.0, 114.0, 53.0, 71.0, 91.0, 96.0, 114.0, 52.0, 233.0, 48.0, 33.0, 59.0, 110.0, 44.0, 52.0, 7.0, 72.0, 10.0, 82.0, 118.0, 32.0, 7.0, 71.0, 82.0, 43.0, 47.0, 31.0, 15.0, 82.0, 66.0, 148.0, 38.0, 50.0, 91.0, 13.0, 75.0, 38.0, 83.0, 140.0, 78.0, 69.0, 15.0, 21.0, 37.0, 20.0, 39.0, 95.0, 128.0, 13.0, 26.0, 58.0, 101.0, 48.0, 21.0, 105.0, 25.0, 94.0, 153.0, 13.0, 74.0, 9.0, 90.0, 95.0, 135.0, 98.0, 27.0, 132.0, 11.0, 48.0, 28.0, 174.0, 11.0, 42.0, 89.0, 63.0, 88.0, 160.0, 136.0, 71.0, 73.0, 127.0, 122.0, 31.0, 145.0, 61.0, 89.0, 29.0, 71.0, 173.0, 74.0, 49.0, 22.0, 56.0, 56.0, 88.0, 65.0, 72.0, 100.0, 196.0, 25.0, 49.0, 45.0, 46.0, 35.0, 28.0, 227.0, 34.0, 38.0, 63.0, 78.0, 13.0, 125.0, 87.0, 49.0, 42.0, 165.0, 23.0, 192.0, 42.0, 49.0, 20.0, 134.0, 104.0, 38.0, 119.0, 21.0, 104.0, 72.0, 143.0, 213.0, 163.0, 57.0, 73.0, 44.0, 108.0, 137.0, 140.0, 89.0, 31.0, 256.0, 44.0, 35.0, 33.0, 70.0, 122.0, 76.0, 46.0, 185.0, 36.0, 52.0, 66.0, 30.0, 58.0, 256.0, 106.0, 158.0, 35.0, 45.0, 49.0, 89.0, 92.0, 35.0, 89.0, 35.0, 28.0, 45.0, 17.0, 22.0, 43.0, 236.0, 29.0, 105.0, 51.0, 51.0, 9.0, 93.0, 97.0, 45.0, 86.0, 57.0, 79.0, 112.0, 84.0, 125.0, 247.0, 37.0, 36.0, 73.0, 22.0, 9.0, 56.0, 35.0, 27.0, 121.0, 76.0, 57.0, 49.0, 25.0, 45.0, 211.0, 29.0, 117.0, 15.0, 169.0, 77.0, 25.0, 209.0, 51.0, 96.0, 97.0, 53.0, 76.0, 36.0, 66.0, 19.0, 109.0, 24.0, 133.0, 53.0, 48.0, 132.0, 69.0, 37.0, 62.0, 58.0, 35.0, 120.0, 30.0, 67.0, 97.0, 174.0, 128.0, 138.0, 45.0, 54.0, 108.0, 76.0, 42.0, 63.0, 68.0, 92.0, 40.0, 111.0, 47.0, 115.0, 111.0, 105.0, 54.0, 92.0, 46.0, 48.0, 35.0, 95.0, 53.0, 64.0, 48.0, 42.0, 69.0, 12.0, 135.0, 74.0, 75.0, 183.0, 103.0, 28.0, 71.0, 64.0, 8.0, 110.0, 95.0, 22.0, 7.0, 21.0, 99.0, 25.0, 47.0, 43.0, 39.0, 54.0, 11.0, 90.0, 49.0, 219.0, 34.0, 27.0, 113.0, 160.0, 57.0, 36.0, 242.0, 118.0, 27.0, 32.0, 87.0, 59.0, 119.0, 27.0, 53.0, 32.0, 73.0, 231.0, 51.0, 51.0, 92.0, 145.0, 61.0, 58.0, 56.0, 71.0, 57.0, 85.0, 54.0, 67.0, 72.0, 33.0, 104.0, 65.0, 86.0, 28.0, 86.0, 32.0, 62.0, 156.0, 21.0, 125.0, 82.0, 53.0, 53.0, 100.0, 29.0, 111.0, 63.0, 83.0, 100.0, 124.0, 80.0, 47.0, 39.0, 111.0, 52.0, 55.0, 78.0, 110.0, 166.0, 53.0, 69.0, 85.0, 59.0, 99.0, 110.0, 26.0, 144.0, 45.0, 77.0, 105.0, 179.0, 103.0, 92.0, 36.0, 29.0, 21.0, 61.0, 71.0, 46.0, 44.0, 92.0, 11.0, 83.0, 135.0, 212.0, 48.0, 117.0, 86.0, 110.0, 29.0, 25.0, 142.0, 62.0, 104.0, 80.0, 81.0, 83.0, 28.0, 58.0, 86.0, 61.0, 25.0, 90.0, 64.0, 82.0, 78.0, 107.0, 32.0, 28.0, 30.0, 38.0, 107.0, 116.0, 20.0, 19.0, 76.0, 57.0, 122.0, 112.0, 51.0, 95.0, 43.0, 99.0, 89.0, 115.0, 62.0, 82.0, 41.0, 141.0, 48.0, 35.0, 182.0, 53.0, 19.0, 89.0, 59.0, 107.0, 142.0, 30.0, 69.0, 77.0, 138.0, 74.0, 11.0, 56.0, 40.0, 108.0, 124.0, 79.0, 46.0, 52.0, 76.0, 51.0, 114.0, 84.0, 178.0, 56.0, 71.0, 53.0, 101.0, 93.0, 130.0, 71.0, 70.0, 61.0, 40.0, 102.0, 48.0, 32.0, 133.0, 63.0, 77.0, 56.0, 31.0, 58.0, 32.0, 71.0, 92.0, 106.0, 155.0, 138.0, 81.0, 10.0, 74.0, 175.0, 87.0, 111.0, 44.0, 65.0, 82.0, 42.0, 41.0, 79.0, 61.0, 63.0, 91.0, 7.0, 38.0, 53.0, 112.0, 112.0, 61.0, 46.0, 118.0, 93.0, 133.0, 119.0, 98.0, 77.0, 113.0, 106.0, 73.0, 78.0, 61.0, 24.0, 6.0, 107.0, 59.0, 161.0, 126.0, 64.0, 120.0, 62.0, 34.0, 45.0, 164.0, 141.0, 93.0, 105.0, 18.0, 11.0, 77.0, 42.0, 44.0, 53.0, 43.0, 84.0, 69.0, 47.0, 17.0, 98.0, 62.0, 103.0, 27.0, 54.0, 74.0, 131.0, 85.0, 166.0, 32.0, 99.0, 59.0, 181.0, 102.0, 19.0, 80.0, 112.0, 44.0, 96.0, 125.0, 42.0, 49.0, 43.0, 80.0, 78.0, 9.0, 68.0, 97.0, 131.0, 133.0, 83.0, 17.0, 32.0, 7.0, 48.0, 37.0, 117.0, 141.0, 92.0, 59.0, 69.0, 89.0, 69.0, 93.0, 96.0, 62.0, 159.0, 130.0, 230.0, 41.0, 138.0, 63.0, 124.0, 90.0, 111.0, 99.0, 57.0, 61.0, 108.0, 72.0, 68.0, 45.0, 115.0, 74.0, 43.0, 18.0, 90.0, 110.0, 45.0, 38.0, 31.0, 60.0, 118.0, 82.0, 57.0, 100.0, 42.0, 16.0, 21.0, 132.0, 113.0, 54.0, 125.0, 11.0, 19.0, 11.0, 67.0, 58.0, 19.0, 62.0, 15.0, 41.0, 27.0, 105.0, 94.0, 58.0, 52.0, 56.0, 14.0, 73.0, 57.0, 110.0, 103.0, 11.0, 7.0, 66.0, 17.0, 48.0, 22.0, 51.0, 83.0, 103.0, 18.0, 22.0, 84.0, 142.0, 35.0, 110.0, 176.0, 68.0, 63.0, 208.0, 127.0, 105.0, 138.0, 48.0, 49.0, 41.0, 36.0, 18.0, 37.0, 34.0, 51.0, 4.0, 116.0, 48.0, 75.0, 73.0, 89.0, 12.0, 10.0, 97.0, 9.0, 22.0, 33.0, 32.0, 21.0, 143.0, 46.0, 118.0, 45.0, 128.0, 62.0, 44.0, 54.0, 18.0, 62.0, 77.0, 40.0, 48.0, 153.0, 26.0, 25.0, 34.0, 80.0, 11.0, 125.0, 99.0, 89.0, 91.0, 111.0, 78.0, 117.0, 246.0, 118.0, 113.0, 125.0, 72.0, 108.0, 80.0, 196.0, 62.0, 50.0, 30.0, 104.0, 67.0, 54.0, 61.0, 83.0, 43.0, 50.0, 87.0, 30.0, 72.0, 38.0, 34.0, 29.0, 50.0, 48.0, 8.0, 71.0, 116.0, 101.0, 105.0, 98.0, 19.0, 45.0, 97.0, 34.0, 25.0, 64.0, 63.0, 173.0, 46.0, 57.0, 97.0, 91.0, 57.0, 141.0, 111.0, 57.0, 52.0, 72.0, 49.0, 174.0, 33.0, 85.0, 32.0, 212.0, 117.0, 121.0, 29.0, 40.0, 17.0, 57.0, 50.0, 111.0, 58.0, 48.0, 80.0, 30.0, 134.0, 37.0, 66.0, 102.0, 59.0, 121.0, 74.0, 30.0, 28.0, 157.0, 42.0, 81.0, 106.0, 42.0, 68.0, 72.0, 166.0, 111.0, 16.0, 53.0, 99.0, 35.0, 38.0, 23.0, 41.0, 138.0, 66.0, 17.0, 69.0, 13.0, 28.0, 38.0, 65.0, 100.0, 39.0, 31.0, 35.0, 60.0, 23.0, 50.0, 92.0, 75.0, 33.0, 47.0, 34.0, 67.0, 134.0, 143.0, 96.0, 16.0, 91.0, 134.0, 34.0, 150.0, 58.0, 73.0, 81.0, 10.0, 92.0, 84.0, 31.0, 20.0, 128.0, 40.0, 108.0, 64.0, 59.0, 66.0, 117.0, 82.0, 46.0, 245.0, 99.0, 45.0, 83.0, 64.0, 65.0, 76.0, 25.0, 33.0, 57.0, 103.0, 61.0, 100.0, 51.0, 62.0, 73.0, 22.0, 8.0, 68.0, 18.0, 85.0, 103.0, 131.0, 168.0, 102.0, 69.0, 34.0, 32.0, 189.0, 52.0, 63.0, 65.0, 74.0, 80.0, 10.0, 41.0, 82.0, 227.0, 88.0, 53.0, 122.0, 106.0, 55.0, 27.0, 23.0, 87.0, 35.0, 85.0, 95.0, 23.0, 98.0, 71.0, 41.0, 61.0, 164.0, 115.0, 12.0, 22.0, 46.0, 40.0, 48.0, 79.0, 54.0, 26.0, 92.0, 228.0, 21.0, 24.0, 69.0, 72.0, 89.0, 20.0, 64.0, 71.0, 82.0, 62.0, 58.0, 59.0, 98.0, 93.0, 111.0, 69.0, 95.0, 57.0, 227.0, 104.0, 51.0, 69.0, 68.0, 80.0, 88.0, 109.0, 94.0, 73.0, 88.0, 204.0, 119.0, 80.0, 31.0, 98.0, 49.0, 14.0, 23.0, 33.0, 59.0, 12.0, 119.0, 93.0, 190.0, 79.0, 34.0, 149.0, 32.0, 58.0, 82.0, 19.0, 116.0, 181.0, 120.0, 185.0, 48.0, 19.0, 62.0, 87.0, 58.0, 179.0, 20.0, 59.0, 31.0, 27.0, 199.0, 26.0, 34.0, 117.0, 30.0, 46.0, 125.0, 188.0, 87.0, 60.0, 115.0, 43.0, 25.0, 100.0, 166.0, 41.0, 176.0, 60.0, 28.0, 74.0, 46.0, 50.0, 27.0, 60.0, 44.0, 165.0, 51.0, 48.0, 54.0, 36.0, 49.0, 43.0, 107.0, 68.0, 34.0, 53.0, 75.0, 144.0, 59.0, 38.0, 9.0, 155.0, 226.0, 11.0, 38.0, 16.0, 80.0, 46.0, 34.0, 83.0, 37.0, 112.0, 95.0, 40.0, 114.0, 86.0, 40.0, 99.0, 102.0, 82.0, 28.0, 92.0, 87.0, 105.0, 85.0, 63.0, 62.0, 43.0, 104.0, 81.0, 81.0, 9.0, 34.0, 88.0, 75.0, 37.0, 49.0, 71.0, 65.0, 46.0, 122.0, 133.0, 171.0, 25.0, 92.0, 53.0, 64.0, 118.0, 41.0, 67.0, 28.0, 27.0, 132.0, 40.0, 52.0, 98.0, 84.0, 48.0, 65.0, 76.0, 107.0, 89.0, 205.0, 96.0, 110.0, 49.0, 37.0, 139.0, 90.0, 156.0, 51.0, 131.0, 139.0, 169.0, 75.0, 63.0, 101.0, 111.0, 43.0, 170.0, 28.0, 55.0, 50.0, 173.0, 106.0, 59.0, 46.0, 54.0, 68.0, 74.0, 214.0, 83.0, 34.0, 147.0, 76.0, 80.0, 93.0, 243.0, 128.0, 68.0, 165.0, 92.0, 54.0, 129.0, 47.0, 14.0, 52.0, 94.0, 56.0, 106.0, 35.0, 74.0, 36.0, 30.0, 6.0, 42.0, 188.0, 24.0, 22.0, 59.0, 74.0, 207.0, 40.0, 132.0, 29.0, 25.0, 61.0, 51.0, 41.0, 33.0, 48.0, 92.0, 49.0, 37.0, 68.0, 132.0, 184.0, 64.0, 98.0, 166.0, 63.0, 50.0, 30.0, 41.0, 38.0, 48.0, 62.0, 29.0, 140.0, 46.0, 39.0, 39.0, 101.0, 69.0, 46.0, 67.0, 121.0, 84.0, 6.0, 20.0, 57.0, 21.0, 110.0, 115.0, 107.0, 169.0, 23.0, 47.0, 74.0, 85.0, 153.0, 106.0, 39.0, 18.0, 17.0, 40.0, 74.0, 23.0, 105.0, 13.0, 46.0, 140.0, 66.0, 106.0, 32.0, 22.0, 76.0, 129.0, 101.0, 140.0, 36.0, 160.0, 15.0, 111.0, 27.0, 116.0, 129.0, 71.0, 147.0, 64.0, 164.0, 231.0, 63.0, 56.0, 26.0, 221.0, 29.0, 43.0, 103.0, 103.0, 69.0, 61.0, 77.0, 122.0, 49.0, 46.0, 66.0, 79.0, 111.0, 47.0, 58.0, 42.0, 51.0, 42.0, 20.0, 24.0, 31.0, 93.0, 39.0, 100.0, 64.0, 69.0, 164.0, 21.0, 108.0, 47.0, 86.0, 27.0, 36.0, 19.0, 63.0, 31.0, 73.0, 151.0, 43.0, 12.0, 41.0, 38.0, 9.0, 94.0, 64.0, 57.0, 63.0, 66.0, 55.0, 57.0, 68.0, 65.0, 60.0, 36.0, 42.0, 25.0, 47.0, 87.0, 114.0, 55.0, 20.0, 25.0, 46.0, 68.0, 71.0, 72.0, 161.0, 40.0, 75.0, 80.0, 72.0, 117.0, 104.0, 93.0, 17.0, 59.0, 36.0, 60.0, 72.0, 28.0, 212.0, 110.0, 102.0, 61.0, 34.0, 19.0, 70.0, 90.0, 48.0, 58.0, 19.0, 78.0, 35.0, 74.0, 60.0, 51.0, 66.0, 66.0, 160.0, 33.0, 59.0, 41.0, 65.0, 63.0, 34.0, 30.0, 45.0, 55.0, 104.0, 14.0, 102.0, 13.0, 27.0, 10.0, 36.0, 36.0, 57.0, 52.0, 50.0, 78.0, 15.0, 54.0, 17.0, 48.0, 56.0, 121.0, 31.0, 15.0, 20.0, 85.0, 48.0, 29.0, 28.0, 66.0, 92.0, 35.0, 62.0, 18.0, 7.0, 9.0, 39.0, 11.0, 55.0, 124.0, 31.0, 54.0, 90.0, 18.0, 15.0, 8.0, 24.0, 182.0, 38.0, 33.0, 21.0, 40.0, 39.0, 50.0, 58.0, 48.0, 91.0, 52.0, 31.0, 40.0, 105.0, 169.0, 48.0, 94.0, 47.0, 108.0, 72.0, 159.0, 174.0, 111.0, 33.0, 79.0, 77.0, 45.0, 71.0, 77.0, 25.0, 25.0, 9.0, 173.0, 109.0, 36.0, 11.0, 47.0, 41.0, 66.0, 82.0, 105.0, 57.0, 126.0, 27.0, 95.0, 63.0, 26.0, 49.0, 66.0, 93.0, 65.0, 114.0, 31.0, 47.0, 101.0, 46.0, 115.0, 91.0, 11.0, 33.0, 66.0, 36.0, 79.0, 34.0, 39.0, 40.0, 43.0, 125.0, 22.0, 58.0, 38.0, 43.0, 64.0, 63.0, 17.0, 25.0, 47.0, 22.0, 21.0, 27.0, 39.0, 55.0, 51.0, 46.0, 50.0, 95.0, 80.0, 25.0, 21.0, 87.0, 64.0, 63.0, 11.0, 30.0, 50.0, 99.0, 221.0, 62.0, 29.0, 25.0, 118.0, 30.0, 69.0, 8.0, 78.0, 120.0, 7.0, 37.0, 208.0, 70.0, 38.0, 40.0, 90.0, 190.0, 124.0, 44.0, 51.0, 97.0, 50.0, 67.0, 44.0, 94.0, 58.0, 109.0, 44.0, 62.0, 56.0, 38.0, 49.0, 254.0, 79.0, 59.0, 20.0, 80.0, 65.0, 59.0, 19.0, 64.0, 8.0, 103.0, 62.0, 88.0, 151.0, 23.0, 54.0, 156.0, 137.0, 84.0, 172.0, 151.0, 158.0, 149.0, 86.0, 55.0, 124.0, 31.0, 61.0, 59.0, 116.0, 53.0, 136.0, 115.0, 85.0, 59.0, 101.0, 91.0, 49.0, 255.0, 91.0, 142.0, 131.0, 208.0, 39.0, 117.0, 182.0, 114.0, 103.0, 160.0, 45.0, 166.0, 181.0, 163.0, 93.0, 31.0, 100.0, 155.0, 103.0, 38.0, 79.0, 80.0, 13.0, 103.0, 56.0, 81.0, 84.0, 192.0, 49.0, 25.0, 123.0, 60.0, 59.0, 98.0, 16.0, 255.0, 65.0, 20.0, 78.0, 36.0, 21.0, 16.0, 152.0, 20.0, 46.0, 112.0, 63.0, 17.0, 63.0, 101.0, 59.0, 105.0, 122.0, 144.0, 27.0, 64.0, 80.0, 67.0, 26.0, 97.0, 110.0, 75.0, 85.0, 7.0, 8.0, 156.0, 135.0, 21.0, 91.0, 135.0, 16.0, 121.0, 75.0, 60.0, 46.0, 64.0, 39.0, 53.0, 94.0, 93.0, 60.0, 77.0, 163.0, 55.0, 49.0, 102.0, 182.0, 96.0, 12.0, 137.0, 20.0, 168.0, 83.0, 104.0, 16.0, 84.0, 81.0, 199.0, 210.0, 202.0, 116.0, 79.0, 94.0, 98.0, 21.0, 118.0, 168.0, 101.0, 142.0, 222.0, 143.0, 177.0, 126.0, 34.0, 27.0, 183.0, 47.0, 194.0, 97.0, 88.0, 98.0, 176.0, 146.0, 216.0, 256.0, 41.0, 30.0, 31.0, 43.0, 71.0, 61.0, 65.0, 131.0, 28.0, 93.0, 56.0, 189.0, 90.0, 182.0, 181.0, 130.0, 155.0, 221.0, 148.0, 70.0, 146.0, 117.0, 157.0, 169.0, 79.0, 171.0, 131.0, 85.0, 165.0, 200.0, 116.0, 6.0, 96.0, 76.0, 84.0, 253.0, 136.0, 24.0, 67.0, 31.0, 67.0, 137.0, 65.0, 191.0, 125.0, 122.0, 96.0, 161.0, 155.0, 174.0, 7.0, 143.0, 150.0, 45.0, 177.0, 91.0, 131.0, 109.0, 144.0, 102.0, 25.0, 56.0, 53.0, 235.0, 33.0, 154.0, 126.0, 105.0, 33.0, 90.0, 46.0, 79.0, 183.0, 92.0, 89.0, 29.0, 54.0, 58.0, 145.0, 48.0, 88.0, 248.0, 43.0, 73.0, 193.0, 195.0, 69.0, 184.0, 77.0, 94.0, 139.0, 204.0, 161.0, 96.0, 111.0, 147.0, 114.0, 220.0, 34.0, 163.0, 115.0, 7.0, 79.0, 131.0, 72.0, 23.0, 52.0, 59.0, 57.0, 151.0, 163.0, 124.0, 14.0, 62.0, 200.0, 44.0, 103.0, 44.0, 9.0, 127.0, 206.0, 111.0, 94.0, 59.0, 63.0, 207.0, 156.0, 48.0, 182.0, 233.0, 140.0, 48.0, 169.0, 231.0, 54.0, 133.0, 198.0, 158.0, 150.0, 118.0, 216.0, 117.0, 107.0, 142.0, 114.0, 122.0, 125.0, 111.0, 59.0, 196.0, 51.0, 101.0, 152.0, 119.0, 124.0, 122.0, 58.0, 141.0, 86.0, 254.0, 70.0, 66.0, 57.0, 62.0, 160.0, 185.0, 106.0, 135.0, 47.0, 108.0, 114.0, 42.0, 217.0, 130.0, 43.0, 153.0, 126.0, 186.0, 167.0, 185.0, 166.0, 49.0, 94.0, 168.0, 167.0, 48.0, 155.0, 151.0, 137.0, 55.0, 190.0, 111.0, 127.0, 111.0, 188.0, 115.0, 159.0, 96.0, 89.0, 132.0, 78.0, 252.0, 142.0, 192.0, 176.0, 93.0, 140.0, 176.0, 192.0, 139.0, 217.0, 77.0, 23.0, 173.0, 150.0, 15.0, 108.0, 32.0, 200.0, 164.0, 224.0, 148.0, 112.0, 78.0, 125.0, 46.0, 63.0, 118.0, 152.0, 110.0, 43.0, 52.0, 229.0, 211.0, 68.0, 148.0, 60.0, 121.0, 90.0, 160.0, 185.0, 62.0, 232.0, 202.0, 16.0, 163.0, 180.0, 116.0, 240.0, 83.0, 106.0, 45.0, 95.0, 165.0, 188.0, 119.0, 228.0, 48.0, 231.0, 109.0, 113.0, 89.0, 180.0, 117.0, 210.0, 146.0, 57.0, 104.0, 23.0, 77.0, 230.0, 28.0, 184.0, 184.0, 54.0, 102.0, 189.0, 87.0, 76.0, 63.0, 90.0, 104.0, 74.0, 43.0, 73.0, 132.0, 133.0, 166.0, 224.0, 105.0, 162.0, 110.0, 138.0, 163.0, 130.0, 91.0, 23.0, 82.0, 68.0, 111.0, 148.0, 95.0, 217.0, 72.0, 91.0, 183.0, 86.0, 89.0, 205.0, 25.0, 176.0, 86.0, 205.0, 93.0, 13.0, 113.0, 88.0, 173.0, 124.0, 137.0, 145.0, 160.0, 109.0, 144.0, 119.0, 193.0, 194.0, 87.0, 175.0, 248.0, 239.0, 247.0, 100.0, 75.0, 121.0, 29.0, 121.0, 195.0, 102.0, 33.0, 210.0, 151.0, 68.0, 45.0, 66.0, 142.0, 133.0, 117.0, 64.0, 222.0, 41.0, 51.0, 81.0, 121.0, 151.0, 201.0, 201.0, 157.0, 174.0, 175.0, 7.0, 98.0, 96.0, 168.0, 181.0, 200.0, 227.0, 127.0, 137.0, 179.0, 68.0, 102.0, 48.0, 87.0, 190.0, 59.0, 59.0, 187.0, 62.0, 104.0, 108.0, 56.0, 147.0, 90.0, 109.0, 102.0, 85.0, 122.0, 158.0, 49.0, 111.0, 170.0, 229.0, 218.0, 15.0, 164.0, 144.0, 245.0, 94.0, 211.0, 185.0, 144.0, 93.0, 191.0, 138.0, 121.0, 52.0, 91.0, 92.0, 185.0, 98.0, 182.0, 110.0, 235.0, 193.0, 54.0, 39.0, 184.0, 101.0, 109.0, 178.0, 119.0, 41.0, 38.0, 115.0, 51.0, 21.0, 95.0, 102.0, 171.0, 202.0, 128.0, 73.0, 127.0, 97.0, 167.0, 56.0, 100.0, 210.0, 35.0, 147.0, 116.0, 133.0, 101.0, 132.0, 99.0, 124.0, 131.0, 32.0, 17.0, 108.0, 69.0, 22.0, 45.0, 83.0, 71.0, 182.0, 32.0, 161.0, 115.0, 79.0, 131.0, 203.0, 216.0, 170.0, 102.0, 251.0, 66.0, 107.0, 36.0, 137.0, 57.0, 145.0, 113.0, 42.0, 181.0, 118.0, 190.0, 195.0, 63.0, 125.0, 189.0, 130.0, 40.0, 151.0, 86.0, 17.0, 140.0, 39.0, 36.0, 78.0, 23.0, 144.0, 102.0, 110.0, 162.0, 52.0, 162.0, 78.0, 165.0, 48.0, 168.0, 149.0, 104.0, 132.0, 146.0, 27.0, 90.0, 120.0, 112.0, 196.0, 186.0, 143.0, 109.0, 114.0, 219.0, 115.0, 61.0, 94.0, 40.0, 175.0, 69.0, 134.0, 134.0, 95.0, 209.0, 153.0, 161.0, 106.0, 35.0, 103.0, 64.0, 122.0, 45.0, 32.0, 86.0, 216.0, 181.0, 69.0, 126.0, 98.0, 183.0, 105.0, 96.0, 69.0, 155.0, 47.0, 57.0, 95.0, 146.0, 115.0, 68.0, 214.0, 47.0, 120.0, 144.0, 40.0, 123.0, 159.0, 186.0, 117.0, 123.0, 48.0, 177.0, 51.0, 126.0, 166.0, 124.0, 166.0, 98.0, 91.0, 222.0, 250.0, 121.0, 206.0, 121.0, 58.0, 68.0, 82.0, 136.0, 13.0, 20.0, 102.0, 127.0, 142.0, 82.0, 110.0, 245.0, 68.0, 43.0, 146.0, 219.0, 99.0, 97.0, 102.0, 89.0, 174.0, 98.0, 96.0, 148.0, 40.0, 56.0, 131.0, 65.0, 215.0, 133.0, 247.0, 228.0, 50.0, 130.0, 138.0, 130.0, 145.0, 58.0, 131.0, 136.0, 133.0, 177.0, 104.0, 83.0, 80.0, 48.0, 125.0, 78.0, 43.0, 92.0, 164.0, 117.0, 63.0, 56.0, 93.0, 135.0, 40.0, 59.0, 109.0, 59.0, 149.0, 140.0, 101.0, 37.0, 145.0, 83.0, 196.0, 93.0, 68.0, 4.0, 224.0, 91.0, 15.0, 59.0, 112.0, 188.0, 146.0, 171.0, 61.0, 114.0, 207.0, 82.0, 83.0, 71.0, 159.0, 111.0, 111.0, 149.0, 45.0, 159.0, 59.0, 106.0, 99.0, 132.0, 143.0, 98.0, 39.0, 201.0, 123.0, 24.0, 127.0, 39.0, 169.0, 58.0, 250.0, 21.0, 43.0, 99.0, 104.0, 113.0, 66.0, 126.0, 84.0, 95.0, 74.0, 194.0, 129.0, 151.0, 60.0, 147.0, 178.0, 90.0, 67.0, 184.0, 81.0, 136.0, 36.0, 79.0, 64.0, 145.0, 101.0, 99.0, 94.0, 81.0, 93.0, 111.0, 74.0, 86.0, 244.0, 31.0, 42.0, 58.0, 90.0, 22.0, 108.0, 16.0, 55.0, 118.0, 119.0, 61.0, 156.0, 84.0, 43.0, 36.0, 63.0, 92.0, 62.0, 149.0, 150.0, 156.0, 116.0, 154.0, 141.0, 253.0, 113.0, 87.0, 29.0, 129.0, 119.0, 90.0, 163.0, 76.0, 88.0, 122.0, 44.0, 24.0, 141.0, 125.0, 164.0, 112.0, 112.0, 118.0, 52.0, 40.0, 53.0, 43.0, 111.0, 229.0, 116.0, 54.0, 81.0, 82.0, 69.0, 36.0, 52.0, 67.0, 48.0, 47.0, 71.0, 75.0, 87.0, 63.0, 63.0, 64.0, 56.0, 27.0, 88.0, 68.0, 249.0, 76.0, 37.0, 138.0, 102.0, 64.0, 76.0, 185.0, 78.0, 76.0, 67.0, 72.0, 110.0, 46.0, 45.0, 136.0, 136.0, 105.0, 69.0, 105.0, 92.0, 86.0, 96.0, 51.0, 125.0, 75.0, 144.0, 47.0, 103.0, 155.0, 65.0, 189.0, 22.0, 78.0, 78.0, 204.0, 21.0, 68.0, 71.0, 85.0, 144.0, 77.0, 190.0, 72.0, 19.0, 20.0, 11.0, 64.0, 20.0, 33.0, 40.0, 27.0, 25.0, 213.0, 169.0, 70.0, 35.0, 49.0, 168.0, 123.0, 218.0, 56.0, 14.0, 23.0, 39.0, 85.0, 164.0, 76.0, 101.0, 81.0, 104.0, 53.0, 79.0, 58.0, 86.0, 136.0, 168.0, 41.0, 186.0, 15.0, 123.0, 63.0, 69.0, 183.0, 92.0, 90.0, 113.0, 58.0, 66.0, 73.0, 36.0, 97.0, 33.0, 78.0, 121.0, 31.0, 92.0, 15.0, 84.0, 174.0, 191.0, 33.0, 77.0, 117.0, 165.0, 102.0, 128.0, 68.0, 124.0, 167.0, 213.0, 78.0, 146.0, 66.0, 61.0, 91.0, 126.0, 14.0, 21.0, 18.0, 29.0, 158.0, 149.0, 211.0, 43.0, 160.0, 113.0, 160.0, 65.0, 18.0, 114.0, 13.0, 146.0, 76.0, 86.0, 96.0, 82.0, 88.0, 83.0, 32.0, 75.0, 183.0, 133.0, 67.0, 80.0, 171.0, 59.0, 53.0, 86.0, 9.0, 90.0, 68.0, 108.0, 143.0, 35.0, 99.0, 227.0, 143.0, 19.0, 103.0, 64.0, 123.0, 119.0, 151.0, 75.0, 145.0, 136.0, 212.0, 79.0, 120.0, 237.0, 86.0, 90.0, 73.0, 108.0, 100.0, 249.0, 149.0, 59.0, 91.0, 59.0, 89.0, 153.0, 95.0, 214.0, 112.0, 69.0, 96.0, 109.0, 124.0, 67.0, 112.0, 255.0, 88.0, 86.0, 183.0, 42.0, 216.0, 189.0, 105.0, 13.0, 93.0, 127.0, 117.0, 86.0, 65.0, 233.0, 47.0, 44.0, 80.0, 43.0, 103.0, 124.0, 240.0, 157.0, 99.0, 51.0, 235.0, 200.0, 68.0, 179.0, 186.0, 74.0, 16.0, 52.0, 138.0, 241.0, 189.0, 107.0, 79.0, 111.0, 160.0, 63.0, 154.0, 66.0, 63.0, 92.0, 125.0, 137.0, 99.0, 43.0, 29.0, 123.0, 129.0, 106.0, 71.0, 68.0, 31.0, 25.0, 65.0, 37.0, 62.0, 13.0, 149.0, 80.0, 40.0, 63.0, 24.0, 59.0, 20.0, 44.0, 65.0, 116.0, 97.0, 195.0, 54.0, 34.0, 40.0, 62.0, 156.0, 159.0, 91.0, 188.0, 65.0, 125.0, 55.0, 126.0, 162.0, 82.0, 160.0, 55.0, 60.0, 60.0, 251.0, 39.0, 73.0, 74.0, 116.0, 120.0, 122.0, 106.0, 159.0, 70.0, 68.0, 92.0, 231.0, 102.0, 119.0, 209.0, 237.0, 41.0, 57.0, 229.0, 143.0, 149.0, 98.0, 141.0, 40.0, 29.0, 136.0, 18.0, 231.0, 101.0, 189.0, 53.0, 79.0, 70.0, 11.0, 50.0, 87.0, 132.0, 75.0, 69.0, 50.0, 65.0, 101.0, 133.0, 24.0, 18.0, 65.0, 14.0, 131.0, 32.0, 180.0, 43.0, 202.0, 35.0, 42.0, 61.0, 134.0, 54.0, 163.0, 74.0, 68.0, 155.0, 163.0, 92.0, 61.0, 67.0, 60.0, 47.0, 47.0, 69.0, 52.0, 20.0, 108.0, 108.0, 112.0, 77.0, 132.0, 230.0, 95.0, 87.0, 250.0, 82.0, 72.0, 59.0, 82.0, 138.0, 69.0, 145.0, 31.0, 85.0, 79.0, 104.0, 96.0, 45.0, 28.0, 87.0, 117.0, 107.0, 91.0, 30.0, 35.0, 45.0, 38.0, 119.0, 39.0, 108.0, 228.0, 177.0, 71.0, 102.0, 113.0, 74.0, 19.0, 100.0, 104.0, 75.0, 124.0, 153.0, 77.0, 127.0, 9.0, 157.0, 78.0, 60.0, 116.0, 240.0, 105.0, 144.0, 43.0, 63.0, 42.0, 197.0, 70.0, 162.0, 58.0, 48.0, 44.0, 32.0, 173.0, 32.0, 55.0, 178.0, 134.0, 77.0, 71.0, 68.0, 103.0, 114.0, 106.0, 23.0, 94.0, 201.0, 53.0, 180.0, 35.0, 121.0, 43.0, 65.0, 130.0, 85.0, 62.0, 42.0, 66.0, 156.0, 135.0, 135.0, 36.0, 54.0, 164.0, 41.0, 77.0, 78.0, 166.0, 145.0, 118.0, 13.0, 39.0, 77.0, 100.0, 88.0, 151.0, 110.0, 25.0, 226.0, 16.0, 67.0, 144.0, 141.0, 71.0, 111.0, 74.0, 123.0, 65.0, 92.0, 71.0, 71.0, 67.0, 54.0, 92.0, 89.0, 134.0, 106.0, 27.0, 87.0, 124.0, 94.0, 80.0, 67.0, 163.0, 30.0, 96.0, 165.0, 96.0, 57.0, 109.0, 111.0, 170.0, 74.0, 23.0, 81.0, 54.0, 71.0, 210.0, 66.0, 159.0, 144.0, 64.0, 13.0, 73.0, 149.0, 178.0, 214.0, 84.0, 69.0, 27.0, 10.0, 91.0, 35.0, 75.0, 116.0, 21.0, 119.0, 34.0, 56.0, 95.0, 74.0, 144.0, 75.0, 91.0, 90.0, 78.0, 40.0, 61.0, 120.0, 127.0, 185.0, 41.0, 235.0, 78.0, 119.0, 89.0, 148.0, 200.0, 81.0, 96.0, 72.0, 80.0, 101.0, 97.0, 18.0, 91.0, 99.0, 141.0, 223.0, 160.0, 53.0, 68.0, 181.0, 170.0, 126.0, 172.0, 79.0, 108.0, 106.0, 238.0, 91.0, 45.0, 20.0, 118.0, 97.0, 114.0, 71.0, 18.0, 129.0, 103.0, 222.0, 115.0, 198.0, 63.0, 81.0, 157.0, 237.0, 89.0, 75.0, 44.0, 62.0, 233.0, 134.0, 103.0, 117.0, 97.0, 103.0, 85.0, 219.0, 209.0, 84.0, 124.0, 33.0, 66.0, 96.0, 80.0, 119.0, 186.0, 106.0, 28.0, 40.0, 105.0, 116.0, 211.0, 37.0, 43.0, 124.0, 96.0, 105.0, 151.0, 105.0, 53.0, 163.0, 81.0, 123.0, 53.0, 122.0, 70.0, 68.0, 114.0, 84.0, 90.0, 99.0, 31.0, 18.0, 84.0, 83.0, 152.0, 177.0, 170.0, 54.0, 111.0, 142.0, 80.0, 233.0, 173.0, 81.0, 79.0, 110.0, 96.0, 108.0, 74.0, 89.0, 68.0, 28.0, 18.0, 45.0, 120.0, 178.0, 62.0, 29.0, 79.0, 50.0, 74.0, 62.0, 106.0, 52.0, 44.0, 186.0, 105.0, 202.0, 109.0, 146.0, 103.0, 51.0, 111.0, 87.0, 143.0, 58.0, 211.0, 159.0, 107.0, 109.0, 114.0, 200.0, 59.0, 234.0, 77.0, 126.0, 125.0, 152.0, 153.0, 68.0, 25.0, 236.0, 169.0, 121.0, 90.0, 58.0, 100.0, 129.0, 33.0, 99.0, 122.0, 23.0, 202.0, 61.0, 83.0, 145.0, 94.0, 53.0, 222.0, 176.0, 202.0, 128.0, 203.0, 120.0, 94.0, 247.0, 204.0, 143.0, 126.0, 212.0, 61.0, 33.0, 114.0, 150.0, 87.0, 62.0, 105.0, 176.0, 63.0, 77.0, 100.0, 57.0, 67.0, 202.0, 161.0, 223.0, 57.0, 34.0, 199.0, 196.0, 84.0, 95.0, 135.0, 50.0, 164.0, 131.0, 191.0, 176.0, 90.0, 33.0, 110.0, 37.0, 87.0, 243.0, 170.0, 79.0, 154.0, 44.0, 124.0, 87.0, 56.0, 93.0, 108.0, 127.0, 109.0, 117.0, 168.0, 74.0, 43.0, 89.0, 59.0, 121.0, 41.0, 158.0, 92.0, 23.0, 72.0, 93.0, 98.0, 93.0, 91.0, 56.0, 171.0, 85.0, 156.0, 70.0, 63.0, 73.0, 106.0, 62.0, 219.0, 52.0, 93.0, 35.0, 32.0, 77.0, 237.0, 135.0, 106.0, 27.0, 67.0, 134.0, 79.0, 172.0, 65.0, 209.0, 157.0, 72.0, 91.0, 73.0, 63.0, 105.0, 52.0, 92.0, 53.0, 81.0, 73.0, 65.0, 80.0, 139.0, 105.0, 64.0, 98.0, 132.0, 89.0, 162.0, 57.0, 136.0, 125.0, 159.0, 83.0, 205.0, 185.0, 68.0, 118.0, 213.0, 76.0, 25.0, 82.0, 85.0, 80.0, 44.0, 142.0, 21.0, 60.0, 114.0, 66.0, 68.0, 172.0, 119.0, 166.0, 88.0, 114.0, 53.0, 36.0, 224.0, 96.0, 86.0, 67.0, 78.0, 57.0, 73.0, 213.0, 23.0, 243.0, 168.0, 133.0, 115.0, 144.0, 75.0, 85.0, 216.0, 133.0, 170.0, 109.0, 168.0, 8.0, 155.0, 70.0, 105.0, 100.0, 175.0, 169.0, 56.0, 100.0, 54.0, 107.0, 92.0, 195.0, 25.0, 69.0, 42.0, 50.0, 65.0, 99.0, 4.0, 42.0, 60.0, 45.0, 70.0, 86.0, 158.0, 17.0, 57.0, 152.0, 141.0, 155.0, 35.0, 51.0, 46.0, 22.0, 59.0, 55.0, 77.0, 13.0, 82.0, 199.0, 68.0, 90.0, 93.0, 134.0, 102.0, 112.0, 87.0, 74.0, 112.0, 70.0, 68.0, 153.0, 119.0, 224.0, 92.0, 51.0, 78.0, 198.0, 62.0, 198.0, 126.0, 58.0, 116.0, 71.0, 108.0, 37.0, 71.0, 92.0, 207.0, 77.0, 115.0, 113.0, 190.0, 48.0, 29.0, 58.0, 133.0, 99.0, 58.0, 128.0, 135.0, 53.0, 141.0, 22.0, 90.0, 36.0, 46.0, 185.0, 98.0, 73.0, 40.0, 53.0, 111.0, 73.0, 92.0, 72.0, 167.0, 66.0, 216.0, 148.0, 240.0, 102.0, 37.0, 59.0, 53.0, 165.0, 97.0, 127.0, 133.0, 15.0, 247.0, 66.0, 96.0, 118.0, 119.0, 13.0, 155.0, 38.0, 65.0, 83.0, 151.0, 65.0, 8.0, 51.0, 26.0, 52.0, 202.0, 189.0, 140.0, 16.0, 54.0, 119.0, 126.0, 45.0, 73.0, 94.0, 129.0, 129.0, 87.0, 86.0, 77.0, 151.0, 112.0, 225.0, 102.0, 70.0, 75.0, 75.0, 118.0, 111.0, 93.0, 232.0, 54.0, 65.0, 116.0, 72.0, 101.0, 248.0, 112.0, 179.0, 86.0, 198.0, 45.0, 51.0, 77.0, 43.0, 69.0, 132.0, 18.0, 57.0, 130.0, 239.0, 139.0, 152.0, 44.0, 81.0, 93.0, 68.0, 115.0, 30.0, 166.0, 91.0, 12.0, 103.0, 96.0, 68.0, 95.0, 71.0, 67.0, 86.0, 62.0, 93.0, 194.0, 158.0, 103.0, 47.0, 10.0, 57.0, 87.0, 76.0, 92.0, 23.0, 23.0, 195.0, 176.0, 136.0, 186.0, 144.0, 218.0, 46.0, 145.0, 204.0, 82.0, 234.0, 117.0, 169.0, 69.0, 158.0, 102.0, 135.0, 84.0, 174.0, 59.0, 141.0, 153.0, 122.0, 243.0, 47.0, 92.0, 179.0, 94.0, 229.0, 132.0, 174.0, 196.0, 114.0, 146.0, 149.0, 119.0, 173.0, 153.0, 40.0, 106.0, 163.0, 9.0, 168.0, 170.0, 89.0, 70.0, 97.0, 112.0, 161.0, 195.0, 34.0, 149.0, 76.0, 71.0, 48.0, 6.0, 89.0, 99.0, 80.0, 81.0, 118.0, 136.0, 172.0, 142.0, 187.0, 37.0, 187.0, 181.0, 60.0, 169.0, 56.0, 112.0, 43.0, 194.0, 36.0, 61.0, 145.0, 100.0, 88.0, 56.0, 168.0, 104.0, 130.0, 89.0, 72.0, 44.0, 9.0, 179.0, 73.0, 120.0, 31.0, 75.0, 85.0, 123.0, 163.0, 85.0, 237.0, 135.0, 47.0, 99.0, 154.0, 42.0, 208.0, 215.0, 5.0, 39.0, 116.0, 61.0, 103.0, 194.0, 24.0, 191.0, 178.0, 55.0, 85.0, 256.0, 118.0, 104.0, 147.0, 74.0, 118.0, 67.0, 38.0, 179.0, 88.0, 174.0, 115.0, 161.0, 222.0, 168.0, 148.0, 40.0, 72.0, 223.0, 83.0, 218.0, 81.0, 176.0, 120.0, 176.0, 75.0, 46.0, 40.0, 60.0, 119.0, 150.0, 166.0, 165.0, 213.0, 147.0, 172.0, 138.0, 39.0, 41.0, 57.0, 64.0, 242.0, 64.0, 177.0, 49.0, 171.0, 75.0, 137.0, 172.0, 136.0, 121.0, 106.0, 25.0, 226.0, 117.0, 89.0, 23.0, 62.0, 12.0, 199.0, 218.0, 118.0, 103.0, 146.0, 48.0, 80.0, 164.0, 72.0, 17.0, 74.0, 54.0, 125.0, 191.0, 85.0, 119.0, 113.0, 96.0, 79.0, 100.0, 58.0, 48.0, 108.0, 79.0, 97.0, 166.0, 86.0, 75.0, 30.0, 101.0, 52.0, 168.0, 67.0, 44.0, 136.0, 114.0, 93.0, 111.0, 111.0, 43.0, 229.0, 131.0, 143.0, 50.0, 237.0, 91.0, 48.0, 57.0, 142.0, 43.0, 146.0, 34.0, 61.0, 149.0, 44.0, 9.0, 83.0, 54.0, 42.0, 98.0, 58.0, 42.0, 246.0, 26.0, 220.0, 84.0, 87.0, 49.0, 182.0, 116.0, 157.0, 33.0, 238.0, 9.0, 158.0, 114.0, 62.0, 172.0, 81.0, 167.0, 8.0, 89.0, 108.0, 46.0, 74.0, 80.0, 243.0, 105.0, 127.0, 77.0, 198.0, 124.0, 138.0, 44.0, 177.0, 123.0, 100.0, 35.0, 58.0, 178.0, 50.0, 89.0, 80.0, 59.0, 94.0, 64.0, 214.0, 71.0, 117.0, 55.0, 210.0, 89.0, 160.0, 14.0, 170.0, 186.0, 151.0, 48.0, 102.0, 65.0, 154.0, 100.0, 118.0, 74.0, 101.0, 111.0, 94.0, 156.0, 57.0, 40.0, 81.0, 100.0, 159.0, 50.0, 44.0, 241.0, 20.0, 83.0, 125.0, 190.0, 118.0, 208.0, 107.0, 36.0, 184.0, 12.0, 133.0, 39.0, 240.0, 74.0, 141.0, 145.0, 209.0, 161.0, 63.0, 254.0, 95.0, 113.0, 48.0, 80.0, 79.0, 38.0, 165.0, 84.0, 250.0, 156.0, 68.0, 89.0, 173.0, 202.0, 79.0, 240.0, 53.0, 88.0, 88.0, 31.0, 109.0, 141.0, 121.0, 22.0, 207.0, 35.0, 96.0, 119.0, 104.0, 168.0, 180.0, 19.0, 155.0, 212.0, 213.0, 207.0, 107.0, 166.0, 131.0, 220.0, 102.0, 146.0, 55.0, 87.0, 57.0, 147.0, 150.0, 208.0, 105.0, 113.0, 47.0, 165.0, 202.0, 96.0, 227.0, 30.0, 219.0, 163.0, 131.0, 83.0, 109.0, 70.0, 70.0, 51.0, 49.0, 133.0, 41.0, 254.0, 74.0, 191.0, 77.0, 39.0, 68.0, 153.0, 46.0, 141.0, 111.0, 172.0, 55.0, 87.0, 135.0, 254.0, 13.0, 241.0, 127.0, 81.0, 38.0, 57.0, 66.0, 89.0, 213.0, 37.0, 48.0, 231.0, 51.0, 108.0, 132.0, 95.0, 48.0, 52.0, 213.0, 57.0, 51.0, 84.0, 133.0, 177.0, 113.0, 49.0, 61.0, 68.0, 35.0, 34.0, 117.0, 183.0, 190.0, 74.0, 26.0, 65.0, 185.0, 133.0, 158.0, 104.0, 131.0, 20.0, 119.0, 108.0, 161.0, 98.0, 121.0, 118.0, 47.0, 19.0, 184.0, 171.0, 159.0, 191.0, 19.0, 162.0, 97.0, 132.0, 190.0, 177.0, 139.0, 159.0, 162.0, 231.0, 49.0, 193.0, 67.0, 98.0, 175.0, 13.0, 180.0, 200.0, 56.0, 36.0, 91.0, 26.0, 46.0, 207.0, 197.0, 178.0, 59.0, 81.0, 73.0, 181.0, 72.0, 88.0, 51.0, 14.0, 77.0, 16.0, 83.0, 183.0, 74.0, 41.0, 109.0, 26.0, 87.0, 118.0, 187.0, 90.0, 178.0, 53.0, 81.0, 125.0, 76.0, 63.0, 60.0, 160.0, 61.0, 166.0, 212.0, 155.0, 53.0, 65.0, 35.0, 83.0, 237.0, 30.0, 57.0, 24.0, 123.0, 32.0, 110.0, 77.0, 52.0, 67.0, 73.0, 65.0, 68.0, 44.0, 158.0, 76.0, 24.0, 174.0, 202.0, 86.0, 62.0, 64.0, 94.0, 61.0, 113.0, 203.0, 233.0, 79.0, 201.0, 248.0, 166.0, 98.0, 8.0, 234.0, 159.0, 131.0, 99.0, 108.0, 124.0, 53.0, 105.0, 110.0, 124.0, 88.0, 171.0, 127.0, 129.0, 42.0, 76.0, 211.0, 57.0, 177.0, 97.0, 25.0, 149.0, 105.0, 178.0, 185.0, 127.0, 52.0, 254.0, 133.0, 246.0, 74.0, 123.0, 178.0, 93.0, 179.0, 190.0, 44.0, 146.0, 153.0, 99.0, 9.0, 25.0, 216.0, 143.0, 219.0, 57.0, 48.0, 160.0, 135.0, 120.0, 256.0, 79.0, 46.0, 93.0, 38.0, 125.0, 108.0, 31.0, 61.0, 144.0, 55.0, 16.0, 88.0, 54.0, 44.0, 138.0, 37.0, 42.0, 96.0, 32.0, 130.0, 31.0, 53.0, 35.0, 147.0, 152.0, 29.0, 37.0, 58.0, 80.0, 83.0, 78.0, 40.0, 186.0, 36.0, 146.0, 71.0, 72.0, 50.0, 136.0, 138.0, 101.0, 115.0, 63.0, 70.0, 72.0, 92.0, 71.0, 104.0, 10.0, 178.0, 189.0, 145.0, 164.0, 70.0, 84.0, 71.0, 60.0, 93.0, 207.0, 126.0, 141.0, 71.0, 93.0, 41.0, 78.0, 65.0, 146.0, 102.0, 55.0, 25.0, 41.0, 211.0, 140.0, 202.0, 129.0, 115.0, 152.0, 66.0, 102.0, 124.0, 115.0, 72.0, 57.0, 31.0, 46.0, 71.0, 43.0, 115.0, 72.0, 71.0, 185.0, 45.0, 64.0, 88.0, 42.0, 79.0, 238.0, 87.0, 87.0, 109.0, 67.0, 52.0, 87.0, 123.0, 36.0, 62.0, 51.0, 93.0, 125.0, 149.0, 85.0, 226.0, 217.0, 20.0, 157.0, 228.0, 225.0, 94.0, 72.0, 35.0, 95.0, 36.0, 115.0, 110.0, 95.0, 202.0, 52.0, 159.0, 215.0, 80.0, 115.0, 85.0, 93.0, 35.0, 102.0, 53.0, 109.0, 96.0, 185.0, 76.0, 120.0, 16.0, 94.0, 78.0, 52.0, 103.0, 104.0, 101.0, 66.0, 159.0, 54.0, 24.0, 53.0, 84.0, 53.0, 179.0, 67.0, 78.0, 74.0, 129.0, 39.0, 108.0, 8.0, 85.0, 55.0, 130.0, 29.0, 66.0, 44.0, 116.0, 78.0, 115.0, 103.0, 24.0, 93.0, 29.0, 82.0, 111.0, 165.0, 82.0, 69.0, 85.0, 105.0, 34.0, 57.0, 120.0, 45.0, 12.0, 164.0, 85.0, 51.0, 84.0, 46.0, 112.0, 45.0, 120.0, 62.0, 66.0, 161.0, 193.0, 83.0, 126.0, 46.0, 36.0, 100.0, 135.0, 127.0, 49.0, 65.0, 248.0, 154.0, 123.0, 165.0, 51.0, 78.0, 56.0, 163.0, 117.0, 62.0, 133.0, 32.0, 100.0, 153.0, 100.0, 29.0, 172.0, 29.0, 165.0, 62.0, 99.0, 108.0, 154.0, 145.0, 54.0, 236.0, 52.0, 255.0, 70.0, 46.0, 236.0, 140.0, 67.0, 251.0, 129.0, 54.0, 23.0, 108.0, 128.0, 54.0, 34.0, 117.0, 156.0, 130.0, 119.0, 175.0, 19.0, 144.0, 48.0, 124.0, 78.0, 179.0, 81.0, 99.0, 227.0, 109.0, 94.0, 79.0, 128.0, 43.0, 144.0, 118.0, 112.0, 133.0, 138.0, 189.0, 118.0, 66.0, 94.0, 62.0, 47.0, 132.0, 123.0, 182.0, 70.0, 72.0, 88.0, 121.0, 170.0, 171.0, 24.0, 213.0, 130.0, 75.0, 88.0, 38.0, 158.0, 197.0, 110.0, 95.0, 123.0, 85.0, 182.0, 186.0, 123.0, 119.0, 80.0, 183.0, 59.0, 136.0, 115.0, 85.0, 167.0, 81.0, 123.0, 125.0, 105.0, 250.0, 114.0, 159.0, 211.0, 103.0, 112.0, 84.0, 93.0, 181.0, 118.0, 124.0, 188.0, 32.0, 42.0, 64.0, 58.0, 57.0, 104.0, 68.0, 78.0, 78.0, 99.0, 40.0, 22.0, 93.0, 133.0, 88.0, 108.0, 86.0, 61.0, 162.0, 143.0, 95.0, 65.0, 145.0, 91.0, 72.0, 93.0, 52.0, 81.0, 37.0, 133.0, 44.0, 238.0, 170.0, 77.0, 131.0, 11.0, 124.0, 143.0, 95.0, 25.0, 120.0, 223.0, 107.0, 86.0, 77.0, 173.0, 247.0, 51.0, 120.0, 124.0, 98.0, 124.0, 33.0, 108.0, 60.0, 174.0, 44.0, 92.0, 122.0, 37.0, 213.0, 92.0, 115.0, 127.0, 46.0, 181.0, 80.0, 67.0, 78.0, 110.0, 81.0, 121.0, 234.0, 145.0, 29.0, 56.0, 191.0, 88.0, 74.0, 89.0, 136.0, 57.0, 232.0, 85.0, 160.0, 20.0, 87.0, 157.0, 142.0, 92.0, 83.0, 107.0, 119.0, 55.0, 199.0, 143.0, 85.0, 105.0, 162.0, 178.0, 136.0, 23.0, 105.0, 108.0, 195.0, 59.0, 173.0, 91.0, 103.0, 48.0, 72.0, 17.0, 20.0, 76.0, 10.0, 114.0, 31.0, 16.0, 102.0, 140.0, 98.0, 17.0, 22.0, 223.0, 74.0, 83.0, 124.0, 145.0, 81.0, 57.0, 184.0, 184.0, 157.0, 132.0, 56.0, 222.0, 90.0, 143.0, 106.0, 56.0, 24.0, 66.0, 46.0, 62.0, 92.0, 100.0, 117.0, 23.0, 201.0, 100.0, 77.0, 98.0, 85.0, 87.0, 48.0, 46.0, 108.0, 116.0, 86.0, 79.0, 33.0, 89.0, 6.0, 109.0, 129.0, 145.0, 89.0, 28.0, 80.0, 69.0, 122.0, 107.0, 113.0, 71.0, 37.0, 80.0, 170.0, 51.0, 62.0, 40.0, 35.0, 217.0, 79.0, 169.0, 61.0, 157.0, 56.0, 132.0, 30.0, 234.0, 74.0, 109.0, 77.0, 123.0, 62.0, 97.0, 130.0, 180.0, 141.0, 153.0, 82.0, 62.0, 206.0, 101.0, 90.0, 54.0, 64.0, 242.0, 133.0, 88.0, 129.0, 36.0, 140.0, 127.0, 55.0, 98.0, 147.0, 28.0, 203.0, 49.0, 140.0, 66.0, 151.0, 204.0, 82.0, 144.0, 17.0, 76.0, 118.0, 134.0, 23.0, 241.0, 138.0, 119.0, 154.0, 47.0, 152.0, 235.0, 49.0, 40.0, 84.0, 54.0, 133.0, 82.0, 82.0, 147.0, 133.0, 228.0, 55.0, 98.0, 166.0, 67.0, 88.0, 76.0, 30.0, 95.0, 75.0, 107.0, 182.0, 149.0, 189.0, 68.0, 176.0, 125.0, 112.0, 52.0, 73.0, 171.0, 138.0, 26.0, 33.0, 159.0, 143.0, 100.0, 152.0, 150.0, 51.0, 43.0, 134.0, 88.0, 36.0, 72.0, 23.0, 137.0, 28.0, 72.0, 73.0, 73.0, 98.0, 96.0, 138.0, 167.0, 67.0, 185.0, 37.0, 126.0, 102.0, 233.0, 45.0, 91.0, 132.0, 150.0, 60.0, 68.0, 80.0, 24.0, 85.0, 81.0, 89.0, 52.0, 80.0, 217.0, 81.0, 41.0, 156.0, 124.0, 48.0, 110.0, 65.0, 133.0, 47.0, 151.0, 175.0, 87.0, 41.0, 64.0, 80.0, 53.0, 34.0, 152.0, 79.0, 53.0, 185.0, 151.0, 155.0, 75.0, 80.0, 122.0, 84.0, 153.0, 98.0, 111.0, 126.0, 107.0, 210.0, 75.0, 69.0, 236.0, 129.0, 55.0, 191.0, 176.0, 197.0, 117.0, 97.0, 174.0, 111.0, 88.0, 78.0, 75.0, 76.0, 188.0, 135.0, 26.0, 177.0, 202.0, 82.0, 154.0, 66.0, 96.0, 103.0, 80.0, 37.0, 143.0, 114.0, 161.0, 121.0, 207.0, 51.0, 47.0, 54.0, 161.0, 139.0, 136.0, 106.0, 81.0, 162.0, 50.0, 193.0, 118.0, 177.0, 116.0, 224.0, 31.0, 223.0, 180.0, 75.0, 37.0, 214.0, 56.0, 239.0, 44.0, 50.0, 144.0, 79.0, 91.0, 4.0, 86.0, 107.0, 142.0, 31.0, 93.0, 97.0, 105.0, 37.0, 169.0, 60.0, 89.0, 114.0, 116.0, 57.0, 83.0, 57.0, 100.0, 8.0, 130.0, 201.0, 125.0, 176.0, 244.0, 128.0, 108.0, 57.0, 150.0, 147.0, 199.0, 102.0, 39.0, 221.0, 106.0, 46.0, 122.0, 142.0, 171.0, 79.0, 168.0, 114.0, 53.0, 151.0, 200.0, 61.0, 123.0, 105.0, 73.0, 75.0, 66.0, 51.0, 110.0, 49.0, 224.0, 132.0, 83.0, 173.0, 26.0, 97.0, 170.0, 94.0, 168.0, 109.0, 181.0, 149.0, 94.0, 207.0, 69.0, 134.0, 142.0, 58.0, 206.0, 45.0, 183.0, 134.0, 19.0, 15.0, 165.0, 85.0, 199.0, 82.0, 29.0, 180.0, 70.0, 107.0, 68.0, 198.0, 205.0, 74.0, 127.0, 133.0, 163.0, 45.0, 78.0, 78.0, 48.0, 86.0, 94.0, 134.0, 52.0, 29.0, 220.0, 133.0, 45.0, 186.0, 109.0, 185.0, 52.0, 124.0, 129.0, 125.0, 68.0, 153.0, 56.0, 76.0, 200.0, 128.0, 103.0, 198.0, 144.0, 80.0, 243.0, 140.0, 125.0, 129.0, 46.0, 17.0, 143.0, 8.0, 44.0, 8.0, 24.0, 55.0, 248.0, 82.0, 204.0, 205.0, 80.0, 97.0, 184.0, 141.0, 177.0, 76.0, 16.0, 116.0, 137.0, 173.0, 72.0, 84.0, 202.0, 97.0, 49.0, 245.0, 125.0, 62.0, 146.0, 161.0, 204.0, 52.0, 208.0, 249.0, 51.0, 52.0, 98.0, 15.0, 54.0, 171.0, 169.0, 38.0, 209.0, 110.0, 121.0, 184.0, 125.0, 48.0, 59.0, 110.0, 240.0, 118.0, 138.0, 31.0, 207.0, 50.0, 131.0, 132.0, 74.0, 164.0, 32.0, 61.0, 29.0, 127.0, 182.0, 40.0, 93.0, 51.0, 225.0, 199.0, 136.0, 87.0, 129.0, 133.0, 46.0, 95.0, 193.0, 114.0, 47.0, 79.0, 131.0, 116.0, 211.0, 163.0, 10.0, 107.0, 116.0, 86.0, 66.0, 227.0, 123.0, 89.0, 34.0, 54.0, 89.0, 10.0, 8.0, 49.0, 125.0, 11.0, 48.0, 88.0, 13.0, 145.0, 12.0, 194.0, 72.0, 12.0, 228.0, 107.0, 112.0, 206.0, 104.0, 115.0, 149.0, 47.0, 108.0, 44.0, 128.0, 181.0, 177.0, 25.0, 219.0, 100.0, 107.0, 77.0, 243.0, 71.0, 222.0, 35.0, 101.0, 121.0, 40.0, 84.0, 158.0, 143.0, 37.0, 79.0, 57.0, 189.0, 62.0, 179.0, 235.0, 152.0, 41.0, 128.0, 205.0, 165.0, 123.0, 136.0, 124.0, 111.0, 75.0, 164.0, 84.0, 75.0, 18.0, 194.0, 61.0, 152.0, 77.0, 34.0, 130.0, 76.0, 149.0, 121.0, 212.0, 35.0, 69.0, 33.0, 118.0, 125.0, 170.0, 223.0, 52.0, 206.0, 144.0, 74.0, 87.0, 98.0, 118.0, 99.0, 40.0, 11.0, 23.0, 162.0, 50.0, 64.0, 95.0, 182.0, 69.0, 124.0, 64.0, 130.0, 22.0, 183.0, 128.0, 80.0, 104.0, 182.0, 97.0, 137.0, 138.0, 196.0, 210.0, 157.0, 38.0, 58.0, 39.0, 232.0, 93.0, 197.0, 126.0, 241.0, 179.0, 61.0, 53.0, 88.0, 94.0, 69.0, 162.0, 91.0, 37.0, 77.0, 140.0, 143.0, 150.0, 40.0, 61.0, 50.0, 60.0, 91.0, 138.0, 215.0, 190.0, 128.0, 90.0, 75.0, 95.0, 81.0, 119.0, 98.0, 131.0, 68.0, 195.0, 99.0, 88.0, 111.0, 154.0, 111.0, 59.0, 67.0, 40.0, 38.0, 197.0, 41.0, 141.0, 205.0, 55.0, 49.0, 123.0, 137.0, 30.0, 68.0, 66.0, 81.0, 154.0, 145.0, 132.0, 66.0, 109.0, 169.0, 111.0, 167.0, 20.0, 198.0, 156.0, 78.0, 231.0, 190.0, 158.0, 148.0, 46.0, 99.0, 13.0, 53.0, 80.0, 95.0, 60.0, 79.0, 105.0, 190.0, 75.0, 71.0, 111.0, 104.0, 137.0, 34.0, 65.0, 201.0, 59.0, 101.0, 55.0, 21.0, 90.0, 133.0, 49.0, 76.0, 53.0, 42.0, 40.0, 178.0, 18.0, 174.0, 191.0, 41.0, 46.0, 198.0, 60.0, 114.0, 128.0, 111.0, 115.0, 84.0, 119.0, 72.0, 64.0, 37.0, 166.0, 116.0, 143.0, 115.0, 78.0, 108.0, 88.0, 229.0, 142.0, 160.0, 28.0, 35.0, 252.0, 70.0, 84.0, 195.0, 72.0, 189.0, 29.0, 33.0, 192.0, 113.0, 99.0, 45.0, 38.0, 44.0, 55.0, 33.0, 175.0, 78.0, 20.0, 164.0, 92.0, 220.0, 165.0, 64.0, 64.0, 99.0, 160.0, 88.0, 120.0, 114.0, 213.0, 160.0, 138.0, 12.0, 200.0, 48.0, 79.0, 116.0, 37.0, 84.0, 25.0, 43.0, 194.0, 146.0, 124.0, 86.0, 83.0, 104.0, 105.0, 101.0, 127.0, 106.0, 66.0, 186.0, 103.0, 65.0, 122.0, 113.0, 93.0, 150.0, 39.0, 254.0, 107.0, 90.0, 167.0, 179.0, 41.0, 155.0, 114.0, 93.0, 151.0, 13.0, 165.0, 130.0, 149.0, 132.0, 93.0, 223.0, 189.0, 180.0, 47.0, 95.0, 22.0, 97.0, 71.0, 174.0, 101.0, 226.0, 106.0, 132.0, 35.0, 131.0, 103.0, 131.0, 226.0, 156.0, 73.0, 178.0, 15.0, 107.0, 104.0, 68.0, 185.0, 94.0, 142.0, 181.0, 178.0, 118.0, 159.0, 140.0, 140.0, 178.0, 53.0, 141.0, 15.0, 147.0, 120.0, 179.0, 117.0, 174.0, 163.0, 139.0, 27.0, 55.0, 155.0, 38.0, 86.0, 24.0, 103.0, 48.0, 52.0, 41.0, 49.0, 47.0, 67.0, 63.0, 157.0, 50.0, 68.0, 246.0, 161.0, 62.0, 94.0, 105.0, 54.0, 79.0, 228.0, 16.0, 116.0, 67.0, 84.0, 118.0, 184.0, 182.0, 123.0, 84.0, 84.0, 52.0, 106.0, 194.0, 158.0, 19.0, 80.0, 212.0, 140.0, 79.0, 50.0, 223.0, 149.0, 169.0, 80.0, 208.0, 179.0, 86.0, 78.0, 49.0, 87.0, 21.0, 183.0, 154.0, 98.0, 33.0, 32.0, 225.0, 48.0, 226.0, 185.0, 57.0, 112.0, 61.0, 39.0, 20.0, 147.0, 60.0, 51.0, 62.0, 34.0, 144.0, 83.0, 33.0, 41.0, 71.0, 155.0, 42.0, 35.0, 10.0, 85.0, 37.0, 112.0, 104.0, 100.0, 98.0, 113.0, 122.0, 18.0, 129.0, 199.0, 83.0, 45.0, 120.0, 148.0, 94.0, 150.0, 47.0, 162.0, 73.0, 124.0, 133.0, 211.0, 85.0, 83.0, 76.0, 48.0, 73.0, 85.0, 59.0, 95.0, 67.0, 163.0, 128.0, 31.0, 110.0, 79.0, 76.0, 184.0, 103.0, 45.0, 41.0, 142.0, 124.0, 150.0, 164.0, 77.0, 143.0, 76.0, 80.0, 210.0, 143.0, 174.0, 54.0, 130.0, 36.0, 40.0, 136.0, 53.0, 130.0, 253.0, 126.0, 63.0, 74.0, 135.0, 239.0, 44.0, 145.0, 134.0, 119.0, 102.0, 97.0, 52.0, 74.0, 188.0, 105.0, 25.0, 132.0, 116.0, 160.0, 185.0, 119.0, 29.0, 206.0, 132.0, 155.0, 120.0, 116.0, 148.0, 40.0, 54.0, 74.0, 117.0, 94.0, 69.0, 146.0, 171.0, 104.0, 28.0, 49.0, 121.0, 75.0, 61.0, 239.0, 176.0, 60.0, 119.0, 120.0, 167.0, 55.0, 49.0, 63.0, 61.0, 222.0, 78.0, 65.0, 174.0, 119.0, 81.0, 14.0, 254.0, 181.0, 83.0, 90.0, 57.0, 197.0, 188.0, 72.0, 144.0, 130.0, 78.0, 133.0, 162.0, 22.0, 99.0, 41.0, 119.0, 41.0, 198.0, 89.0, 197.0, 184.0, 72.0, 58.0, 165.0, 118.0, 57.0, 119.0, 112.0, 191.0, 80.0, 36.0, 60.0, 104.0, 188.0, 72.0, 66.0, 155.0, 55.0, 39.0, 99.0, 141.0, 186.0, 24.0, 95.0, 50.0, 56.0, 71.0, 46.0, 154.0, 97.0, 174.0, 232.0, 140.0, 56.0, 152.0, 49.0, 33.0, 56.0, 70.0, 29.0, 71.0, 55.0, 127.0, 103.0, 109.0, 56.0, 134.0, 192.0, 85.0, 113.0, 27.0, 67.0, 111.0, 50.0, 63.0, 58.0, 58.0, 76.0, 95.0, 114.0, 220.0, 107.0, 222.0, 243.0, 227.0, 19.0, 162.0, 129.0, 29.0, 107.0, 90.0, 204.0, 46.0, 34.0, 169.0, 61.0, 85.0, 238.0, 122.0, 27.0, 164.0, 100.0, 32.0, 68.0, 141.0, 22.0, 87.0, 74.0, 135.0, 51.0, 64.0, 143.0, 206.0, 215.0, 42.0, 42.0, 22.0, 86.0, 76.0, 85.0, 108.0, 99.0, 45.0, 150.0, 73.0, 61.0, 50.0, 197.0, 85.0, 141.0, 85.0, 28.0, 131.0, 144.0, 39.0, 163.0, 179.0, 127.0, 88.0, 58.0, 43.0, 58.0, 164.0, 62.0, 34.0, 51.0, 109.0, 219.0, 66.0, 61.0, 44.0, 53.0, 65.0, 22.0, 153.0, 35.0, 62.0, 77.0, 151.0, 40.0, 159.0, 44.0, 203.0, 156.0, 103.0, 123.0, 27.0, 15.0, 143.0, 90.0, 165.0, 188.0, 55.0, 16.0, 49.0, 83.0, 64.0, 109.0, 60.0, 44.0, 210.0, 93.0, 144.0, 233.0, 23.0, 115.0, 38.0, 41.0, 139.0, 77.0, 106.0, 109.0, 56.0, 87.0, 131.0, 137.0, 14.0, 102.0, 96.0, 152.0, 76.0, 34.0, 83.0, 113.0, 125.0, 8.0, 60.0, 25.0, 163.0, 188.0, 198.0, 230.0, 89.0, 75.0, 207.0, 94.0, 111.0, 152.0, 21.0, 76.0, 31.0, 20.0, 137.0, 37.0, 44.0, 69.0, 110.0, 76.0, 125.0, 47.0, 80.0, 140.0, 65.0, 61.0, 36.0, 173.0, 134.0, 93.0, 13.0, 78.0, 96.0, 111.0, 51.0, 46.0, 95.0, 133.0, 198.0, 28.0, 157.0, 203.0, 44.0, 78.0, 32.0, 94.0, 78.0, 156.0, 20.0, 32.0, 92.0, 55.0, 244.0, 65.0, 83.0, 156.0, 110.0, 94.0, 24.0, 30.0, 124.0, 97.0, 132.0, 85.0, 14.0, 141.0, 179.0, 146.0, 59.0, 184.0, 138.0, 94.0, 125.0, 228.0, 42.0, 127.0, 70.0, 50.0, 133.0, 134.0, 153.0, 75.0, 194.0, 74.0, 12.0, 232.0, 60.0, 89.0, 103.0, 28.0, 18.0, 79.0, 145.0, 72.0, 100.0, 67.0, 27.0, 22.0, 97.0, 80.0, 13.0, 66.0, 56.0, 181.0, 56.0, 64.0, 38.0, 94.0, 124.0, 119.0, 113.0, 45.0, 37.0, 248.0, 7.0, 146.0, 198.0, 38.0, 10.0, 47.0, 145.0, 41.0, 108.0, 108.0, 39.0, 135.0, 169.0, 43.0, 130.0, 43.0, 123.0, 196.0, 140.0, 54.0, 12.0, 58.0, 59.0, 216.0, 181.0, 49.0, 82.0, 104.0, 99.0, 30.0, 90.0, 128.0, 58.0, 254.0, 143.0, 80.0, 59.0, 36.0, 118.0, 67.0, 81.0, 134.0, 100.0, 110.0, 77.0, 42.0, 66.0, 56.0, 128.0, 54.0, 24.0, 73.0, 129.0, 41.0, 36.0, 54.0, 50.0, 23.0, 48.0, 52.0, 28.0, 28.0, 168.0, 139.0, 38.0, 93.0, 50.0, 112.0, 69.0, 46.0, 131.0, 47.0, 73.0, 137.0, 37.0, 83.0, 154.0, 56.0, 37.0, 53.0, 20.0, 61.0, 72.0, 79.0, 29.0, 94.0, 22.0, 22.0, 55.0, 123.0, 32.0, 27.0, 56.0, 182.0, 80.0, 128.0, 115.0, 139.0, 72.0, 50.0, 205.0, 238.0, 10.0, 195.0, 88.0, 51.0, 114.0, 91.0, 78.0, 64.0, 115.0, 91.0, 121.0, 97.0, 23.0, 132.0, 230.0, 158.0, 85.0, 17.0, 18.0, 119.0, 31.0, 121.0, 122.0, 73.0, 124.0, 61.0, 201.0, 61.0, 76.0, 34.0, 77.0, 115.0, 93.0, 149.0, 161.0, 37.0, 82.0, 217.0, 79.0, 110.0, 96.0, 239.0, 152.0, 54.0, 208.0, 210.0, 53.0, 228.0, 251.0, 73.0, 230.0, 238.0, 63.0, 132.0, 50.0, 148.0, 201.0, 30.0, 118.0, 62.0, 115.0, 117.0, 104.0, 175.0, 87.0, 144.0, 146.0, 190.0, 146.0, 236.0, 53.0, 142.0, 72.0, 81.0, 60.0, 120.0, 49.0, 126.0, 255.0, 124.0, 88.0, 63.0, 158.0, 101.0, 67.0, 179.0, 27.0, 185.0, 99.0, 191.0, 81.0, 104.0, 146.0, 135.0, 82.0, 15.0, 56.0, 30.0, 167.0, 74.0, 77.0, 178.0, 199.0, 40.0, 147.0, 164.0, 97.0, 181.0, 69.0, 87.0, 113.0, 96.0, 56.0, 35.0, 43.0, 73.0, 107.0, 69.0, 73.0, 59.0, 128.0, 248.0, 54.0, 67.0, 173.0, 107.0, 181.0, 147.0, 70.0, 27.0, 151.0, 142.0, 47.0, 87.0, 168.0, 99.0, 98.0, 43.0, 187.0, 66.0, 109.0, 87.0, 158.0, 102.0, 102.0, 131.0, 110.0, 148.0, 146.0, 89.0, 191.0, 245.0, 71.0, 35.0, 103.0, 42.0, 173.0, 150.0, 80.0, 107.0, 225.0, 77.0, 85.0, 141.0, 176.0, 191.0, 91.0, 145.0, 134.0, 92.0, 251.0, 100.0, 63.0, 69.0, 159.0, 100.0, 24.0, 118.0, 32.0, 71.0, 170.0, 83.0, 169.0, 186.0, 176.0, 183.0, 7.0, 48.0, 167.0, 27.0, 79.0, 53.0, 127.0, 135.0, 117.0, 51.0, 73.0, 116.0, 50.0, 172.0, 106.0, 139.0, 117.0, 46.0, 122.0, 113.0, 83.0, 116.0, 150.0, 121.0, 241.0, 122.0, 71.0, 57.0, 80.0, 95.0, 61.0, 160.0, 123.0, 30.0, 122.0, 78.0, 168.0, 99.0, 248.0, 106.0, 79.0, 48.0, 70.0, 206.0, 40.0, 112.0, 218.0, 83.0, 72.0, 33.0, 104.0, 135.0, 92.0, 151.0, 176.0, 78.0, 183.0, 70.0, 187.0, 75.0, 40.0, 20.0, 237.0, 156.0, 198.0, 240.0, 215.0, 127.0, 120.0, 138.0, 83.0, 57.0, 18.0, 64.0, 243.0, 60.0, 36.0, 17.0, 126.0, 80.0, 94.0, 51.0, 147.0, 92.0, 175.0, 197.0, 145.0, 216.0, 168.0, 61.0, 80.0, 142.0, 190.0, 113.0, 198.0, 137.0, 100.0, 120.0, 79.0, 126.0, 87.0, 32.0, 212.0, 182.0, 78.0, 105.0, 194.0, 154.0, 42.0, 107.0, 41.0, 126.0, 127.0, 118.0, 83.0, 73.0, 78.0, 87.0, 58.0, 113.0, 57.0, 120.0, 159.0, 93.0, 117.0, 74.0, 108.0, 97.0, 185.0, 25.0, 84.0, 117.0, 64.0, 64.0, 141.0, 73.0, 172.0, 72.0, 82.0, 31.0, 103.0, 105.0, 99.0, 70.0, 125.0, 178.0, 119.0, 97.0, 45.0, 88.0, 38.0, 126.0, 58.0, 61.0, 99.0, 126.0, 105.0, 126.0, 240.0, 239.0, 89.0, 121.0, 14.0, 176.0, 88.0, 101.0, 110.0, 58.0, 56.0, 93.0, 118.0, 36.0, 109.0, 79.0, 72.0, 153.0, 67.0, 230.0, 33.0, 85.0, 86.0, 171.0, 68.0, 95.0, 132.0, 89.0, 46.0, 92.0, 104.0, 107.0, 90.0, 205.0, 219.0, 77.0, 82.0, 134.0, 189.0, 214.0, 60.0, 124.0, 188.0, 89.0, 84.0, 156.0, 54.0, 70.0, 82.0, 152.0, 79.0, 101.0, 68.0, 117.0, 167.0, 95.0, 114.0, 101.0, 110.0, 88.0, 141.0, 131.0, 168.0, 129.0, 123.0, 65.0, 187.0, 159.0, 172.0, 76.0, 195.0, 114.0, 109.0, 161.0, 113.0, 81.0, 57.0, 100.0, 172.0, 55.0, 78.0, 136.0, 68.0, 100.0, 99.0, 77.0, 6.0, 60.0, 29.0, 76.0, 174.0, 123.0, 138.0, 65.0, 100.0, 206.0, 231.0, 162.0, 103.0, 68.0, 84.0, 92.0, 127.0, 18.0, 119.0, 65.0, 12.0, 71.0, 94.0, 76.0, 172.0, 216.0, 71.0, 136.0, 166.0, 186.0, 181.0, 98.0, 141.0, 156.0, 138.0, 117.0, 106.0, 105.0, 50.0, 109.0, 249.0, 248.0, 81.0, 107.0, 96.0, 30.0, 241.0, 53.0, 181.0, 133.0, 141.0, 120.0, 70.0, 183.0, 131.0, 34.0, 66.0, 62.0, 52.0, 91.0, 75.0, 93.0, 72.0, 73.0, 158.0, 160.0, 143.0, 47.0, 43.0, 135.0, 62.0, 213.0, 191.0, 52.0, 101.0, 129.0, 99.0, 62.0, 55.0, 53.0, 26.0, 173.0, 43.0, 174.0, 176.0, 99.0, 31.0, 147.0, 201.0, 218.0, 161.0, 182.0, 198.0, 151.0, 184.0, 214.0, 120.0, 231.0, 153.0, 220.0, 244.0, 177.0, 186.0, 222.0, 144.0, 209.0, 217.0, 198.0, 206.0, 168.0, 228.0, 212.0, 161.0, 195.0, 140.0, 140.0, 164.0, 156.0, 170.0, 204.0, 185.0, 200.0, 187.0, 135.0, 162.0, 194.0, 175.0, 184.0, 189.0, 120.0, 116.0, 102.0, 127.0, 114.0, 56.0, 193.0, 174.0, 139.0, 113.0, 166.0, 170.0, 160.0, 144.0, 189.0, 142.0, 106.0, 60.0, 155.0, 80.0, 140.0, 201.0, 136.0, 39.0, 60.0, 143.0, 33.0, 86.0, 58.0, 181.0, 170.0, 141.0, 118.0, 154.0, 40.0, 64.0, 89.0, 71.0, 64.0, 121.0, 173.0, 56.0, 158.0, 98.0, 11.0, 128.0, 109.0, 157.0, 58.0, 43.0, 212.0, 59.0, 133.0, 50.0, 20.0, 52.0, 38.0, 60.0, 140.0, 158.0, 80.0, 65.0, 68.0, 156.0, 70.0, 148.0, 110.0, 65.0, 52.0, 60.0, 182.0, 132.0, 128.0, 20.0, 118.0, 146.0, 134.0, 114.0, 180.0, 88.0, 140.0, 130.0, 79.0, 66.0, 141.0, 88.0, 253.0, 144.0, 155.0, 84.0, 32.0, 31.0, 122.0, 112.0, 147.0, 133.0, 25.0, 65.0, 158.0, 131.0, 140.0, 133.0, 177.0, 181.0, 99.0, 105.0, 148.0, 222.0, 57.0, 205.0, 77.0, 69.0, 108.0, 97.0, 78.0, 79.0, 72.0, 193.0, 180.0, 82.0, 191.0, 87.0, 25.0, 54.0, 61.0, 108.0, 152.0, 156.0, 168.0, 86.0, 100.0, 46.0, 256.0, 170.0, 89.0, 169.0, 54.0, 247.0, 211.0, 70.0, 119.0, 170.0, 109.0, 186.0, 54.0, 199.0, 249.0, 160.0, 65.0, 153.0, 174.0, 59.0, 147.0, 51.0, 200.0, 73.0, 128.0, 211.0, 37.0, 90.0, 69.0, 110.0, 72.0, 154.0, 132.0, 180.0, 211.0, 154.0, 59.0, 232.0, 78.0, 168.0, 87.0, 62.0, 56.0, 49.0, 40.0, 84.0, 30.0, 24.0, 232.0, 98.0, 64.0, 215.0, 63.0, 157.0, 192.0, 57.0, 111.0, 197.0, 92.0, 221.0, 50.0, 38.0, 173.0, 18.0, 46.0, 96.0, 41.0, 122.0, 216.0, 153.0, 119.0, 57.0, 139.0, 128.0, 61.0, 59.0, 135.0, 52.0, 154.0, 116.0, 201.0, 67.0, 87.0, 206.0, 87.0, 83.0, 125.0, 93.0, 109.0, 62.0, 33.0, 123.0, 125.0, 153.0, 71.0, 127.0, 118.0, 51.0, 155.0, 106.0, 135.0, 38.0, 93.0, 148.0, 142.0, 121.0, 219.0, 122.0, 171.0, 61.0, 174.0, 105.0, 108.0, 88.0, 111.0, 217.0, 251.0, 112.0, 11.0, 196.0, 158.0, 102.0, 127.0, 146.0, 181.0, 47.0, 105.0, 197.0, 54.0, 90.0, 256.0, 125.0, 61.0, 55.0, 100.0, 151.0, 114.0, 98.0, 72.0, 210.0, 134.0, 142.0, 64.0, 68.0, 38.0, 82.0, 100.0, 41.0, 37.0, 160.0, 161.0, 143.0, 40.0, 74.0, 79.0, 96.0, 47.0, 119.0, 145.0, 67.0, 199.0, 116.0, 179.0, 142.0, 34.0, 168.0, 44.0, 81.0, 186.0, 109.0, 202.0, 118.0, 50.0, 175.0, 189.0, 198.0, 102.0, 18.0, 30.0, 52.0, 61.0, 96.0, 53.0, 197.0, 122.0, 99.0, 173.0, 234.0, 49.0, 149.0, 51.0, 144.0, 200.0, 50.0, 86.0, 123.0, 80.0, 88.0, 66.0, 197.0, 117.0, 84.0, 150.0, 206.0, 207.0, 100.0, 55.0, 56.0, 250.0, 156.0, 71.0, 43.0, 118.0, 161.0, 79.0, 152.0, 129.0, 249.0, 52.0, 5.0, 117.0, 107.0, 164.0, 107.0, 49.0, 39.0, 220.0, 115.0, 70.0, 101.0, 216.0, 195.0, 112.0, 68.0, 69.0, 74.0, 71.0, 69.0, 63.0, 197.0, 171.0, 124.0, 135.0, 205.0, 48.0, 206.0, 188.0, 29.0, 58.0, 136.0, 94.0, 83.0, 76.0, 119.0, 141.0, 12.0, 61.0, 51.0, 61.0, 134.0, 102.0, 141.0, 52.0, 62.0, 86.0, 53.0, 71.0, 64.0, 54.0, 146.0, 137.0, 21.0, 62.0, 95.0, 254.0, 188.0, 119.0, 76.0, 47.0, 64.0, 103.0, 133.0, 83.0, 145.0, 99.0, 54.0, 186.0, 190.0, 68.0, 99.0, 71.0, 79.0, 93.0, 103.0, 69.0, 170.0, 77.0, 123.0, 60.0, 31.0, 181.0, 131.0, 120.0, 35.0, 50.0, 223.0, 63.0, 101.0, 35.0, 98.0, 121.0, 156.0, 90.0, 227.0, 91.0, 53.0, 152.0, 112.0, 165.0, 221.0, 67.0, 73.0, 176.0, 166.0, 84.0, 227.0, 132.0, 165.0, 137.0, 50.0, 120.0, 80.0, 60.0, 53.0, 184.0, 105.0, 134.0, 94.0, 123.0, 174.0, 30.0, 55.0, 103.0, 133.0, 192.0, 94.0, 117.0, 134.0, 87.0, 165.0, 62.0, 171.0, 160.0, 56.0, 142.0, 57.0, 54.0, 66.0, 133.0, 127.0, 59.0, 46.0, 60.0, 98.0, 60.0, 24.0, 64.0, 72.0, 130.0, 13.0, 242.0, 66.0, 120.0, 134.0, 126.0, 28.0, 240.0, 208.0, 81.0, 119.0, 123.0, 98.0, 249.0, 59.0, 90.0, 78.0, 52.0, 44.0, 154.0, 72.0, 136.0, 55.0, 187.0, 129.0, 81.0, 255.0, 124.0, 45.0, 147.0, 183.0, 52.0, 104.0, 114.0, 49.0, 54.0, 138.0, 75.0, 231.0, 200.0, 96.0, 144.0, 118.0, 85.0, 80.0, 186.0, 106.0, 51.0, 72.0, 46.0, 42.0, 45.0, 105.0, 132.0, 58.0, 12.0, 135.0, 77.0, 162.0, 137.0, 24.0, 54.0, 59.0, 116.0, 115.0, 92.0, 104.0, 88.0, 48.0, 20.0, 84.0, 84.0, 123.0, 160.0, 74.0, 99.0, 52.0, 90.0, 69.0, 98.0, 66.0, 62.0, 59.0, 72.0, 181.0, 152.0, 116.0, 105.0, 16.0, 121.0, 140.0, 171.0, 192.0, 99.0, 59.0, 128.0, 210.0, 116.0, 132.0, 65.0, 136.0, 124.0, 39.0, 84.0, 64.0, 126.0, 98.0, 200.0, 53.0, 57.0, 66.0, 113.0, 166.0, 62.0, 59.0, 87.0, 134.0, 147.0, 204.0, 110.0, 81.0, 64.0, 98.0, 43.0, 171.0, 181.0, 64.0, 198.0, 145.0, 199.0, 252.0, 84.0, 82.0, 127.0, 73.0, 118.0, 48.0, 90.0, 44.0, 111.0, 136.0, 77.0, 106.0, 91.0, 163.0, 21.0, 81.0, 64.0, 25.0, 74.0, 105.0, 194.0, 158.0, 118.0, 71.0, 220.0, 61.0, 69.0, 86.0, 99.0, 144.0, 121.0, 119.0, 50.0, 120.0, 25.0, 55.0, 104.0, 118.0, 123.0, 84.0, 35.0, 45.0, 156.0, 184.0, 111.0, 59.0, 17.0, 89.0, 81.0, 81.0, 105.0, 121.0, 34.0, 54.0, 67.0, 155.0, 189.0, 104.0, 155.0, 129.0, 223.0, 82.0, 42.0, 202.0, 167.0, 196.0, 102.0, 115.0, 96.0, 141.0, 108.0, 207.0, 54.0, 68.0, 89.0, 171.0, 101.0, 68.0, 104.0, 187.0, 252.0, 125.0, 122.0, 135.0, 211.0, 26.0, 105.0, 113.0, 80.0, 28.0, 59.0, 189.0, 32.0, 35.0, 35.0, 248.0, 190.0, 102.0, 211.0, 86.0, 101.0, 62.0, 71.0, 72.0, 146.0, 11.0, 195.0, 183.0, 58.0, 130.0, 93.0, 90.0, 222.0, 43.0, 159.0, 64.0, 128.0, 134.0, 30.0, 72.0, 93.0, 239.0, 79.0, 44.0, 93.0, 34.0, 45.0, 125.0, 56.0, 82.0, 42.0, 72.0, 64.0, 67.0, 65.0, 102.0, 63.0, 55.0, 160.0, 49.0, 50.0, 95.0, 55.0, 18.0, 102.0, 56.0, 154.0, 110.0, 55.0, 27.0, 83.0, 36.0, 82.0, 50.0, 28.0, 157.0, 67.0, 48.0, 54.0, 49.0, 65.0, 103.0, 62.0, 46.0, 92.0, 140.0, 71.0, 227.0, 57.0, 59.0, 60.0, 31.0, 43.0, 52.0, 67.0, 99.0, 99.0, 138.0, 86.0, 39.0, 40.0, 99.0, 76.0, 160.0, 18.0, 57.0, 144.0, 70.0, 27.0, 30.0, 43.0, 40.0, 57.0, 23.0, 66.0, 15.0, 227.0, 92.0, 151.0, 125.0, 121.0, 81.0, 58.0, 11.0, 160.0, 86.0, 16.0, 210.0, 8.0, 46.0, 44.0, 76.0, 91.0, 82.0, 103.0, 78.0, 87.0, 55.0, 123.0, 50.0, 206.0, 26.0, 67.0, 32.0, 30.0, 57.0, 20.0, 116.0, 36.0, 122.0, 92.0, 89.0, 88.0, 58.0, 9.0, 54.0, 112.0, 86.0, 28.0, 27.0, 149.0, 115.0, 29.0, 126.0, 42.0, 75.0, 46.0, 145.0, 63.0, 88.0, 82.0, 107.0, 24.0, 76.0, 82.0, 26.0, 26.0, 35.0, 35.0, 11.0, 37.0, 11.0, 133.0, 65.0, 68.0, 70.0, 50.0, 121.0, 44.0, 78.0, 69.0, 31.0, 73.0, 17.0, 119.0, 132.0, 92.0, 77.0, 126.0, 104.0, 95.0, 73.0, 45.0, 122.0, 126.0, 182.0, 161.0, 61.0, 27.0, 139.0, 49.0, 131.0, 46.0, 59.0, 10.0, 48.0, 14.0, 61.0, 129.0, 120.0, 40.0, 54.0, 59.0, 175.0, 46.0, 32.0, 45.0, 88.0, 56.0, 146.0, 69.0, 127.0, 68.0, 67.0, 63.0, 54.0, 46.0, 63.0, 134.0, 13.0, 64.0, 211.0, 170.0, 34.0, 158.0, 70.0, 31.0, 67.0, 98.0, 27.0, 39.0, 16.0, 20.0, 31.0, 100.0, 46.0, 206.0, 22.0, 56.0, 147.0, 56.0, 30.0, 64.0, 29.0, 118.0, 14.0, 216.0, 10.0, 29.0, 100.0, 78.0, 75.0, 17.0, 155.0, 35.0, 35.0, 207.0, 96.0, 50.0, 67.0, 219.0, 19.0, 182.0, 117.0, 68.0, 163.0, 36.0, 169.0, 39.0, 99.0, 19.0, 32.0, 33.0, 60.0, 63.0, 102.0, 39.0, 52.0, 11.0, 67.0, 55.0, 45.0, 7.0, 40.0, 41.0, 36.0, 37.0, 41.0, 226.0, 51.0, 61.0, 208.0, 71.0, 32.0, 75.0, 22.0, 152.0, 47.0, 33.0, 52.0, 36.0, 82.0, 251.0, 50.0, 61.0, 94.0, 72.0, 114.0, 33.0, 19.0, 156.0, 8.0, 42.0, 33.0, 24.0, 38.0, 68.0, 43.0, 30.0, 65.0, 30.0, 105.0, 47.0, 12.0, 58.0, 116.0, 39.0, 146.0, 42.0, 10.0, 26.0, 79.0, 71.0, 255.0, 54.0, 60.0, 110.0, 73.0, 108.0, 53.0, 36.0, 57.0, 167.0, 53.0, 20.0, 90.0, 17.0, 70.0, 57.0, 102.0, 42.0, 25.0, 26.0, 82.0, 158.0, 111.0, 45.0, 18.0, 67.0, 27.0, 19.0, 170.0, 27.0, 117.0, 64.0, 33.0, 170.0, 57.0, 34.0, 58.0, 10.0, 49.0, 135.0, 48.0, 107.0, 34.0, 61.0, 21.0, 33.0, 139.0, 9.0, 49.0, 231.0, 28.0, 21.0, 127.0, 64.0, 35.0, 114.0, 67.0, 50.0, 49.0, 12.0, 111.0, 26.0, 45.0, 99.0, 38.0, 104.0, 16.0, 84.0, 91.0, 202.0, 167.0, 26.0, 152.0, 90.0, 98.0, 14.0, 117.0, 52.0, 136.0, 148.0, 72.0, 199.0, 56.0, 57.0, 62.0, 78.0, 42.0, 87.0, 106.0, 239.0, 84.0, 86.0, 182.0, 125.0, 24.0, 100.0, 117.0, 46.0, 57.0, 133.0, 147.0, 197.0, 49.0, 31.0, 31.0, 101.0, 66.0, 29.0, 25.0, 31.0, 53.0, 48.0, 108.0, 43.0, 113.0, 31.0, 178.0, 79.0, 96.0, 219.0, 151.0, 88.0, 63.0, 61.0, 79.0, 202.0, 75.0, 100.0, 85.0, 199.0, 30.0, 43.0, 156.0, 42.0, 75.0, 123.0, 112.0, 84.0, 24.0, 111.0, 59.0, 212.0, 129.0, 125.0, 65.0, 199.0, 59.0, 66.0, 52.0, 121.0, 101.0, 36.0, 241.0, 42.0, 42.0, 57.0, 133.0, 108.0, 125.0, 59.0, 102.0, 132.0, 35.0, 100.0, 75.0, 30.0, 17.0, 95.0, 47.0, 129.0, 62.0, 130.0, 62.0, 81.0, 40.0, 11.0, 163.0, 62.0, 100.0, 73.0, 44.0, 41.0, 90.0, 92.0, 33.0, 22.0, 74.0, 7.0, 171.0, 70.0, 126.0, 95.0, 93.0, 43.0, 45.0, 33.0, 229.0, 47.0, 48.0, 71.0, 105.0, 46.0, 174.0, 66.0, 108.0, 215.0, 21.0, 199.0, 45.0, 87.0, 204.0, 107.0, 88.0, 124.0, 147.0, 135.0, 42.0, 215.0, 140.0, 29.0, 41.0, 46.0, 89.0, 56.0, 58.0, 58.0, 156.0, 25.0, 97.0, 69.0, 14.0, 91.0, 61.0, 35.0, 174.0, 26.0, 187.0, 19.0, 55.0, 68.0, 8.0, 69.0, 76.0, 170.0, 186.0, 77.0, 60.0, 161.0, 96.0, 20.0, 55.0, 65.0, 202.0, 133.0, 72.0, 68.0, 24.0, 163.0, 18.0, 79.0, 26.0, 190.0, 22.0, 78.0, 32.0, 37.0, 85.0, 17.0, 13.0, 14.0, 116.0, 86.0, 76.0, 45.0, 17.0, 73.0, 63.0, 89.0, 85.0, 88.0, 27.0, 67.0, 208.0, 76.0, 58.0, 96.0, 46.0, 189.0, 65.0, 122.0, 32.0, 31.0, 26.0, 30.0, 78.0, 203.0, 140.0, 104.0, 110.0, 62.0, 167.0, 118.0, 102.0, 176.0, 46.0, 48.0, 136.0, 88.0, 114.0, 168.0, 68.0, 181.0, 238.0, 51.0, 68.0, 160.0, 4.0, 29.0, 110.0, 149.0, 90.0, 50.0, 78.0, 62.0, 120.0, 165.0, 186.0, 97.0, 36.0, 57.0, 223.0, 120.0, 115.0, 148.0, 195.0, 75.0, 182.0, 127.0, 15.0, 81.0, 36.0, 160.0, 235.0, 67.0, 19.0, 84.0, 89.0, 114.0, 36.0, 165.0, 50.0, 186.0, 80.0, 46.0, 58.0, 95.0, 25.0, 172.0, 122.0, 177.0, 24.0, 22.0, 51.0, 118.0, 26.0, 35.0, 198.0, 164.0, 106.0, 64.0, 69.0, 33.0, 79.0, 41.0, 136.0, 178.0, 33.0, 25.0, 75.0, 155.0, 92.0, 88.0, 130.0, 121.0, 28.0, 97.0, 94.0, 35.0, 73.0, 96.0, 40.0, 8.0, 7.0, 56.0, 28.0, 201.0, 78.0, 42.0, 122.0, 157.0, 24.0, 100.0, 147.0, 64.0, 35.0, 94.0, 81.0, 40.0, 63.0, 54.0, 60.0, 160.0, 17.0, 160.0, 91.0, 102.0, 223.0, 79.0, 141.0, 67.0, 131.0, 52.0, 200.0, 86.0, 51.0, 13.0, 57.0, 22.0, 45.0, 48.0, 118.0, 30.0, 102.0, 25.0, 98.0, 112.0, 141.0, 44.0, 84.0, 59.0, 155.0, 116.0, 244.0, 47.0, 120.0, 71.0, 122.0, 47.0, 115.0, 44.0, 153.0, 153.0, 89.0, 196.0, 90.0, 13.0, 35.0, 77.0, 35.0, 98.0, 8.0, 102.0, 158.0, 32.0, 7.0, 56.0, 127.0, 86.0, 167.0, 105.0, 19.0, 217.0, 119.0, 35.0, 61.0, 12.0, 52.0, 66.0, 27.0, 10.0, 20.0, 76.0, 70.0, 75.0, 63.0, 52.0, 189.0, 190.0, 140.0, 50.0, 42.0, 46.0, 96.0, 247.0, 45.0, 148.0, 117.0, 114.0, 97.0, 157.0, 143.0, 29.0, 21.0, 61.0, 177.0, 24.0, 96.0, 12.0, 30.0, 89.0, 122.0, 128.0, 106.0, 60.0, 121.0, 38.0, 139.0, 182.0, 59.0, 67.0, 53.0, 91.0, 57.0, 44.0, 14.0, 135.0, 149.0, 69.0, 107.0, 64.0, 31.0, 117.0, 64.0, 33.0, 15.0, 122.0, 150.0, 71.0, 40.0, 43.0, 97.0, 53.0, 63.0, 73.0, 166.0, 81.0, 65.0, 218.0, 109.0, 32.0, 118.0, 32.0, 91.0, 53.0, 115.0, 153.0, 33.0, 136.0, 66.0, 37.0, 244.0, 39.0, 53.0, 85.0, 149.0, 175.0, 184.0, 144.0, 46.0, 20.0, 16.0, 61.0, 140.0, 232.0, 45.0, 28.0, 56.0, 59.0, 44.0, 46.0, 186.0, 31.0, 141.0, 15.0, 57.0, 61.0, 22.0, 66.0, 107.0, 41.0, 35.0, 48.0, 151.0, 14.0, 44.0, 94.0, 56.0, 28.0, 137.0, 145.0, 60.0, 87.0, 83.0, 54.0, 167.0, 48.0, 120.0, 68.0, 101.0, 59.0, 158.0, 92.0, 74.0, 15.0, 134.0, 30.0, 90.0, 49.0, 128.0, 96.0, 28.0, 97.0, 12.0, 61.0, 46.0, 107.0, 43.0, 35.0, 72.0, 168.0, 48.0, 83.0, 44.0, 102.0, 53.0, 80.0, 73.0, 219.0, 82.0, 130.0, 64.0, 184.0, 7.0, 140.0, 38.0, 47.0, 72.0, 46.0, 42.0, 32.0, 120.0, 146.0, 87.0, 91.0, 29.0, 23.0, 141.0, 61.0, 16.0, 124.0, 146.0, 154.0, 79.0, 151.0, 27.0, 235.0, 15.0, 92.0, 55.0, 213.0, 91.0, 60.0, 78.0, 57.0, 93.0, 48.0, 24.0, 68.0, 43.0, 50.0, 71.0, 156.0, 86.0, 134.0, 91.0, 24.0, 68.0, 186.0, 81.0, 127.0, 72.0, 79.0, 100.0, 18.0, 7.0, 122.0, 213.0, 123.0, 63.0, 140.0, 117.0, 40.0, 184.0, 113.0, 38.0, 44.0, 32.0, 55.0, 32.0, 65.0, 101.0, 44.0, 183.0, 100.0, 25.0, 66.0, 71.0, 170.0, 28.0, 74.0, 34.0, 143.0, 25.0, 137.0, 49.0, 115.0, 103.0, 21.0, 138.0, 87.0, 81.0, 91.0, 241.0, 59.0, 37.0, 101.0, 57.0, 62.0, 41.0, 54.0, 150.0, 8.0, 33.0, 39.0, 252.0, 70.0, 75.0, 29.0, 42.0, 65.0, 74.0, 127.0, 51.0, 143.0, 70.0, 78.0, 171.0, 220.0, 60.0, 125.0, 67.0, 48.0, 60.0, 160.0, 45.0, 133.0, 174.0, 116.0, 94.0, 48.0, 118.0, 70.0, 67.0, 32.0, 34.0, 87.0, 94.0, 248.0, 90.0, 199.0, 26.0, 103.0, 31.0, 152.0, 116.0, 117.0, 27.0, 31.0, 36.0, 176.0, 60.0, 34.0, 131.0, 99.0, 62.0, 137.0, 45.0, 79.0, 19.0, 63.0, 68.0, 100.0, 64.0, 21.0, 41.0, 132.0, 134.0, 43.0, 35.0, 131.0, 80.0, 156.0, 43.0, 152.0, 100.0, 57.0, 83.0, 107.0, 70.0, 107.0, 117.0, 66.0, 62.0, 73.0, 61.0, 92.0, 44.0, 145.0, 128.0, 41.0, 208.0, 224.0, 209.0, 78.0, 91.0, 114.0, 144.0, 153.0, 141.0, 216.0, 70.0, 141.0, 157.0, 129.0, 35.0, 13.0, 84.0, 23.0, 135.0, 141.0, 59.0, 114.0, 101.0, 10.0, 75.0, 155.0, 72.0, 155.0, 133.0, 118.0, 110.0, 79.0, 79.0, 138.0, 28.0, 137.0, 115.0, 180.0, 207.0, 108.0, 141.0, 210.0, 9.0, 208.0, 167.0, 164.0, 225.0, 141.0, 142.0, 133.0, 89.0, 79.0, 9.0, 136.0, 162.0, 159.0, 106.0, 30.0, 121.0, 221.0, 142.0, 141.0, 79.0, 130.0, 72.0, 104.0, 91.0, 118.0, 89.0, 79.0, 80.0, 174.0, 80.0, 120.0, 132.0, 49.0, 96.0, 228.0, 19.0, 56.0, 110.0, 98.0, 191.0, 44.0, 47.0, 26.0, 157.0, 228.0, 42.0, 160.0, 108.0, 64.0, 127.0, 153.0, 176.0, 48.0, 106.0, 84.0, 68.0, 38.0, 227.0, 10.0, 62.0, 74.0, 90.0, 45.0, 153.0, 74.0, 14.0, 96.0, 84.0, 46.0, 138.0, 108.0, 69.0, 166.0, 70.0, 194.0, 117.0, 109.0, 83.0, 65.0, 79.0, 154.0, 84.0, 11.0, 54.0, 132.0, 73.0, 78.0, 33.0, 46.0, 221.0, 136.0, 193.0, 91.0, 108.0, 198.0, 184.0, 148.0, 47.0, 89.0, 158.0, 215.0, 138.0, 89.0, 97.0, 89.0, 50.0, 30.0, 71.0, 67.0, 23.0, 113.0, 144.0, 89.0, 180.0, 31.0, 24.0, 83.0, 125.0, 27.0, 48.0, 41.0, 79.0, 157.0, 120.0, 96.0, 34.0, 14.0, 19.0, 4.0, 89.0, 41.0, 116.0, 27.0, 112.0, 140.0, 129.0, 121.0, 67.0, 34.0, 135.0, 36.0, 238.0, 153.0, 104.0, 194.0, 167.0, 182.0, 81.0, 97.0, 13.0, 97.0, 47.0, 91.0, 68.0, 137.0, 34.0, 54.0, 111.0, 72.0, 58.0, 26.0, 49.0, 125.0, 5.0, 65.0, 85.0, 139.0, 59.0, 75.0, 249.0, 165.0, 142.0, 48.0, 58.0, 44.0, 175.0, 169.0, 143.0, 9.0, 93.0, 24.0, 246.0, 19.0, 178.0, 131.0, 144.0, 20.0, 146.0, 27.0, 156.0, 27.0, 124.0, 161.0, 115.0, 65.0, 126.0, 188.0, 120.0, 12.0, 74.0, 68.0, 20.0, 127.0, 62.0, 134.0, 122.0, 27.0, 116.0, 9.0, 136.0, 148.0, 45.0, 83.0, 16.0, 228.0, 90.0, 24.0, 86.0, 157.0, 148.0, 107.0, 201.0, 131.0, 55.0, 82.0, 189.0, 127.0, 120.0, 98.0, 119.0, 93.0, 53.0, 69.0, 79.0, 203.0, 47.0, 153.0, 180.0, 119.0, 65.0, 55.0, 127.0, 143.0, 135.0, 100.0, 85.0, 80.0, 127.0, 125.0, 51.0, 100.0, 45.0, 159.0, 99.0, 66.0, 94.0, 26.0, 28.0, 92.0, 32.0, 128.0, 33.0, 38.0, 56.0, 78.0, 85.0, 164.0, 125.0, 114.0, 89.0, 46.0, 104.0, 141.0, 120.0, 36.0, 135.0, 81.0, 192.0, 146.0, 168.0, 128.0, 76.0, 187.0, 76.0, 104.0, 49.0, 65.0, 51.0, 58.0, 112.0, 129.0, 129.0, 45.0, 31.0, 42.0, 49.0, 188.0, 92.0, 91.0, 77.0, 16.0, 50.0, 11.0, 30.0, 127.0, 12.0, 77.0, 75.0, 62.0, 20.0, 51.0, 107.0, 190.0, 28.0, 246.0, 52.0, 93.0, 96.0, 136.0, 88.0, 98.0, 218.0, 44.0, 97.0, 54.0, 252.0, 11.0, 170.0, 98.0, 95.0, 16.0, 132.0, 48.0, 155.0, 50.0, 103.0, 123.0, 82.0, 137.0, 54.0, 6.0, 250.0, 30.0, 33.0, 184.0, 214.0, 234.0, 174.0, 142.0, 132.0, 84.0, 102.0, 105.0, 91.0, 50.0, 50.0, 85.0, 13.0, 160.0, 46.0, 50.0, 48.0, 145.0, 96.0, 50.0, 130.0, 80.0, 161.0, 25.0, 15.0, 62.0, 176.0, 97.0, 32.0, 101.0, 36.0, 85.0, 136.0, 10.0, 33.0, 14.0, 81.0, 49.0, 70.0, 119.0, 66.0, 10.0, 10.0, 158.0, 147.0, 110.0, 27.0, 57.0, 16.0, 223.0, 128.0, 54.0, 12.0, 123.0, 238.0, 129.0, 204.0, 213.0, 74.0, 41.0, 182.0, 140.0, 125.0, 115.0, 224.0, 67.0, 98.0, 123.0, 220.0, 113.0, 23.0, 128.0, 101.0, 72.0, 37.0, 16.0, 164.0, 117.0, 149.0, 137.0, 113.0, 75.0, 96.0, 179.0, 131.0, 168.0, 115.0, 51.0, 124.0, 97.0, 100.0, 168.0, 54.0, 34.0, 65.0, 75.0, 70.0, 142.0, 106.0, 27.0, 174.0, 107.0, 46.0, 75.0, 103.0, 249.0, 44.0, 109.0, 89.0, 103.0, 22.0, 59.0, 149.0, 92.0, 58.0, 44.0, 77.0, 62.0, 34.0, 68.0, 89.0, 235.0, 65.0, 89.0, 102.0, 26.0, 83.0, 76.0, 91.0, 94.0, 83.0, 100.0, 52.0, 11.0, 111.0, 71.0, 163.0, 76.0, 54.0, 64.0, 31.0, 119.0, 92.0, 93.0, 126.0, 136.0, 66.0, 64.0, 57.0, 47.0, 140.0, 106.0, 114.0, 114.0, 92.0, 86.0, 68.0, 191.0, 173.0, 104.0, 106.0, 53.0, 107.0, 80.0, 115.0, 69.0, 46.0, 87.0, 151.0, 43.0, 84.0, 233.0, 101.0, 138.0, 29.0, 138.0, 164.0, 134.0, 207.0, 71.0, 6.0, 116.0, 64.0, 158.0, 215.0, 55.0, 35.0, 66.0, 168.0, 101.0, 50.0, 71.0, 96.0, 73.0, 126.0, 120.0, 89.0, 84.0, 118.0, 71.0, 154.0, 130.0, 104.0, 108.0, 136.0, 121.0, 15.0, 143.0, 56.0, 73.0, 117.0, 91.0, 24.0, 118.0, 134.0, 124.0, 71.0, 55.0, 70.0, 138.0, 14.0, 58.0, 66.0, 135.0, 45.0, 199.0, 24.0, 138.0, 160.0, 101.0, 182.0, 29.0, 137.0, 109.0, 97.0, 183.0, 184.0, 150.0, 43.0, 91.0, 99.0, 31.0, 56.0, 102.0, 147.0, 100.0, 84.0, 153.0, 4.0, 146.0, 181.0, 39.0, 131.0, 38.0, 68.0, 167.0, 79.0, 135.0, 48.0, 190.0, 180.0, 40.0, 150.0, 48.0, 27.0, 88.0, 14.0, 86.0, 68.0, 42.0, 167.0, 78.0, 223.0, 121.0, 131.0, 97.0, 102.0, 46.0, 156.0, 66.0, 96.0, 53.0, 248.0, 83.0, 106.0, 82.0, 88.0, 114.0, 227.0, 61.0, 127.0, 140.0, 89.0, 121.0, 103.0, 60.0, 181.0, 87.0, 173.0, 115.0, 88.0, 61.0, 118.0, 132.0, 57.0, 20.0, 60.0, 140.0, 140.0, 108.0, 96.0, 75.0, 92.0, 213.0, 116.0, 84.0, 34.0, 87.0, 109.0, 95.0, 66.0, 141.0, 118.0, 119.0, 214.0, 35.0, 174.0, 54.0, 142.0, 123.0, 101.0, 121.0, 169.0, 132.0, 121.0, 53.0, 49.0, 66.0, 52.0, 84.0, 73.0, 45.0, 94.0, 147.0, 254.0, 150.0, 118.0, 96.0, 76.0, 132.0, 69.0, 142.0, 63.0, 139.0, 86.0, 97.0, 43.0, 120.0, 96.0, 105.0, 218.0, 120.0, 245.0, 99.0, 237.0, 116.0, 39.0, 124.0, 67.0, 117.0, 119.0, 26.0, 81.0, 33.0, 203.0, 72.0, 66.0, 83.0, 84.0, 56.0, 75.0, 244.0, 66.0, 111.0, 68.0, 107.0, 114.0, 74.0, 75.0, 100.0, 84.0, 108.0, 105.0, 82.0, 80.0, 128.0, 68.0, 65.0, 107.0, 98.0, 95.0, 91.0, 105.0, 71.0, 117.0, 49.0, 82.0, 57.0, 99.0, 81.0, 112.0, 37.0, 57.0, 130.0, 90.0, 81.0, 197.0, 40.0, 59.0, 81.0, 169.0, 179.0, 92.0, 90.0, 72.0, 156.0, 92.0, 53.0, 87.0, 77.0, 81.0, 67.0, 76.0, 69.0, 146.0, 115.0, 72.0, 132.0, 127.0, 147.0, 133.0, 114.0, 160.0, 130.0, 162.0, 24.0, 143.0, 170.0, 63.0, 110.0, 87.0, 125.0, 113.0, 158.0, 83.0, 78.0, 110.0, 158.0, 98.0, 162.0, 93.0, 104.0, 100.0, 33.0, 165.0, 46.0, 63.0, 68.0, 136.0, 238.0, 128.0, 48.0, 68.0, 94.0, 57.0, 66.0, 49.0, 52.0, 74.0, 95.0, 206.0, 60.0, 61.0, 56.0, 84.0, 62.0, 87.0, 40.0, 70.0, 100.0, 107.0, 147.0, 101.0, 80.0, 89.0, 81.0, 84.0, 43.0, 81.0, 78.0, 36.0, 76.0, 43.0, 175.0, 73.0, 57.0, 92.0, 187.0, 85.0, 37.0, 117.0, 183.0, 56.0, 69.0, 73.0, 77.0, 71.0, 54.0, 106.0, 60.0, 97.0, 182.0, 81.0, 30.0, 102.0, 44.0, 46.0, 66.0, 103.0, 81.0, 96.0, 83.0, 97.0, 25.0, 102.0, 61.0, 83.0, 33.0, 58.0, 189.0, 143.0, 157.0, 247.0, 76.0, 92.0, 52.0, 148.0, 61.0, 75.0, 38.0, 125.0, 101.0, 72.0, 133.0, 227.0, 67.0, 133.0, 45.0, 109.0, 112.0, 14.0, 75.0, 83.0, 166.0, 84.0, 123.0, 78.0, 59.0, 234.0, 32.0, 99.0, 113.0, 89.0, 109.0, 113.0, 91.0, 33.0, 40.0, 67.0, 167.0, 50.0, 17.0, 88.0, 42.0, 158.0, 101.0, 114.0, 90.0, 7.0, 80.0, 42.0, 135.0, 47.0, 120.0, 64.0, 58.0, 34.0, 132.0, 132.0, 114.0, 89.0, 175.0, 127.0, 208.0, 79.0, 55.0, 75.0, 175.0, 135.0, 90.0, 204.0, 28.0, 71.0, 91.0, 207.0, 16.0, 124.0, 173.0, 141.0, 161.0, 69.0, 96.0, 64.0, 94.0, 109.0, 91.0, 56.0, 10.0, 96.0, 135.0, 87.0, 107.0, 46.0, 49.0, 65.0, 86.0, 23.0, 93.0, 82.0, 77.0, 88.0, 62.0, 43.0, 157.0, 67.0, 96.0, 140.0, 97.0, 49.0, 122.0, 114.0, 43.0, 254.0, 42.0, 54.0, 65.0, 76.0, 190.0, 171.0, 70.0, 56.0, 80.0, 175.0, 29.0, 112.0, 51.0, 178.0, 208.0, 61.0, 37.0, 21.0, 202.0, 56.0, 42.0, 32.0, 187.0, 107.0, 193.0, 56.0, 102.0, 222.0, 27.0, 39.0, 135.0, 142.0, 110.0, 139.0, 11.0, 154.0, 52.0, 97.0, 73.0, 99.0, 35.0, 49.0, 79.0, 58.0, 154.0, 110.0, 60.0, 189.0, 180.0, 110.0, 47.0, 111.0, 58.0, 173.0, 38.0, 161.0, 127.0, 65.0, 170.0, 106.0, 100.0, 126.0, 82.0, 123.0, 71.0, 33.0, 39.0, 57.0, 52.0, 77.0, 101.0, 245.0, 31.0, 41.0, 72.0, 253.0, 64.0, 39.0, 110.0, 121.0, 96.0, 195.0, 66.0, 89.0, 226.0, 131.0, 56.0, 83.0, 104.0, 45.0, 47.0, 78.0, 117.0, 52.0, 73.0, 90.0, 70.0, 93.0, 65.0, 107.0, 73.0, 117.0, 48.0, 31.0, 56.0, 123.0, 118.0, 73.0, 59.0, 53.0, 53.0, 38.0, 72.0, 28.0, 242.0, 23.0, 157.0, 64.0, 104.0, 154.0, 140.0, 57.0, 251.0, 63.0, 147.0, 186.0, 29.0, 78.0, 96.0, 108.0, 50.0, 39.0, 99.0, 96.0, 116.0, 90.0, 87.0, 134.0, 71.0, 44.0, 85.0, 54.0, 91.0, 48.0, 126.0, 65.0, 163.0, 77.0, 100.0, 47.0, 71.0, 111.0, 96.0, 18.0, 101.0, 101.0, 133.0, 90.0, 110.0, 99.0, 66.0, 128.0, 131.0, 99.0, 207.0, 128.0, 141.0, 103.0, 51.0, 44.0, 84.0, 53.0, 52.0, 66.0, 108.0, 25.0, 39.0, 168.0, 183.0, 192.0, 217.0, 184.0, 151.0, 107.0, 211.0, 189.0, 77.0, 153.0, 79.0, 58.0, 167.0, 55.0, 37.0, 109.0, 133.0, 60.0, 113.0, 163.0, 226.0, 176.0, 100.0, 99.0, 99.0, 96.0, 132.0, 70.0, 104.0, 49.0, 76.0, 82.0, 36.0, 228.0, 192.0, 69.0, 159.0, 28.0, 118.0, 149.0, 181.0, 62.0, 58.0, 30.0, 105.0, 218.0, 125.0, 129.0, 137.0, 36.0, 158.0, 177.0, 53.0, 142.0, 185.0, 173.0, 123.0, 104.0, 154.0, 176.0, 207.0, 29.0, 32.0, 143.0, 128.0, 218.0, 101.0, 86.0, 98.0, 127.0, 83.0, 30.0, 102.0, 73.0, 35.0, 169.0, 43.0, 92.0, 31.0, 118.0, 82.0, 80.0, 82.0, 165.0, 152.0, 186.0, 125.0, 34.0, 28.0, 80.0, 158.0, 63.0, 132.0, 9.0, 36.0, 44.0, 164.0, 55.0, 45.0, 134.0, 162.0, 131.0, 138.0, 150.0, 159.0, 140.0, 66.0, 107.0, 100.0, 106.0, 30.0, 63.0, 67.0, 154.0, 44.0, 142.0, 75.0, 78.0, 79.0, 93.0, 74.0, 112.0, 65.0, 74.0, 39.0, 77.0, 105.0, 112.0, 188.0, 79.0, 33.0, 121.0, 135.0, 103.0, 51.0, 104.0, 81.0, 31.0, 55.0, 83.0, 83.0, 119.0, 90.0, 77.0, 101.0, 61.0, 94.0, 39.0, 55.0, 130.0, 13.0, 120.0, 23.0, 45.0, 13.0, 88.0, 133.0, 64.0, 51.0, 211.0, 112.0, 189.0, 139.0, 60.0, 152.0, 111.0, 113.0, 15.0, 129.0, 71.0, 55.0, 34.0, 57.0, 162.0, 48.0, 144.0, 169.0, 125.0, 141.0, 84.0, 29.0, 105.0, 68.0, 207.0, 98.0, 28.0, 126.0, 97.0, 40.0, 242.0, 61.0, 76.0, 205.0, 193.0, 209.0, 251.0, 173.0, 32.0, 132.0, 44.0, 142.0, 54.0, 71.0, 162.0, 12.0, 80.0, 165.0, 14.0, 190.0, 65.0, 82.0, 223.0, 113.0, 97.0, 156.0, 93.0, 182.0, 63.0, 46.0, 148.0, 213.0, 75.0, 52.0, 102.0, 121.0, 91.0, 55.0, 91.0, 21.0, 37.0, 17.0, 170.0, 126.0, 139.0, 56.0, 137.0, 47.0, 136.0, 75.0, 122.0, 64.0, 18.0, 128.0, 193.0, 72.0, 157.0, 181.0, 153.0, 50.0, 232.0, 107.0, 66.0, 141.0, 208.0, 102.0, 84.0, 63.0, 137.0, 122.0, 220.0, 72.0, 35.0, 228.0, 72.0, 194.0, 170.0, 176.0, 134.0, 11.0, 44.0, 46.0, 67.0, 87.0, 184.0, 209.0, 82.0, 141.0, 94.0, 89.0, 13.0, 63.0, 65.0, 99.0, 72.0, 96.0, 93.0, 38.0, 34.0, 87.0, 40.0, 163.0, 128.0, 77.0, 58.0, 108.0, 165.0, 12.0, 150.0, 241.0, 125.0, 242.0, 95.0, 69.0, 114.0, 79.0, 50.0, 79.0, 68.0, 111.0, 150.0, 53.0, 109.0, 83.0, 28.0, 154.0, 237.0, 221.0, 118.0, 180.0, 34.0, 213.0, 124.0, 162.0, 172.0, 128.0, 24.0, 66.0, 133.0, 71.0, 214.0, 94.0, 79.0, 78.0, 69.0, 165.0, 84.0, 99.0, 53.0, 189.0, 146.0, 218.0, 153.0, 212.0, 163.0, 108.0, 151.0, 98.0, 151.0, 77.0, 124.0, 160.0, 97.0, 64.0, 68.0, 36.0, 154.0, 68.0, 13.0, 101.0, 141.0, 19.0, 52.0, 88.0, 118.0, 66.0, 37.0, 68.0, 65.0, 120.0, 138.0, 35.0, 15.0, 98.0, 9.0, 63.0, 192.0, 97.0, 127.0, 163.0, 122.0, 118.0, 75.0, 104.0, 192.0, 113.0, 209.0, 18.0, 56.0, 162.0, 27.0, 115.0, 71.0, 135.0, 32.0, 74.0, 60.0, 102.0, 47.0, 24.0, 118.0, 127.0, 55.0, 139.0, 33.0, 57.0, 48.0, 222.0, 123.0, 111.0, 10.0, 24.0, 48.0, 161.0, 117.0, 223.0, 7.0, 168.0, 6.0, 159.0, 169.0, 188.0, 125.0, 192.0, 136.0, 151.0, 56.0, 49.0, 117.0, 115.0, 52.0, 151.0, 100.0, 138.0, 6.0, 89.0, 236.0, 46.0, 52.0, 142.0, 13.0, 116.0, 10.0, 126.0, 10.0, 57.0, 40.0, 227.0, 53.0, 81.0, 90.0, 42.0, 24.0, 72.0, 93.0, 139.0, 41.0, 193.0, 200.0, 92.0, 215.0, 54.0, 85.0, 99.0, 80.0, 122.0, 105.0, 116.0, 127.0, 63.0, 88.0, 101.0, 68.0, 42.0, 123.0, 45.0, 113.0, 54.0, 49.0, 77.0, 138.0, 101.0, 68.0, 83.0, 72.0, 84.0, 247.0, 66.0, 49.0, 77.0, 148.0, 133.0, 200.0, 132.0, 137.0, 119.0, 70.0, 84.0, 134.0, 48.0, 148.0, 48.0, 155.0, 50.0, 227.0, 121.0, 76.0, 39.0, 63.0, 21.0, 212.0, 163.0, 99.0, 158.0, 113.0, 147.0, 56.0, 25.0, 51.0, 75.0, 62.0, 124.0, 49.0, 70.0, 116.0, 153.0, 26.0, 125.0, 129.0, 61.0, 95.0, 236.0, 52.0, 120.0, 52.0, 127.0, 45.0, 112.0, 151.0, 52.0, 117.0, 52.0, 121.0, 173.0, 5.0, 123.0, 39.0, 58.0, 74.0, 194.0, 133.0, 150.0, 45.0, 132.0, 150.0, 172.0, 77.0, 20.0, 172.0, 90.0, 21.0, 96.0, 20.0, 83.0, 190.0, 91.0, 67.0, 110.0, 108.0, 71.0, 52.0, 158.0, 58.0, 180.0, 187.0, 79.0, 233.0, 56.0, 78.0, 117.0, 137.0, 42.0, 17.0, 123.0, 92.0, 140.0, 98.0, 102.0, 146.0, 115.0, 11.0, 129.0, 92.0, 127.0, 71.0, 45.0, 82.0, 177.0, 45.0, 27.0, 48.0, 69.0, 80.0, 31.0, 17.0, 23.0, 68.0, 79.0, 132.0, 145.0, 63.0, 44.0, 61.0, 51.0, 96.0, 22.0, 41.0, 92.0, 255.0, 178.0, 65.0, 136.0, 114.0, 122.0, 62.0, 13.0, 39.0, 118.0, 165.0, 89.0, 69.0, 85.0, 77.0, 85.0, 82.0, 93.0, 151.0, 77.0, 35.0, 134.0, 67.0, 27.0, 103.0, 134.0, 149.0, 30.0, 49.0, 82.0, 108.0, 90.0, 219.0, 84.0, 78.0, 115.0, 109.0, 110.0, 166.0, 58.0, 216.0, 69.0, 158.0, 23.0, 226.0, 27.0, 122.0, 75.0, 49.0, 199.0, 53.0, 110.0, 155.0, 91.0, 65.0, 116.0, 83.0, 121.0, 57.0, 109.0, 83.0, 58.0, 125.0, 229.0, 79.0, 188.0, 78.0, 68.0, 70.0, 106.0, 71.0, 77.0, 142.0, 82.0, 141.0, 117.0, 185.0, 90.0, 150.0, 96.0, 82.0, 22.0, 71.0, 183.0, 41.0, 24.0, 190.0, 193.0, 48.0, 94.0, 42.0, 28.0, 84.0, 77.0, 148.0, 145.0, 103.0, 117.0, 90.0, 110.0, 240.0, 116.0, 80.0, 50.0, 85.0, 144.0, 19.0, 132.0, 188.0, 35.0, 114.0, 84.0, 75.0, 39.0, 46.0, 39.0, 34.0, 94.0, 41.0, 93.0, 179.0, 34.0, 56.0, 65.0, 165.0, 95.0, 39.0, 113.0, 79.0, 85.0, 121.0, 80.0, 43.0, 108.0, 82.0, 89.0, 82.0, 54.0, 43.0, 218.0, 52.0, 171.0, 144.0, 58.0, 130.0, 134.0, 191.0, 56.0, 91.0, 92.0, 91.0, 112.0, 114.0, 144.0, 169.0, 213.0, 62.0, 25.0, 145.0, 62.0, 84.0, 70.0, 112.0, 89.0, 89.0, 66.0, 87.0, 55.0, 79.0, 40.0, 30.0, 42.0, 87.0, 88.0, 199.0, 18.0, 223.0, 35.0, 19.0, 114.0, 39.0, 23.0, 22.0, 54.0, 197.0, 54.0, 38.0, 48.0, 72.0, 29.0, 103.0, 41.0, 130.0, 103.0, 64.0, 28.0, 34.0, 23.0, 95.0, 39.0, 47.0, 145.0, 72.0, 45.0, 40.0, 50.0, 41.0, 67.0, 108.0, 30.0, 8.0, 11.0, 67.0, 87.0, 15.0, 48.0, 67.0, 61.0, 116.0, 111.0, 51.0, 45.0, 253.0, 65.0, 73.0, 49.0, 175.0, 60.0, 104.0, 30.0, 81.0, 43.0, 114.0, 120.0, 38.0, 17.0, 79.0, 145.0, 139.0, 43.0, 52.0, 96.0, 71.0, 26.0, 88.0, 49.0, 236.0, 19.0, 92.0, 20.0, 53.0, 68.0, 228.0, 27.0, 84.0, 79.0, 107.0, 104.0, 75.0, 42.0, 104.0, 14.0, 41.0, 11.0, 75.0, 54.0, 48.0, 46.0, 57.0, 80.0, 26.0, 26.0, 21.0, 38.0, 14.0, 116.0, 75.0, 42.0, 77.0, 48.0, 10.0, 9.0, 46.0, 65.0, 52.0, 110.0, 59.0, 21.0, 36.0, 57.0, 44.0, 21.0, 92.0, 8.0, 14.0, 99.0, 91.0, 91.0, 34.0, 114.0, 68.0, 34.0, 45.0, 29.0, 74.0, 66.0, 93.0, 46.0, 61.0, 72.0, 55.0, 82.0, 56.0, 58.0, 62.0, 103.0, 5.0, 34.0, 120.0, 70.0, 232.0, 57.0, 117.0, 92.0, 40.0, 50.0, 70.0, 129.0, 90.0, 47.0, 35.0, 40.0, 20.0, 28.0, 83.0, 104.0, 20.0, 201.0, 166.0, 116.0, 171.0, 26.0, 140.0, 27.0, 146.0, 63.0, 37.0, 42.0, 90.0, 69.0, 60.0, 51.0, 51.0, 36.0, 84.0, 13.0, 140.0, 55.0, 40.0, 112.0, 12.0, 45.0, 171.0, 68.0, 95.0, 59.0, 33.0, 96.0, 184.0, 49.0, 88.0, 61.0, 70.0, 29.0, 68.0, 62.0, 123.0, 50.0, 92.0, 127.0, 58.0, 47.0, 107.0, 67.0, 32.0, 27.0, 66.0, 68.0, 84.0, 56.0, 26.0, 27.0, 40.0, 42.0, 152.0, 10.0, 35.0, 14.0, 157.0, 99.0, 101.0, 104.0, 17.0, 35.0, 60.0, 34.0, 124.0, 72.0, 35.0, 80.0, 111.0, 29.0, 165.0, 139.0, 116.0, 63.0, 45.0, 106.0, 19.0, 12.0, 11.0, 99.0, 108.0, 125.0, 53.0, 228.0, 119.0, 61.0, 55.0, 28.0, 20.0, 118.0, 72.0, 37.0, 26.0, 44.0, 27.0, 15.0, 25.0, 16.0, 59.0, 67.0, 23.0, 123.0, 192.0, 181.0, 52.0, 97.0, 57.0, 48.0, 22.0, 26.0, 8.0, 156.0, 41.0, 12.0, 88.0, 126.0, 16.0, 20.0, 94.0, 48.0, 9.0, 29.0, 113.0, 20.0, 55.0, 71.0, 136.0, 84.0, 48.0, 62.0, 41.0, 22.0, 17.0, 9.0, 104.0, 57.0, 21.0, 74.0, 67.0, 86.0, 62.0, 52.0, 154.0, 63.0, 84.0, 136.0, 54.0, 99.0, 31.0, 156.0, 18.0, 77.0, 53.0, 24.0, 51.0, 12.0, 19.0, 83.0, 25.0, 22.0, 177.0, 15.0, 26.0, 15.0, 68.0, 46.0, 154.0, 207.0, 21.0, 39.0, 41.0, 66.0, 116.0, 56.0, 185.0, 49.0, 10.0, 49.0, 196.0, 106.0, 65.0, 52.0, 217.0, 62.0, 52.0, 140.0, 47.0, 62.0, 17.0, 193.0, 65.0, 154.0, 160.0, 43.0, 44.0, 26.0, 57.0, 46.0, 102.0, 33.0, 48.0, 38.0, 38.0, 170.0, 38.0, 14.0, 70.0, 41.0, 85.0, 161.0, 45.0, 121.0, 60.0, 135.0, 90.0, 231.0, 91.0, 193.0, 35.0, 138.0, 37.0, 17.0, 96.0, 90.0, 21.0, 45.0, 154.0, 34.0, 67.0, 110.0, 32.0, 67.0, 83.0, 132.0, 50.0, 46.0, 53.0, 28.0, 27.0, 48.0, 90.0, 107.0, 147.0, 41.0, 39.0, 21.0, 27.0, 29.0, 175.0, 116.0, 25.0, 10.0, 72.0, 57.0, 41.0, 107.0, 100.0, 41.0, 112.0, 28.0, 34.0, 32.0, 44.0, 235.0, 19.0, 91.0, 116.0, 113.0, 16.0, 67.0, 58.0, 120.0, 57.0, 55.0, 78.0, 131.0, 25.0, 164.0, 88.0, 118.0, 18.0, 4.0, 86.0, 14.0, 98.0, 158.0, 84.0, 16.0, 10.0, 103.0, 154.0, 224.0, 137.0, 89.0, 98.0, 199.0, 36.0, 8.0, 174.0, 122.0, 102.0, 147.0, 61.0, 26.0, 19.0, 64.0, 217.0, 98.0, 81.0, 215.0, 153.0, 88.0, 122.0, 203.0, 73.0, 161.0, 69.0, 53.0, 53.0, 207.0, 34.0, 134.0, 197.0, 74.0, 85.0, 126.0, 39.0, 18.0, 66.0, 28.0, 89.0, 135.0, 10.0, 177.0, 89.0, 113.0, 159.0, 148.0, 83.0, 116.0, 53.0, 46.0, 115.0, 107.0, 224.0, 81.0, 78.0, 162.0, 207.0, 46.0, 50.0, 137.0, 27.0, 95.0, 149.0, 63.0, 35.0, 239.0, 104.0, 45.0, 22.0, 71.0, 157.0, 24.0, 48.0, 170.0, 5.0, 55.0, 100.0, 28.0, 243.0, 66.0, 36.0, 62.0, 174.0, 80.0, 72.0, 153.0, 250.0, 111.0, 83.0, 99.0, 92.0, 32.0, 110.0, 102.0, 214.0, 34.0, 106.0, 17.0, 93.0, 115.0, 101.0, 153.0, 68.0, 161.0, 161.0, 139.0, 58.0, 42.0, 153.0, 155.0, 46.0, 168.0, 168.0, 28.0, 119.0, 247.0, 50.0, 41.0, 62.0, 123.0, 210.0, 50.0, 9.0, 109.0, 117.0, 57.0, 125.0, 151.0, 244.0, 78.0, 182.0, 94.0, 35.0, 102.0, 94.0, 57.0, 72.0, 236.0, 56.0, 73.0, 62.0, 103.0, 90.0, 13.0, 103.0, 20.0, 47.0, 39.0, 89.0, 132.0, 68.0, 148.0, 232.0, 47.0, 58.0, 55.0, 94.0, 232.0, 69.0, 100.0, 145.0, 221.0, 34.0, 79.0, 139.0, 51.0, 151.0, 153.0, 67.0, 65.0, 44.0, 244.0, 173.0, 117.0, 136.0, 115.0, 92.0, 119.0, 67.0, 187.0, 125.0, 70.0, 64.0, 69.0, 126.0, 7.0, 203.0, 135.0, 165.0, 42.0, 141.0, 103.0, 58.0, 222.0, 144.0, 87.0, 143.0, 108.0, 28.0, 14.0, 221.0, 47.0, 115.0, 48.0, 149.0, 89.0, 131.0, 195.0, 34.0, 53.0, 43.0, 121.0, 119.0, 189.0, 88.0, 143.0, 108.0, 92.0, 94.0, 115.0, 47.0, 160.0, 58.0, 91.0, 64.0, 95.0, 150.0, 100.0, 109.0, 63.0, 47.0, 200.0, 97.0, 102.0, 13.0, 60.0, 21.0, 63.0, 238.0, 66.0, 142.0, 127.0, 165.0, 88.0, 44.0, 70.0, 100.0, 156.0, 203.0, 104.0, 39.0, 110.0, 153.0, 40.0, 122.0, 57.0, 124.0, 88.0, 114.0, 94.0, 82.0, 105.0, 138.0, 39.0, 46.0, 168.0, 229.0, 30.0, 120.0, 73.0, 26.0, 45.0, 107.0, 129.0, 76.0, 21.0, 51.0, 256.0, 75.0, 86.0, 123.0, 246.0, 108.0, 85.0, 104.0, 109.0, 91.0, 112.0, 103.0, 186.0, 101.0, 234.0, 143.0, 94.0, 87.0, 92.0, 114.0, 40.0, 57.0, 143.0, 128.0, 66.0, 126.0, 132.0, 32.0, 126.0, 84.0, 123.0, 92.0, 39.0, 222.0, 67.0, 23.0, 86.0, 125.0, 103.0, 130.0, 45.0, 15.0, 147.0, 25.0, 168.0, 191.0, 83.0, 61.0, 22.0, 166.0, 84.0, 114.0, 18.0, 215.0, 13.0, 55.0, 130.0, 95.0, 13.0, 48.0, 71.0, 39.0, 158.0, 45.0, 176.0, 35.0, 5.0, 95.0, 100.0, 99.0, 15.0, 125.0, 78.0, 60.0, 216.0, 150.0, 51.0, 139.0, 108.0, 238.0, 51.0, 40.0, 54.0, 29.0, 40.0, 155.0, 47.0, 50.0, 14.0, 106.0, 32.0, 36.0, 104.0, 133.0, 238.0, 67.0, 90.0, 29.0, 117.0, 113.0, 164.0, 100.0, 60.0, 13.0, 110.0, 122.0, 91.0, 54.0, 229.0, 56.0, 101.0, 116.0, 61.0, 184.0, 169.0, 77.0, 25.0, 21.0, 139.0, 49.0, 145.0, 73.0, 59.0, 63.0, 75.0, 156.0, 51.0, 63.0, 59.0, 64.0, 76.0, 180.0, 154.0, 39.0, 4.0, 88.0, 59.0, 34.0, 26.0, 108.0, 89.0, 16.0, 22.0, 256.0, 226.0, 60.0, 29.0, 28.0, 87.0, 132.0, 34.0, 120.0, 137.0, 61.0, 36.0, 146.0, 156.0, 44.0, 148.0, 80.0, 74.0, 122.0, 109.0, 236.0, 56.0, 20.0, 109.0, 184.0, 156.0, 109.0, 215.0, 97.0, 118.0, 120.0, 49.0, 145.0, 86.0, 190.0, 20.0, 96.0, 51.0, 23.0, 12.0, 183.0, 90.0, 62.0, 59.0, 53.0, 114.0, 154.0, 84.0, 29.0, 78.0, 43.0, 67.0, 248.0, 170.0, 143.0, 36.0, 76.0, 94.0, 97.0, 190.0, 88.0, 55.0, 110.0, 121.0, 147.0, 48.0, 79.0, 108.0, 180.0, 169.0, 57.0, 212.0, 58.0, 84.0, 44.0, 222.0, 117.0, 46.0, 143.0, 112.0, 26.0, 31.0, 48.0, 189.0, 175.0, 68.0, 51.0, 56.0, 83.0, 121.0, 48.0, 95.0, 83.0, 93.0, 122.0, 64.0, 111.0, 186.0, 165.0, 98.0, 111.0, 67.0, 44.0, 173.0, 72.0, 67.0, 199.0, 82.0, 151.0, 114.0, 173.0, 54.0, 36.0, 83.0, 109.0, 115.0, 179.0, 99.0, 40.0, 143.0, 40.0, 177.0, 93.0, 96.0, 61.0, 113.0, 44.0, 239.0, 92.0, 110.0, 45.0, 109.0, 230.0, 58.0, 93.0, 16.0, 69.0, 236.0, 36.0, 121.0, 58.0, 213.0, 109.0, 161.0, 43.0, 111.0, 72.0, 42.0, 56.0, 189.0, 94.0, 168.0, 116.0, 87.0, 198.0, 138.0, 122.0, 79.0, 141.0, 136.0, 92.0, 128.0, 108.0, 117.0, 19.0, 77.0, 52.0, 94.0, 135.0, 142.0, 48.0, 84.0, 40.0, 120.0, 46.0, 244.0, 52.0, 46.0, 29.0, 187.0, 53.0, 26.0, 22.0, 36.0, 34.0, 94.0, 34.0, 141.0, 171.0, 134.0, 98.0, 71.0, 135.0, 119.0, 166.0, 10.0, 58.0, 80.0, 147.0, 35.0, 104.0, 40.0, 141.0, 47.0, 95.0, 252.0, 250.0, 99.0, 51.0, 31.0, 145.0, 214.0, 55.0, 62.0, 99.0, 209.0, 74.0, 90.0, 227.0, 130.0, 34.0, 57.0, 57.0, 27.0, 42.0, 111.0, 69.0, 255.0, 117.0, 73.0, 145.0, 186.0, 137.0, 64.0, 59.0, 229.0, 157.0, 248.0, 69.0, 195.0, 57.0, 18.0, 133.0, 50.0, 180.0, 188.0, 123.0, 34.0, 42.0, 63.0, 59.0, 4.0, 203.0, 81.0, 174.0, 22.0, 49.0, 173.0, 219.0, 28.0, 229.0, 44.0, 162.0, 55.0, 224.0, 31.0, 123.0, 231.0, 73.0, 256.0, 176.0, 74.0, 101.0, 224.0, 57.0, 114.0, 54.0, 122.0, 105.0, 106.0, 163.0, 29.0, 143.0, 78.0, 131.0, 151.0, 150.0, 74.0, 92.0, 201.0, 103.0, 92.0, 78.0, 81.0, 58.0, 130.0, 30.0, 10.0, 196.0, 148.0, 161.0, 121.0, 76.0, 100.0, 104.0, 57.0, 180.0, 95.0, 25.0, 155.0, 43.0, 166.0, 72.0, 96.0, 37.0, 80.0, 181.0, 143.0, 161.0, 52.0, 55.0, 188.0, 189.0, 131.0, 57.0, 131.0, 168.0, 65.0, 224.0, 111.0, 147.0, 10.0, 84.0, 108.0, 74.0, 49.0, 155.0, 194.0, 144.0, 82.0, 137.0, 137.0, 74.0, 102.0, 82.0, 202.0, 63.0, 56.0, 188.0, 38.0, 79.0, 58.0, 95.0, 47.0, 62.0, 14.0, 95.0, 120.0, 13.0, 92.0, 168.0, 131.0, 10.0, 210.0, 100.0, 131.0, 127.0, 133.0, 183.0, 156.0, 47.0, 106.0, 12.0, 29.0, 26.0, 53.0, 141.0, 112.0, 35.0, 130.0, 125.0, 165.0, 64.0, 113.0, 81.0, 43.0, 135.0, 125.0, 87.0, 137.0, 119.0, 60.0, 57.0, 139.0, 109.0, 58.0, 134.0, 137.0, 235.0, 114.0, 140.0, 28.0, 12.0, 131.0, 156.0, 50.0, 216.0, 85.0, 62.0, 158.0, 42.0, 119.0, 101.0, 122.0, 112.0, 160.0, 178.0, 99.0, 118.0, 39.0, 59.0, 142.0, 124.0, 58.0, 160.0, 39.0, 125.0, 52.0, 51.0, 79.0, 54.0, 214.0, 108.0, 173.0, 136.0, 149.0, 178.0, 64.0, 168.0, 99.0, 83.0, 46.0, 41.0, 231.0, 32.0, 139.0, 205.0, 148.0, 148.0, 85.0, 56.0, 29.0, 121.0, 208.0, 50.0, 27.0, 103.0, 111.0, 147.0, 75.0, 82.0, 140.0, 111.0, 94.0, 126.0, 65.0, 77.0, 94.0, 98.0, 33.0, 114.0, 63.0, 11.0, 25.0, 23.0, 74.0, 203.0, 227.0, 50.0, 85.0, 133.0, 176.0, 61.0, 39.0, 41.0, 27.0, 111.0, 101.0, 12.0, 56.0, 121.0, 52.0, 34.0, 55.0, 70.0, 128.0, 88.0, 239.0, 70.0, 195.0, 68.0, 178.0, 72.0, 115.0, 70.0, 65.0, 169.0, 27.0, 49.0, 137.0, 78.0, 84.0, 95.0, 73.0, 256.0, 99.0, 168.0, 166.0, 164.0, 172.0, 169.0, 170.0, 158.0, 52.0, 33.0, 158.0, 23.0, 127.0, 186.0, 15.0, 101.0, 47.0, 158.0, 121.0, 27.0, 143.0, 91.0, 16.0, 54.0, 136.0, 120.0, 124.0, 186.0, 94.0, 184.0, 204.0, 82.0, 113.0, 188.0, 112.0, 109.0, 203.0, 133.0, 121.0, 133.0, 252.0, 71.0, 19.0, 69.0, 11.0, 91.0, 110.0, 36.0, 117.0, 202.0, 163.0, 59.0, 20.0, 146.0, 49.0, 149.0, 139.0, 218.0, 141.0, 65.0, 84.0, 130.0, 176.0, 204.0, 194.0, 118.0, 107.0, 32.0, 164.0, 87.0, 38.0, 25.0, 215.0, 103.0, 142.0, 97.0, 72.0, 132.0, 14.0, 73.0, 145.0, 89.0, 36.0, 28.0, 81.0, 172.0, 134.0, 45.0, 148.0, 129.0, 207.0, 121.0, 75.0, 41.0, 96.0, 147.0, 34.0, 167.0, 79.0, 37.0, 165.0, 172.0, 92.0, 115.0, 83.0, 139.0, 86.0, 197.0, 110.0, 81.0, 13.0, 51.0, 56.0, 52.0, 67.0, 44.0, 68.0, 59.0, 93.0, 57.0, 236.0, 38.0, 238.0, 187.0, 256.0, 88.0, 63.0, 82.0, 115.0, 200.0, 166.0, 165.0, 132.0, 86.0, 30.0, 14.0, 41.0, 26.0, 102.0, 43.0, 58.0, 41.0, 40.0, 98.0, 7.0, 110.0, 28.0, 175.0, 75.0, 58.0, 25.0, 82.0, 129.0, 84.0, 230.0, 13.0, 16.0, 78.0, 18.0, 155.0, 103.0, 89.0, 52.0, 215.0, 43.0, 33.0, 65.0, 50.0, 43.0, 42.0, 65.0, 26.0, 228.0, 133.0, 49.0, 90.0, 154.0, 14.0, 18.0, 55.0, 112.0, 138.0, 167.0, 89.0, 179.0, 193.0, 120.0, 148.0, 112.0, 51.0, 175.0, 51.0, 172.0, 75.0, 155.0, 69.0, 200.0, 147.0, 92.0, 84.0, 85.0, 222.0, 101.0, 134.0, 54.0, 20.0, 106.0, 144.0, 153.0, 21.0, 115.0, 142.0, 90.0, 51.0, 129.0, 222.0, 53.0, 145.0, 155.0, 172.0, 169.0, 95.0, 101.0, 186.0, 19.0, 23.0, 60.0, 55.0, 167.0, 147.0, 49.0, 221.0, 42.0, 138.0, 207.0, 228.0, 109.0, 189.0, 88.0, 97.0, 76.0, 41.0, 184.0, 196.0, 59.0, 20.0, 100.0, 79.0, 18.0, 160.0, 202.0, 79.0, 118.0, 206.0, 68.0, 60.0, 11.0, 30.0, 100.0, 160.0, 127.0, 72.0, 22.0, 127.0, 126.0, 80.0, 77.0, 35.0, 175.0, 130.0, 125.0, 183.0, 103.0, 129.0, 47.0, 99.0, 41.0, 111.0, 82.0, 214.0, 231.0, 30.0, 88.0, 200.0, 43.0, 60.0, 34.0, 240.0, 118.0, 26.0, 107.0, 142.0, 209.0, 154.0, 71.0, 160.0, 84.0, 38.0, 10.0, 74.0, 102.0, 67.0, 95.0, 49.0, 69.0, 151.0, 55.0, 40.0, 62.0, 28.0, 29.0, 126.0, 225.0, 135.0, 144.0, 206.0, 84.0, 45.0, 51.0, 194.0, 38.0, 130.0, 100.0, 19.0, 109.0, 167.0, 76.0, 69.0, 216.0, 60.0, 144.0, 106.0, 95.0, 76.0, 63.0, 180.0, 195.0, 83.0, 146.0, 50.0, 18.0, 246.0, 66.0, 93.0, 115.0, 234.0, 32.0, 68.0, 20.0, 16.0, 139.0, 78.0, 65.0, 121.0, 55.0, 75.0, 217.0, 110.0, 111.0, 77.0, 89.0, 97.0, 230.0, 37.0, 14.0, 40.0, 178.0, 90.0, 167.0, 84.0, 16.0, 248.0, 131.0, 13.0, 118.0, 81.0, 168.0, 31.0, 41.0, 235.0, 148.0, 136.0, 98.0, 65.0, 109.0, 52.0, 67.0, 52.0, 210.0, 5.0, 119.0, 63.0, 131.0, 12.0, 93.0, 116.0, 68.0, 141.0, 94.0, 140.0, 235.0, 53.0, 51.0, 118.0, 59.0, 126.0, 110.0, 62.0, 136.0, 94.0, 113.0, 126.0, 67.0, 231.0, 117.0, 74.0, 58.0, 134.0, 52.0, 8.0, 26.0, 231.0, 146.0, 18.0, 66.0, 36.0, 75.0, 22.0, 72.0, 93.0, 25.0, 38.0, 197.0, 144.0, 130.0, 66.0, 139.0, 155.0, 118.0, 122.0, 62.0, 88.0, 93.0, 55.0, 220.0, 137.0, 150.0, 36.0, 114.0, 114.0, 146.0, 211.0, 95.0, 176.0, 134.0, 34.0, 171.0, 10.0, 107.0, 178.0, 103.0, 190.0, 103.0, 75.0, 141.0, 149.0, 64.0, 69.0, 83.0, 79.0, 19.0, 66.0, 86.0, 7.0, 84.0, 47.0, 178.0, 85.0, 90.0, 36.0, 189.0, 94.0, 95.0, 111.0, 171.0, 144.0, 224.0, 129.0, 59.0, 230.0, 156.0, 96.0, 51.0, 124.0, 82.0, 112.0, 51.0, 118.0, 89.0, 75.0, 81.0, 161.0, 164.0, 129.0, 154.0, 136.0, 131.0, 71.0, 120.0, 36.0, 228.0, 76.0, 219.0, 74.0, 83.0, 139.0, 161.0, 172.0, 173.0, 90.0, 46.0, 27.0, 32.0, 216.0, 51.0, 46.0, 44.0, 150.0, 110.0, 116.0, 105.0, 35.0, 52.0, 13.0, 152.0, 102.0, 93.0, 92.0, 152.0, 32.0, 77.0, 64.0, 182.0, 220.0, 137.0, 92.0, 45.0, 159.0, 119.0, 81.0, 97.0, 71.0, 102.0, 92.0, 107.0, 75.0, 104.0, 119.0, 254.0, 120.0, 62.0, 88.0, 43.0, 151.0, 43.0, 104.0, 160.0, 123.0, 47.0, 39.0, 90.0, 83.0, 235.0, 56.0, 39.0, 124.0, 49.0, 100.0, 220.0, 47.0, 171.0, 104.0, 158.0, 36.0, 63.0, 153.0, 49.0, 27.0, 42.0, 91.0, 148.0, 151.0, 60.0, 144.0, 41.0, 76.0, 135.0, 78.0, 169.0, 167.0, 109.0, 53.0, 140.0, 94.0, 43.0, 141.0, 24.0, 130.0, 162.0, 228.0, 53.0, 106.0, 125.0, 256.0, 74.0, 176.0, 29.0, 41.0, 239.0, 42.0, 62.0, 206.0, 152.0, 106.0, 23.0, 80.0, 99.0, 112.0, 29.0, 115.0, 68.0, 62.0, 101.0, 64.0, 47.0, 45.0, 121.0, 23.0, 18.0, 85.0, 56.0, 160.0, 166.0, 199.0, 127.0, 17.0, 45.0, 133.0, 75.0, 94.0, 235.0, 17.0, 118.0, 58.0, 147.0, 73.0, 203.0, 114.0, 86.0, 63.0, 12.0, 48.0, 81.0, 70.0, 81.0, 187.0, 128.0, 122.0, 59.0, 186.0, 118.0, 106.0, 180.0, 149.0, 61.0, 88.0, 63.0, 127.0, 152.0, 176.0, 146.0, 29.0, 28.0, 241.0, 249.0, 37.0, 89.0, 88.0, 111.0, 114.0, 98.0, 130.0, 54.0, 133.0, 119.0, 136.0, 219.0, 134.0, 186.0, 26.0, 196.0, 77.0, 194.0, 184.0, 160.0, 219.0, 148.0, 88.0, 182.0, 139.0, 15.0, 11.0, 108.0, 168.0, 128.0, 67.0, 197.0, 173.0, 85.0, 61.0, 224.0, 45.0, 88.0, 61.0, 61.0, 69.0, 98.0, 30.0, 59.0, 105.0, 99.0, 128.0, 106.0, 189.0, 73.0, 142.0, 163.0, 168.0, 63.0, 60.0, 38.0, 109.0, 170.0, 70.0, 224.0, 187.0, 61.0, 24.0, 103.0, 113.0, 110.0, 170.0, 50.0, 66.0, 125.0, 33.0, 140.0, 154.0, 62.0, 252.0, 91.0, 97.0, 118.0, 104.0, 172.0, 122.0, 137.0, 214.0, 212.0, 152.0, 230.0, 112.0, 130.0, 81.0, 64.0, 86.0, 127.0, 85.0, 109.0, 54.0, 129.0, 137.0, 48.0, 44.0, 240.0, 69.0, 94.0, 106.0, 83.0, 55.0, 127.0, 75.0, 144.0, 32.0, 126.0, 100.0, 69.0, 127.0, 93.0, 89.0, 56.0, 197.0, 107.0, 27.0, 46.0, 250.0, 60.0, 71.0, 114.0, 62.0, 241.0, 83.0, 44.0, 75.0, 104.0, 66.0, 86.0, 123.0, 111.0, 95.0, 78.0, 9.0, 63.0, 48.0, 79.0, 7.0, 67.0, 106.0, 88.0, 186.0, 104.0, 88.0, 148.0, 65.0, 147.0, 32.0, 33.0, 92.0, 58.0, 185.0, 58.0, 190.0, 95.0, 213.0, 44.0, 33.0, 38.0, 66.0, 63.0, 23.0, 83.0, 89.0, 47.0, 54.0, 107.0, 76.0, 29.0, 49.0, 205.0, 116.0, 153.0, 22.0, 231.0, 84.0, 87.0, 98.0, 198.0, 119.0, 61.0, 99.0, 210.0, 112.0, 48.0, 109.0, 28.0, 20.0, 93.0, 67.0, 77.0, 184.0, 243.0, 21.0, 23.0, 16.0, 118.0, 101.0, 196.0, 24.0, 186.0, 44.0, 51.0, 90.0, 70.0, 131.0, 25.0, 20.0, 47.0, 55.0, 65.0, 110.0, 73.0, 34.0, 41.0, 163.0, 52.0, 9.0, 164.0, 116.0, 42.0, 134.0, 24.0, 224.0, 39.0, 47.0, 210.0, 129.0, 153.0, 15.0, 156.0, 10.0, 95.0, 124.0, 203.0, 41.0, 162.0, 33.0, 51.0, 8.0, 124.0, 250.0, 142.0, 76.0, 6.0, 68.0, 54.0, 83.0, 49.0, 205.0, 152.0, 220.0, 59.0, 41.0, 141.0, 136.0, 76.0, 86.0, 38.0, 20.0, 179.0, 192.0, 69.0, 98.0, 94.0, 101.0, 50.0, 165.0, 154.0, 88.0, 22.0, 42.0, 188.0, 29.0, 115.0, 108.0, 116.0, 51.0, 107.0, 55.0, 107.0, 165.0, 90.0, 183.0, 44.0, 102.0, 89.0, 159.0, 108.0, 175.0, 63.0, 85.0, 19.0, 30.0, 128.0, 61.0, 139.0, 97.0, 120.0, 87.0, 170.0, 119.0, 21.0, 254.0, 189.0, 202.0, 43.0, 51.0, 28.0, 194.0, 59.0, 72.0, 169.0, 126.0, 66.0, 171.0, 136.0, 187.0, 170.0, 57.0, 45.0, 135.0, 77.0, 154.0, 83.0, 17.0, 128.0, 93.0, 93.0, 99.0, 111.0, 221.0, 66.0, 191.0, 9.0, 33.0, 15.0, 231.0, 21.0, 181.0, 122.0, 50.0, 22.0, 72.0, 111.0, 48.0, 170.0, 76.0, 62.0, 171.0, 83.0, 224.0, 156.0, 98.0, 188.0, 142.0, 55.0, 112.0, 60.0, 61.0, 125.0, 26.0, 199.0, 23.0, 6.0, 23.0, 131.0, 97.0, 144.0, 97.0, 70.0, 58.0, 116.0, 47.0, 73.0, 183.0, 62.0, 116.0, 28.0, 100.0, 54.0, 23.0, 62.0, 216.0, 103.0, 65.0, 136.0, 58.0, 21.0, 71.0, 14.0, 15.0, 61.0, 145.0, 218.0, 117.0, 120.0, 104.0, 23.0, 42.0, 9.0, 100.0, 30.0, 167.0, 40.0, 206.0, 108.0, 60.0, 45.0, 132.0, 25.0, 170.0, 26.0, 76.0, 47.0, 68.0, 36.0, 28.0, 122.0, 56.0, 126.0, 147.0, 57.0, 93.0, 38.0, 50.0, 179.0, 60.0, 143.0, 91.0, 123.0, 77.0, 15.0, 190.0, 177.0, 156.0, 46.0, 115.0, 95.0, 34.0, 213.0, 71.0, 84.0, 37.0, 79.0, 152.0, 20.0, 76.0, 77.0, 25.0, 85.0, 55.0, 63.0, 204.0, 114.0, 134.0, 112.0, 146.0, 170.0, 53.0, 59.0, 197.0, 87.0, 44.0, 185.0, 145.0, 53.0, 44.0, 112.0, 90.0, 124.0, 166.0, 71.0, 79.0, 146.0, 68.0, 41.0, 106.0, 37.0, 79.0, 113.0, 105.0, 190.0, 12.0, 65.0, 144.0, 110.0, 131.0, 163.0, 163.0, 66.0, 51.0, 48.0, 109.0, 79.0, 150.0, 86.0, 139.0, 17.0, 104.0, 96.0, 86.0, 91.0, 82.0, 114.0, 135.0, 79.0, 55.0, 48.0, 75.0, 78.0, 31.0, 123.0, 156.0, 58.0, 68.0, 137.0, 15.0, 141.0, 109.0, 80.0, 169.0, 224.0, 28.0, 37.0, 101.0, 41.0, 37.0, 62.0, 39.0, 53.0, 83.0, 39.0, 61.0, 183.0, 124.0, 131.0, 96.0, 26.0, 40.0, 73.0, 76.0, 125.0, 134.0, 106.0, 22.0, 227.0, 128.0, 192.0, 159.0, 246.0, 16.0, 235.0, 172.0, 146.0, 230.0, 112.0, 59.0, 64.0, 115.0, 149.0, 198.0, 27.0, 90.0, 45.0, 219.0, 55.0, 101.0, 73.0, 181.0, 108.0, 101.0, 38.0, 76.0, 80.0, 19.0, 65.0, 126.0, 143.0, 129.0, 73.0, 79.0, 78.0, 160.0, 93.0, 51.0, 67.0, 99.0, 98.0, 73.0, 171.0, 70.0, 81.0, 7.0, 29.0, 91.0, 85.0, 71.0, 78.0, 151.0, 9.0, 18.0, 84.0, 126.0, 256.0, 73.0, 53.0, 177.0, 196.0, 142.0, 56.0, 97.0, 65.0, 64.0, 76.0, 109.0, 145.0, 71.0, 140.0, 101.0, 100.0, 34.0, 123.0, 103.0, 87.0, 20.0, 148.0, 79.0, 144.0, 27.0, 158.0, 83.0, 50.0, 12.0, 180.0, 29.0, 128.0, 52.0, 210.0, 122.0, 93.0, 147.0, 205.0, 44.0, 87.0, 121.0, 113.0, 88.0, 100.0, 124.0, 157.0, 80.0, 160.0, 118.0, 101.0, 135.0, 88.0, 19.0, 115.0, 106.0, 60.0, 78.0, 21.0, 106.0, 76.0, 40.0, 159.0, 113.0, 168.0, 60.0, 132.0, 89.0, 103.0, 117.0, 33.0, 100.0, 161.0, 115.0, 137.0, 148.0, 83.0, 219.0, 111.0, 50.0, 139.0, 58.0, 23.0, 70.0, 25.0, 74.0, 228.0, 70.0, 103.0, 141.0, 26.0, 47.0, 61.0, 39.0, 91.0, 67.0, 75.0, 134.0, 14.0, 28.0, 98.0, 84.0, 133.0, 58.0, 53.0, 111.0, 35.0, 73.0, 128.0, 59.0, 222.0, 60.0, 30.0, 126.0, 162.0, 153.0, 113.0, 45.0, 17.0, 167.0, 134.0, 216.0, 28.0, 219.0, 112.0, 209.0, 45.0, 25.0, 43.0, 219.0, 76.0, 149.0, 141.0, 86.0, 136.0, 52.0, 176.0, 161.0, 128.0, 42.0, 117.0, 87.0, 112.0, 68.0, 45.0, 202.0, 99.0, 190.0, 17.0, 59.0, 77.0, 163.0, 58.0, 103.0, 93.0, 82.0, 122.0, 38.0, 192.0, 87.0, 128.0, 228.0, 20.0, 81.0, 109.0, 73.0, 73.0, 71.0, 39.0, 37.0, 57.0, 92.0, 139.0, 46.0, 42.0, 141.0, 49.0, 73.0, 45.0, 24.0, 12.0, 60.0, 59.0, 153.0, 154.0, 57.0, 133.0, 136.0, 87.0, 55.0, 83.0, 41.0, 88.0, 25.0, 94.0, 169.0, 192.0, 205.0, 172.0, 72.0, 89.0, 56.0, 20.0, 33.0, 66.0, 134.0, 39.0, 33.0, 10.0, 12.0, 92.0, 84.0, 52.0, 77.0, 38.0, 18.0, 58.0, 69.0, 179.0, 105.0, 234.0, 252.0, 33.0, 78.0, 100.0, 35.0, 149.0, 71.0, 46.0, 47.0, 38.0, 60.0, 120.0, 21.0, 82.0, 128.0, 46.0, 37.0, 126.0, 120.0, 37.0, 120.0, 135.0, 16.0, 22.0, 85.0, 78.0, 117.0, 10.0, 48.0, 146.0, 83.0, 36.0, 121.0, 125.0, 112.0, 9.0, 58.0, 161.0, 127.0, 106.0, 213.0, 23.0, 172.0, 174.0, 81.0, 19.0, 94.0, 45.0, 34.0, 135.0, 54.0, 63.0, 59.0, 27.0, 101.0, 97.0, 128.0, 38.0, 69.0, 169.0, 67.0, 119.0, 163.0, 111.0, 73.0, 28.0, 118.0, 216.0, 127.0, 67.0, 133.0, 33.0, 41.0, 102.0, 223.0, 44.0, 132.0, 180.0, 41.0, 34.0, 26.0, 101.0, 44.0, 44.0, 28.0, 119.0, 169.0, 38.0, 32.0, 37.0, 226.0, 89.0, 15.0, 152.0, 47.0, 82.0, 42.0, 93.0, 51.0, 199.0, 227.0, 9.0, 58.0, 72.0, 47.0, 74.0, 97.0, 90.0, 25.0, 44.0, 71.0, 154.0, 103.0, 163.0, 11.0, 114.0, 40.0, 93.0, 66.0, 137.0, 132.0, 89.0, 28.0, 44.0, 16.0, 190.0, 110.0, 71.0, 38.0, 140.0, 71.0, 80.0, 75.0, 115.0, 87.0, 30.0, 52.0, 86.0, 98.0, 76.0, 26.0, 50.0, 165.0, 104.0, 127.0, 46.0, 79.0, 76.0, 53.0, 99.0, 97.0, 78.0, 37.0, 48.0, 49.0, 186.0, 26.0, 128.0, 74.0, 97.0, 90.0, 181.0, 59.0, 183.0, 64.0, 115.0, 183.0, 102.0, 110.0, 108.0, 126.0, 200.0, 51.0, 46.0, 162.0, 131.0, 26.0, 164.0, 72.0, 215.0, 153.0, 64.0, 67.0, 61.0, 217.0, 150.0, 55.0, 106.0, 83.0, 36.0, 78.0, 35.0, 187.0, 80.0, 48.0, 75.0, 73.0, 64.0, 87.0, 34.0, 36.0, 104.0, 80.0, 119.0, 95.0, 62.0, 171.0, 34.0, 112.0, 57.0, 119.0, 86.0, 137.0, 218.0, 209.0, 140.0, 7.0, 56.0, 70.0, 109.0, 120.0, 68.0, 40.0, 36.0, 109.0, 153.0, 90.0, 135.0, 245.0, 92.0, 82.0, 59.0, 33.0, 127.0, 103.0, 116.0, 123.0, 74.0, 113.0, 50.0, 111.0, 116.0, 136.0, 116.0, 91.0, 36.0, 27.0, 103.0, 109.0, 73.0, 70.0, 37.0, 151.0, 90.0, 48.0, 122.0, 193.0, 87.0, 97.0, 45.0, 22.0, 94.0, 95.0, 172.0, 101.0, 89.0, 24.0, 82.0, 188.0, 156.0, 64.0, 25.0, 124.0, 58.0, 83.0, 74.0, 63.0, 25.0, 179.0, 39.0, 60.0, 171.0, 240.0, 21.0, 98.0, 145.0, 176.0, 107.0, 61.0, 150.0, 119.0, 152.0, 86.0, 97.0, 50.0, 108.0, 174.0, 58.0, 75.0, 81.0, 64.0, 102.0, 94.0, 78.0, 145.0, 41.0, 52.0, 76.0, 121.0, 162.0, 93.0, 88.0, 10.0, 31.0, 157.0, 50.0, 111.0, 31.0, 78.0, 76.0, 15.0, 57.0, 37.0, 113.0, 105.0, 98.0, 109.0, 71.0, 62.0, 97.0, 62.0, 69.0, 62.0, 113.0, 24.0, 197.0, 91.0, 50.0, 62.0, 51.0, 91.0, 144.0, 61.0, 10.0, 233.0, 129.0, 105.0, 60.0, 96.0, 78.0, 145.0, 58.0, 143.0, 72.0, 54.0, 130.0, 89.0, 111.0, 109.0, 250.0, 183.0, 66.0, 58.0, 50.0, 101.0, 120.0, 90.0, 141.0, 104.0, 60.0, 70.0, 10.0, 41.0, 98.0, 123.0, 79.0, 63.0, 58.0, 68.0, 32.0, 78.0, 78.0, 54.0, 39.0, 65.0, 102.0, 113.0, 112.0, 29.0, 142.0, 111.0, 168.0, 165.0, 94.0, 100.0, 138.0, 197.0, 67.0, 94.0, 111.0, 68.0, 137.0, 60.0, 107.0, 79.0, 67.0, 18.0, 112.0, 99.0, 64.0, 55.0, 207.0, 86.0, 245.0, 63.0, 41.0, 43.0, 184.0, 72.0, 77.0, 173.0, 97.0, 210.0, 62.0, 110.0, 72.0, 59.0, 110.0, 202.0, 164.0, 87.0, 61.0, 55.0, 77.0, 107.0, 147.0, 115.0, 50.0, 60.0, 88.0, 125.0, 21.0, 24.0, 31.0, 168.0, 35.0, 47.0, 96.0, 150.0, 48.0, 167.0, 127.0, 146.0, 102.0, 115.0, 118.0, 126.0, 225.0, 71.0, 89.0, 90.0, 204.0, 162.0, 131.0, 189.0, 64.0, 90.0, 43.0, 23.0, 50.0, 67.0, 90.0, 63.0, 104.0, 58.0, 168.0, 51.0, 21.0, 227.0, 110.0, 122.0, 50.0, 139.0, 43.0, 211.0, 18.0, 10.0, 62.0, 146.0, 133.0, 106.0, 173.0, 18.0, 104.0, 76.0, 36.0, 41.0, 24.0, 162.0, 98.0, 56.0, 151.0, 220.0, 151.0, 139.0, 36.0, 189.0, 103.0, 119.0, 65.0, 72.0, 72.0, 38.0, 91.0, 63.0, 118.0, 92.0, 52.0, 121.0, 142.0, 44.0, 177.0, 127.0, 43.0, 167.0, 93.0, 155.0, 120.0, 141.0, 196.0, 182.0, 109.0, 162.0, 88.0, 92.0, 235.0, 224.0, 239.0, 67.0, 54.0, 115.0, 175.0, 38.0, 46.0, 36.0, 111.0, 197.0, 170.0, 166.0, 13.0, 38.0, 171.0, 221.0, 55.0, 145.0, 121.0, 106.0, 86.0, 128.0, 82.0, 58.0, 64.0, 226.0, 24.0, 156.0, 189.0, 30.0, 89.0, 64.0, 50.0, 38.0, 101.0, 154.0, 115.0, 85.0, 44.0, 67.0, 88.0, 61.0, 141.0, 57.0, 202.0, 105.0, 162.0, 123.0, 109.0, 72.0, 82.0, 23.0, 196.0, 171.0, 65.0, 159.0, 44.0, 56.0, 46.0, 75.0, 106.0, 172.0, 34.0, 72.0, 112.0, 124.0, 212.0, 139.0, 119.0, 163.0, 232.0, 46.0, 237.0, 34.0, 41.0, 68.0, 61.0, 80.0, 33.0, 135.0, 73.0, 84.0, 178.0, 177.0, 215.0, 184.0, 223.0, 103.0, 10.0, 72.0, 49.0, 157.0, 105.0, 79.0, 59.0, 66.0, 77.0, 108.0, 203.0, 252.0, 47.0, 36.0, 30.0, 27.0, 162.0, 44.0, 116.0, 245.0, 174.0, 65.0, 76.0, 94.0, 15.0, 110.0, 113.0, 30.0, 226.0, 119.0, 177.0, 94.0, 207.0, 156.0, 105.0, 77.0, 95.0, 83.0, 216.0, 170.0, 142.0, 57.0, 123.0, 69.0, 119.0, 35.0, 63.0, 39.0, 70.0, 77.0, 164.0, 130.0, 130.0, 108.0, 122.0, 21.0, 71.0, 87.0, 60.0, 55.0, 122.0, 74.0, 17.0, 186.0, 107.0, 42.0, 97.0, 22.0, 43.0, 225.0, 137.0, 101.0, 173.0, 78.0, 86.0, 71.0, 138.0, 137.0, 111.0, 29.0, 151.0, 209.0, 71.0, 71.0, 17.0, 107.0, 82.0, 56.0, 79.0, 49.0, 42.0, 32.0, 85.0, 126.0, 92.0, 193.0, 199.0, 92.0, 42.0, 62.0, 123.0, 39.0, 134.0, 62.0, 95.0, 98.0, 100.0, 92.0, 60.0, 220.0, 82.0, 74.0, 152.0, 174.0, 72.0, 78.0, 102.0, 254.0, 10.0, 118.0, 99.0, 42.0, 58.0, 96.0, 205.0, 73.0, 63.0, 25.0, 158.0, 85.0, 72.0, 134.0, 46.0, 145.0, 65.0, 246.0, 35.0, 126.0, 26.0, 78.0, 193.0, 244.0, 99.0, 110.0, 173.0, 87.0, 50.0, 247.0, 138.0, 115.0, 38.0, 116.0, 70.0, 174.0, 184.0, 128.0, 130.0, 219.0, 108.0, 30.0, 95.0, 44.0, 122.0, 64.0, 161.0, 100.0, 65.0, 64.0, 164.0, 198.0, 39.0, 53.0, 62.0, 231.0, 76.0, 123.0, 42.0, 23.0, 55.0, 134.0, 95.0, 39.0, 87.0, 69.0, 48.0, 11.0, 21.0, 20.0, 65.0, 120.0, 131.0, 24.0, 155.0, 112.0, 55.0, 72.0, 31.0, 132.0, 233.0, 33.0, 23.0, 30.0, 37.0, 64.0, 158.0, 42.0, 23.0, 139.0, 23.0, 52.0, 83.0, 52.0, 87.0, 78.0, 43.0, 40.0, 95.0, 196.0, 29.0, 36.0, 23.0, 167.0, 44.0, 18.0, 49.0, 46.0, 39.0, 111.0, 9.0, 91.0, 49.0, 14.0, 9.0, 17.0, 23.0, 115.0, 10.0, 19.0, 97.0, 31.0, 81.0, 17.0, 23.0, 66.0, 11.0, 48.0, 75.0, 64.0, 32.0, 17.0, 14.0, 37.0, 37.0, 37.0, 19.0, 43.0, 14.0, 79.0, 125.0, 32.0, 98.0, 101.0, 45.0, 77.0, 122.0, 42.0, 139.0, 47.0, 54.0, 48.0, 8.0, 33.0, 161.0, 48.0, 109.0, 22.0, 117.0, 45.0, 84.0, 62.0, 87.0, 67.0, 38.0, 45.0, 16.0, 27.0, 15.0, 50.0, 39.0, 138.0, 62.0, 42.0, 52.0, 51.0, 31.0, 32.0, 7.0, 109.0, 47.0, 13.0, 142.0, 99.0, 107.0, 19.0, 94.0, 122.0, 16.0, 34.0, 67.0, 136.0, 22.0, 84.0, 66.0, 111.0, 38.0, 229.0, 17.0, 73.0, 8.0, 94.0, 19.0, 30.0, 25.0, 38.0, 190.0, 108.0, 228.0, 30.0, 19.0, 178.0, 53.0, 15.0, 44.0, 75.0, 30.0, 57.0, 27.0, 63.0, 36.0, 64.0, 72.0, 115.0, 27.0, 46.0, 34.0, 54.0, 17.0, 112.0, 47.0, 38.0, 25.0, 99.0, 74.0, 64.0, 51.0, 32.0, 59.0, 115.0, 82.0, 10.0, 190.0, 95.0, 155.0, 17.0, 63.0, 229.0, 13.0, 89.0, 21.0, 114.0, 156.0, 69.0, 102.0, 15.0, 72.0, 17.0, 14.0, 59.0, 9.0, 52.0, 105.0, 132.0, 11.0, 194.0, 56.0, 28.0, 33.0, 46.0, 14.0, 192.0, 39.0, 73.0, 49.0, 151.0, 61.0, 32.0, 40.0, 72.0, 110.0, 200.0, 212.0, 79.0, 80.0, 46.0, 35.0, 138.0, 56.0, 10.0, 80.0, 65.0, 138.0, 84.0, 63.0, 48.0, 13.0, 12.0, 7.0, 161.0, 183.0, 203.0, 49.0, 201.0, 91.0, 200.0, 187.0, 61.0, 14.0, 26.0, 140.0, 49.0, 10.0, 68.0, 97.0, 9.0, 13.0, 79.0, 41.0, 95.0, 109.0, 150.0, 139.0, 10.0, 57.0, 76.0, 85.0, 119.0, 74.0, 70.0, 39.0, 139.0, 29.0, 15.0, 31.0, 69.0, 60.0, 46.0, 222.0, 243.0, 10.0, 13.0, 81.0, 61.0, 71.0, 50.0, 81.0, 53.0, 43.0, 55.0, 17.0, 56.0, 75.0, 38.0, 52.0, 116.0, 125.0, 63.0, 96.0, 19.0, 35.0, 132.0, 82.0, 106.0, 82.0, 15.0, 109.0, 118.0, 54.0, 23.0, 31.0, 12.0, 112.0, 88.0, 37.0, 95.0, 33.0, 29.0, 145.0, 29.0, 21.0, 26.0, 202.0, 29.0, 149.0, 225.0, 20.0, 112.0, 27.0, 33.0, 43.0, 25.0, 14.0, 126.0, 13.0, 42.0, 71.0, 13.0, 31.0, 62.0, 8.0, 116.0, 171.0, 20.0, 117.0, 214.0, 65.0, 49.0, 70.0, 140.0, 72.0, 27.0, 123.0, 7.0, 94.0, 239.0, 92.0, 22.0, 23.0, 105.0, 56.0, 94.0, 100.0, 202.0, 98.0, 39.0, 68.0, 75.0, 91.0, 110.0, 69.0, 18.0, 18.0, 16.0, 53.0, 16.0, 50.0, 92.0, 96.0, 60.0, 79.0, 53.0, 103.0, 131.0, 131.0, 7.0, 44.0, 38.0, 215.0, 41.0, 12.0, 12.0, 70.0, 19.0, 127.0, 18.0, 160.0, 92.0, 122.0, 92.0, 7.0, 134.0, 92.0, 17.0, 124.0, 70.0, 40.0, 46.0, 35.0, 95.0, 28.0, 196.0, 80.0, 24.0, 103.0, 141.0, 120.0, 56.0, 7.0, 7.0, 81.0, 121.0, 89.0, 118.0, 80.0, 151.0, 217.0, 77.0, 58.0, 63.0, 62.0, 56.0, 164.0, 114.0, 31.0, 54.0, 181.0, 50.0, 209.0, 100.0, 161.0, 29.0, 103.0, 184.0, 153.0, 9.0, 50.0, 71.0, 44.0, 60.0, 203.0, 90.0, 91.0, 34.0, 70.0, 65.0, 48.0, 44.0, 64.0, 40.0, 164.0, 192.0, 106.0, 64.0, 54.0, 156.0, 27.0, 53.0, 151.0, 56.0, 96.0, 155.0, 48.0, 59.0, 216.0, 31.0, 123.0, 84.0, 78.0, 156.0, 91.0, 69.0, 100.0, 73.0, 92.0, 151.0, 10.0, 40.0, 89.0, 85.0, 115.0, 133.0, 207.0, 197.0, 122.0, 213.0, 154.0, 16.0, 94.0, 92.0, 98.0, 112.0, 200.0, 163.0, 141.0, 209.0, 44.0, 54.0, 66.0, 119.0, 81.0, 23.0, 89.0, 28.0, 82.0, 125.0, 157.0, 142.0, 122.0, 223.0, 132.0, 34.0, 75.0, 62.0, 143.0, 48.0, 85.0, 82.0, 86.0, 128.0, 122.0, 135.0, 201.0, 87.0, 50.0, 45.0, 119.0, 86.0, 85.0, 123.0, 163.0, 151.0, 32.0, 152.0, 69.0, 110.0, 163.0, 91.0, 143.0, 147.0, 67.0, 67.0, 22.0, 116.0, 165.0, 45.0, 114.0, 75.0, 183.0, 88.0, 131.0, 84.0, 57.0, 107.0, 56.0, 104.0, 86.0, 136.0, 126.0, 116.0, 214.0, 157.0, 195.0, 37.0, 162.0, 237.0, 114.0, 72.0, 158.0, 106.0, 113.0, 108.0, 57.0, 72.0, 89.0, 114.0, 75.0, 194.0, 113.0, 184.0, 65.0, 122.0, 118.0, 188.0, 140.0, 109.0, 154.0, 15.0, 103.0, 85.0, 134.0, 107.0, 83.0, 132.0, 137.0, 130.0, 161.0, 129.0, 72.0, 91.0, 73.0, 197.0, 51.0, 98.0, 64.0, 74.0, 188.0, 55.0, 78.0, 33.0, 111.0, 84.0, 96.0, 79.0, 246.0, 33.0, 55.0, 65.0, 231.0, 73.0, 148.0, 66.0, 100.0, 113.0, 136.0, 98.0, 188.0, 126.0, 250.0, 126.0, 58.0, 250.0, 62.0, 66.0, 114.0, 80.0, 77.0, 132.0, 141.0, 41.0, 129.0, 143.0, 41.0, 177.0, 137.0, 6.0, 25.0, 222.0, 19.0, 58.0, 118.0, 116.0, 42.0, 197.0, 214.0, 152.0, 103.0, 81.0, 74.0, 80.0, 39.0, 65.0, 105.0, 118.0, 62.0, 145.0, 70.0, 93.0, 112.0, 199.0, 130.0, 91.0, 92.0, 47.0, 134.0, 18.0, 189.0, 169.0, 234.0, 86.0, 35.0, 22.0, 59.0, 93.0, 73.0, 141.0, 11.0, 55.0, 183.0, 122.0, 83.0, 91.0, 16.0, 59.0, 52.0, 161.0, 13.0, 180.0, 152.0, 157.0, 120.0, 171.0, 28.0, 107.0, 21.0, 132.0, 68.0, 157.0, 85.0, 71.0, 59.0, 121.0, 101.0, 119.0, 65.0, 40.0, 172.0, 59.0, 65.0, 13.0, 27.0, 14.0, 17.0, 142.0, 24.0, 67.0, 44.0, 101.0, 39.0, 12.0, 38.0, 138.0, 123.0, 38.0, 108.0, 8.0, 84.0, 46.0, 56.0, 15.0, 141.0, 232.0, 16.0, 18.0, 110.0, 85.0, 98.0, 29.0, 232.0, 128.0, 84.0, 73.0, 90.0, 61.0, 101.0, 91.0, 145.0, 206.0, 219.0, 122.0, 101.0, 138.0, 174.0, 70.0, 91.0, 128.0, 90.0, 106.0, 60.0, 94.0, 28.0, 85.0, 18.0, 133.0, 98.0, 189.0, 15.0, 111.0, 32.0, 44.0, 103.0, 145.0, 111.0, 133.0, 29.0, 154.0, 59.0, 165.0, 30.0, 48.0, 191.0, 93.0, 95.0, 175.0, 157.0, 76.0, 46.0, 95.0, 28.0, 20.0, 26.0, 196.0, 73.0, 95.0, 87.0, 78.0, 70.0, 66.0, 73.0, 144.0, 69.0, 146.0, 73.0, 211.0, 50.0, 80.0, 153.0, 58.0, 46.0, 62.0, 68.0, 166.0, 114.0, 49.0, 127.0, 106.0, 134.0, 70.0, 116.0, 88.0, 198.0, 89.0, 143.0, 59.0, 199.0, 154.0, 82.0, 51.0, 126.0, 52.0, 135.0, 63.0, 85.0, 70.0, 79.0, 111.0, 185.0, 212.0, 115.0, 170.0, 70.0, 198.0, 101.0, 23.0, 106.0, 132.0, 40.0, 32.0, 160.0, 145.0, 34.0, 13.0, 62.0, 135.0, 128.0, 76.0, 26.0, 68.0, 180.0, 42.0, 21.0, 196.0, 144.0, 132.0, 56.0, 195.0, 166.0, 182.0, 155.0, 51.0, 83.0, 129.0, 169.0, 238.0, 152.0, 91.0, 47.0, 155.0, 30.0, 44.0, 28.0, 32.0, 105.0, 37.0, 64.0, 85.0, 128.0, 104.0, 14.0, 94.0, 151.0, 28.0, 170.0, 153.0, 106.0, 174.0, 92.0, 107.0, 93.0, 14.0, 36.0, 65.0, 48.0, 237.0, 223.0, 149.0, 83.0, 251.0, 81.0, 157.0, 45.0, 139.0, 45.0, 79.0, 70.0, 149.0, 89.0, 115.0, 75.0, 106.0, 67.0, 13.0, 70.0, 154.0, 250.0, 109.0, 70.0, 58.0, 87.0, 120.0, 122.0, 128.0, 201.0, 194.0, 142.0, 59.0, 158.0, 84.0, 76.0, 129.0, 169.0, 131.0, 54.0, 79.0, 85.0, 124.0, 45.0, 254.0, 147.0, 60.0, 195.0, 106.0, 91.0, 51.0, 92.0, 91.0, 17.0, 75.0, 139.0, 206.0, 58.0, 49.0, 42.0, 168.0, 72.0, 127.0, 132.0, 88.0, 63.0, 68.0, 138.0, 154.0, 79.0, 84.0, 145.0, 120.0, 121.0, 204.0, 71.0, 177.0, 132.0, 161.0, 94.0, 135.0, 165.0, 76.0, 59.0, 91.0, 14.0, 40.0, 69.0, 100.0, 81.0, 74.0, 34.0, 75.0, 45.0, 66.0, 87.0, 90.0, 84.0, 110.0, 102.0, 74.0, 58.0, 10.0, 109.0, 81.0, 37.0, 161.0, 97.0, 209.0, 125.0, 46.0, 44.0, 24.0, 40.0, 79.0, 82.0, 94.0, 162.0, 105.0, 54.0, 93.0, 129.0, 83.0, 32.0, 92.0, 73.0, 123.0, 12.0, 60.0, 131.0, 99.0, 61.0, 73.0, 78.0, 154.0, 117.0, 135.0, 137.0, 79.0, 95.0, 114.0, 88.0, 94.0, 10.0, 110.0, 78.0, 42.0, 72.0, 112.0, 73.0, 140.0, 92.0, 10.0, 38.0, 72.0, 109.0, 123.0, 64.0, 184.0, 236.0, 104.0, 219.0, 74.0, 95.0, 91.0, 87.0, 150.0, 88.0, 67.0, 114.0, 59.0, 65.0, 44.0, 120.0, 137.0, 97.0, 133.0, 172.0, 148.0, 119.0, 97.0, 120.0, 105.0, 198.0, 162.0, 113.0, 46.0, 111.0, 98.0, 129.0, 80.0, 48.0, 80.0, 92.0, 12.0, 90.0, 84.0, 89.0, 206.0, 144.0, 45.0, 121.0, 87.0, 69.0, 56.0, 212.0, 165.0, 25.0, 82.0, 49.0, 60.0, 145.0, 142.0, 206.0, 56.0, 91.0, 110.0, 37.0, 52.0, 148.0, 46.0, 67.0, 84.0, 74.0, 38.0, 74.0, 152.0, 36.0, 207.0, 128.0, 15.0, 32.0, 95.0, 89.0, 92.0, 53.0, 131.0, 115.0, 54.0, 28.0, 102.0, 101.0, 93.0, 115.0, 14.0, 52.0, 122.0, 63.0, 209.0, 46.0, 87.0, 47.0, 114.0, 151.0, 18.0, 168.0, 109.0, 12.0, 112.0, 96.0, 219.0, 112.0, 119.0, 151.0, 32.0, 120.0, 76.0, 96.0, 75.0, 129.0, 93.0, 74.0, 75.0, 143.0, 53.0, 52.0, 158.0, 69.0, 163.0, 169.0, 79.0, 94.0, 100.0, 8.0, 88.0, 170.0, 112.0, 42.0, 54.0, 105.0, 112.0, 68.0, 112.0, 129.0, 150.0, 103.0, 150.0, 120.0, 86.0, 211.0, 85.0, 65.0, 45.0, 54.0, 117.0, 27.0, 119.0, 130.0, 98.0, 32.0, 206.0, 250.0, 38.0, 90.0, 12.0, 114.0, 133.0, 54.0, 147.0, 61.0, 164.0, 148.0, 28.0, 70.0, 163.0, 152.0, 147.0, 156.0, 116.0, 54.0, 46.0, 16.0, 97.0, 12.0, 22.0, 88.0, 64.0, 81.0, 128.0, 136.0, 161.0, 85.0, 74.0, 104.0, 139.0, 85.0, 16.0, 182.0, 23.0, 77.0, 121.0, 20.0, 18.0, 55.0, 76.0, 116.0, 181.0, 137.0, 118.0, 66.0, 145.0, 192.0, 206.0, 79.0, 143.0, 64.0, 131.0, 80.0, 118.0, 37.0, 158.0, 148.0, 103.0, 116.0, 89.0, 85.0, 180.0, 127.0, 143.0, 145.0, 75.0, 168.0, 74.0, 173.0, 141.0, 68.0, 117.0, 253.0, 175.0, 67.0, 123.0, 196.0, 153.0, 117.0, 13.0, 4.0, 5.0, 15.0, 4.0, 9.0, 9.0, 71.0, 94.0, 86.0, 103.0, 73.0, 127.0, 103.0, 104.0, 58.0, 10.0, 19.0, 19.0, 19.0, 156.0, 117.0, 149.0, 129.0, 25.0, 17.0, 107.0, 127.0, 176.0, 64.0, 59.0, 86.0, 84.0, 104.0, 130.0, 19.0, 147.0, 125.0, 129.0, 13.0, 124.0, 23.0, 100.0, 106.0, 116.0, 84.0, 104.0, 21.0, 22.0, 151.0, 24.0, 124.0, 214.0, 50.0, 125.0, 109.0, 104.0, 116.0, 37.0, 118.0, 66.0, 136.0, 67.0, 77.0, 118.0, 134.0, 35.0, 88.0, 47.0, 160.0, 136.0, 67.0, 93.0, 46.0, 82.0, 137.0, 80.0, 78.0, 126.0, 26.0, 129.0, 233.0, 151.0, 51.0, 115.0, 39.0, 17.0, 112.0, 115.0, 204.0, 52.0, 153.0, 62.0, 124.0, 56.0, 12.0, 26.0, 190.0, 105.0, 151.0, 33.0, 144.0, 52.0, 121.0, 98.0, 126.0, 100.0, 12.0, 107.0, 31.0, 108.0, 34.0, 142.0, 133.0, 147.0, 111.0, 203.0, 82.0, 118.0, 65.0, 101.0, 123.0, 81.0, 89.0, 25.0, 87.0, 145.0, 88.0, 115.0, 177.0, 12.0, 143.0, 192.0, 132.0, 100.0, 141.0, 101.0, 97.0, 62.0, 133.0, 220.0, 72.0, 114.0, 13.0, 146.0, 30.0, 14.0, 62.0, 78.0, 119.0, 105.0, 121.0, 152.0, 35.0, 114.0, 83.0, 131.0, 132.0, 153.0, 70.0, 72.0, 52.0, 68.0, 31.0, 42.0, 92.0, 67.0, 60.0, 52.0, 41.0, 44.0, 66.0, 132.0, 27.0, 133.0, 219.0, 190.0, 147.0, 167.0, 42.0, 35.0, 215.0, 30.0, 24.0, 70.0, 72.0, 149.0, 15.0, 48.0, 86.0, 81.0, 179.0, 60.0, 164.0, 98.0, 66.0, 56.0, 116.0, 145.0, 23.0, 89.0, 76.0, 83.0, 10.0, 63.0, 93.0, 139.0, 89.0, 73.0, 54.0, 207.0, 49.0, 115.0, 58.0, 120.0, 133.0, 83.0, 53.0, 15.0, 44.0, 135.0, 96.0, 180.0, 156.0, 181.0, 120.0, 121.0, 165.0, 139.0, 89.0, 64.0, 125.0, 39.0, 40.0, 177.0, 169.0, 68.0, 54.0, 70.0, 75.0, 113.0, 209.0, 45.0, 172.0, 163.0, 141.0, 52.0, 23.0, 78.0, 81.0, 26.0, 55.0, 144.0, 113.0, 185.0, 147.0, 112.0, 112.0, 67.0, 24.0, 109.0, 100.0, 105.0, 154.0, 141.0, 139.0, 183.0, 11.0, 101.0, 70.0, 31.0, 87.0, 79.0, 223.0, 90.0, 215.0, 225.0, 246.0, 14.0, 177.0, 168.0, 136.0, 97.0, 16.0, 255.0, 21.0, 99.0, 125.0, 133.0, 237.0, 120.0, 118.0, 223.0, 101.0, 43.0, 192.0, 22.0, 99.0, 18.0, 54.0, 69.0, 86.0, 141.0, 123.0, 153.0, 201.0, 90.0, 24.0, 114.0, 97.0, 161.0, 90.0, 59.0, 217.0, 37.0, 109.0, 140.0, 56.0, 168.0, 87.0, 211.0, 53.0, 108.0, 122.0, 80.0, 110.0, 171.0, 91.0, 55.0, 111.0, 162.0, 99.0, 65.0, 122.0, 126.0, 42.0, 41.0, 38.0, 174.0, 144.0, 99.0, 108.0, 77.0, 18.0, 170.0, 120.0, 91.0, 193.0, 149.0, 54.0, 106.0, 199.0, 45.0, 203.0, 174.0, 27.0, 68.0, 142.0, 93.0, 90.0, 85.0, 152.0, 236.0, 160.0, 180.0, 71.0, 135.0, 117.0, 81.0, 141.0, 189.0, 129.0, 85.0, 129.0, 122.0, 203.0, 72.0, 39.0, 197.0, 18.0, 50.0, 74.0, 71.0, 22.0, 73.0, 251.0, 25.0, 89.0, 49.0, 81.0, 147.0, 66.0, 79.0, 104.0, 107.0, 19.0, 49.0, 34.0, 234.0, 53.0, 62.0, 69.0, 96.0, 101.0, 23.0, 100.0, 155.0, 107.0, 153.0, 49.0, 30.0, 44.0, 16.0, 91.0, 78.0, 173.0, 152.0, 88.0, 147.0, 129.0, 87.0, 121.0, 113.0, 103.0, 133.0, 96.0, 144.0, 158.0, 148.0, 41.0, 228.0, 114.0, 36.0, 174.0, 23.0, 110.0, 10.0, 59.0, 246.0, 137.0, 74.0, 109.0, 27.0, 14.0, 46.0, 32.0, 89.0, 63.0, 120.0, 156.0, 28.0, 115.0, 94.0, 202.0, 99.0, 34.0, 104.0, 20.0, 43.0, 172.0, 84.0, 190.0, 81.0, 111.0, 19.0, 59.0, 112.0, 23.0, 46.0, 160.0, 62.0, 23.0, 116.0, 74.0, 204.0, 160.0, 159.0, 76.0, 168.0, 49.0, 214.0, 66.0, 206.0, 58.0, 91.0, 42.0, 92.0, 236.0, 115.0, 81.0, 31.0, 36.0, 202.0, 155.0, 29.0, 192.0, 87.0, 136.0, 51.0, 22.0, 117.0, 91.0, 123.0, 80.0, 78.0, 38.0, 135.0, 184.0, 93.0, 115.0, 86.0, 99.0, 55.0, 72.0, 27.0, 16.0, 179.0, 56.0, 106.0, 79.0, 173.0, 8.0, 183.0, 214.0, 75.0, 128.0, 92.0, 114.0, 165.0, 134.0, 144.0, 90.0, 69.0, 173.0, 204.0, 45.0, 86.0, 77.0, 69.0, 116.0, 68.0, 60.0, 245.0, 78.0, 148.0, 132.0, 63.0, 145.0, 230.0, 122.0, 66.0, 137.0, 131.0, 44.0, 11.0, 191.0, 88.0, 72.0, 116.0, 144.0, 22.0, 98.0, 130.0, 46.0, 79.0, 154.0, 121.0, 127.0, 116.0, 30.0, 78.0, 59.0, 66.0, 118.0, 39.0, 36.0, 129.0, 59.0, 138.0, 115.0, 116.0, 199.0, 172.0, 61.0, 161.0, 84.0, 225.0, 198.0, 33.0, 146.0, 124.0, 211.0, 165.0, 140.0, 89.0, 104.0, 136.0, 121.0, 116.0, 82.0, 84.0, 102.0, 172.0, 167.0, 214.0, 84.0, 135.0, 163.0, 87.0, 171.0, 123.0, 206.0, 174.0, 175.0, 157.0, 212.0, 94.0, 74.0, 23.0, 76.0, 68.0, 112.0, 62.0, 110.0, 231.0, 49.0, 17.0, 212.0, 72.0, 130.0, 161.0, 69.0, 75.0, 81.0, 21.0, 17.0, 58.0, 153.0, 36.0, 93.0, 86.0, 209.0, 122.0, 43.0, 234.0, 142.0, 111.0, 8.0, 86.0, 79.0, 83.0, 154.0, 77.0, 156.0, 167.0, 58.0, 83.0, 9.0, 44.0, 229.0, 117.0, 144.0, 191.0, 75.0, 55.0, 18.0, 151.0, 75.0, 89.0, 134.0, 58.0, 14.0, 156.0, 143.0, 92.0, 166.0, 118.0, 58.0, 218.0, 121.0, 232.0, 96.0, 115.0, 119.0, 139.0, 82.0, 68.0, 61.0, 158.0, 42.0, 94.0, 67.0, 87.0, 134.0, 64.0, 22.0, 112.0, 128.0, 27.0, 145.0, 43.0, 61.0, 62.0, 121.0, 221.0, 33.0, 63.0, 84.0, 32.0, 107.0, 133.0, 107.0, 123.0, 118.0, 95.0, 72.0, 97.0, 161.0, 57.0, 131.0, 171.0, 116.0, 37.0, 127.0, 48.0, 170.0, 52.0, 45.0, 133.0, 102.0, 86.0, 137.0, 94.0, 76.0, 168.0, 189.0, 40.0, 142.0, 130.0, 12.0, 22.0, 61.0, 176.0, 123.0, 137.0, 93.0, 60.0, 48.0, 35.0, 23.0, 147.0, 111.0, 17.0, 76.0, 84.0, 47.0, 176.0, 96.0, 172.0, 81.0, 45.0, 188.0, 118.0, 189.0, 166.0, 28.0, 144.0, 172.0, 103.0, 119.0, 46.0, 191.0, 52.0, 76.0, 103.0, 153.0, 75.0, 131.0, 35.0, 89.0, 99.0, 85.0, 41.0, 118.0, 106.0, 98.0, 110.0, 183.0, 18.0, 125.0, 140.0, 133.0, 33.0, 78.0, 13.0, 69.0, 213.0, 125.0, 21.0, 53.0, 224.0, 40.0, 152.0, 123.0, 74.0, 70.0, 205.0, 47.0, 54.0, 67.0, 15.0, 43.0, 168.0, 95.0, 183.0, 40.0, 74.0, 45.0, 31.0, 165.0, 40.0, 68.0, 101.0, 71.0, 92.0, 80.0, 90.0, 205.0, 100.0, 134.0, 125.0, 13.0, 44.0, 50.0, 30.0, 75.0, 209.0, 126.0, 160.0, 65.0, 224.0, 99.0, 72.0, 67.0, 128.0, 151.0, 39.0, 20.0, 78.0, 127.0, 157.0, 144.0, 178.0, 52.0, 142.0, 78.0, 109.0, 148.0, 68.0, 44.0, 159.0, 30.0, 55.0, 141.0, 44.0, 102.0, 111.0, 248.0, 111.0, 134.0, 92.0, 15.0, 189.0, 136.0, 234.0, 155.0, 167.0, 51.0, 63.0, 25.0, 63.0, 124.0, 160.0, 88.0, 189.0, 169.0, 132.0, 58.0, 116.0, 32.0, 53.0, 123.0, 56.0, 184.0, 196.0, 192.0, 22.0, 32.0, 38.0, 161.0, 26.0, 41.0, 221.0, 90.0, 40.0, 63.0, 25.0, 194.0, 52.0, 147.0, 45.0, 115.0, 109.0, 44.0, 43.0, 97.0, 64.0, 130.0, 49.0, 53.0, 64.0, 34.0, 58.0, 11.0, 43.0, 46.0, 66.0, 64.0, 126.0, 68.0, 74.0, 10.0, 83.0, 76.0, 57.0, 67.0, 57.0, 68.0, 72.0, 61.0, 46.0, 30.0, 143.0, 55.0, 44.0, 44.0, 126.0, 138.0, 18.0, 143.0, 86.0, 82.0, 71.0, 35.0, 103.0, 55.0, 179.0, 43.0, 141.0, 46.0, 61.0, 143.0, 109.0, 157.0, 43.0, 114.0, 132.0, 60.0, 215.0, 173.0, 140.0, 33.0, 113.0, 15.0, 58.0, 30.0, 33.0, 97.0, 150.0, 42.0, 139.0, 127.0, 76.0, 37.0, 167.0, 64.0, 33.0, 128.0, 170.0, 25.0, 95.0, 174.0, 99.0, 140.0, 28.0, 37.0, 221.0, 67.0, 143.0, 171.0, 222.0, 144.0, 55.0, 163.0, 24.0, 128.0, 208.0, 71.0, 177.0, 122.0, 137.0, 232.0, 105.0, 91.0, 84.0, 66.0, 199.0, 75.0, 250.0, 68.0, 141.0, 62.0, 89.0, 89.0, 90.0, 107.0, 121.0, 45.0, 80.0, 146.0, 152.0, 45.0, 46.0, 161.0, 120.0, 72.0, 50.0, 41.0, 83.0, 25.0, 133.0, 70.0, 88.0, 111.0, 128.0, 35.0, 232.0, 80.0, 117.0, 128.0, 57.0, 41.0, 107.0, 90.0, 75.0, 67.0, 104.0, 223.0, 107.0, 141.0, 157.0, 102.0, 102.0, 76.0, 91.0, 50.0, 12.0, 135.0, 237.0, 153.0, 61.0, 93.0, 126.0, 119.0, 46.0, 103.0, 81.0, 54.0, 40.0, 84.0, 104.0, 87.0, 78.0, 128.0, 41.0, 150.0, 118.0, 163.0, 74.0, 84.0, 158.0, 84.0, 85.0, 32.0, 85.0, 162.0, 67.0, 93.0, 88.0, 105.0, 81.0, 171.0, 100.0, 14.0, 95.0, 106.0, 42.0, 144.0, 75.0, 109.0, 75.0, 40.0, 84.0, 203.0, 27.0, 188.0, 124.0, 117.0, 81.0, 39.0, 59.0, 17.0, 72.0, 113.0, 51.0, 96.0, 167.0, 80.0, 21.0, 35.0, 14.0, 121.0, 57.0, 111.0, 63.0, 73.0, 108.0, 41.0, 47.0, 59.0, 38.0, 166.0, 218.0, 158.0, 106.0, 193.0, 42.0, 77.0, 43.0, 149.0, 74.0, 77.0, 196.0, 76.0, 112.0, 194.0, 214.0, 68.0, 110.0, 47.0, 88.0, 108.0, 189.0, 92.0, 98.0, 227.0, 176.0, 139.0, 90.0, 58.0, 62.0, 115.0, 142.0, 27.0, 93.0, 171.0, 112.0, 13.0, 68.0, 39.0, 55.0, 168.0, 27.0, 224.0, 32.0, 205.0, 53.0, 126.0, 89.0, 81.0, 173.0, 100.0, 44.0, 160.0, 62.0, 204.0, 139.0, 4.0, 177.0, 146.0, 95.0, 59.0, 67.0, 176.0, 43.0, 84.0, 155.0, 68.0, 228.0, 37.0, 44.0, 75.0, 57.0, 119.0, 52.0, 220.0, 111.0, 92.0, 27.0, 142.0, 38.0, 49.0, 84.0, 49.0, 102.0, 40.0, 49.0, 142.0, 94.0, 131.0, 83.0, 115.0, 16.0, 69.0, 95.0, 158.0, 123.0, 49.0, 89.0, 111.0, 91.0, 100.0, 61.0, 14.0, 13.0, 86.0, 101.0, 76.0, 64.0, 246.0, 89.0, 22.0, 31.0, 116.0, 59.0, 45.0, 39.0, 193.0, 87.0, 43.0, 127.0, 114.0, 96.0, 68.0, 77.0, 90.0, 113.0, 8.0, 110.0, 21.0, 12.0, 110.0, 135.0, 141.0, 171.0, 142.0, 76.0, 141.0, 99.0, 125.0, 120.0, 148.0, 170.0, 131.0, 77.0, 233.0, 129.0, 13.0, 74.0, 85.0, 105.0, 90.0, 15.0, 108.0, 64.0, 101.0, 75.0, 116.0, 30.0, 116.0, 91.0, 135.0, 34.0, 62.0, 44.0, 174.0, 190.0, 107.0, 63.0, 191.0, 52.0, 168.0, 239.0, 206.0, 81.0, 17.0, 256.0, 112.0, 57.0, 173.0, 201.0, 101.0, 113.0, 94.0, 102.0, 83.0, 96.0, 180.0, 104.0, 211.0, 59.0, 26.0, 87.0, 24.0, 89.0, 132.0, 36.0, 147.0, 65.0, 18.0, 105.0, 164.0, 130.0, 128.0, 199.0, 81.0, 27.0, 46.0, 71.0, 121.0, 67.0, 130.0, 132.0, 45.0, 70.0, 12.0, 177.0, 92.0, 64.0, 106.0, 77.0, 137.0, 156.0, 164.0, 139.0, 132.0, 174.0, 113.0, 95.0, 136.0, 145.0, 122.0, 159.0, 208.0, 95.0, 117.0, 139.0, 54.0, 164.0, 112.0, 108.0, 73.0, 52.0, 160.0, 97.0, 18.0, 179.0, 118.0, 92.0, 51.0, 105.0, 99.0, 116.0, 32.0, 214.0, 102.0, 155.0, 90.0, 169.0, 96.0, 78.0, 58.0, 167.0, 178.0, 134.0, 70.0, 62.0, 124.0, 86.0, 249.0, 51.0, 155.0, 127.0, 83.0, 21.0, 81.0, 29.0, 98.0, 46.0, 53.0, 4.0, 64.0, 18.0, 84.0, 122.0, 57.0, 176.0, 142.0, 68.0, 91.0, 70.0, 81.0, 140.0, 42.0, 30.0, 145.0, 94.0, 15.0, 41.0, 29.0, 225.0, 48.0, 71.0, 41.0, 79.0, 97.0, 210.0, 182.0, 179.0, 54.0, 41.0, 60.0, 147.0, 18.0, 145.0, 41.0, 59.0, 121.0, 47.0, 25.0, 97.0, 225.0, 188.0, 87.0, 131.0, 136.0, 157.0, 142.0, 27.0, 140.0, 221.0, 50.0, 157.0, 18.0, 120.0, 152.0, 148.0, 111.0, 70.0, 46.0, 70.0, 117.0, 234.0, 72.0, 144.0, 137.0, 156.0, 94.0, 178.0, 86.0, 126.0, 101.0, 79.0, 112.0, 158.0, 190.0, 12.0, 104.0, 111.0, 102.0, 104.0, 226.0, 135.0, 149.0, 172.0, 107.0, 175.0, 149.0, 198.0, 110.0, 211.0, 86.0, 41.0, 51.0, 93.0, 42.0, 82.0, 110.0, 153.0, 239.0, 64.0, 131.0, 60.0, 167.0, 142.0, 101.0, 67.0, 167.0, 71.0, 114.0, 99.0, 89.0, 164.0, 115.0, 142.0, 126.0, 15.0, 14.0, 91.0, 90.0, 29.0, 100.0, 86.0, 77.0, 165.0, 137.0, 143.0, 182.0, 51.0, 137.0, 162.0, 241.0, 139.0, 11.0, 57.0, 225.0, 238.0, 122.0, 160.0, 90.0, 250.0, 97.0, 136.0, 25.0, 17.0, 96.0, 126.0, 69.0, 116.0, 224.0, 173.0, 29.0, 77.0, 128.0, 83.0, 51.0, 145.0, 181.0, 122.0, 81.0, 110.0, 195.0, 80.0, 112.0, 103.0, 88.0, 103.0, 77.0, 20.0, 156.0, 101.0, 195.0, 106.0, 164.0, 97.0, 99.0, 75.0, 161.0, 102.0, 104.0, 136.0, 98.0, 139.0, 173.0, 177.0, 126.0, 186.0, 69.0, 226.0, 120.0, 93.0, 171.0, 101.0, 128.0, 153.0, 151.0, 118.0, 79.0, 135.0, 46.0, 80.0, 87.0, 139.0, 127.0, 51.0, 26.0, 164.0, 119.0, 215.0, 15.0, 105.0, 78.0, 149.0, 88.0, 101.0, 169.0, 86.0, 92.0, 160.0, 137.0, 131.0, 18.0, 168.0, 124.0, 159.0, 145.0, 129.0, 148.0, 76.0, 92.0, 39.0, 125.0, 84.0, 68.0, 122.0, 111.0, 43.0, 35.0, 54.0, 234.0, 174.0, 132.0, 147.0, 48.0, 99.0, 87.0, 85.0, 57.0, 123.0, 150.0, 49.0, 115.0, 73.0, 73.0, 12.0, 59.0, 105.0, 89.0, 144.0, 49.0, 76.0, 84.0, 55.0, 64.0, 70.0, 133.0, 144.0, 73.0, 214.0, 68.0, 134.0, 42.0, 223.0, 161.0, 86.0, 92.0, 90.0, 150.0, 87.0, 72.0, 88.0, 224.0, 163.0, 37.0, 106.0, 56.0, 217.0, 124.0, 226.0, 71.0, 122.0, 247.0, 105.0, 94.0, 154.0, 80.0, 122.0, 154.0, 246.0, 113.0, 135.0, 141.0, 107.0, 112.0, 43.0, 150.0, 228.0, 134.0, 148.0, 219.0, 141.0, 94.0, 183.0, 12.0, 107.0, 146.0, 203.0, 183.0, 138.0, 112.0, 83.0, 106.0, 100.0, 93.0, 141.0, 54.0, 113.0, 200.0, 119.0, 48.0, 165.0, 112.0, 79.0, 179.0, 128.0, 184.0, 40.0, 157.0, 90.0, 89.0, 120.0, 90.0, 185.0, 146.0, 75.0, 206.0, 42.0, 76.0, 91.0, 153.0, 115.0, 67.0, 52.0, 142.0, 116.0, 108.0, 94.0, 55.0, 35.0, 35.0, 153.0, 134.0, 128.0, 89.0, 90.0, 72.0, 242.0, 72.0, 168.0, 155.0, 81.0, 131.0, 93.0, 141.0, 50.0, 179.0, 21.0, 18.0, 10.0, 215.0, 103.0, 44.0, 80.0, 170.0, 208.0, 119.0, 173.0, 67.0, 157.0, 51.0, 156.0, 20.0, 93.0, 58.0, 130.0, 132.0, 106.0, 129.0, 95.0, 158.0, 15.0, 18.0, 129.0, 77.0, 86.0, 59.0, 255.0, 113.0, 31.0, 21.0, 109.0, 31.0, 83.0, 220.0, 207.0, 160.0, 121.0, 101.0, 106.0, 133.0, 75.0, 50.0, 137.0, 22.0, 129.0, 158.0, 75.0, 77.0, 67.0, 98.0, 94.0, 171.0, 239.0, 141.0, 34.0, 141.0, 135.0, 91.0, 70.0, 217.0, 143.0, 92.0, 103.0, 194.0, 44.0, 110.0, 107.0, 19.0, 168.0, 11.0, 92.0, 79.0, 33.0, 120.0, 191.0, 45.0, 103.0, 9.0, 142.0, 32.0, 41.0, 58.0, 228.0, 117.0, 108.0, 82.0, 89.0, 132.0, 197.0, 85.0, 65.0, 153.0, 171.0, 67.0, 115.0, 71.0, 183.0, 125.0, 12.0, 52.0, 134.0, 229.0, 176.0, 196.0, 15.0, 75.0, 78.0, 78.0, 102.0, 139.0, 39.0, 64.0, 66.0, 145.0, 143.0, 164.0, 39.0, 132.0, 64.0, 61.0, 108.0, 137.0, 186.0, 95.0, 29.0, 169.0, 178.0, 99.0, 72.0, 184.0, 142.0, 43.0, 94.0, 24.0, 18.0, 33.0, 47.0, 157.0, 53.0, 137.0, 193.0, 141.0, 149.0, 235.0, 110.0, 140.0, 190.0, 115.0, 127.0, 236.0, 30.0, 90.0, 104.0, 141.0, 38.0, 107.0, 104.0, 59.0, 107.0, 94.0, 17.0, 74.0, 78.0, 50.0, 68.0, 52.0, 193.0, 98.0, 47.0, 109.0, 136.0, 64.0, 81.0, 152.0, 147.0, 183.0, 57.0, 143.0, 66.0, 43.0, 89.0, 171.0, 72.0, 28.0, 145.0, 22.0, 184.0, 72.0, 26.0, 126.0, 148.0, 22.0, 111.0, 32.0, 150.0, 146.0, 28.0, 102.0, 72.0, 84.0, 34.0, 85.0, 75.0, 169.0, 119.0, 192.0, 141.0, 76.0, 117.0, 99.0, 51.0, 133.0, 18.0, 126.0, 32.0, 70.0, 73.0, 82.0, 168.0, 117.0, 23.0, 46.0, 151.0, 76.0, 71.0, 118.0, 112.0, 48.0, 95.0, 77.0, 181.0, 89.0, 50.0, 94.0, 4.0, 68.0, 210.0, 105.0, 200.0, 66.0, 90.0, 97.0, 144.0, 44.0, 65.0, 99.0, 202.0, 46.0, 225.0, 99.0, 29.0, 101.0, 96.0, 41.0, 128.0, 136.0, 224.0, 169.0, 212.0, 155.0, 72.0, 32.0, 64.0, 106.0, 100.0, 109.0, 100.0, 43.0, 209.0, 102.0, 243.0, 63.0, 68.0, 51.0, 211.0, 219.0, 96.0, 63.0, 30.0, 98.0, 111.0, 20.0, 222.0, 66.0, 50.0, 14.0, 43.0, 71.0, 133.0, 75.0, 126.0, 187.0, 130.0, 147.0, 116.0, 103.0, 56.0, 91.0, 24.0, 64.0, 107.0, 186.0, 213.0, 109.0, 64.0, 154.0, 162.0, 92.0, 111.0, 97.0, 78.0, 135.0, 174.0, 146.0, 238.0, 166.0, 103.0, 91.0, 37.0, 17.0, 162.0, 51.0, 157.0, 151.0, 91.0, 170.0, 174.0, 40.0, 39.0, 96.0, 130.0, 88.0, 91.0, 145.0, 167.0, 166.0, 109.0, 125.0, 142.0, 88.0, 206.0, 225.0, 75.0, 45.0, 6.0, 110.0, 68.0, 145.0, 12.0, 156.0, 103.0, 156.0, 56.0, 79.0, 130.0, 129.0, 183.0, 128.0, 14.0, 131.0, 79.0, 57.0, 128.0, 39.0, 138.0, 121.0, 77.0, 65.0, 140.0, 96.0, 24.0, 126.0, 94.0, 96.0, 20.0, 129.0, 39.0, 113.0, 14.0, 132.0, 177.0, 141.0, 86.0, 18.0, 63.0, 66.0, 124.0, 120.0, 30.0, 99.0, 51.0, 178.0, 79.0, 75.0, 175.0, 121.0, 193.0, 91.0, 95.0, 103.0, 40.0, 74.0, 82.0, 81.0, 111.0, 117.0, 183.0, 51.0, 78.0, 105.0, 76.0, 70.0, 95.0, 50.0, 35.0, 99.0, 103.0, 119.0, 107.0, 98.0, 118.0, 155.0, 187.0, 135.0, 231.0, 119.0, 58.0, 91.0, 57.0, 41.0, 199.0, 42.0, 117.0, 208.0, 153.0, 52.0, 82.0, 166.0, 92.0, 113.0, 54.0, 56.0, 129.0, 237.0, 85.0, 112.0, 213.0, 147.0, 101.0, 86.0, 94.0, 48.0, 164.0, 60.0, 63.0, 153.0, 50.0, 123.0, 70.0, 16.0, 23.0, 114.0, 84.0, 91.0, 52.0, 46.0, 82.0, 14.0, 141.0, 87.0, 119.0, 38.0, 93.0, 27.0, 81.0, 81.0, 58.0, 156.0, 54.0, 95.0, 128.0, 158.0, 186.0, 178.0, 138.0, 48.0, 46.0, 122.0, 78.0, 81.0, 78.0, 28.0, 124.0, 105.0, 142.0, 126.0, 71.0, 143.0, 85.0, 61.0, 124.0, 114.0, 40.0, 225.0, 159.0, 70.0, 159.0, 89.0, 39.0, 93.0, 122.0, 120.0, 36.0, 94.0, 65.0, 74.0, 61.0, 76.0, 124.0, 50.0, 68.0, 81.0, 131.0, 140.0, 15.0, 37.0, 219.0, 14.0, 55.0, 124.0, 110.0, 61.0, 59.0, 138.0, 141.0, 88.0, 115.0, 80.0, 109.0, 122.0, 202.0, 129.0, 83.0, 78.0, 30.0, 108.0, 150.0, 214.0, 33.0, 79.0, 256.0, 130.0, 104.0, 214.0, 87.0, 135.0, 116.0, 96.0, 49.0, 111.0, 52.0, 35.0, 82.0, 172.0, 45.0, 146.0, 88.0, 56.0, 124.0, 57.0, 143.0, 105.0, 134.0, 136.0, 58.0, 51.0, 37.0, 163.0, 129.0, 50.0, 59.0, 137.0, 157.0, 32.0, 148.0, 84.0, 158.0, 110.0, 93.0, 98.0, 167.0, 92.0, 102.0, 168.0, 40.0, 66.0, 24.0, 101.0, 119.0, 216.0, 160.0, 108.0, 181.0, 93.0, 24.0, 76.0, 69.0, 33.0, 37.0, 11.0, 51.0, 128.0, 132.0, 94.0, 35.0, 55.0, 134.0, 132.0, 62.0, 56.0, 81.0, 38.0, 68.0, 63.0, 10.0, 193.0, 48.0, 32.0, 96.0, 112.0, 156.0, 31.0, 158.0, 50.0, 79.0, 15.0, 202.0, 162.0, 16.0, 116.0, 86.0, 157.0, 129.0, 110.0, 92.0, 46.0, 27.0, 17.0, 146.0, 17.0, 119.0, 45.0, 94.0, 211.0, 126.0, 126.0, 12.0, 60.0, 88.0, 31.0, 13.0, 96.0, 100.0, 228.0, 149.0, 105.0, 96.0, 76.0, 14.0, 15.0, 50.0, 247.0, 134.0, 42.0, 29.0, 45.0, 145.0, 26.0, 57.0, 96.0, 47.0, 109.0, 102.0, 107.0, 138.0, 36.0, 43.0, 20.0, 93.0, 30.0, 63.0, 82.0, 73.0, 190.0, 103.0, 97.0, 83.0, 81.0, 244.0, 37.0, 105.0, 92.0, 63.0, 79.0, 84.0, 70.0, 58.0, 111.0, 78.0, 79.0, 51.0, 52.0, 140.0, 108.0, 121.0, 84.0, 107.0, 31.0, 168.0, 99.0, 75.0, 49.0, 137.0, 60.0, 130.0, 83.0, 134.0, 46.0, 153.0, 166.0, 120.0, 95.0, 110.0, 146.0, 207.0, 160.0, 50.0, 102.0, 73.0, 85.0, 53.0, 196.0, 30.0, 52.0, 178.0, 64.0, 170.0, 159.0, 54.0, 233.0, 156.0, 55.0, 75.0, 89.0, 135.0, 206.0, 46.0, 44.0, 69.0, 39.0, 121.0, 80.0, 108.0, 88.0, 101.0, 80.0, 36.0, 85.0, 72.0, 72.0, 48.0, 101.0, 55.0, 102.0, 248.0, 161.0, 154.0, 93.0, 178.0, 44.0, 86.0, 85.0, 134.0, 89.0, 137.0, 187.0, 34.0, 110.0, 123.0, 61.0, 208.0, 74.0, 86.0, 46.0, 26.0, 69.0, 198.0, 126.0, 142.0, 66.0, 25.0, 185.0, 74.0, 125.0, 107.0, 105.0, 64.0, 73.0, 89.0, 132.0, 59.0, 148.0, 114.0, 55.0, 119.0, 86.0, 140.0, 82.0, 78.0, 86.0, 70.0, 119.0, 43.0, 124.0, 69.0, 58.0, 38.0, 109.0, 58.0, 127.0, 137.0, 95.0, 17.0, 107.0, 145.0, 108.0, 51.0, 62.0, 101.0, 41.0, 156.0, 111.0, 74.0, 145.0, 43.0, 236.0, 228.0, 130.0, 126.0, 162.0, 137.0, 51.0, 87.0, 51.0, 76.0, 151.0, 155.0, 130.0, 242.0, 94.0, 81.0, 92.0, 159.0, 149.0, 179.0, 93.0, 98.0, 114.0, 63.0, 92.0, 85.0, 105.0, 116.0, 169.0, 89.0, 126.0, 121.0, 249.0, 104.0, 70.0, 116.0, 68.0, 22.0, 163.0, 95.0, 71.0, 75.0, 93.0, 58.0, 58.0, 90.0, 224.0, 107.0, 83.0, 160.0, 95.0, 105.0, 56.0, 151.0, 20.0, 122.0, 146.0, 61.0, 57.0, 55.0, 194.0, 62.0, 83.0, 158.0, 215.0, 127.0, 165.0, 127.0, 126.0, 52.0, 55.0, 143.0, 68.0, 83.0, 189.0, 170.0, 142.0, 70.0, 125.0, 39.0, 129.0, 103.0, 110.0, 57.0, 214.0, 100.0, 39.0, 89.0, 100.0, 134.0, 191.0, 64.0, 57.0, 115.0, 140.0, 60.0, 71.0, 51.0, 94.0, 173.0, 145.0, 42.0, 121.0, 80.0, 14.0, 40.0, 147.0, 74.0, 193.0, 88.0, 62.0, 92.0, 107.0, 145.0, 121.0, 63.0, 58.0, 227.0, 46.0, 99.0, 118.0, 49.0, 55.0, 91.0, 67.0, 78.0, 44.0, 185.0, 55.0, 43.0, 113.0, 113.0, 54.0, 114.0, 144.0, 162.0, 178.0, 187.0, 143.0, 138.0, 146.0, 71.0, 134.0, 120.0, 161.0, 63.0, 43.0, 153.0, 96.0, 51.0, 106.0, 101.0, 131.0, 150.0, 28.0, 236.0, 46.0, 50.0, 53.0, 77.0, 100.0, 170.0, 208.0, 135.0, 63.0, 111.0, 203.0, 110.0, 113.0, 156.0, 79.0, 102.0, 143.0, 38.0, 123.0, 96.0, 91.0, 154.0, 61.0, 13.0, 153.0, 185.0, 92.0, 92.0, 63.0, 197.0, 81.0, 72.0, 118.0, 101.0, 130.0, 60.0, 88.0, 83.0, 59.0, 242.0, 50.0, 64.0, 60.0, 64.0, 128.0, 215.0, 142.0, 14.0, 146.0, 153.0, 69.0, 15.0, 213.0, 184.0, 122.0, 138.0, 136.0, 119.0, 156.0, 16.0, 222.0, 152.0, 25.0, 104.0, 121.0, 64.0, 94.0, 218.0, 85.0, 134.0, 106.0, 157.0, 110.0, 77.0, 117.0, 147.0, 63.0, 108.0, 75.0, 219.0, 122.0, 99.0, 166.0, 70.0, 202.0, 74.0, 63.0, 66.0, 157.0, 250.0, 17.0, 49.0, 91.0, 168.0, 110.0, 122.0, 181.0, 99.0, 47.0, 62.0, 99.0, 39.0, 239.0, 106.0, 111.0, 105.0, 184.0, 208.0, 142.0, 78.0, 86.0, 234.0, 173.0, 97.0, 192.0, 219.0, 130.0, 22.0, 56.0, 123.0, 176.0, 50.0, 127.0, 113.0, 203.0, 105.0, 256.0, 200.0, 80.0, 73.0, 77.0, 79.0, 43.0, 64.0, 87.0, 74.0, 190.0, 204.0, 166.0, 36.0, 109.0, 120.0, 213.0, 61.0, 70.0, 117.0, 189.0, 144.0, 117.0, 59.0, 52.0, 47.0, 99.0, 148.0, 172.0, 175.0, 56.0, 122.0, 159.0, 140.0, 156.0, 100.0, 108.0, 102.0, 121.0, 168.0, 152.0, 74.0, 141.0, 16.0, 126.0, 79.0, 97.0, 82.0, 170.0, 65.0, 82.0, 150.0, 52.0, 125.0, 103.0, 117.0, 30.0, 107.0, 120.0, 116.0, 146.0, 68.0, 159.0, 96.0, 72.0, 109.0, 102.0, 44.0, 80.0, 106.0, 130.0, 31.0, 102.0, 58.0, 145.0, 116.0, 115.0, 159.0, 52.0, 110.0, 184.0, 65.0, 64.0, 108.0, 107.0, 108.0, 145.0, 237.0, 114.0, 163.0, 80.0, 78.0, 141.0, 66.0, 124.0, 87.0, 108.0, 75.0, 31.0, 146.0, 48.0, 105.0, 95.0, 22.0, 24.0, 138.0, 234.0, 108.0, 103.0, 65.0, 55.0, 49.0, 134.0, 22.0, 106.0, 101.0, 125.0, 86.0, 96.0, 161.0, 130.0, 146.0, 64.0, 93.0, 144.0, 44.0, 88.0, 250.0, 89.0, 60.0, 111.0, 15.0, 91.0, 180.0, 38.0, 111.0, 53.0, 116.0, 162.0, 149.0, 126.0, 68.0, 68.0, 253.0, 121.0, 100.0, 142.0, 65.0, 143.0, 28.0, 75.0, 196.0, 212.0, 72.0, 131.0, 120.0, 137.0, 134.0, 111.0, 9.0, 182.0, 43.0, 69.0, 57.0, 154.0, 60.0, 85.0, 71.0, 57.0, 48.0, 120.0, 96.0, 53.0, 137.0, 170.0, 129.0, 135.0, 61.0, 78.0, 59.0, 56.0, 105.0, 62.0, 160.0, 224.0, 36.0, 107.0, 24.0, 107.0, 95.0, 118.0, 147.0, 126.0, 38.0, 121.0, 128.0, 72.0, 93.0, 94.0, 95.0, 122.0, 35.0, 235.0, 70.0, 100.0, 109.0, 110.0, 23.0, 102.0, 26.0, 79.0, 127.0, 138.0, 198.0, 89.0, 181.0, 149.0, 221.0, 81.0, 73.0, 69.0, 33.0, 149.0, 59.0, 57.0, 111.0, 178.0, 81.0, 87.0, 191.0, 90.0, 74.0, 155.0, 135.0, 112.0, 67.0, 16.0, 34.0, 51.0, 79.0, 53.0, 101.0, 115.0, 42.0, 104.0, 220.0, 75.0, 48.0, 112.0, 20.0, 127.0, 155.0, 20.0, 79.0, 49.0, 61.0, 65.0, 119.0, 177.0, 115.0, 57.0, 74.0, 53.0, 65.0, 174.0, 67.0, 41.0, 52.0, 103.0, 130.0, 212.0, 70.0, 74.0, 22.0, 125.0, 132.0, 26.0, 216.0, 82.0, 62.0, 184.0, 38.0, 159.0, 59.0, 128.0, 118.0, 127.0, 139.0, 65.0, 84.0, 150.0, 115.0, 79.0, 145.0, 198.0, 56.0, 121.0, 134.0, 85.0, 96.0, 51.0, 40.0, 229.0, 123.0, 40.0, 80.0, 75.0, 120.0, 162.0, 80.0, 128.0, 63.0, 149.0, 198.0, 38.0, 130.0, 77.0, 20.0, 88.0, 41.0, 120.0, 162.0, 68.0, 26.0, 114.0, 131.0, 62.0, 128.0, 88.0, 74.0, 88.0, 206.0, 196.0, 119.0, 166.0, 75.0, 78.0, 56.0, 39.0, 100.0, 41.0, 106.0, 116.0, 194.0, 94.0, 81.0, 143.0, 88.0, 255.0, 53.0, 94.0, 215.0, 88.0, 138.0, 73.0, 116.0, 91.0, 116.0, 103.0, 140.0, 183.0, 119.0, 76.0, 70.0, 61.0, 120.0, 169.0, 45.0, 177.0, 36.0, 44.0, 93.0, 67.0, 49.0, 190.0, 143.0, 186.0, 5.0, 49.0, 181.0, 112.0, 13.0, 60.0, 130.0, 69.0, 67.0, 148.0, 200.0, 72.0, 108.0, 91.0, 241.0, 22.0, 137.0, 57.0, 76.0, 62.0, 116.0, 98.0, 52.0, 58.0, 22.0, 48.0, 75.0, 58.0, 160.0, 89.0, 67.0, 199.0, 48.0, 48.0, 204.0, 69.0, 67.0, 110.0, 42.0, 73.0, 55.0, 156.0, 33.0, 79.0, 93.0, 171.0, 17.0, 188.0, 156.0, 143.0, 95.0, 26.0, 190.0, 172.0, 94.0, 109.0, 68.0, 142.0, 193.0, 169.0, 108.0, 181.0, 81.0, 163.0, 71.0, 113.0, 243.0, 20.0, 109.0, 108.0, 29.0, 36.0, 169.0, 63.0, 108.0, 51.0, 83.0, 89.0, 71.0, 158.0, 76.0, 63.0, 92.0, 85.0, 81.0, 46.0, 182.0, 143.0, 187.0, 90.0, 77.0, 109.0, 90.0, 131.0, 166.0, 178.0, 115.0, 93.0, 102.0, 193.0, 138.0, 193.0, 83.0, 132.0, 42.0, 151.0, 158.0, 78.0, 88.0, 125.0, 31.0, 152.0, 109.0, 74.0, 67.0, 87.0, 134.0, 23.0, 81.0, 117.0, 65.0, 111.0, 44.0, 76.0, 117.0, 62.0, 131.0, 61.0, 235.0, 38.0, 23.0, 45.0, 195.0, 64.0, 116.0, 74.0, 84.0, 118.0, 156.0, 46.0, 100.0, 65.0, 58.0, 184.0, 171.0, 119.0, 66.0, 140.0, 38.0, 64.0, 103.0, 255.0, 41.0, 42.0, 133.0, 165.0, 110.0, 99.0, 120.0, 72.0, 88.0, 29.0, 25.0, 103.0, 4.0, 9.0, 107.0, 157.0, 61.0, 85.0, 236.0, 30.0, 78.0, 27.0, 127.0, 163.0, 54.0, 218.0, 29.0, 25.0, 146.0, 38.0, 220.0, 35.0, 181.0, 99.0, 18.0, 76.0, 33.0, 107.0, 209.0, 117.0, 58.0, 100.0, 184.0, 110.0, 26.0, 70.0, 150.0, 167.0, 156.0, 27.0, 134.0, 134.0, 56.0, 124.0, 153.0, 143.0, 128.0, 88.0, 135.0, 212.0, 91.0, 51.0, 123.0, 243.0, 129.0, 115.0, 192.0, 168.0, 113.0, 114.0, 66.0, 90.0, 69.0, 183.0, 46.0, 67.0, 111.0, 69.0, 109.0, 44.0, 255.0, 115.0, 104.0, 209.0, 32.0, 77.0, 60.0, 98.0, 171.0, 34.0, 137.0, 205.0, 74.0, 84.0, 81.0, 150.0, 43.0, 59.0, 115.0, 94.0, 194.0, 148.0, 112.0, 73.0, 196.0, 127.0, 118.0, 56.0, 80.0, 46.0, 46.0, 157.0, 205.0, 111.0, 11.0, 84.0, 26.0, 27.0, 132.0, 60.0, 76.0, 36.0, 44.0, 120.0, 68.0, 135.0, 164.0, 183.0, 54.0, 184.0, 189.0, 144.0, 93.0, 223.0, 49.0, 58.0, 173.0, 57.0, 29.0, 35.0, 75.0, 75.0, 115.0, 61.0, 15.0, 159.0, 176.0, 221.0, 151.0, 175.0, 83.0, 72.0, 169.0, 82.0, 58.0, 79.0, 91.0, 46.0, 132.0, 166.0, 99.0, 51.0, 32.0, 185.0, 71.0, 179.0, 83.0, 93.0, 150.0, 167.0, 144.0, 58.0, 42.0, 110.0, 100.0, 161.0, 155.0, 138.0, 162.0, 108.0, 56.0, 159.0, 108.0, 201.0, 127.0, 85.0, 12.0, 44.0, 59.0, 129.0, 22.0, 61.0, 102.0, 11.0, 47.0, 115.0, 115.0, 252.0, 126.0, 97.0, 45.0, 169.0, 54.0, 46.0, 139.0, 39.0, 97.0, 149.0, 136.0, 126.0, 64.0, 78.0, 167.0, 221.0, 117.0, 131.0, 145.0, 118.0, 230.0, 65.0, 88.0, 69.0, 130.0, 61.0, 96.0, 14.0, 85.0, 148.0, 136.0, 242.0, 91.0, 94.0, 157.0, 115.0, 158.0, 141.0, 146.0, 143.0, 70.0, 136.0, 71.0, 220.0, 95.0, 88.0, 112.0, 143.0, 61.0, 144.0, 39.0, 73.0, 51.0, 65.0, 68.0, 69.0, 75.0, 102.0, 164.0, 174.0, 132.0, 67.0, 26.0, 72.0, 45.0, 150.0, 149.0, 161.0, 116.0, 185.0, 173.0, 128.0, 36.0, 157.0, 134.0, 223.0, 50.0, 125.0, 84.0, 23.0, 32.0, 175.0, 54.0, 66.0, 27.0, 132.0, 63.0, 152.0, 118.0, 43.0, 29.0, 11.0, 213.0, 47.0, 183.0, 34.0, 44.0, 95.0, 53.0, 77.0, 41.0, 86.0, 77.0, 80.0, 69.0, 94.0, 125.0, 228.0, 132.0, 24.0, 70.0, 65.0, 188.0, 126.0, 73.0, 104.0, 119.0, 113.0, 54.0, 95.0, 156.0, 37.0, 147.0, 83.0, 89.0, 91.0, 113.0, 64.0, 86.0, 115.0, 84.0, 42.0, 48.0, 140.0, 108.0, 122.0, 75.0, 52.0, 49.0, 80.0, 84.0, 78.0, 55.0, 97.0, 42.0, 131.0, 74.0, 108.0, 120.0, 140.0, 88.0, 152.0, 75.0, 110.0, 52.0, 165.0, 63.0, 154.0, 135.0, 77.0, 31.0, 203.0, 132.0, 121.0, 79.0, 117.0, 51.0, 20.0, 94.0, 84.0, 107.0, 24.0, 106.0, 110.0, 32.0, 51.0, 82.0, 105.0, 18.0, 12.0, 140.0, 71.0, 71.0, 139.0, 63.0, 98.0, 79.0, 60.0, 116.0, 119.0, 153.0, 190.0, 81.0, 153.0, 103.0, 138.0, 158.0, 54.0, 114.0, 31.0, 80.0, 73.0, 65.0, 138.0, 9.0, 68.0, 35.0, 8.0, 75.0, 55.0, 68.0, 233.0, 105.0, 159.0, 108.0, 122.0, 101.0, 206.0, 81.0, 46.0, 150.0, 77.0, 149.0, 76.0, 136.0, 48.0, 200.0, 88.0, 30.0, 162.0, 194.0, 201.0, 50.0, 77.0, 135.0, 176.0, 13.0, 112.0, 162.0, 43.0, 61.0, 15.0, 55.0, 174.0, 33.0, 57.0, 104.0, 141.0, 13.0, 41.0, 40.0, 57.0, 49.0, 88.0, 54.0, 120.0, 44.0, 30.0, 29.0, 121.0, 55.0, 94.0, 135.0, 42.0, 171.0, 77.0, 120.0, 119.0, 97.0, 42.0, 51.0, 61.0, 62.0, 107.0, 55.0, 108.0, 79.0, 103.0, 71.0, 50.0, 80.0, 143.0, 61.0, 131.0, 40.0, 30.0, 122.0, 22.0, 214.0, 140.0, 130.0, 107.0, 134.0, 79.0, 78.0, 58.0, 95.0, 163.0, 126.0, 130.0, 76.0, 180.0, 161.0, 52.0, 101.0, 87.0, 27.0, 133.0, 21.0, 127.0, 79.0, 129.0, 20.0, 25.0, 157.0, 126.0, 230.0, 214.0, 119.0, 77.0, 130.0, 57.0, 88.0, 77.0, 12.0, 156.0, 149.0, 89.0, 86.0, 53.0, 65.0, 112.0, 74.0, 30.0, 233.0, 108.0, 25.0, 115.0, 112.0, 54.0, 118.0, 38.0, 66.0, 105.0, 139.0, 77.0, 80.0, 83.0, 90.0, 49.0, 28.0, 67.0, 20.0, 47.0, 84.0, 95.0, 110.0, 71.0, 42.0, 115.0, 21.0, 185.0, 18.0, 117.0, 250.0, 82.0, 123.0, 104.0, 92.0, 85.0, 20.0, 63.0, 67.0, 94.0, 48.0, 21.0, 226.0, 68.0, 87.0, 174.0, 96.0, 106.0, 137.0, 91.0, 71.0, 118.0, 82.0, 119.0, 60.0, 26.0, 23.0, 26.0, 163.0, 56.0, 187.0, 37.0, 39.0, 97.0, 49.0, 105.0, 185.0, 147.0, 35.0, 118.0, 82.0, 67.0, 50.0, 167.0, 76.0, 147.0, 82.0, 108.0, 119.0, 25.0, 90.0, 68.0, 165.0, 61.0, 137.0, 109.0, 41.0, 154.0, 134.0, 103.0, 12.0, 78.0, 135.0, 73.0, 61.0, 85.0, 53.0, 20.0, 43.0, 109.0, 73.0, 66.0, 190.0, 76.0, 110.0, 77.0, 94.0, 64.0, 217.0, 92.0, 40.0, 68.0, 118.0, 19.0, 79.0, 104.0, 64.0, 79.0, 81.0, 20.0, 62.0, 44.0, 111.0, 75.0, 87.0, 64.0, 51.0, 65.0, 30.0, 149.0, 28.0, 132.0, 169.0, 189.0, 36.0, 73.0, 58.0, 58.0, 58.0, 98.0, 121.0, 152.0, 70.0, 38.0, 135.0, 50.0, 73.0, 97.0, 178.0, 51.0, 71.0, 205.0, 62.0, 133.0, 134.0, 52.0, 108.0, 41.0, 75.0, 63.0, 79.0, 41.0, 93.0, 75.0, 118.0, 80.0, 163.0, 101.0, 137.0, 68.0, 71.0, 34.0, 44.0, 158.0, 99.0, 82.0, 61.0, 71.0, 46.0, 80.0, 143.0, 79.0, 40.0, 72.0, 95.0, 121.0, 80.0, 100.0, 138.0, 51.0, 125.0, 203.0, 151.0, 33.0, 96.0, 51.0, 120.0, 77.0, 112.0, 36.0, 19.0, 61.0, 30.0, 57.0, 56.0, 85.0, 76.0, 23.0, 102.0, 99.0, 77.0, 117.0, 71.0, 19.0, 150.0, 81.0, 121.0, 56.0, 168.0, 137.0, 73.0, 47.0, 163.0, 133.0, 49.0, 125.0, 106.0, 198.0, 77.0, 42.0, 77.0, 91.0, 44.0, 30.0, 81.0, 72.0, 63.0, 59.0, 155.0, 88.0, 137.0, 47.0, 67.0, 36.0, 121.0, 114.0, 98.0, 88.0, 247.0, 126.0, 121.0, 53.0, 39.0, 109.0, 43.0, 127.0, 67.0, 41.0, 37.0, 114.0, 57.0, 125.0, 210.0, 93.0, 114.0, 38.0, 126.0, 73.0, 80.0, 144.0, 206.0, 83.0, 189.0, 33.0, 105.0, 82.0, 63.0, 88.0, 223.0, 204.0, 87.0, 121.0, 118.0, 126.0, 54.0, 91.0, 55.0, 79.0, 48.0, 83.0, 185.0, 76.0, 101.0, 111.0, 38.0, 57.0, 79.0, 36.0, 207.0, 201.0, 52.0, 74.0, 45.0, 88.0, 103.0, 217.0, 103.0, 118.0, 213.0, 86.0, 44.0, 37.0, 60.0, 104.0, 70.0, 60.0, 80.0, 69.0, 9.0, 68.0, 16.0, 86.0, 35.0, 134.0, 72.0, 54.0, 71.0, 54.0, 40.0, 66.0, 171.0, 66.0, 191.0, 97.0, 8.0, 155.0, 96.0, 64.0, 145.0, 17.0, 149.0, 52.0, 71.0, 195.0, 39.0, 43.0, 63.0, 72.0, 74.0, 62.0, 49.0, 81.0, 78.0, 21.0, 33.0, 31.0, 92.0, 95.0, 183.0, 145.0, 101.0, 83.0, 57.0, 245.0, 98.0, 58.0, 103.0, 17.0, 222.0, 120.0, 170.0, 149.0, 131.0, 85.0, 144.0, 157.0, 196.0, 117.0, 58.0, 205.0, 160.0, 28.0, 84.0, 139.0, 56.0, 95.0, 39.0, 54.0, 162.0, 230.0, 65.0, 90.0, 20.0, 55.0, 75.0, 79.0, 31.0, 74.0, 193.0, 13.0, 176.0, 46.0, 99.0, 85.0, 32.0, 57.0, 190.0, 46.0, 32.0, 174.0, 59.0, 80.0, 37.0, 138.0, 39.0, 86.0, 4.0, 185.0, 187.0, 65.0, 122.0, 122.0, 229.0, 101.0, 171.0, 43.0, 92.0, 124.0, 74.0, 6.0, 67.0, 15.0, 20.0, 21.0, 139.0, 153.0, 47.0, 40.0, 75.0, 31.0, 25.0, 121.0, 99.0, 48.0, 41.0, 48.0, 181.0, 99.0, 77.0, 19.0, 109.0, 62.0, 183.0, 32.0, 203.0, 244.0, 59.0, 65.0, 124.0, 51.0, 93.0, 59.0, 129.0, 125.0, 51.0, 106.0, 148.0, 79.0, 240.0, 68.0, 95.0, 69.0, 165.0, 87.0, 176.0, 146.0, 21.0, 35.0, 156.0, 67.0, 144.0, 246.0, 79.0, 69.0, 133.0, 61.0, 72.0, 39.0, 177.0, 130.0, 55.0, 164.0, 131.0, 16.0, 58.0, 114.0, 67.0, 57.0, 15.0, 103.0, 53.0, 46.0, 128.0, 130.0, 130.0, 170.0, 61.0, 22.0, 228.0, 160.0, 98.0, 93.0, 95.0, 83.0, 97.0, 60.0, 125.0, 81.0, 95.0, 82.0, 112.0, 99.0, 53.0, 51.0, 21.0, 48.0, 54.0, 189.0, 246.0, 200.0, 185.0, 156.0, 93.0, 128.0, 88.0, 124.0, 89.0, 141.0, 102.0, 52.0, 113.0, 108.0, 155.0, 114.0, 162.0, 27.0, 184.0, 120.0, 77.0, 92.0, 109.0, 165.0, 129.0, 125.0, 139.0, 137.0, 105.0, 196.0, 163.0, 109.0, 72.0, 95.0, 133.0, 108.0, 51.0, 43.0, 172.0, 143.0, 126.0, 144.0, 136.0, 58.0, 174.0, 188.0, 31.0, 66.0, 59.0, 70.0, 98.0, 113.0, 93.0, 173.0, 156.0, 109.0, 120.0, 11.0, 150.0, 28.0, 48.0, 74.0, 101.0, 11.0, 29.0, 16.0, 32.0, 164.0, 182.0, 80.0, 74.0, 59.0, 48.0, 53.0, 78.0, 31.0, 78.0, 48.0, 140.0, 43.0, 23.0, 35.0, 49.0, 102.0, 41.0, 33.0, 223.0, 58.0, 82.0, 8.0, 21.0, 15.0, 61.0, 65.0, 153.0, 34.0, 111.0, 36.0, 41.0, 36.0, 37.0, 122.0, 143.0, 64.0, 142.0, 141.0, 42.0, 11.0, 88.0, 35.0, 87.0, 172.0, 65.0, 37.0, 98.0, 112.0, 68.0, 63.0, 48.0, 17.0, 113.0, 132.0, 72.0, 141.0, 57.0, 31.0, 55.0, 140.0, 18.0, 93.0, 13.0, 26.0, 116.0, 31.0, 16.0, 38.0, 52.0, 168.0, 121.0, 19.0, 36.0, 6.0, 149.0, 26.0, 22.0, 23.0, 20.0, 157.0, 24.0, 188.0, 26.0, 162.0, 31.0, 67.0, 53.0, 134.0, 237.0, 123.0, 40.0, 153.0, 147.0, 79.0, 249.0, 41.0, 37.0, 100.0, 10.0, 69.0, 45.0, 47.0, 22.0, 22.0, 176.0, 21.0, 50.0, 55.0, 169.0, 15.0, 85.0, 63.0, 22.0, 147.0, 67.0, 71.0, 70.0, 62.0, 138.0, 83.0, 22.0, 58.0, 73.0, 86.0, 115.0, 122.0, 40.0, 36.0, 6.0, 36.0, 43.0, 76.0, 56.0, 24.0, 27.0, 52.0, 31.0, 70.0, 24.0, 74.0, 34.0, 124.0, 85.0, 55.0, 66.0, 19.0, 32.0, 141.0, 137.0, 47.0, 232.0, 236.0, 62.0, 65.0, 114.0, 16.0, 71.0, 107.0, 121.0, 31.0, 14.0, 23.0, 77.0, 40.0, 13.0, 217.0, 112.0, 36.0, 79.0, 41.0, 63.0, 49.0, 150.0, 37.0, 20.0, 123.0, 12.0, 57.0, 60.0, 28.0, 10.0, 36.0, 33.0, 23.0, 38.0, 23.0, 115.0, 32.0, 88.0, 18.0, 141.0, 30.0, 116.0, 56.0, 18.0, 13.0, 7.0, 179.0, 51.0, 14.0, 112.0, 71.0, 30.0, 34.0, 71.0, 65.0, 106.0, 64.0, 144.0, 85.0, 56.0, 54.0, 33.0, 41.0, 139.0, 160.0, 26.0, 24.0, 120.0, 140.0, 109.0, 42.0, 6.0, 12.0, 32.0, 89.0, 42.0, 45.0, 100.0, 105.0, 34.0, 98.0, 99.0, 158.0, 56.0, 208.0, 63.0, 232.0, 7.0, 42.0, 117.0, 10.0, 40.0, 56.0, 51.0, 33.0, 159.0, 79.0, 49.0, 26.0, 67.0, 45.0, 26.0, 196.0, 152.0, 53.0, 51.0, 87.0, 35.0, 29.0, 43.0, 58.0, 24.0, 12.0, 57.0, 103.0, 13.0, 57.0, 43.0, 224.0, 10.0, 151.0, 9.0, 147.0, 25.0, 49.0, 66.0, 38.0, 70.0, 46.0, 46.0, 108.0, 53.0, 53.0, 68.0, 97.0, 59.0, 8.0, 24.0, 84.0, 18.0, 47.0, 66.0, 15.0, 8.0, 158.0, 58.0, 63.0, 43.0, 121.0, 26.0, 53.0, 60.0, 49.0, 63.0, 33.0, 86.0, 92.0, 26.0, 46.0, 139.0, 129.0, 16.0, 5.0, 86.0, 32.0, 55.0, 61.0, 41.0, 37.0, 18.0, 64.0, 132.0, 4.0, 22.0, 65.0, 25.0, 18.0, 80.0, 98.0, 13.0, 38.0, 36.0, 21.0, 61.0, 50.0, 69.0, 29.0, 152.0, 85.0, 40.0, 59.0, 22.0, 157.0, 40.0, 43.0, 109.0, 77.0, 12.0, 36.0, 93.0, 41.0, 42.0, 135.0, 75.0, 50.0, 105.0, 33.0, 9.0, 70.0, 205.0, 206.0, 44.0, 31.0, 81.0, 108.0, 143.0, 18.0, 32.0, 39.0, 27.0, 89.0, 42.0, 16.0, 21.0, 76.0, 98.0, 28.0, 110.0, 39.0, 37.0, 43.0, 114.0, 38.0, 39.0, 40.0, 237.0, 31.0, 62.0, 37.0, 16.0, 26.0, 49.0, 59.0, 99.0, 76.0, 36.0, 52.0, 34.0, 37.0, 46.0, 66.0, 131.0, 105.0, 73.0, 9.0, 67.0, 51.0, 34.0, 28.0, 16.0, 84.0, 53.0, 167.0, 84.0, 146.0, 51.0, 15.0, 25.0, 63.0, 62.0, 69.0, 103.0, 170.0, 72.0, 59.0, 75.0, 117.0, 27.0, 17.0, 22.0, 6.0, 84.0, 7.0, 91.0, 116.0, 47.0, 180.0, 126.0, 19.0, 66.0, 6.0, 105.0, 80.0, 61.0, 24.0, 68.0, 91.0, 114.0, 49.0, 98.0, 71.0, 36.0, 40.0, 37.0, 56.0, 36.0, 136.0, 12.0, 132.0, 61.0, 55.0, 82.0, 45.0, 28.0, 83.0, 22.0, 255.0, 89.0, 89.0, 184.0, 86.0, 180.0, 125.0, 46.0, 47.0, 100.0, 50.0, 204.0, 162.0, 96.0, 105.0, 149.0, 168.0, 76.0, 73.0, 170.0, 90.0, 149.0, 164.0, 215.0, 173.0, 145.0, 152.0, 163.0, 164.0, 202.0, 102.0, 105.0, 132.0, 132.0, 52.0, 143.0, 184.0, 57.0, 146.0, 128.0, 202.0, 46.0, 135.0, 109.0, 146.0, 256.0, 206.0, 214.0, 49.0, 60.0, 113.0, 79.0, 205.0, 68.0, 19.0, 49.0, 105.0, 18.0, 222.0, 150.0, 74.0, 223.0, 192.0, 149.0, 45.0, 56.0, 120.0, 41.0, 169.0, 43.0, 60.0, 37.0, 161.0, 71.0, 248.0, 37.0, 133.0, 163.0, 123.0, 116.0, 122.0, 102.0, 166.0, 142.0, 72.0, 121.0, 78.0, 63.0, 66.0, 54.0, 38.0, 53.0, 226.0, 106.0, 151.0, 124.0, 131.0, 145.0, 194.0, 121.0, 126.0, 175.0, 108.0, 75.0, 127.0, 98.0, 36.0, 61.0, 91.0, 124.0, 120.0, 132.0, 87.0, 143.0, 123.0, 137.0, 63.0, 114.0, 120.0, 58.0, 165.0, 160.0, 102.0, 88.0, 129.0, 139.0, 158.0, 118.0, 76.0, 187.0, 98.0, 251.0, 119.0, 61.0, 146.0, 4.0, 92.0, 139.0, 120.0, 111.0, 214.0, 160.0, 233.0, 106.0, 84.0, 89.0, 187.0, 58.0, 142.0, 65.0, 130.0, 242.0, 91.0, 189.0, 79.0, 148.0, 133.0, 141.0, 187.0, 38.0, 139.0, 178.0, 122.0, 153.0, 87.0, 145.0, 25.0, 187.0, 143.0, 87.0, 103.0, 111.0, 81.0, 101.0, 167.0, 132.0, 51.0, 68.0, 5.0, 122.0, 254.0, 168.0, 52.0, 246.0, 61.0, 197.0, 189.0, 189.0, 55.0, 68.0, 50.0, 20.0, 112.0, 229.0, 222.0, 34.0, 252.0, 213.0, 145.0, 105.0, 249.0, 103.0, 57.0, 162.0, 107.0, 42.0, 177.0, 61.0, 163.0, 208.0, 133.0, 171.0, 254.0, 139.0, 212.0, 248.0, 87.0, 128.0, 106.0, 101.0, 193.0, 104.0, 236.0, 46.0, 87.0, 144.0, 111.0, 231.0, 120.0, 168.0, 131.0, 71.0, 70.0, 148.0, 100.0, 81.0, 88.0, 140.0, 101.0, 56.0, 135.0, 106.0, 203.0, 41.0, 218.0, 128.0, 166.0, 175.0, 195.0, 141.0, 48.0, 54.0, 166.0, 125.0, 155.0, 60.0, 69.0, 158.0, 37.0, 176.0, 36.0, 175.0, 105.0, 211.0, 176.0, 120.0, 68.0, 139.0, 208.0, 75.0, 32.0, 38.0, 129.0, 250.0, 249.0, 93.0, 165.0, 100.0, 169.0, 78.0, 251.0, 125.0, 99.0, 118.0, 180.0, 70.0, 177.0, 47.0, 70.0, 124.0, 254.0, 147.0, 113.0, 99.0, 92.0, 66.0, 185.0, 70.0, 222.0, 14.0, 51.0, 212.0, 71.0, 69.0, 104.0, 134.0, 26.0, 126.0, 40.0, 48.0, 120.0, 21.0, 40.0, 244.0, 79.0, 170.0, 248.0, 64.0, 19.0, 106.0, 237.0, 63.0, 90.0, 145.0, 160.0, 44.0, 49.0, 116.0, 60.0, 94.0, 162.0, 178.0, 41.0, 177.0, 122.0, 216.0, 137.0, 101.0, 176.0, 38.0, 156.0, 91.0, 161.0, 118.0, 9.0, 110.0, 93.0, 241.0, 156.0, 51.0, 184.0, 91.0, 60.0, 171.0, 187.0, 184.0, 197.0, 220.0, 6.0, 131.0, 188.0, 80.0, 9.0, 243.0, 109.0, 215.0, 82.0, 117.0, 133.0, 26.0, 218.0, 47.0, 192.0, 58.0, 148.0, 80.0, 113.0, 90.0, 69.0, 84.0, 154.0, 152.0, 233.0, 130.0, 73.0, 148.0, 68.0, 92.0, 74.0, 77.0, 59.0, 116.0, 59.0, 147.0, 42.0, 140.0, 14.0, 73.0, 143.0, 28.0, 104.0, 79.0, 256.0, 86.0, 94.0, 73.0, 146.0, 64.0, 113.0, 114.0, 76.0, 61.0, 47.0, 154.0, 48.0, 68.0, 63.0, 66.0, 18.0, 33.0, 126.0, 252.0, 10.0, 48.0, 22.0, 82.0, 68.0, 51.0, 55.0, 61.0, 140.0, 177.0, 120.0, 178.0, 98.0, 203.0, 105.0, 201.0, 141.0, 202.0, 87.0, 230.0, 85.0, 204.0, 65.0, 201.0, 9.0, 86.0, 130.0, 69.0, 20.0, 75.0, 199.0, 79.0, 133.0, 225.0, 23.0, 36.0, 202.0, 173.0, 102.0, 120.0, 120.0, 45.0, 141.0, 85.0, 23.0, 84.0, 139.0, 20.0, 44.0, 147.0, 27.0, 117.0, 170.0, 10.0, 202.0, 72.0, 99.0, 180.0, 10.0, 101.0, 90.0, 67.0, 49.0, 74.0, 175.0, 68.0, 16.0, 124.0, 103.0, 154.0, 37.0, 122.0, 31.0, 92.0, 112.0, 32.0, 30.0, 130.0, 23.0, 87.0, 79.0, 102.0, 169.0, 83.0, 127.0, 89.0, 233.0, 154.0, 228.0, 67.0, 62.0, 112.0, 28.0, 46.0, 25.0, 88.0, 85.0, 211.0, 253.0, 148.0, 196.0, 52.0, 76.0, 243.0, 37.0, 113.0, 71.0, 161.0, 90.0, 139.0, 101.0, 89.0, 70.0, 150.0, 137.0, 109.0, 155.0, 31.0, 144.0, 99.0, 124.0, 38.0, 53.0, 158.0, 83.0, 240.0, 219.0, 82.0, 165.0, 115.0, 76.0, 244.0, 165.0, 127.0, 141.0, 197.0, 27.0, 30.0, 80.0, 100.0, 76.0, 49.0, 74.0, 89.0, 111.0, 39.0, 104.0, 152.0, 193.0, 133.0, 154.0, 150.0, 76.0, 87.0, 171.0, 16.0, 96.0, 45.0, 44.0, 28.0, 86.0, 64.0, 118.0, 60.0, 47.0, 88.0, 108.0, 14.0, 41.0, 178.0, 110.0, 91.0, 158.0, 56.0, 141.0, 195.0, 30.0, 162.0, 26.0, 28.0, 42.0, 59.0, 132.0, 53.0, 199.0, 162.0, 27.0, 140.0, 199.0, 31.0, 162.0, 218.0, 136.0, 202.0, 75.0, 116.0, 140.0, 98.0, 65.0, 194.0, 152.0, 65.0, 79.0, 246.0, 98.0, 210.0, 84.0, 99.0, 55.0, 118.0, 139.0, 43.0, 194.0, 25.0, 168.0, 133.0, 202.0, 50.0, 14.0, 50.0, 169.0, 156.0, 194.0, 76.0, 121.0, 155.0, 36.0, 12.0, 239.0, 221.0, 79.0, 92.0, 109.0, 161.0, 209.0, 63.0, 178.0, 42.0, 27.0, 111.0, 205.0, 113.0, 88.0, 94.0, 146.0, 32.0, 82.0, 105.0, 92.0, 42.0, 200.0, 207.0, 129.0, 158.0, 131.0, 32.0, 82.0, 212.0, 145.0, 165.0, 112.0, 224.0, 211.0, 103.0, 70.0, 100.0, 38.0, 82.0, 10.0, 181.0, 18.0, 127.0, 68.0, 172.0, 200.0, 117.0, 55.0, 147.0, 171.0, 239.0, 23.0, 137.0, 140.0, 132.0, 47.0, 216.0, 21.0, 55.0, 40.0, 99.0, 117.0, 98.0, 102.0, 33.0, 123.0, 124.0, 84.0, 56.0, 42.0, 140.0, 185.0, 99.0, 41.0, 67.0, 110.0, 23.0, 53.0, 33.0, 74.0, 78.0, 206.0, 145.0, 194.0, 196.0, 95.0, 122.0, 169.0, 255.0, 81.0, 106.0, 11.0, 103.0, 214.0, 54.0, 49.0, 145.0, 32.0, 110.0, 61.0, 184.0, 216.0, 128.0, 99.0, 71.0, 70.0, 142.0, 161.0, 187.0, 125.0, 140.0, 77.0, 172.0, 174.0, 158.0, 62.0, 199.0, 208.0, 131.0, 68.0, 72.0, 98.0, 114.0, 142.0, 29.0, 161.0, 150.0, 253.0, 105.0, 70.0, 162.0, 123.0, 225.0, 105.0, 139.0, 95.0, 67.0, 145.0, 130.0, 94.0, 69.0, 217.0, 129.0, 44.0, 93.0, 90.0, 83.0, 129.0, 126.0, 215.0, 68.0, 211.0, 80.0, 99.0, 178.0, 79.0, 93.0, 115.0, 45.0, 152.0, 104.0, 207.0, 125.0, 70.0, 20.0, 125.0, 171.0, 76.0, 78.0, 128.0, 242.0, 224.0, 207.0, 240.0, 136.0, 62.0, 118.0, 200.0, 120.0, 197.0, 136.0, 116.0, 227.0, 63.0, 181.0, 209.0, 122.0, 119.0, 171.0, 23.0, 129.0, 114.0, 178.0, 95.0, 132.0, 106.0, 146.0, 127.0, 113.0, 193.0, 47.0, 153.0, 40.0, 97.0, 210.0, 83.0, 103.0, 187.0, 155.0, 13.0, 223.0, 111.0, 197.0, 63.0, 80.0, 130.0, 14.0, 189.0, 33.0, 248.0, 30.0, 117.0, 152.0, 138.0, 97.0, 65.0, 48.0, 115.0, 62.0, 25.0, 89.0, 250.0, 123.0, 48.0, 83.0, 122.0, 108.0, 84.0, 134.0, 21.0, 36.0, 183.0, 49.0, 68.0, 182.0, 17.0, 87.0, 29.0, 105.0, 103.0, 192.0, 169.0, 88.0, 113.0, 115.0, 166.0, 236.0, 228.0, 63.0, 165.0, 67.0, 193.0, 194.0, 40.0, 40.0, 33.0, 225.0, 170.0, 212.0, 59.0, 148.0, 65.0, 189.0, 237.0, 134.0, 59.0, 100.0, 200.0, 122.0, 90.0, 94.0, 168.0, 201.0, 123.0, 181.0, 189.0, 6.0, 222.0, 188.0, 112.0, 14.0, 132.0, 197.0, 204.0, 125.0, 21.0, 48.0, 241.0, 158.0, 70.0, 243.0, 189.0, 103.0, 201.0, 58.0, 203.0, 252.0, 123.0, 120.0, 159.0, 77.0, 203.0, 61.0, 56.0, 125.0, 92.0, 103.0, 53.0, 117.0, 82.0, 201.0, 74.0, 111.0, 135.0, 62.0, 63.0, 214.0, 173.0, 228.0, 81.0, 164.0, 214.0, 104.0, 95.0, 41.0, 84.0, 54.0, 138.0, 112.0, 119.0, 102.0, 96.0, 79.0, 61.0, 138.0, 128.0, 98.0, 152.0, 165.0, 151.0, 74.0, 130.0, 123.0, 80.0, 33.0, 123.0, 131.0, 81.0, 129.0, 127.0, 23.0, 19.0, 117.0, 27.0, 49.0, 22.0, 11.0, 186.0, 169.0, 68.0, 139.0, 214.0, 43.0, 139.0, 90.0, 60.0, 215.0, 80.0, 115.0, 61.0, 152.0, 84.0, 173.0, 27.0, 169.0, 54.0, 183.0, 140.0, 146.0, 131.0, 52.0, 94.0, 45.0, 105.0, 134.0, 20.0, 61.0, 79.0, 22.0, 22.0, 27.0, 76.0, 19.0, 12.0, 140.0, 67.0, 41.0, 23.0, 83.0, 23.0, 107.0, 23.0, 30.0, 86.0, 16.0, 66.0, 56.0, 20.0, 85.0, 181.0, 22.0, 64.0, 26.0, 27.0, 24.0, 133.0, 24.0, 76.0, 18.0, 22.0, 15.0, 208.0, 51.0, 166.0, 29.0, 26.0, 122.0, 163.0, 22.0, 16.0, 75.0, 73.0, 21.0, 86.0, 23.0, 81.0, 30.0, 62.0, 17.0, 180.0, 110.0, 101.0, 45.0, 23.0, 21.0, 61.0, 138.0, 122.0, 87.0, 57.0, 35.0, 51.0, 107.0, 53.0, 34.0, 125.0, 149.0, 58.0, 23.0, 38.0, 5.0, 55.0, 182.0, 33.0, 99.0, 143.0, 56.0, 56.0, 211.0, 31.0, 74.0, 175.0, 58.0, 51.0, 94.0, 161.0, 96.0, 48.0, 75.0, 131.0, 14.0, 176.0, 95.0, 47.0, 45.0, 34.0, 120.0, 150.0, 33.0, 62.0, 56.0, 184.0, 92.0, 238.0, 131.0, 60.0, 36.0, 45.0, 20.0, 85.0, 49.0, 71.0, 27.0, 126.0, 121.0, 145.0, 52.0, 44.0, 168.0, 133.0, 110.0, 40.0, 16.0, 24.0, 36.0, 122.0, 62.0, 112.0, 121.0, 96.0, 38.0, 63.0, 25.0, 7.0, 104.0, 15.0, 22.0, 35.0, 87.0, 41.0, 104.0, 43.0, 116.0, 22.0, 99.0, 97.0, 181.0, 100.0, 26.0, 56.0, 118.0, 69.0, 45.0, 82.0, 177.0, 27.0, 83.0, 20.0, 37.0, 84.0, 12.0, 195.0, 130.0, 116.0, 62.0, 14.0, 72.0, 136.0, 49.0, 85.0, 89.0, 16.0, 135.0, 28.0, 72.0, 51.0, 13.0, 139.0, 217.0, 86.0, 74.0, 16.0, 86.0, 15.0, 7.0, 102.0, 183.0, 70.0, 181.0, 48.0, 102.0, 12.0, 44.0, 251.0, 40.0, 236.0, 110.0, 110.0, 113.0, 61.0, 47.0, 138.0, 111.0, 159.0, 34.0, 55.0, 103.0, 50.0, 84.0, 95.0, 60.0, 25.0, 50.0, 54.0, 154.0, 248.0, 117.0, 151.0, 120.0, 109.0, 92.0, 21.0, 32.0, 87.0, 22.0, 151.0, 213.0, 63.0, 83.0, 163.0, 110.0, 36.0, 86.0, 61.0, 149.0, 230.0, 170.0, 25.0, 116.0, 25.0, 59.0, 65.0, 145.0, 12.0, 7.0, 12.0, 207.0, 146.0, 92.0, 105.0, 33.0, 183.0, 110.0, 67.0, 64.0, 177.0, 37.0, 47.0, 17.0, 122.0, 62.0, 176.0, 130.0, 73.0, 24.0, 65.0, 19.0, 130.0, 26.0, 184.0, 29.0, 35.0, 95.0, 149.0, 59.0, 19.0, 116.0, 50.0, 24.0, 133.0, 180.0, 135.0, 120.0, 19.0, 51.0, 75.0, 50.0, 118.0, 95.0, 106.0, 124.0, 55.0, 23.0, 49.0, 108.0, 23.0, 72.0, 47.0, 96.0, 74.0, 119.0, 92.0, 128.0, 56.0, 134.0, 35.0, 16.0, 40.0, 208.0, 122.0, 92.0, 92.0, 90.0, 97.0, 92.0, 28.0, 28.0, 58.0, 116.0, 127.0, 59.0, 50.0, 91.0, 72.0, 10.0, 127.0, 198.0, 102.0, 73.0, 25.0, 115.0, 113.0, 10.0, 59.0, 62.0, 25.0, 35.0, 156.0, 71.0, 49.0, 107.0, 89.0, 123.0, 55.0, 6.0, 20.0, 136.0, 40.0, 102.0, 29.0, 44.0, 47.0, 16.0, 44.0, 65.0, 76.0, 61.0, 52.0, 71.0, 15.0, 84.0, 158.0, 62.0, 163.0, 48.0, 12.0, 41.0, 65.0, 59.0, 122.0, 116.0, 155.0, 122.0, 52.0, 246.0, 9.0, 8.0, 158.0, 40.0, 47.0, 142.0, 142.0, 174.0, 98.0, 73.0, 77.0, 31.0, 56.0, 11.0, 48.0, 113.0, 74.0, 36.0, 161.0, 60.0, 143.0, 108.0, 136.0, 158.0, 13.0, 24.0, 22.0, 18.0, 174.0, 215.0, 110.0, 31.0, 45.0, 53.0, 43.0, 174.0, 23.0, 13.0, 17.0, 195.0, 59.0, 143.0, 22.0, 125.0, 98.0, 111.0, 85.0, 54.0, 15.0, 58.0, 132.0, 87.0, 118.0, 154.0, 131.0, 74.0, 83.0, 140.0, 141.0, 63.0, 133.0, 160.0, 54.0, 20.0, 92.0, 75.0, 58.0, 72.0, 56.0, 101.0, 81.0, 69.0, 76.0, 86.0, 26.0, 70.0, 101.0, 135.0, 104.0, 114.0, 106.0, 157.0, 37.0, 10.0, 17.0, 62.0, 66.0, 81.0, 122.0, 87.0, 96.0, 52.0, 222.0, 36.0, 32.0, 56.0, 74.0, 53.0, 98.0, 72.0, 133.0, 61.0, 88.0, 68.0, 139.0, 164.0, 93.0, 133.0, 103.0, 172.0, 102.0, 169.0, 87.0, 60.0, 142.0, 61.0, 135.0, 117.0, 48.0, 118.0, 60.0, 132.0, 215.0, 121.0, 85.0, 6.0, 46.0, 116.0, 17.0, 85.0, 98.0, 239.0, 116.0, 83.0, 148.0, 191.0, 106.0, 127.0, 56.0, 38.0, 125.0, 20.0, 14.0, 57.0, 150.0, 92.0, 47.0, 97.0, 105.0, 37.0, 66.0, 188.0, 75.0, 27.0, 134.0, 56.0, 37.0, 90.0, 131.0, 109.0, 29.0, 16.0, 89.0, 37.0, 43.0, 103.0, 121.0, 53.0, 249.0, 164.0, 85.0, 78.0, 131.0, 135.0, 34.0, 207.0, 129.0, 87.0, 159.0, 130.0, 58.0, 90.0, 240.0, 125.0, 126.0, 122.0, 99.0, 31.0, 110.0, 156.0, 177.0, 18.0, 175.0, 54.0, 63.0, 59.0, 24.0, 251.0, 85.0, 74.0, 139.0, 112.0, 28.0, 186.0, 181.0, 84.0, 58.0, 155.0, 174.0, 73.0, 7.0, 138.0, 39.0, 134.0, 108.0, 123.0, 100.0, 63.0, 217.0, 88.0, 24.0, 68.0, 77.0, 195.0, 98.0, 54.0, 24.0, 47.0, 84.0, 80.0, 66.0, 104.0, 243.0, 30.0, 88.0, 84.0, 102.0, 256.0, 32.0, 37.0, 14.0, 57.0, 27.0, 55.0, 203.0, 160.0, 126.0, 47.0, 14.0, 36.0, 111.0, 67.0, 24.0, 96.0, 74.0, 84.0, 62.0, 60.0, 108.0, 73.0, 26.0, 40.0, 87.0, 141.0, 63.0, 88.0, 20.0, 27.0, 201.0, 91.0, 29.0, 13.0, 56.0, 31.0, 78.0, 72.0, 24.0, 130.0, 80.0, 93.0, 7.0, 166.0, 14.0, 129.0, 81.0, 43.0, 142.0, 32.0, 56.0, 43.0, 83.0, 49.0, 170.0, 147.0, 108.0, 24.0, 11.0, 101.0, 138.0, 30.0, 104.0, 139.0, 123.0, 64.0, 67.0, 75.0, 68.0, 11.0, 69.0, 75.0, 85.0, 72.0, 72.0, 100.0, 34.0, 180.0, 139.0, 220.0, 57.0, 39.0, 64.0, 37.0, 23.0, 22.0, 111.0, 24.0, 100.0, 55.0, 93.0, 125.0, 102.0, 111.0, 114.0, 192.0, 56.0, 144.0, 139.0, 96.0, 111.0, 135.0, 147.0, 118.0, 88.0, 136.0, 170.0, 121.0, 114.0, 191.0, 143.0, 24.0, 197.0, 30.0, 77.0, 69.0, 101.0, 165.0, 63.0, 152.0, 164.0, 116.0, 109.0, 122.0, 101.0, 44.0, 96.0, 86.0, 133.0, 31.0, 37.0, 130.0, 134.0, 102.0, 58.0, 44.0, 20.0, 70.0, 213.0, 46.0, 111.0, 119.0, 42.0, 20.0, 48.0, 16.0, 39.0, 119.0, 53.0, 176.0, 175.0, 57.0, 68.0, 245.0, 31.0, 132.0, 103.0, 20.0, 81.0, 202.0, 63.0, 88.0, 149.0, 128.0, 53.0, 51.0, 127.0, 116.0, 131.0, 71.0, 56.0, 76.0, 49.0, 119.0, 85.0, 82.0, 22.0, 107.0, 12.0, 71.0, 222.0, 63.0, 43.0, 91.0, 117.0, 82.0, 146.0, 67.0, 79.0, 144.0, 52.0, 49.0, 190.0, 130.0, 59.0, 36.0, 34.0, 62.0, 49.0, 66.0, 55.0, 214.0, 237.0, 82.0, 118.0, 52.0, 10.0, 65.0, 252.0, 30.0, 87.0, 178.0, 171.0, 126.0, 35.0, 97.0, 23.0, 41.0, 59.0, 102.0, 85.0, 70.0, 144.0, 204.0, 164.0, 118.0, 83.0, 38.0, 70.0, 14.0, 21.0, 94.0, 13.0, 48.0, 230.0, 188.0, 59.0, 27.0, 83.0, 49.0, 8.0, 59.0, 85.0, 89.0, 14.0, 99.0, 255.0, 136.0, 35.0, 106.0, 73.0, 135.0, 112.0, 88.0, 123.0, 176.0, 127.0, 185.0, 175.0, 98.0, 168.0, 117.0, 34.0, 128.0, 83.0, 238.0, 78.0, 241.0, 32.0, 103.0, 55.0, 24.0, 79.0, 150.0, 110.0, 65.0, 55.0, 95.0, 193.0, 130.0, 42.0, 48.0, 121.0, 170.0, 40.0, 14.0, 180.0, 116.0, 82.0, 39.0, 218.0, 128.0, 72.0, 196.0, 156.0, 130.0, 128.0, 25.0, 122.0, 204.0, 115.0, 32.0, 136.0, 143.0, 180.0, 63.0, 64.0, 146.0, 91.0, 106.0, 250.0, 26.0, 44.0, 112.0, 113.0, 98.0, 137.0, 92.0, 84.0, 58.0, 41.0, 144.0, 92.0, 90.0, 112.0, 17.0, 93.0, 17.0, 49.0, 40.0, 78.0, 37.0, 96.0, 74.0, 110.0, 119.0, 150.0, 53.0, 73.0, 42.0, 125.0, 93.0, 136.0, 125.0, 148.0, 117.0, 174.0, 163.0, 144.0, 91.0, 5.0, 29.0, 237.0, 49.0, 209.0, 46.0, 164.0, 52.0, 44.0, 239.0, 19.0, 39.0, 6.0, 121.0, 193.0, 119.0, 73.0, 32.0, 86.0, 197.0, 151.0, 239.0, 250.0, 164.0, 43.0, 47.0, 157.0, 203.0, 185.0, 79.0, 71.0, 96.0, 169.0, 162.0, 169.0, 123.0, 24.0, 201.0, 26.0, 41.0, 121.0, 159.0, 53.0, 14.0, 80.0, 111.0, 41.0, 98.0, 168.0, 242.0, 109.0, 153.0, 56.0, 128.0, 85.0, 130.0, 132.0, 45.0, 109.0, 45.0, 136.0, 92.0, 100.0, 123.0, 105.0, 185.0, 51.0, 21.0, 120.0, 14.0, 42.0, 24.0, 10.0, 66.0, 73.0, 141.0, 80.0, 86.0, 143.0, 240.0, 57.0, 39.0, 26.0, 138.0, 123.0, 45.0, 73.0, 22.0, 45.0, 18.0, 45.0, 159.0, 228.0, 132.0, 81.0, 56.0, 123.0, 35.0, 105.0, 33.0, 101.0, 22.0, 49.0, 38.0, 29.0, 21.0, 39.0, 167.0, 52.0, 36.0, 44.0, 127.0, 129.0, 209.0, 186.0, 48.0, 55.0, 15.0, 67.0, 79.0, 63.0, 55.0, 69.0, 164.0, 65.0, 127.0, 40.0, 35.0, 110.0, 92.0, 80.0, 141.0, 175.0, 44.0, 30.0, 57.0, 32.0, 12.0, 76.0, 99.0, 87.0, 44.0, 159.0, 70.0, 77.0, 166.0, 132.0, 250.0, 31.0, 34.0, 46.0, 127.0, 137.0, 116.0, 22.0, 27.0, 202.0, 65.0, 116.0, 72.0, 85.0, 114.0, 124.0, 168.0, 109.0, 70.0, 203.0, 53.0, 46.0, 66.0, 18.0, 23.0, 73.0, 38.0, 57.0, 52.0, 131.0, 156.0, 98.0, 43.0, 61.0, 145.0, 142.0, 106.0, 8.0, 30.0, 84.0, 18.0, 17.0, 81.0, 39.0, 69.0, 185.0, 201.0, 18.0, 68.0, 122.0, 15.0, 200.0, 81.0, 78.0, 252.0, 18.0, 63.0, 85.0, 65.0, 112.0, 104.0, 142.0, 55.0, 139.0, 85.0, 228.0, 119.0, 97.0, 89.0, 36.0, 67.0, 186.0, 20.0, 9.0, 153.0, 150.0, 157.0, 179.0, 196.0, 164.0, 40.0, 122.0, 49.0, 183.0, 57.0, 86.0, 104.0, 94.0, 130.0, 106.0, 28.0, 18.0, 85.0, 105.0, 143.0, 60.0, 71.0, 50.0, 76.0, 81.0, 18.0, 78.0, 118.0, 182.0, 25.0, 33.0, 63.0, 145.0, 52.0, 161.0, 220.0, 47.0, 27.0, 146.0, 11.0, 111.0, 160.0, 100.0, 78.0, 101.0, 36.0, 56.0, 24.0, 57.0, 26.0, 46.0, 127.0, 184.0, 47.0, 115.0, 129.0, 146.0, 11.0, 161.0, 15.0, 41.0, 69.0, 55.0, 92.0, 44.0, 28.0, 83.0, 94.0, 44.0, 166.0, 243.0, 16.0, 105.0, 104.0, 28.0, 83.0, 57.0, 70.0, 173.0, 56.0, 79.0, 98.0, 79.0, 50.0, 36.0, 70.0, 14.0, 130.0, 21.0, 106.0, 46.0, 197.0, 39.0, 35.0, 39.0, 123.0, 116.0, 19.0, 12.0, 30.0, 50.0, 88.0, 107.0, 118.0, 94.0, 153.0, 86.0, 54.0, 8.0, 110.0, 21.0, 99.0, 34.0, 228.0, 38.0, 108.0, 71.0, 139.0, 108.0, 64.0, 185.0, 186.0, 130.0, 240.0, 50.0, 91.0, 86.0, 113.0, 79.0, 119.0, 22.0, 161.0, 21.0, 136.0, 40.0, 123.0, 76.0, 158.0, 97.0, 28.0, 75.0, 22.0, 129.0, 31.0, 80.0, 81.0, 132.0, 70.0, 62.0, 45.0, 103.0, 219.0, 67.0, 55.0, 50.0, 9.0, 97.0, 60.0, 68.0, 89.0, 67.0, 84.0, 172.0, 21.0, 53.0, 213.0, 63.0, 78.0, 222.0, 19.0, 142.0, 45.0, 15.0, 42.0, 227.0, 61.0, 67.0, 64.0, 40.0, 24.0, 29.0, 151.0, 66.0, 113.0, 100.0, 13.0, 86.0, 175.0, 94.0, 104.0, 55.0, 218.0, 94.0, 56.0, 30.0, 170.0, 220.0, 72.0, 144.0, 143.0, 74.0, 39.0, 31.0, 17.0, 119.0, 12.0, 22.0, 103.0, 80.0, 89.0, 117.0, 147.0, 115.0, 47.0, 183.0, 60.0, 64.0, 17.0, 111.0, 78.0, 81.0, 119.0, 112.0, 74.0, 72.0, 60.0, 78.0, 90.0, 84.0, 23.0, 98.0, 61.0, 114.0, 56.0, 101.0, 68.0, 147.0, 61.0, 113.0, 144.0, 115.0, 243.0, 225.0, 101.0, 35.0, 154.0, 92.0, 99.0, 75.0, 22.0, 169.0, 108.0, 197.0, 213.0, 42.0, 135.0, 121.0, 113.0, 150.0, 122.0, 167.0, 91.0, 38.0, 8.0, 124.0, 9.0, 241.0, 168.0, 65.0, 64.0, 88.0, 118.0, 21.0, 54.0, 57.0, 246.0, 29.0, 148.0, 164.0, 134.0, 183.0, 93.0, 128.0, 124.0, 99.0, 71.0, 99.0, 75.0, 212.0, 95.0, 186.0, 42.0, 60.0, 76.0, 162.0, 92.0, 87.0, 129.0, 100.0, 135.0, 97.0, 103.0, 231.0, 133.0, 160.0, 204.0, 128.0, 92.0, 64.0, 105.0, 156.0, 171.0, 50.0, 110.0, 89.0, 50.0, 45.0, 159.0, 90.0, 14.0, 72.0, 86.0, 77.0, 141.0, 87.0, 139.0, 114.0, 154.0, 161.0, 151.0, 55.0, 131.0, 57.0, 78.0, 131.0, 130.0, 53.0, 79.0, 41.0, 120.0, 93.0, 50.0, 121.0, 97.0, 114.0, 96.0, 83.0, 104.0, 104.0, 114.0, 115.0, 42.0, 101.0, 79.0, 124.0, 127.0, 50.0, 104.0, 49.0, 243.0, 69.0, 109.0, 145.0, 98.0, 113.0, 81.0, 177.0, 76.0, 44.0, 221.0, 185.0, 43.0, 133.0, 169.0, 150.0, 156.0, 92.0, 23.0, 21.0, 113.0, 110.0, 182.0, 116.0, 117.0, 118.0, 89.0, 25.0, 75.0, 24.0, 161.0, 68.0, 78.0, 50.0, 78.0, 86.0, 67.0, 105.0, 110.0, 84.0, 100.0, 68.0, 117.0, 104.0, 106.0, 123.0, 36.0, 140.0, 231.0, 87.0, 64.0, 165.0, 33.0, 51.0, 49.0, 50.0, 45.0, 114.0, 41.0, 100.0, 102.0, 32.0, 144.0, 67.0, 248.0, 74.0, 112.0, 250.0, 158.0, 142.0, 151.0, 249.0, 49.0, 139.0, 72.0, 114.0, 127.0, 148.0, 16.0, 28.0, 248.0, 104.0, 40.0, 142.0, 53.0, 164.0, 51.0, 176.0, 79.0, 116.0, 30.0, 33.0, 69.0, 198.0, 54.0, 116.0, 209.0, 57.0, 85.0, 252.0, 151.0, 82.0, 11.0, 123.0, 78.0, 40.0, 14.0, 231.0, 234.0, 44.0, 124.0, 139.0, 93.0, 238.0, 145.0, 242.0, 79.0, 41.0, 37.0, 30.0, 30.0, 147.0, 144.0, 94.0, 130.0, 57.0, 165.0, 147.0, 92.0, 47.0, 140.0, 117.0, 160.0, 94.0, 170.0, 192.0, 107.0, 73.0, 81.0, 130.0, 151.0, 189.0, 18.0, 30.0, 170.0, 123.0, 127.0, 144.0, 35.0, 83.0, 115.0, 86.0, 132.0, 67.0, 145.0, 184.0, 110.0, 64.0, 137.0, 125.0, 36.0, 150.0, 57.0, 43.0, 115.0, 125.0, 154.0, 90.0, 191.0, 88.0, 108.0, 219.0, 111.0, 233.0, 151.0, 15.0, 87.0, 94.0, 85.0, 136.0, 69.0, 21.0, 204.0, 68.0, 102.0, 107.0, 206.0, 18.0, 143.0, 82.0, 100.0, 79.0, 141.0, 51.0, 66.0, 75.0, 57.0, 131.0, 170.0, 27.0, 70.0, 97.0, 128.0, 118.0, 77.0, 128.0, 176.0, 22.0, 159.0, 53.0, 141.0, 160.0, 76.0, 84.0, 205.0, 181.0, 56.0, 95.0, 55.0, 141.0, 215.0, 148.0, 126.0, 122.0, 147.0, 49.0, 148.0, 90.0, 191.0, 152.0, 116.0, 234.0, 17.0, 62.0, 172.0, 44.0, 39.0, 123.0, 71.0, 91.0, 139.0, 31.0, 112.0, 55.0, 105.0, 136.0, 33.0, 57.0, 157.0, 57.0, 62.0, 152.0, 222.0, 199.0, 78.0, 121.0, 40.0, 85.0, 34.0, 69.0, 105.0, 111.0, 34.0, 247.0, 170.0, 112.0, 113.0, 37.0, 178.0, 107.0, 64.0, 189.0, 208.0, 88.0, 160.0, 110.0, 224.0, 114.0, 73.0, 88.0, 45.0, 216.0, 120.0, 97.0, 62.0, 249.0, 88.0, 78.0, 50.0, 37.0, 87.0, 159.0, 134.0, 211.0, 122.0, 111.0, 156.0, 87.0, 95.0, 152.0, 119.0, 205.0, 109.0, 44.0, 96.0, 114.0, 154.0, 116.0, 207.0, 109.0, 36.0, 132.0, 145.0, 177.0, 70.0, 166.0, 90.0, 87.0, 109.0, 149.0, 178.0, 106.0, 254.0, 22.0, 114.0, 26.0, 10.0, 86.0, 50.0, 8.0, 106.0, 175.0, 95.0, 128.0, 147.0, 133.0, 60.0, 97.0, 142.0, 64.0, 78.0, 215.0, 106.0, 133.0, 45.0, 71.0, 131.0, 155.0, 130.0, 131.0, 118.0, 187.0, 241.0, 218.0, 245.0, 67.0, 171.0, 102.0, 68.0, 32.0, 234.0, 58.0, 136.0, 139.0, 206.0, 123.0, 88.0, 102.0, 173.0, 69.0, 110.0, 18.0, 100.0, 251.0, 88.0, 125.0, 56.0, 236.0, 205.0, 40.0, 84.0, 82.0, 96.0, 180.0, 73.0, 54.0, 81.0, 145.0, 202.0, 188.0, 49.0, 102.0, 64.0, 185.0, 158.0, 71.0, 244.0, 40.0, 15.0, 198.0, 39.0, 103.0, 94.0, 157.0, 39.0, 41.0, 37.0, 158.0, 25.0, 52.0, 36.0, 215.0, 71.0, 130.0, 229.0, 84.0, 148.0, 56.0, 129.0, 99.0, 43.0, 104.0, 118.0, 135.0, 20.0, 153.0, 60.0, 8.0, 202.0, 235.0, 119.0, 51.0, 64.0, 53.0, 74.0, 167.0, 130.0, 88.0, 71.0, 126.0, 188.0, 74.0, 161.0, 78.0, 140.0, 191.0, 66.0, 21.0, 80.0, 200.0, 76.0, 249.0, 122.0, 125.0, 75.0, 34.0, 97.0, 178.0, 117.0, 229.0, 161.0, 160.0, 83.0, 70.0, 26.0, 75.0, 26.0, 125.0, 15.0, 80.0, 201.0, 201.0, 64.0, 126.0, 150.0, 114.0, 13.0, 87.0, 76.0, 65.0, 249.0, 123.0, 124.0, 78.0, 109.0, 49.0, 60.0, 11.0, 83.0, 112.0, 82.0, 73.0, 75.0, 110.0, 130.0, 53.0, 113.0, 71.0, 172.0, 47.0, 84.0, 128.0, 151.0, 19.0, 35.0, 183.0, 63.0, 203.0, 114.0, 123.0, 184.0, 113.0, 182.0, 148.0, 39.0, 35.0, 77.0, 95.0, 109.0, 81.0, 28.0, 83.0, 151.0, 201.0, 250.0, 160.0, 82.0, 148.0, 75.0, 104.0, 70.0, 149.0, 66.0, 44.0, 181.0, 92.0, 195.0, 214.0, 107.0, 189.0, 130.0, 193.0, 144.0, 152.0, 142.0, 118.0, 129.0, 210.0, 171.0, 99.0, 236.0, 215.0, 95.0, 201.0, 234.0, 135.0, 132.0, 103.0, 86.0, 41.0, 213.0, 18.0, 37.0, 74.0, 50.0, 92.0, 241.0, 91.0, 55.0, 16.0, 58.0, 48.0, 53.0, 66.0, 115.0, 149.0, 181.0, 187.0, 132.0, 106.0, 193.0, 15.0, 162.0, 123.0, 143.0, 48.0, 193.0, 88.0, 184.0, 130.0, 190.0, 132.0, 74.0, 141.0, 119.0, 65.0, 166.0, 123.0, 55.0, 30.0, 77.0, 114.0, 31.0, 99.0, 70.0, 167.0, 23.0, 72.0, 63.0, 70.0, 19.0, 79.0, 45.0, 16.0, 112.0, 191.0, 127.0, 53.0, 73.0, 65.0, 79.0, 159.0, 140.0, 195.0, 15.0, 85.0, 63.0, 207.0, 95.0, 149.0, 93.0, 80.0, 231.0, 71.0, 132.0, 155.0, 125.0, 193.0, 110.0, 60.0, 98.0, 86.0, 48.0, 49.0, 183.0, 81.0, 76.0, 57.0, 19.0, 97.0, 101.0, 64.0, 237.0, 215.0, 59.0, 173.0, 68.0, 37.0, 137.0, 20.0, 82.0, 21.0, 154.0, 126.0, 47.0, 79.0, 243.0, 97.0, 47.0, 177.0, 225.0, 28.0, 68.0, 88.0, 172.0, 149.0, 96.0, 195.0, 37.0, 256.0, 41.0, 58.0, 170.0, 149.0, 73.0, 43.0, 176.0, 195.0, 164.0, 14.0, 91.0, 151.0, 65.0, 198.0, 125.0, 169.0, 64.0, 236.0, 128.0, 122.0, 141.0, 121.0, 31.0, 51.0, 67.0, 51.0, 131.0, 255.0, 88.0, 109.0, 168.0, 155.0, 145.0, 171.0, 136.0, 70.0, 105.0, 197.0, 102.0, 154.0, 83.0, 74.0, 159.0, 99.0, 90.0, 129.0, 144.0, 108.0, 191.0, 103.0, 127.0, 93.0, 41.0, 76.0, 59.0, 96.0, 68.0, 62.0, 138.0, 49.0, 102.0, 109.0, 207.0, 70.0, 151.0, 217.0, 14.0, 102.0, 28.0, 185.0, 145.0, 143.0, 85.0, 151.0, 113.0, 167.0, 237.0, 80.0, 184.0, 36.0, 99.0, 58.0, 63.0, 20.0, 34.0, 93.0, 155.0, 107.0, 57.0, 43.0, 121.0, 172.0, 128.0, 11.0, 133.0, 113.0, 66.0, 9.0, 70.0, 120.0, 224.0, 97.0, 20.0, 118.0, 44.0, 21.0, 183.0, 89.0, 108.0, 134.0, 48.0, 99.0, 30.0, 93.0, 256.0, 57.0, 50.0, 94.0, 154.0, 224.0, 44.0, 87.0, 104.0, 99.0, 244.0, 59.0, 139.0, 26.0, 19.0, 124.0, 68.0, 243.0, 46.0, 52.0, 66.0, 100.0, 86.0, 209.0, 173.0, 69.0, 89.0, 67.0, 134.0, 19.0, 111.0, 193.0, 150.0, 43.0, 122.0, 253.0, 67.0, 95.0, 114.0, 49.0, 55.0, 100.0, 55.0, 108.0, 82.0, 113.0, 64.0, 96.0, 74.0, 123.0, 115.0, 123.0, 67.0, 107.0, 149.0, 62.0, 156.0, 108.0, 85.0, 74.0, 118.0, 140.0, 226.0, 98.0, 174.0, 90.0, 83.0, 90.0, 10.0, 97.0, 44.0, 74.0, 123.0, 16.0, 93.0, 91.0, 53.0, 70.0, 177.0, 133.0, 105.0, 11.0, 132.0, 71.0, 80.0, 122.0, 98.0, 113.0, 56.0, 117.0, 67.0, 91.0, 138.0, 111.0, 29.0, 36.0, 57.0, 203.0, 135.0, 71.0, 61.0, 114.0, 186.0, 142.0, 62.0, 117.0, 36.0, 177.0, 123.0, 113.0, 153.0, 15.0, 129.0, 93.0, 80.0, 36.0, 124.0, 32.0, 65.0, 42.0, 42.0, 178.0, 13.0, 75.0, 138.0, 75.0, 51.0, 163.0, 92.0, 93.0, 102.0, 112.0, 44.0, 94.0, 24.0, 28.0, 114.0, 134.0, 27.0, 104.0, 74.0, 89.0, 60.0, 84.0, 61.0, 29.0, 64.0, 106.0, 121.0, 155.0, 98.0, 190.0, 169.0, 59.0, 30.0, 86.0, 166.0, 64.0, 34.0, 62.0, 190.0, 84.0, 124.0, 131.0, 110.0, 250.0, 38.0, 134.0, 139.0, 100.0, 110.0, 86.0, 138.0, 115.0, 118.0, 32.0, 98.0, 235.0, 112.0, 127.0, 136.0, 53.0, 106.0, 91.0, 159.0, 63.0, 127.0, 79.0, 64.0, 80.0, 37.0, 112.0, 105.0, 183.0, 104.0, 186.0, 123.0, 76.0, 101.0, 22.0, 78.0, 186.0, 78.0, 79.0, 38.0, 72.0, 30.0, 58.0, 46.0, 102.0, 73.0, 68.0, 70.0, 59.0, 89.0, 191.0, 112.0, 91.0, 89.0, 76.0, 90.0, 96.0, 40.0, 156.0, 14.0, 97.0, 43.0, 132.0, 19.0, 61.0, 179.0, 99.0, 141.0, 118.0, 145.0, 114.0, 117.0, 30.0, 50.0, 20.0, 23.0, 36.0, 37.0, 28.0, 24.0, 105.0, 77.0, 116.0, 103.0, 60.0, 110.0, 116.0, 80.0, 50.0, 91.0, 154.0, 44.0, 44.0, 63.0, 39.0, 64.0, 23.0, 33.0, 69.0, 30.0, 53.0, 85.0, 195.0, 70.0, 36.0, 100.0, 96.0, 57.0, 74.0, 170.0, 9.0, 123.0, 118.0, 129.0, 141.0, 13.0, 85.0, 17.0, 8.0, 26.0, 127.0, 52.0, 127.0, 61.0, 45.0, 69.0, 5.0, 104.0, 148.0, 166.0, 94.0, 14.0, 35.0, 148.0, 192.0, 59.0, 158.0, 66.0, 28.0, 152.0, 97.0, 75.0, 87.0, 114.0, 154.0, 62.0, 98.0, 146.0, 17.0, 64.0, 44.0, 168.0, 61.0, 164.0, 127.0, 31.0, 47.0, 179.0, 101.0, 57.0, 83.0, 145.0, 90.0, 99.0, 61.0, 144.0, 77.0, 28.0, 78.0, 55.0, 58.0, 42.0, 139.0, 93.0, 82.0, 252.0, 185.0, 54.0, 9.0, 73.0, 234.0, 80.0, 109.0, 212.0, 144.0, 127.0, 151.0, 243.0, 45.0, 48.0, 141.0, 43.0, 63.0, 31.0, 231.0, 82.0, 61.0, 131.0, 256.0, 178.0, 41.0, 57.0, 69.0, 148.0, 91.0, 19.0, 99.0, 34.0, 29.0, 185.0, 124.0, 50.0, 199.0, 31.0, 143.0, 31.0, 154.0, 172.0, 184.0, 167.0, 156.0, 178.0, 153.0, 187.0, 65.0, 65.0, 119.0, 180.0, 166.0, 49.0, 112.0, 143.0, 62.0, 102.0, 65.0, 144.0, 32.0, 133.0, 154.0, 61.0, 66.0, 29.0, 94.0, 201.0, 134.0, 15.0, 159.0, 178.0, 152.0, 31.0, 113.0, 11.0, 27.0, 115.0, 44.0, 21.0, 118.0, 108.0, 147.0, 165.0, 135.0, 65.0, 13.0, 179.0, 28.0, 104.0, 120.0, 42.0, 27.0, 9.0, 17.0, 213.0, 10.0, 189.0, 70.0, 46.0, 161.0, 135.0, 10.0, 14.0, 41.0, 99.0, 147.0, 39.0, 36.0, 144.0, 19.0, 75.0, 31.0, 166.0, 68.0, 26.0, 199.0, 75.0, 206.0, 43.0, 48.0, 12.0, 186.0, 35.0, 134.0, 97.0, 206.0, 136.0, 56.0, 115.0, 177.0, 73.0, 46.0, 75.0, 49.0, 35.0, 172.0, 69.0, 138.0, 113.0, 158.0, 177.0, 69.0, 188.0, 85.0, 160.0, 48.0, 72.0, 42.0, 95.0, 93.0, 70.0, 21.0, 95.0, 144.0, 34.0, 182.0, 78.0, 68.0, 180.0, 134.0, 75.0, 22.0, 93.0, 162.0, 85.0, 38.0, 119.0, 64.0, 106.0, 50.0, 54.0, 59.0, 57.0, 19.0, 11.0, 36.0, 104.0, 75.0, 97.0, 94.0, 104.0, 78.0, 61.0, 203.0, 34.0, 164.0, 112.0, 45.0, 23.0, 50.0, 34.0, 117.0, 125.0, 60.0, 194.0, 106.0, 139.0, 84.0, 145.0, 87.0, 26.0, 16.0, 31.0, 94.0, 97.0, 250.0, 72.0, 128.0, 97.0, 84.0, 92.0, 127.0, 34.0, 177.0, 83.0, 87.0, 49.0, 203.0, 114.0, 95.0, 17.0, 112.0, 170.0, 52.0, 129.0, 191.0, 175.0, 59.0, 151.0, 62.0, 239.0, 58.0, 72.0, 104.0, 62.0, 48.0, 121.0, 81.0, 141.0, 68.0, 23.0, 21.0, 72.0, 138.0, 15.0, 39.0, 48.0, 135.0, 159.0, 107.0, 182.0, 25.0, 161.0, 142.0, 81.0, 92.0, 53.0, 25.0, 29.0, 129.0, 61.0, 58.0, 210.0, 68.0, 5.0, 86.0, 189.0, 91.0, 133.0, 33.0, 25.0, 18.0, 95.0, 38.0, 119.0, 163.0, 250.0, 160.0, 130.0, 97.0, 106.0, 165.0, 43.0, 119.0, 161.0, 202.0, 104.0, 109.0, 168.0, 58.0, 100.0, 85.0, 75.0, 30.0, 237.0, 46.0, 41.0, 36.0, 147.0, 77.0, 68.0, 66.0, 107.0, 35.0, 80.0, 171.0, 71.0, 84.0, 73.0, 70.0, 196.0, 48.0, 45.0, 43.0, 14.0, 118.0, 154.0, 84.0, 98.0, 51.0, 97.0, 93.0, 183.0, 123.0, 153.0, 52.0, 75.0, 63.0, 86.0, 64.0, 73.0, 86.0, 77.0, 78.0, 160.0, 233.0, 61.0, 33.0, 97.0, 121.0, 82.0, 133.0, 60.0, 81.0, 89.0, 124.0, 29.0, 29.0, 35.0, 14.0, 60.0, 100.0, 142.0, 91.0, 30.0, 93.0, 83.0, 125.0, 120.0, 159.0, 71.0, 157.0, 56.0, 46.0, 170.0, 76.0, 102.0, 61.0, 54.0, 61.0, 59.0, 50.0, 38.0, 25.0, 98.0, 87.0, 28.0, 68.0, 199.0, 81.0, 86.0, 34.0, 71.0, 37.0, 140.0, 26.0, 69.0, 27.0, 187.0, 57.0, 67.0, 118.0, 70.0, 189.0, 235.0, 49.0, 146.0, 72.0, 49.0, 55.0, 101.0, 84.0, 56.0, 17.0, 188.0, 66.0, 186.0, 93.0, 91.0, 98.0, 31.0, 160.0, 12.0, 102.0, 105.0, 66.0, 67.0, 136.0, 99.0, 50.0, 175.0, 121.0, 145.0, 194.0, 62.0, 37.0, 119.0, 123.0, 46.0, 29.0, 65.0, 78.0, 135.0, 114.0, 87.0, 136.0, 75.0, 42.0, 135.0, 28.0, 49.0, 41.0, 101.0, 155.0, 24.0, 149.0, 52.0, 64.0, 77.0, 176.0, 129.0, 86.0, 205.0, 99.0, 153.0, 157.0, 33.0, 76.0, 19.0, 131.0, 107.0, 139.0, 118.0, 61.0, 99.0, 99.0, 155.0, 34.0, 140.0, 159.0, 55.0, 9.0, 161.0, 217.0, 64.0, 123.0, 233.0, 52.0, 26.0, 165.0, 223.0, 35.0, 33.0, 94.0, 124.0, 125.0, 114.0, 81.0, 69.0, 150.0, 55.0, 144.0, 48.0, 142.0, 22.0, 97.0, 120.0, 133.0, 84.0, 42.0, 93.0, 40.0, 153.0, 120.0, 78.0, 44.0, 120.0, 48.0, 118.0, 105.0, 46.0, 100.0, 123.0, 79.0, 88.0, 92.0, 104.0, 114.0, 73.0, 45.0, 47.0, 73.0, 176.0, 114.0, 111.0, 94.0, 73.0, 93.0, 12.0, 234.0, 145.0, 106.0, 246.0, 111.0, 112.0, 68.0, 103.0, 47.0, 159.0, 67.0, 87.0, 196.0, 110.0, 72.0, 41.0, 85.0, 50.0, 162.0, 99.0, 41.0, 193.0, 73.0, 158.0, 63.0, 8.0, 91.0, 192.0, 38.0, 112.0, 201.0, 255.0, 130.0, 54.0, 112.0, 90.0, 132.0, 115.0, 31.0, 193.0, 173.0, 185.0, 160.0, 96.0, 88.0, 160.0, 199.0, 132.0, 95.0, 77.0, 142.0, 183.0, 239.0, 10.0, 138.0, 153.0, 162.0, 114.0, 124.0, 126.0, 71.0, 43.0, 66.0, 69.0, 57.0, 111.0, 85.0, 42.0, 19.0, 71.0, 13.0, 163.0, 104.0, 80.0, 111.0, 72.0, 19.0, 83.0, 40.0, 252.0, 100.0, 72.0, 19.0, 70.0, 17.0, 188.0, 163.0, 77.0, 14.0, 76.0, 52.0, 50.0, 8.0, 182.0, 79.0, 69.0, 197.0, 11.0, 40.0, 12.0, 71.0, 116.0, 95.0, 105.0, 198.0, 84.0, 74.0, 70.0, 76.0, 97.0, 57.0, 27.0, 88.0, 55.0, 40.0, 81.0, 70.0, 33.0, 64.0, 39.0, 161.0, 44.0, 134.0, 64.0, 70.0, 75.0, 129.0, 147.0, 181.0, 43.0, 116.0, 183.0, 31.0, 116.0, 153.0, 96.0, 59.0, 74.0, 193.0, 49.0, 78.0, 102.0, 199.0, 81.0, 75.0, 179.0, 89.0, 183.0, 17.0, 21.0, 50.0, 116.0, 10.0, 125.0, 99.0, 177.0, 28.0, 120.0, 249.0, 76.0, 27.0, 83.0, 85.0, 30.0, 103.0, 161.0, 156.0, 47.0, 73.0, 68.0, 66.0, 144.0, 119.0, 130.0, 203.0, 104.0, 24.0, 79.0, 63.0, 129.0, 58.0, 74.0, 64.0, 113.0, 95.0, 81.0, 116.0, 117.0, 100.0, 118.0, 185.0, 122.0, 62.0, 54.0, 85.0, 57.0, 105.0, 143.0, 82.0, 107.0, 97.0, 91.0, 77.0, 87.0, 44.0, 25.0, 70.0, 51.0, 67.0, 68.0, 134.0, 119.0, 35.0, 43.0, 63.0, 183.0, 78.0, 152.0, 54.0, 31.0, 26.0, 26.0, 8.0, 12.0, 99.0, 63.0, 67.0, 14.0, 109.0, 238.0, 43.0, 10.0, 28.0, 139.0, 106.0, 158.0, 99.0, 175.0, 52.0, 35.0, 108.0, 53.0, 78.0, 9.0, 17.0, 27.0, 51.0, 111.0, 62.0, 12.0, 78.0, 100.0, 79.0, 73.0, 44.0, 38.0, 84.0, 80.0, 26.0, 93.0, 65.0, 169.0, 54.0, 98.0, 33.0, 35.0, 147.0, 144.0, 99.0, 39.0, 66.0, 44.0, 96.0, 77.0, 17.0, 54.0, 61.0, 111.0, 52.0, 188.0, 132.0, 85.0, 68.0, 160.0, 37.0, 143.0, 57.0, 100.0, 58.0, 153.0, 31.0, 96.0, 113.0, 75.0, 60.0, 70.0, 57.0, 13.0, 97.0, 46.0, 133.0, 114.0, 68.0, 63.0, 140.0, 127.0, 100.0, 13.0, 26.0, 118.0, 15.0, 41.0, 87.0, 9.0, 96.0, 209.0, 117.0, 45.0, 26.0, 4.0, 38.0, 62.0, 78.0, 115.0, 32.0, 179.0, 69.0, 75.0, 153.0, 128.0, 104.0, 144.0, 55.0, 38.0, 33.0, 137.0, 16.0, 105.0, 124.0, 79.0, 75.0, 77.0, 40.0, 66.0, 85.0, 108.0, 90.0, 63.0, 112.0, 77.0, 65.0, 81.0, 34.0, 112.0, 64.0, 54.0, 97.0, 141.0, 85.0, 76.0, 129.0, 75.0, 186.0, 48.0, 178.0, 61.0, 107.0, 150.0, 49.0, 91.0, 17.0, 44.0, 97.0, 32.0, 91.0, 143.0, 66.0, 41.0, 128.0, 33.0, 73.0, 87.0, 49.0, 11.0, 97.0, 77.0, 86.0, 88.0, 107.0, 102.0, 32.0, 74.0, 133.0, 72.0, 119.0, 126.0, 161.0, 101.0, 82.0, 150.0, 56.0, 99.0, 139.0, 61.0, 88.0, 92.0, 254.0, 41.0, 74.0, 11.0, 168.0, 74.0, 211.0, 167.0, 58.0, 96.0, 125.0, 129.0, 128.0, 20.0, 68.0, 142.0, 123.0, 58.0, 151.0, 94.0, 105.0, 79.0, 38.0, 150.0, 135.0, 230.0, 112.0, 112.0, 24.0, 30.0, 41.0, 37.0, 55.0, 108.0, 18.0, 63.0, 135.0, 105.0, 65.0, 9.0, 38.0, 59.0, 87.0, 34.0, 66.0, 253.0, 119.0, 12.0, 64.0, 54.0, 162.0, 89.0, 20.0, 82.0, 64.0, 232.0, 76.0, 60.0, 125.0, 52.0, 87.0, 244.0, 71.0, 136.0, 176.0, 74.0, 76.0, 95.0, 116.0, 68.0, 96.0, 149.0, 101.0, 54.0, 66.0, 12.0, 13.0, 195.0, 158.0, 97.0, 70.0, 208.0, 84.0, 167.0, 98.0, 104.0, 46.0, 25.0, 91.0, 36.0, 57.0, 123.0, 140.0, 205.0, 75.0, 136.0, 128.0, 66.0, 132.0, 98.0, 17.0, 165.0, 50.0, 90.0, 87.0, 98.0, 85.0, 37.0, 18.0, 67.0, 33.0, 30.0, 60.0, 84.0, 82.0, 92.0, 112.0, 15.0, 52.0, 34.0, 179.0, 72.0, 219.0, 124.0, 53.0, 28.0, 71.0, 55.0, 47.0, 98.0, 44.0, 47.0, 142.0, 149.0, 23.0, 47.0, 33.0, 51.0, 43.0, 184.0, 107.0, 96.0, 27.0, 74.0, 22.0, 23.0, 8.0, 54.0, 150.0, 99.0, 89.0, 54.0, 92.0, 61.0, 159.0, 63.0, 190.0, 72.0, 24.0, 172.0, 12.0, 103.0, 117.0, 161.0, 24.0, 85.0, 43.0, 62.0, 81.0, 135.0, 55.0, 64.0, 51.0, 125.0, 149.0, 83.0, 35.0, 47.0, 82.0, 92.0, 170.0, 43.0, 139.0, 109.0, 25.0, 113.0, 134.0, 57.0, 72.0, 84.0, 73.0, 58.0, 84.0, 104.0, 81.0, 83.0, 53.0, 89.0, 53.0, 89.0, 140.0, 207.0, 85.0, 134.0, 188.0, 42.0, 31.0, 78.0, 18.0, 21.0, 102.0, 46.0, 190.0, 133.0, 161.0, 146.0, 160.0, 9.0, 87.0, 9.0, 54.0, 55.0, 92.0, 28.0, 145.0, 133.0, 127.0, 110.0, 159.0, 35.0, 35.0, 193.0, 138.0, 24.0, 49.0, 185.0, 107.0, 100.0, 120.0, 230.0, 89.0, 193.0, 25.0, 210.0, 54.0, 64.0, 86.0, 91.0, 57.0, 172.0, 122.0, 30.0, 126.0, 103.0, 43.0, 114.0, 117.0, 144.0, 83.0, 106.0, 155.0, 158.0, 101.0, 57.0, 42.0, 166.0, 77.0, 19.0, 143.0, 178.0, 155.0, 31.0, 73.0, 200.0, 51.0, 53.0, 126.0, 60.0, 113.0, 129.0, 111.0, 71.0, 64.0, 66.0, 105.0, 60.0, 30.0, 139.0, 58.0, 116.0, 42.0, 42.0, 99.0, 73.0, 21.0, 100.0, 54.0, 72.0, 131.0, 48.0, 183.0, 53.0, 39.0, 68.0, 32.0, 147.0, 70.0, 103.0, 73.0, 102.0, 24.0, 19.0, 45.0, 106.0, 127.0, 121.0, 73.0, 15.0, 20.0, 35.0, 25.0, 74.0, 130.0, 78.0, 72.0, 35.0, 12.0, 51.0, 150.0, 93.0, 177.0, 58.0, 21.0, 16.0, 27.0, 62.0, 102.0, 53.0, 74.0, 68.0, 9.0, 44.0, 63.0, 96.0, 88.0, 20.0, 19.0, 43.0, 70.0, 15.0, 12.0, 20.0, 45.0, 107.0, 86.0, 95.0, 91.0, 23.0, 79.0, 30.0, 77.0, 217.0, 19.0, 19.0, 110.0, 70.0, 109.0, 110.0, 149.0, 36.0, 24.0, 32.0, 30.0, 41.0, 71.0, 53.0, 47.0, 49.0, 17.0, 14.0, 23.0, 106.0, 89.0, 47.0, 159.0, 80.0, 126.0, 47.0, 31.0, 207.0, 96.0, 186.0, 55.0, 202.0, 67.0, 25.0, 33.0, 29.0, 29.0, 55.0, 42.0, 40.0, 103.0, 67.0, 52.0, 63.0, 46.0, 64.0, 58.0, 215.0, 67.0, 179.0, 123.0, 78.0, 56.0, 58.0, 70.0, 196.0, 67.0, 48.0, 11.0, 14.0, 52.0, 83.0, 108.0, 36.0, 37.0, 173.0, 19.0, 54.0, 30.0, 74.0, 41.0, 32.0, 39.0, 53.0, 118.0, 87.0, 12.0, 57.0, 56.0, 108.0, 147.0, 28.0, 29.0, 150.0, 138.0, 72.0, 44.0, 55.0, 111.0, 66.0, 87.0, 30.0, 110.0, 23.0, 41.0, 139.0, 56.0, 67.0, 61.0, 43.0, 178.0, 31.0, 53.0, 123.0, 137.0, 160.0, 147.0, 123.0, 224.0, 84.0, 127.0, 139.0, 97.0, 193.0, 121.0, 33.0, 117.0, 116.0, 89.0, 75.0, 23.0, 107.0, 108.0, 50.0, 89.0, 63.0, 91.0, 28.0, 78.0, 75.0, 87.0, 53.0, 26.0, 46.0, 23.0, 79.0, 53.0, 34.0, 127.0, 67.0, 54.0, 116.0, 146.0, 127.0, 78.0, 73.0, 49.0, 158.0, 41.0, 62.0, 27.0, 130.0, 46.0, 78.0, 57.0, 114.0, 136.0, 58.0, 101.0, 54.0, 123.0, 131.0, 105.0, 142.0, 51.0, 119.0, 85.0, 17.0, 101.0, 246.0, 62.0, 217.0, 71.0, 44.0, 60.0, 110.0, 119.0, 143.0, 13.0, 138.0, 108.0, 58.0, 129.0, 58.0, 54.0, 21.0, 52.0, 100.0, 55.0, 10.0, 27.0, 25.0, 91.0, 135.0, 178.0, 116.0, 44.0, 75.0, 98.0, 45.0, 39.0, 55.0, 162.0, 129.0, 104.0, 51.0, 44.0, 41.0, 105.0, 136.0, 49.0, 56.0, 102.0, 39.0, 31.0, 39.0, 99.0, 77.0, 143.0, 192.0, 68.0, 50.0, 125.0, 90.0, 58.0, 80.0, 189.0, 118.0, 91.0, 87.0, 81.0, 124.0, 68.0, 22.0, 43.0, 44.0, 30.0, 167.0, 41.0, 66.0, 47.0, 68.0, 51.0, 29.0, 13.0, 38.0, 53.0, 77.0, 35.0, 115.0, 129.0, 71.0, 48.0, 26.0, 77.0, 19.0, 89.0, 82.0, 11.0, 18.0, 100.0, 128.0, 106.0, 62.0, 71.0, 150.0, 40.0, 125.0, 77.0, 61.0, 64.0, 103.0, 38.0, 60.0, 102.0, 128.0, 33.0, 42.0, 41.0, 177.0, 67.0, 85.0, 58.0, 26.0, 85.0, 120.0, 75.0, 121.0, 31.0, 13.0, 137.0, 32.0, 107.0, 24.0, 97.0, 121.0, 73.0, 73.0, 29.0, 64.0, 199.0, 66.0, 53.0, 56.0, 130.0, 41.0, 45.0, 88.0, 57.0, 23.0, 29.0, 10.0, 79.0, 98.0, 130.0, 73.0, 199.0, 67.0, 33.0, 60.0, 100.0, 89.0, 121.0, 59.0, 120.0, 63.0, 38.0, 93.0, 141.0, 122.0, 122.0, 67.0, 90.0, 69.0, 62.0, 65.0, 55.0, 136.0, 90.0, 51.0, 25.0, 41.0, 177.0, 203.0, 45.0, 113.0, 165.0, 36.0, 43.0, 88.0, 58.0, 184.0, 114.0, 38.0, 88.0, 88.0, 67.0, 38.0, 69.0, 151.0, 126.0, 77.0, 91.0, 115.0, 32.0, 42.0, 117.0, 24.0, 33.0, 138.0, 95.0, 92.0, 59.0, 29.0, 247.0, 56.0, 31.0, 62.0, 105.0, 73.0, 15.0, 21.0, 82.0, 50.0, 77.0, 48.0, 143.0, 36.0, 84.0, 24.0, 117.0, 116.0, 246.0, 237.0, 96.0, 62.0, 38.0, 55.0, 73.0, 117.0, 163.0, 55.0, 138.0, 180.0, 44.0, 154.0, 110.0, 101.0, 134.0, 133.0, 82.0, 46.0, 72.0, 15.0, 62.0, 85.0, 145.0, 110.0, 77.0, 83.0, 38.0, 97.0, 34.0, 51.0, 172.0, 97.0, 71.0, 60.0, 120.0, 133.0, 98.0, 35.0, 24.0, 89.0, 11.0, 30.0, 37.0, 61.0, 53.0, 109.0, 78.0, 100.0, 136.0, 13.0, 64.0, 136.0, 49.0, 88.0, 11.0, 111.0, 54.0, 58.0, 59.0, 25.0, 35.0, 72.0, 43.0, 132.0, 15.0, 141.0, 81.0, 200.0, 199.0, 12.0, 152.0, 55.0, 111.0, 153.0, 71.0, 67.0, 54.0, 88.0, 25.0, 64.0, 111.0, 44.0, 27.0, 73.0, 199.0, 201.0, 30.0, 76.0, 59.0, 92.0, 135.0, 181.0, 79.0, 62.0, 177.0, 154.0, 55.0, 49.0, 125.0, 179.0, 51.0, 40.0, 42.0, 46.0, 45.0, 83.0, 250.0, 38.0, 13.0, 61.0, 78.0, 101.0, 136.0, 57.0, 120.0, 23.0, 53.0, 20.0, 184.0, 136.0, 54.0, 48.0, 51.0, 46.0, 56.0, 87.0, 27.0, 47.0, 89.0, 67.0, 51.0, 22.0, 44.0, 16.0, 145.0, 182.0, 14.0, 48.0, 22.0, 32.0, 110.0, 126.0, 12.0, 21.0, 42.0, 12.0, 73.0, 54.0, 45.0, 22.0, 165.0, 124.0, 151.0, 28.0, 45.0, 145.0, 89.0, 51.0, 50.0, 77.0, 60.0, 23.0, 78.0, 35.0, 154.0, 51.0, 154.0, 42.0, 39.0, 108.0, 176.0, 32.0, 108.0, 23.0, 90.0, 176.0, 30.0, 4.0, 53.0, 49.0, 140.0, 83.0, 24.0, 47.0, 58.0, 20.0, 136.0, 44.0, 119.0, 26.0, 35.0, 29.0, 115.0, 54.0, 69.0, 40.0, 17.0, 159.0, 25.0, 105.0, 76.0, 23.0, 32.0, 71.0, 42.0, 68.0, 67.0, 39.0, 183.0, 13.0, 113.0, 120.0, 23.0, 68.0, 76.0, 45.0, 83.0, 136.0, 68.0, 149.0, 74.0, 68.0, 4.0, 87.0, 60.0, 45.0, 46.0, 57.0, 97.0, 238.0, 94.0, 105.0, 56.0, 50.0, 59.0, 55.0, 24.0, 159.0, 56.0, 40.0, 64.0, 105.0, 117.0, 103.0, 92.0, 65.0, 172.0, 37.0, 34.0, 55.0, 11.0, 27.0, 87.0, 43.0, 9.0, 35.0, 159.0, 39.0, 19.0, 75.0, 167.0, 115.0, 65.0, 100.0, 53.0, 69.0, 12.0, 10.0, 30.0, 39.0, 99.0, 119.0, 38.0, 82.0, 47.0, 23.0, 14.0, 19.0, 40.0, 40.0, 39.0, 22.0, 51.0, 63.0, 35.0, 21.0, 44.0, 74.0, 49.0, 55.0, 77.0, 249.0, 144.0, 118.0, 72.0, 13.0, 103.0, 55.0, 109.0, 14.0, 129.0, 122.0, 199.0, 62.0, 215.0, 6.0, 81.0, 34.0, 13.0, 9.0, 105.0, 134.0, 101.0, 140.0, 106.0, 177.0, 7.0, 62.0, 53.0, 69.0, 232.0, 161.0, 241.0, 60.0, 87.0, 141.0, 125.0, 110.0, 56.0, 65.0, 31.0, 153.0, 51.0, 78.0, 62.0, 51.0, 57.0, 75.0, 38.0, 26.0, 44.0, 24.0, 64.0, 24.0, 28.0, 72.0, 66.0, 40.0, 53.0, 28.0, 59.0, 46.0, 50.0, 6.0, 35.0, 15.0, 24.0, 14.0, 38.0, 31.0, 59.0, 46.0, 186.0, 53.0, 65.0, 58.0, 39.0, 36.0, 54.0, 75.0, 51.0, 23.0, 74.0, 60.0, 116.0, 46.0, 40.0, 100.0, 50.0, 115.0, 26.0, 68.0, 186.0, 34.0, 46.0, 27.0, 61.0, 24.0, 67.0, 40.0, 96.0, 133.0, 54.0, 84.0, 106.0, 40.0, 13.0, 40.0, 15.0, 54.0, 57.0, 35.0, 49.0, 7.0, 4.0, 80.0, 64.0, 80.0, 103.0, 90.0, 80.0, 88.0, 241.0, 182.0, 194.0, 190.0, 107.0, 131.0, 198.0, 77.0, 23.0, 62.0, 122.0, 64.0, 98.0, 160.0, 185.0, 106.0, 102.0, 133.0, 123.0, 100.0, 197.0, 156.0, 56.0, 227.0, 94.0, 114.0, 139.0, 94.0, 130.0, 95.0, 213.0, 80.0, 238.0, 82.0, 7.0, 56.0, 76.0, 127.0, 42.0, 228.0, 95.0, 162.0, 70.0, 79.0, 137.0, 106.0, 173.0, 88.0, 19.0, 61.0, 104.0, 70.0, 162.0, 189.0, 90.0, 174.0, 71.0, 60.0, 42.0, 62.0, 188.0, 9.0, 96.0, 200.0, 40.0, 59.0, 246.0, 105.0, 69.0, 111.0, 117.0, 241.0, 29.0, 105.0, 54.0, 81.0, 79.0, 83.0, 112.0, 255.0, 41.0, 160.0, 42.0, 126.0, 57.0, 163.0, 99.0, 80.0, 202.0, 37.0, 83.0, 160.0, 122.0, 148.0, 130.0, 168.0, 22.0, 114.0, 145.0, 171.0, 94.0, 135.0, 213.0, 39.0, 82.0, 88.0, 10.0, 142.0, 233.0, 173.0, 37.0, 42.0, 78.0, 124.0, 99.0, 110.0, 6.0, 142.0, 47.0, 46.0, 97.0, 46.0, 85.0, 221.0, 36.0, 50.0, 97.0, 89.0, 72.0, 174.0, 169.0, 32.0, 38.0, 189.0, 66.0, 49.0, 47.0, 54.0, 16.0, 8.0, 89.0, 91.0, 245.0, 129.0, 59.0, 103.0, 63.0, 150.0, 153.0, 25.0, 136.0, 92.0, 174.0, 128.0, 27.0, 111.0, 226.0, 84.0, 124.0, 86.0, 241.0, 66.0, 88.0, 76.0, 151.0, 34.0, 170.0, 19.0, 225.0, 251.0, 24.0, 60.0, 203.0, 103.0, 101.0, 84.0, 94.0, 59.0, 90.0, 75.0, 31.0, 72.0, 181.0, 163.0, 105.0, 122.0, 83.0, 131.0, 48.0, 68.0, 76.0, 154.0, 34.0, 86.0, 133.0, 57.0, 146.0, 143.0, 61.0, 39.0, 127.0, 42.0, 224.0, 80.0, 90.0, 49.0, 88.0, 63.0, 19.0, 108.0, 134.0, 154.0, 128.0, 85.0, 60.0, 21.0, 31.0, 140.0, 177.0, 6.0, 102.0, 99.0, 121.0, 24.0, 172.0, 11.0, 59.0, 101.0, 69.0, 53.0, 46.0, 226.0, 77.0, 118.0, 213.0, 82.0, 79.0, 151.0, 145.0, 59.0, 198.0, 39.0, 94.0, 49.0, 89.0, 58.0, 234.0, 9.0, 146.0, 218.0, 207.0, 229.0, 110.0, 27.0, 46.0, 116.0, 87.0, 43.0, 35.0, 71.0, 26.0, 95.0, 98.0, 59.0, 30.0, 43.0, 205.0, 131.0, 60.0, 71.0, 50.0, 47.0, 57.0, 31.0, 136.0, 59.0, 65.0, 210.0, 54.0, 72.0, 47.0, 59.0, 18.0, 54.0, 52.0, 64.0, 60.0, 53.0, 69.0, 112.0, 73.0, 87.0, 85.0, 38.0, 39.0, 48.0, 61.0, 79.0, 131.0, 160.0, 116.0, 223.0, 216.0, 50.0, 27.0, 87.0, 5.0, 63.0, 19.0, 71.0, 66.0, 11.0, 140.0, 26.0, 104.0, 58.0, 67.0, 122.0, 51.0, 68.0, 80.0, 47.0, 103.0, 61.0, 181.0, 101.0, 71.0, 72.0, 141.0, 47.0, 77.0, 120.0, 49.0, 12.0, 99.0, 116.0, 28.0, 118.0, 75.0, 17.0, 87.0, 59.0, 30.0, 73.0, 39.0, 44.0, 40.0, 82.0, 46.0, 32.0, 28.0, 82.0, 40.0, 198.0, 121.0, 28.0, 106.0, 29.0, 156.0, 126.0, 230.0, 96.0, 100.0, 72.0, 245.0, 54.0, 93.0, 112.0, 102.0, 117.0, 67.0, 100.0, 84.0, 116.0, 241.0, 113.0, 122.0, 58.0, 13.0, 92.0, 187.0, 123.0, 133.0, 133.0, 229.0, 21.0, 39.0, 142.0, 137.0, 151.0, 69.0, 59.0, 82.0, 14.0, 80.0, 83.0, 121.0, 120.0, 177.0, 192.0, 24.0, 247.0, 14.0, 107.0, 28.0, 117.0, 22.0, 135.0, 124.0, 84.0, 30.0, 123.0, 119.0, 174.0, 141.0, 138.0, 94.0, 35.0, 54.0, 26.0, 90.0, 180.0, 11.0, 113.0, 129.0, 217.0, 142.0, 118.0, 173.0, 34.0, 97.0, 7.0, 188.0, 32.0, 65.0, 100.0, 58.0, 124.0, 130.0, 89.0, 167.0, 69.0, 115.0, 82.0, 25.0, 92.0, 213.0, 79.0, 122.0, 219.0, 69.0, 220.0, 219.0, 230.0, 68.0, 117.0, 23.0, 14.0, 91.0, 171.0, 103.0, 170.0, 134.0, 218.0, 113.0, 15.0, 75.0, 48.0, 38.0, 132.0, 50.0, 14.0, 146.0, 43.0, 33.0, 186.0, 225.0, 147.0, 204.0, 79.0, 96.0, 92.0, 74.0, 87.0, 36.0, 180.0, 89.0, 121.0, 78.0, 58.0, 104.0, 166.0, 103.0, 41.0, 170.0, 38.0, 30.0, 118.0, 89.0, 178.0, 136.0, 50.0, 29.0, 57.0, 46.0, 94.0, 58.0, 76.0, 53.0, 146.0, 50.0, 28.0, 122.0, 141.0, 82.0, 241.0, 124.0, 51.0, 58.0, 119.0, 133.0, 44.0, 140.0, 48.0, 61.0, 122.0, 82.0, 148.0, 98.0, 40.0, 139.0, 162.0, 114.0, 56.0, 50.0, 74.0, 70.0, 132.0, 88.0, 101.0, 76.0, 63.0, 143.0, 143.0, 32.0, 37.0, 59.0, 200.0, 42.0, 110.0, 238.0, 93.0, 27.0, 49.0, 105.0, 154.0, 105.0, 107.0, 100.0, 96.0, 120.0, 17.0, 148.0, 39.0, 229.0, 105.0, 77.0, 56.0, 76.0, 31.0, 154.0, 57.0, 74.0, 139.0, 76.0, 32.0, 63.0, 142.0, 96.0, 74.0, 69.0, 44.0, 156.0, 68.0, 167.0, 124.0, 55.0, 116.0, 51.0, 127.0, 131.0, 202.0, 133.0, 141.0, 41.0, 123.0, 152.0, 36.0, 67.0, 82.0, 107.0, 79.0, 255.0, 57.0, 56.0, 172.0, 50.0, 161.0, 55.0, 39.0, 80.0, 26.0, 34.0, 202.0, 130.0, 105.0, 52.0, 34.0, 152.0, 184.0, 112.0, 233.0, 51.0, 97.0, 162.0, 25.0, 58.0, 35.0, 151.0, 46.0, 100.0, 242.0, 25.0, 72.0, 63.0, 109.0, 20.0, 89.0, 141.0, 108.0, 38.0, 107.0, 28.0, 154.0, 170.0, 58.0, 125.0, 30.0, 165.0, 28.0, 97.0, 150.0, 55.0, 211.0, 163.0, 34.0, 74.0, 114.0, 96.0, 135.0, 55.0, 61.0, 103.0, 154.0, 124.0, 57.0, 131.0, 31.0, 178.0, 105.0, 144.0, 118.0, 66.0, 62.0, 140.0, 173.0, 83.0, 47.0, 190.0, 98.0, 228.0, 59.0, 129.0, 127.0, 194.0, 99.0, 89.0, 98.0, 15.0, 128.0, 126.0, 69.0, 167.0, 112.0, 167.0, 80.0, 73.0, 155.0, 116.0, 149.0, 32.0, 98.0, 157.0, 110.0, 169.0, 129.0, 57.0, 119.0, 199.0, 152.0, 77.0, 146.0, 165.0, 24.0, 17.0, 173.0, 78.0, 86.0, 153.0, 85.0, 17.0, 52.0, 89.0, 133.0, 67.0, 70.0, 99.0, 85.0, 50.0, 82.0, 58.0, 63.0, 75.0, 82.0, 72.0, 136.0, 55.0, 137.0, 150.0, 84.0, 172.0, 113.0, 115.0, 41.0, 160.0, 127.0, 144.0, 100.0, 112.0, 138.0, 200.0, 60.0, 124.0, 109.0, 171.0, 103.0, 129.0, 57.0, 91.0, 116.0, 136.0, 204.0, 123.0, 85.0, 58.0, 127.0, 186.0, 66.0, 84.0, 91.0, 48.0, 53.0, 97.0, 69.0, 195.0, 40.0, 29.0, 102.0, 26.0, 80.0, 56.0, 75.0, 49.0, 77.0, 16.0, 63.0, 98.0, 64.0, 155.0, 138.0, 188.0, 74.0, 82.0, 7.0, 90.0, 77.0, 75.0, 48.0, 65.0, 80.0, 30.0, 167.0, 26.0, 114.0, 47.0, 222.0, 30.0, 24.0, 18.0, 173.0, 139.0, 5.0, 8.0, 25.0, 75.0, 10.0, 78.0, 151.0, 22.0, 116.0, 31.0, 93.0, 71.0, 60.0, 70.0, 10.0, 170.0, 51.0, 28.0, 26.0, 49.0, 121.0, 241.0, 92.0, 36.0, 72.0, 18.0, 231.0, 96.0, 89.0, 55.0, 82.0, 220.0, 35.0, 127.0, 75.0, 40.0, 111.0, 129.0, 8.0, 46.0, 131.0, 45.0, 109.0, 40.0, 38.0, 194.0, 8.0, 17.0, 35.0, 11.0, 114.0, 16.0, 58.0, 58.0, 18.0, 161.0, 87.0, 17.0, 28.0, 60.0, 9.0, 79.0, 43.0, 177.0, 142.0, 38.0, 33.0, 31.0, 240.0, 37.0, 24.0, 26.0, 22.0, 44.0, 135.0, 144.0, 34.0, 68.0, 78.0, 27.0, 134.0, 91.0, 24.0, 114.0, 14.0, 58.0, 40.0, 193.0, 127.0, 80.0, 14.0, 19.0, 216.0, 48.0, 136.0, 9.0, 24.0, 137.0, 80.0, 7.0, 63.0, 24.0, 90.0, 47.0, 175.0, 179.0, 53.0, 32.0, 123.0, 16.0, 169.0, 20.0, 142.0, 115.0, 72.0, 66.0, 243.0, 226.0, 25.0, 46.0, 90.0, 54.0, 95.0, 207.0, 56.0, 18.0, 106.0, 12.0, 153.0, 184.0, 51.0, 68.0, 81.0, 30.0, 19.0, 29.0, 67.0, 19.0, 66.0, 22.0, 106.0, 27.0, 12.0, 15.0, 188.0, 108.0, 61.0, 38.0, 31.0, 35.0, 90.0, 97.0, 90.0, 177.0, 255.0, 28.0, 26.0, 17.0, 87.0, 22.0, 133.0, 134.0, 247.0, 161.0, 108.0, 160.0, 27.0, 165.0, 135.0, 51.0, 34.0, 55.0, 150.0, 18.0, 63.0, 118.0, 88.0, 117.0, 16.0, 110.0, 107.0, 22.0, 15.0, 25.0, 160.0, 88.0, 13.0, 82.0, 82.0, 128.0, 64.0, 45.0, 44.0, 136.0, 85.0, 39.0, 8.0, 85.0, 7.0, 148.0, 153.0, 140.0, 63.0, 126.0, 113.0, 162.0, 124.0, 19.0, 69.0, 56.0, 172.0, 133.0, 122.0, 29.0, 138.0, 18.0, 67.0, 192.0, 50.0, 81.0, 33.0, 200.0, 195.0, 38.0, 126.0, 32.0, 13.0, 51.0, 196.0, 64.0, 13.0, 22.0, 70.0, 197.0, 33.0, 25.0, 24.0, 30.0, 64.0, 15.0, 9.0, 183.0, 53.0, 69.0, 141.0, 167.0, 52.0, 22.0, 40.0, 51.0, 13.0, 62.0, 143.0, 144.0, 28.0, 29.0, 27.0, 242.0, 42.0, 28.0, 40.0, 28.0, 90.0, 34.0, 117.0, 48.0, 36.0, 51.0, 17.0, 92.0, 11.0, 86.0, 62.0, 44.0, 30.0, 28.0, 83.0, 16.0, 37.0, 58.0, 52.0, 89.0, 39.0, 83.0, 9.0, 101.0, 13.0, 16.0, 53.0, 87.0, 22.0, 29.0, 82.0, 23.0, 41.0, 198.0, 24.0, 71.0, 10.0, 42.0, 211.0, 18.0, 132.0, 198.0, 38.0, 77.0, 4.0, 66.0, 116.0, 37.0, 68.0, 18.0, 28.0, 15.0, 167.0, 33.0, 4.0, 22.0, 53.0, 15.0, 92.0, 41.0, 14.0, 67.0, 89.0, 17.0, 80.0, 9.0, 14.0, 17.0, 33.0, 117.0, 27.0, 68.0, 68.0, 120.0, 27.0, 71.0, 67.0, 23.0, 68.0, 7.0, 180.0, 19.0, 9.0, 206.0, 31.0, 72.0, 144.0, 8.0, 57.0, 97.0, 62.0, 147.0, 50.0, 62.0, 104.0, 130.0, 131.0, 37.0, 40.0, 127.0, 43.0, 48.0, 70.0, 110.0, 25.0, 185.0, 180.0, 32.0, 25.0, 18.0, 105.0, 137.0, 103.0, 14.0, 27.0, 148.0, 157.0, 78.0, 22.0, 33.0, 27.0, 29.0, 128.0, 16.0, 92.0, 95.0, 98.0, 84.0, 121.0, 11.0, 108.0, 60.0, 82.0, 32.0, 39.0, 99.0, 36.0, 71.0, 23.0, 44.0, 94.0, 49.0, 34.0, 175.0, 32.0, 81.0, 57.0, 83.0, 42.0, 197.0, 183.0, 51.0, 184.0, 15.0, 55.0, 62.0, 117.0, 22.0, 162.0, 52.0, 26.0, 82.0, 93.0, 38.0, 97.0, 26.0, 229.0, 54.0, 190.0, 51.0, 228.0, 217.0, 7.0, 24.0, 94.0, 141.0, 155.0, 85.0, 101.0, 14.0, 151.0, 190.0, 43.0, 57.0, 99.0, 29.0, 11.0, 30.0, 105.0, 111.0, 79.0, 16.0, 94.0, 36.0, 115.0, 21.0, 47.0, 39.0, 18.0, 11.0, 30.0, 165.0, 19.0, 126.0, 85.0, 119.0, 27.0, 21.0, 17.0, 23.0, 51.0, 93.0, 12.0, 130.0, 12.0, 32.0, 17.0, 22.0, 151.0, 13.0, 44.0, 78.0, 10.0, 49.0, 30.0, 47.0, 54.0, 113.0, 131.0, 15.0, 101.0, 47.0, 91.0, 226.0, 94.0, 110.0, 15.0, 78.0, 39.0, 90.0, 61.0, 235.0, 153.0, 16.0, 69.0, 18.0, 19.0, 242.0, 224.0, 53.0, 15.0, 169.0, 13.0, 76.0, 92.0, 65.0, 82.0, 36.0, 44.0, 220.0, 133.0, 84.0, 72.0, 108.0, 86.0, 30.0, 14.0, 50.0, 15.0, 30.0, 83.0, 113.0, 52.0, 130.0, 111.0, 166.0, 11.0, 108.0, 22.0, 29.0, 133.0, 217.0, 32.0, 124.0, 88.0, 16.0, 92.0, 76.0, 20.0, 194.0, 116.0, 21.0, 171.0, 227.0, 47.0, 143.0, 36.0, 142.0, 54.0, 245.0, 59.0, 24.0, 29.0, 19.0, 39.0, 69.0, 157.0, 50.0, 81.0, 104.0, 92.0, 19.0, 109.0, 156.0, 49.0, 76.0, 36.0, 166.0, 215.0, 87.0, 90.0, 111.0, 18.0, 19.0, 252.0, 57.0, 56.0, 193.0, 21.0, 31.0, 62.0, 57.0, 108.0, 20.0, 31.0, 13.0, 31.0, 91.0, 101.0, 44.0, 133.0, 16.0, 73.0, 43.0, 96.0, 87.0, 11.0, 143.0, 145.0, 47.0, 83.0, 20.0, 8.0, 53.0, 39.0, 41.0, 21.0, 178.0, 49.0, 52.0, 107.0, 111.0, 124.0, 12.0, 37.0, 82.0, 30.0, 62.0, 94.0, 78.0, 30.0, 31.0, 66.0, 33.0, 8.0, 207.0, 76.0, 74.0, 17.0, 208.0, 18.0, 19.0, 32.0, 97.0, 137.0, 16.0, 16.0, 43.0, 34.0, 136.0, 45.0, 75.0, 27.0, 29.0, 92.0, 23.0, 33.0, 70.0, 33.0, 187.0, 64.0, 96.0, 110.0, 99.0, 118.0, 54.0, 34.0, 165.0, 16.0, 66.0, 24.0, 145.0, 100.0, 195.0, 45.0, 99.0, 39.0, 54.0, 57.0, 71.0, 31.0, 83.0, 94.0, 117.0, 70.0, 130.0, 179.0, 133.0, 144.0, 70.0, 121.0, 67.0, 162.0, 184.0, 11.0, 133.0, 52.0, 23.0, 99.0, 26.0, 18.0, 13.0, 27.0, 35.0, 74.0, 40.0, 168.0, 18.0, 30.0, 19.0, 204.0, 32.0, 60.0, 35.0, 20.0, 15.0, 136.0, 11.0, 85.0, 81.0, 38.0, 143.0, 82.0, 115.0, 14.0, 60.0, 18.0, 44.0, 5.0, 41.0, 206.0, 79.0, 56.0, 47.0, 101.0, 30.0, 70.0, 21.0, 232.0, 19.0, 92.0, 35.0, 43.0, 27.0, 34.0, 59.0, 33.0, 42.0, 72.0, 50.0, 91.0, 10.0, 78.0, 16.0, 91.0, 25.0, 133.0, 22.0, 37.0, 56.0, 175.0, 29.0, 51.0, 7.0, 42.0, 92.0, 177.0, 25.0, 23.0, 22.0, 125.0, 71.0, 17.0, 10.0, 68.0, 13.0, 130.0, 31.0, 166.0, 198.0, 203.0, 11.0, 13.0, 32.0, 79.0, 5.0, 100.0, 44.0, 126.0, 9.0, 65.0, 26.0, 117.0, 36.0, 27.0, 100.0, 27.0, 90.0, 96.0, 40.0, 36.0, 102.0, 40.0, 76.0, 13.0, 156.0, 77.0, 24.0, 152.0, 146.0, 13.0, 27.0, 120.0, 48.0, 56.0, 30.0, 28.0, 45.0, 47.0, 82.0, 63.0, 134.0, 34.0, 66.0, 159.0, 57.0, 74.0, 136.0, 29.0, 137.0, 173.0, 12.0, 44.0, 47.0, 65.0, 146.0, 110.0, 136.0, 27.0, 203.0, 93.0, 113.0, 143.0, 116.0, 168.0, 58.0, 181.0, 37.0, 28.0, 48.0, 49.0, 53.0, 179.0, 93.0, 44.0, 117.0, 54.0, 95.0, 183.0, 22.0, 96.0, 116.0, 46.0, 114.0, 84.0, 16.0, 10.0, 55.0, 85.0, 78.0, 10.0, 99.0, 27.0, 24.0, 10.0, 10.0, 137.0, 37.0, 45.0, 155.0, 36.0, 67.0, 66.0, 94.0, 12.0, 179.0, 221.0, 59.0, 121.0, 23.0, 38.0, 29.0, 68.0, 182.0, 45.0, 60.0, 18.0, 17.0, 58.0, 47.0, 49.0, 96.0, 17.0, 112.0, 77.0, 47.0, 38.0, 77.0, 30.0, 12.0, 89.0, 34.0, 79.0, 31.0, 29.0, 28.0, 100.0, 35.0, 17.0, 71.0, 18.0, 75.0, 148.0, 146.0, 58.0, 100.0, 73.0, 40.0, 40.0, 100.0, 73.0, 22.0, 108.0, 75.0, 97.0, 75.0, 23.0, 27.0, 20.0, 23.0, 62.0, 85.0, 94.0, 75.0, 28.0, 238.0, 61.0, 49.0, 187.0, 34.0, 29.0, 26.0, 32.0, 205.0, 80.0, 34.0, 98.0, 12.0, 19.0, 15.0, 79.0, 118.0, 46.0, 121.0, 45.0, 68.0, 17.0, 45.0, 119.0, 216.0, 42.0, 96.0, 146.0, 50.0, 64.0, 114.0, 91.0, 70.0, 30.0, 10.0, 81.0, 148.0, 53.0, 11.0, 50.0, 80.0, 123.0, 31.0, 81.0, 93.0, 61.0, 16.0, 188.0, 40.0, 65.0, 11.0, 43.0, 29.0, 40.0, 65.0, 57.0, 67.0, 69.0, 63.0, 56.0, 36.0, 87.0, 79.0, 83.0, 48.0, 57.0, 125.0, 46.0, 68.0, 6.0, 49.0, 44.0, 178.0, 184.0, 37.0, 25.0, 81.0, 139.0, 69.0, 203.0, 221.0, 89.0, 105.0, 49.0, 85.0, 113.0, 101.0, 176.0, 140.0, 62.0, 203.0, 63.0, 126.0, 230.0, 60.0, 56.0, 89.0, 90.0, 123.0, 177.0, 77.0, 71.0, 80.0, 51.0, 59.0, 45.0, 15.0, 60.0, 49.0, 130.0, 226.0, 140.0, 99.0, 144.0, 178.0, 80.0, 130.0, 42.0, 60.0, 34.0, 57.0, 75.0, 50.0, 138.0, 17.0, 40.0, 172.0, 185.0, 183.0, 232.0, 61.0, 57.0, 29.0, 23.0, 189.0, 95.0, 67.0, 63.0, 130.0, 36.0, 115.0, 83.0, 45.0, 56.0, 49.0, 76.0, 139.0, 45.0, 101.0, 110.0, 165.0, 82.0, 38.0, 29.0, 147.0, 66.0, 61.0, 58.0, 88.0, 121.0, 131.0, 61.0, 107.0, 91.0, 125.0, 28.0, 35.0, 103.0, 18.0, 127.0, 172.0, 52.0, 83.0, 170.0, 60.0, 52.0, 79.0, 189.0, 143.0, 97.0, 93.0, 56.0, 143.0, 188.0, 87.0, 31.0, 121.0, 44.0, 200.0, 76.0, 47.0, 227.0, 87.0, 47.0, 64.0, 83.0, 200.0, 74.0, 10.0, 181.0, 63.0, 34.0, 27.0, 178.0, 44.0, 76.0, 148.0, 64.0, 114.0, 133.0, 29.0, 179.0, 239.0, 9.0, 69.0, 28.0, 239.0, 61.0, 115.0, 31.0, 160.0, 50.0, 98.0, 28.0, 46.0, 110.0, 112.0, 16.0, 103.0, 231.0, 18.0, 107.0, 45.0, 54.0, 222.0, 212.0, 127.0, 76.0, 64.0, 161.0, 92.0, 176.0, 75.0, 30.0, 51.0, 86.0, 110.0, 61.0, 29.0, 201.0, 70.0, 86.0, 64.0, 77.0, 155.0, 256.0, 16.0, 25.0, 46.0, 80.0, 77.0, 123.0, 101.0, 75.0, 50.0, 110.0, 239.0, 141.0, 49.0, 39.0, 106.0, 207.0, 134.0, 79.0, 33.0, 54.0, 10.0, 90.0, 54.0, 219.0, 103.0, 142.0, 80.0, 38.0, 115.0, 179.0, 115.0, 33.0, 42.0, 134.0, 68.0, 111.0, 105.0, 41.0, 21.0, 210.0, 46.0, 32.0, 59.0, 39.0, 55.0, 86.0, 124.0, 48.0, 4.0, 113.0, 114.0, 45.0, 84.0, 79.0, 75.0, 47.0, 121.0, 35.0, 89.0, 51.0, 42.0, 96.0, 116.0, 181.0, 234.0, 38.0, 211.0, 98.0, 32.0, 64.0, 57.0, 66.0, 79.0, 124.0, 48.0, 133.0, 65.0, 154.0, 53.0, 70.0, 247.0, 102.0, 245.0, 65.0, 86.0, 48.0, 45.0, 117.0, 42.0, 209.0, 153.0, 201.0, 94.0, 89.0, 68.0, 86.0, 55.0, 125.0, 82.0, 60.0, 129.0, 55.0, 95.0, 79.0, 83.0, 149.0, 90.0, 176.0, 40.0, 201.0, 194.0, 143.0, 59.0, 123.0, 162.0, 203.0, 102.0, 246.0, 103.0, 231.0, 110.0, 101.0, 115.0, 129.0, 184.0, 76.0, 78.0, 27.0, 193.0, 68.0, 86.0, 205.0, 155.0, 60.0, 185.0, 84.0, 206.0, 66.0, 85.0, 17.0, 30.0, 105.0, 20.0, 184.0, 70.0, 249.0, 89.0, 226.0, 63.0, 182.0, 88.0, 71.0, 87.0, 200.0, 138.0, 89.0, 59.0, 230.0, 17.0, 153.0, 80.0, 156.0, 191.0, 103.0, 93.0, 64.0, 27.0, 74.0, 37.0, 34.0, 118.0, 108.0, 113.0, 134.0, 58.0, 93.0, 17.0, 19.0, 52.0, 74.0, 107.0, 103.0, 91.0, 25.0, 69.0, 77.0, 94.0, 202.0, 59.0, 103.0, 66.0, 108.0, 48.0, 88.0, 82.0, 219.0, 29.0, 91.0, 65.0, 38.0, 69.0, 72.0, 40.0, 97.0, 105.0, 60.0, 98.0, 109.0, 15.0, 189.0, 41.0, 34.0, 86.0, 66.0, 59.0, 92.0, 196.0, 58.0, 14.0, 46.0, 86.0, 77.0, 44.0, 34.0, 182.0, 41.0, 59.0, 90.0, 88.0, 72.0, 77.0, 219.0, 164.0, 84.0, 80.0, 78.0, 85.0, 99.0, 34.0, 27.0, 176.0, 14.0, 143.0, 162.0, 157.0, 133.0, 76.0, 57.0, 122.0, 194.0, 32.0, 91.0, 20.0, 108.0, 12.0, 41.0, 252.0, 20.0, 42.0, 78.0, 47.0, 149.0, 61.0, 176.0, 54.0, 92.0, 33.0, 29.0, 85.0, 90.0, 135.0, 133.0, 150.0, 19.0, 32.0, 75.0, 75.0, 195.0, 109.0, 24.0, 105.0, 107.0, 166.0, 52.0, 132.0, 116.0, 93.0, 61.0, 42.0, 152.0, 123.0, 36.0, 184.0, 128.0, 133.0, 11.0, 59.0, 102.0, 57.0, 21.0, 76.0, 103.0, 62.0, 36.0, 60.0, 55.0, 83.0, 92.0, 155.0, 32.0, 28.0, 45.0, 149.0, 161.0, 51.0, 92.0, 59.0, 177.0, 66.0, 158.0, 90.0, 88.0, 73.0, 41.0, 66.0, 47.0, 134.0, 222.0, 87.0, 138.0, 153.0, 21.0, 39.0, 201.0, 87.0, 50.0, 9.0, 67.0, 76.0, 33.0, 47.0, 168.0, 199.0, 35.0, 70.0, 160.0, 58.0, 70.0, 72.0, 138.0, 39.0, 45.0, 132.0, 46.0, 32.0, 25.0, 37.0, 85.0, 51.0, 67.0, 87.0, 36.0, 39.0, 38.0, 35.0, 38.0, 33.0, 164.0, 92.0, 93.0, 99.0, 37.0, 79.0, 76.0, 72.0, 74.0, 82.0, 24.0, 208.0, 45.0, 35.0, 65.0, 36.0, 124.0, 22.0, 196.0, 114.0, 98.0, 168.0, 46.0, 32.0, 36.0, 40.0, 50.0, 64.0, 127.0, 164.0, 42.0, 31.0, 56.0, 36.0, 144.0, 160.0, 145.0, 30.0, 29.0, 29.0, 36.0, 54.0, 54.0, 29.0, 198.0, 122.0, 9.0, 68.0, 141.0, 20.0, 207.0, 150.0, 17.0, 48.0, 241.0, 52.0, 85.0, 117.0, 69.0, 67.0, 16.0, 130.0, 150.0, 169.0, 39.0, 26.0, 29.0, 34.0, 83.0, 154.0, 165.0, 63.0, 60.0, 225.0, 34.0, 31.0, 158.0, 8.0, 108.0, 45.0, 88.0, 59.0, 202.0, 53.0, 136.0, 4.0, 51.0, 158.0, 127.0, 170.0, 123.0, 54.0, 9.0, 50.0, 120.0, 64.0, 16.0, 32.0, 29.0, 6.0, 32.0, 38.0, 59.0, 52.0, 24.0, 37.0, 68.0, 19.0, 23.0, 38.0, 27.0, 38.0, 29.0, 26.0, 23.0, 9.0, 24.0, 27.0, 52.0, 39.0, 34.0, 126.0, 56.0, 58.0, 19.0, 27.0, 73.0, 113.0, 41.0, 108.0, 37.0, 128.0, 12.0, 117.0, 165.0, 180.0, 22.0, 16.0, 142.0, 35.0, 32.0, 178.0, 56.0, 156.0, 41.0, 181.0, 180.0, 163.0, 62.0, 168.0, 152.0, 74.0, 92.0, 29.0, 107.0, 79.0, 71.0, 47.0, 141.0, 68.0, 60.0, 65.0, 46.0, 110.0, 117.0, 50.0, 130.0, 129.0, 26.0, 46.0, 29.0, 51.0, 48.0, 43.0, 98.0, 175.0, 51.0, 116.0, 62.0, 98.0, 166.0, 24.0, 79.0, 52.0, 28.0, 130.0, 55.0, 69.0, 145.0, 91.0, 66.0, 195.0, 25.0, 83.0, 57.0, 230.0, 62.0, 19.0, 49.0, 35.0, 42.0, 71.0, 96.0, 59.0, 67.0, 142.0, 185.0, 122.0, 34.0, 71.0, 54.0, 105.0, 37.0, 217.0, 130.0, 153.0, 179.0, 96.0, 44.0, 164.0, 156.0, 149.0, 40.0, 28.0, 99.0, 31.0, 122.0, 103.0, 162.0, 103.0, 117.0, 137.0, 147.0, 40.0, 139.0, 143.0, 143.0, 124.0, 142.0, 131.0, 150.0, 136.0, 84.0, 82.0, 67.0, 53.0, 100.0, 82.0, 40.0, 14.0, 199.0, 35.0, 19.0, 160.0, 78.0, 67.0, 15.0, 65.0, 96.0, 223.0, 202.0, 82.0, 37.0, 18.0, 24.0, 81.0, 172.0, 162.0, 242.0, 213.0, 148.0, 164.0, 201.0, 104.0, 180.0, 39.0, 68.0, 44.0, 177.0, 66.0, 24.0, 54.0, 29.0, 79.0, 206.0, 59.0, 63.0, 115.0, 173.0, 83.0, 72.0, 253.0, 90.0, 124.0, 96.0, 176.0, 150.0, 184.0, 34.0, 90.0, 50.0, 120.0, 250.0, 98.0, 90.0, 66.0, 75.0, 52.0, 93.0, 149.0, 246.0, 37.0, 50.0, 135.0, 117.0, 50.0, 107.0, 71.0, 32.0, 84.0, 61.0, 82.0, 88.0, 63.0, 63.0, 89.0, 59.0, 173.0, 56.0, 197.0, 172.0, 56.0, 54.0, 44.0, 69.0, 38.0, 87.0, 150.0, 59.0, 41.0, 51.0, 139.0, 65.0, 48.0, 56.0, 54.0, 81.0, 214.0, 33.0, 68.0, 75.0, 46.0, 38.0, 42.0, 57.0, 50.0, 73.0, 47.0, 37.0, 74.0, 33.0, 98.0, 32.0, 142.0, 163.0, 189.0, 162.0, 167.0, 56.0, 37.0, 64.0, 228.0, 99.0, 189.0, 47.0, 145.0, 46.0, 61.0, 91.0, 37.0, 216.0, 77.0, 155.0, 33.0, 74.0, 63.0, 177.0, 40.0, 40.0, 33.0, 103.0, 221.0, 83.0, 128.0, 35.0, 89.0, 85.0, 184.0, 101.0, 110.0, 198.0, 107.0, 87.0, 35.0, 54.0, 159.0, 129.0, 49.0, 55.0, 106.0, 54.0, 122.0, 53.0, 144.0, 69.0, 45.0, 53.0, 29.0, 49.0, 34.0, 118.0, 34.0, 32.0, 69.0, 72.0, 45.0, 69.0, 106.0, 126.0, 205.0, 108.0, 22.0, 18.0, 39.0, 123.0, 52.0, 79.0, 21.0, 149.0, 44.0, 68.0, 43.0, 254.0, 23.0, 171.0, 55.0, 208.0, 177.0, 134.0, 77.0, 19.0, 149.0, 92.0, 59.0, 48.0, 92.0, 89.0, 95.0, 87.0, 217.0, 85.0, 170.0, 157.0, 8.0, 150.0, 89.0, 119.0, 123.0, 100.0, 12.0, 91.0, 124.0, 56.0, 65.0, 29.0, 92.0, 94.0, 31.0, 29.0, 81.0, 78.0, 111.0, 238.0, 49.0, 35.0, 18.0, 122.0, 97.0, 18.0, 232.0, 59.0, 41.0, 51.0, 42.0, 46.0, 67.0, 155.0, 20.0, 84.0, 23.0, 46.0, 142.0, 213.0, 109.0, 29.0, 128.0, 68.0, 114.0, 76.0, 102.0, 130.0, 214.0, 92.0, 45.0, 171.0, 204.0, 36.0, 16.0, 98.0, 18.0, 235.0, 97.0, 82.0, 113.0, 60.0, 88.0, 217.0, 93.0, 41.0, 69.0, 185.0, 34.0, 22.0, 103.0, 40.0, 49.0, 151.0, 76.0, 254.0, 79.0, 8.0, 122.0, 169.0, 34.0, 32.0, 82.0, 42.0, 108.0, 62.0, 24.0, 69.0, 79.0, 116.0, 24.0, 24.0, 19.0, 24.0, 37.0, 21.0, 34.0, 186.0, 36.0, 19.0, 149.0, 88.0, 239.0, 56.0, 74.0, 218.0, 20.0, 98.0, 26.0, 64.0, 105.0, 167.0, 73.0, 136.0, 197.0, 74.0, 99.0, 22.0, 69.0, 194.0, 69.0, 133.0, 82.0, 86.0, 130.0, 24.0, 173.0, 56.0, 88.0, 32.0, 135.0, 30.0, 117.0, 96.0, 237.0, 15.0, 15.0, 68.0, 147.0, 245.0, 93.0, 117.0, 231.0, 13.0, 97.0, 100.0, 221.0, 81.0, 30.0, 19.0, 35.0, 152.0, 111.0, 141.0, 67.0, 94.0, 41.0, 65.0, 44.0, 67.0, 146.0, 107.0, 47.0, 48.0, 53.0, 30.0, 33.0, 96.0, 82.0, 247.0, 117.0, 117.0, 177.0, 122.0, 106.0, 122.0, 16.0, 70.0, 236.0, 26.0, 44.0, 197.0, 223.0, 33.0, 46.0, 27.0, 118.0, 83.0, 219.0, 35.0, 154.0, 132.0, 65.0, 22.0, 210.0, 81.0, 103.0, 62.0, 107.0, 67.0, 59.0, 93.0, 20.0, 79.0, 233.0, 122.0, 98.0, 18.0, 97.0, 11.0, 21.0, 13.0, 36.0, 85.0, 67.0, 20.0, 129.0, 80.0, 103.0, 101.0, 170.0, 101.0, 176.0, 245.0, 83.0, 115.0, 174.0, 49.0, 10.0, 215.0, 78.0, 157.0, 184.0, 138.0, 67.0, 70.0, 56.0, 118.0, 122.0, 214.0, 224.0, 81.0, 52.0, 21.0, 122.0, 82.0, 125.0, 88.0, 138.0, 37.0, 69.0, 81.0, 112.0, 193.0, 66.0, 45.0, 226.0, 122.0, 16.0, 77.0, 118.0, 84.0, 114.0, 117.0, 117.0, 187.0, 79.0, 13.0, 68.0, 231.0, 114.0, 92.0, 67.0, 164.0, 172.0, 173.0, 27.0, 37.0, 60.0, 91.0, 80.0, 39.0, 189.0, 17.0, 46.0, 125.0, 106.0, 89.0, 121.0, 36.0, 78.0, 230.0, 102.0, 182.0, 88.0, 53.0, 123.0, 217.0, 58.0, 162.0, 215.0, 96.0, 170.0, 30.0, 144.0, 194.0, 27.0, 113.0, 29.0, 240.0, 34.0, 120.0, 12.0, 77.0, 48.0, 24.0, 124.0, 247.0, 246.0, 117.0, 90.0, 67.0, 159.0, 69.0, 194.0, 56.0, 74.0, 73.0, 72.0, 105.0, 145.0, 110.0, 130.0, 62.0, 231.0, 103.0, 78.0, 140.0, 30.0, 63.0, 203.0, 102.0, 127.0, 64.0, 211.0, 80.0, 166.0, 140.0, 23.0, 21.0, 87.0, 106.0, 118.0, 141.0, 16.0, 178.0, 150.0, 103.0, 83.0, 180.0, 187.0, 6.0, 108.0, 118.0, 119.0, 59.0, 18.0, 178.0, 146.0, 73.0, 5.0, 62.0, 92.0, 22.0, 72.0, 34.0, 116.0, 90.0, 141.0, 122.0, 70.0, 107.0, 122.0, 126.0, 42.0, 54.0, 78.0, 161.0, 62.0, 18.0, 102.0, 145.0, 79.0, 111.0, 136.0, 65.0, 64.0, 80.0, 254.0, 76.0, 107.0, 128.0, 92.0, 210.0, 18.0, 115.0, 221.0, 121.0, 164.0, 112.0, 7.0, 91.0, 52.0, 96.0, 148.0, 109.0, 168.0, 216.0, 157.0, 98.0, 50.0, 184.0, 47.0, 12.0, 179.0, 81.0, 184.0, 145.0, 79.0, 78.0, 114.0, 88.0, 229.0, 32.0, 72.0, 81.0, 88.0, 126.0, 113.0, 62.0, 74.0, 94.0, 71.0, 81.0, 104.0, 48.0, 91.0, 161.0, 114.0, 72.0, 216.0, 85.0, 129.0, 182.0, 226.0, 225.0, 172.0, 176.0, 59.0, 158.0, 154.0, 228.0, 121.0, 166.0, 108.0, 120.0, 87.0, 82.0, 96.0, 47.0, 167.0, 128.0, 29.0, 67.0, 45.0, 92.0, 51.0, 67.0, 80.0, 28.0, 74.0, 130.0, 120.0, 59.0, 35.0, 96.0, 96.0, 115.0, 32.0, 101.0, 172.0, 146.0, 53.0, 152.0, 95.0, 120.0, 26.0, 69.0, 250.0, 135.0, 84.0, 88.0, 107.0, 117.0, 146.0, 147.0, 56.0, 81.0, 38.0, 51.0, 21.0, 126.0, 170.0, 151.0, 182.0, 48.0, 47.0, 86.0, 61.0, 81.0, 148.0, 238.0, 104.0, 195.0, 123.0, 14.0, 79.0, 126.0, 42.0, 225.0, 12.0, 38.0, 78.0, 127.0, 78.0, 98.0, 100.0, 124.0, 101.0, 87.0, 98.0, 227.0, 23.0, 86.0, 89.0, 18.0, 166.0, 182.0, 209.0, 215.0, 45.0, 76.0, 183.0, 32.0, 47.0, 132.0, 111.0, 68.0, 60.0, 36.0, 64.0, 28.0, 125.0, 59.0, 97.0, 58.0, 112.0, 28.0, 131.0, 21.0, 74.0, 254.0, 102.0, 128.0, 48.0, 228.0, 45.0, 66.0, 98.0, 97.0, 39.0, 96.0, 130.0, 52.0, 64.0, 33.0, 47.0, 57.0, 54.0, 157.0, 91.0, 234.0, 235.0, 87.0, 104.0, 82.0, 181.0, 61.0, 66.0, 186.0, 178.0, 86.0, 98.0, 17.0, 33.0, 30.0, 116.0, 173.0, 27.0, 127.0, 178.0, 55.0, 129.0, 74.0, 133.0, 102.0, 210.0, 96.0, 39.0, 80.0, 45.0, 38.0, 77.0, 41.0, 33.0, 53.0, 131.0, 111.0, 49.0, 180.0, 42.0, 22.0, 175.0, 17.0, 74.0, 27.0, 208.0, 202.0, 36.0, 28.0, 120.0, 52.0, 43.0, 14.0, 45.0, 14.0, 33.0, 51.0, 55.0, 77.0, 45.0, 128.0, 28.0, 42.0, 122.0, 133.0, 79.0, 89.0, 87.0, 80.0, 63.0, 13.0, 21.0, 67.0, 98.0, 136.0, 70.0, 53.0, 48.0, 43.0, 48.0, 70.0, 52.0, 50.0, 23.0, 76.0, 18.0, 59.0, 68.0, 218.0, 26.0, 72.0, 85.0, 39.0, 196.0, 191.0, 99.0, 95.0, 40.0, 242.0, 49.0, 32.0, 212.0, 183.0, 50.0, 111.0, 49.0, 81.0, 242.0, 29.0, 115.0, 50.0, 21.0, 16.0, 222.0, 63.0, 191.0, 224.0, 218.0, 141.0, 26.0, 137.0, 52.0, 90.0, 80.0, 96.0, 166.0, 33.0, 45.0, 66.0, 112.0, 54.0, 80.0, 224.0, 87.0, 41.0, 47.0, 167.0, 62.0, 67.0, 242.0, 164.0, 126.0, 202.0, 63.0, 69.0, 56.0, 14.0, 33.0, 184.0, 84.0, 87.0, 68.0, 33.0, 111.0, 199.0, 44.0, 90.0, 74.0, 28.0, 223.0, 56.0, 102.0, 41.0, 52.0, 21.0, 107.0, 66.0, 140.0, 46.0, 79.0, 200.0, 107.0, 41.0, 200.0, 18.0, 80.0, 104.0, 90.0, 90.0, 181.0, 30.0, 77.0, 85.0, 105.0, 80.0, 68.0, 10.0, 156.0, 30.0, 240.0, 246.0, 132.0, 96.0, 13.0, 115.0, 50.0, 28.0, 100.0, 129.0, 40.0, 118.0, 43.0, 32.0, 163.0, 19.0, 113.0, 81.0, 166.0, 235.0, 81.0, 24.0, 48.0, 25.0, 234.0, 54.0, 119.0, 48.0, 168.0, 234.0, 38.0, 127.0, 67.0, 10.0, 103.0, 108.0, 94.0, 124.0, 67.0, 16.0, 91.0, 38.0, 195.0, 52.0, 90.0, 66.0, 133.0, 50.0, 30.0, 180.0, 202.0, 10.0, 73.0, 171.0, 219.0, 51.0, 80.0, 155.0, 151.0, 69.0, 55.0, 119.0, 38.0, 59.0, 59.0, 147.0, 149.0, 50.0, 252.0, 43.0, 156.0, 50.0, 97.0, 56.0, 96.0, 105.0, 95.0, 143.0, 39.0, 226.0, 81.0, 86.0, 96.0, 137.0, 24.0, 24.0, 72.0, 27.0, 44.0, 135.0, 247.0, 79.0, 217.0, 176.0, 130.0, 230.0, 195.0, 94.0, 73.0, 166.0, 121.0, 167.0, 49.0, 82.0, 176.0, 71.0, 190.0, 252.0, 95.0, 139.0, 69.0, 22.0, 56.0, 58.0, 253.0, 52.0, 45.0, 24.0, 35.0, 10.0, 6.0, 61.0, 203.0, 38.0, 22.0, 21.0, 10.0, 90.0, 74.0, 78.0, 116.0, 87.0, 143.0, 146.0, 133.0, 104.0, 211.0, 38.0, 69.0, 44.0, 46.0, 42.0, 81.0, 134.0, 51.0, 135.0, 181.0, 118.0, 39.0, 168.0, 50.0, 206.0, 142.0, 102.0, 181.0, 60.0, 110.0, 138.0, 44.0, 80.0, 151.0, 160.0, 111.0, 165.0, 155.0, 56.0, 61.0, 99.0, 211.0, 178.0, 226.0, 25.0, 124.0, 81.0, 149.0, 204.0, 55.0, 127.0, 125.0, 211.0, 244.0, 23.0, 55.0, 256.0, 32.0, 51.0, 28.0, 210.0, 37.0, 82.0, 64.0, 55.0, 92.0, 45.0, 123.0, 241.0, 7.0, 30.0, 40.0, 86.0, 126.0, 54.0, 33.0, 111.0, 222.0, 52.0, 70.0, 86.0, 55.0, 55.0, 123.0, 133.0, 91.0, 49.0, 55.0, 17.0, 84.0, 92.0, 213.0, 15.0, 82.0, 65.0, 42.0, 52.0, 86.0, 181.0, 62.0, 75.0, 38.0, 181.0, 67.0, 248.0, 213.0, 71.0, 15.0, 161.0, 59.0, 51.0, 87.0, 105.0, 72.0, 137.0, 96.0, 25.0, 96.0, 116.0, 67.0, 44.0, 205.0, 50.0, 40.0, 231.0, 70.0, 27.0, 61.0, 178.0, 181.0, 51.0, 6.0, 94.0, 119.0, 11.0, 172.0, 27.0, 44.0, 73.0, 100.0, 108.0, 59.0, 78.0, 37.0, 54.0, 104.0, 45.0, 93.0, 29.0, 127.0, 7.0, 216.0, 193.0, 94.0, 109.0, 58.0, 73.0, 104.0, 70.0, 72.0, 76.0, 21.0, 111.0, 149.0, 133.0, 111.0, 132.0, 66.0, 34.0, 18.0, 20.0, 173.0, 178.0, 135.0, 135.0, 185.0, 20.0, 168.0, 141.0, 138.0, 155.0, 209.0, 96.0, 146.0, 81.0, 34.0, 200.0, 33.0, 232.0, 100.0, 137.0, 78.0, 71.0, 72.0, 34.0, 86.0, 175.0, 79.0, 145.0, 91.0, 7.0, 15.0, 202.0, 79.0, 72.0, 210.0, 23.0, 26.0, 233.0, 129.0, 136.0, 38.0, 50.0, 138.0, 183.0, 68.0, 209.0, 54.0, 155.0, 23.0, 208.0, 21.0, 92.0, 43.0, 101.0, 64.0, 157.0, 50.0, 124.0, 111.0, 187.0, 114.0, 78.0, 13.0, 54.0, 34.0, 131.0, 22.0, 88.0, 116.0, 132.0, 171.0, 103.0, 135.0, 84.0, 136.0, 72.0, 200.0, 150.0, 86.0, 39.0, 59.0, 168.0, 67.0, 172.0, 103.0, 98.0, 231.0, 159.0, 124.0, 164.0, 137.0, 53.0, 117.0, 51.0, 162.0, 95.0, 87.0, 35.0, 219.0, 172.0, 116.0, 120.0, 153.0, 31.0, 119.0, 196.0, 62.0, 147.0, 69.0, 198.0, 234.0, 49.0, 150.0, 77.0, 75.0, 103.0, 26.0, 76.0, 42.0, 184.0, 229.0, 228.0, 43.0, 65.0, 29.0, 31.0, 32.0, 215.0, 86.0, 46.0, 23.0, 99.0, 108.0, 116.0, 83.0, 25.0, 164.0, 100.0, 47.0, 74.0, 88.0, 32.0, 17.0, 67.0, 126.0, 36.0, 35.0, 41.0, 29.0, 60.0, 84.0, 42.0, 156.0, 37.0, 89.0, 106.0, 132.0, 66.0, 41.0, 102.0, 112.0, 199.0, 123.0, 173.0, 139.0, 62.0, 63.0, 9.0, 41.0, 108.0, 74.0, 120.0, 174.0, 73.0, 107.0, 146.0, 96.0, 92.0, 35.0, 33.0, 129.0, 35.0, 118.0, 83.0, 73.0, 104.0, 159.0, 161.0, 49.0, 178.0, 152.0, 75.0, 44.0, 11.0, 27.0, 85.0, 53.0, 122.0, 103.0, 59.0, 97.0, 15.0, 187.0, 75.0, 77.0, 67.0, 137.0, 94.0, 77.0, 61.0, 177.0, 81.0, 33.0, 84.0, 112.0, 95.0, 38.0, 26.0, 64.0, 51.0, 61.0, 123.0, 23.0, 47.0, 56.0, 108.0, 48.0, 82.0, 48.0, 85.0, 166.0, 78.0, 36.0, 139.0, 179.0, 168.0, 68.0, 87.0, 53.0, 89.0, 87.0, 52.0, 102.0, 146.0, 43.0, 40.0, 27.0, 86.0, 140.0, 177.0, 208.0, 129.0, 14.0, 25.0, 41.0, 186.0, 161.0, 111.0, 38.0, 63.0, 200.0, 19.0, 18.0, 85.0, 85.0, 61.0, 123.0, 72.0, 159.0, 38.0, 17.0, 69.0, 78.0, 76.0, 176.0, 113.0, 211.0, 117.0, 102.0, 75.0, 63.0, 200.0, 76.0, 72.0, 75.0, 48.0, 50.0, 141.0, 111.0, 53.0, 111.0, 27.0, 33.0, 150.0, 53.0, 27.0, 58.0, 20.0, 39.0, 46.0, 162.0, 60.0, 150.0, 189.0, 35.0, 212.0, 51.0, 129.0, 115.0, 25.0, 127.0, 86.0, 35.0, 58.0, 129.0, 207.0, 129.0, 93.0, 158.0, 252.0, 119.0, 86.0, 34.0, 26.0, 143.0, 211.0, 141.0, 45.0, 96.0, 36.0, 93.0, 85.0, 152.0, 39.0, 81.0, 24.0, 38.0, 29.0, 87.0, 45.0, 125.0, 13.0, 32.0, 33.0, 12.0, 23.0, 228.0, 40.0, 174.0, 57.0, 91.0, 183.0, 64.0, 129.0, 185.0, 77.0, 79.0, 18.0, 193.0, 60.0, 112.0, 162.0, 46.0, 140.0, 97.0, 50.0, 23.0, 101.0, 169.0, 69.0, 45.0, 107.0, 73.0, 81.0, 68.0, 54.0, 107.0, 83.0, 53.0, 62.0, 125.0, 213.0, 73.0, 74.0, 91.0, 78.0, 73.0, 94.0, 128.0, 110.0, 140.0, 146.0, 181.0, 127.0, 21.0, 124.0, 132.0, 98.0, 193.0, 28.0, 43.0, 55.0, 70.0, 120.0, 36.0, 157.0, 250.0, 59.0, 30.0, 65.0, 86.0, 57.0, 116.0, 186.0, 66.0, 210.0, 153.0, 142.0, 63.0, 57.0, 47.0, 38.0, 74.0, 30.0, 75.0, 193.0, 75.0, 64.0, 69.0, 156.0, 186.0, 132.0, 69.0, 13.0, 110.0, 50.0, 40.0, 134.0, 160.0, 24.0, 128.0, 54.0, 161.0, 61.0, 79.0, 46.0, 123.0, 91.0, 112.0, 72.0, 47.0, 32.0, 28.0, 86.0, 88.0, 145.0, 35.0, 240.0, 106.0, 156.0, 106.0, 79.0, 136.0, 158.0, 112.0, 102.0, 194.0, 94.0, 45.0, 80.0, 133.0, 43.0, 192.0, 90.0, 98.0, 115.0, 122.0, 10.0, 13.0, 147.0, 58.0, 128.0, 78.0, 91.0, 107.0, 128.0, 147.0, 93.0, 52.0, 81.0, 121.0, 95.0, 102.0, 93.0, 96.0, 101.0, 77.0, 159.0, 113.0, 150.0, 42.0, 182.0, 111.0, 103.0, 123.0, 104.0, 103.0, 133.0, 116.0, 74.0, 165.0, 76.0, 77.0, 84.0, 79.0, 117.0, 117.0, 108.0, 64.0, 86.0, 154.0, 120.0, 145.0, 183.0, 99.0, 72.0, 166.0, 85.0, 68.0, 119.0, 87.0, 161.0, 184.0, 116.0, 92.0, 93.0, 87.0, 76.0, 88.0, 138.0, 99.0, 99.0, 91.0, 80.0, 156.0, 150.0, 95.0, 135.0, 37.0, 52.0, 70.0, 51.0, 98.0, 85.0, 131.0, 74.0, 137.0, 128.0, 104.0, 84.0, 80.0, 146.0, 55.0, 32.0, 162.0, 157.0, 117.0, 128.0, 42.0, 88.0, 79.0, 78.0, 80.0, 76.0, 101.0, 44.0, 50.0, 144.0, 96.0, 73.0, 109.0, 137.0, 26.0, 76.0, 222.0, 27.0, 38.0, 92.0, 83.0, 55.0, 42.0, 220.0, 80.0, 177.0, 109.0, 123.0, 21.0, 114.0, 101.0, 102.0, 67.0, 74.0, 54.0, 160.0, 97.0, 39.0, 113.0, 40.0, 59.0, 43.0, 106.0, 108.0, 99.0, 104.0, 95.0, 47.0, 129.0, 94.0, 135.0, 106.0, 69.0, 54.0, 63.0, 65.0, 76.0, 189.0, 13.0, 44.0, 53.0, 245.0, 137.0, 89.0, 99.0, 73.0, 59.0, 91.0, 99.0, 57.0, 70.0, 43.0, 72.0, 17.0, 66.0, 81.0, 49.0, 16.0, 51.0, 21.0, 56.0, 32.0, 60.0, 132.0, 50.0, 127.0, 159.0, 111.0, 97.0, 119.0, 114.0, 143.0, 46.0, 133.0, 147.0, 128.0, 201.0, 19.0, 118.0, 118.0, 77.0, 112.0, 14.0, 64.0, 139.0, 153.0, 83.0, 172.0, 31.0, 16.0, 145.0, 55.0, 188.0, 107.0, 100.0, 43.0, 93.0, 21.0, 221.0, 11.0, 86.0, 77.0, 64.0, 128.0, 119.0, 72.0, 154.0, 237.0, 56.0, 45.0, 117.0, 202.0, 154.0, 44.0, 57.0, 72.0, 44.0, 206.0, 139.0, 49.0, 34.0, 58.0, 176.0, 148.0, 80.0, 148.0, 71.0, 79.0, 94.0, 50.0, 133.0, 91.0, 86.0, 70.0, 68.0, 176.0, 194.0, 109.0, 8.0, 91.0, 86.0, 29.0, 38.0, 63.0, 128.0, 104.0, 133.0, 162.0, 93.0, 144.0, 25.0, 9.0, 55.0, 141.0, 55.0, 241.0, 136.0, 68.0, 66.0, 188.0, 151.0, 136.0, 168.0, 138.0, 25.0, 68.0, 194.0, 51.0, 141.0, 90.0, 91.0, 46.0, 29.0, 26.0, 137.0, 241.0, 184.0, 194.0, 246.0, 150.0, 137.0, 119.0, 48.0, 134.0, 35.0, 95.0, 196.0, 146.0, 14.0, 104.0, 84.0, 151.0, 118.0, 58.0, 174.0, 139.0, 136.0, 199.0, 195.0, 122.0, 29.0, 83.0, 179.0, 200.0, 81.0, 93.0, 168.0, 139.0, 251.0, 111.0, 57.0, 170.0, 49.0, 96.0, 132.0, 93.0, 55.0, 105.0, 68.0, 101.0, 154.0, 98.0, 64.0, 69.0, 135.0, 144.0, 150.0, 114.0, 227.0, 154.0, 92.0, 90.0, 126.0, 95.0, 109.0, 122.0, 76.0, 111.0, 49.0, 42.0, 104.0, 91.0, 89.0, 94.0, 47.0, 151.0, 93.0, 30.0, 87.0, 40.0, 93.0, 16.0, 125.0, 197.0, 39.0, 123.0, 91.0, 197.0, 117.0, 179.0, 183.0, 67.0, 109.0, 156.0, 173.0, 28.0, 58.0, 139.0, 71.0, 91.0, 173.0, 183.0, 176.0, 61.0, 243.0, 52.0, 78.0, 128.0, 89.0, 52.0, 95.0, 157.0, 100.0, 44.0, 89.0, 138.0, 98.0, 125.0, 132.0, 71.0, 73.0, 166.0, 77.0, 65.0, 96.0, 127.0, 56.0, 57.0, 87.0, 139.0, 61.0, 72.0, 30.0, 104.0, 93.0, 180.0, 104.0, 44.0, 153.0, 171.0, 227.0, 87.0, 45.0, 105.0, 229.0, 87.0, 92.0, 74.0, 93.0, 146.0, 36.0, 157.0, 90.0, 115.0, 130.0, 108.0, 80.0, 49.0, 116.0, 77.0, 238.0, 237.0, 131.0, 56.0, 96.0, 64.0, 57.0, 215.0, 187.0, 180.0, 110.0, 220.0, 61.0, 32.0, 139.0, 25.0, 106.0, 41.0, 140.0, 69.0, 216.0, 94.0, 47.0, 193.0, 188.0, 80.0, 43.0, 109.0, 186.0, 173.0, 176.0, 161.0, 136.0, 71.0, 197.0, 84.0, 178.0, 116.0, 82.0, 155.0, 86.0, 148.0, 97.0, 97.0, 21.0, 35.0, 111.0, 117.0, 149.0, 43.0, 225.0, 102.0, 110.0, 175.0, 94.0, 55.0, 31.0, 40.0, 131.0, 23.0, 172.0, 168.0, 41.0, 42.0, 29.0, 80.0, 225.0, 70.0, 51.0, 51.0, 41.0, 92.0, 27.0, 26.0, 39.0, 72.0, 21.0, 166.0, 99.0, 36.0, 55.0, 54.0, 210.0, 88.0, 75.0, 149.0, 77.0, 8.0, 72.0, 82.0, 31.0, 71.0, 33.0, 143.0, 6.0, 48.0, 80.0, 130.0, 64.0, 190.0, 8.0, 33.0, 62.0, 39.0, 94.0, 180.0, 80.0, 79.0, 43.0, 52.0, 93.0, 72.0, 78.0, 69.0, 86.0, 52.0, 92.0, 134.0, 80.0, 62.0, 107.0, 153.0, 108.0, 27.0, 74.0, 91.0, 82.0, 75.0, 122.0, 111.0, 66.0, 61.0, 54.0, 40.0, 21.0, 62.0, 133.0, 76.0, 187.0, 57.0, 71.0, 50.0, 60.0, 62.0, 119.0, 13.0, 54.0, 11.0, 54.0, 74.0, 52.0, 114.0, 50.0, 45.0, 159.0, 99.0, 125.0, 153.0, 79.0, 107.0, 139.0, 105.0, 77.0, 53.0, 7.0, 134.0, 96.0, 109.0, 18.0, 57.0, 74.0, 110.0, 15.0, 86.0, 24.0, 149.0, 148.0, 140.0, 138.0, 77.0, 150.0, 89.0, 30.0, 56.0, 107.0, 46.0, 256.0, 65.0, 63.0, 31.0, 96.0, 132.0, 128.0, 111.0, 199.0, 102.0, 90.0, 20.0, 108.0, 9.0, 78.0, 113.0, 28.0, 36.0, 109.0, 40.0, 102.0, 29.0, 121.0, 223.0, 150.0, 92.0, 146.0, 53.0, 61.0, 94.0, 79.0, 38.0, 120.0, 97.0, 90.0, 59.0, 92.0, 57.0, 44.0, 62.0, 107.0, 36.0, 70.0, 45.0, 238.0, 51.0, 72.0, 77.0, 182.0, 112.0, 58.0, 128.0, 89.0, 15.0, 144.0, 19.0, 54.0, 94.0, 57.0, 66.0, 159.0, 173.0, 104.0, 183.0, 179.0, 86.0, 103.0, 93.0, 72.0, 147.0, 36.0, 230.0, 44.0, 168.0, 5.0, 112.0, 25.0, 109.0, 166.0, 128.0, 12.0, 109.0, 167.0, 56.0, 29.0, 130.0, 130.0, 153.0, 135.0, 136.0, 24.0, 79.0, 71.0, 40.0, 164.0, 85.0, 140.0, 64.0, 118.0, 95.0, 128.0, 116.0, 129.0, 17.0, 103.0, 70.0, 168.0, 51.0, 34.0, 76.0, 43.0, 51.0, 156.0, 42.0, 195.0, 67.0, 75.0, 33.0, 121.0, 230.0, 89.0, 124.0, 29.0, 26.0, 76.0, 151.0, 84.0, 46.0, 85.0, 54.0, 243.0, 56.0, 158.0, 22.0, 119.0, 171.0, 48.0, 156.0, 176.0, 149.0, 99.0, 218.0, 139.0, 199.0, 140.0, 202.0, 58.0, 142.0, 42.0, 97.0, 103.0, 19.0, 126.0, 35.0, 54.0, 130.0, 46.0, 130.0, 61.0, 41.0, 196.0, 75.0, 71.0, 159.0, 18.0, 45.0, 27.0, 51.0, 60.0, 230.0, 227.0, 65.0, 54.0, 235.0, 54.0, 69.0, 81.0, 49.0, 31.0, 17.0, 148.0, 54.0, 86.0, 32.0, 74.0, 153.0, 69.0, 105.0, 111.0, 31.0, 112.0, 148.0, 25.0, 169.0, 152.0, 135.0, 39.0, 44.0, 106.0, 76.0, 79.0, 129.0, 92.0, 44.0, 47.0, 29.0, 94.0, 192.0, 113.0, 59.0, 106.0, 48.0, 64.0, 225.0, 110.0, 14.0, 143.0, 168.0, 72.0, 167.0, 39.0, 129.0, 209.0, 132.0, 180.0, 99.0, 28.0, 153.0, 87.0, 73.0, 28.0, 54.0, 48.0, 190.0, 37.0, 178.0, 78.0, 54.0, 123.0, 182.0, 63.0, 156.0, 9.0, 186.0, 78.0, 111.0, 138.0, 107.0, 57.0, 50.0, 82.0, 55.0, 120.0, 13.0, 72.0, 202.0, 215.0, 139.0, 153.0, 137.0, 123.0, 68.0, 204.0, 154.0, 35.0, 87.0, 59.0, 216.0, 85.0, 203.0, 183.0, 113.0, 43.0, 66.0, 79.0, 88.0, 77.0, 206.0, 106.0, 95.0, 66.0, 71.0, 121.0, 20.0, 71.0, 174.0, 52.0, 106.0, 21.0, 133.0, 256.0, 114.0, 145.0, 62.0, 198.0, 171.0, 254.0, 99.0, 14.0, 69.0, 48.0, 180.0, 94.0, 116.0, 85.0, 149.0, 43.0, 111.0, 135.0, 77.0, 139.0, 165.0, 81.0, 256.0, 73.0, 137.0, 209.0, 93.0, 71.0, 46.0, 172.0, 133.0, 40.0, 153.0, 21.0, 39.0, 126.0, 74.0, 114.0, 192.0, 38.0, 43.0, 92.0, 69.0, 123.0, 71.0, 48.0, 186.0, 52.0, 107.0, 41.0, 18.0, 27.0, 61.0, 79.0, 207.0, 87.0, 66.0, 65.0, 224.0, 51.0, 87.0, 130.0, 86.0, 111.0, 32.0, 72.0, 39.0, 190.0, 29.0, 41.0, 15.0, 24.0, 42.0, 51.0, 8.0, 59.0, 171.0, 15.0, 90.0, 195.0, 54.0, 92.0, 50.0, 34.0, 180.0, 40.0, 64.0, 70.0, 66.0, 177.0, 68.0, 146.0, 190.0, 22.0, 12.0, 107.0, 56.0, 107.0, 28.0, 48.0, 93.0, 80.0, 53.0, 60.0, 189.0, 30.0, 85.0, 24.0, 8.0, 113.0, 26.0, 75.0, 90.0, 44.0, 84.0, 61.0, 93.0, 66.0, 24.0, 35.0, 63.0, 55.0, 176.0, 60.0, 77.0, 80.0, 89.0, 72.0, 34.0, 91.0, 104.0, 24.0, 110.0, 212.0, 27.0, 65.0, 167.0, 91.0, 20.0, 75.0, 108.0, 64.0, 32.0, 11.0, 57.0, 140.0, 64.0, 62.0, 83.0, 55.0, 82.0, 90.0, 44.0, 51.0, 123.0, 98.0, 135.0, 39.0, 49.0, 29.0, 158.0, 104.0, 14.0, 67.0, 45.0, 115.0, 81.0, 113.0, 186.0, 54.0, 117.0, 102.0, 50.0, 94.0, 105.0, 195.0, 29.0, 47.0, 102.0, 30.0, 11.0, 175.0, 51.0, 107.0, 181.0, 29.0, 15.0, 12.0, 78.0, 89.0, 86.0, 49.0, 197.0, 21.0, 68.0, 239.0, 25.0, 52.0, 34.0, 38.0, 46.0, 117.0, 83.0, 95.0, 53.0, 92.0, 145.0, 200.0, 45.0, 65.0, 30.0, 97.0, 70.0, 109.0, 33.0, 62.0, 18.0, 32.0, 138.0, 71.0, 78.0, 30.0, 56.0, 92.0, 82.0, 136.0, 31.0, 77.0, 102.0, 27.0, 224.0, 46.0, 236.0, 131.0, 124.0, 64.0, 173.0, 93.0, 196.0, 176.0, 65.0, 161.0, 164.0, 219.0, 94.0, 88.0, 131.0, 115.0, 65.0, 127.0, 40.0, 66.0, 155.0, 190.0, 65.0, 104.0, 158.0, 37.0, 154.0, 66.0, 83.0, 100.0, 77.0, 103.0, 101.0, 108.0, 10.0, 65.0, 51.0, 170.0, 132.0, 185.0, 192.0, 112.0, 151.0, 117.0, 95.0, 137.0, 73.0, 110.0, 181.0, 191.0, 110.0, 164.0, 119.0, 201.0, 75.0, 126.0, 99.0, 33.0, 23.0, 47.0, 119.0, 170.0, 16.0, 24.0, 42.0, 138.0, 139.0, 113.0, 89.0, 183.0, 245.0, 51.0, 149.0, 35.0, 34.0, 29.0, 69.0, 54.0, 181.0, 78.0, 161.0, 18.0, 135.0, 75.0, 32.0, 44.0, 122.0, 87.0, 174.0, 31.0, 83.0, 95.0, 61.0, 75.0, 16.0, 45.0, 56.0, 56.0, 155.0, 210.0, 210.0, 93.0, 71.0, 9.0, 46.0, 111.0, 86.0, 58.0, 194.0, 100.0, 91.0, 84.0, 140.0, 40.0, 159.0, 183.0, 30.0, 102.0, 5.0, 31.0, 27.0, 25.0, 138.0, 39.0, 74.0, 34.0, 165.0, 132.0, 75.0, 8.0, 18.0, 185.0, 131.0, 18.0, 188.0, 233.0, 62.0, 43.0, 16.0, 62.0, 90.0, 107.0, 43.0, 46.0, 81.0, 60.0, 38.0, 29.0, 52.0, 34.0, 41.0, 32.0, 166.0, 35.0, 27.0, 85.0, 37.0, 55.0, 165.0, 73.0, 98.0, 75.0, 35.0, 62.0, 69.0, 86.0, 59.0, 121.0, 21.0, 105.0, 86.0, 97.0, 85.0, 110.0, 88.0, 69.0, 30.0, 79.0, 20.0, 192.0, 84.0, 54.0, 96.0, 37.0, 35.0, 18.0, 101.0, 165.0, 70.0, 30.0, 52.0, 51.0, 23.0, 190.0, 39.0, 32.0, 70.0, 9.0, 31.0, 145.0, 68.0, 52.0, 20.0, 64.0, 11.0, 14.0, 205.0, 75.0, 82.0, 84.0, 157.0, 96.0, 183.0, 142.0, 18.0, 183.0, 111.0, 113.0, 55.0, 5.0, 52.0, 104.0, 68.0, 29.0, 125.0, 77.0, 54.0, 142.0, 107.0, 136.0, 134.0, 103.0, 58.0, 79.0, 77.0, 147.0, 75.0, 207.0, 42.0, 52.0, 123.0, 71.0, 72.0, 250.0, 68.0, 84.0, 83.0, 67.0, 72.0, 25.0, 134.0, 24.0, 87.0, 106.0, 108.0, 91.0, 10.0, 7.0, 74.0, 193.0, 67.0, 118.0, 95.0, 54.0, 84.0, 90.0, 63.0, 66.0, 40.0, 51.0, 63.0, 35.0, 33.0, 150.0, 59.0, 20.0, 64.0, 142.0, 53.0, 133.0, 50.0, 190.0, 36.0, 28.0, 49.0, 11.0, 33.0, 48.0, 83.0, 209.0, 177.0, 151.0, 40.0, 82.0, 22.0, 16.0, 184.0, 118.0, 60.0, 83.0, 88.0, 70.0, 41.0, 78.0, 58.0, 58.0, 142.0, 129.0, 147.0, 13.0, 131.0, 9.0, 62.0, 60.0, 93.0, 68.0, 88.0, 120.0, 66.0, 255.0, 128.0, 12.0, 136.0, 36.0, 141.0, 219.0, 173.0, 28.0, 228.0, 62.0, 30.0, 120.0, 6.0, 123.0, 107.0, 109.0, 80.0, 61.0, 99.0, 60.0, 84.0, 92.0, 96.0, 64.0, 167.0, 50.0, 111.0, 48.0, 189.0, 87.0, 98.0, 140.0, 216.0, 53.0, 111.0, 133.0, 21.0, 87.0, 96.0, 20.0, 8.0, 221.0, 44.0, 76.0, 49.0, 145.0, 122.0, 99.0, 136.0, 103.0, 42.0, 80.0, 71.0, 125.0, 37.0, 49.0, 205.0, 9.0, 80.0, 159.0, 114.0, 8.0, 83.0, 69.0, 37.0, 243.0, 9.0, 30.0, 32.0, 69.0, 58.0, 175.0, 90.0, 115.0, 43.0, 130.0, 116.0, 151.0, 18.0, 12.0, 90.0, 20.0, 36.0, 99.0, 60.0, 46.0, 85.0, 114.0, 79.0, 134.0, 50.0, 36.0, 58.0, 72.0, 229.0, 80.0, 148.0, 77.0, 140.0, 196.0, 31.0, 85.0, 36.0, 84.0, 71.0, 81.0, 151.0, 26.0, 108.0, 103.0, 97.0, 26.0, 55.0, 121.0, 122.0, 57.0, 96.0, 120.0, 73.0, 154.0, 81.0, 73.0, 48.0, 40.0, 75.0, 147.0, 73.0, 124.0, 43.0, 31.0, 224.0, 31.0, 18.0, 65.0, 71.0, 164.0, 32.0, 77.0, 53.0, 14.0, 42.0, 99.0, 33.0, 141.0, 215.0, 79.0, 103.0, 74.0, 245.0, 88.0, 38.0, 135.0, 149.0, 89.0, 23.0, 178.0, 142.0, 172.0, 212.0, 25.0, 22.0, 102.0, 210.0, 34.0, 33.0, 80.0, 48.0, 135.0, 40.0, 49.0, 79.0, 210.0, 52.0, 59.0, 80.0, 14.0, 67.0, 20.0, 99.0, 36.0, 16.0, 181.0, 77.0, 106.0, 133.0, 99.0, 10.0, 68.0, 65.0, 40.0, 156.0, 95.0, 79.0, 53.0, 86.0, 68.0, 88.0, 46.0, 43.0, 198.0, 81.0, 69.0, 111.0, 89.0, 92.0, 49.0, 49.0, 102.0, 32.0, 105.0, 80.0, 75.0, 26.0, 83.0, 68.0, 141.0, 101.0, 75.0, 60.0, 81.0, 179.0, 104.0, 120.0, 32.0, 59.0, 76.0, 136.0, 42.0, 81.0, 67.0, 105.0, 21.0, 132.0, 109.0, 31.0, 43.0, 68.0, 56.0, 137.0, 42.0, 95.0, 104.0, 6.0, 216.0, 105.0, 81.0, 136.0, 27.0, 110.0, 34.0, 128.0, 232.0, 61.0, 15.0, 125.0, 150.0, 27.0, 40.0, 83.0, 165.0, 65.0, 103.0, 78.0, 77.0, 43.0, 153.0, 94.0, 53.0, 24.0, 53.0, 194.0, 84.0, 42.0, 26.0, 97.0, 21.0, 123.0, 86.0, 28.0, 96.0, 174.0, 92.0, 14.0, 208.0, 21.0, 59.0, 84.0, 89.0, 133.0, 105.0, 181.0, 84.0, 72.0, 215.0, 50.0, 105.0, 83.0, 186.0, 44.0, 132.0, 130.0, 77.0, 163.0, 128.0, 54.0, 26.0, 26.0, 97.0, 68.0, 50.0, 71.0, 83.0, 100.0, 65.0, 153.0, 20.0, 147.0, 77.0, 19.0, 37.0, 71.0, 21.0, 45.0, 55.0, 61.0, 86.0, 133.0, 102.0, 141.0, 130.0, 102.0, 35.0, 42.0, 45.0, 52.0, 51.0, 15.0, 38.0, 7.0, 105.0, 64.0, 127.0, 51.0, 31.0, 57.0, 73.0, 219.0, 93.0, 218.0, 49.0, 191.0, 175.0, 88.0, 89.0, 252.0, 45.0, 36.0, 164.0, 84.0, 49.0, 134.0, 147.0, 218.0, 126.0, 140.0, 37.0, 57.0, 70.0, 41.0, 42.0, 55.0, 14.0, 104.0, 30.0, 138.0, 92.0, 150.0, 125.0, 69.0, 209.0, 131.0, 91.0, 156.0, 19.0, 33.0, 98.0, 91.0, 64.0, 197.0, 64.0, 198.0, 86.0, 70.0, 59.0, 86.0, 34.0, 100.0, 25.0, 55.0, 138.0, 153.0, 75.0, 95.0, 50.0, 243.0, 160.0, 195.0, 185.0, 72.0, 181.0, 20.0, 73.0, 30.0, 250.0, 60.0, 48.0, 136.0, 87.0, 125.0, 91.0, 156.0, 47.0, 127.0, 126.0, 98.0, 27.0, 125.0, 133.0, 42.0, 50.0, 108.0, 184.0, 76.0, 50.0, 137.0, 174.0, 32.0, 32.0, 48.0, 174.0, 7.0, 79.0, 110.0, 90.0, 102.0, 102.0, 97.0, 10.0, 67.0, 43.0, 48.0, 64.0, 51.0, 49.0, 100.0, 139.0, 105.0, 110.0, 99.0, 99.0, 40.0, 56.0, 56.0, 32.0, 133.0, 198.0, 101.0, 79.0, 84.0, 11.0, 144.0, 41.0, 118.0, 74.0, 78.0, 143.0, 112.0, 25.0, 100.0, 40.0, 36.0, 65.0, 82.0, 48.0, 60.0, 174.0, 114.0, 71.0, 55.0, 148.0, 128.0, 62.0, 25.0, 20.0, 57.0, 155.0, 149.0, 67.0, 146.0, 237.0, 56.0, 29.0, 40.0, 89.0, 68.0, 24.0, 38.0, 151.0, 129.0, 76.0, 62.0, 114.0, 152.0, 167.0, 51.0, 36.0, 166.0, 113.0, 138.0, 59.0, 67.0, 79.0, 160.0, 79.0, 113.0, 158.0, 172.0, 65.0, 54.0, 162.0, 48.0, 54.0, 49.0, 96.0, 31.0, 176.0, 171.0, 90.0, 113.0, 145.0, 78.0, 230.0, 246.0, 118.0, 68.0, 41.0, 163.0, 55.0, 76.0, 51.0, 110.0, 58.0, 38.0, 189.0, 40.0, 72.0, 73.0, 207.0, 163.0, 47.0, 113.0, 67.0, 111.0, 89.0, 78.0, 77.0, 112.0, 116.0, 86.0, 15.0, 81.0, 41.0, 25.0, 190.0, 49.0, 85.0, 62.0, 126.0, 40.0, 68.0, 82.0, 78.0, 89.0, 50.0, 15.0, 88.0, 41.0, 193.0, 98.0, 52.0, 73.0, 35.0, 222.0, 13.0, 67.0, 160.0, 31.0, 94.0, 44.0, 103.0, 20.0, 48.0, 213.0, 81.0, 77.0, 143.0, 106.0, 38.0, 96.0, 50.0, 68.0, 30.0, 199.0, 27.0, 180.0, 61.0, 198.0, 81.0, 69.0, 109.0, 64.0, 122.0, 122.0, 150.0, 108.0, 76.0, 135.0, 111.0, 184.0, 11.0, 67.0, 50.0, 107.0, 81.0, 135.0, 115.0, 62.0, 178.0, 151.0, 76.0, 123.0, 59.0, 93.0, 174.0, 250.0, 118.0, 23.0, 30.0, 152.0, 67.0, 35.0, 94.0, 229.0, 59.0, 39.0, 40.0, 39.0, 186.0, 139.0, 70.0, 123.0, 169.0, 79.0, 44.0, 97.0, 67.0, 48.0, 185.0, 79.0, 54.0, 22.0, 7.0, 96.0, 50.0, 229.0, 64.0, 80.0, 67.0, 100.0, 85.0, 119.0, 64.0, 38.0, 58.0, 63.0, 90.0, 103.0, 77.0, 143.0, 244.0, 72.0, 133.0, 99.0, 58.0, 77.0, 149.0, 56.0, 73.0, 44.0, 93.0, 74.0, 247.0, 17.0, 76.0, 85.0, 55.0, 44.0, 65.0, 52.0, 110.0, 70.0, 158.0, 109.0, 103.0, 58.0, 16.0, 35.0, 32.0, 168.0, 28.0, 152.0, 35.0, 62.0, 96.0, 33.0, 119.0, 61.0, 34.0, 97.0, 191.0, 117.0, 69.0, 67.0, 168.0, 46.0, 165.0, 76.0, 32.0, 199.0, 50.0, 38.0, 44.0, 159.0, 139.0, 180.0, 63.0, 38.0, 89.0, 81.0, 59.0, 90.0, 182.0, 207.0, 52.0, 23.0, 19.0, 63.0, 91.0, 142.0, 31.0, 102.0, 69.0, 46.0, 80.0, 70.0, 68.0, 44.0, 60.0, 75.0, 160.0, 28.0, 40.0, 156.0, 67.0, 75.0, 89.0, 8.0, 94.0, 50.0, 38.0, 193.0, 67.0, 203.0, 146.0, 59.0, 99.0, 166.0, 82.0, 144.0, 47.0, 190.0, 52.0, 85.0, 148.0, 78.0, 160.0, 80.0, 17.0, 80.0, 122.0, 13.0, 11.0, 14.0, 218.0, 102.0, 49.0, 128.0, 35.0, 93.0, 41.0, 210.0, 34.0, 225.0, 152.0, 53.0, 32.0, 86.0, 126.0, 99.0, 214.0, 38.0, 58.0, 105.0, 106.0, 114.0, 107.0, 51.0, 62.0, 48.0, 47.0, 30.0, 209.0, 182.0, 58.0, 16.0, 19.0, 89.0, 204.0, 204.0, 106.0, 72.0, 83.0, 77.0, 98.0, 168.0, 104.0, 186.0, 188.0, 163.0, 58.0, 80.0, 37.0, 57.0, 155.0, 28.0, 24.0, 33.0, 54.0, 244.0, 112.0, 114.0, 52.0, 173.0, 113.0, 69.0, 35.0, 104.0, 117.0, 24.0, 88.0, 20.0, 34.0, 82.0, 45.0, 41.0, 82.0, 81.0, 45.0, 241.0, 119.0, 121.0, 70.0, 80.0, 14.0, 31.0, 142.0, 64.0, 105.0, 61.0, 115.0, 52.0, 171.0, 79.0, 38.0, 169.0, 73.0, 51.0, 45.0, 80.0, 12.0, 70.0, 80.0, 65.0, 93.0, 138.0, 53.0, 15.0, 71.0, 164.0, 34.0, 79.0, 74.0, 142.0, 32.0, 82.0, 46.0, 38.0, 74.0, 35.0, 132.0, 125.0, 103.0, 13.0, 63.0, 121.0, 144.0, 71.0, 67.0, 12.0, 60.0, 121.0, 84.0, 130.0, 107.0, 107.0, 90.0, 207.0, 86.0, 116.0, 47.0, 83.0, 80.0, 121.0, 195.0, 187.0, 87.0, 203.0, 181.0, 28.0, 156.0, 77.0, 64.0, 12.0, 79.0, 93.0, 101.0, 49.0, 108.0, 81.0, 45.0, 14.0, 142.0, 166.0, 150.0, 76.0, 238.0, 216.0, 126.0, 120.0, 49.0, 65.0, 55.0, 72.0, 20.0, 223.0, 61.0, 138.0, 94.0, 102.0, 63.0, 82.0, 180.0, 87.0, 51.0, 37.0, 36.0, 144.0, 47.0, 129.0, 190.0, 165.0, 49.0, 212.0, 54.0, 73.0, 108.0, 174.0, 77.0, 69.0, 31.0, 189.0, 45.0, 108.0, 125.0, 208.0, 12.0, 247.0, 161.0, 100.0, 87.0, 169.0, 35.0, 150.0, 48.0, 16.0, 41.0, 85.0, 213.0, 179.0, 23.0, 41.0, 16.0, 103.0, 188.0, 204.0, 85.0, 42.0, 229.0, 49.0, 237.0, 31.0, 113.0, 144.0, 113.0, 83.0, 84.0, 82.0, 116.0, 23.0, 94.0, 75.0, 32.0, 37.0, 44.0, 33.0, 59.0, 99.0, 51.0, 101.0, 41.0, 49.0, 201.0, 157.0, 104.0, 28.0, 191.0, 64.0, 79.0, 101.0, 41.0, 26.0, 83.0, 64.0, 162.0, 155.0, 125.0, 193.0, 156.0, 107.0, 225.0, 41.0, 53.0, 126.0, 159.0, 21.0, 53.0, 84.0, 219.0, 85.0, 87.0, 81.0, 177.0, 213.0, 48.0, 227.0, 23.0, 42.0, 143.0, 76.0, 73.0, 25.0, 133.0, 200.0, 52.0, 56.0, 98.0, 14.0, 25.0, 58.0, 100.0, 206.0, 121.0, 201.0, 30.0, 128.0, 50.0, 150.0, 17.0, 77.0, 101.0, 115.0, 68.0, 150.0, 119.0, 70.0, 51.0, 114.0, 46.0, 25.0, 128.0, 43.0, 54.0, 105.0, 65.0, 107.0, 10.0, 46.0, 108.0, 22.0, 15.0, 22.0, 23.0, 64.0, 123.0, 17.0, 78.0, 16.0, 47.0, 22.0, 82.0, 239.0, 84.0, 63.0, 88.0, 117.0, 87.0, 31.0, 53.0, 155.0, 127.0, 7.0, 207.0, 59.0, 33.0, 63.0, 55.0, 73.0, 192.0, 56.0, 15.0, 184.0, 53.0, 112.0, 26.0, 5.0, 15.0, 187.0, 161.0, 143.0, 123.0, 65.0, 54.0, 53.0, 103.0, 126.0, 73.0, 90.0, 29.0, 38.0, 65.0, 138.0, 55.0, 135.0, 41.0, 51.0, 23.0, 129.0, 43.0, 88.0, 240.0, 34.0, 55.0, 45.0, 235.0, 136.0, 100.0, 112.0, 26.0, 144.0, 59.0, 23.0, 34.0, 36.0, 87.0, 60.0, 82.0, 128.0, 82.0, 127.0, 38.0, 12.0, 80.0, 75.0, 51.0, 211.0, 130.0, 38.0, 107.0, 30.0, 116.0, 160.0, 113.0, 61.0, 49.0, 54.0, 201.0, 89.0, 13.0, 57.0, 71.0, 102.0, 100.0, 90.0, 109.0, 135.0, 56.0, 132.0, 136.0, 174.0, 7.0, 90.0, 160.0, 35.0, 113.0, 41.0, 190.0, 99.0, 192.0, 51.0, 95.0, 89.0, 220.0, 39.0, 43.0, 117.0, 87.0, 242.0, 124.0, 73.0, 117.0, 135.0, 51.0, 158.0, 104.0, 40.0, 30.0, 74.0, 61.0, 18.0, 22.0, 132.0, 36.0, 50.0, 134.0, 51.0, 200.0, 72.0, 59.0, 68.0, 117.0, 183.0, 101.0, 46.0, 35.0, 27.0, 58.0, 118.0, 36.0, 33.0, 103.0, 177.0, 66.0, 189.0, 56.0, 134.0, 24.0, 115.0, 125.0, 40.0, 4.0, 61.0, 17.0, 49.0, 81.0, 135.0, 68.0, 66.0, 78.0, 47.0, 72.0, 16.0, 23.0, 135.0, 75.0, 61.0, 195.0, 58.0, 78.0, 70.0, 150.0, 69.0, 20.0, 138.0, 197.0, 101.0, 21.0, 195.0, 129.0, 29.0, 52.0, 164.0, 99.0, 11.0, 73.0, 35.0, 24.0, 33.0, 116.0, 87.0, 139.0, 147.0, 208.0, 200.0, 16.0, 42.0, 51.0, 15.0, 42.0, 12.0, 161.0, 159.0, 121.0, 15.0, 68.0, 136.0, 103.0, 255.0, 21.0, 33.0, 84.0, 109.0, 88.0, 59.0, 170.0, 92.0, 124.0, 69.0, 85.0, 29.0, 181.0, 44.0, 140.0, 51.0, 93.0, 51.0, 131.0, 99.0, 31.0, 111.0, 68.0, 14.0, 124.0, 16.0, 229.0, 150.0, 96.0, 71.0, 53.0, 46.0, 114.0, 4.0, 127.0, 138.0, 106.0, 178.0, 83.0, 111.0, 31.0, 124.0, 81.0, 118.0, 117.0, 64.0, 137.0, 96.0, 101.0, 122.0, 46.0, 63.0, 86.0, 18.0, 109.0, 55.0, 43.0, 29.0, 238.0, 62.0, 157.0, 119.0, 16.0, 156.0, 30.0, 35.0, 104.0, 104.0, 39.0, 60.0, 88.0, 227.0, 125.0, 42.0, 40.0, 23.0, 155.0, 78.0, 79.0, 117.0, 40.0, 189.0, 58.0, 170.0, 110.0, 115.0, 50.0, 85.0, 13.0, 120.0, 22.0, 50.0, 141.0, 49.0, 64.0, 87.0, 95.0, 40.0, 24.0, 7.0, 27.0, 166.0, 94.0, 5.0, 87.0, 159.0, 179.0, 188.0, 28.0, 139.0, 42.0, 56.0, 171.0, 23.0, 7.0, 55.0, 102.0, 35.0, 94.0, 111.0, 22.0, 28.0, 94.0, 151.0, 55.0, 222.0, 69.0, 77.0, 37.0, 160.0, 68.0, 46.0, 176.0, 97.0, 77.0, 94.0, 39.0, 52.0, 189.0, 83.0, 106.0, 132.0, 45.0, 84.0, 86.0, 73.0, 198.0, 46.0, 135.0, 185.0, 175.0, 39.0, 24.0, 77.0, 73.0, 63.0, 7.0, 75.0, 79.0, 233.0, 103.0, 88.0, 41.0, 89.0, 70.0, 176.0, 119.0, 185.0, 129.0, 104.0, 48.0, 123.0, 106.0, 74.0, 95.0, 103.0, 120.0, 116.0, 45.0, 67.0, 83.0, 81.0, 154.0, 110.0, 167.0, 179.0, 12.0, 109.0, 141.0, 40.0, 34.0, 112.0, 31.0, 44.0, 37.0, 21.0, 70.0, 40.0, 39.0, 208.0, 136.0, 71.0, 17.0, 80.0, 25.0, 106.0, 83.0, 148.0, 177.0, 53.0, 37.0, 64.0, 123.0, 22.0, 56.0, 98.0, 103.0, 117.0, 29.0, 226.0, 92.0, 119.0, 99.0, 113.0, 101.0, 88.0, 152.0, 126.0, 124.0, 114.0, 14.0, 40.0, 105.0, 60.0, 127.0, 69.0, 61.0, 51.0, 95.0, 15.0, 14.0, 65.0, 92.0, 164.0, 36.0, 29.0, 49.0, 27.0, 61.0, 5.0, 4.0, 26.0, 26.0, 17.0, 77.0, 132.0, 38.0, 57.0, 124.0, 37.0, 87.0, 21.0, 72.0, 155.0, 64.0, 60.0, 14.0, 40.0, 52.0, 24.0, 54.0, 53.0, 31.0, 36.0, 66.0, 203.0, 79.0, 82.0, 100.0, 124.0, 92.0, 85.0, 25.0, 145.0, 12.0, 49.0, 103.0, 63.0, 56.0, 73.0, 117.0, 120.0, 33.0, 29.0, 87.0, 22.0, 66.0, 44.0, 68.0, 161.0, 14.0, 28.0, 55.0, 46.0, 167.0, 61.0, 30.0, 100.0, 130.0, 41.0, 129.0, 59.0, 88.0, 39.0, 38.0, 36.0, 112.0, 176.0, 174.0, 166.0, 68.0, 142.0, 50.0, 37.0, 43.0, 206.0, 37.0, 153.0, 52.0, 63.0, 19.0, 47.0, 13.0, 47.0, 76.0, 139.0, 71.0, 156.0, 50.0, 61.0, 125.0, 105.0, 127.0, 103.0, 167.0, 32.0, 68.0, 174.0, 173.0, 11.0, 104.0, 149.0, 101.0, 158.0, 71.0, 63.0, 51.0, 13.0, 146.0, 201.0, 66.0, 114.0, 76.0, 124.0, 51.0, 163.0, 87.0, 96.0, 13.0, 44.0, 128.0, 133.0, 60.0, 81.0, 105.0, 140.0, 95.0, 70.0, 89.0, 76.0, 46.0, 185.0, 77.0, 70.0, 79.0, 88.0, 177.0, 177.0, 192.0, 44.0, 155.0, 79.0, 104.0, 108.0, 162.0, 13.0, 183.0, 31.0, 161.0, 80.0, 148.0, 171.0, 30.0, 61.0, 186.0, 154.0, 69.0, 135.0, 134.0, 40.0, 40.0, 51.0, 226.0, 60.0, 83.0, 103.0, 25.0, 204.0, 67.0, 68.0, 16.0, 62.0, 92.0, 62.0, 192.0, 64.0, 84.0, 38.0, 20.0, 37.0, 28.0, 99.0, 50.0, 174.0, 65.0, 118.0, 102.0, 43.0, 126.0, 115.0, 36.0, 57.0, 59.0, 196.0, 34.0, 205.0, 61.0, 64.0, 78.0, 79.0, 128.0, 19.0, 44.0, 101.0, 80.0, 50.0, 45.0, 81.0, 127.0, 102.0, 114.0, 117.0, 93.0, 143.0, 166.0, 17.0, 60.0, 114.0, 103.0, 212.0, 134.0, 168.0, 147.0, 71.0, 73.0, 186.0, 190.0, 109.0, 59.0, 79.0, 140.0, 36.0, 56.0, 92.0, 177.0, 160.0, 110.0, 74.0, 45.0, 101.0, 81.0, 90.0, 86.0, 63.0, 61.0, 85.0, 49.0, 182.0, 4.0, 74.0, 71.0, 95.0, 7.0, 188.0, 53.0, 62.0, 53.0, 41.0, 5.0, 6.0, 6.0, 8.0, 45.0, 57.0, 28.0, 122.0, 4.0, 4.0, 6.0, 193.0, 82.0, 53.0, 7.0, 29.0, 5.0, 8.0, 6.0, 6.0, 7.0, 7.0, 5.0, 5.0, 6.0, 8.0, 11.0, 136.0, 12.0, 11.0, 86.0, 6.0, 5.0, 135.0, 146.0, 32.0, 10.0, 13.0, 43.0, 183.0, 46.0, 109.0, 75.0, 135.0, 32.0, 156.0, 4.0, 4.0, 44.0, 131.0, 77.0, 191.0, 10.0, 13.0, 72.0, 125.0, 154.0, 105.0, 125.0, 157.0, 34.0, 73.0, 67.0, 230.0, 172.0, 51.0, 79.0, 26.0, 105.0, 179.0, 115.0, 60.0, 100.0, 5.0, 6.0, 7.0, 104.0, 18.0, 128.0, 6.0, 53.0, 97.0, 7.0, 8.0, 10.0, 202.0, 5.0, 133.0, 6.0, 16.0, 13.0, 20.0, 28.0, 43.0, 161.0, 98.0, 61.0, 117.0, 34.0, 61.0, 34.0, 137.0, 69.0, 29.0, 45.0, 78.0, 70.0, 173.0, 241.0, 61.0, 134.0, 111.0, 17.0, 120.0, 92.0, 171.0, 85.0, 162.0, 86.0, 54.0, 80.0, 61.0, 50.0, 147.0, 127.0, 29.0, 33.0, 11.0, 38.0, 13.0, 49.0, 91.0, 59.0, 124.0, 42.0, 171.0, 201.0, 101.0, 136.0, 65.0, 170.0, 81.0, 48.0, 104.0, 76.0, 117.0, 84.0, 31.0, 104.0, 93.0, 107.0, 69.0, 51.0, 29.0, 111.0, 129.0, 132.0, 80.0, 42.0, 53.0, 55.0, 89.0, 16.0, 86.0, 87.0, 41.0, 168.0, 28.0, 130.0, 62.0, 108.0, 126.0, 118.0, 132.0, 136.0, 34.0, 94.0, 49.0, 89.0, 146.0, 55.0, 7.0, 43.0, 95.0, 125.0, 69.0, 248.0, 204.0, 98.0, 88.0, 116.0, 58.0, 95.0, 116.0, 196.0, 42.0, 60.0, 179.0, 45.0, 40.0, 95.0, 66.0, 133.0, 74.0, 164.0, 69.0, 76.0, 90.0, 160.0, 158.0, 127.0, 113.0, 88.0, 74.0, 62.0, 159.0, 86.0, 98.0, 35.0, 119.0, 42.0, 59.0, 125.0, 26.0, 122.0, 132.0, 83.0, 230.0, 24.0, 243.0, 28.0, 168.0, 44.0, 156.0, 43.0, 93.0, 152.0, 135.0, 165.0, 109.0, 110.0, 71.0, 81.0, 87.0, 32.0, 73.0, 52.0, 125.0, 11.0, 121.0, 228.0, 49.0, 92.0, 35.0, 75.0, 51.0, 172.0, 27.0, 53.0, 172.0, 51.0, 226.0, 125.0, 158.0, 103.0, 64.0, 166.0, 11.0, 138.0, 90.0, 23.0, 55.0, 69.0, 15.0, 117.0, 47.0, 61.0, 17.0, 86.0, 28.0, 104.0, 98.0, 220.0, 55.0, 58.0, 48.0, 40.0, 37.0, 34.0, 42.0, 136.0, 69.0, 50.0, 110.0, 175.0, 97.0, 122.0, 127.0, 108.0, 54.0, 49.0, 161.0, 175.0, 83.0, 226.0, 86.0, 58.0, 114.0, 29.0, 180.0, 134.0, 127.0, 88.0, 34.0, 233.0, 87.0, 181.0, 76.0, 47.0, 44.0, 152.0, 38.0, 135.0, 98.0, 23.0, 49.0, 42.0, 28.0, 45.0, 223.0, 50.0, 24.0, 170.0, 87.0, 135.0, 100.0, 82.0, 140.0, 28.0, 76.0, 202.0, 28.0, 148.0, 119.0, 91.0, 138.0, 151.0, 159.0, 112.0, 93.0, 239.0, 30.0, 230.0, 120.0, 23.0, 43.0, 162.0, 63.0, 249.0, 159.0, 148.0, 30.0, 44.0, 81.0, 164.0, 43.0, 118.0, 36.0, 148.0, 54.0, 134.0, 39.0, 40.0, 41.0, 24.0, 27.0, 117.0, 84.0, 48.0, 13.0, 14.0, 44.0, 82.0, 39.0, 96.0, 53.0, 236.0, 56.0, 147.0, 64.0, 106.0, 27.0, 118.0, 23.0, 161.0, 25.0, 54.0, 59.0, 50.0, 81.0, 84.0, 136.0, 41.0, 96.0, 135.0, 82.0, 133.0, 7.0, 127.0, 13.0, 121.0, 124.0, 138.0, 118.0, 114.0, 222.0, 55.0, 71.0, 84.0, 185.0, 103.0, 118.0, 125.0, 141.0, 135.0, 70.0, 18.0, 102.0, 55.0, 197.0, 136.0, 194.0, 66.0, 79.0, 57.0, 172.0, 49.0, 45.0, 239.0, 166.0, 66.0, 125.0, 196.0, 189.0, 63.0, 95.0, 183.0, 149.0, 115.0, 91.0, 77.0, 251.0, 153.0, 203.0, 42.0, 110.0, 116.0, 159.0, 173.0, 20.0, 134.0, 11.0, 154.0, 35.0, 53.0, 160.0, 73.0, 161.0, 153.0, 156.0, 76.0, 128.0, 186.0, 113.0, 100.0, 117.0, 151.0, 146.0, 112.0, 113.0, 59.0, 88.0, 96.0, 161.0, 115.0, 70.0, 25.0, 132.0, 56.0, 83.0, 34.0, 139.0, 133.0, 92.0, 191.0, 145.0, 76.0, 86.0, 113.0, 232.0, 71.0, 144.0, 106.0, 40.0, 101.0, 105.0, 186.0, 159.0, 124.0, 238.0, 45.0, 176.0, 51.0, 192.0, 56.0, 168.0, 66.0, 42.0, 161.0, 34.0, 67.0, 96.0, 100.0, 59.0, 132.0, 152.0, 155.0, 20.0, 125.0, 52.0, 95.0, 24.0, 122.0, 145.0, 78.0, 128.0, 53.0, 217.0, 9.0, 131.0, 113.0, 112.0, 116.0, 112.0, 136.0, 232.0, 170.0, 74.0, 73.0, 14.0, 255.0, 112.0, 26.0, 146.0, 80.0, 236.0, 89.0, 121.0, 94.0, 77.0, 106.0, 50.0, 8.0, 85.0, 110.0, 63.0, 161.0, 98.0, 20.0, 124.0, 72.0, 202.0, 43.0, 113.0, 153.0, 49.0, 12.0, 14.0, 83.0, 158.0, 44.0, 95.0, 90.0, 41.0, 47.0, 9.0, 44.0, 88.0, 66.0, 127.0, 31.0, 172.0, 121.0, 164.0, 189.0, 98.0, 50.0, 116.0, 48.0, 199.0, 91.0, 29.0, 164.0, 97.0, 197.0, 56.0, 105.0, 91.0, 173.0, 70.0, 229.0, 226.0, 96.0, 135.0, 38.0, 120.0, 200.0, 196.0, 135.0, 25.0, 114.0, 105.0, 76.0, 107.0, 47.0, 65.0, 74.0, 112.0, 140.0, 119.0, 52.0, 51.0, 28.0, 150.0, 122.0, 86.0, 67.0, 61.0, 250.0, 57.0, 161.0, 110.0, 117.0, 67.0, 155.0, 99.0, 69.0, 52.0, 128.0, 204.0, 68.0, 127.0, 107.0, 45.0, 179.0, 101.0, 44.0, 79.0, 101.0, 18.0, 65.0, 199.0, 59.0, 58.0, 68.0, 54.0, 115.0, 58.0, 19.0, 63.0, 51.0, 95.0, 136.0, 157.0, 149.0, 134.0, 95.0, 104.0, 182.0, 167.0, 117.0, 63.0, 58.0, 110.0, 72.0, 48.0, 172.0, 136.0, 37.0, 86.0, 75.0, 46.0, 74.0, 41.0, 129.0, 145.0, 68.0, 126.0, 110.0, 173.0, 103.0, 151.0, 111.0, 167.0, 121.0, 120.0, 98.0, 98.0, 104.0, 122.0, 130.0, 86.0, 156.0, 124.0, 63.0, 129.0, 148.0, 103.0, 51.0, 84.0, 125.0, 131.0, 177.0, 123.0, 136.0, 176.0, 213.0, 91.0, 128.0, 100.0, 115.0, 171.0, 115.0, 104.0, 99.0, 31.0, 45.0, 10.0, 198.0, 102.0, 184.0, 113.0, 7.0, 132.0, 83.0, 129.0, 130.0, 41.0, 98.0, 102.0, 102.0, 24.0, 109.0, 92.0, 44.0, 146.0, 100.0, 30.0, 111.0, 16.0, 24.0, 175.0, 36.0, 108.0, 51.0, 150.0, 38.0, 15.0, 115.0, 93.0, 113.0, 198.0, 72.0, 131.0, 72.0, 57.0, 43.0, 26.0, 85.0, 189.0, 229.0, 15.0, 94.0, 139.0, 132.0, 171.0, 220.0, 194.0, 39.0, 84.0, 140.0, 78.0, 75.0, 48.0, 36.0, 24.0, 161.0, 181.0, 12.0, 28.0, 35.0, 30.0, 42.0, 74.0, 82.0, 39.0, 31.0, 103.0, 192.0, 182.0, 221.0, 27.0, 117.0, 94.0, 82.0, 53.0, 94.0, 207.0, 189.0, 18.0, 78.0, 136.0, 163.0, 102.0, 100.0, 104.0, 124.0, 76.0, 5.0, 21.0, 87.0, 103.0, 69.0, 36.0, 99.0, 87.0, 119.0, 44.0, 114.0, 10.0, 33.0, 36.0, 129.0, 144.0, 73.0, 131.0, 134.0, 93.0, 41.0, 108.0, 193.0, 181.0, 36.0, 205.0, 55.0, 160.0, 98.0, 96.0, 90.0, 21.0, 185.0, 126.0, 105.0, 41.0, 137.0, 48.0, 93.0, 85.0, 40.0, 93.0, 230.0, 218.0, 41.0, 184.0, 167.0, 94.0, 71.0, 156.0, 155.0, 56.0, 68.0, 181.0, 98.0, 51.0, 73.0, 10.0, 75.0, 22.0, 136.0, 117.0, 244.0, 110.0, 57.0, 148.0, 179.0, 64.0, 71.0, 105.0, 120.0, 188.0, 117.0, 127.0, 161.0, 78.0, 71.0, 38.0, 30.0, 144.0, 134.0, 207.0, 157.0, 25.0, 178.0, 101.0, 83.0, 109.0, 51.0, 70.0, 49.0, 44.0, 125.0, 40.0, 120.0, 81.0, 129.0, 191.0, 51.0, 119.0, 221.0, 27.0, 148.0, 31.0, 155.0, 57.0, 122.0, 113.0, 146.0, 37.0, 212.0, 128.0, 21.0, 130.0, 179.0, 50.0, 82.0, 75.0, 44.0, 160.0, 27.0, 69.0, 107.0, 54.0, 165.0, 50.0, 24.0, 188.0, 33.0, 64.0, 104.0, 33.0, 74.0, 26.0, 137.0, 122.0, 87.0, 133.0, 49.0, 35.0, 246.0, 123.0, 219.0, 243.0, 58.0, 103.0, 124.0, 52.0, 59.0, 250.0, 149.0, 84.0, 11.0, 59.0, 166.0, 43.0, 117.0, 54.0, 57.0, 120.0, 151.0, 101.0, 14.0, 29.0, 63.0, 85.0, 56.0, 122.0, 63.0, 116.0, 144.0, 130.0, 167.0, 87.0, 75.0, 148.0, 56.0, 196.0, 202.0, 143.0, 117.0, 115.0, 92.0, 20.0, 47.0, 104.0, 67.0, 128.0, 38.0, 10.0, 108.0, 74.0, 123.0, 19.0, 125.0, 40.0, 218.0, 218.0, 109.0, 113.0, 113.0, 163.0, 143.0, 124.0, 58.0, 135.0, 13.0, 220.0, 53.0, 42.0, 67.0, 80.0, 38.0, 128.0, 78.0, 101.0, 88.0, 84.0, 17.0, 103.0, 97.0, 180.0, 41.0, 63.0, 47.0, 129.0, 120.0, 135.0, 105.0, 26.0, 206.0, 17.0, 203.0, 146.0, 109.0, 101.0, 16.0, 154.0, 100.0, 35.0, 11.0, 136.0, 63.0, 133.0, 51.0, 84.0, 105.0, 146.0, 70.0, 218.0, 215.0, 90.0, 80.0, 118.0, 134.0, 133.0, 133.0, 84.0, 68.0, 152.0, 185.0, 98.0, 226.0, 166.0, 72.0, 57.0, 28.0, 186.0, 42.0, 31.0, 39.0, 45.0, 80.0, 100.0, 103.0, 137.0, 24.0, 193.0, 56.0, 67.0, 42.0, 131.0, 168.0, 69.0, 140.0, 174.0, 13.0, 28.0, 58.0, 90.0, 90.0, 27.0, 101.0, 76.0, 210.0, 80.0, 63.0, 96.0, 92.0, 111.0, 105.0, 32.0, 121.0, 72.0, 108.0, 69.0, 70.0, 53.0, 46.0, 8.0, 25.0, 55.0, 16.0, 64.0, 71.0, 53.0, 14.0, 9.0, 25.0, 159.0, 151.0, 24.0, 68.0, 55.0, 157.0, 117.0, 12.0, 117.0, 10.0, 60.0, 16.0, 154.0, 16.0, 165.0, 92.0, 11.0, 55.0, 93.0, 51.0, 192.0, 182.0, 103.0, 62.0, 44.0, 46.0, 103.0, 140.0, 218.0, 55.0, 15.0, 80.0, 45.0, 74.0, 79.0, 82.0, 41.0, 147.0, 40.0, 62.0, 150.0, 189.0, 21.0, 13.0, 68.0, 35.0, 204.0, 84.0, 123.0, 50.0, 11.0, 173.0, 146.0, 115.0, 25.0, 72.0, 63.0, 72.0, 22.0, 63.0, 11.0, 100.0, 19.0, 58.0, 136.0, 135.0, 57.0, 82.0, 184.0, 96.0, 46.0, 24.0, 95.0, 101.0, 30.0, 94.0, 30.0, 225.0, 108.0, 93.0, 150.0, 127.0, 198.0, 104.0, 68.0, 60.0, 70.0, 41.0, 180.0, 84.0, 89.0, 20.0, 71.0, 48.0, 87.0, 48.0, 119.0, 38.0, 30.0, 107.0, 120.0, 51.0, 66.0, 93.0, 34.0, 147.0, 67.0, 56.0, 120.0, 109.0, 30.0, 45.0, 94.0, 150.0, 31.0, 80.0, 177.0, 67.0, 142.0, 86.0, 14.0, 53.0, 223.0, 44.0, 64.0, 156.0, 196.0, 29.0, 60.0, 38.0, 15.0, 119.0, 10.0, 75.0, 26.0, 99.0, 47.0, 125.0, 151.0, 213.0, 37.0, 36.0, 11.0, 31.0, 71.0, 31.0, 50.0, 58.0, 42.0, 28.0, 104.0, 106.0, 111.0, 99.0, 148.0, 151.0, 60.0, 93.0, 177.0, 31.0, 69.0, 101.0, 58.0, 82.0, 71.0, 78.0, 81.0, 75.0, 59.0, 11.0, 197.0, 43.0, 64.0, 30.0, 122.0, 61.0, 174.0, 124.0, 86.0, 131.0, 64.0, 50.0, 151.0, 90.0, 18.0, 113.0, 120.0, 123.0, 198.0, 51.0, 98.0, 72.0, 117.0, 52.0, 79.0, 244.0, 251.0, 67.0, 8.0, 163.0, 30.0, 89.0, 18.0, 76.0, 64.0, 13.0, 8.0, 16.0, 127.0, 159.0, 50.0, 18.0, 142.0, 100.0, 25.0, 34.0, 26.0, 39.0, 34.0, 33.0, 43.0, 199.0, 42.0, 220.0, 30.0, 54.0, 92.0, 21.0, 12.0, 20.0, 6.0, 17.0, 18.0, 17.0, 12.0, 10.0, 123.0, 97.0, 111.0, 30.0, 147.0, 7.0, 48.0, 11.0, 48.0, 34.0, 112.0, 84.0, 15.0, 21.0, 51.0, 17.0, 56.0, 24.0, 16.0, 11.0, 119.0, 14.0, 7.0, 32.0, 54.0, 51.0, 33.0, 87.0, 97.0, 8.0, 48.0, 14.0, 101.0, 54.0, 50.0, 7.0, 21.0, 46.0, 97.0, 44.0, 68.0, 99.0, 29.0, 136.0, 30.0, 90.0, 20.0, 81.0, 125.0, 25.0, 9.0, 27.0, 41.0, 165.0, 59.0, 186.0, 81.0, 50.0, 143.0, 152.0, 63.0, 68.0, 79.0, 48.0, 182.0, 85.0, 105.0, 68.0, 93.0, 98.0, 20.0, 47.0, 86.0, 107.0, 93.0, 49.0, 77.0, 125.0, 99.0, 25.0, 28.0, 70.0, 131.0, 56.0, 156.0, 84.0, 110.0, 24.0, 59.0, 128.0, 16.0, 81.0, 107.0, 154.0, 105.0, 95.0, 112.0, 111.0, 45.0, 150.0, 86.0, 178.0, 159.0, 72.0, 120.0, 94.0, 121.0, 148.0, 124.0, 134.0, 115.0, 33.0, 117.0, 144.0, 256.0, 245.0, 54.0, 191.0, 113.0, 13.0, 159.0, 120.0, 121.0, 94.0, 235.0, 200.0, 151.0, 154.0, 146.0, 156.0, 138.0, 162.0, 58.0, 152.0, 19.0, 37.0, 17.0, 60.0, 53.0, 168.0, 37.0, 62.0, 80.0, 165.0, 50.0, 86.0, 127.0, 62.0, 54.0, 53.0, 164.0, 68.0, 100.0, 172.0, 48.0, 58.0, 150.0, 107.0, 92.0, 89.0, 104.0, 94.0, 52.0, 156.0, 55.0, 54.0, 37.0, 193.0, 124.0, 91.0, 203.0, 239.0, 87.0, 168.0, 208.0, 182.0, 27.0, 139.0, 44.0, 172.0, 58.0, 119.0, 139.0, 82.0, 60.0, 74.0, 92.0, 93.0, 69.0, 252.0, 26.0, 132.0, 245.0, 66.0, 84.0, 65.0, 184.0, 73.0, 196.0, 43.0, 115.0, 146.0, 144.0, 13.0, 163.0, 89.0, 63.0, 151.0, 45.0, 125.0, 104.0, 230.0, 124.0, 71.0, 62.0, 123.0, 62.0, 83.0, 158.0, 127.0, 15.0, 111.0, 78.0, 55.0, 78.0, 187.0, 53.0, 57.0, 243.0, 218.0, 134.0, 98.0, 185.0, 125.0, 107.0, 57.0, 53.0, 142.0, 26.0, 57.0, 66.0, 49.0, 61.0, 9.0, 90.0, 199.0, 95.0, 128.0, 129.0, 108.0, 53.0, 31.0, 182.0, 135.0, 120.0, 51.0, 77.0, 149.0, 155.0, 76.0, 35.0, 84.0, 73.0, 105.0, 12.0, 105.0, 94.0, 118.0, 11.0, 67.0, 22.0, 151.0, 179.0, 139.0, 162.0, 35.0, 45.0, 46.0, 218.0, 88.0, 128.0, 104.0, 140.0, 145.0, 233.0, 36.0, 16.0, 87.0, 181.0, 42.0, 77.0, 209.0, 188.0, 120.0, 188.0, 121.0, 173.0, 108.0, 81.0, 153.0, 101.0, 73.0, 33.0, 227.0, 46.0, 39.0, 61.0, 19.0, 62.0, 184.0, 83.0, 171.0, 41.0, 61.0, 96.0, 103.0, 147.0, 68.0, 196.0, 24.0, 103.0, 57.0, 217.0, 50.0, 40.0, 55.0, 175.0, 70.0, 9.0, 48.0, 26.0, 132.0, 102.0, 63.0, 22.0, 201.0, 104.0, 12.0, 73.0, 31.0, 80.0, 49.0, 79.0, 130.0, 175.0, 192.0, 184.0, 34.0, 175.0, 78.0, 140.0, 39.0, 235.0, 17.0, 74.0, 51.0, 91.0, 80.0, 101.0, 18.0, 190.0, 14.0, 4.0, 12.0, 90.0, 100.0, 26.0, 111.0, 157.0, 215.0, 105.0, 122.0, 33.0, 38.0, 230.0, 62.0, 73.0, 247.0, 104.0, 9.0, 78.0, 45.0, 39.0, 49.0, 156.0, 28.0, 21.0, 90.0, 124.0, 83.0, 74.0, 93.0, 15.0, 118.0, 12.0, 106.0, 64.0, 29.0, 61.0, 93.0, 96.0, 109.0, 23.0, 16.0, 40.0, 134.0, 152.0, 118.0, 33.0, 70.0, 63.0, 250.0, 65.0, 44.0, 163.0, 90.0, 79.0, 68.0, 62.0, 41.0, 157.0, 80.0, 77.0, 68.0, 58.0, 41.0, 245.0, 97.0, 104.0, 83.0, 88.0, 250.0, 120.0, 55.0, 134.0, 118.0, 232.0, 147.0, 222.0, 132.0, 147.0, 72.0, 182.0, 170.0, 22.0, 108.0, 127.0, 128.0, 97.0, 63.0, 23.0, 15.0, 95.0, 17.0, 37.0, 15.0, 26.0, 38.0, 64.0, 37.0, 53.0, 22.0, 233.0, 32.0, 76.0, 88.0, 17.0, 30.0, 12.0, 89.0, 77.0, 67.0, 62.0, 53.0, 48.0, 85.0, 5.0, 19.0, 111.0, 86.0, 54.0, 68.0, 48.0, 10.0, 22.0, 115.0, 97.0, 132.0, 34.0, 97.0, 110.0, 77.0, 79.0, 19.0, 37.0, 40.0, 94.0, 68.0, 45.0, 20.0, 17.0, 249.0, 67.0, 41.0, 5.0, 20.0, 224.0, 88.0, 182.0, 118.0, 233.0, 17.0, 53.0, 142.0, 114.0, 8.0, 34.0, 117.0, 103.0, 118.0, 53.0, 32.0, 101.0, 42.0, 38.0, 98.0, 212.0, 23.0, 41.0, 30.0, 40.0, 14.0, 77.0, 111.0, 94.0, 87.0, 64.0, 30.0, 44.0, 31.0, 65.0, 23.0, 39.0, 50.0, 50.0, 118.0, 63.0, 93.0, 17.0, 54.0, 14.0, 90.0, 25.0, 74.0, 30.0, 84.0, 181.0, 77.0, 234.0, 181.0, 40.0, 54.0, 249.0, 30.0, 33.0, 195.0, 146.0, 99.0, 78.0, 55.0, 85.0, 58.0, 100.0, 75.0, 118.0, 39.0, 46.0, 32.0, 27.0, 35.0, 194.0, 156.0, 100.0, 96.0, 115.0, 78.0, 44.0, 144.0, 106.0, 76.0, 83.0, 34.0, 98.0, 26.0, 90.0, 172.0, 89.0, 95.0, 115.0, 58.0, 147.0, 37.0, 162.0, 44.0, 14.0, 115.0, 106.0, 186.0, 160.0, 54.0, 28.0, 53.0, 72.0, 65.0, 143.0, 16.0, 75.0, 17.0, 42.0, 200.0, 13.0, 46.0, 15.0, 11.0, 171.0, 80.0, 74.0, 42.0, 159.0, 27.0, 55.0, 160.0, 193.0, 143.0, 50.0, 42.0, 111.0, 68.0, 22.0, 81.0, 117.0, 78.0, 72.0, 212.0, 46.0, 40.0, 189.0, 159.0, 59.0, 17.0, 28.0, 81.0, 49.0, 28.0, 48.0, 26.0, 61.0, 132.0, 79.0, 129.0, 136.0, 17.0, 83.0, 79.0, 19.0, 12.0, 156.0, 8.0, 166.0, 56.0, 61.0, 48.0, 27.0, 182.0, 188.0, 73.0, 63.0, 23.0, 11.0, 173.0, 70.0, 41.0, 55.0, 127.0, 73.0, 73.0, 21.0, 122.0, 154.0, 76.0, 23.0, 51.0, 89.0, 43.0, 37.0, 41.0, 146.0, 31.0, 117.0, 55.0, 157.0, 93.0, 35.0, 110.0, 122.0, 87.0, 63.0, 45.0, 57.0, 56.0, 40.0, 107.0, 133.0, 187.0, 221.0, 16.0, 143.0, 59.0, 46.0, 49.0, 115.0, 120.0, 52.0, 13.0, 75.0, 60.0, 104.0, 18.0, 76.0, 186.0, 22.0, 143.0, 38.0, 155.0, 66.0, 109.0, 112.0, 84.0, 68.0, 21.0, 125.0, 113.0, 164.0, 105.0, 156.0, 186.0, 43.0, 73.0, 44.0, 158.0, 190.0, 50.0, 28.0, 142.0, 84.0, 23.0, 28.0, 70.0, 108.0, 42.0, 128.0, 12.0, 157.0, 229.0, 98.0, 28.0, 157.0, 44.0, 58.0, 49.0, 102.0, 50.0, 61.0, 141.0, 7.0, 179.0, 120.0, 73.0, 57.0, 37.0, 171.0, 58.0, 76.0, 73.0, 45.0, 40.0, 90.0, 121.0, 81.0, 95.0, 39.0, 80.0, 31.0, 128.0, 161.0, 44.0, 249.0, 98.0, 76.0, 86.0, 11.0, 101.0, 135.0, 80.0, 67.0, 44.0, 23.0, 213.0, 105.0, 85.0, 227.0, 45.0, 133.0, 26.0, 43.0, 95.0, 20.0, 70.0, 118.0, 84.0, 209.0, 33.0, 153.0, 38.0, 192.0, 30.0, 18.0, 51.0, 157.0, 25.0, 165.0, 142.0, 59.0, 74.0, 81.0, 193.0, 45.0, 89.0, 32.0, 46.0, 38.0, 33.0, 24.0, 175.0, 58.0, 94.0, 207.0, 58.0, 57.0, 89.0, 40.0, 65.0, 24.0, 69.0, 20.0, 90.0, 66.0, 55.0, 128.0, 23.0, 91.0, 40.0, 96.0, 10.0, 124.0, 99.0, 43.0, 47.0, 41.0, 28.0, 37.0, 23.0, 65.0, 175.0, 70.0, 38.0, 86.0, 56.0, 44.0, 187.0, 53.0, 6.0, 34.0, 35.0, 32.0, 144.0, 164.0, 36.0, 50.0, 178.0, 194.0, 45.0, 81.0, 57.0, 158.0, 81.0, 107.0, 62.0, 43.0, 20.0, 11.0, 27.0, 113.0, 118.0, 157.0, 58.0, 12.0, 73.0, 145.0, 11.0, 43.0, 77.0, 160.0, 185.0, 82.0, 61.0, 146.0, 40.0, 117.0, 10.0, 65.0, 39.0, 59.0, 8.0, 9.0, 60.0, 107.0, 92.0, 143.0, 13.0, 34.0, 100.0, 189.0, 83.0, 114.0, 97.0, 228.0, 72.0, 55.0, 153.0, 167.0, 42.0, 87.0, 11.0, 154.0, 33.0, 66.0, 174.0, 23.0, 103.0, 83.0, 148.0, 22.0, 69.0, 19.0, 41.0, 121.0, 51.0, 6.0, 101.0, 54.0, 116.0, 153.0, 55.0, 26.0, 147.0, 55.0, 49.0, 68.0, 68.0, 12.0, 86.0, 49.0, 36.0, 119.0, 64.0, 88.0, 112.0, 34.0, 63.0, 16.0, 36.0, 115.0, 26.0, 59.0, 100.0, 110.0, 29.0, 52.0, 237.0, 26.0, 77.0, 29.0, 57.0, 73.0, 106.0, 212.0, 148.0, 21.0, 82.0, 169.0, 11.0, 85.0, 182.0, 75.0, 71.0, 80.0, 143.0, 149.0, 73.0, 32.0, 56.0, 79.0, 54.0, 80.0, 84.0, 11.0, 81.0, 203.0, 64.0, 103.0, 21.0, 37.0, 168.0, 86.0, 48.0, 30.0, 133.0, 80.0, 231.0, 102.0, 108.0, 31.0, 115.0, 47.0, 58.0, 39.0, 28.0, 115.0, 117.0, 21.0, 47.0, 52.0, 127.0, 140.0, 73.0, 75.0, 15.0, 39.0, 84.0, 108.0, 81.0, 55.0, 41.0, 73.0, 64.0, 30.0, 118.0, 38.0, 59.0, 32.0, 90.0, 15.0, 115.0, 23.0, 147.0, 117.0, 40.0, 88.0, 146.0, 38.0, 6.0, 40.0, 43.0, 84.0, 73.0, 33.0, 37.0, 97.0, 6.0, 17.0, 31.0, 33.0, 47.0, 92.0, 210.0, 13.0, 153.0, 75.0, 45.0, 11.0, 44.0, 90.0, 72.0, 90.0, 104.0, 18.0, 74.0, 38.0, 74.0, 105.0, 91.0, 42.0, 26.0, 103.0, 93.0, 67.0, 145.0, 57.0, 48.0, 25.0, 69.0, 59.0, 60.0, 13.0, 35.0, 58.0, 121.0, 38.0, 37.0, 51.0, 69.0, 74.0, 81.0, 15.0, 19.0, 87.0, 193.0, 110.0, 46.0, 30.0, 43.0, 56.0, 213.0, 99.0, 45.0, 71.0, 148.0, 28.0, 10.0, 58.0, 35.0, 153.0, 15.0, 66.0, 34.0, 194.0, 84.0, 86.0, 111.0, 53.0, 209.0, 24.0, 84.0, 19.0, 36.0, 24.0, 22.0, 75.0, 84.0, 61.0, 44.0, 90.0, 33.0, 158.0, 144.0, 62.0, 56.0, 106.0, 183.0, 46.0, 145.0, 87.0, 78.0, 151.0, 103.0, 128.0, 63.0, 176.0, 39.0, 147.0, 187.0, 57.0, 119.0, 83.0, 76.0, 93.0, 12.0, 28.0, 30.0, 200.0, 10.0, 126.0, 25.0, 31.0, 30.0, 146.0, 29.0, 49.0, 41.0, 77.0, 16.0, 34.0, 29.0, 187.0, 64.0, 51.0, 39.0, 54.0, 63.0, 74.0, 40.0, 36.0, 91.0, 29.0, 129.0, 117.0, 60.0, 112.0, 109.0, 128.0, 8.0, 34.0, 75.0, 181.0, 39.0, 123.0, 65.0, 85.0, 63.0, 130.0, 53.0, 84.0, 48.0, 47.0, 114.0, 18.0, 86.0, 26.0, 121.0, 96.0, 30.0, 84.0, 65.0, 145.0, 33.0, 69.0, 238.0, 56.0, 43.0, 24.0, 65.0, 68.0, 72.0, 163.0, 64.0, 46.0, 143.0, 56.0, 19.0, 44.0, 159.0, 27.0, 32.0, 156.0, 76.0, 15.0, 105.0, 160.0, 125.0, 61.0, 22.0, 147.0, 55.0, 86.0, 68.0, 68.0, 32.0, 209.0, 96.0, 26.0, 120.0, 134.0, 67.0, 86.0, 36.0, 28.0, 248.0, 141.0, 5.0, 93.0, 14.0, 113.0, 26.0, 176.0, 24.0, 44.0, 33.0, 125.0, 122.0, 130.0, 25.0, 42.0, 44.0, 65.0, 15.0, 90.0, 32.0, 142.0, 133.0, 83.0, 77.0, 121.0, 61.0, 85.0, 54.0, 9.0, 77.0, 78.0, 82.0, 74.0, 27.0, 71.0, 78.0, 33.0, 153.0, 154.0, 37.0, 41.0, 83.0, 23.0, 36.0, 48.0, 13.0, 32.0, 73.0, 44.0, 59.0, 101.0, 78.0, 24.0, 37.0, 210.0, 200.0, 91.0, 41.0, 61.0, 40.0, 21.0, 53.0, 94.0, 50.0, 110.0, 112.0, 143.0, 16.0, 16.0, 106.0, 23.0, 65.0, 133.0, 134.0, 31.0, 134.0, 237.0, 28.0, 62.0, 140.0, 41.0, 115.0, 66.0, 53.0, 101.0, 112.0, 99.0, 61.0, 44.0, 53.0, 43.0, 156.0, 190.0, 14.0, 5.0, 31.0, 44.0, 23.0, 199.0, 78.0, 72.0, 44.0, 58.0, 73.0, 19.0, 66.0, 103.0, 29.0, 132.0, 69.0, 11.0, 18.0, 59.0, 25.0, 61.0, 43.0, 134.0, 63.0, 36.0, 42.0, 102.0, 54.0, 25.0, 25.0, 42.0, 23.0, 16.0, 89.0, 109.0, 40.0, 35.0, 73.0, 58.0, 59.0, 14.0, 212.0, 6.0, 32.0, 128.0, 75.0, 112.0, 13.0, 36.0, 18.0, 18.0, 8.0, 22.0, 110.0, 155.0, 47.0, 47.0, 138.0, 123.0, 170.0, 87.0, 34.0, 54.0, 159.0, 201.0, 42.0, 53.0, 75.0, 221.0, 128.0, 15.0, 55.0, 134.0, 26.0, 69.0, 160.0, 251.0, 86.0, 50.0, 51.0, 46.0, 65.0, 115.0, 86.0, 51.0, 104.0, 39.0, 124.0, 170.0, 13.0, 19.0, 104.0, 113.0, 76.0, 70.0, 117.0, 102.0, 106.0, 49.0, 37.0, 79.0, 56.0, 103.0, 14.0, 55.0, 38.0, 25.0, 99.0, 22.0, 129.0, 30.0, 98.0, 57.0, 78.0, 67.0, 33.0, 16.0, 13.0, 72.0, 109.0, 64.0, 40.0, 177.0, 42.0, 110.0, 21.0, 26.0, 63.0, 107.0, 86.0, 18.0, 44.0, 32.0, 39.0, 83.0, 72.0, 64.0, 9.0, 97.0, 32.0, 83.0, 192.0, 15.0, 67.0, 42.0, 20.0, 61.0, 53.0, 68.0, 64.0, 93.0, 72.0, 181.0, 14.0, 15.0, 17.0, 47.0, 198.0, 59.0, 7.0, 21.0, 26.0, 16.0, 131.0, 68.0, 75.0, 21.0, 53.0, 29.0, 43.0, 16.0, 59.0, 126.0, 30.0, 26.0, 56.0, 21.0, 103.0, 93.0, 98.0, 88.0, 76.0, 55.0, 153.0, 58.0, 12.0, 32.0, 68.0, 206.0, 87.0, 68.0, 11.0, 25.0, 49.0, 47.0, 38.0, 65.0, 77.0, 11.0, 69.0, 21.0, 126.0, 25.0, 48.0, 79.0, 90.0, 82.0, 85.0, 77.0, 21.0, 52.0, 28.0, 67.0, 61.0, 28.0, 29.0, 65.0, 115.0, 9.0, 101.0, 83.0, 27.0, 77.0, 46.0, 93.0, 58.0, 43.0, 39.0, 28.0, 41.0, 56.0, 74.0, 63.0, 7.0, 20.0, 40.0, 16.0, 11.0, 17.0, 25.0, 35.0, 30.0, 24.0, 42.0, 49.0, 20.0, 40.0, 53.0, 20.0, 43.0, 86.0, 27.0, 8.0, 12.0, 92.0, 32.0, 209.0, 84.0, 135.0, 29.0, 118.0, 147.0, 84.0, 32.0, 35.0, 147.0, 25.0, 35.0, 8.0, 102.0, 35.0, 48.0, 21.0, 29.0, 226.0, 143.0, 44.0, 135.0, 37.0, 77.0, 151.0, 129.0, 27.0, 102.0, 70.0, 18.0, 102.0, 48.0, 13.0, 89.0, 15.0, 88.0, 16.0, 157.0, 85.0, 54.0, 8.0, 42.0, 63.0, 40.0, 48.0, 64.0, 58.0, 56.0, 77.0, 58.0, 126.0, 51.0, 90.0, 11.0, 47.0, 79.0, 90.0, 96.0, 60.0, 129.0, 63.0, 138.0, 67.0, 118.0, 138.0, 172.0, 89.0, 62.0, 134.0, 146.0, 85.0, 66.0, 75.0, 102.0, 43.0, 54.0, 24.0, 51.0, 15.0, 159.0, 21.0, 100.0, 152.0, 27.0, 10.0, 14.0, 116.0, 29.0, 81.0, 113.0, 94.0, 101.0, 46.0, 24.0, 230.0, 68.0, 105.0, 76.0, 136.0, 223.0, 196.0, 139.0, 136.0, 162.0, 99.0, 120.0, 46.0, 145.0, 107.0, 95.0, 140.0, 11.0, 110.0, 7.0, 49.0, 48.0, 66.0, 84.0, 129.0, 128.0, 158.0, 92.0, 80.0, 183.0, 54.0, 107.0, 104.0, 138.0, 84.0, 34.0, 70.0, 43.0, 136.0, 186.0, 107.0, 73.0, 61.0, 243.0, 131.0, 28.0, 76.0, 208.0, 187.0, 109.0, 66.0, 48.0, 69.0, 49.0, 100.0, 108.0, 72.0, 139.0, 98.0, 225.0, 98.0, 57.0, 165.0, 66.0, 189.0, 72.0, 35.0, 50.0, 70.0, 208.0, 12.0, 134.0, 91.0, 212.0, 53.0, 252.0, 30.0, 72.0, 49.0, 75.0, 73.0, 114.0, 147.0, 59.0, 124.0, 36.0, 63.0, 8.0, 205.0, 66.0, 70.0, 157.0, 175.0, 46.0, 14.0, 93.0, 28.0, 52.0, 15.0, 37.0, 129.0, 86.0, 179.0, 56.0, 17.0, 87.0, 144.0, 211.0, 32.0, 149.0, 187.0, 16.0, 52.0, 48.0, 47.0, 197.0, 54.0, 75.0, 46.0, 29.0, 72.0, 42.0, 154.0, 39.0, 164.0, 209.0, 89.0, 69.0, 19.0, 74.0, 74.0, 73.0, 22.0, 23.0, 131.0, 125.0, 7.0, 52.0, 155.0, 85.0, 13.0, 166.0, 46.0, 155.0, 73.0, 72.0, 28.0, 177.0, 172.0, 151.0, 59.0, 222.0, 57.0, 37.0, 109.0, 151.0, 92.0, 33.0, 13.0, 97.0, 107.0, 29.0, 108.0, 156.0, 73.0, 79.0, 159.0, 100.0, 34.0, 38.0, 124.0, 17.0, 91.0, 8.0, 160.0, 102.0, 29.0, 216.0, 93.0, 185.0, 95.0, 78.0, 170.0, 104.0, 125.0, 95.0, 129.0, 22.0, 29.0, 18.0, 121.0, 116.0, 141.0, 142.0, 107.0, 110.0, 29.0, 97.0, 11.0, 104.0, 167.0, 32.0, 60.0, 73.0, 82.0, 121.0, 114.0, 202.0, 82.0, 213.0, 103.0, 30.0, 62.0, 165.0, 136.0, 82.0, 19.0, 75.0, 36.0, 152.0, 139.0, 70.0, 134.0, 223.0, 98.0, 128.0, 145.0, 79.0, 102.0, 137.0, 122.0, 115.0, 117.0, 71.0, 68.0, 13.0, 109.0, 117.0, 32.0, 35.0, 7.0, 149.0, 53.0, 73.0, 19.0, 43.0, 23.0, 134.0, 77.0, 44.0, 116.0, 159.0, 221.0, 112.0, 68.0, 145.0, 54.0, 68.0, 122.0, 118.0, 121.0, 13.0, 13.0, 87.0, 62.0, 229.0, 60.0, 61.0, 126.0, 210.0, 85.0, 114.0, 81.0, 143.0, 93.0, 158.0, 16.0, 83.0, 10.0, 35.0, 90.0, 93.0, 139.0, 58.0, 112.0, 233.0, 128.0, 35.0, 67.0, 111.0, 90.0, 67.0, 33.0, 28.0, 42.0, 10.0, 171.0, 44.0, 105.0, 42.0, 39.0, 68.0, 69.0, 114.0, 54.0, 111.0, 12.0, 89.0, 121.0, 42.0, 56.0, 141.0, 44.0, 23.0, 166.0, 150.0, 67.0, 150.0, 239.0, 44.0, 89.0, 65.0, 98.0, 53.0, 69.0, 75.0, 34.0, 49.0, 60.0, 19.0, 95.0, 88.0, 87.0, 139.0, 186.0, 60.0, 148.0, 97.0, 70.0, 182.0, 41.0, 50.0, 150.0, 121.0, 134.0, 148.0, 76.0, 139.0, 98.0, 30.0, 111.0, 75.0, 167.0, 116.0, 149.0, 26.0, 29.0, 82.0, 129.0, 9.0, 67.0, 144.0, 138.0, 111.0, 102.0, 55.0, 102.0, 77.0, 156.0, 72.0, 49.0, 162.0, 125.0, 127.0, 34.0, 124.0, 142.0, 142.0, 12.0, 227.0, 8.0, 24.0, 207.0, 92.0, 105.0, 39.0, 58.0, 64.0, 201.0, 108.0, 210.0, 103.0, 144.0, 84.0, 134.0, 102.0, 97.0, 27.0, 100.0, 150.0, 179.0, 112.0, 19.0, 23.0, 112.0, 16.0, 53.0, 159.0, 80.0, 31.0, 153.0, 81.0, 66.0, 92.0, 115.0, 11.0, 251.0, 10.0, 212.0, 46.0, 32.0, 27.0, 10.0, 35.0, 58.0, 95.0, 26.0, 147.0, 70.0, 106.0, 197.0, 111.0, 65.0, 35.0, 52.0, 148.0, 76.0, 17.0, 83.0, 146.0, 24.0, 205.0, 50.0, 36.0, 182.0, 45.0, 36.0, 56.0, 91.0, 92.0, 23.0, 161.0, 38.0, 34.0, 55.0, 246.0, 50.0, 59.0, 23.0, 21.0, 205.0, 30.0, 107.0, 64.0, 22.0, 27.0, 128.0, 111.0, 25.0, 181.0, 66.0, 167.0, 29.0, 12.0, 79.0, 130.0, 141.0, 86.0, 116.0, 14.0, 109.0, 62.0, 94.0, 139.0, 13.0, 80.0, 123.0, 125.0, 94.0, 79.0, 71.0, 23.0, 69.0, 56.0, 24.0, 66.0, 58.0, 123.0, 101.0, 103.0, 150.0, 134.0, 59.0, 76.0, 92.0, 53.0, 256.0, 113.0, 52.0, 59.0, 34.0, 8.0, 44.0, 159.0, 190.0, 56.0, 155.0, 172.0, 13.0, 155.0, 100.0, 53.0, 228.0, 110.0, 4.0, 87.0, 98.0, 148.0, 37.0, 56.0, 203.0, 49.0, 155.0, 134.0, 52.0, 68.0, 34.0, 243.0, 125.0, 97.0, 50.0, 61.0, 63.0, 82.0, 29.0, 28.0, 46.0, 16.0, 91.0, 69.0, 100.0, 80.0, 60.0, 97.0, 78.0, 69.0, 51.0, 214.0, 37.0, 104.0, 45.0, 166.0, 111.0, 51.0, 69.0, 45.0, 81.0, 49.0, 18.0, 59.0, 149.0, 59.0, 54.0, 37.0, 124.0, 31.0, 94.0, 79.0, 147.0, 151.0, 49.0, 85.0, 141.0, 15.0, 126.0, 68.0, 21.0, 80.0, 91.0, 38.0, 95.0, 51.0, 40.0, 136.0, 39.0, 171.0, 23.0, 28.0, 47.0, 142.0, 117.0, 75.0, 134.0, 62.0, 39.0, 17.0, 139.0, 118.0, 93.0, 43.0, 66.0, 64.0, 53.0, 157.0, 11.0, 38.0, 61.0, 108.0, 69.0, 29.0, 52.0, 38.0, 36.0, 28.0, 106.0, 69.0, 36.0, 143.0, 111.0, 34.0, 59.0, 61.0, 147.0, 67.0, 114.0, 96.0, 74.0, 53.0, 127.0, 76.0, 249.0, 112.0, 256.0, 146.0, 32.0, 105.0, 123.0, 46.0, 38.0, 34.0, 78.0, 48.0, 212.0, 128.0, 59.0, 90.0, 40.0, 56.0, 83.0, 9.0, 171.0, 80.0, 28.0, 43.0, 47.0, 57.0, 165.0, 27.0, 39.0, 162.0, 180.0, 51.0, 19.0, 20.0, 50.0, 36.0, 124.0, 61.0, 199.0, 125.0, 127.0, 73.0, 79.0, 116.0, 51.0, 165.0, 32.0, 49.0, 74.0, 111.0, 169.0, 127.0, 53.0, 9.0, 4.0, 59.0, 80.0, 144.0, 62.0, 76.0, 35.0, 233.0, 75.0, 147.0, 141.0, 188.0, 226.0, 198.0, 218.0, 211.0, 135.0, 113.0, 196.0, 20.0, 87.0, 160.0, 76.0, 92.0, 74.0, 128.0, 11.0, 252.0, 128.0, 18.0, 95.0, 76.0, 40.0, 171.0, 181.0, 213.0, 51.0, 175.0, 56.0, 24.0, 95.0, 138.0, 80.0, 166.0, 155.0, 244.0, 166.0, 56.0, 63.0, 52.0, 155.0, 8.0, 71.0, 113.0, 79.0, 175.0, 85.0, 129.0, 65.0, 90.0, 171.0, 120.0, 104.0, 71.0, 51.0, 176.0, 37.0, 95.0, 101.0, 80.0, 67.0, 54.0, 146.0, 170.0, 78.0, 62.0, 85.0, 59.0, 55.0, 100.0, 14.0, 54.0, 95.0, 120.0, 62.0, 142.0, 68.0, 78.0, 93.0, 12.0, 154.0, 154.0, 111.0, 69.0, 101.0, 217.0, 89.0, 201.0, 163.0, 41.0, 42.0, 62.0, 69.0, 32.0, 46.0, 90.0, 118.0, 51.0, 126.0, 150.0, 92.0, 89.0, 65.0, 11.0, 202.0, 17.0, 184.0, 124.0, 85.0, 121.0, 22.0, 83.0, 77.0, 39.0, 70.0, 122.0, 162.0, 96.0, 42.0, 92.0, 85.0, 16.0, 139.0, 39.0, 182.0, 185.0, 89.0, 98.0, 119.0, 88.0, 123.0, 85.0, 93.0, 93.0, 221.0, 54.0, 167.0, 26.0, 46.0, 176.0, 85.0, 58.0, 152.0, 77.0, 97.0, 56.0, 86.0, 148.0, 88.0, 106.0, 119.0, 209.0, 85.0, 176.0, 118.0, 124.0, 40.0, 84.0, 126.0, 141.0, 85.0, 201.0, 119.0, 71.0, 163.0, 66.0, 29.0, 166.0, 10.0, 151.0, 80.0, 11.0, 165.0, 89.0, 76.0, 55.0, 108.0, 103.0, 147.0, 22.0, 17.0, 74.0, 71.0, 248.0, 56.0, 22.0, 66.0, 63.0, 122.0, 86.0, 166.0, 86.0, 21.0, 137.0, 35.0, 84.0, 254.0, 129.0, 101.0, 14.0, 112.0, 131.0, 148.0, 41.0, 151.0, 105.0, 191.0, 70.0, 100.0, 97.0, 179.0, 152.0, 38.0, 122.0, 103.0, 221.0, 99.0, 53.0, 186.0, 112.0, 85.0, 100.0, 198.0, 84.0, 201.0, 199.0, 198.0, 152.0, 14.0, 80.0, 219.0, 165.0, 75.0, 102.0, 66.0, 97.0, 37.0, 148.0, 150.0, 159.0, 27.0, 207.0, 234.0, 125.0, 78.0, 84.0, 55.0, 113.0, 117.0, 201.0, 122.0, 192.0, 218.0, 106.0, 133.0, 155.0, 224.0, 118.0, 96.0, 203.0, 169.0, 145.0, 139.0, 157.0, 236.0, 80.0, 84.0, 123.0, 54.0, 214.0, 121.0, 190.0, 107.0, 89.0, 166.0, 103.0, 134.0, 87.0, 112.0, 111.0, 207.0, 186.0, 223.0, 109.0, 195.0, 109.0, 114.0, 18.0, 136.0, 46.0, 43.0, 99.0, 172.0, 90.0, 159.0, 93.0, 79.0, 154.0, 116.0, 177.0, 207.0, 181.0, 190.0, 110.0, 156.0, 25.0, 163.0, 115.0, 162.0, 129.0, 83.0, 218.0, 190.0, 74.0, 159.0, 108.0, 172.0, 207.0, 137.0, 113.0, 180.0, 53.0, 96.0, 186.0, 175.0, 52.0, 192.0, 118.0, 137.0, 102.0, 218.0, 69.0, 172.0, 143.0, 67.0, 90.0, 217.0, 153.0, 41.0, 105.0, 37.0, 97.0, 194.0, 79.0, 34.0, 157.0, 230.0, 78.0, 229.0, 250.0, 239.0, 17.0, 27.0, 47.0, 157.0, 33.0, 8.0, 102.0, 183.0, 44.0, 97.0, 48.0, 202.0, 95.0, 93.0, 62.0, 81.0, 154.0, 91.0, 100.0, 108.0, 19.0, 238.0, 133.0, 22.0, 41.0, 48.0, 107.0, 79.0, 36.0, 9.0, 10.0, 69.0, 153.0, 194.0, 71.0, 29.0, 197.0, 77.0, 75.0, 235.0, 13.0, 11.0, 92.0, 60.0, 17.0, 132.0, 201.0, 23.0, 118.0, 200.0, 106.0, 90.0, 28.0, 28.0, 192.0, 184.0, 176.0, 42.0, 114.0, 51.0, 31.0, 140.0, 123.0, 101.0, 199.0, 191.0, 133.0, 55.0, 57.0, 60.0, 197.0, 38.0, 39.0, 87.0, 135.0, 99.0, 61.0, 83.0, 49.0, 40.0, 155.0, 185.0, 129.0, 75.0, 88.0, 110.0, 57.0, 161.0, 46.0, 143.0, 145.0, 126.0, 173.0, 31.0, 133.0, 125.0, 99.0, 13.0, 99.0, 176.0, 187.0, 42.0, 48.0, 235.0, 29.0, 122.0, 129.0, 88.0, 39.0, 106.0, 80.0, 182.0, 229.0, 85.0, 39.0, 36.0, 187.0, 59.0, 29.0, 100.0, 56.0, 105.0, 134.0, 102.0, 83.0, 105.0, 81.0, 19.0, 32.0, 19.0, 157.0, 182.0, 127.0, 53.0, 106.0, 19.0, 46.0, 58.0, 108.0, 116.0, 167.0, 123.0, 115.0, 95.0, 61.0, 37.0, 135.0, 179.0, 125.0, 182.0, 63.0, 166.0, 33.0, 27.0, 40.0, 61.0, 36.0, 135.0, 227.0, 79.0, 61.0, 186.0, 28.0, 145.0, 73.0, 18.0, 192.0, 25.0, 83.0, 24.0, 90.0, 91.0, 101.0, 91.0, 38.0, 23.0, 25.0, 172.0, 87.0, 216.0, 192.0, 62.0, 195.0, 94.0, 207.0, 67.0, 43.0, 62.0, 145.0, 23.0, 200.0, 91.0, 112.0, 133.0, 116.0, 136.0, 115.0, 209.0, 40.0, 83.0, 113.0, 80.0, 104.0, 112.0, 104.0, 88.0, 56.0, 55.0, 95.0, 174.0, 169.0, 110.0, 170.0, 89.0, 176.0, 113.0, 75.0, 58.0, 52.0, 52.0, 54.0, 212.0, 63.0, 73.0, 146.0, 7.0, 56.0, 85.0, 149.0, 104.0, 141.0, 228.0, 31.0, 97.0, 70.0, 99.0, 118.0, 89.0, 135.0, 64.0, 89.0, 114.0, 27.0, 121.0, 82.0, 91.0, 140.0, 92.0, 40.0, 105.0, 80.0, 40.0, 185.0, 145.0, 141.0, 43.0, 88.0, 123.0, 73.0, 75.0, 54.0, 79.0, 25.0, 96.0, 252.0, 32.0, 152.0, 114.0, 99.0, 127.0, 82.0, 120.0, 86.0, 145.0, 122.0, 240.0, 93.0, 83.0, 86.0, 178.0, 121.0, 172.0, 133.0, 28.0, 92.0, 45.0, 57.0, 60.0, 28.0, 45.0, 101.0, 115.0, 95.0, 59.0, 134.0, 65.0, 22.0, 155.0, 168.0, 70.0, 81.0, 166.0, 227.0, 117.0, 47.0, 88.0, 184.0, 69.0, 123.0, 52.0, 116.0, 175.0, 158.0, 210.0, 232.0, 129.0, 121.0, 42.0, 160.0, 36.0, 29.0, 250.0, 97.0, 163.0, 177.0, 136.0, 148.0, 25.0, 32.0, 36.0, 35.0, 81.0, 205.0, 96.0, 114.0, 81.0, 69.0, 132.0, 84.0, 193.0, 176.0, 63.0, 107.0, 58.0, 106.0, 114.0, 172.0, 93.0, 183.0, 40.0, 89.0, 27.0, 16.0, 203.0, 237.0, 91.0, 244.0, 219.0, 142.0, 221.0, 128.0, 165.0, 80.0, 21.0, 149.0, 119.0, 57.0, 28.0, 119.0, 112.0, 59.0, 92.0, 96.0, 27.0, 46.0, 194.0, 28.0, 71.0, 128.0, 138.0, 238.0, 50.0, 50.0, 47.0, 95.0, 155.0, 57.0, 196.0, 92.0, 98.0, 18.0, 17.0, 16.0, 15.0, 26.0, 18.0, 102.0, 103.0, 149.0, 19.0, 27.0, 19.0, 119.0, 69.0, 98.0, 124.0, 137.0, 93.0, 61.0, 122.0, 59.0, 85.0, 143.0, 91.0, 75.0, 106.0, 144.0, 151.0, 65.0, 187.0, 127.0, 119.0, 129.0, 18.0, 47.0, 46.0, 83.0, 183.0, 40.0, 179.0, 102.0, 195.0, 53.0, 23.0, 117.0, 86.0, 100.0, 71.0, 55.0, 63.0, 69.0, 43.0, 66.0, 142.0, 32.0, 169.0, 50.0, 134.0, 69.0, 128.0, 49.0, 144.0, 44.0, 88.0, 28.0, 231.0, 73.0, 40.0, 61.0, 41.0, 131.0, 103.0, 49.0, 118.0, 35.0, 64.0, 60.0, 46.0, 34.0, 81.0, 79.0, 144.0, 165.0, 32.0, 141.0, 82.0, 46.0, 112.0, 67.0, 40.0, 25.0, 94.0, 120.0, 80.0, 114.0, 25.0, 86.0, 16.0, 211.0, 34.0, 41.0, 52.0, 23.0, 128.0, 86.0, 199.0, 132.0, 30.0, 45.0, 33.0, 20.0, 121.0, 92.0, 160.0, 74.0, 126.0, 89.0, 35.0, 47.0, 92.0, 55.0, 103.0, 98.0, 88.0, 39.0, 93.0, 131.0, 171.0, 38.0, 33.0, 56.0, 48.0, 42.0, 66.0, 22.0, 41.0, 44.0, 43.0, 28.0, 50.0, 88.0, 111.0, 118.0, 126.0, 66.0, 34.0, 41.0, 49.0, 123.0, 47.0, 74.0, 90.0, 44.0, 139.0, 25.0, 97.0, 158.0, 233.0, 97.0, 142.0, 41.0, 80.0, 158.0, 25.0, 176.0, 11.0, 25.0, 124.0, 148.0, 82.0, 49.0, 46.0, 60.0, 112.0, 160.0, 17.0, 36.0, 105.0, 21.0, 71.0, 108.0, 251.0, 77.0, 54.0, 97.0, 93.0, 60.0, 8.0, 9.0, 14.0, 8.0, 133.0, 122.0, 55.0, 94.0, 88.0, 98.0, 140.0, 113.0, 25.0, 89.0, 201.0, 132.0, 156.0, 110.0, 120.0, 133.0, 16.0, 143.0, 89.0, 86.0, 85.0, 98.0, 41.0, 151.0, 93.0, 128.0, 105.0, 47.0, 146.0, 35.0, 59.0, 90.0, 71.0, 110.0, 93.0, 87.0, 81.0, 39.0, 188.0, 28.0, 48.0, 80.0, 49.0, 156.0, 136.0, 113.0, 143.0, 112.0, 129.0, 70.0, 35.0, 85.0, 69.0, 158.0, 126.0, 50.0, 62.0, 70.0, 62.0, 55.0, 68.0, 152.0, 65.0, 206.0, 68.0, 101.0, 60.0, 48.0, 134.0, 41.0, 67.0, 40.0, 150.0, 52.0, 40.0, 63.0, 37.0, 30.0, 33.0, 124.0, 24.0, 54.0, 103.0, 16.0, 152.0, 4.0, 52.0, 86.0, 127.0, 133.0, 217.0, 24.0, 101.0, 52.0, 37.0, 18.0, 121.0, 173.0, 23.0, 114.0, 38.0, 44.0, 198.0, 45.0, 219.0, 238.0, 48.0, 35.0, 105.0, 41.0, 171.0, 64.0, 108.0, 41.0, 95.0, 128.0, 199.0, 107.0, 90.0, 50.0, 131.0, 189.0, 128.0, 57.0, 124.0, 62.0, 124.0, 38.0, 53.0, 122.0, 116.0, 128.0, 137.0, 65.0, 33.0, 68.0, 78.0, 120.0, 122.0, 52.0, 59.0, 118.0, 80.0, 135.0, 117.0, 80.0, 113.0, 184.0, 51.0, 80.0, 57.0, 51.0, 40.0, 30.0, 39.0, 31.0, 174.0, 152.0, 63.0, 37.0, 150.0, 39.0, 53.0, 29.0, 160.0, 97.0, 60.0, 81.0, 59.0, 122.0, 28.0, 50.0, 74.0, 63.0, 68.0, 64.0, 57.0, 217.0, 102.0, 127.0, 61.0, 141.0, 75.0, 91.0, 110.0, 90.0, 79.0, 11.0, 6.0, 112.0, 67.0, 52.0, 70.0, 143.0, 28.0, 127.0, 82.0, 34.0, 63.0, 117.0, 58.0, 78.0, 62.0, 83.0, 70.0, 51.0, 62.0, 57.0, 123.0, 157.0, 111.0, 35.0, 48.0, 125.0, 82.0, 156.0, 45.0, 203.0, 124.0, 81.0, 36.0, 184.0, 208.0, 29.0, 168.0, 140.0, 51.0, 196.0, 42.0, 89.0, 64.0, 75.0, 39.0, 22.0, 57.0, 128.0, 126.0, 187.0, 44.0, 239.0, 86.0, 40.0, 48.0, 141.0, 34.0, 100.0, 132.0, 78.0, 78.0, 225.0, 140.0, 237.0, 159.0, 19.0, 47.0, 18.0, 45.0, 126.0, 87.0, 62.0, 159.0, 181.0, 47.0, 132.0, 47.0, 30.0, 40.0, 50.0, 183.0, 76.0, 187.0, 62.0, 27.0, 82.0, 111.0, 37.0, 24.0, 80.0, 65.0, 47.0, 99.0, 207.0, 163.0, 144.0, 95.0, 137.0, 8.0, 47.0, 77.0, 53.0, 18.0, 37.0, 55.0, 33.0, 189.0, 106.0, 97.0, 108.0, 108.0, 111.0, 90.0, 15.0, 81.0, 131.0, 136.0, 59.0, 94.0, 65.0, 67.0, 169.0, 36.0, 98.0, 30.0, 97.0, 45.0, 64.0, 59.0, 74.0, 53.0, 65.0, 61.0, 79.0, 75.0, 126.0, 116.0, 78.0, 193.0, 110.0, 116.0, 85.0, 130.0, 87.0, 150.0, 36.0, 135.0, 36.0, 39.0, 8.0, 123.0, 78.0, 82.0, 50.0, 201.0, 50.0, 152.0, 9.0, 82.0, 100.0, 62.0, 78.0, 61.0, 125.0, 55.0, 62.0, 21.0, 46.0, 10.0, 59.0, 78.0, 108.0, 77.0, 118.0, 58.0, 62.0, 69.0, 55.0, 50.0, 20.0, 39.0, 20.0, 157.0, 111.0, 93.0, 118.0, 75.0, 193.0, 220.0, 95.0, 56.0, 48.0, 105.0, 45.0, 114.0, 142.0, 34.0, 224.0, 148.0, 37.0, 58.0, 58.0, 52.0, 215.0, 49.0, 103.0, 226.0, 9.0, 81.0, 88.0, 54.0, 45.0, 43.0, 113.0, 203.0, 69.0, 166.0, 37.0, 125.0, 78.0, 46.0, 185.0, 49.0, 65.0, 126.0, 11.0, 33.0, 44.0, 46.0, 36.0, 32.0, 40.0, 9.0, 154.0, 137.0, 124.0, 66.0, 94.0, 58.0, 179.0, 196.0, 42.0, 180.0, 194.0, 50.0, 6.0, 10.0, 204.0, 38.0, 94.0, 120.0, 57.0, 230.0, 145.0, 203.0, 31.0, 123.0, 44.0, 120.0, 67.0, 184.0, 162.0, 60.0, 79.0, 49.0, 121.0, 124.0, 10.0, 54.0, 207.0, 124.0, 40.0, 45.0, 54.0, 97.0, 73.0, 106.0, 48.0, 73.0, 239.0, 30.0, 175.0, 60.0, 110.0, 216.0, 106.0, 35.0, 36.0, 154.0, 138.0, 134.0, 17.0, 111.0, 91.0, 51.0, 19.0, 107.0, 176.0, 67.0, 250.0, 145.0, 91.0, 105.0, 49.0, 88.0, 85.0, 157.0, 170.0, 53.0, 54.0, 57.0, 111.0, 58.0, 56.0, 97.0, 84.0, 209.0, 42.0, 158.0, 31.0, 16.0, 150.0, 82.0, 200.0, 230.0, 119.0, 34.0, 40.0, 132.0, 106.0, 113.0, 64.0, 44.0, 87.0, 21.0, 85.0, 215.0, 92.0, 165.0, 49.0, 130.0, 35.0, 209.0, 89.0, 98.0, 108.0, 157.0, 234.0, 30.0, 101.0, 46.0, 88.0, 70.0, 46.0, 103.0, 115.0, 56.0, 247.0, 167.0, 27.0, 32.0, 88.0, 10.0, 76.0, 59.0, 172.0, 36.0, 192.0, 180.0, 230.0, 110.0, 29.0, 90.0, 32.0, 30.0, 32.0, 31.0, 39.0, 141.0, 43.0, 148.0, 42.0, 131.0, 76.0, 96.0, 140.0, 8.0, 84.0, 69.0, 108.0, 88.0, 47.0, 55.0, 202.0, 116.0, 79.0, 79.0, 77.0, 25.0, 192.0, 55.0, 159.0, 67.0, 61.0, 79.0, 102.0, 201.0, 70.0, 78.0, 156.0, 17.0, 51.0, 71.0, 168.0, 90.0, 28.0, 49.0, 50.0, 43.0, 40.0, 198.0, 118.0, 22.0, 75.0, 65.0, 43.0, 89.0, 47.0, 43.0, 44.0, 43.0, 40.0, 8.0, 29.0, 136.0, 137.0, 145.0, 94.0, 145.0, 74.0, 114.0, 74.0, 72.0, 80.0, 11.0, 113.0, 175.0, 31.0, 109.0, 152.0, 180.0, 60.0, 8.0, 224.0, 40.0, 67.0, 121.0, 78.0, 152.0, 110.0, 82.0, 133.0, 124.0, 107.0, 101.0, 118.0, 97.0, 47.0, 117.0, 128.0, 67.0, 67.0, 121.0, 69.0, 135.0, 155.0, 90.0, 9.0, 145.0, 150.0, 104.0, 50.0, 106.0, 119.0, 129.0, 145.0, 123.0, 166.0, 71.0, 158.0, 236.0, 78.0, 125.0, 95.0, 120.0, 112.0, 79.0, 118.0, 114.0, 86.0, 176.0, 131.0, 132.0, 170.0, 245.0, 155.0, 124.0, 56.0, 42.0, 158.0, 79.0, 68.0, 97.0, 125.0, 142.0, 183.0, 61.0, 113.0, 17.0, 87.0, 104.0, 82.0, 206.0, 94.0, 103.0, 88.0, 215.0, 74.0, 82.0, 59.0, 98.0, 219.0, 167.0, 34.0, 160.0, 74.0, 115.0, 131.0, 190.0, 36.0, 61.0, 86.0, 50.0, 129.0, 78.0, 144.0, 184.0, 70.0, 41.0, 107.0, 66.0, 114.0, 67.0, 218.0, 83.0, 172.0, 59.0, 31.0, 217.0, 208.0, 142.0, 77.0, 106.0, 60.0, 124.0, 143.0, 106.0, 157.0, 97.0, 167.0, 152.0, 194.0, 74.0, 109.0, 74.0, 61.0, 27.0, 133.0, 119.0, 75.0, 130.0, 46.0, 38.0, 44.0, 123.0, 63.0, 143.0, 68.0, 90.0, 210.0, 116.0, 135.0, 236.0, 26.0, 137.0, 84.0, 143.0, 29.0, 194.0, 221.0, 74.0, 160.0, 61.0, 107.0, 89.0, 63.0, 179.0, 52.0, 26.0, 101.0, 43.0, 56.0, 65.0, 66.0, 62.0, 53.0, 124.0, 149.0, 159.0, 125.0, 72.0, 231.0, 48.0, 66.0, 123.0, 236.0, 234.0, 83.0, 32.0, 68.0, 23.0, 58.0, 60.0, 60.0, 153.0, 35.0, 95.0, 24.0, 35.0, 142.0, 60.0, 66.0, 149.0, 129.0, 72.0, 173.0, 106.0, 103.0, 41.0, 54.0, 124.0, 91.0, 205.0, 51.0, 65.0, 51.0, 43.0, 150.0, 8.0, 42.0, 21.0, 17.0, 92.0, 110.0, 91.0, 16.0, 117.0, 40.0, 172.0, 77.0, 71.0, 35.0, 62.0, 90.0, 108.0, 14.0, 17.0, 92.0, 63.0, 15.0, 60.0, 120.0, 78.0, 65.0, 136.0, 42.0, 66.0, 88.0, 79.0, 64.0, 125.0, 32.0, 59.0, 177.0, 73.0, 74.0, 97.0, 25.0, 48.0, 17.0, 173.0, 135.0, 130.0, 174.0, 23.0, 40.0, 85.0, 254.0, 198.0, 27.0, 109.0, 80.0, 230.0, 132.0, 65.0, 177.0, 87.0, 38.0, 59.0, 84.0, 82.0, 77.0, 70.0, 176.0, 88.0, 127.0, 127.0, 104.0, 120.0, 85.0, 111.0, 203.0, 66.0, 71.0, 161.0, 82.0, 57.0, 87.0, 21.0, 183.0, 32.0, 80.0, 133.0, 48.0, 83.0, 72.0, 36.0, 47.0, 103.0, 62.0, 34.0, 199.0, 35.0, 41.0, 69.0, 122.0, 80.0, 206.0, 169.0, 110.0, 59.0, 140.0, 23.0, 79.0, 90.0, 108.0, 114.0, 96.0, 179.0, 211.0, 117.0, 77.0, 90.0, 131.0, 20.0, 76.0, 85.0, 100.0, 57.0, 95.0, 130.0, 57.0, 56.0, 138.0, 32.0, 23.0, 206.0, 81.0, 72.0, 43.0, 70.0, 216.0, 202.0, 127.0, 75.0, 92.0, 235.0, 35.0, 150.0, 168.0, 220.0, 66.0, 158.0, 46.0, 111.0, 96.0, 202.0, 126.0, 110.0, 212.0, 46.0, 33.0, 17.0, 158.0, 13.0, 186.0, 105.0, 28.0, 60.0, 14.0, 78.0, 115.0, 93.0, 45.0, 227.0, 73.0, 88.0, 128.0, 155.0, 22.0, 22.0, 85.0, 55.0, 87.0, 109.0, 54.0, 41.0, 47.0, 69.0, 98.0, 141.0, 25.0, 224.0, 58.0, 25.0, 109.0, 79.0, 77.0, 166.0, 65.0, 252.0, 114.0, 63.0, 75.0, 43.0, 57.0, 117.0, 81.0, 51.0, 66.0, 46.0, 47.0, 63.0, 139.0, 66.0, 28.0, 80.0, 37.0, 57.0, 219.0, 69.0, 85.0, 106.0, 128.0, 122.0, 23.0, 35.0, 63.0, 26.0, 30.0, 109.0, 93.0, 182.0, 71.0, 51.0, 162.0, 59.0, 127.0, 50.0, 164.0, 73.0, 105.0, 122.0, 39.0, 81.0, 60.0, 39.0, 85.0, 163.0, 66.0, 50.0, 98.0, 75.0, 23.0, 90.0, 21.0, 249.0, 43.0, 141.0, 50.0, 171.0, 110.0, 62.0, 58.0, 40.0, 158.0, 117.0, 75.0, 48.0, 104.0, 63.0, 101.0, 37.0, 86.0, 57.0, 184.0, 58.0, 86.0, 217.0, 133.0, 43.0, 64.0, 115.0, 29.0, 87.0, 97.0, 91.0, 103.0, 24.0, 91.0, 123.0, 109.0, 89.0, 61.0, 106.0, 15.0, 90.0, 109.0, 11.0, 150.0, 56.0, 43.0, 76.0, 39.0, 82.0, 77.0, 87.0, 53.0, 78.0, 104.0, 60.0, 110.0, 125.0, 51.0, 130.0, 114.0, 38.0, 52.0, 82.0, 6.0, 86.0, 71.0, 76.0, 103.0, 101.0, 123.0, 41.0, 170.0, 64.0, 118.0, 126.0, 67.0, 32.0, 75.0, 65.0, 111.0, 36.0, 126.0, 45.0, 97.0, 24.0, 142.0, 96.0, 116.0, 102.0, 18.0, 63.0, 55.0, 138.0, 78.0, 70.0, 72.0, 27.0, 132.0, 15.0, 5.0, 40.0, 198.0, 98.0, 44.0, 37.0, 49.0, 88.0, 132.0, 41.0, 50.0, 77.0, 53.0, 57.0, 183.0, 237.0, 54.0, 49.0, 71.0, 179.0, 158.0, 241.0, 254.0, 45.0, 17.0, 50.0, 99.0, 65.0, 109.0, 113.0, 170.0, 9.0, 113.0, 71.0, 102.0, 65.0, 34.0, 115.0, 54.0, 89.0, 26.0, 76.0, 30.0, 105.0, 93.0, 120.0, 98.0, 77.0, 119.0, 77.0, 71.0, 42.0, 24.0, 141.0, 78.0, 163.0, 25.0, 76.0, 19.0, 189.0, 55.0, 23.0, 11.0, 171.0, 191.0, 139.0, 169.0, 81.0, 77.0, 44.0, 27.0, 77.0, 59.0, 175.0, 72.0, 38.0, 221.0, 94.0, 47.0, 10.0, 47.0, 109.0, 58.0, 126.0, 114.0, 125.0, 46.0, 67.0, 73.0, 70.0, 7.0, 11.0, 220.0, 33.0, 113.0, 111.0, 63.0, 145.0, 96.0, 93.0, 208.0, 140.0, 58.0, 62.0, 133.0, 62.0, 76.0, 88.0, 131.0, 76.0, 219.0, 89.0, 82.0, 157.0, 98.0, 83.0, 10.0, 40.0, 49.0, 35.0, 71.0, 173.0, 44.0, 92.0, 29.0, 70.0, 90.0, 38.0, 27.0, 72.0, 24.0, 56.0, 240.0, 28.0, 60.0, 115.0, 193.0, 56.0, 50.0, 39.0, 22.0, 69.0, 121.0, 61.0, 34.0, 32.0, 39.0, 12.0, 126.0, 108.0, 61.0, 53.0, 136.0, 77.0, 36.0, 40.0, 200.0, 125.0, 65.0, 9.0, 158.0, 32.0, 63.0, 20.0, 86.0, 139.0, 164.0, 60.0, 56.0, 34.0, 79.0, 102.0, 127.0, 130.0, 116.0, 12.0, 209.0, 27.0, 55.0, 64.0, 67.0, 114.0, 149.0, 85.0, 54.0, 19.0, 52.0, 157.0, 44.0, 8.0, 56.0, 44.0, 35.0, 67.0, 50.0, 68.0, 39.0, 82.0, 34.0, 93.0, 51.0, 68.0, 130.0, 59.0, 86.0, 38.0, 125.0, 137.0, 55.0, 75.0, 138.0, 132.0, 100.0, 126.0, 66.0, 40.0, 32.0, 27.0, 88.0, 55.0, 65.0, 47.0, 30.0, 91.0, 106.0, 26.0, 109.0, 50.0, 26.0, 87.0, 172.0, 87.0, 146.0, 92.0, 59.0, 182.0, 107.0, 159.0, 37.0, 108.0, 50.0, 44.0, 43.0, 52.0, 125.0, 100.0, 108.0, 45.0, 17.0, 75.0, 64.0, 120.0, 126.0, 24.0, 105.0, 66.0, 26.0, 67.0, 28.0, 39.0, 97.0, 38.0, 87.0, 51.0, 75.0, 56.0, 53.0, 112.0, 24.0, 94.0, 118.0, 21.0, 188.0, 43.0, 86.0, 50.0, 43.0, 97.0, 32.0, 49.0, 187.0, 80.0, 106.0, 81.0, 85.0, 21.0, 61.0, 141.0, 130.0, 156.0, 92.0, 127.0, 66.0, 74.0, 62.0, 193.0, 160.0, 35.0, 68.0, 88.0, 107.0, 45.0, 61.0, 27.0, 83.0, 215.0, 208.0, 67.0, 67.0, 120.0, 79.0, 28.0, 148.0, 136.0, 109.0, 35.0, 64.0, 247.0, 158.0, 81.0, 77.0, 58.0, 129.0, 57.0, 107.0, 25.0, 224.0, 215.0, 37.0, 82.0, 116.0, 63.0, 42.0, 197.0, 152.0, 74.0, 13.0, 75.0, 18.0, 183.0, 82.0, 141.0, 168.0, 159.0, 217.0, 45.0, 68.0, 160.0, 112.0, 92.0, 147.0, 108.0, 170.0, 143.0, 17.0, 57.0, 99.0, 52.0, 94.0, 73.0, 104.0, 114.0, 108.0, 233.0, 111.0, 172.0, 54.0, 59.0, 25.0, 84.0, 20.0, 51.0, 161.0, 149.0, 73.0, 82.0, 82.0, 42.0, 19.0, 24.0, 107.0, 183.0, 26.0, 79.0, 38.0, 244.0, 98.0, 60.0, 110.0, 99.0, 189.0, 78.0, 44.0, 117.0, 88.0, 238.0, 41.0, 211.0, 172.0, 129.0, 58.0, 84.0, 49.0, 82.0, 65.0, 117.0, 82.0, 44.0, 85.0, 38.0, 69.0, 56.0, 25.0, 51.0, 65.0, 94.0, 77.0, 157.0, 79.0, 23.0, 55.0, 26.0, 127.0, 222.0, 100.0, 13.0, 204.0, 46.0, 59.0, 50.0, 81.0, 83.0, 155.0, 19.0, 104.0, 102.0, 115.0, 81.0, 38.0, 32.0, 53.0, 52.0, 154.0, 22.0, 53.0, 43.0, 71.0, 202.0, 122.0, 150.0, 115.0, 63.0, 183.0, 55.0, 213.0, 16.0, 39.0, 19.0, 99.0, 39.0, 52.0, 137.0, 150.0, 41.0, 146.0, 114.0, 76.0, 95.0, 32.0, 164.0, 96.0, 67.0, 36.0, 171.0, 106.0, 101.0, 104.0, 53.0, 17.0, 157.0, 203.0, 200.0, 97.0, 82.0, 80.0, 88.0, 148.0, 76.0, 65.0, 42.0, 44.0, 64.0, 57.0, 214.0, 190.0, 43.0, 106.0, 90.0, 171.0, 103.0, 70.0, 55.0, 62.0, 51.0, 44.0, 60.0, 125.0, 74.0, 117.0, 232.0, 114.0, 146.0, 92.0, 12.0, 98.0, 83.0, 121.0, 189.0, 89.0, 50.0, 63.0, 115.0, 86.0, 59.0, 112.0, 137.0, 72.0, 122.0, 130.0, 18.0, 95.0, 117.0, 232.0, 176.0, 120.0, 85.0, 174.0, 43.0, 65.0, 95.0, 193.0, 89.0, 151.0, 215.0, 125.0, 21.0, 59.0, 124.0, 22.0, 23.0, 29.0, 20.0, 151.0, 26.0, 59.0, 59.0, 198.0, 69.0, 19.0, 80.0, 61.0, 90.0, 100.0, 63.0, 14.0, 103.0, 95.0, 95.0, 38.0, 112.0, 108.0, 89.0, 54.0, 178.0, 24.0, 75.0, 229.0, 149.0, 61.0, 47.0, 44.0, 63.0, 79.0, 30.0, 96.0, 155.0, 134.0, 59.0, 62.0, 94.0, 35.0, 151.0, 105.0, 94.0, 126.0, 97.0, 107.0, 11.0, 42.0, 131.0, 63.0, 116.0, 147.0, 128.0, 88.0, 214.0, 51.0, 114.0, 16.0, 27.0, 99.0, 110.0, 61.0, 34.0, 209.0, 172.0, 28.0, 28.0, 179.0, 51.0, 67.0, 35.0, 169.0, 81.0, 51.0, 158.0, 96.0, 90.0, 60.0, 100.0, 212.0, 80.0, 49.0, 10.0, 165.0, 147.0, 83.0, 134.0, 150.0, 29.0, 78.0, 200.0, 199.0, 256.0, 72.0, 58.0, 55.0, 76.0, 131.0, 27.0, 15.0, 70.0, 48.0, 108.0, 45.0, 23.0, 93.0, 85.0, 68.0, 94.0, 102.0, 45.0, 60.0, 26.0, 119.0, 11.0, 83.0, 103.0, 116.0, 107.0, 37.0, 37.0, 64.0, 49.0, 9.0, 175.0, 118.0, 49.0, 152.0, 223.0, 7.0, 168.0, 63.0, 119.0, 59.0, 160.0, 110.0, 189.0, 7.0, 81.0, 170.0, 126.0, 189.0, 11.0, 121.0, 98.0, 42.0, 112.0, 138.0, 108.0, 48.0, 65.0, 141.0, 31.0, 40.0, 118.0, 181.0, 60.0, 214.0, 17.0, 45.0, 211.0, 111.0, 157.0, 76.0, 234.0, 124.0, 24.0, 34.0, 69.0, 45.0, 55.0, 50.0, 242.0, 64.0, 164.0, 164.0, 171.0, 77.0, 87.0, 33.0, 165.0, 53.0, 53.0, 144.0, 211.0, 168.0, 97.0, 83.0, 54.0, 79.0, 75.0, 99.0, 11.0, 43.0, 70.0, 60.0, 152.0, 87.0, 100.0, 23.0, 157.0, 84.0, 194.0, 127.0, 118.0, 39.0, 147.0, 32.0, 20.0, 55.0, 70.0, 150.0, 173.0, 30.0, 36.0, 56.0, 65.0, 159.0, 92.0, 122.0, 69.0, 194.0, 113.0, 57.0, 120.0, 92.0, 246.0, 81.0, 107.0, 60.0, 46.0, 27.0, 70.0, 73.0, 194.0, 39.0, 105.0, 35.0, 76.0, 120.0, 81.0, 101.0, 101.0, 13.0, 65.0, 75.0, 6.0, 70.0, 234.0, 54.0, 81.0, 70.0, 105.0, 36.0, 42.0, 82.0, 24.0, 129.0, 39.0, 204.0, 115.0, 120.0, 228.0, 10.0, 96.0, 72.0, 47.0, 81.0, 130.0, 108.0, 122.0, 55.0, 44.0, 112.0, 85.0, 72.0, 35.0, 57.0, 125.0, 50.0, 162.0, 60.0, 42.0, 71.0, 85.0, 161.0, 154.0, 245.0, 118.0, 96.0, 119.0, 35.0, 99.0, 175.0, 121.0, 138.0, 41.0, 90.0, 54.0, 150.0, 55.0, 98.0, 65.0, 170.0, 90.0, 29.0, 167.0, 65.0, 49.0, 24.0, 222.0, 210.0, 122.0, 134.0, 87.0, 69.0, 54.0, 70.0, 39.0, 32.0, 65.0, 114.0, 92.0, 154.0, 245.0, 58.0, 42.0, 98.0, 31.0, 104.0, 101.0, 43.0, 109.0, 116.0, 116.0, 136.0, 42.0, 94.0, 98.0, 128.0, 11.0, 52.0, 93.0, 138.0, 81.0, 118.0, 121.0, 111.0, 102.0, 77.0, 155.0, 28.0, 51.0, 70.0, 101.0, 201.0, 116.0, 37.0, 65.0, 57.0, 26.0, 38.0, 71.0, 23.0, 116.0, 30.0, 58.0, 192.0, 129.0, 63.0, 225.0, 86.0, 127.0, 35.0, 48.0, 142.0, 153.0, 72.0, 39.0, 95.0, 120.0, 135.0, 56.0, 78.0, 52.0, 44.0, 99.0, 55.0, 16.0, 29.0, 116.0, 139.0, 100.0, 224.0, 131.0, 71.0, 188.0, 36.0, 114.0, 131.0, 166.0, 93.0, 79.0, 41.0, 207.0, 95.0, 11.0, 89.0, 53.0, 93.0, 228.0, 76.0, 142.0, 40.0, 59.0, 220.0, 54.0, 134.0, 53.0, 80.0, 81.0, 247.0, 22.0, 34.0, 29.0, 138.0, 209.0, 56.0, 122.0, 46.0, 99.0, 17.0, 103.0, 83.0, 58.0, 164.0, 100.0, 58.0, 20.0, 92.0, 100.0, 174.0, 192.0, 35.0, 47.0, 67.0, 41.0, 36.0, 64.0, 31.0, 66.0, 76.0, 172.0, 176.0, 64.0, 33.0, 151.0, 52.0, 28.0, 123.0, 128.0, 104.0, 87.0, 83.0, 34.0, 9.0, 58.0, 31.0, 255.0, 33.0, 76.0, 179.0, 155.0, 59.0, 62.0, 161.0, 153.0, 111.0, 119.0, 38.0, 123.0, 49.0, 109.0, 69.0, 149.0, 99.0, 100.0, 47.0, 99.0, 48.0, 13.0, 101.0, 65.0, 28.0, 94.0, 112.0, 122.0, 88.0, 103.0, 45.0, 16.0, 109.0, 165.0, 57.0, 42.0, 73.0, 127.0, 157.0, 54.0, 162.0, 67.0, 30.0, 49.0, 194.0, 73.0, 46.0, 95.0, 41.0, 104.0, 36.0, 70.0, 37.0, 56.0, 49.0, 81.0, 63.0, 48.0, 117.0, 125.0, 67.0, 195.0, 110.0, 78.0, 56.0, 140.0, 158.0, 23.0, 133.0, 111.0, 17.0, 128.0, 11.0, 45.0, 79.0, 78.0, 90.0, 45.0, 157.0, 204.0, 90.0, 20.0, 77.0, 175.0, 24.0, 76.0, 78.0, 146.0, 100.0, 56.0, 116.0, 41.0, 64.0, 76.0, 64.0, 53.0, 107.0, 89.0, 38.0, 68.0, 45.0, 19.0, 33.0, 134.0, 30.0, 47.0, 84.0, 127.0, 25.0, 208.0, 83.0, 15.0, 82.0, 61.0, 156.0, 144.0, 68.0, 173.0, 80.0, 86.0, 88.0, 14.0, 28.0, 100.0, 64.0, 142.0, 95.0, 92.0, 104.0, 66.0, 38.0, 73.0, 139.0, 81.0, 74.0, 84.0, 40.0, 58.0, 121.0, 84.0, 26.0, 122.0, 32.0, 171.0, 68.0, 59.0, 170.0, 82.0, 61.0, 187.0, 196.0, 68.0, 23.0, 31.0, 93.0, 110.0, 98.0, 254.0, 129.0, 23.0, 90.0, 184.0, 16.0, 78.0, 124.0, 105.0, 116.0, 15.0, 31.0, 85.0, 75.0, 38.0, 45.0, 170.0, 62.0, 15.0, 156.0, 89.0, 19.0, 77.0, 58.0, 72.0, 126.0, 66.0, 31.0, 63.0, 54.0, 18.0, 80.0, 238.0, 69.0, 105.0, 204.0, 111.0, 158.0, 121.0, 25.0, 215.0, 117.0, 76.0, 73.0, 98.0, 37.0, 102.0, 92.0, 39.0, 48.0, 97.0, 209.0, 78.0, 157.0, 17.0, 82.0, 44.0, 203.0, 82.0, 116.0, 111.0, 115.0, 120.0, 91.0, 104.0, 76.0, 192.0, 60.0, 85.0, 131.0, 77.0, 20.0, 100.0, 111.0, 250.0, 111.0, 200.0, 71.0, 63.0, 30.0, 83.0, 58.0, 152.0, 28.0, 91.0, 51.0, 25.0, 98.0, 139.0, 212.0, 103.0, 87.0, 99.0, 134.0, 124.0, 19.0, 125.0, 239.0, 194.0, 97.0, 128.0, 58.0, 103.0, 28.0, 157.0, 84.0, 31.0, 23.0, 58.0, 33.0, 45.0, 10.0, 137.0, 80.0, 49.0, 42.0, 153.0, 79.0, 65.0, 19.0, 37.0, 102.0, 54.0, 106.0, 87.0, 41.0, 58.0, 41.0, 78.0, 17.0, 73.0, 194.0, 41.0, 44.0, 74.0, 25.0, 124.0, 26.0, 61.0, 11.0, 27.0, 122.0, 86.0, 74.0, 112.0, 110.0, 16.0, 23.0, 22.0, 34.0, 34.0, 24.0, 71.0, 81.0, 30.0, 44.0, 131.0, 96.0, 172.0, 33.0, 66.0, 50.0, 16.0, 33.0, 66.0, 33.0, 115.0, 48.0, 35.0, 32.0, 14.0, 44.0, 24.0, 26.0, 168.0, 25.0, 33.0, 74.0, 50.0, 189.0, 41.0, 31.0, 34.0, 14.0, 66.0, 67.0, 70.0, 60.0, 49.0, 31.0, 45.0, 71.0, 39.0, 27.0, 22.0, 20.0, 134.0, 214.0, 50.0, 52.0, 218.0, 16.0, 216.0, 25.0, 16.0, 151.0, 43.0, 38.0, 58.0, 41.0, 64.0, 92.0, 21.0, 77.0, 94.0, 60.0, 60.0, 202.0, 9.0, 31.0, 8.0, 110.0, 28.0, 138.0, 28.0, 26.0, 30.0, 31.0, 21.0, 111.0, 31.0, 33.0, 172.0, 98.0, 158.0, 62.0, 73.0, 74.0, 82.0, 43.0, 50.0, 37.0, 23.0, 67.0, 14.0, 168.0, 22.0, 103.0, 122.0, 31.0, 63.0, 127.0, 77.0, 68.0, 42.0, 7.0, 72.0, 45.0, 175.0, 113.0, 39.0, 86.0, 220.0, 205.0, 81.0, 51.0, 36.0, 51.0, 15.0, 71.0, 98.0, 34.0, 106.0, 104.0, 72.0, 10.0, 156.0, 75.0, 121.0, 46.0, 233.0, 28.0, 29.0, 27.0, 17.0, 50.0, 217.0, 42.0, 41.0, 30.0, 79.0, 12.0, 61.0, 33.0, 212.0, 42.0, 70.0, 110.0, 46.0, 66.0, 63.0, 14.0, 55.0, 101.0, 53.0, 54.0, 26.0, 115.0, 111.0, 220.0, 13.0, 32.0, 34.0, 13.0, 39.0, 50.0, 31.0, 144.0, 21.0, 73.0, 31.0, 36.0, 52.0, 16.0, 60.0, 115.0, 85.0, 67.0, 68.0, 132.0, 61.0, 24.0, 46.0, 32.0, 54.0, 42.0, 17.0, 27.0, 141.0, 18.0, 30.0, 130.0, 46.0, 84.0, 148.0, 48.0, 41.0, 36.0, 242.0, 36.0, 104.0, 31.0, 12.0, 73.0, 158.0, 27.0, 25.0, 60.0, 101.0, 54.0, 32.0, 112.0, 49.0, 113.0, 39.0, 14.0, 33.0, 130.0, 19.0, 83.0, 32.0, 12.0, 22.0, 90.0, 34.0, 47.0, 17.0, 22.0, 58.0, 103.0, 133.0, 29.0, 64.0, 36.0, 133.0, 35.0, 39.0, 26.0, 45.0, 16.0, 124.0, 25.0, 31.0, 14.0, 108.0, 51.0, 139.0, 4.0, 69.0, 15.0, 129.0, 22.0, 20.0, 60.0, 20.0, 144.0, 95.0, 190.0, 95.0, 124.0, 34.0, 16.0, 29.0, 19.0, 41.0, 105.0, 36.0, 16.0, 21.0, 204.0, 88.0, 33.0, 37.0, 108.0, 115.0, 46.0, 48.0, 67.0, 62.0, 54.0, 113.0, 40.0, 74.0, 185.0, 96.0, 36.0, 39.0, 37.0, 37.0, 59.0, 105.0, 83.0, 60.0, 27.0, 38.0, 59.0, 61.0, 165.0, 52.0, 83.0, 39.0, 51.0, 42.0, 58.0, 77.0, 161.0, 32.0, 100.0, 39.0, 52.0, 45.0, 72.0, 17.0, 80.0, 41.0, 72.0, 69.0, 85.0, 31.0, 103.0, 50.0, 39.0, 167.0, 177.0, 98.0, 31.0, 54.0, 153.0, 44.0, 30.0, 20.0, 27.0, 64.0, 100.0, 20.0, 66.0, 62.0, 47.0, 60.0, 46.0, 30.0, 155.0, 26.0, 21.0, 132.0, 55.0, 66.0, 53.0, 46.0, 144.0, 12.0, 73.0, 33.0, 31.0, 25.0, 45.0, 44.0, 93.0, 56.0, 114.0, 13.0, 105.0, 99.0, 179.0, 9.0, 52.0, 33.0, 86.0, 41.0, 128.0, 28.0, 39.0, 53.0, 18.0, 42.0, 81.0, 9.0, 17.0, 24.0, 105.0, 33.0, 112.0, 55.0, 66.0, 223.0, 66.0, 89.0, 98.0, 108.0, 16.0, 15.0, 93.0, 13.0, 19.0, 30.0, 26.0, 181.0, 79.0, 17.0, 35.0, 26.0, 82.0, 25.0, 27.0, 84.0, 49.0, 32.0, 69.0, 35.0, 82.0, 77.0, 6.0, 131.0, 20.0, 30.0, 17.0, 58.0, 26.0, 15.0, 107.0, 14.0, 87.0, 52.0, 83.0, 23.0, 34.0, 85.0, 36.0, 148.0, 117.0, 75.0, 13.0, 39.0, 67.0, 11.0, 12.0, 155.0, 36.0, 49.0, 14.0, 77.0, 136.0, 73.0, 11.0, 59.0, 58.0, 18.0, 36.0, 85.0, 58.0, 39.0, 45.0, 23.0, 20.0, 58.0, 78.0, 95.0, 155.0, 79.0, 25.0, 73.0, 21.0, 17.0, 84.0, 144.0, 48.0, 46.0, 227.0, 32.0, 16.0, 28.0, 40.0, 53.0, 95.0, 60.0, 35.0, 222.0, 29.0, 10.0, 45.0, 8.0, 204.0, 67.0, 118.0, 121.0, 26.0, 123.0, 19.0, 44.0, 9.0, 10.0, 69.0, 37.0, 22.0, 30.0, 47.0, 87.0, 7.0, 12.0, 35.0, 50.0, 26.0, 53.0, 37.0, 62.0, 16.0, 150.0, 17.0, 72.0, 16.0, 95.0, 63.0, 30.0, 87.0, 10.0, 38.0, 26.0, 38.0, 68.0, 4.0, 4.0, 21.0, 90.0, 154.0, 12.0, 48.0, 111.0, 68.0, 73.0, 29.0, 32.0, 59.0, 49.0, 95.0, 34.0, 5.0, 85.0, 60.0, 223.0, 21.0, 124.0, 43.0, 7.0, 49.0, 21.0, 39.0, 17.0, 41.0, 56.0, 49.0, 43.0, 47.0, 23.0, 34.0, 31.0, 97.0, 58.0, 40.0, 76.0, 43.0, 48.0, 26.0, 40.0, 51.0, 154.0, 103.0, 111.0, 45.0, 10.0, 70.0, 36.0, 86.0, 75.0, 25.0, 26.0, 30.0, 23.0, 116.0, 198.0, 31.0, 163.0, 133.0, 41.0, 31.0, 42.0, 20.0, 34.0, 34.0, 6.0, 22.0, 181.0, 144.0, 7.0, 63.0, 91.0, 71.0, 47.0, 29.0, 34.0, 39.0, 121.0, 64.0, 232.0, 165.0, 41.0, 8.0, 117.0, 128.0, 63.0, 31.0, 43.0, 68.0, 12.0, 45.0, 22.0, 51.0, 143.0, 104.0, 15.0, 126.0, 141.0, 135.0, 39.0, 113.0, 48.0, 68.0, 114.0, 29.0, 32.0, 141.0, 79.0, 53.0, 19.0, 32.0, 40.0, 16.0, 15.0, 11.0, 23.0, 20.0, 36.0, 62.0, 11.0, 9.0, 44.0, 64.0, 140.0, 70.0, 60.0, 63.0, 8.0, 57.0, 101.0, 73.0, 56.0, 20.0, 69.0, 87.0, 149.0, 123.0, 50.0, 27.0, 86.0, 11.0, 119.0, 125.0, 22.0, 60.0, 73.0, 16.0, 109.0, 111.0, 102.0, 45.0, 72.0, 14.0, 15.0, 15.0, 35.0, 117.0, 76.0, 32.0, 84.0, 184.0, 75.0, 37.0, 32.0, 45.0, 37.0, 29.0, 33.0, 111.0, 82.0, 68.0, 40.0, 39.0, 70.0, 70.0, 30.0, 207.0, 90.0, 53.0, 25.0, 34.0, 4.0, 158.0, 32.0, 28.0, 13.0, 39.0, 140.0, 31.0, 88.0, 24.0, 18.0, 5.0, 100.0, 59.0, 24.0, 26.0, 99.0, 142.0, 49.0, 44.0, 112.0, 18.0, 12.0, 134.0, 25.0, 21.0, 20.0, 89.0, 143.0, 103.0, 113.0, 31.0, 118.0, 99.0, 55.0, 55.0, 17.0, 11.0, 17.0, 32.0, 65.0, 52.0, 30.0, 30.0, 36.0, 9.0, 41.0, 135.0, 23.0, 176.0, 181.0, 85.0, 19.0, 38.0, 120.0, 77.0, 42.0, 93.0, 107.0, 67.0, 34.0, 41.0, 101.0, 186.0, 46.0, 60.0, 66.0, 85.0, 252.0, 119.0, 231.0, 26.0, 27.0, 31.0, 70.0, 18.0, 29.0, 16.0, 28.0, 49.0, 68.0, 72.0, 74.0, 21.0, 6.0, 39.0, 47.0, 49.0, 122.0, 14.0, 70.0, 30.0, 117.0, 40.0, 99.0, 66.0, 15.0, 16.0, 112.0, 21.0, 62.0, 74.0, 74.0, 26.0, 19.0, 52.0, 17.0, 23.0, 82.0, 28.0, 48.0, 20.0, 151.0, 17.0, 32.0, 131.0, 60.0, 28.0, 34.0, 105.0, 50.0, 121.0, 152.0, 8.0, 59.0, 111.0, 48.0, 31.0, 12.0, 18.0, 32.0, 21.0, 120.0, 124.0, 95.0, 170.0, 93.0, 62.0, 67.0, 45.0, 54.0, 33.0, 48.0, 38.0, 46.0, 17.0, 85.0, 61.0, 62.0, 46.0, 75.0, 35.0, 39.0, 20.0, 65.0, 27.0, 30.0, 29.0, 27.0, 31.0, 72.0, 29.0, 57.0, 29.0, 94.0, 45.0, 18.0, 87.0, 33.0, 16.0, 34.0, 55.0, 39.0, 7.0, 33.0, 18.0, 45.0, 38.0, 22.0, 114.0, 30.0, 117.0, 106.0, 31.0, 132.0, 35.0, 93.0, 174.0, 43.0, 25.0, 35.0, 88.0, 44.0, 247.0, 96.0, 97.0, 143.0, 57.0, 74.0, 52.0, 182.0, 61.0, 168.0, 78.0, 10.0, 95.0, 108.0, 59.0, 9.0, 32.0, 38.0, 26.0, 138.0, 17.0, 55.0, 18.0, 27.0, 43.0, 112.0, 62.0, 21.0, 19.0, 69.0, 30.0, 27.0, 47.0, 52.0, 119.0, 14.0, 98.0, 14.0, 31.0, 26.0, 30.0, 17.0, 28.0, 16.0, 98.0, 15.0, 23.0, 37.0, 149.0, 189.0, 17.0, 53.0, 25.0, 38.0, 175.0, 51.0, 136.0, 36.0, 62.0, 163.0, 12.0, 52.0, 12.0, 83.0, 19.0, 72.0, 50.0, 75.0, 47.0, 23.0, 16.0, 12.0, 30.0, 224.0, 53.0, 158.0, 65.0, 16.0, 55.0, 33.0, 13.0, 15.0, 14.0, 15.0, 151.0, 13.0, 41.0, 36.0, 10.0, 100.0, 42.0, 30.0, 71.0, 32.0, 148.0, 29.0, 102.0, 74.0, 40.0, 11.0, 86.0, 56.0, 69.0, 101.0, 30.0, 52.0, 42.0, 88.0, 25.0, 54.0, 25.0, 100.0, 99.0, 29.0, 57.0, 33.0, 29.0, 26.0, 42.0, 18.0, 21.0, 23.0, 26.0, 81.0, 127.0, 56.0, 22.0, 80.0, 24.0, 48.0, 12.0, 154.0, 51.0, 80.0, 22.0, 21.0, 166.0, 74.0, 32.0, 234.0, 12.0, 25.0, 57.0, 40.0, 40.0, 48.0, 90.0, 93.0, 57.0, 89.0, 75.0, 63.0, 24.0, 76.0, 77.0, 33.0, 54.0, 85.0, 57.0, 9.0, 118.0, 53.0, 221.0, 39.0, 26.0, 33.0, 250.0, 21.0, 13.0, 13.0, 100.0, 6.0, 53.0, 50.0, 93.0, 55.0, 73.0, 4.0, 55.0, 39.0, 19.0, 23.0, 50.0, 89.0, 81.0, 19.0, 173.0, 174.0, 72.0, 168.0, 27.0, 109.0, 47.0, 28.0, 117.0, 20.0, 66.0, 35.0, 165.0, 71.0, 27.0, 94.0, 87.0, 18.0, 70.0, 81.0, 164.0, 44.0, 49.0, 43.0, 104.0, 44.0, 41.0, 19.0, 19.0, 13.0, 170.0, 48.0, 74.0, 57.0, 42.0, 201.0, 155.0, 93.0, 61.0, 126.0, 8.0, 163.0, 44.0, 58.0, 18.0, 27.0, 112.0, 29.0, 6.0, 60.0, 79.0, 114.0, 44.0, 52.0, 118.0, 28.0, 45.0, 65.0, 17.0, 47.0, 37.0, 72.0, 69.0, 37.0, 65.0, 126.0, 9.0, 112.0, 204.0, 78.0, 61.0, 72.0, 51.0, 123.0, 44.0, 40.0, 98.0, 44.0, 71.0, 72.0, 36.0, 85.0, 23.0, 73.0, 38.0, 93.0, 56.0, 63.0, 29.0, 36.0, 194.0, 14.0, 16.0, 198.0, 62.0, 25.0, 87.0, 8.0, 78.0, 8.0, 74.0, 41.0, 101.0, 26.0, 42.0, 26.0, 10.0, 64.0, 43.0, 87.0, 98.0, 12.0, 17.0, 80.0, 147.0, 133.0, 100.0, 89.0, 68.0, 50.0, 20.0, 69.0, 12.0, 82.0, 80.0, 23.0, 254.0, 77.0, 53.0, 23.0, 13.0, 100.0, 149.0, 6.0, 62.0, 19.0, 55.0, 121.0, 80.0, 151.0, 33.0, 24.0, 86.0, 223.0, 35.0, 70.0, 52.0, 103.0, 80.0, 52.0, 35.0, 22.0, 52.0, 46.0, 87.0, 21.0, 84.0, 105.0, 74.0, 45.0, 53.0, 51.0, 85.0, 19.0, 59.0, 83.0, 44.0, 30.0, 78.0, 15.0, 39.0, 108.0, 19.0, 67.0, 57.0, 44.0, 76.0, 43.0, 49.0, 74.0, 74.0, 49.0, 35.0, 92.0, 83.0, 177.0, 125.0, 17.0, 47.0, 38.0, 47.0, 54.0, 114.0, 43.0, 147.0, 29.0, 115.0, 39.0, 72.0, 162.0, 27.0, 26.0, 63.0, 25.0, 45.0, 122.0, 193.0, 20.0, 132.0, 31.0, 62.0, 30.0, 67.0, 40.0, 49.0, 16.0, 118.0, 62.0, 98.0, 80.0, 56.0, 43.0, 55.0, 90.0, 6.0, 38.0, 117.0, 15.0, 7.0, 47.0, 75.0, 29.0, 32.0, 10.0, 145.0, 62.0, 44.0, 17.0, 78.0, 12.0, 81.0, 42.0, 85.0, 163.0, 67.0, 53.0, 24.0, 105.0, 42.0, 25.0, 107.0, 20.0, 168.0, 27.0, 77.0, 134.0, 216.0, 48.0, 24.0, 76.0, 161.0, 74.0, 68.0, 33.0, 60.0, 88.0, 13.0, 101.0, 22.0, 29.0, 19.0, 6.0, 199.0, 33.0, 89.0, 32.0, 27.0, 52.0, 101.0, 44.0, 36.0, 12.0, 57.0, 27.0, 40.0, 14.0, 49.0, 56.0, 35.0, 46.0, 53.0, 25.0, 45.0, 36.0, 90.0, 33.0, 84.0, 47.0, 32.0, 24.0, 49.0, 62.0, 74.0, 99.0, 32.0, 61.0, 69.0, 71.0, 13.0, 83.0, 216.0, 46.0, 27.0, 81.0, 93.0, 23.0, 42.0, 158.0, 169.0, 7.0, 198.0, 91.0, 88.0, 35.0, 24.0, 27.0, 65.0, 38.0, 35.0, 13.0, 61.0, 38.0, 26.0, 79.0, 28.0, 98.0, 16.0, 167.0, 19.0, 100.0, 69.0, 114.0, 61.0, 64.0, 31.0, 21.0, 27.0, 176.0, 70.0, 162.0, 45.0, 28.0, 18.0, 10.0, 82.0, 57.0, 98.0, 13.0, 59.0, 23.0, 189.0, 76.0, 16.0, 31.0, 169.0, 189.0, 25.0, 65.0, 95.0, 152.0, 99.0, 106.0, 51.0, 53.0, 84.0, 101.0, 40.0, 53.0, 188.0, 32.0, 65.0, 22.0, 11.0, 120.0, 33.0, 16.0, 56.0, 122.0, 62.0, 194.0, 25.0, 200.0, 70.0, 141.0, 88.0, 136.0, 23.0, 53.0, 8.0, 93.0, 71.0, 77.0, 72.0, 79.0, 43.0, 57.0, 118.0, 135.0, 123.0, 73.0, 153.0, 87.0, 27.0, 169.0, 35.0, 93.0, 16.0, 61.0, 62.0, 37.0, 19.0, 32.0, 63.0, 81.0, 136.0, 64.0, 33.0, 107.0, 143.0, 90.0, 76.0, 75.0, 66.0, 18.0, 17.0, 58.0, 134.0, 89.0, 20.0, 110.0, 83.0, 47.0, 55.0, 97.0, 31.0, 28.0, 226.0, 96.0, 177.0, 16.0, 128.0, 24.0, 73.0, 36.0, 21.0, 34.0, 100.0, 139.0, 57.0, 87.0, 90.0, 111.0, 54.0, 69.0, 75.0, 87.0, 47.0, 141.0, 112.0, 10.0, 90.0, 8.0, 50.0, 89.0, 100.0, 48.0, 97.0, 103.0, 16.0, 62.0, 63.0, 135.0, 7.0, 62.0, 97.0, 60.0, 27.0, 29.0, 74.0, 130.0, 110.0, 36.0, 21.0, 13.0, 56.0, 53.0, 51.0, 25.0, 49.0, 139.0, 15.0, 33.0, 56.0, 25.0, 84.0, 57.0, 44.0, 182.0, 12.0, 59.0, 79.0, 51.0, 59.0, 81.0, 193.0, 149.0, 125.0, 121.0, 7.0, 220.0, 33.0, 8.0, 83.0, 46.0, 34.0, 70.0, 96.0, 44.0, 93.0, 85.0, 51.0, 24.0, 10.0, 61.0, 116.0, 19.0, 96.0, 31.0, 77.0, 114.0, 45.0, 72.0, 43.0, 140.0, 38.0, 19.0, 46.0, 97.0, 27.0, 150.0, 183.0, 76.0, 18.0, 91.0, 37.0, 34.0, 18.0, 22.0, 156.0, 33.0, 27.0, 54.0, 38.0, 18.0, 32.0, 123.0, 48.0, 25.0, 83.0, 59.0, 217.0, 117.0, 57.0, 71.0, 18.0, 130.0, 20.0, 9.0, 174.0, 113.0, 30.0, 41.0, 46.0, 148.0, 48.0, 50.0, 164.0, 88.0, 18.0, 20.0, 24.0, 64.0, 42.0, 68.0, 64.0, 89.0, 17.0, 68.0, 55.0, 60.0, 83.0, 81.0, 145.0, 13.0, 90.0, 71.0, 22.0, 79.0, 69.0, 133.0, 32.0, 176.0, 160.0, 19.0, 39.0, 55.0, 88.0, 66.0, 7.0, 83.0, 181.0, 25.0, 223.0, 38.0, 125.0, 86.0, 98.0, 15.0, 50.0, 46.0, 14.0, 168.0, 159.0, 188.0, 51.0, 34.0, 68.0, 41.0, 21.0, 36.0, 145.0, 58.0, 81.0, 91.0, 35.0, 92.0, 145.0, 68.0, 229.0, 69.0, 94.0, 220.0, 166.0, 94.0, 10.0, 47.0, 44.0, 30.0, 35.0, 56.0, 13.0, 144.0, 21.0, 53.0, 75.0, 19.0, 46.0, 132.0, 82.0, 43.0, 10.0, 10.0, 10.0, 24.0, 72.0, 33.0, 151.0, 206.0, 186.0, 26.0, 7.0, 66.0, 125.0, 44.0, 149.0, 95.0, 86.0, 39.0, 167.0, 29.0, 18.0, 27.0, 32.0, 89.0, 32.0, 82.0, 36.0, 26.0, 54.0, 59.0, 114.0, 23.0, 141.0, 42.0, 15.0, 19.0, 53.0, 92.0, 100.0, 28.0, 45.0, 53.0, 12.0, 26.0, 52.0, 54.0, 184.0, 150.0, 89.0, 70.0, 23.0, 102.0, 130.0, 24.0, 36.0, 48.0, 105.0, 105.0, 86.0, 25.0, 16.0, 58.0, 69.0, 47.0, 44.0, 42.0, 237.0, 59.0, 102.0, 24.0, 68.0, 13.0, 19.0, 77.0, 93.0, 34.0, 135.0, 23.0, 59.0, 106.0, 64.0, 230.0, 74.0, 36.0, 57.0, 58.0, 75.0, 95.0, 98.0, 87.0, 82.0, 97.0, 160.0, 233.0, 82.0, 118.0, 43.0, 47.0, 113.0, 60.0, 52.0, 86.0, 90.0, 22.0, 14.0, 72.0, 21.0, 8.0, 30.0, 55.0, 143.0, 195.0, 44.0, 99.0, 33.0, 44.0, 57.0, 118.0, 140.0, 75.0, 167.0, 35.0, 54.0, 25.0, 65.0, 180.0, 9.0, 35.0, 24.0, 42.0, 14.0, 51.0, 61.0, 113.0, 65.0, 43.0, 245.0, 108.0, 97.0, 87.0, 109.0, 77.0, 38.0, 229.0, 21.0, 87.0, 178.0, 86.0, 110.0, 44.0, 32.0, 55.0, 17.0, 90.0, 79.0, 58.0, 29.0, 30.0, 58.0, 15.0, 116.0, 75.0, 36.0, 46.0, 50.0, 61.0, 25.0, 25.0, 104.0, 81.0, 31.0, 91.0, 55.0, 65.0, 93.0, 211.0, 78.0, 35.0, 73.0, 28.0, 33.0, 14.0, 37.0, 58.0, 48.0, 93.0, 65.0, 81.0, 53.0, 72.0, 120.0, 138.0, 100.0, 62.0, 25.0, 58.0, 52.0, 82.0, 146.0, 90.0, 88.0, 158.0, 63.0, 124.0, 97.0, 28.0, 38.0, 57.0, 192.0, 90.0, 31.0, 158.0, 59.0, 55.0, 69.0, 55.0, 102.0, 24.0, 64.0, 92.0, 121.0, 56.0, 150.0, 63.0, 68.0, 75.0, 6.0, 7.0, 33.0, 56.0, 16.0, 43.0, 16.0, 14.0, 12.0, 61.0, 136.0, 77.0, 56.0, 82.0, 60.0, 109.0, 27.0, 32.0, 66.0, 109.0, 55.0, 229.0, 114.0, 119.0, 30.0, 117.0, 128.0, 57.0, 8.0, 207.0, 31.0, 123.0, 75.0, 21.0, 153.0, 14.0, 92.0, 27.0, 79.0, 153.0, 42.0, 85.0, 61.0, 21.0, 61.0, 34.0, 18.0, 104.0, 92.0, 57.0, 155.0, 75.0, 104.0, 198.0, 133.0, 58.0, 117.0, 18.0, 48.0, 54.0, 109.0, 45.0, 79.0, 51.0, 112.0, 48.0, 20.0, 90.0, 87.0, 28.0, 68.0, 47.0, 146.0, 96.0, 63.0, 28.0, 34.0, 57.0, 53.0, 96.0, 109.0, 112.0, 9.0, 83.0, 16.0, 57.0, 108.0, 47.0, 24.0, 110.0, 51.0, 40.0, 64.0, 54.0, 50.0, 131.0, 117.0, 69.0, 51.0, 81.0, 72.0, 13.0, 80.0, 82.0, 91.0, 66.0, 132.0, 147.0, 94.0, 251.0, 16.0, 204.0, 57.0, 48.0, 14.0, 121.0, 74.0, 97.0, 42.0, 38.0, 37.0, 21.0, 81.0, 226.0, 158.0, 88.0, 31.0, 42.0, 19.0, 57.0, 64.0, 65.0, 149.0, 77.0, 42.0, 60.0, 42.0, 12.0, 46.0, 82.0, 40.0, 20.0, 156.0, 17.0, 98.0, 48.0, 24.0, 47.0, 57.0, 27.0, 30.0, 17.0, 67.0, 206.0, 37.0, 196.0, 80.0, 46.0, 15.0, 110.0, 167.0, 47.0, 17.0, 28.0, 114.0, 132.0, 102.0, 76.0, 65.0, 59.0, 39.0, 227.0, 56.0, 56.0, 69.0, 35.0, 101.0, 66.0, 141.0, 58.0, 25.0, 53.0, 175.0, 126.0, 54.0, 74.0, 30.0, 19.0, 40.0, 27.0, 33.0, 147.0, 52.0, 128.0, 126.0, 50.0, 114.0, 57.0, 32.0, 47.0, 34.0, 73.0, 109.0, 136.0, 15.0, 28.0, 36.0, 26.0, 43.0, 92.0, 61.0, 37.0, 25.0, 49.0, 100.0, 106.0, 60.0, 36.0, 65.0, 129.0, 33.0, 213.0, 75.0, 48.0, 14.0, 14.0, 121.0, 57.0, 20.0, 75.0, 113.0, 10.0, 12.0, 61.0, 90.0, 72.0, 106.0, 57.0, 49.0, 17.0, 124.0, 41.0, 7.0, 38.0, 91.0, 29.0, 29.0, 184.0, 19.0, 82.0, 101.0, 72.0, 225.0, 5.0, 44.0, 28.0, 37.0, 97.0, 248.0, 12.0, 110.0, 70.0, 56.0, 41.0, 53.0, 88.0, 32.0, 34.0, 9.0, 42.0, 49.0, 20.0, 8.0, 59.0, 72.0, 28.0, 25.0, 69.0, 26.0, 34.0, 7.0, 44.0, 54.0, 72.0, 21.0, 11.0, 6.0, 7.0, 10.0, 14.0, 80.0, 117.0, 48.0, 65.0, 56.0, 100.0, 19.0, 38.0, 30.0, 35.0, 131.0, 17.0, 71.0, 94.0, 68.0, 37.0, 102.0, 20.0, 30.0, 70.0, 67.0, 36.0, 41.0, 54.0, 55.0, 18.0, 8.0, 12.0, 220.0, 93.0, 173.0, 33.0, 42.0, 35.0, 21.0, 84.0, 65.0, 21.0, 26.0, 41.0, 11.0, 12.0, 22.0, 111.0, 126.0, 37.0, 34.0, 55.0, 27.0, 31.0, 64.0, 15.0, 35.0, 42.0, 15.0, 137.0, 44.0, 93.0, 76.0, 76.0, 21.0, 50.0, 187.0, 73.0, 79.0, 51.0, 28.0, 30.0, 88.0, 67.0, 45.0, 22.0, 135.0, 115.0, 50.0, 27.0, 26.0, 76.0, 51.0, 118.0, 68.0, 86.0, 65.0, 42.0, 87.0, 13.0, 66.0, 161.0, 49.0, 20.0, 44.0, 93.0, 83.0, 75.0, 131.0, 98.0, 89.0, 75.0, 56.0, 49.0, 106.0, 216.0, 43.0, 130.0, 77.0, 10.0, 53.0, 128.0, 54.0, 38.0, 16.0, 21.0, 31.0, 21.0, 11.0, 8.0, 149.0, 44.0, 42.0, 209.0, 8.0, 27.0, 109.0, 145.0, 72.0, 60.0, 63.0, 14.0, 56.0, 7.0, 143.0, 186.0, 113.0, 79.0, 131.0, 68.0, 41.0, 15.0, 67.0, 50.0, 97.0, 64.0, 186.0, 116.0, 10.0, 201.0, 16.0, 79.0, 113.0, 88.0, 110.0, 113.0, 185.0, 132.0, 50.0, 43.0, 27.0, 124.0, 204.0, 96.0, 33.0, 108.0, 65.0, 31.0, 17.0, 107.0, 65.0, 100.0, 42.0, 36.0, 126.0, 27.0, 162.0, 100.0, 39.0, 52.0, 37.0, 97.0, 65.0, 53.0, 83.0, 36.0, 64.0, 34.0, 68.0, 94.0, 60.0, 47.0, 198.0, 48.0, 76.0, 15.0, 34.0, 27.0, 79.0, 72.0, 11.0, 106.0, 32.0, 29.0, 103.0, 122.0, 52.0, 51.0, 8.0, 72.0, 55.0, 32.0, 91.0, 27.0, 128.0, 7.0, 77.0, 54.0, 26.0, 17.0, 115.0, 55.0, 105.0, 81.0, 48.0, 111.0, 117.0, 137.0, 112.0, 56.0, 55.0, 38.0, 192.0, 30.0, 119.0, 19.0, 44.0, 120.0, 39.0, 42.0, 6.0, 106.0, 15.0, 58.0, 12.0, 64.0, 149.0, 66.0, 161.0, 42.0, 26.0, 25.0, 112.0, 146.0, 123.0, 45.0, 191.0, 52.0, 177.0, 19.0, 76.0, 152.0, 43.0, 24.0, 116.0, 153.0, 45.0, 118.0, 89.0, 37.0, 170.0, 108.0, 170.0, 57.0, 76.0, 23.0, 36.0, 7.0, 119.0, 54.0, 99.0, 13.0, 86.0, 33.0, 62.0, 22.0, 161.0, 49.0, 85.0, 30.0, 147.0, 123.0, 9.0, 9.0, 238.0, 44.0, 104.0, 29.0, 128.0, 56.0, 36.0, 96.0, 30.0, 77.0, 40.0, 97.0, 16.0, 112.0, 146.0, 51.0, 23.0, 88.0, 36.0, 52.0, 41.0, 114.0, 62.0, 50.0, 57.0, 69.0, 86.0, 9.0, 29.0, 72.0, 62.0, 87.0, 30.0, 4.0, 40.0, 33.0, 18.0, 52.0, 80.0, 11.0, 45.0, 66.0, 39.0, 48.0, 87.0, 31.0, 31.0, 54.0, 61.0, 116.0, 73.0, 43.0, 30.0, 87.0, 8.0, 202.0, 59.0, 72.0, 45.0, 169.0, 75.0, 26.0, 46.0, 24.0, 161.0, 141.0, 38.0, 92.0, 122.0, 66.0, 20.0, 12.0, 63.0, 43.0, 46.0, 77.0, 53.0, 55.0, 41.0, 40.0, 37.0, 46.0, 35.0, 59.0, 48.0, 51.0, 36.0, 7.0, 33.0, 47.0, 27.0, 67.0, 24.0, 21.0, 127.0, 7.0, 71.0, 22.0, 78.0, 21.0, 78.0, 42.0, 76.0, 82.0, 69.0, 8.0, 44.0, 35.0, 123.0, 98.0, 38.0, 158.0, 72.0, 161.0, 115.0, 63.0, 9.0, 142.0, 66.0, 49.0, 71.0, 56.0, 50.0, 20.0, 59.0, 57.0, 84.0, 18.0, 129.0, 22.0, 67.0, 36.0, 49.0, 85.0, 58.0, 47.0, 130.0, 130.0, 62.0, 101.0, 68.0, 137.0, 11.0, 106.0, 73.0, 55.0, 140.0, 50.0, 91.0, 139.0, 76.0, 68.0, 43.0, 49.0, 53.0, 195.0, 115.0, 23.0, 92.0, 91.0, 86.0, 134.0, 95.0, 30.0, 69.0, 27.0, 52.0, 70.0, 51.0, 122.0, 69.0, 23.0, 17.0, 35.0, 26.0, 110.0, 27.0, 13.0, 143.0, 55.0, 28.0, 54.0, 76.0, 37.0, 60.0, 82.0, 29.0, 178.0, 241.0, 15.0, 81.0, 88.0, 8.0, 40.0, 64.0, 71.0, 95.0, 89.0, 64.0, 46.0, 57.0, 90.0, 74.0, 69.0, 20.0, 125.0, 30.0, 11.0, 68.0, 67.0, 108.0, 165.0, 13.0, 81.0, 33.0, 52.0, 70.0, 31.0, 92.0, 88.0, 106.0, 136.0, 21.0, 21.0, 37.0, 88.0, 22.0, 28.0, 104.0, 64.0, 39.0, 141.0, 175.0, 240.0, 41.0, 46.0, 38.0, 52.0, 162.0, 95.0, 172.0, 88.0, 10.0, 25.0, 29.0, 8.0, 147.0, 136.0, 47.0, 128.0, 52.0, 75.0, 46.0, 172.0, 9.0, 98.0, 93.0, 96.0, 17.0, 100.0, 116.0, 24.0, 15.0, 63.0, 32.0, 19.0, 92.0, 74.0, 50.0, 41.0, 16.0, 80.0, 11.0, 64.0, 20.0, 60.0, 60.0, 96.0, 92.0, 38.0, 30.0, 100.0, 44.0, 66.0, 76.0, 45.0, 83.0, 136.0, 101.0, 153.0, 26.0, 54.0, 109.0, 46.0, 63.0, 66.0, 9.0, 18.0, 107.0, 19.0, 90.0, 95.0, 29.0, 53.0, 173.0, 69.0, 134.0, 62.0, 70.0, 35.0, 39.0, 41.0, 70.0, 57.0, 70.0, 143.0, 81.0, 20.0, 11.0, 118.0, 91.0, 36.0, 57.0, 9.0, 19.0, 205.0, 83.0, 52.0, 13.0, 107.0, 172.0, 36.0, 9.0, 23.0, 35.0, 63.0, 114.0, 155.0, 233.0, 115.0, 78.0, 26.0, 210.0, 197.0, 124.0, 203.0, 56.0, 113.0, 54.0, 72.0, 61.0, 112.0, 132.0, 146.0, 38.0, 26.0, 43.0, 47.0, 31.0, 100.0, 183.0, 42.0, 24.0, 120.0, 74.0, 149.0, 180.0, 73.0, 60.0, 18.0, 36.0, 49.0, 217.0, 74.0, 43.0, 117.0, 167.0, 51.0, 47.0, 36.0, 79.0, 23.0, 88.0, 92.0, 204.0, 82.0, 58.0, 46.0, 44.0, 14.0, 31.0, 87.0, 106.0, 129.0, 7.0, 85.0, 13.0, 48.0, 18.0, 45.0, 30.0, 92.0, 150.0, 62.0, 26.0, 37.0, 22.0, 7.0, 59.0, 26.0, 90.0, 69.0, 118.0, 170.0, 77.0, 78.0, 28.0, 71.0, 14.0, 40.0, 16.0, 61.0, 10.0, 133.0, 55.0, 54.0, 73.0, 113.0, 61.0, 63.0, 104.0, 17.0, 114.0, 151.0, 91.0, 49.0, 41.0, 43.0, 44.0, 75.0, 53.0, 20.0, 61.0, 241.0, 171.0, 110.0, 50.0, 54.0, 102.0, 28.0, 37.0, 43.0, 59.0, 194.0, 11.0, 28.0, 43.0, 15.0, 102.0, 50.0, 43.0, 226.0, 25.0, 35.0, 71.0, 31.0, 104.0, 22.0, 96.0, 40.0, 62.0, 65.0, 31.0, 55.0, 72.0, 164.0, 25.0, 59.0, 48.0, 67.0, 113.0, 8.0, 26.0, 243.0, 243.0, 34.0, 33.0, 124.0, 28.0, 83.0, 51.0, 113.0, 128.0, 37.0, 65.0, 7.0, 162.0, 84.0, 111.0, 74.0, 97.0, 104.0, 49.0, 13.0, 69.0, 18.0, 40.0, 65.0, 93.0, 60.0, 118.0, 38.0, 55.0, 76.0, 75.0, 33.0, 108.0, 81.0, 34.0, 58.0, 25.0, 64.0, 40.0, 69.0, 27.0, 14.0, 67.0, 78.0, 64.0, 107.0, 39.0, 163.0, 180.0, 127.0, 167.0, 18.0, 44.0, 51.0, 90.0, 40.0, 21.0, 19.0, 15.0, 111.0, 118.0, 19.0, 136.0, 19.0, 57.0, 213.0, 39.0, 64.0, 39.0, 24.0, 53.0, 30.0, 73.0, 36.0, 188.0, 83.0, 104.0, 21.0, 92.0, 11.0, 118.0, 108.0, 24.0, 63.0, 29.0, 26.0, 91.0, 47.0, 58.0, 21.0, 45.0, 68.0, 113.0, 19.0, 42.0, 26.0, 106.0, 24.0, 18.0, 115.0, 80.0, 29.0, 23.0, 12.0, 35.0, 99.0, 240.0, 82.0, 86.0, 64.0, 44.0, 49.0, 140.0, 39.0, 175.0, 129.0, 36.0, 206.0, 54.0, 137.0, 53.0, 54.0, 46.0, 39.0, 185.0, 97.0, 75.0, 42.0, 124.0, 30.0, 88.0, 46.0, 32.0, 19.0, 57.0, 241.0, 61.0, 39.0, 55.0, 25.0, 71.0, 123.0, 17.0, 150.0, 102.0, 61.0, 88.0, 65.0, 27.0, 19.0, 163.0, 21.0, 45.0, 177.0, 88.0, 139.0, 241.0, 95.0, 46.0, 26.0, 64.0, 45.0, 27.0, 29.0, 85.0, 114.0, 195.0, 49.0, 65.0, 71.0, 26.0, 166.0, 138.0, 139.0, 18.0, 44.0, 66.0, 89.0, 100.0, 131.0, 126.0, 57.0, 26.0, 114.0, 19.0, 75.0, 48.0, 45.0, 115.0, 27.0, 68.0, 57.0, 50.0, 97.0, 118.0, 18.0, 97.0, 59.0, 55.0, 74.0, 64.0, 61.0, 20.0, 90.0, 41.0, 128.0, 191.0, 59.0, 16.0, 134.0, 73.0, 59.0, 48.0, 44.0, 53.0, 243.0, 20.0, 34.0, 64.0, 103.0, 56.0, 73.0, 154.0, 38.0, 28.0, 41.0, 98.0, 41.0, 27.0, 29.0, 73.0, 85.0, 17.0, 80.0, 107.0, 25.0, 20.0, 75.0, 110.0, 48.0, 73.0, 23.0, 31.0, 37.0, 121.0, 29.0, 20.0, 93.0, 203.0, 39.0, 36.0, 64.0, 86.0, 14.0, 68.0, 62.0, 41.0, 11.0, 80.0, 168.0, 40.0, 44.0, 110.0, 93.0, 37.0, 39.0, 58.0, 52.0, 45.0, 35.0, 206.0, 57.0, 94.0, 23.0, 50.0, 14.0, 65.0, 69.0, 86.0, 75.0, 15.0, 9.0, 92.0, 139.0, 58.0, 28.0, 27.0, 26.0, 32.0, 35.0, 35.0, 26.0, 28.0, 75.0, 84.0, 15.0, 42.0, 24.0, 146.0, 159.0, 95.0, 65.0, 35.0, 49.0, 25.0, 36.0, 63.0, 119.0, 22.0, 13.0, 24.0, 206.0, 17.0, 19.0, 36.0, 54.0, 66.0, 64.0, 42.0, 192.0, 67.0, 48.0, 71.0, 20.0, 41.0, 12.0, 26.0, 34.0, 27.0, 175.0, 6.0, 213.0, 50.0, 48.0, 192.0, 96.0, 59.0, 8.0, 24.0, 41.0, 59.0, 17.0, 15.0, 48.0, 33.0, 33.0, 44.0, 110.0, 97.0, 34.0, 39.0, 47.0, 26.0, 14.0, 47.0, 101.0, 191.0, 33.0, 31.0, 12.0, 128.0, 103.0, 69.0, 70.0, 128.0, 37.0, 110.0, 34.0, 136.0, 33.0, 11.0, 55.0, 54.0, 5.0, 90.0, 33.0, 61.0, 37.0, 66.0, 28.0, 30.0, 35.0, 55.0, 27.0, 71.0, 39.0, 68.0, 18.0, 112.0, 37.0, 22.0, 129.0, 43.0, 13.0, 41.0, 43.0, 47.0, 17.0, 98.0, 41.0, 33.0, 48.0, 40.0, 48.0, 58.0, 82.0, 23.0, 132.0, 16.0, 125.0, 64.0, 43.0, 46.0, 63.0, 67.0, 33.0, 59.0, 163.0, 148.0, 71.0, 25.0, 18.0, 55.0, 8.0, 76.0, 127.0, 124.0, 38.0, 94.0, 12.0, 83.0, 70.0, 6.0, 22.0, 31.0, 51.0, 72.0, 108.0, 119.0, 58.0, 53.0, 13.0, 35.0, 161.0, 82.0, 31.0, 21.0, 65.0, 61.0, 139.0, 47.0, 46.0, 79.0, 67.0, 81.0, 37.0, 15.0, 52.0, 34.0, 148.0, 46.0, 32.0, 99.0, 140.0, 61.0, 113.0, 83.0, 62.0, 44.0, 60.0, 80.0, 72.0, 144.0, 126.0, 64.0, 18.0, 34.0, 57.0, 65.0, 42.0, 70.0, 32.0, 19.0, 31.0, 103.0, 32.0, 68.0, 33.0, 41.0, 62.0, 97.0, 79.0, 107.0, 37.0, 63.0, 16.0, 21.0, 91.0, 19.0, 18.0, 17.0, 17.0, 71.0, 41.0, 28.0, 54.0, 144.0, 42.0, 27.0, 16.0, 202.0, 49.0, 18.0, 56.0, 70.0, 69.0, 97.0, 76.0, 236.0, 22.0, 70.0, 56.0, 13.0, 95.0, 60.0, 81.0, 136.0, 203.0, 13.0, 40.0, 42.0, 133.0, 92.0, 64.0, 123.0, 45.0, 130.0, 31.0, 55.0, 240.0, 63.0, 63.0, 44.0, 46.0, 50.0, 20.0, 67.0, 184.0, 15.0, 219.0, 148.0, 68.0, 81.0, 60.0, 135.0, 67.0, 12.0, 62.0, 63.0, 30.0, 30.0, 78.0, 26.0, 28.0, 26.0, 26.0, 168.0, 71.0, 47.0, 9.0, 71.0, 12.0, 39.0, 85.0, 136.0, 69.0, 28.0, 115.0, 139.0, 31.0, 48.0, 116.0, 84.0, 83.0, 21.0, 25.0, 103.0, 96.0, 36.0, 116.0, 154.0, 256.0, 28.0, 159.0, 54.0, 232.0, 235.0, 26.0, 95.0, 107.0, 36.0, 62.0, 132.0, 69.0, 52.0, 42.0, 81.0, 74.0, 42.0, 51.0, 44.0, 229.0, 20.0, 38.0, 87.0, 51.0, 88.0, 18.0, 43.0, 89.0, 97.0, 173.0, 87.0, 129.0, 27.0, 116.0, 113.0, 140.0, 151.0, 47.0, 121.0, 53.0, 25.0, 82.0, 39.0, 13.0, 33.0, 36.0, 42.0, 241.0, 103.0, 98.0, 54.0, 167.0, 189.0, 7.0, 19.0, 178.0, 55.0, 50.0, 63.0, 118.0, 58.0, 112.0, 178.0, 28.0, 51.0, 114.0, 211.0, 50.0, 20.0, 116.0, 18.0, 64.0, 35.0, 7.0, 69.0, 49.0, 47.0, 51.0, 144.0, 25.0, 166.0, 69.0, 113.0, 123.0, 10.0, 38.0, 101.0, 127.0, 22.0, 125.0, 94.0, 109.0, 227.0, 30.0, 17.0, 114.0, 58.0, 155.0, 17.0, 105.0, 37.0, 174.0, 61.0, 76.0, 142.0, 142.0, 44.0, 30.0, 118.0, 92.0, 53.0, 62.0, 43.0, 42.0, 49.0, 17.0, 67.0, 82.0, 53.0, 13.0, 19.0, 246.0, 50.0, 188.0, 149.0, 17.0, 31.0, 56.0, 101.0, 121.0, 31.0, 18.0, 133.0, 48.0, 61.0, 91.0, 14.0, 147.0, 18.0, 52.0, 14.0, 43.0, 124.0, 115.0, 154.0, 13.0, 167.0, 115.0, 124.0, 48.0, 124.0, 60.0, 95.0, 44.0, 36.0, 21.0, 134.0, 124.0, 48.0, 59.0, 54.0, 88.0, 186.0, 96.0, 236.0, 148.0, 72.0, 12.0, 42.0, 42.0, 78.0, 69.0, 113.0, 101.0, 98.0, 81.0, 77.0, 113.0, 245.0, 117.0, 29.0, 53.0, 32.0, 156.0, 94.0, 65.0, 6.0, 151.0, 99.0, 111.0, 61.0, 136.0, 76.0, 49.0, 30.0, 179.0, 110.0, 38.0, 34.0, 147.0, 142.0, 35.0, 76.0, 27.0, 181.0, 254.0, 131.0, 38.0, 28.0, 52.0, 12.0, 81.0, 43.0, 151.0, 86.0, 73.0, 85.0, 91.0, 145.0, 79.0, 37.0, 136.0, 24.0, 35.0, 116.0, 39.0, 227.0, 110.0, 123.0, 138.0, 143.0, 90.0, 92.0, 122.0, 86.0, 88.0, 69.0, 39.0, 126.0, 101.0, 162.0, 92.0, 60.0, 125.0, 67.0, 156.0, 155.0, 54.0, 168.0, 74.0, 30.0, 77.0, 10.0, 181.0, 32.0, 157.0, 8.0, 95.0, 44.0, 150.0, 42.0, 85.0, 41.0, 71.0, 24.0, 100.0, 103.0, 68.0, 27.0, 128.0, 59.0, 220.0, 47.0, 41.0, 91.0, 99.0, 92.0, 124.0, 91.0, 95.0, 10.0, 111.0, 110.0, 24.0, 30.0, 118.0, 74.0, 101.0, 53.0, 69.0, 105.0, 24.0, 103.0, 29.0, 61.0, 29.0, 49.0, 91.0, 57.0, 14.0, 122.0, 30.0, 99.0, 21.0, 95.0, 22.0, 111.0, 49.0, 78.0, 24.0, 75.0, 34.0, 96.0, 38.0, 19.0, 59.0, 13.0, 127.0, 93.0, 79.0, 137.0, 27.0, 78.0, 145.0, 59.0, 18.0, 26.0, 107.0, 7.0, 25.0, 38.0, 94.0, 68.0, 84.0, 42.0, 19.0, 51.0, 42.0, 56.0, 133.0, 36.0, 82.0, 18.0, 45.0, 144.0, 196.0, 68.0, 22.0, 63.0, 10.0, 60.0, 230.0, 60.0, 64.0, 47.0, 45.0, 84.0, 55.0, 51.0, 129.0, 58.0, 18.0, 53.0, 27.0, 32.0, 39.0, 15.0, 141.0, 166.0, 40.0, 42.0, 72.0, 70.0, 46.0, 38.0, 48.0, 73.0, 67.0, 22.0, 29.0, 55.0, 164.0, 10.0, 99.0, 29.0, 186.0, 68.0, 80.0, 19.0, 84.0, 30.0, 138.0, 111.0, 98.0, 13.0, 26.0, 97.0, 11.0, 227.0, 66.0, 69.0, 142.0, 75.0, 54.0, 106.0, 19.0, 50.0, 64.0, 49.0, 20.0, 54.0, 65.0, 127.0, 98.0, 10.0, 21.0, 74.0, 32.0, 34.0, 101.0, 130.0, 17.0, 52.0, 52.0, 20.0, 30.0, 22.0, 116.0, 38.0, 36.0, 54.0, 63.0, 22.0, 38.0, 78.0, 90.0, 40.0, 47.0, 59.0, 43.0, 52.0, 18.0, 42.0, 142.0, 45.0, 49.0, 86.0, 87.0, 16.0, 29.0, 106.0, 72.0, 94.0, 24.0, 66.0, 33.0, 123.0, 99.0, 69.0, 44.0, 125.0, 126.0, 82.0, 90.0, 70.0, 92.0, 54.0, 91.0, 55.0, 136.0, 27.0, 25.0, 129.0, 19.0, 48.0, 113.0, 17.0, 85.0, 60.0, 38.0, 106.0, 14.0, 54.0, 23.0, 72.0, 109.0, 196.0, 137.0, 70.0, 11.0, 76.0, 45.0, 39.0, 97.0, 24.0, 127.0, 180.0, 52.0, 29.0, 72.0, 37.0, 92.0, 59.0, 69.0, 104.0, 31.0, 116.0, 81.0, 110.0, 115.0, 22.0, 90.0, 93.0, 56.0, 105.0, 17.0, 82.0, 78.0, 186.0, 58.0, 107.0, 45.0, 89.0, 103.0, 94.0, 16.0, 21.0, 56.0, 56.0, 62.0, 11.0, 72.0, 154.0, 39.0, 62.0, 74.0, 21.0, 108.0, 84.0, 57.0, 186.0, 36.0, 127.0, 125.0, 104.0, 49.0, 32.0, 44.0, 43.0, 188.0, 86.0, 211.0, 157.0, 37.0, 34.0, 48.0, 47.0, 102.0, 25.0, 68.0, 116.0, 74.0, 94.0, 168.0, 75.0, 80.0, 21.0, 254.0, 27.0, 113.0, 63.0, 48.0, 62.0, 33.0, 83.0, 122.0, 25.0, 68.0, 44.0, 31.0, 56.0, 47.0, 81.0, 92.0, 51.0, 151.0, 79.0, 125.0, 247.0, 241.0, 97.0, 13.0, 45.0, 25.0, 51.0, 70.0, 108.0, 11.0, 25.0, 47.0, 104.0, 83.0, 23.0, 17.0, 18.0, 36.0, 27.0, 200.0, 127.0, 11.0, 49.0, 200.0, 90.0, 23.0, 60.0, 87.0, 94.0, 57.0, 78.0, 166.0, 29.0, 43.0, 18.0, 38.0, 19.0, 40.0, 32.0, 113.0, 74.0, 94.0, 39.0, 87.0, 75.0, 112.0, 80.0, 102.0, 29.0, 22.0, 26.0, 105.0, 20.0, 52.0, 54.0, 91.0, 12.0, 21.0, 134.0, 25.0, 59.0, 24.0, 44.0, 20.0, 35.0, 87.0, 49.0, 42.0, 246.0, 218.0, 242.0, 88.0, 53.0, 58.0, 108.0, 148.0, 40.0, 82.0, 9.0, 70.0, 89.0, 48.0, 86.0, 63.0, 32.0, 24.0, 112.0, 56.0, 174.0, 70.0, 131.0, 111.0, 59.0, 72.0, 22.0, 111.0, 71.0, 97.0, 8.0, 93.0, 70.0, 112.0, 67.0, 99.0, 98.0, 109.0, 111.0, 145.0, 88.0, 134.0, 91.0, 24.0, 66.0, 24.0, 202.0, 42.0, 19.0, 98.0, 173.0, 153.0, 55.0, 116.0, 133.0, 87.0, 136.0, 243.0, 146.0, 149.0, 19.0, 72.0, 39.0, 195.0, 154.0, 53.0, 66.0, 108.0, 71.0, 49.0, 108.0, 91.0, 105.0, 15.0, 116.0, 69.0, 93.0, 121.0, 109.0, 40.0, 41.0, 61.0, 53.0, 118.0, 47.0, 88.0, 25.0, 162.0, 44.0, 54.0, 51.0, 12.0, 71.0, 16.0, 45.0, 196.0, 108.0, 133.0, 28.0, 65.0, 143.0, 22.0, 112.0, 110.0, 168.0, 13.0, 73.0, 35.0, 143.0, 43.0, 21.0, 60.0, 82.0, 25.0, 27.0, 30.0, 41.0, 73.0, 100.0, 77.0, 77.0, 80.0, 53.0, 84.0, 103.0, 49.0, 221.0, 55.0, 99.0, 63.0, 7.0, 13.0, 122.0, 33.0, 19.0, 154.0, 63.0, 161.0, 90.0, 41.0, 100.0, 89.0, 59.0, 30.0, 60.0, 49.0, 42.0, 21.0, 57.0, 95.0, 63.0, 27.0, 90.0, 59.0, 57.0, 69.0, 52.0, 30.0, 85.0, 22.0, 42.0, 29.0, 123.0, 59.0, 214.0, 125.0, 191.0, 115.0, 38.0, 86.0, 18.0, 58.0, 42.0, 42.0, 44.0, 69.0, 115.0, 45.0, 66.0, 80.0, 75.0, 109.0, 54.0, 14.0, 22.0, 32.0, 33.0, 18.0, 71.0, 35.0, 128.0, 29.0, 75.0, 42.0, 63.0, 29.0, 134.0, 59.0, 13.0, 111.0, 38.0, 70.0, 47.0, 81.0, 108.0, 26.0, 19.0, 74.0, 90.0, 86.0, 9.0, 134.0, 43.0, 13.0, 164.0, 13.0, 65.0, 86.0, 60.0, 49.0, 56.0, 145.0, 136.0, 161.0, 85.0, 58.0, 96.0, 81.0, 36.0, 34.0, 52.0, 137.0, 15.0, 42.0, 125.0, 27.0, 27.0, 25.0, 127.0, 48.0, 88.0, 135.0, 16.0, 106.0, 64.0, 22.0, 49.0, 49.0, 71.0, 40.0, 34.0, 58.0, 38.0, 56.0, 113.0, 206.0, 43.0, 55.0, 10.0, 48.0, 53.0, 22.0, 35.0, 32.0, 25.0, 94.0, 183.0, 145.0, 32.0, 34.0, 6.0, 68.0, 71.0, 49.0, 48.0, 12.0, 62.0, 31.0, 7.0, 90.0, 65.0, 59.0, 67.0, 55.0, 126.0, 10.0, 42.0, 34.0, 110.0, 13.0, 11.0, 58.0, 71.0, 249.0, 39.0, 54.0, 101.0, 98.0, 78.0, 30.0, 39.0, 202.0, 34.0, 99.0, 37.0, 158.0, 51.0, 77.0, 49.0, 29.0, 65.0, 53.0, 216.0, 17.0, 100.0, 47.0, 63.0, 41.0, 118.0, 62.0, 26.0, 65.0, 27.0, 46.0, 19.0, 56.0, 40.0, 106.0, 11.0, 77.0, 8.0, 53.0, 59.0, 22.0, 17.0, 230.0, 8.0, 66.0, 48.0, 144.0, 24.0, 49.0, 35.0, 91.0, 21.0, 55.0, 52.0, 31.0, 23.0, 23.0, 17.0, 51.0, 61.0, 210.0, 78.0, 24.0, 41.0, 13.0, 45.0, 45.0, 91.0, 43.0, 16.0, 124.0, 43.0, 31.0, 12.0, 105.0, 99.0, 85.0, 69.0, 17.0, 59.0, 43.0, 87.0, 80.0, 250.0, 144.0, 89.0, 27.0, 126.0, 57.0, 21.0, 46.0, 50.0, 62.0, 75.0, 38.0, 130.0, 37.0, 50.0, 64.0, 50.0, 9.0, 86.0, 103.0, 34.0, 19.0, 26.0, 53.0, 55.0, 128.0, 55.0, 65.0, 66.0, 107.0, 49.0, 10.0, 60.0, 30.0, 101.0, 44.0, 138.0, 36.0, 116.0, 61.0, 118.0, 146.0, 123.0, 35.0, 40.0, 64.0, 60.0, 142.0, 35.0, 174.0, 43.0, 33.0, 23.0, 18.0, 57.0, 53.0, 54.0, 62.0, 136.0, 11.0, 30.0, 113.0, 126.0, 97.0, 50.0, 29.0, 47.0, 97.0, 84.0, 74.0, 47.0, 110.0, 55.0, 136.0, 161.0, 37.0, 156.0, 71.0, 71.0, 33.0, 73.0, 132.0, 29.0, 77.0, 106.0, 23.0, 23.0, 86.0, 149.0, 48.0, 68.0, 62.0, 6.0, 27.0, 52.0, 8.0, 84.0, 30.0, 29.0, 81.0, 36.0, 77.0, 17.0, 60.0, 98.0, 68.0, 70.0, 49.0, 33.0, 52.0, 62.0, 38.0, 38.0, 57.0, 158.0, 143.0, 63.0, 27.0, 49.0, 90.0, 41.0, 171.0, 34.0, 110.0, 157.0, 79.0, 53.0, 108.0, 68.0, 28.0, 80.0, 22.0, 29.0, 28.0, 42.0, 135.0, 47.0, 68.0, 66.0, 81.0, 69.0, 29.0, 66.0, 76.0, 38.0, 90.0, 24.0, 22.0, 105.0, 85.0, 72.0, 92.0, 143.0, 41.0, 39.0, 117.0, 24.0, 23.0, 73.0, 52.0, 91.0, 75.0, 31.0, 38.0, 66.0, 72.0, 72.0, 86.0, 41.0, 20.0, 71.0, 75.0, 91.0, 61.0, 56.0, 76.0, 109.0, 92.0, 120.0, 43.0, 55.0, 71.0, 16.0, 45.0, 9.0, 82.0, 74.0, 82.0, 67.0, 40.0, 10.0, 99.0, 44.0, 56.0, 95.0, 40.0, 95.0, 64.0, 117.0, 35.0, 7.0, 59.0, 55.0, 107.0, 25.0, 111.0, 43.0, 161.0, 59.0, 79.0, 39.0, 190.0, 109.0, 23.0, 43.0, 51.0, 43.0, 24.0, 84.0, 20.0, 161.0, 67.0, 46.0, 214.0, 100.0, 101.0, 72.0, 53.0, 110.0, 134.0, 51.0, 22.0, 33.0, 28.0, 128.0, 34.0, 167.0, 43.0, 18.0, 23.0, 29.0, 17.0, 104.0, 72.0, 247.0, 15.0, 54.0, 52.0, 74.0, 80.0, 38.0, 49.0, 67.0, 91.0, 8.0, 125.0, 51.0, 56.0, 70.0, 82.0, 44.0, 39.0, 83.0, 42.0, 58.0, 41.0, 81.0, 20.0, 20.0, 22.0, 34.0, 53.0, 58.0, 237.0, 81.0, 181.0, 15.0, 62.0, 80.0, 70.0, 122.0, 123.0, 63.0, 77.0, 83.0, 55.0, 53.0, 65.0, 22.0, 129.0, 74.0, 22.0, 37.0, 155.0, 13.0, 85.0, 41.0, 51.0, 50.0, 31.0, 10.0, 85.0, 35.0, 137.0, 34.0, 95.0, 37.0, 13.0, 58.0, 65.0, 93.0, 43.0, 214.0, 79.0, 16.0, 39.0, 68.0, 21.0, 39.0, 14.0, 77.0, 31.0, 53.0, 49.0, 62.0, 101.0, 118.0, 43.0, 77.0, 45.0, 61.0, 57.0, 62.0, 79.0, 64.0, 61.0, 215.0, 20.0, 12.0, 117.0, 154.0, 103.0, 41.0, 19.0, 69.0, 69.0, 38.0, 54.0, 54.0, 77.0, 55.0, 40.0, 17.0, 150.0, 47.0, 132.0, 177.0, 140.0, 40.0, 59.0, 87.0, 57.0, 60.0, 34.0, 35.0, 34.0, 76.0, 42.0, 127.0, 58.0, 118.0, 18.0, 101.0, 75.0, 55.0, 82.0, 33.0, 22.0, 115.0, 80.0, 148.0, 36.0, 40.0, 103.0, 107.0, 220.0, 77.0, 96.0, 35.0, 20.0, 53.0, 57.0, 143.0, 58.0, 52.0, 54.0, 69.0, 145.0, 142.0, 181.0, 140.0, 160.0, 32.0, 67.0, 36.0, 24.0, 79.0, 52.0, 121.0, 49.0, 36.0, 94.0, 87.0, 70.0, 34.0, 9.0, 98.0, 23.0, 122.0, 18.0, 54.0, 83.0, 30.0, 86.0, 125.0, 27.0, 39.0, 111.0, 197.0, 141.0, 30.0, 109.0, 12.0, 54.0, 31.0, 29.0, 147.0, 177.0, 48.0, 21.0, 5.0, 83.0, 19.0, 44.0, 156.0, 34.0, 45.0, 47.0, 59.0, 25.0, 106.0, 129.0, 26.0, 132.0, 82.0, 156.0, 58.0, 68.0, 92.0, 34.0, 37.0, 43.0, 99.0, 31.0, 182.0, 55.0, 41.0, 247.0, 23.0, 70.0, 73.0, 34.0, 141.0, 9.0, 62.0, 87.0, 39.0, 32.0, 26.0, 15.0, 33.0, 44.0, 62.0, 15.0, 175.0, 56.0, 32.0, 173.0, 33.0, 121.0, 26.0, 4.0, 29.0, 11.0, 114.0, 16.0, 32.0, 120.0, 104.0, 94.0, 25.0, 28.0, 55.0, 90.0, 57.0, 34.0, 74.0, 58.0, 57.0, 76.0, 40.0, 79.0, 21.0, 23.0, 67.0, 28.0, 35.0, 86.0, 40.0, 73.0, 21.0, 34.0, 33.0, 99.0, 43.0, 20.0, 58.0, 199.0, 37.0, 31.0, 122.0, 256.0, 174.0, 254.0, 148.0, 35.0, 44.0, 161.0, 52.0, 121.0, 68.0, 62.0, 33.0, 99.0, 65.0, 34.0, 108.0, 32.0, 65.0, 21.0, 56.0, 21.0, 43.0, 32.0, 193.0, 47.0, 53.0, 110.0, 84.0, 79.0, 99.0, 87.0, 215.0, 211.0, 9.0, 15.0, 174.0, 208.0, 62.0, 29.0, 100.0, 219.0, 4.0, 20.0, 28.0, 62.0, 31.0, 70.0, 58.0, 23.0, 22.0, 26.0, 72.0, 68.0, 44.0, 60.0, 36.0, 37.0, 77.0, 11.0, 34.0, 44.0, 68.0, 30.0, 26.0, 41.0, 54.0, 248.0, 70.0, 37.0, 15.0, 58.0, 15.0, 61.0, 80.0, 95.0, 86.0, 58.0, 18.0, 124.0, 71.0, 46.0, 48.0, 97.0, 42.0, 177.0, 84.0, 12.0, 80.0, 78.0, 26.0, 246.0, 83.0, 72.0, 69.0, 234.0, 69.0, 15.0, 23.0, 64.0, 18.0, 118.0, 37.0, 39.0, 17.0, 54.0, 24.0, 21.0, 59.0, 191.0, 46.0, 154.0, 25.0, 136.0, 97.0, 57.0, 72.0, 54.0, 84.0, 42.0, 80.0, 112.0, 198.0, 30.0, 107.0, 54.0, 99.0, 35.0, 18.0, 75.0, 32.0, 31.0, 126.0, 21.0, 28.0, 34.0, 144.0, 161.0, 44.0, 65.0, 189.0, 10.0, 26.0, 64.0, 119.0, 77.0, 80.0, 68.0, 29.0, 214.0, 121.0, 13.0, 10.0, 40.0, 218.0, 161.0, 4.0, 158.0, 85.0, 33.0, 67.0, 114.0, 72.0, 58.0, 100.0, 112.0, 124.0, 116.0, 134.0, 120.0, 91.0, 37.0, 54.0, 75.0, 67.0, 147.0, 46.0, 20.0, 120.0, 53.0, 98.0, 23.0, 91.0, 18.0, 64.0, 73.0, 68.0, 72.0, 93.0, 13.0, 69.0, 32.0, 15.0, 58.0, 99.0, 23.0, 29.0, 43.0, 80.0, 57.0, 120.0, 26.0, 17.0, 64.0, 66.0, 47.0, 24.0, 34.0, 97.0, 60.0, 25.0, 11.0, 40.0, 53.0, 55.0, 74.0, 67.0, 59.0, 25.0, 52.0, 95.0, 62.0, 108.0, 116.0, 80.0, 36.0, 162.0, 23.0, 26.0, 119.0, 18.0, 11.0, 94.0, 21.0, 48.0, 40.0, 11.0, 32.0, 58.0, 57.0, 165.0, 103.0, 46.0, 96.0, 45.0, 98.0, 101.0, 41.0, 87.0, 71.0, 24.0, 92.0, 236.0, 99.0, 91.0, 59.0, 15.0, 173.0, 11.0, 65.0, 42.0, 37.0, 87.0, 58.0, 68.0, 68.0, 142.0, 46.0, 208.0, 94.0, 42.0, 166.0, 22.0, 32.0, 200.0, 38.0, 61.0, 12.0, 29.0, 72.0, 15.0, 55.0, 39.0, 34.0, 47.0, 45.0, 125.0, 27.0, 61.0, 79.0, 62.0, 85.0, 63.0, 36.0, 23.0, 80.0, 33.0, 32.0, 38.0, 15.0, 23.0, 77.0, 95.0, 38.0, 123.0, 128.0, 16.0, 25.0, 155.0, 30.0, 53.0, 42.0, 157.0, 47.0, 25.0, 24.0, 17.0, 92.0, 53.0, 78.0, 140.0, 80.0, 84.0, 93.0, 59.0, 59.0, 29.0, 51.0, 102.0, 31.0, 38.0, 48.0, 131.0, 39.0, 221.0, 110.0, 12.0, 105.0, 94.0, 71.0, 117.0, 56.0, 144.0, 37.0, 85.0, 199.0, 110.0, 28.0, 41.0, 145.0, 34.0, 20.0, 27.0, 221.0, 80.0, 63.0, 166.0, 14.0, 163.0, 91.0, 9.0, 151.0, 140.0, 41.0, 115.0, 151.0, 31.0, 93.0, 14.0, 47.0, 24.0, 30.0, 88.0, 210.0, 122.0, 42.0, 170.0, 160.0, 11.0, 68.0, 148.0, 137.0, 52.0, 124.0, 24.0, 76.0, 51.0, 112.0, 30.0, 69.0, 23.0, 40.0, 27.0, 14.0, 31.0, 16.0, 33.0, 164.0, 158.0, 142.0, 179.0, 23.0, 73.0, 88.0, 47.0, 110.0, 60.0, 28.0, 29.0, 33.0, 59.0, 25.0, 18.0, 33.0, 37.0, 41.0, 39.0, 14.0, 123.0, 45.0, 99.0, 25.0, 61.0, 82.0, 105.0, 41.0, 24.0, 42.0, 50.0, 43.0, 99.0, 78.0, 29.0, 66.0, 101.0, 208.0, 89.0, 61.0, 170.0, 84.0, 13.0, 24.0, 33.0, 103.0, 135.0, 43.0, 60.0, 26.0, 49.0, 17.0, 16.0, 43.0, 112.0, 59.0, 40.0, 41.0, 116.0, 38.0, 26.0, 31.0, 21.0, 67.0, 86.0, 46.0, 171.0, 87.0, 31.0, 80.0, 60.0, 78.0, 96.0, 138.0, 72.0, 42.0, 127.0, 7.0, 38.0, 46.0, 36.0, 91.0, 79.0, 117.0, 56.0, 43.0, 36.0, 6.0, 20.0, 101.0, 95.0, 141.0, 94.0, 28.0, 67.0, 97.0, 76.0, 42.0, 103.0, 20.0, 16.0, 73.0, 35.0, 56.0, 18.0, 43.0, 70.0, 27.0, 30.0, 78.0, 24.0, 25.0, 8.0, 82.0, 31.0, 141.0, 39.0, 28.0, 57.0, 71.0, 20.0, 18.0, 33.0, 46.0, 33.0, 56.0, 129.0, 31.0, 114.0, 60.0, 8.0, 23.0, 144.0, 78.0, 215.0, 71.0, 91.0, 30.0, 123.0, 24.0, 38.0, 54.0, 48.0, 96.0, 65.0, 31.0, 66.0, 120.0, 42.0, 46.0, 28.0, 122.0, 64.0, 90.0, 44.0, 68.0, 93.0, 14.0, 35.0, 74.0, 71.0, 64.0, 34.0, 33.0, 250.0, 56.0, 87.0, 38.0, 23.0, 78.0, 16.0, 57.0, 10.0, 35.0, 71.0, 53.0, 54.0, 63.0, 33.0, 73.0, 80.0, 36.0, 30.0, 38.0, 214.0, 15.0, 49.0, 31.0, 68.0, 113.0, 173.0, 48.0, 82.0, 84.0, 14.0, 16.0, 74.0, 40.0, 102.0, 39.0, 120.0, 14.0, 61.0, 72.0, 60.0, 93.0, 61.0, 109.0, 10.0, 46.0, 82.0, 106.0, 27.0, 112.0, 59.0, 76.0, 17.0, 73.0, 41.0, 105.0, 51.0, 36.0, 170.0, 57.0, 66.0, 63.0, 42.0, 67.0, 84.0, 88.0, 166.0, 67.0, 75.0, 76.0, 200.0, 36.0, 33.0, 18.0, 7.0, 31.0, 171.0, 89.0, 50.0, 112.0, 60.0, 28.0, 33.0, 4.0, 42.0, 144.0, 40.0, 39.0, 76.0, 89.0, 38.0, 76.0, 82.0, 92.0, 36.0, 61.0, 172.0, 89.0, 64.0, 168.0, 81.0, 174.0, 43.0, 45.0, 20.0, 31.0, 11.0, 37.0, 56.0, 31.0, 147.0, 55.0, 66.0, 11.0, 30.0, 53.0, 57.0, 27.0, 162.0, 113.0, 44.0, 109.0, 35.0, 221.0, 139.0, 58.0, 17.0, 71.0, 42.0, 36.0, 150.0, 85.0, 42.0, 34.0, 83.0, 25.0, 30.0, 31.0, 18.0, 76.0, 36.0, 37.0, 77.0, 53.0, 120.0, 95.0, 72.0, 224.0, 40.0, 48.0, 49.0, 117.0, 38.0, 35.0, 48.0, 20.0, 85.0, 64.0, 111.0, 21.0, 109.0, 60.0, 18.0, 116.0, 98.0, 233.0, 40.0, 8.0, 59.0, 53.0, 136.0, 75.0, 24.0, 138.0, 68.0, 89.0, 47.0, 28.0, 106.0, 87.0, 149.0, 117.0, 82.0, 161.0, 86.0, 87.0, 54.0, 49.0, 56.0, 39.0, 20.0, 26.0, 29.0, 39.0, 43.0, 123.0, 80.0, 162.0, 95.0, 29.0, 20.0, 58.0, 42.0, 129.0, 58.0, 184.0, 167.0, 75.0, 22.0, 30.0, 52.0, 120.0, 109.0, 72.0, 23.0, 9.0, 45.0, 152.0, 18.0, 158.0, 55.0, 24.0, 27.0, 38.0, 30.0, 28.0, 18.0, 46.0, 44.0, 107.0, 46.0, 48.0, 74.0, 195.0, 85.0, 11.0, 62.0, 57.0, 98.0, 40.0, 74.0, 34.0, 53.0, 40.0, 151.0, 50.0, 46.0, 44.0, 68.0, 95.0, 39.0, 122.0, 54.0, 65.0, 50.0, 45.0, 51.0, 32.0, 67.0, 59.0, 57.0, 122.0, 5.0, 106.0, 61.0, 98.0, 76.0, 110.0, 142.0, 23.0, 49.0, 68.0, 122.0, 241.0, 41.0, 244.0, 45.0, 32.0, 12.0, 72.0, 121.0, 49.0, 17.0, 64.0, 182.0, 54.0, 66.0, 74.0, 66.0, 70.0, 88.0, 88.0, 97.0, 15.0, 66.0, 122.0, 81.0, 63.0, 130.0, 67.0, 85.0, 86.0, 39.0, 37.0, 25.0, 21.0, 32.0, 46.0, 8.0, 96.0, 26.0, 28.0, 59.0, 54.0, 144.0, 100.0, 50.0, 87.0, 70.0, 206.0, 16.0, 49.0, 46.0, 15.0, 66.0, 76.0, 65.0, 23.0, 104.0, 50.0, 17.0, 33.0, 47.0, 43.0, 105.0, 66.0, 20.0, 9.0, 33.0, 20.0, 70.0, 33.0, 59.0, 43.0, 23.0, 47.0, 83.0, 30.0, 95.0, 44.0, 118.0, 36.0, 21.0, 52.0, 13.0, 111.0, 105.0, 20.0, 23.0, 24.0, 41.0, 42.0, 208.0, 125.0, 201.0, 42.0, 67.0, 138.0, 65.0, 31.0, 43.0, 166.0, 114.0, 78.0, 32.0, 78.0, 67.0, 94.0, 41.0, 148.0, 58.0, 20.0, 57.0, 94.0, 195.0, 49.0, 103.0, 81.0, 78.0, 122.0, 111.0, 57.0, 121.0, 27.0, 86.0, 18.0, 115.0, 55.0, 26.0, 58.0, 46.0, 89.0, 76.0, 70.0, 9.0, 22.0, 229.0, 103.0, 133.0, 91.0, 129.0, 50.0, 53.0, 45.0, 50.0, 75.0, 59.0, 144.0, 58.0, 50.0, 111.0, 63.0, 49.0, 120.0, 44.0, 42.0, 42.0, 86.0, 23.0, 58.0, 33.0, 72.0, 58.0, 74.0, 53.0, 107.0, 38.0, 72.0, 96.0, 17.0, 113.0, 15.0, 44.0, 50.0, 139.0, 46.0, 82.0, 88.0, 32.0, 22.0, 155.0, 28.0, 98.0, 60.0, 101.0, 83.0, 105.0, 45.0, 68.0, 82.0, 127.0, 21.0, 86.0, 146.0, 92.0, 23.0, 25.0, 59.0, 190.0, 84.0, 30.0, 31.0, 169.0, 44.0, 20.0, 29.0, 38.0, 207.0, 36.0, 33.0, 142.0, 45.0, 103.0, 57.0, 131.0, 92.0, 89.0, 40.0, 13.0, 28.0, 23.0, 19.0, 40.0, 67.0, 61.0, 128.0, 31.0, 22.0, 37.0, 48.0, 57.0, 168.0, 107.0, 61.0, 136.0, 55.0, 15.0, 11.0, 108.0, 40.0, 56.0, 53.0, 29.0, 104.0, 59.0, 28.0, 127.0, 93.0, 65.0, 17.0, 87.0, 46.0, 101.0, 89.0, 66.0, 133.0, 55.0, 96.0, 58.0, 63.0, 148.0, 42.0, 11.0, 14.0, 74.0, 30.0, 54.0, 118.0, 22.0, 53.0, 105.0, 93.0, 85.0, 199.0, 35.0, 42.0, 16.0, 24.0, 38.0, 72.0, 48.0, 117.0, 90.0, 29.0, 116.0, 144.0, 55.0, 158.0, 39.0, 166.0, 184.0, 134.0, 61.0, 29.0, 17.0, 47.0, 84.0, 47.0, 194.0, 91.0, 188.0, 42.0, 82.0, 41.0, 64.0, 144.0, 39.0, 62.0, 125.0, 38.0, 73.0, 42.0, 89.0, 141.0, 69.0, 34.0, 32.0, 41.0, 84.0, 47.0, 75.0, 66.0, 67.0, 141.0, 53.0, 52.0, 38.0, 46.0, 96.0, 72.0, 22.0, 187.0, 100.0, 45.0, 43.0, 52.0, 86.0, 41.0, 53.0, 113.0, 36.0, 57.0, 58.0, 16.0, 174.0, 77.0, 37.0, 77.0, 59.0, 99.0, 46.0, 7.0, 103.0, 76.0, 58.0, 145.0, 84.0, 120.0, 47.0, 146.0, 44.0, 7.0, 94.0, 113.0, 22.0, 67.0, 130.0, 19.0, 113.0, 78.0, 78.0, 74.0, 38.0, 11.0, 52.0, 77.0, 70.0, 30.0, 38.0, 64.0, 61.0, 115.0, 32.0, 25.0, 36.0, 9.0, 8.0, 76.0, 103.0, 25.0, 48.0, 153.0, 183.0, 11.0, 25.0, 73.0, 68.0, 15.0, 36.0, 118.0, 161.0, 46.0, 6.0, 41.0, 29.0, 149.0, 17.0, 14.0, 30.0, 122.0, 132.0, 65.0, 173.0, 55.0, 92.0, 36.0, 100.0, 192.0, 78.0, 41.0, 80.0, 58.0, 39.0, 49.0, 49.0, 88.0, 85.0, 93.0, 51.0, 89.0, 103.0, 37.0, 32.0, 32.0, 32.0, 38.0, 33.0, 34.0, 41.0, 38.0, 17.0, 64.0, 9.0, 30.0, 24.0, 11.0, 89.0, 44.0, 23.0, 19.0, 144.0, 44.0, 37.0, 25.0, 20.0, 78.0, 133.0, 25.0, 65.0, 38.0, 77.0, 44.0, 37.0, 87.0, 30.0, 23.0, 82.0, 79.0, 28.0, 97.0, 77.0, 49.0, 6.0, 74.0, 83.0, 159.0, 69.0, 72.0, 112.0, 200.0, 19.0, 64.0, 58.0, 56.0, 17.0, 210.0, 85.0, 28.0, 153.0, 87.0, 93.0, 109.0, 40.0, 54.0, 179.0, 137.0, 59.0, 199.0, 118.0, 104.0, 93.0, 78.0, 54.0, 59.0, 48.0, 40.0, 49.0, 21.0, 52.0, 47.0, 59.0, 187.0, 103.0, 20.0, 26.0, 26.0, 110.0, 69.0, 26.0, 33.0, 35.0, 32.0, 121.0, 63.0, 232.0, 58.0, 82.0, 47.0, 86.0, 82.0, 18.0, 83.0, 81.0, 123.0, 43.0, 126.0, 22.0, 33.0, 68.0, 19.0, 201.0, 82.0, 21.0, 155.0, 32.0, 97.0, 44.0, 10.0, 24.0, 61.0, 48.0, 53.0, 31.0, 124.0, 77.0, 90.0, 143.0, 14.0, 51.0, 52.0, 75.0, 41.0, 254.0, 75.0, 160.0, 31.0, 174.0, 22.0, 63.0, 39.0, 42.0, 78.0, 126.0, 51.0, 26.0, 45.0, 138.0, 48.0, 48.0, 94.0, 24.0, 64.0, 110.0, 5.0, 71.0, 26.0, 22.0, 35.0, 153.0, 142.0, 87.0, 14.0, 23.0, 25.0, 56.0, 43.0, 69.0, 206.0, 20.0, 63.0, 118.0, 11.0, 42.0, 43.0, 8.0, 51.0, 119.0, 126.0, 41.0, 75.0, 28.0, 254.0, 170.0, 60.0, 38.0, 133.0, 69.0, 75.0, 58.0, 43.0, 107.0, 65.0, 223.0, 26.0, 35.0, 90.0, 23.0, 20.0, 47.0, 126.0, 158.0, 16.0, 55.0, 22.0, 74.0, 27.0, 14.0, 95.0, 79.0, 110.0, 46.0, 83.0, 107.0, 18.0, 13.0, 34.0, 58.0, 65.0, 184.0, 28.0, 42.0, 77.0, 58.0, 49.0, 17.0, 33.0, 28.0, 57.0, 66.0, 21.0, 85.0, 36.0, 72.0, 21.0, 56.0, 169.0, 67.0, 125.0, 131.0, 45.0, 56.0, 29.0, 84.0, 28.0, 17.0, 196.0, 41.0, 47.0, 13.0, 28.0, 86.0, 38.0, 226.0, 67.0, 137.0, 21.0, 69.0, 175.0, 137.0, 29.0, 17.0, 48.0, 34.0, 134.0, 145.0, 249.0, 74.0, 6.0, 48.0, 136.0, 29.0, 78.0, 55.0, 113.0, 76.0, 135.0, 71.0, 48.0, 73.0, 115.0, 34.0, 19.0, 140.0, 91.0, 138.0, 28.0, 22.0, 146.0, 15.0, 85.0, 131.0, 46.0, 125.0, 17.0, 80.0, 127.0, 94.0, 105.0, 55.0, 139.0, 89.0, 73.0, 56.0, 147.0, 83.0, 91.0, 48.0, 121.0, 106.0, 201.0, 11.0, 45.0, 70.0, 128.0, 82.0, 123.0, 58.0, 106.0, 22.0, 20.0, 22.0, 63.0, 144.0, 77.0, 70.0, 120.0, 8.0, 6.0, 11.0, 24.0, 63.0, 91.0, 157.0, 8.0, 112.0, 137.0, 9.0, 53.0, 83.0, 114.0, 83.0, 58.0, 13.0, 78.0, 75.0, 197.0, 24.0, 45.0, 56.0, 104.0, 130.0, 103.0, 20.0, 13.0, 60.0, 43.0, 35.0, 31.0, 143.0, 11.0, 88.0, 37.0, 74.0, 28.0, 67.0, 128.0, 20.0, 9.0, 136.0, 84.0, 34.0, 31.0, 66.0, 54.0, 32.0, 97.0, 94.0, 37.0, 86.0, 25.0, 59.0, 53.0, 83.0, 27.0, 180.0, 54.0, 42.0, 143.0, 52.0, 76.0, 88.0, 31.0, 71.0, 103.0, 30.0, 36.0, 89.0, 58.0, 76.0, 72.0, 50.0, 180.0, 37.0, 79.0, 118.0, 15.0, 84.0, 130.0, 220.0, 113.0, 16.0, 26.0, 59.0, 147.0, 36.0, 50.0, 105.0, 146.0, 242.0, 80.0, 141.0, 18.0, 64.0, 107.0, 93.0, 38.0, 76.0, 100.0, 79.0, 21.0, 73.0, 195.0, 122.0, 99.0, 122.0, 129.0, 21.0, 80.0, 68.0, 43.0, 73.0, 36.0, 180.0, 63.0, 52.0, 30.0, 17.0, 150.0, 26.0, 60.0, 118.0, 18.0, 126.0, 40.0, 42.0, 55.0, 18.0, 129.0, 41.0, 35.0, 60.0, 37.0, 55.0, 17.0, 77.0, 18.0, 68.0, 157.0, 204.0, 35.0, 29.0, 61.0, 70.0, 34.0, 144.0, 35.0, 25.0, 120.0, 80.0, 55.0, 70.0, 238.0, 174.0, 202.0, 167.0, 44.0, 160.0, 49.0, 151.0, 103.0, 64.0, 53.0, 199.0, 60.0, 17.0, 62.0, 31.0, 25.0, 8.0, 140.0, 24.0, 133.0, 21.0, 36.0, 76.0, 117.0, 101.0, 54.0, 46.0, 60.0, 115.0, 136.0, 58.0, 82.0, 117.0, 156.0, 116.0, 154.0, 31.0, 149.0, 25.0, 38.0, 13.0, 71.0, 61.0, 96.0, 64.0, 69.0, 180.0, 60.0, 137.0, 101.0, 16.0, 88.0, 123.0, 128.0, 9.0, 149.0, 85.0, 69.0, 20.0, 110.0, 117.0, 38.0, 58.0, 33.0, 95.0, 81.0, 67.0, 53.0, 82.0, 18.0, 53.0, 138.0, 131.0, 61.0, 73.0, 85.0, 14.0, 23.0, 55.0, 29.0, 61.0, 92.0, 70.0, 29.0, 40.0, 117.0, 107.0, 27.0, 13.0, 80.0, 108.0, 10.0, 80.0, 52.0, 84.0, 145.0, 48.0, 38.0, 17.0, 102.0, 30.0, 87.0, 23.0, 19.0, 15.0, 105.0, 77.0, 14.0, 74.0, 13.0, 57.0, 21.0, 116.0, 24.0, 47.0, 18.0, 26.0, 146.0, 12.0, 20.0, 99.0, 97.0, 12.0, 33.0, 134.0, 16.0, 10.0, 50.0, 63.0, 93.0, 27.0, 91.0, 64.0, 29.0, 25.0, 82.0, 94.0, 179.0, 23.0, 24.0, 27.0, 40.0, 39.0, 120.0, 36.0, 87.0, 136.0, 39.0, 33.0, 34.0, 44.0, 31.0, 24.0, 26.0, 105.0, 71.0, 17.0, 33.0, 48.0, 114.0, 116.0, 32.0, 137.0, 162.0, 49.0, 28.0, 73.0, 5.0, 21.0, 87.0, 26.0, 42.0, 12.0, 48.0, 15.0, 132.0, 63.0, 56.0, 79.0, 19.0, 83.0, 160.0, 52.0, 25.0, 25.0, 20.0, 5.0, 87.0, 116.0, 117.0, 21.0, 69.0, 48.0, 112.0, 54.0, 121.0, 65.0, 76.0, 180.0, 95.0, 42.0, 16.0, 92.0, 30.0, 136.0, 91.0, 77.0, 16.0, 99.0, 16.0, 135.0, 65.0, 95.0, 54.0, 102.0, 114.0, 11.0, 38.0, 23.0, 69.0, 160.0]}],\n",
              "                        {\"bargap\": 0.2, \"bargroupgap\": 0.2, \"template\": {\"data\": {\"bar\": [{\"error_x\": {\"color\": \"#2a3f5f\"}, \"error_y\": {\"color\": \"#2a3f5f\"}, \"marker\": {\"line\": {\"color\": \"#E5ECF6\", \"width\": 0.5}}, \"type\": \"bar\"}], \"barpolar\": [{\"marker\": {\"line\": {\"color\": \"#E5ECF6\", \"width\": 0.5}}, \"type\": \"barpolar\"}], \"carpet\": [{\"aaxis\": {\"endlinecolor\": \"#2a3f5f\", \"gridcolor\": \"white\", \"linecolor\": \"white\", \"minorgridcolor\": \"white\", \"startlinecolor\": \"#2a3f5f\"}, \"baxis\": {\"endlinecolor\": \"#2a3f5f\", \"gridcolor\": \"white\", \"linecolor\": \"white\", \"minorgridcolor\": \"white\", \"startlinecolor\": \"#2a3f5f\"}, \"type\": \"carpet\"}], \"choropleth\": [{\"colorbar\": {\"outlinewidth\": 0, \"ticks\": \"\"}, \"type\": \"choropleth\"}], \"contour\": [{\"colorbar\": {\"outlinewidth\": 0, \"ticks\": \"\"}, \"colorscale\": [[0.0, \"#0d0887\"], [0.1111111111111111, \"#46039f\"], [0.2222222222222222, \"#7201a8\"], [0.3333333333333333, \"#9c179e\"], [0.4444444444444444, \"#bd3786\"], [0.5555555555555556, \"#d8576b\"], [0.6666666666666666, \"#ed7953\"], [0.7777777777777778, \"#fb9f3a\"], [0.8888888888888888, \"#fdca26\"], [1.0, \"#f0f921\"]], \"type\": \"contour\"}], \"contourcarpet\": [{\"colorbar\": {\"outlinewidth\": 0, \"ticks\": \"\"}, \"type\": \"contourcarpet\"}], \"heatmap\": [{\"colorbar\": {\"outlinewidth\": 0, \"ticks\": \"\"}, \"colorscale\": [[0.0, \"#0d0887\"], [0.1111111111111111, \"#46039f\"], [0.2222222222222222, \"#7201a8\"], [0.3333333333333333, \"#9c179e\"], [0.4444444444444444, \"#bd3786\"], [0.5555555555555556, \"#d8576b\"], [0.6666666666666666, \"#ed7953\"], [0.7777777777777778, \"#fb9f3a\"], [0.8888888888888888, \"#fdca26\"], [1.0, \"#f0f921\"]], \"type\": \"heatmap\"}], \"heatmapgl\": [{\"colorbar\": {\"outlinewidth\": 0, \"ticks\": \"\"}, \"colorscale\": [[0.0, \"#0d0887\"], [0.1111111111111111, \"#46039f\"], [0.2222222222222222, \"#7201a8\"], [0.3333333333333333, \"#9c179e\"], [0.4444444444444444, \"#bd3786\"], [0.5555555555555556, \"#d8576b\"], [0.6666666666666666, \"#ed7953\"], [0.7777777777777778, \"#fb9f3a\"], [0.8888888888888888, \"#fdca26\"], [1.0, \"#f0f921\"]], \"type\": \"heatmapgl\"}], \"histogram\": [{\"marker\": {\"colorbar\": {\"outlinewidth\": 0, \"ticks\": \"\"}}, \"type\": \"histogram\"}], \"histogram2d\": [{\"colorbar\": {\"outlinewidth\": 0, \"ticks\": \"\"}, \"colorscale\": [[0.0, \"#0d0887\"], [0.1111111111111111, \"#46039f\"], [0.2222222222222222, \"#7201a8\"], [0.3333333333333333, \"#9c179e\"], [0.4444444444444444, \"#bd3786\"], [0.5555555555555556, \"#d8576b\"], [0.6666666666666666, \"#ed7953\"], [0.7777777777777778, \"#fb9f3a\"], [0.8888888888888888, \"#fdca26\"], [1.0, \"#f0f921\"]], \"type\": \"histogram2d\"}], \"histogram2dcontour\": [{\"colorbar\": {\"outlinewidth\": 0, \"ticks\": \"\"}, \"colorscale\": [[0.0, \"#0d0887\"], [0.1111111111111111, \"#46039f\"], [0.2222222222222222, \"#7201a8\"], [0.3333333333333333, \"#9c179e\"], [0.4444444444444444, \"#bd3786\"], [0.5555555555555556, \"#d8576b\"], [0.6666666666666666, \"#ed7953\"], [0.7777777777777778, \"#fb9f3a\"], [0.8888888888888888, \"#fdca26\"], [1.0, \"#f0f921\"]], \"type\": \"histogram2dcontour\"}], \"mesh3d\": [{\"colorbar\": {\"outlinewidth\": 0, \"ticks\": \"\"}, \"type\": \"mesh3d\"}], \"parcoords\": [{\"line\": {\"colorbar\": {\"outlinewidth\": 0, \"ticks\": \"\"}}, \"type\": \"parcoords\"}], \"pie\": [{\"automargin\": true, \"type\": \"pie\"}], \"scatter\": [{\"marker\": {\"colorbar\": {\"outlinewidth\": 0, \"ticks\": \"\"}}, \"type\": \"scatter\"}], \"scatter3d\": [{\"line\": {\"colorbar\": {\"outlinewidth\": 0, \"ticks\": \"\"}}, \"marker\": {\"colorbar\": {\"outlinewidth\": 0, \"ticks\": \"\"}}, \"type\": \"scatter3d\"}], \"scattercarpet\": [{\"marker\": {\"colorbar\": {\"outlinewidth\": 0, \"ticks\": \"\"}}, \"type\": \"scattercarpet\"}], \"scattergeo\": [{\"marker\": {\"colorbar\": {\"outlinewidth\": 0, \"ticks\": \"\"}}, \"type\": \"scattergeo\"}], \"scattergl\": [{\"marker\": {\"colorbar\": {\"outlinewidth\": 0, \"ticks\": \"\"}}, \"type\": \"scattergl\"}], \"scattermapbox\": [{\"marker\": {\"colorbar\": {\"outlinewidth\": 0, \"ticks\": \"\"}}, \"type\": \"scattermapbox\"}], \"scatterpolar\": [{\"marker\": {\"colorbar\": {\"outlinewidth\": 0, \"ticks\": \"\"}}, \"type\": \"scatterpolar\"}], \"scatterpolargl\": [{\"marker\": {\"colorbar\": {\"outlinewidth\": 0, \"ticks\": \"\"}}, \"type\": \"scatterpolargl\"}], \"scatterternary\": [{\"marker\": {\"colorbar\": {\"outlinewidth\": 0, \"ticks\": \"\"}}, \"type\": \"scatterternary\"}], \"surface\": [{\"colorbar\": {\"outlinewidth\": 0, \"ticks\": \"\"}, \"colorscale\": [[0.0, \"#0d0887\"], [0.1111111111111111, \"#46039f\"], [0.2222222222222222, \"#7201a8\"], [0.3333333333333333, \"#9c179e\"], [0.4444444444444444, \"#bd3786\"], [0.5555555555555556, \"#d8576b\"], [0.6666666666666666, \"#ed7953\"], [0.7777777777777778, \"#fb9f3a\"], [0.8888888888888888, \"#fdca26\"], [1.0, \"#f0f921\"]], \"type\": \"surface\"}], \"table\": [{\"cells\": {\"fill\": {\"color\": \"#EBF0F8\"}, \"line\": {\"color\": \"white\"}}, \"header\": {\"fill\": {\"color\": \"#C8D4E3\"}, \"line\": {\"color\": \"white\"}}, \"type\": \"table\"}]}, \"layout\": {\"annotationdefaults\": {\"arrowcolor\": \"#2a3f5f\", \"arrowhead\": 0, \"arrowwidth\": 1}, \"coloraxis\": {\"colorbar\": {\"outlinewidth\": 0, \"ticks\": \"\"}}, \"colorscale\": {\"diverging\": [[0, \"#8e0152\"], [0.1, \"#c51b7d\"], [0.2, \"#de77ae\"], [0.3, \"#f1b6da\"], [0.4, \"#fde0ef\"], [0.5, \"#f7f7f7\"], [0.6, \"#e6f5d0\"], [0.7, \"#b8e186\"], [0.8, \"#7fbc41\"], [0.9, \"#4d9221\"], [1, \"#276419\"]], \"sequential\": [[0.0, \"#0d0887\"], [0.1111111111111111, \"#46039f\"], [0.2222222222222222, \"#7201a8\"], [0.3333333333333333, \"#9c179e\"], [0.4444444444444444, \"#bd3786\"], [0.5555555555555556, \"#d8576b\"], [0.6666666666666666, \"#ed7953\"], [0.7777777777777778, \"#fb9f3a\"], [0.8888888888888888, \"#fdca26\"], [1.0, \"#f0f921\"]], \"sequentialminus\": [[0.0, \"#0d0887\"], [0.1111111111111111, \"#46039f\"], [0.2222222222222222, \"#7201a8\"], [0.3333333333333333, \"#9c179e\"], [0.4444444444444444, \"#bd3786\"], [0.5555555555555556, \"#d8576b\"], [0.6666666666666666, \"#ed7953\"], [0.7777777777777778, \"#fb9f3a\"], [0.8888888888888888, \"#fdca26\"], [1.0, \"#f0f921\"]]}, \"colorway\": [\"#636efa\", \"#EF553B\", \"#00cc96\", \"#ab63fa\", \"#FFA15A\", \"#19d3f3\", \"#FF6692\", \"#B6E880\", \"#FF97FF\", \"#FECB52\"], \"font\": {\"color\": \"#2a3f5f\"}, \"geo\": {\"bgcolor\": \"white\", \"lakecolor\": \"white\", \"landcolor\": \"#E5ECF6\", \"showlakes\": true, \"showland\": true, \"subunitcolor\": \"white\"}, \"hoverlabel\": {\"align\": \"left\"}, \"hovermode\": \"closest\", \"mapbox\": {\"style\": \"light\"}, \"paper_bgcolor\": \"white\", \"plot_bgcolor\": \"#E5ECF6\", \"polar\": {\"angularaxis\": {\"gridcolor\": \"white\", \"linecolor\": \"white\", \"ticks\": \"\"}, \"bgcolor\": \"#E5ECF6\", \"radialaxis\": {\"gridcolor\": \"white\", \"linecolor\": \"white\", \"ticks\": \"\"}}, \"scene\": {\"xaxis\": {\"backgroundcolor\": \"#E5ECF6\", \"gridcolor\": \"white\", \"gridwidth\": 2, \"linecolor\": \"white\", \"showbackground\": true, \"ticks\": \"\", \"zerolinecolor\": \"white\"}, \"yaxis\": {\"backgroundcolor\": \"#E5ECF6\", \"gridcolor\": \"white\", \"gridwidth\": 2, \"linecolor\": \"white\", \"showbackground\": true, \"ticks\": \"\", \"zerolinecolor\": \"white\"}, \"zaxis\": {\"backgroundcolor\": \"#E5ECF6\", \"gridcolor\": \"white\", \"gridwidth\": 2, \"linecolor\": \"white\", \"showbackground\": true, \"ticks\": \"\", \"zerolinecolor\": \"white\"}}, \"shapedefaults\": {\"line\": {\"color\": \"#2a3f5f\"}}, \"ternary\": {\"aaxis\": {\"gridcolor\": \"white\", \"linecolor\": \"white\", \"ticks\": \"\"}, \"baxis\": {\"gridcolor\": \"white\", \"linecolor\": \"white\", \"ticks\": \"\"}, \"bgcolor\": \"#E5ECF6\", \"caxis\": {\"gridcolor\": \"white\", \"linecolor\": \"white\", \"ticks\": \"\"}}, \"title\": {\"x\": 0.05}, \"xaxis\": {\"automargin\": true, \"gridcolor\": \"white\", \"linecolor\": \"white\", \"ticks\": \"\", \"title\": {\"standoff\": 15}, \"zerolinecolor\": \"white\", \"zerolinewidth\": 2}, \"yaxis\": {\"automargin\": true, \"gridcolor\": \"white\", \"linecolor\": \"white\", \"ticks\": \"\", \"title\": {\"standoff\": 15}, \"zerolinecolor\": \"white\", \"zerolinewidth\": 2}}}, \"title\": {\"text\": \"Distribution of word counts within comments\"}, \"xaxis\": {\"title\": {\"text\": \"Word Count\"}}, \"yaxis\": {\"title\": {\"text\": \"Frequency\"}}},\n",
              "                        {\"responsive\": true}\n",
              "                    ).then(function(){\n",
              "                            \n",
              "var gd = document.getElementById('1a467d04-c33d-4bb3-9110-5818c734e4a5');\n",
              "var x = new MutationObserver(function (mutations, observer) {{\n",
              "        var display = window.getComputedStyle(gd).display;\n",
              "        if (!display || display === 'none') {{\n",
              "            console.log([gd, 'removed!']);\n",
              "            Plotly.purge(gd);\n",
              "            observer.disconnect();\n",
              "        }}\n",
              "}});\n",
              "\n",
              "// Listen for the removal of the full notebook cells\n",
              "var notebookContainer = gd.closest('#notebook-container');\n",
              "if (notebookContainer) {{\n",
              "    x.observe(notebookContainer, {childList: true});\n",
              "}}\n",
              "\n",
              "// Listen for the clearing of the current output cell\n",
              "var outputEl = gd.closest('.output');\n",
              "if (outputEl) {{\n",
              "    x.observe(outputEl, {childList: true});\n",
              "}}\n",
              "\n",
              "                        })\n",
              "                };\n",
              "                \n",
              "            </script>\n",
              "        </div>\n",
              "</body>\n",
              "</html>"
            ]
          },
          "metadata": {
            "tags": []
          }
        }
      ]
    },
    {
      "cell_type": "code",
      "metadata": {
        "id": "LcATQe21Q5w5",
        "colab": {
          "base_uri": "https://localhost:8080/"
        },
        "outputId": "3fafca6b-bdef-4bec-834c-66c5e71acf27"
      },
      "source": [
        "unique_topics = list(sorted(data['topic'].unique()))\n",
        "print(f'We have #{len(unique_topics)}: {unique_topics}')"
      ],
      "execution_count": 21,
      "outputs": [
        {
          "output_type": "stream",
          "text": [
            "We have #42: ['استارتاپ', 'اقتصاد', 'امنیت-سایبری', 'اینترنت-اشیا', 'بازاریابی', 'بازی-رایانه-ای', 'برنامه-نویسی', 'بهره-وری', 'تاریخ', 'تجربه-کاربری', 'تحصیلی-و-آموزشی', 'حقوقی', 'خانواده', 'خودشناسی', 'داستان', 'رابطه', 'روانشناسی', 'سفر', 'سلامت', 'سلامت-روانی', 'سیاست', 'شبکه-اجتماعی', 'شغل-و-کار', 'عکاسی', 'غذا', 'فرهنگ', 'فریلنسری', 'فلسفه', 'فیلم-و-سینما', 'فین-تک', 'محیط-زیست', 'مذهبی', 'مهندسی-نرم-افزار', 'موسیقی', 'موفقیت', 'هنر', 'هوا-فضا', 'هوش-مصنوعی', 'ورزشی', 'پول-رمزی', 'کارآفرینی', 'کتاب']\n"
          ],
          "name": "stdout"
        }
      ]
    },
    {
      "cell_type": "code",
      "metadata": {
        "id": "5LK7mKa2Q_VK",
        "colab": {
          "base_uri": "https://localhost:8080/",
          "height": 542
        },
        "outputId": "8c26759b-aa06-48b0-80e2-8ef9b6b67136"
      },
      "source": [
        "fig = go.Figure()\n",
        "\n",
        "groupby_rate = data.groupby('topic')['topic'].count()\n",
        "\n",
        "fig.add_trace(go.Bar(\n",
        "    x=list(sorted(groupby_rate.index)),\n",
        "    y=groupby_rate.tolist(),\n",
        "    text=groupby_rate.tolist(),\n",
        "    textposition='auto'\n",
        "))\n",
        "\n",
        "fig.update_layout(\n",
        "    title_text='Distribution of topic within comments',\n",
        "    xaxis_title_text='Topic',\n",
        "    yaxis_title_text='Frequency',\n",
        "    bargap=0.2,\n",
        "    bargroupgap=0.2)\n",
        "\n",
        "fig.show()"
      ],
      "execution_count": 22,
      "outputs": [
        {
          "output_type": "display_data",
          "data": {
            "text/html": [
              "<html>\n",
              "<head><meta charset=\"utf-8\" /></head>\n",
              "<body>\n",
              "    <div>\n",
              "            <script src=\"https://cdnjs.cloudflare.com/ajax/libs/mathjax/2.7.5/MathJax.js?config=TeX-AMS-MML_SVG\"></script><script type=\"text/javascript\">if (window.MathJax) {MathJax.Hub.Config({SVG: {font: \"STIX-Web\"}});}</script>\n",
              "                <script type=\"text/javascript\">window.PlotlyConfig = {MathJaxConfig: 'local'};</script>\n",
              "        <script src=\"https://cdn.plot.ly/plotly-latest.min.js\"></script>    \n",
              "            <div id=\"23e0050f-1822-4cf5-8b8b-85ec2c228961\" class=\"plotly-graph-div\" style=\"height:525px; width:100%;\"></div>\n",
              "            <script type=\"text/javascript\">\n",
              "                \n",
              "                    window.PLOTLYENV=window.PLOTLYENV || {};\n",
              "                    \n",
              "                if (document.getElementById(\"23e0050f-1822-4cf5-8b8b-85ec2c228961\")) {\n",
              "                    Plotly.newPlot(\n",
              "                        '23e0050f-1822-4cf5-8b8b-85ec2c228961',\n",
              "                        [{\"text\": [\"1932\", \"1943\", \"1941\", \"507\", \"3736\", \"1182\", \"9090\", \"806\", \"860\", \"1764\", \"2460\", \"1333\", \"1099\", \"2948\", \"9308\", \"751\", \"493\", \"1695\", \"3011\", \"727\", \"1006\", \"1475\", \"995\", \"889\", \"1460\", \"363\", \"425\", \"1029\", \"2352\", \"752\", \"972\", \"2236\", \"21\", \"724\", \"1571\", \"401\", \"336\", \"478\", \"831\", \"1070\", \"422\", \"2187\"], \"textposition\": \"auto\", \"type\": \"bar\", \"x\": [\"\\u0627\\u0633\\u062a\\u0627\\u0631\\u062a\\u0627\\u067e\", \"\\u0627\\u0642\\u062a\\u0635\\u0627\\u062f\", \"\\u0627\\u0645\\u0646\\u06cc\\u062a-\\u0633\\u0627\\u06cc\\u0628\\u0631\\u06cc\", \"\\u0627\\u06cc\\u0646\\u062a\\u0631\\u0646\\u062a-\\u0627\\u0634\\u06cc\\u0627\", \"\\u0628\\u0627\\u0632\\u0627\\u0631\\u06cc\\u0627\\u0628\\u06cc\", \"\\u0628\\u0627\\u0632\\u06cc-\\u0631\\u0627\\u06cc\\u0627\\u0646\\u0647-\\u0627\\u06cc\", \"\\u0628\\u0631\\u0646\\u0627\\u0645\\u0647-\\u0646\\u0648\\u06cc\\u0633\\u06cc\", \"\\u0628\\u0647\\u0631\\u0647-\\u0648\\u0631\\u06cc\", \"\\u062a\\u0627\\u0631\\u06cc\\u062e\", \"\\u062a\\u062c\\u0631\\u0628\\u0647-\\u06a9\\u0627\\u0631\\u0628\\u0631\\u06cc\", \"\\u062a\\u062d\\u0635\\u06cc\\u0644\\u06cc-\\u0648-\\u0622\\u0645\\u0648\\u0632\\u0634\\u06cc\", \"\\u062d\\u0642\\u0648\\u0642\\u06cc\", \"\\u062e\\u0627\\u0646\\u0648\\u0627\\u062f\\u0647\", \"\\u062e\\u0648\\u062f\\u0634\\u0646\\u0627\\u0633\\u06cc\", \"\\u062f\\u0627\\u0633\\u062a\\u0627\\u0646\", \"\\u0631\\u0627\\u0628\\u0637\\u0647\", \"\\u0631\\u0648\\u0627\\u0646\\u0634\\u0646\\u0627\\u0633\\u06cc\", \"\\u0633\\u0641\\u0631\", \"\\u0633\\u0644\\u0627\\u0645\\u062a\", \"\\u0633\\u0644\\u0627\\u0645\\u062a-\\u0631\\u0648\\u0627\\u0646\\u06cc\", \"\\u0633\\u06cc\\u0627\\u0633\\u062a\", \"\\u0634\\u0628\\u06a9\\u0647-\\u0627\\u062c\\u062a\\u0645\\u0627\\u0639\\u06cc\", \"\\u0634\\u063a\\u0644-\\u0648-\\u06a9\\u0627\\u0631\", \"\\u0639\\u06a9\\u0627\\u0633\\u06cc\", \"\\u063a\\u0630\\u0627\", \"\\u0641\\u0631\\u0647\\u0646\\u06af\", \"\\u0641\\u0631\\u06cc\\u0644\\u0646\\u0633\\u0631\\u06cc\", \"\\u0641\\u0644\\u0633\\u0641\\u0647\", \"\\u0641\\u06cc\\u0644\\u0645-\\u0648-\\u0633\\u06cc\\u0646\\u0645\\u0627\", \"\\u0641\\u06cc\\u0646-\\u062a\\u06a9\", \"\\u0645\\u062d\\u06cc\\u0637-\\u0632\\u06cc\\u0633\\u062a\", \"\\u0645\\u0630\\u0647\\u0628\\u06cc\", \"\\u0645\\u0647\\u0646\\u062f\\u0633\\u06cc-\\u0646\\u0631\\u0645-\\u0627\\u0641\\u0632\\u0627\\u0631\", \"\\u0645\\u0648\\u0633\\u06cc\\u0642\\u06cc\", \"\\u0645\\u0648\\u0641\\u0642\\u06cc\\u062a\", \"\\u0647\\u0646\\u0631\", \"\\u0647\\u0648\\u0627-\\u0641\\u0636\\u0627\", \"\\u0647\\u0648\\u0634-\\u0645\\u0635\\u0646\\u0648\\u0639\\u06cc\", \"\\u0648\\u0631\\u0632\\u0634\\u06cc\", \"\\u067e\\u0648\\u0644-\\u0631\\u0645\\u0632\\u06cc\", \"\\u06a9\\u0627\\u0631\\u0622\\u0641\\u0631\\u06cc\\u0646\\u06cc\", \"\\u06a9\\u062a\\u0627\\u0628\"], \"y\": [1932, 1943, 1941, 507, 3736, 1182, 9090, 806, 860, 1764, 2460, 1333, 1099, 2948, 9308, 751, 493, 1695, 3011, 727, 1006, 1475, 995, 889, 1460, 363, 425, 1029, 2352, 752, 972, 2236, 21, 724, 1571, 401, 336, 478, 831, 1070, 422, 2187]}],\n",
              "                        {\"bargap\": 0.2, \"bargroupgap\": 0.2, \"template\": {\"data\": {\"bar\": [{\"error_x\": {\"color\": \"#2a3f5f\"}, \"error_y\": {\"color\": \"#2a3f5f\"}, \"marker\": {\"line\": {\"color\": \"#E5ECF6\", \"width\": 0.5}}, \"type\": \"bar\"}], \"barpolar\": [{\"marker\": {\"line\": {\"color\": \"#E5ECF6\", \"width\": 0.5}}, \"type\": \"barpolar\"}], \"carpet\": [{\"aaxis\": {\"endlinecolor\": \"#2a3f5f\", \"gridcolor\": \"white\", \"linecolor\": \"white\", \"minorgridcolor\": \"white\", \"startlinecolor\": \"#2a3f5f\"}, \"baxis\": {\"endlinecolor\": \"#2a3f5f\", \"gridcolor\": \"white\", \"linecolor\": \"white\", \"minorgridcolor\": \"white\", \"startlinecolor\": \"#2a3f5f\"}, \"type\": \"carpet\"}], \"choropleth\": [{\"colorbar\": {\"outlinewidth\": 0, \"ticks\": \"\"}, \"type\": \"choropleth\"}], \"contour\": [{\"colorbar\": {\"outlinewidth\": 0, \"ticks\": \"\"}, \"colorscale\": [[0.0, \"#0d0887\"], [0.1111111111111111, \"#46039f\"], [0.2222222222222222, \"#7201a8\"], [0.3333333333333333, \"#9c179e\"], [0.4444444444444444, \"#bd3786\"], [0.5555555555555556, \"#d8576b\"], [0.6666666666666666, \"#ed7953\"], [0.7777777777777778, \"#fb9f3a\"], [0.8888888888888888, \"#fdca26\"], [1.0, \"#f0f921\"]], \"type\": \"contour\"}], \"contourcarpet\": [{\"colorbar\": {\"outlinewidth\": 0, \"ticks\": \"\"}, \"type\": \"contourcarpet\"}], \"heatmap\": [{\"colorbar\": {\"outlinewidth\": 0, \"ticks\": \"\"}, \"colorscale\": [[0.0, \"#0d0887\"], [0.1111111111111111, \"#46039f\"], [0.2222222222222222, \"#7201a8\"], [0.3333333333333333, \"#9c179e\"], [0.4444444444444444, \"#bd3786\"], [0.5555555555555556, \"#d8576b\"], [0.6666666666666666, \"#ed7953\"], [0.7777777777777778, \"#fb9f3a\"], [0.8888888888888888, \"#fdca26\"], [1.0, \"#f0f921\"]], \"type\": \"heatmap\"}], \"heatmapgl\": [{\"colorbar\": {\"outlinewidth\": 0, \"ticks\": \"\"}, \"colorscale\": [[0.0, \"#0d0887\"], [0.1111111111111111, \"#46039f\"], [0.2222222222222222, \"#7201a8\"], [0.3333333333333333, \"#9c179e\"], [0.4444444444444444, \"#bd3786\"], [0.5555555555555556, \"#d8576b\"], [0.6666666666666666, \"#ed7953\"], [0.7777777777777778, \"#fb9f3a\"], [0.8888888888888888, \"#fdca26\"], [1.0, \"#f0f921\"]], \"type\": \"heatmapgl\"}], \"histogram\": [{\"marker\": {\"colorbar\": {\"outlinewidth\": 0, \"ticks\": \"\"}}, \"type\": \"histogram\"}], \"histogram2d\": [{\"colorbar\": {\"outlinewidth\": 0, \"ticks\": \"\"}, \"colorscale\": [[0.0, \"#0d0887\"], [0.1111111111111111, \"#46039f\"], [0.2222222222222222, \"#7201a8\"], [0.3333333333333333, \"#9c179e\"], [0.4444444444444444, \"#bd3786\"], [0.5555555555555556, \"#d8576b\"], [0.6666666666666666, \"#ed7953\"], [0.7777777777777778, \"#fb9f3a\"], [0.8888888888888888, \"#fdca26\"], [1.0, \"#f0f921\"]], \"type\": \"histogram2d\"}], \"histogram2dcontour\": [{\"colorbar\": {\"outlinewidth\": 0, \"ticks\": \"\"}, \"colorscale\": [[0.0, \"#0d0887\"], [0.1111111111111111, \"#46039f\"], [0.2222222222222222, \"#7201a8\"], [0.3333333333333333, \"#9c179e\"], [0.4444444444444444, \"#bd3786\"], [0.5555555555555556, \"#d8576b\"], [0.6666666666666666, \"#ed7953\"], [0.7777777777777778, \"#fb9f3a\"], [0.8888888888888888, \"#fdca26\"], [1.0, \"#f0f921\"]], \"type\": \"histogram2dcontour\"}], \"mesh3d\": [{\"colorbar\": {\"outlinewidth\": 0, \"ticks\": \"\"}, \"type\": \"mesh3d\"}], \"parcoords\": [{\"line\": {\"colorbar\": {\"outlinewidth\": 0, \"ticks\": \"\"}}, \"type\": \"parcoords\"}], \"pie\": [{\"automargin\": true, \"type\": \"pie\"}], \"scatter\": [{\"marker\": {\"colorbar\": {\"outlinewidth\": 0, \"ticks\": \"\"}}, \"type\": \"scatter\"}], \"scatter3d\": [{\"line\": {\"colorbar\": {\"outlinewidth\": 0, \"ticks\": \"\"}}, \"marker\": {\"colorbar\": {\"outlinewidth\": 0, \"ticks\": \"\"}}, \"type\": \"scatter3d\"}], \"scattercarpet\": [{\"marker\": {\"colorbar\": {\"outlinewidth\": 0, \"ticks\": \"\"}}, \"type\": \"scattercarpet\"}], \"scattergeo\": [{\"marker\": {\"colorbar\": {\"outlinewidth\": 0, \"ticks\": \"\"}}, \"type\": \"scattergeo\"}], \"scattergl\": [{\"marker\": {\"colorbar\": {\"outlinewidth\": 0, \"ticks\": \"\"}}, \"type\": \"scattergl\"}], \"scattermapbox\": [{\"marker\": {\"colorbar\": {\"outlinewidth\": 0, \"ticks\": \"\"}}, \"type\": \"scattermapbox\"}], \"scatterpolar\": [{\"marker\": {\"colorbar\": {\"outlinewidth\": 0, \"ticks\": \"\"}}, \"type\": \"scatterpolar\"}], \"scatterpolargl\": [{\"marker\": {\"colorbar\": {\"outlinewidth\": 0, \"ticks\": \"\"}}, \"type\": \"scatterpolargl\"}], \"scatterternary\": [{\"marker\": {\"colorbar\": {\"outlinewidth\": 0, \"ticks\": \"\"}}, \"type\": \"scatterternary\"}], \"surface\": [{\"colorbar\": {\"outlinewidth\": 0, \"ticks\": \"\"}, \"colorscale\": [[0.0, \"#0d0887\"], [0.1111111111111111, \"#46039f\"], [0.2222222222222222, \"#7201a8\"], [0.3333333333333333, \"#9c179e\"], [0.4444444444444444, \"#bd3786\"], [0.5555555555555556, \"#d8576b\"], [0.6666666666666666, \"#ed7953\"], [0.7777777777777778, \"#fb9f3a\"], [0.8888888888888888, \"#fdca26\"], [1.0, \"#f0f921\"]], \"type\": \"surface\"}], \"table\": [{\"cells\": {\"fill\": {\"color\": \"#EBF0F8\"}, \"line\": {\"color\": \"white\"}}, \"header\": {\"fill\": {\"color\": \"#C8D4E3\"}, \"line\": {\"color\": \"white\"}}, \"type\": \"table\"}]}, \"layout\": {\"annotationdefaults\": {\"arrowcolor\": \"#2a3f5f\", \"arrowhead\": 0, \"arrowwidth\": 1}, \"coloraxis\": {\"colorbar\": {\"outlinewidth\": 0, \"ticks\": \"\"}}, \"colorscale\": {\"diverging\": [[0, \"#8e0152\"], [0.1, \"#c51b7d\"], [0.2, \"#de77ae\"], [0.3, \"#f1b6da\"], [0.4, \"#fde0ef\"], [0.5, \"#f7f7f7\"], [0.6, \"#e6f5d0\"], [0.7, \"#b8e186\"], [0.8, \"#7fbc41\"], [0.9, \"#4d9221\"], [1, \"#276419\"]], \"sequential\": [[0.0, \"#0d0887\"], [0.1111111111111111, \"#46039f\"], [0.2222222222222222, \"#7201a8\"], [0.3333333333333333, \"#9c179e\"], [0.4444444444444444, \"#bd3786\"], [0.5555555555555556, \"#d8576b\"], [0.6666666666666666, \"#ed7953\"], [0.7777777777777778, \"#fb9f3a\"], [0.8888888888888888, \"#fdca26\"], [1.0, \"#f0f921\"]], \"sequentialminus\": [[0.0, \"#0d0887\"], [0.1111111111111111, \"#46039f\"], [0.2222222222222222, \"#7201a8\"], [0.3333333333333333, \"#9c179e\"], [0.4444444444444444, \"#bd3786\"], [0.5555555555555556, \"#d8576b\"], [0.6666666666666666, \"#ed7953\"], [0.7777777777777778, \"#fb9f3a\"], [0.8888888888888888, \"#fdca26\"], [1.0, \"#f0f921\"]]}, \"colorway\": [\"#636efa\", \"#EF553B\", \"#00cc96\", \"#ab63fa\", \"#FFA15A\", \"#19d3f3\", \"#FF6692\", \"#B6E880\", \"#FF97FF\", \"#FECB52\"], \"font\": {\"color\": \"#2a3f5f\"}, \"geo\": {\"bgcolor\": \"white\", \"lakecolor\": \"white\", \"landcolor\": \"#E5ECF6\", \"showlakes\": true, \"showland\": true, \"subunitcolor\": \"white\"}, \"hoverlabel\": {\"align\": \"left\"}, \"hovermode\": \"closest\", \"mapbox\": {\"style\": \"light\"}, \"paper_bgcolor\": \"white\", \"plot_bgcolor\": \"#E5ECF6\", \"polar\": {\"angularaxis\": {\"gridcolor\": \"white\", \"linecolor\": \"white\", \"ticks\": \"\"}, \"bgcolor\": \"#E5ECF6\", \"radialaxis\": {\"gridcolor\": \"white\", \"linecolor\": \"white\", \"ticks\": \"\"}}, \"scene\": {\"xaxis\": {\"backgroundcolor\": \"#E5ECF6\", \"gridcolor\": \"white\", \"gridwidth\": 2, \"linecolor\": \"white\", \"showbackground\": true, \"ticks\": \"\", \"zerolinecolor\": \"white\"}, \"yaxis\": {\"backgroundcolor\": \"#E5ECF6\", \"gridcolor\": \"white\", \"gridwidth\": 2, \"linecolor\": \"white\", \"showbackground\": true, \"ticks\": \"\", \"zerolinecolor\": \"white\"}, \"zaxis\": {\"backgroundcolor\": \"#E5ECF6\", \"gridcolor\": \"white\", \"gridwidth\": 2, \"linecolor\": \"white\", \"showbackground\": true, \"ticks\": \"\", \"zerolinecolor\": \"white\"}}, \"shapedefaults\": {\"line\": {\"color\": \"#2a3f5f\"}}, \"ternary\": {\"aaxis\": {\"gridcolor\": \"white\", \"linecolor\": \"white\", \"ticks\": \"\"}, \"baxis\": {\"gridcolor\": \"white\", \"linecolor\": \"white\", \"ticks\": \"\"}, \"bgcolor\": \"#E5ECF6\", \"caxis\": {\"gridcolor\": \"white\", \"linecolor\": \"white\", \"ticks\": \"\"}}, \"title\": {\"x\": 0.05}, \"xaxis\": {\"automargin\": true, \"gridcolor\": \"white\", \"linecolor\": \"white\", \"ticks\": \"\", \"title\": {\"standoff\": 15}, \"zerolinecolor\": \"white\", \"zerolinewidth\": 2}, \"yaxis\": {\"automargin\": true, \"gridcolor\": \"white\", \"linecolor\": \"white\", \"ticks\": \"\", \"title\": {\"standoff\": 15}, \"zerolinecolor\": \"white\", \"zerolinewidth\": 2}}}, \"title\": {\"text\": \"Distribution of topic within comments\"}, \"xaxis\": {\"title\": {\"text\": \"Topic\"}}, \"yaxis\": {\"title\": {\"text\": \"Frequency\"}}},\n",
              "                        {\"responsive\": true}\n",
              "                    ).then(function(){\n",
              "                            \n",
              "var gd = document.getElementById('23e0050f-1822-4cf5-8b8b-85ec2c228961');\n",
              "var x = new MutationObserver(function (mutations, observer) {{\n",
              "        var display = window.getComputedStyle(gd).display;\n",
              "        if (!display || display === 'none') {{\n",
              "            console.log([gd, 'removed!']);\n",
              "            Plotly.purge(gd);\n",
              "            observer.disconnect();\n",
              "        }}\n",
              "}});\n",
              "\n",
              "// Listen for the removal of the full notebook cells\n",
              "var notebookContainer = gd.closest('#notebook-container');\n",
              "if (notebookContainer) {{\n",
              "    x.observe(notebookContainer, {childList: true});\n",
              "}}\n",
              "\n",
              "// Listen for the clearing of the current output cell\n",
              "var outputEl = gd.closest('.output');\n",
              "if (outputEl) {{\n",
              "    x.observe(outputEl, {childList: true});\n",
              "}}\n",
              "\n",
              "                        })\n",
              "                };\n",
              "                \n",
              "            </script>\n",
              "        </div>\n",
              "</body>\n",
              "</html>"
            ]
          },
          "metadata": {
            "tags": []
          }
        }
      ]
    },
    {
      "cell_type": "markdown",
      "metadata": {
        "id": "wMn63nr5RCz2"
      },
      "source": [
        "For simplicity, I transformed the rate in a range of 0.0 to 5.0 to a binary form of negative (0) or positive (1) with a threshold. If the rate is less than 3.0, it labeled as negative otherwise specified as positive."
      ]
    },
    {
      "cell_type": "code",
      "metadata": {
        "id": "Dynel4daRAgZ",
        "colab": {
          "base_uri": "https://localhost:8080/",
          "height": 206
        },
        "outputId": "cb1d998d-94f7-41f1-98e9-517830322067"
      },
      "source": [
        "# def rate_to_label(rate, threshold=3.0):\n",
        "#     if rate <= threshold:\n",
        "#         return 'negative'\n",
        "#     else:\n",
        "#         return 'positive'\n",
        "\n",
        "\n",
        "# data['label'] = data['topic'].apply(lambda t: rate_to_label(t, 3.0))\n",
        "\n",
        "# for i in range((df.shape[0])):\n",
        "data.loc[(data.topic == \"غذا\" ), 'label'] = int(0)\n",
        "data.loc[(data.topic == \"امنیت-سایبری\" ), 'label'] = int(1)\n",
        "data.loc[(data.topic == \"هوش-مصنوعی\" ), 'label'] = 2\n",
        "data.loc[(data.topic == \"هوا-فضا\" ), 'label'] = 3    \n",
        "data.loc[(data.topic == \"برنامه-نویسی\" ), 'label'] = 4\n",
        "# df.loc[(df.topic == \"استارتاپ\" ), 'label_t'] = 5\n",
        "\n",
        "data.dropna(subset = [\"label\"], inplace=True)\n",
        "data.head(3)\n",
        "# df.shape\n",
        "\n",
        "\n",
        "\n",
        "\n",
        "labels = list(sorted(data['label'].unique()))\n",
        "data.head()"
      ],
      "execution_count": 23,
      "outputs": [
        {
          "output_type": "execute_result",
          "data": {
            "text/html": [
              "<div>\n",
              "<style scoped>\n",
              "    .dataframe tbody tr th:only-of-type {\n",
              "        vertical-align: middle;\n",
              "    }\n",
              "\n",
              "    .dataframe tbody tr th {\n",
              "        vertical-align: top;\n",
              "    }\n",
              "\n",
              "    .dataframe thead th {\n",
              "        text-align: right;\n",
              "    }\n",
              "</style>\n",
              "<table border=\"1\" class=\"dataframe\">\n",
              "  <thead>\n",
              "    <tr style=\"text-align: right;\">\n",
              "      <th></th>\n",
              "      <th>text</th>\n",
              "      <th>topic</th>\n",
              "      <th>comment_len_by_words</th>\n",
              "      <th>label</th>\n",
              "    </tr>\n",
              "  </thead>\n",
              "  <tbody>\n",
              "    <tr>\n",
              "      <th>6111</th>\n",
              "      <td>مدیرعامل حوزه امنیت جدید گزارش خانم موفق برتر ...</td>\n",
              "      <td>امنیت-سایبری</td>\n",
              "      <td>85.0</td>\n",
              "      <td>1.0</td>\n",
              "    </tr>\n",
              "    <tr>\n",
              "      <th>6112</th>\n",
              "      <td>شرکت اینترنت دورانتاش انتی ویروس انتخاب توافق ...</td>\n",
              "      <td>امنیت-سایبری</td>\n",
              "      <td>105.0</td>\n",
              "      <td>1.0</td>\n",
              "    </tr>\n",
              "    <tr>\n",
              "      <th>6113</th>\n",
              "      <td>رهبر بازار معرف فصل جدید گزارش مربوط کمپانی اخ...</td>\n",
              "      <td>امنیت-سایبری</td>\n",
              "      <td>89.0</td>\n",
              "      <td>1.0</td>\n",
              "    </tr>\n",
              "    <tr>\n",
              "      <th>6114</th>\n",
              "      <td>نقص سیستم عامل نرم افزار اینترنت وصل اپدیت نتی...</td>\n",
              "      <td>امنیت-سایبری</td>\n",
              "      <td>67.0</td>\n",
              "      <td>1.0</td>\n",
              "    </tr>\n",
              "    <tr>\n",
              "      <th>6115</th>\n",
              "      <td>دوستان اوضاع ماه درگیر دوره جالب سنگین مطالب ت...</td>\n",
              "      <td>امنیت-سایبری</td>\n",
              "      <td>125.0</td>\n",
              "      <td>1.0</td>\n",
              "    </tr>\n",
              "  </tbody>\n",
              "</table>\n",
              "</div>"
            ],
            "text/plain": [
              "                                                   text  ... label\n",
              "6111  مدیرعامل حوزه امنیت جدید گزارش خانم موفق برتر ...  ...   1.0\n",
              "6112  شرکت اینترنت دورانتاش انتی ویروس انتخاب توافق ...  ...   1.0\n",
              "6113  رهبر بازار معرف فصل جدید گزارش مربوط کمپانی اخ...  ...   1.0\n",
              "6114  نقص سیستم عامل نرم افزار اینترنت وصل اپدیت نتی...  ...   1.0\n",
              "6115  دوستان اوضاع ماه درگیر دوره جالب سنگین مطالب ت...  ...   1.0\n",
              "\n",
              "[5 rows x 4 columns]"
            ]
          },
          "metadata": {
            "tags": []
          },
          "execution_count": 23
        }
      ]
    },
    {
      "cell_type": "markdown",
      "metadata": {
        "id": "fCQfM5DmRGG-"
      },
      "source": [
        "Cleaning is the final step in this section. Our cleaned method includes these steps:\n",
        "\n",
        "- fixing unicodes\n",
        "- removing specials like a phone number, email, url, new lines, ...\n",
        "- cleaning HTMLs\n",
        "- normalizing\n",
        "- removing emojis"
      ]
    },
    {
      "cell_type": "code",
      "metadata": {
        "id": "CRX3CZT6REFh"
      },
      "source": [
        "def cleanhtml(raw_html):\n",
        "    cleanr = re.compile('<.*?>')\n",
        "    cleantext = re.sub(cleanr, '', raw_html)\n",
        "    return cleantext\n",
        "\n",
        "\n",
        "def cleaning(text):\n",
        "    text = text.strip()\n",
        "    \n",
        "    # regular cleaning\n",
        "    text = clean(text,\n",
        "        fix_unicode=True,\n",
        "        to_ascii=False,\n",
        "        lower=True,\n",
        "        no_line_breaks=True,\n",
        "        no_urls=True,\n",
        "        no_emails=True,\n",
        "        no_phone_numbers=True,\n",
        "        no_numbers=False,\n",
        "        no_digits=False,\n",
        "        no_currency_symbols=True,\n",
        "        no_punct=False,\n",
        "        replace_with_url=\"\",\n",
        "        replace_with_email=\"\",\n",
        "        replace_with_phone_number=\"\",\n",
        "        replace_with_number=\"\",\n",
        "        replace_with_digit=\"0\",\n",
        "        replace_with_currency_symbol=\"\",\n",
        "    )\n",
        "\n",
        "    # cleaning htmls\n",
        "    text = cleanhtml(text)\n",
        "    \n",
        "    # normalizing\n",
        "    normalizer = hazm.Normalizer()\n",
        "    text = normalizer.normalize(text)\n",
        "    \n",
        "    # removing wierd patterns\n",
        "    wierd_pattern = re.compile(\"[\"\n",
        "        u\"\\U0001F600-\\U0001F64F\"  # emoticons\n",
        "        u\"\\U0001F300-\\U0001F5FF\"  # symbols & pictographs\n",
        "        u\"\\U0001F680-\\U0001F6FF\"  # transport & map symbols\n",
        "        u\"\\U0001F1E0-\\U0001F1FF\"  # flags (iOS)\n",
        "        u\"\\U00002702-\\U000027B0\"\n",
        "        u\"\\U000024C2-\\U0001F251\"\n",
        "        u\"\\U0001f926-\\U0001f937\"\n",
        "        u'\\U00010000-\\U0010ffff'\n",
        "        u\"\\u200d\"\n",
        "        u\"\\u2640-\\u2642\"\n",
        "        u\"\\u2600-\\u2B55\"\n",
        "        u\"\\u23cf\"\n",
        "        u\"\\u23e9\"\n",
        "        u\"\\u231a\"\n",
        "        u\"\\u3030\"\n",
        "        u\"\\ufe0f\"\n",
        "        u\"\\u2069\"\n",
        "        u\"\\u2066\"\n",
        "        # u\"\\u200c\"\n",
        "        u\"\\u2068\"\n",
        "        u\"\\u2067\"\n",
        "        \"]+\", flags=re.UNICODE)\n",
        "    \n",
        "    text = wierd_pattern.sub(r'', text)\n",
        "    \n",
        "    # removing extra spaces, hashtags\n",
        "    text = re.sub(\"#\", \"\", text)\n",
        "    text = re.sub(\"\\s+\", \" \", text)\n",
        "    \n",
        "    return text"
      ],
      "execution_count": 24,
      "outputs": []
    },
    {
      "cell_type": "code",
      "metadata": {
        "id": "681o2WMERHbJ",
        "colab": {
          "base_uri": "https://localhost:8080/",
          "height": 293
        },
        "outputId": "3ba249d6-3184-4889-c388-f7a466a0c0f3"
      },
      "source": [
        "# cleaning comments\n",
        "data['cleaned_comment'] = data['text'].apply(cleaning)\n",
        "\n",
        "\n",
        "# calculate the length of comments based on their words\n",
        "data['cleaned_comment_len_by_words'] = data['cleaned_comment'].apply(lambda t: len(hazm.word_tokenize(t)))\n",
        "\n",
        "# remove comments with the length of fewer than three words\n",
        "data['cleaned_comment_len_by_words'] = data['cleaned_comment_len_by_words'].apply(lambda len_t: len_t if minlim < len_t <= maxlim else len_t)\n",
        "data = data.dropna(subset=['cleaned_comment_len_by_words'])\n",
        "data = data.reset_index(drop=True)\n",
        "\n",
        "data.head()"
      ],
      "execution_count": 25,
      "outputs": [
        {
          "output_type": "execute_result",
          "data": {
            "text/html": [
              "<div>\n",
              "<style scoped>\n",
              "    .dataframe tbody tr th:only-of-type {\n",
              "        vertical-align: middle;\n",
              "    }\n",
              "\n",
              "    .dataframe tbody tr th {\n",
              "        vertical-align: top;\n",
              "    }\n",
              "\n",
              "    .dataframe thead th {\n",
              "        text-align: right;\n",
              "    }\n",
              "</style>\n",
              "<table border=\"1\" class=\"dataframe\">\n",
              "  <thead>\n",
              "    <tr style=\"text-align: right;\">\n",
              "      <th></th>\n",
              "      <th>text</th>\n",
              "      <th>topic</th>\n",
              "      <th>comment_len_by_words</th>\n",
              "      <th>label</th>\n",
              "      <th>cleaned_comment</th>\n",
              "      <th>cleaned_comment_len_by_words</th>\n",
              "    </tr>\n",
              "  </thead>\n",
              "  <tbody>\n",
              "    <tr>\n",
              "      <th>0</th>\n",
              "      <td>مدیرعامل حوزه امنیت جدید گزارش خانم موفق برتر ...</td>\n",
              "      <td>امنیت-سایبری</td>\n",
              "      <td>85.0</td>\n",
              "      <td>1.0</td>\n",
              "      <td>مدیرعامل حوزه امنیت جدید گزارش خانم موفق برتر ...</td>\n",
              "      <td>85</td>\n",
              "    </tr>\n",
              "    <tr>\n",
              "      <th>1</th>\n",
              "      <td>شرکت اینترنت دورانتاش انتی ویروس انتخاب توافق ...</td>\n",
              "      <td>امنیت-سایبری</td>\n",
              "      <td>105.0</td>\n",
              "      <td>1.0</td>\n",
              "      <td>شرکت اینترنت دورانتاش انتی ویروس انتخاب توافق ...</td>\n",
              "      <td>105</td>\n",
              "    </tr>\n",
              "    <tr>\n",
              "      <th>2</th>\n",
              "      <td>رهبر بازار معرف فصل جدید گزارش مربوط کمپانی اخ...</td>\n",
              "      <td>امنیت-سایبری</td>\n",
              "      <td>89.0</td>\n",
              "      <td>1.0</td>\n",
              "      <td>رهبر بازار معرف فصل جدید گزارش مربوط کمپانی اخ...</td>\n",
              "      <td>89</td>\n",
              "    </tr>\n",
              "    <tr>\n",
              "      <th>3</th>\n",
              "      <td>نقص سیستم عامل نرم افزار اینترنت وصل اپدیت نتی...</td>\n",
              "      <td>امنیت-سایبری</td>\n",
              "      <td>67.0</td>\n",
              "      <td>1.0</td>\n",
              "      <td>نقص سیستم عامل نرم افزار اینترنت وصل اپدیت نتی...</td>\n",
              "      <td>67</td>\n",
              "    </tr>\n",
              "    <tr>\n",
              "      <th>4</th>\n",
              "      <td>دوستان اوضاع ماه درگیر دوره جالب سنگین مطالب ت...</td>\n",
              "      <td>امنیت-سایبری</td>\n",
              "      <td>125.0</td>\n",
              "      <td>1.0</td>\n",
              "      <td>دوستان اوضاع ماه درگیر دوره جالب سنگین مطالب ت...</td>\n",
              "      <td>125</td>\n",
              "    </tr>\n",
              "  </tbody>\n",
              "</table>\n",
              "</div>"
            ],
            "text/plain": [
              "                                                text  ... cleaned_comment_len_by_words\n",
              "0  مدیرعامل حوزه امنیت جدید گزارش خانم موفق برتر ...  ...                           85\n",
              "1  شرکت اینترنت دورانتاش انتی ویروس انتخاب توافق ...  ...                          105\n",
              "2  رهبر بازار معرف فصل جدید گزارش مربوط کمپانی اخ...  ...                           89\n",
              "3  نقص سیستم عامل نرم افزار اینترنت وصل اپدیت نتی...  ...                           67\n",
              "4  دوستان اوضاع ماه درگیر دوره جالب سنگین مطالب ت...  ...                          125\n",
              "\n",
              "[5 rows x 6 columns]"
            ]
          },
          "metadata": {
            "tags": []
          },
          "execution_count": 25
        }
      ]
    },
    {
      "cell_type": "code",
      "metadata": {
        "id": "GlBnHyl0RIzx",
        "colab": {
          "base_uri": "https://localhost:8080/",
          "height": 206
        },
        "outputId": "9abb14a8-6092-4ff5-fb1a-2e961abb5a17"
      },
      "source": [
        "data = data[['cleaned_comment', 'label']]\n",
        "data.columns = ['text', 'label']\n",
        "data.head()"
      ],
      "execution_count": 26,
      "outputs": [
        {
          "output_type": "execute_result",
          "data": {
            "text/html": [
              "<div>\n",
              "<style scoped>\n",
              "    .dataframe tbody tr th:only-of-type {\n",
              "        vertical-align: middle;\n",
              "    }\n",
              "\n",
              "    .dataframe tbody tr th {\n",
              "        vertical-align: top;\n",
              "    }\n",
              "\n",
              "    .dataframe thead th {\n",
              "        text-align: right;\n",
              "    }\n",
              "</style>\n",
              "<table border=\"1\" class=\"dataframe\">\n",
              "  <thead>\n",
              "    <tr style=\"text-align: right;\">\n",
              "      <th></th>\n",
              "      <th>text</th>\n",
              "      <th>label</th>\n",
              "    </tr>\n",
              "  </thead>\n",
              "  <tbody>\n",
              "    <tr>\n",
              "      <th>0</th>\n",
              "      <td>مدیرعامل حوزه امنیت جدید گزارش خانم موفق برتر ...</td>\n",
              "      <td>1.0</td>\n",
              "    </tr>\n",
              "    <tr>\n",
              "      <th>1</th>\n",
              "      <td>شرکت اینترنت دورانتاش انتی ویروس انتخاب توافق ...</td>\n",
              "      <td>1.0</td>\n",
              "    </tr>\n",
              "    <tr>\n",
              "      <th>2</th>\n",
              "      <td>رهبر بازار معرف فصل جدید گزارش مربوط کمپانی اخ...</td>\n",
              "      <td>1.0</td>\n",
              "    </tr>\n",
              "    <tr>\n",
              "      <th>3</th>\n",
              "      <td>نقص سیستم عامل نرم افزار اینترنت وصل اپدیت نتی...</td>\n",
              "      <td>1.0</td>\n",
              "    </tr>\n",
              "    <tr>\n",
              "      <th>4</th>\n",
              "      <td>دوستان اوضاع ماه درگیر دوره جالب سنگین مطالب ت...</td>\n",
              "      <td>1.0</td>\n",
              "    </tr>\n",
              "  </tbody>\n",
              "</table>\n",
              "</div>"
            ],
            "text/plain": [
              "                                                text  label\n",
              "0  مدیرعامل حوزه امنیت جدید گزارش خانم موفق برتر ...    1.0\n",
              "1  شرکت اینترنت دورانتاش انتی ویروس انتخاب توافق ...    1.0\n",
              "2  رهبر بازار معرف فصل جدید گزارش مربوط کمپانی اخ...    1.0\n",
              "3  نقص سیستم عامل نرم افزار اینترنت وصل اپدیت نتی...    1.0\n",
              "4  دوستان اوضاع ماه درگیر دوره جالب سنگین مطالب ت...    1.0"
            ]
          },
          "metadata": {
            "tags": []
          },
          "execution_count": 26
        }
      ]
    },
    {
      "cell_type": "code",
      "metadata": {
        "id": "48SPjTNFRKhQ",
        "colab": {
          "base_uri": "https://localhost:8080/"
        },
        "outputId": "4ade54bb-6c08-4ffd-d9df-48e183229bab"
      },
      "source": [
        "print(f'We have #{len(labels)} labels: {labels}')"
      ],
      "execution_count": 27,
      "outputs": [
        {
          "output_type": "stream",
          "text": [
            "We have #5 labels: [0.0, 1.0, 2.0, 3.0, 4.0]\n"
          ],
          "name": "stdout"
        }
      ]
    },
    {
      "cell_type": "markdown",
      "metadata": {
        "id": "Ny0D77atzqWT"
      },
      "source": [
        "### Handling Unbalanced Data"
      ]
    },
    {
      "cell_type": "code",
      "metadata": {
        "id": "RJXgPOw-zWu2",
        "colab": {
          "base_uri": "https://localhost:8080/",
          "height": 542
        },
        "outputId": "254c2d66-67a6-4d20-c2bf-43d5d4e13d3d"
      },
      "source": [
        "fig = go.Figure()\n",
        "\n",
        "groupby_label = data.groupby('label')['label'].count()\n",
        "\n",
        "fig.add_trace(go.Bar(\n",
        "    x=list(sorted(groupby_label.index)),\n",
        "    y=groupby_label.tolist(),\n",
        "    text=groupby_label.tolist(),\n",
        "    textposition='auto'\n",
        "))\n",
        "\n",
        "fig.update_layout(\n",
        "    title_text='Distribution of label within comments [DATA]',\n",
        "    xaxis_title_text='Label',\n",
        "    yaxis_title_text='Frequency',\n",
        "    bargap=0.2,\n",
        "    bargroupgap=0.2)\n",
        "\n",
        "fig.show()"
      ],
      "execution_count": 28,
      "outputs": [
        {
          "output_type": "display_data",
          "data": {
            "text/html": [
              "<html>\n",
              "<head><meta charset=\"utf-8\" /></head>\n",
              "<body>\n",
              "    <div>\n",
              "            <script src=\"https://cdnjs.cloudflare.com/ajax/libs/mathjax/2.7.5/MathJax.js?config=TeX-AMS-MML_SVG\"></script><script type=\"text/javascript\">if (window.MathJax) {MathJax.Hub.Config({SVG: {font: \"STIX-Web\"}});}</script>\n",
              "                <script type=\"text/javascript\">window.PlotlyConfig = {MathJaxConfig: 'local'};</script>\n",
              "        <script src=\"https://cdn.plot.ly/plotly-latest.min.js\"></script>    \n",
              "            <div id=\"cd9eeef0-f1d7-42ae-ba5f-0959adcb3060\" class=\"plotly-graph-div\" style=\"height:525px; width:100%;\"></div>\n",
              "            <script type=\"text/javascript\">\n",
              "                \n",
              "                    window.PLOTLYENV=window.PLOTLYENV || {};\n",
              "                    \n",
              "                if (document.getElementById(\"cd9eeef0-f1d7-42ae-ba5f-0959adcb3060\")) {\n",
              "                    Plotly.newPlot(\n",
              "                        'cd9eeef0-f1d7-42ae-ba5f-0959adcb3060',\n",
              "                        [{\"text\": [\"1460\", \"1941\", \"478\", \"336\", \"9090\"], \"textposition\": \"auto\", \"type\": \"bar\", \"x\": [0.0, 1.0, 2.0, 3.0, 4.0], \"y\": [1460, 1941, 478, 336, 9090]}],\n",
              "                        {\"bargap\": 0.2, \"bargroupgap\": 0.2, \"template\": {\"data\": {\"bar\": [{\"error_x\": {\"color\": \"#2a3f5f\"}, \"error_y\": {\"color\": \"#2a3f5f\"}, \"marker\": {\"line\": {\"color\": \"#E5ECF6\", \"width\": 0.5}}, \"type\": \"bar\"}], \"barpolar\": [{\"marker\": {\"line\": {\"color\": \"#E5ECF6\", \"width\": 0.5}}, \"type\": \"barpolar\"}], \"carpet\": [{\"aaxis\": {\"endlinecolor\": \"#2a3f5f\", \"gridcolor\": \"white\", \"linecolor\": \"white\", \"minorgridcolor\": \"white\", \"startlinecolor\": \"#2a3f5f\"}, \"baxis\": {\"endlinecolor\": \"#2a3f5f\", \"gridcolor\": \"white\", \"linecolor\": \"white\", \"minorgridcolor\": \"white\", \"startlinecolor\": \"#2a3f5f\"}, \"type\": \"carpet\"}], \"choropleth\": [{\"colorbar\": {\"outlinewidth\": 0, \"ticks\": \"\"}, \"type\": \"choropleth\"}], \"contour\": [{\"colorbar\": {\"outlinewidth\": 0, \"ticks\": \"\"}, \"colorscale\": [[0.0, \"#0d0887\"], [0.1111111111111111, \"#46039f\"], [0.2222222222222222, \"#7201a8\"], [0.3333333333333333, \"#9c179e\"], [0.4444444444444444, \"#bd3786\"], [0.5555555555555556, \"#d8576b\"], [0.6666666666666666, \"#ed7953\"], [0.7777777777777778, \"#fb9f3a\"], [0.8888888888888888, \"#fdca26\"], [1.0, \"#f0f921\"]], \"type\": \"contour\"}], \"contourcarpet\": [{\"colorbar\": {\"outlinewidth\": 0, \"ticks\": \"\"}, \"type\": \"contourcarpet\"}], \"heatmap\": [{\"colorbar\": {\"outlinewidth\": 0, \"ticks\": \"\"}, \"colorscale\": [[0.0, \"#0d0887\"], [0.1111111111111111, \"#46039f\"], [0.2222222222222222, \"#7201a8\"], [0.3333333333333333, \"#9c179e\"], [0.4444444444444444, \"#bd3786\"], [0.5555555555555556, \"#d8576b\"], [0.6666666666666666, \"#ed7953\"], [0.7777777777777778, \"#fb9f3a\"], [0.8888888888888888, \"#fdca26\"], [1.0, \"#f0f921\"]], \"type\": \"heatmap\"}], \"heatmapgl\": [{\"colorbar\": {\"outlinewidth\": 0, \"ticks\": \"\"}, \"colorscale\": [[0.0, \"#0d0887\"], [0.1111111111111111, \"#46039f\"], [0.2222222222222222, \"#7201a8\"], [0.3333333333333333, \"#9c179e\"], [0.4444444444444444, \"#bd3786\"], [0.5555555555555556, \"#d8576b\"], [0.6666666666666666, \"#ed7953\"], [0.7777777777777778, \"#fb9f3a\"], [0.8888888888888888, \"#fdca26\"], [1.0, \"#f0f921\"]], \"type\": \"heatmapgl\"}], \"histogram\": [{\"marker\": {\"colorbar\": {\"outlinewidth\": 0, \"ticks\": \"\"}}, \"type\": \"histogram\"}], \"histogram2d\": [{\"colorbar\": {\"outlinewidth\": 0, \"ticks\": \"\"}, \"colorscale\": [[0.0, \"#0d0887\"], [0.1111111111111111, \"#46039f\"], [0.2222222222222222, \"#7201a8\"], [0.3333333333333333, \"#9c179e\"], [0.4444444444444444, \"#bd3786\"], [0.5555555555555556, \"#d8576b\"], [0.6666666666666666, \"#ed7953\"], [0.7777777777777778, \"#fb9f3a\"], [0.8888888888888888, \"#fdca26\"], [1.0, \"#f0f921\"]], \"type\": \"histogram2d\"}], \"histogram2dcontour\": [{\"colorbar\": {\"outlinewidth\": 0, \"ticks\": \"\"}, \"colorscale\": [[0.0, \"#0d0887\"], [0.1111111111111111, \"#46039f\"], [0.2222222222222222, \"#7201a8\"], [0.3333333333333333, \"#9c179e\"], [0.4444444444444444, \"#bd3786\"], [0.5555555555555556, \"#d8576b\"], [0.6666666666666666, \"#ed7953\"], [0.7777777777777778, \"#fb9f3a\"], [0.8888888888888888, \"#fdca26\"], [1.0, \"#f0f921\"]], \"type\": \"histogram2dcontour\"}], \"mesh3d\": [{\"colorbar\": {\"outlinewidth\": 0, \"ticks\": \"\"}, \"type\": \"mesh3d\"}], \"parcoords\": [{\"line\": {\"colorbar\": {\"outlinewidth\": 0, \"ticks\": \"\"}}, \"type\": \"parcoords\"}], \"pie\": [{\"automargin\": true, \"type\": \"pie\"}], \"scatter\": [{\"marker\": {\"colorbar\": {\"outlinewidth\": 0, \"ticks\": \"\"}}, \"type\": \"scatter\"}], \"scatter3d\": [{\"line\": {\"colorbar\": {\"outlinewidth\": 0, \"ticks\": \"\"}}, \"marker\": {\"colorbar\": {\"outlinewidth\": 0, \"ticks\": \"\"}}, \"type\": \"scatter3d\"}], \"scattercarpet\": [{\"marker\": {\"colorbar\": {\"outlinewidth\": 0, \"ticks\": \"\"}}, \"type\": \"scattercarpet\"}], \"scattergeo\": [{\"marker\": {\"colorbar\": {\"outlinewidth\": 0, \"ticks\": \"\"}}, \"type\": \"scattergeo\"}], \"scattergl\": [{\"marker\": {\"colorbar\": {\"outlinewidth\": 0, \"ticks\": \"\"}}, \"type\": \"scattergl\"}], \"scattermapbox\": [{\"marker\": {\"colorbar\": {\"outlinewidth\": 0, \"ticks\": \"\"}}, \"type\": \"scattermapbox\"}], \"scatterpolar\": [{\"marker\": {\"colorbar\": {\"outlinewidth\": 0, \"ticks\": \"\"}}, \"type\": \"scatterpolar\"}], \"scatterpolargl\": [{\"marker\": {\"colorbar\": {\"outlinewidth\": 0, \"ticks\": \"\"}}, \"type\": \"scatterpolargl\"}], \"scatterternary\": [{\"marker\": {\"colorbar\": {\"outlinewidth\": 0, \"ticks\": \"\"}}, \"type\": \"scatterternary\"}], \"surface\": [{\"colorbar\": {\"outlinewidth\": 0, \"ticks\": \"\"}, \"colorscale\": [[0.0, \"#0d0887\"], [0.1111111111111111, \"#46039f\"], [0.2222222222222222, \"#7201a8\"], [0.3333333333333333, \"#9c179e\"], [0.4444444444444444, \"#bd3786\"], [0.5555555555555556, \"#d8576b\"], [0.6666666666666666, \"#ed7953\"], [0.7777777777777778, \"#fb9f3a\"], [0.8888888888888888, \"#fdca26\"], [1.0, \"#f0f921\"]], \"type\": \"surface\"}], \"table\": [{\"cells\": {\"fill\": {\"color\": \"#EBF0F8\"}, \"line\": {\"color\": \"white\"}}, \"header\": {\"fill\": {\"color\": \"#C8D4E3\"}, \"line\": {\"color\": \"white\"}}, \"type\": \"table\"}]}, \"layout\": {\"annotationdefaults\": {\"arrowcolor\": \"#2a3f5f\", \"arrowhead\": 0, \"arrowwidth\": 1}, \"coloraxis\": {\"colorbar\": {\"outlinewidth\": 0, \"ticks\": \"\"}}, \"colorscale\": {\"diverging\": [[0, \"#8e0152\"], [0.1, \"#c51b7d\"], [0.2, \"#de77ae\"], [0.3, \"#f1b6da\"], [0.4, \"#fde0ef\"], [0.5, \"#f7f7f7\"], [0.6, \"#e6f5d0\"], [0.7, \"#b8e186\"], [0.8, \"#7fbc41\"], [0.9, \"#4d9221\"], [1, \"#276419\"]], \"sequential\": [[0.0, \"#0d0887\"], [0.1111111111111111, \"#46039f\"], [0.2222222222222222, \"#7201a8\"], [0.3333333333333333, \"#9c179e\"], [0.4444444444444444, \"#bd3786\"], [0.5555555555555556, \"#d8576b\"], [0.6666666666666666, \"#ed7953\"], [0.7777777777777778, \"#fb9f3a\"], [0.8888888888888888, \"#fdca26\"], [1.0, \"#f0f921\"]], \"sequentialminus\": [[0.0, \"#0d0887\"], [0.1111111111111111, \"#46039f\"], [0.2222222222222222, \"#7201a8\"], [0.3333333333333333, \"#9c179e\"], [0.4444444444444444, \"#bd3786\"], [0.5555555555555556, \"#d8576b\"], [0.6666666666666666, \"#ed7953\"], [0.7777777777777778, \"#fb9f3a\"], [0.8888888888888888, \"#fdca26\"], [1.0, \"#f0f921\"]]}, \"colorway\": [\"#636efa\", \"#EF553B\", \"#00cc96\", \"#ab63fa\", \"#FFA15A\", \"#19d3f3\", \"#FF6692\", \"#B6E880\", \"#FF97FF\", \"#FECB52\"], \"font\": {\"color\": \"#2a3f5f\"}, \"geo\": {\"bgcolor\": \"white\", \"lakecolor\": \"white\", \"landcolor\": \"#E5ECF6\", \"showlakes\": true, \"showland\": true, \"subunitcolor\": \"white\"}, \"hoverlabel\": {\"align\": \"left\"}, \"hovermode\": \"closest\", \"mapbox\": {\"style\": \"light\"}, \"paper_bgcolor\": \"white\", \"plot_bgcolor\": \"#E5ECF6\", \"polar\": {\"angularaxis\": {\"gridcolor\": \"white\", \"linecolor\": \"white\", \"ticks\": \"\"}, \"bgcolor\": \"#E5ECF6\", \"radialaxis\": {\"gridcolor\": \"white\", \"linecolor\": \"white\", \"ticks\": \"\"}}, \"scene\": {\"xaxis\": {\"backgroundcolor\": \"#E5ECF6\", \"gridcolor\": \"white\", \"gridwidth\": 2, \"linecolor\": \"white\", \"showbackground\": true, \"ticks\": \"\", \"zerolinecolor\": \"white\"}, \"yaxis\": {\"backgroundcolor\": \"#E5ECF6\", \"gridcolor\": \"white\", \"gridwidth\": 2, \"linecolor\": \"white\", \"showbackground\": true, \"ticks\": \"\", \"zerolinecolor\": \"white\"}, \"zaxis\": {\"backgroundcolor\": \"#E5ECF6\", \"gridcolor\": \"white\", \"gridwidth\": 2, \"linecolor\": \"white\", \"showbackground\": true, \"ticks\": \"\", \"zerolinecolor\": \"white\"}}, \"shapedefaults\": {\"line\": {\"color\": \"#2a3f5f\"}}, \"ternary\": {\"aaxis\": {\"gridcolor\": \"white\", \"linecolor\": \"white\", \"ticks\": \"\"}, \"baxis\": {\"gridcolor\": \"white\", \"linecolor\": \"white\", \"ticks\": \"\"}, \"bgcolor\": \"#E5ECF6\", \"caxis\": {\"gridcolor\": \"white\", \"linecolor\": \"white\", \"ticks\": \"\"}}, \"title\": {\"x\": 0.05}, \"xaxis\": {\"automargin\": true, \"gridcolor\": \"white\", \"linecolor\": \"white\", \"ticks\": \"\", \"title\": {\"standoff\": 15}, \"zerolinecolor\": \"white\", \"zerolinewidth\": 2}, \"yaxis\": {\"automargin\": true, \"gridcolor\": \"white\", \"linecolor\": \"white\", \"ticks\": \"\", \"title\": {\"standoff\": 15}, \"zerolinecolor\": \"white\", \"zerolinewidth\": 2}}}, \"title\": {\"text\": \"Distribution of label within comments [DATA]\"}, \"xaxis\": {\"title\": {\"text\": \"Label\"}}, \"yaxis\": {\"title\": {\"text\": \"Frequency\"}}},\n",
              "                        {\"responsive\": true}\n",
              "                    ).then(function(){\n",
              "                            \n",
              "var gd = document.getElementById('cd9eeef0-f1d7-42ae-ba5f-0959adcb3060');\n",
              "var x = new MutationObserver(function (mutations, observer) {{\n",
              "        var display = window.getComputedStyle(gd).display;\n",
              "        if (!display || display === 'none') {{\n",
              "            console.log([gd, 'removed!']);\n",
              "            Plotly.purge(gd);\n",
              "            observer.disconnect();\n",
              "        }}\n",
              "}});\n",
              "\n",
              "// Listen for the removal of the full notebook cells\n",
              "var notebookContainer = gd.closest('#notebook-container');\n",
              "if (notebookContainer) {{\n",
              "    x.observe(notebookContainer, {childList: true});\n",
              "}}\n",
              "\n",
              "// Listen for the clearing of the current output cell\n",
              "var outputEl = gd.closest('.output');\n",
              "if (outputEl) {{\n",
              "    x.observe(outputEl, {childList: true});\n",
              "}}\n",
              "\n",
              "                        })\n",
              "                };\n",
              "                \n",
              "            </script>\n",
              "        </div>\n",
              "</body>\n",
              "</html>"
            ]
          },
          "metadata": {
            "tags": []
          }
        }
      ]
    },
    {
      "cell_type": "markdown",
      "metadata": {
        "id": "1Q0yEPxd-tb-"
      },
      "source": [
        "Again, for making things simple. We cut the dataset randomly based on the fewer label, the negative class."
      ]
    },
    {
      "cell_type": "code",
      "metadata": {
        "id": "7go47tYozdZI",
        "colab": {
          "base_uri": "https://localhost:8080/"
        },
        "outputId": "e035f03b-cee8-45db-ca43-5909ac9d33d8"
      },
      "source": [
        "# negative_data = data[data['label'] == 'negative']\n",
        "# positive_data = data[data['label'] == 'positive']\n",
        "\n",
        "# cutting_point = min(len(negative_data), len(positive_data))\n",
        "\n",
        "# if cutting_point <= len(negative_data):\n",
        "#     negative_data = negative_data.sample(n=cutting_point).reset_index(drop=True)\n",
        "\n",
        "# if cutting_point <= len(positive_data):\n",
        "#     positive_data = positive_data.sample(n=cutting_point).reset_index(drop=True)\n",
        "# data = data.target.resample(0)\n",
        "# print(\"class 0 : \",data[data.target == 0].shape) \n",
        "from sklearn.utils import resample\n",
        "\n",
        "# Upsample minority class #2770\n",
        "class_0 = resample( data[data.label== 0 ], \n",
        "                                replace=True,     # sample with replacement\n",
        "                                n_samples=4114,    # to match majority class\n",
        "                                random_state=123) # reproducible results\n",
        "\n",
        "class_1 = resample( data[data.label== 1 ], \n",
        "                                replace=True,     # sample with replacement\n",
        "                                n_samples=4114,    # to match majority class\n",
        "                                random_state=123) # reproducible results\n",
        "\n",
        "class_2 = resample( data[data.label== 2 ], \n",
        "                                replace=True,     # sample with replacement\n",
        "                                n_samples=4114,    # to match majority class\n",
        "                                random_state=123) # reproducible results \n",
        "\n",
        "class_3 = resample( data[data.label== 3 ], \n",
        "                                replace=True,     # sample with replacement\n",
        "                                n_samples=4114,    # to match majority class\n",
        "                                random_state=123) # reproducible results\n",
        "\n",
        "class_4 = resample( data[data.label== 4 ], \n",
        "                                replace=True,     # sample with replacement\n",
        "                                n_samples=4114,    # to match majority class\n",
        "                                random_state=123) # reproducible results \n",
        "                                                                                                                                                                                                                              \n",
        "\n",
        "\n",
        "\n",
        "\n",
        "new_data = pd.concat([class_0, class_1 , class_2 , class_3, class_4])\n",
        "new_data = new_data.sample(frac=1).reset_index(drop=True)\n",
        "new_data.info()"
      ],
      "execution_count": 29,
      "outputs": [
        {
          "output_type": "stream",
          "text": [
            "<class 'pandas.core.frame.DataFrame'>\n",
            "RangeIndex: 20570 entries, 0 to 20569\n",
            "Data columns (total 2 columns):\n",
            " #   Column  Non-Null Count  Dtype  \n",
            "---  ------  --------------  -----  \n",
            " 0   text    20570 non-null  object \n",
            " 1   label   20570 non-null  float64\n",
            "dtypes: float64(1), object(1)\n",
            "memory usage: 321.5+ KB\n"
          ],
          "name": "stdout"
        }
      ]
    },
    {
      "cell_type": "code",
      "metadata": {
        "id": "G8m5Md-a0KMu",
        "colab": {
          "base_uri": "https://localhost:8080/",
          "height": 542
        },
        "outputId": "143c0eb2-aebe-487c-ed11-b905ddb18934"
      },
      "source": [
        "fig = go.Figure()\n",
        "\n",
        "groupby_label = new_data.groupby('label')['label'].count()\n",
        "\n",
        "fig.add_trace(go.Bar(\n",
        "    x=list(sorted(groupby_label.index)),\n",
        "    y=groupby_label.tolist(),\n",
        "    text=groupby_label.tolist(),\n",
        "    textposition='auto'\n",
        "))\n",
        "\n",
        "fig.update_layout(\n",
        "    title_text='Distribution of label within comments [NEW DATA]',\n",
        "    xaxis_title_text='Label',\n",
        "    yaxis_title_text='Frequency',\n",
        "    bargap=0.2,\n",
        "    bargroupgap=0.2)\n",
        "\n",
        "fig.show()"
      ],
      "execution_count": 30,
      "outputs": [
        {
          "output_type": "display_data",
          "data": {
            "text/html": [
              "<html>\n",
              "<head><meta charset=\"utf-8\" /></head>\n",
              "<body>\n",
              "    <div>\n",
              "            <script src=\"https://cdnjs.cloudflare.com/ajax/libs/mathjax/2.7.5/MathJax.js?config=TeX-AMS-MML_SVG\"></script><script type=\"text/javascript\">if (window.MathJax) {MathJax.Hub.Config({SVG: {font: \"STIX-Web\"}});}</script>\n",
              "                <script type=\"text/javascript\">window.PlotlyConfig = {MathJaxConfig: 'local'};</script>\n",
              "        <script src=\"https://cdn.plot.ly/plotly-latest.min.js\"></script>    \n",
              "            <div id=\"a4625580-9129-4f79-92da-01c50997267f\" class=\"plotly-graph-div\" style=\"height:525px; width:100%;\"></div>\n",
              "            <script type=\"text/javascript\">\n",
              "                \n",
              "                    window.PLOTLYENV=window.PLOTLYENV || {};\n",
              "                    \n",
              "                if (document.getElementById(\"a4625580-9129-4f79-92da-01c50997267f\")) {\n",
              "                    Plotly.newPlot(\n",
              "                        'a4625580-9129-4f79-92da-01c50997267f',\n",
              "                        [{\"text\": [\"4114\", \"4114\", \"4114\", \"4114\", \"4114\"], \"textposition\": \"auto\", \"type\": \"bar\", \"x\": [0.0, 1.0, 2.0, 3.0, 4.0], \"y\": [4114, 4114, 4114, 4114, 4114]}],\n",
              "                        {\"bargap\": 0.2, \"bargroupgap\": 0.2, \"template\": {\"data\": {\"bar\": [{\"error_x\": {\"color\": \"#2a3f5f\"}, \"error_y\": {\"color\": \"#2a3f5f\"}, \"marker\": {\"line\": {\"color\": \"#E5ECF6\", \"width\": 0.5}}, \"type\": \"bar\"}], \"barpolar\": [{\"marker\": {\"line\": {\"color\": \"#E5ECF6\", \"width\": 0.5}}, \"type\": \"barpolar\"}], \"carpet\": [{\"aaxis\": {\"endlinecolor\": \"#2a3f5f\", \"gridcolor\": \"white\", \"linecolor\": \"white\", \"minorgridcolor\": \"white\", \"startlinecolor\": \"#2a3f5f\"}, \"baxis\": {\"endlinecolor\": \"#2a3f5f\", \"gridcolor\": \"white\", \"linecolor\": \"white\", \"minorgridcolor\": \"white\", \"startlinecolor\": \"#2a3f5f\"}, \"type\": \"carpet\"}], \"choropleth\": [{\"colorbar\": {\"outlinewidth\": 0, \"ticks\": \"\"}, \"type\": \"choropleth\"}], \"contour\": [{\"colorbar\": {\"outlinewidth\": 0, \"ticks\": \"\"}, \"colorscale\": [[0.0, \"#0d0887\"], [0.1111111111111111, \"#46039f\"], [0.2222222222222222, \"#7201a8\"], [0.3333333333333333, \"#9c179e\"], [0.4444444444444444, \"#bd3786\"], [0.5555555555555556, \"#d8576b\"], [0.6666666666666666, \"#ed7953\"], [0.7777777777777778, \"#fb9f3a\"], [0.8888888888888888, \"#fdca26\"], [1.0, \"#f0f921\"]], \"type\": \"contour\"}], \"contourcarpet\": [{\"colorbar\": {\"outlinewidth\": 0, \"ticks\": \"\"}, \"type\": \"contourcarpet\"}], \"heatmap\": [{\"colorbar\": {\"outlinewidth\": 0, \"ticks\": \"\"}, \"colorscale\": [[0.0, \"#0d0887\"], [0.1111111111111111, \"#46039f\"], [0.2222222222222222, \"#7201a8\"], [0.3333333333333333, \"#9c179e\"], [0.4444444444444444, \"#bd3786\"], [0.5555555555555556, \"#d8576b\"], [0.6666666666666666, \"#ed7953\"], [0.7777777777777778, \"#fb9f3a\"], [0.8888888888888888, \"#fdca26\"], [1.0, \"#f0f921\"]], \"type\": \"heatmap\"}], \"heatmapgl\": [{\"colorbar\": {\"outlinewidth\": 0, \"ticks\": \"\"}, \"colorscale\": [[0.0, \"#0d0887\"], [0.1111111111111111, \"#46039f\"], [0.2222222222222222, \"#7201a8\"], [0.3333333333333333, \"#9c179e\"], [0.4444444444444444, \"#bd3786\"], [0.5555555555555556, \"#d8576b\"], [0.6666666666666666, \"#ed7953\"], [0.7777777777777778, \"#fb9f3a\"], [0.8888888888888888, \"#fdca26\"], [1.0, \"#f0f921\"]], \"type\": \"heatmapgl\"}], \"histogram\": [{\"marker\": {\"colorbar\": {\"outlinewidth\": 0, \"ticks\": \"\"}}, \"type\": \"histogram\"}], \"histogram2d\": [{\"colorbar\": {\"outlinewidth\": 0, \"ticks\": \"\"}, \"colorscale\": [[0.0, \"#0d0887\"], [0.1111111111111111, \"#46039f\"], [0.2222222222222222, \"#7201a8\"], [0.3333333333333333, \"#9c179e\"], [0.4444444444444444, \"#bd3786\"], [0.5555555555555556, \"#d8576b\"], [0.6666666666666666, \"#ed7953\"], [0.7777777777777778, \"#fb9f3a\"], [0.8888888888888888, \"#fdca26\"], [1.0, \"#f0f921\"]], \"type\": \"histogram2d\"}], \"histogram2dcontour\": [{\"colorbar\": {\"outlinewidth\": 0, \"ticks\": \"\"}, \"colorscale\": [[0.0, \"#0d0887\"], [0.1111111111111111, \"#46039f\"], [0.2222222222222222, \"#7201a8\"], [0.3333333333333333, \"#9c179e\"], [0.4444444444444444, \"#bd3786\"], [0.5555555555555556, \"#d8576b\"], [0.6666666666666666, \"#ed7953\"], [0.7777777777777778, \"#fb9f3a\"], [0.8888888888888888, \"#fdca26\"], [1.0, \"#f0f921\"]], \"type\": \"histogram2dcontour\"}], \"mesh3d\": [{\"colorbar\": {\"outlinewidth\": 0, \"ticks\": \"\"}, \"type\": \"mesh3d\"}], \"parcoords\": [{\"line\": {\"colorbar\": {\"outlinewidth\": 0, \"ticks\": \"\"}}, \"type\": \"parcoords\"}], \"pie\": [{\"automargin\": true, \"type\": \"pie\"}], \"scatter\": [{\"marker\": {\"colorbar\": {\"outlinewidth\": 0, \"ticks\": \"\"}}, \"type\": \"scatter\"}], \"scatter3d\": [{\"line\": {\"colorbar\": {\"outlinewidth\": 0, \"ticks\": \"\"}}, \"marker\": {\"colorbar\": {\"outlinewidth\": 0, \"ticks\": \"\"}}, \"type\": \"scatter3d\"}], \"scattercarpet\": [{\"marker\": {\"colorbar\": {\"outlinewidth\": 0, \"ticks\": \"\"}}, \"type\": \"scattercarpet\"}], \"scattergeo\": [{\"marker\": {\"colorbar\": {\"outlinewidth\": 0, \"ticks\": \"\"}}, \"type\": \"scattergeo\"}], \"scattergl\": [{\"marker\": {\"colorbar\": {\"outlinewidth\": 0, \"ticks\": \"\"}}, \"type\": \"scattergl\"}], \"scattermapbox\": [{\"marker\": {\"colorbar\": {\"outlinewidth\": 0, \"ticks\": \"\"}}, \"type\": \"scattermapbox\"}], \"scatterpolar\": [{\"marker\": {\"colorbar\": {\"outlinewidth\": 0, \"ticks\": \"\"}}, \"type\": \"scatterpolar\"}], \"scatterpolargl\": [{\"marker\": {\"colorbar\": {\"outlinewidth\": 0, \"ticks\": \"\"}}, \"type\": \"scatterpolargl\"}], \"scatterternary\": [{\"marker\": {\"colorbar\": {\"outlinewidth\": 0, \"ticks\": \"\"}}, \"type\": \"scatterternary\"}], \"surface\": [{\"colorbar\": {\"outlinewidth\": 0, \"ticks\": \"\"}, \"colorscale\": [[0.0, \"#0d0887\"], [0.1111111111111111, \"#46039f\"], [0.2222222222222222, \"#7201a8\"], [0.3333333333333333, \"#9c179e\"], [0.4444444444444444, \"#bd3786\"], [0.5555555555555556, \"#d8576b\"], [0.6666666666666666, \"#ed7953\"], [0.7777777777777778, \"#fb9f3a\"], [0.8888888888888888, \"#fdca26\"], [1.0, \"#f0f921\"]], \"type\": \"surface\"}], \"table\": [{\"cells\": {\"fill\": {\"color\": \"#EBF0F8\"}, \"line\": {\"color\": \"white\"}}, \"header\": {\"fill\": {\"color\": \"#C8D4E3\"}, \"line\": {\"color\": \"white\"}}, \"type\": \"table\"}]}, \"layout\": {\"annotationdefaults\": {\"arrowcolor\": \"#2a3f5f\", \"arrowhead\": 0, \"arrowwidth\": 1}, \"coloraxis\": {\"colorbar\": {\"outlinewidth\": 0, \"ticks\": \"\"}}, \"colorscale\": {\"diverging\": [[0, \"#8e0152\"], [0.1, \"#c51b7d\"], [0.2, \"#de77ae\"], [0.3, \"#f1b6da\"], [0.4, \"#fde0ef\"], [0.5, \"#f7f7f7\"], [0.6, \"#e6f5d0\"], [0.7, \"#b8e186\"], [0.8, \"#7fbc41\"], [0.9, \"#4d9221\"], [1, \"#276419\"]], \"sequential\": [[0.0, \"#0d0887\"], [0.1111111111111111, \"#46039f\"], [0.2222222222222222, \"#7201a8\"], [0.3333333333333333, \"#9c179e\"], [0.4444444444444444, \"#bd3786\"], [0.5555555555555556, \"#d8576b\"], [0.6666666666666666, \"#ed7953\"], [0.7777777777777778, \"#fb9f3a\"], [0.8888888888888888, \"#fdca26\"], [1.0, \"#f0f921\"]], \"sequentialminus\": [[0.0, \"#0d0887\"], [0.1111111111111111, \"#46039f\"], [0.2222222222222222, \"#7201a8\"], [0.3333333333333333, \"#9c179e\"], [0.4444444444444444, \"#bd3786\"], [0.5555555555555556, \"#d8576b\"], [0.6666666666666666, \"#ed7953\"], [0.7777777777777778, \"#fb9f3a\"], [0.8888888888888888, \"#fdca26\"], [1.0, \"#f0f921\"]]}, \"colorway\": [\"#636efa\", \"#EF553B\", \"#00cc96\", \"#ab63fa\", \"#FFA15A\", \"#19d3f3\", \"#FF6692\", \"#B6E880\", \"#FF97FF\", \"#FECB52\"], \"font\": {\"color\": \"#2a3f5f\"}, \"geo\": {\"bgcolor\": \"white\", \"lakecolor\": \"white\", \"landcolor\": \"#E5ECF6\", \"showlakes\": true, \"showland\": true, \"subunitcolor\": \"white\"}, \"hoverlabel\": {\"align\": \"left\"}, \"hovermode\": \"closest\", \"mapbox\": {\"style\": \"light\"}, \"paper_bgcolor\": \"white\", \"plot_bgcolor\": \"#E5ECF6\", \"polar\": {\"angularaxis\": {\"gridcolor\": \"white\", \"linecolor\": \"white\", \"ticks\": \"\"}, \"bgcolor\": \"#E5ECF6\", \"radialaxis\": {\"gridcolor\": \"white\", \"linecolor\": \"white\", \"ticks\": \"\"}}, \"scene\": {\"xaxis\": {\"backgroundcolor\": \"#E5ECF6\", \"gridcolor\": \"white\", \"gridwidth\": 2, \"linecolor\": \"white\", \"showbackground\": true, \"ticks\": \"\", \"zerolinecolor\": \"white\"}, \"yaxis\": {\"backgroundcolor\": \"#E5ECF6\", \"gridcolor\": \"white\", \"gridwidth\": 2, \"linecolor\": \"white\", \"showbackground\": true, \"ticks\": \"\", \"zerolinecolor\": \"white\"}, \"zaxis\": {\"backgroundcolor\": \"#E5ECF6\", \"gridcolor\": \"white\", \"gridwidth\": 2, \"linecolor\": \"white\", \"showbackground\": true, \"ticks\": \"\", \"zerolinecolor\": \"white\"}}, \"shapedefaults\": {\"line\": {\"color\": \"#2a3f5f\"}}, \"ternary\": {\"aaxis\": {\"gridcolor\": \"white\", \"linecolor\": \"white\", \"ticks\": \"\"}, \"baxis\": {\"gridcolor\": \"white\", \"linecolor\": \"white\", \"ticks\": \"\"}, \"bgcolor\": \"#E5ECF6\", \"caxis\": {\"gridcolor\": \"white\", \"linecolor\": \"white\", \"ticks\": \"\"}}, \"title\": {\"x\": 0.05}, \"xaxis\": {\"automargin\": true, \"gridcolor\": \"white\", \"linecolor\": \"white\", \"ticks\": \"\", \"title\": {\"standoff\": 15}, \"zerolinecolor\": \"white\", \"zerolinewidth\": 2}, \"yaxis\": {\"automargin\": true, \"gridcolor\": \"white\", \"linecolor\": \"white\", \"ticks\": \"\", \"title\": {\"standoff\": 15}, \"zerolinecolor\": \"white\", \"zerolinewidth\": 2}}}, \"title\": {\"text\": \"Distribution of label within comments [NEW DATA]\"}, \"xaxis\": {\"title\": {\"text\": \"Label\"}}, \"yaxis\": {\"title\": {\"text\": \"Frequency\"}}},\n",
              "                        {\"responsive\": true}\n",
              "                    ).then(function(){\n",
              "                            \n",
              "var gd = document.getElementById('a4625580-9129-4f79-92da-01c50997267f');\n",
              "var x = new MutationObserver(function (mutations, observer) {{\n",
              "        var display = window.getComputedStyle(gd).display;\n",
              "        if (!display || display === 'none') {{\n",
              "            console.log([gd, 'removed!']);\n",
              "            Plotly.purge(gd);\n",
              "            observer.disconnect();\n",
              "        }}\n",
              "}});\n",
              "\n",
              "// Listen for the removal of the full notebook cells\n",
              "var notebookContainer = gd.closest('#notebook-container');\n",
              "if (notebookContainer) {{\n",
              "    x.observe(notebookContainer, {childList: true});\n",
              "}}\n",
              "\n",
              "// Listen for the clearing of the current output cell\n",
              "var outputEl = gd.closest('.output');\n",
              "if (outputEl) {{\n",
              "    x.observe(outputEl, {childList: true});\n",
              "}}\n",
              "\n",
              "                        })\n",
              "                };\n",
              "                \n",
              "            </script>\n",
              "        </div>\n",
              "</body>\n",
              "</html>"
            ]
          },
          "metadata": {
            "tags": []
          }
        }
      ]
    },
    {
      "cell_type": "code",
      "metadata": {
        "id": "NczPnoRI0WPq",
        "colab": {
          "base_uri": "https://localhost:8080/",
          "height": 206
        },
        "outputId": "1c590dab-2850-4028-80a8-025b02138813"
      },
      "source": [
        "new_data.head()"
      ],
      "execution_count": 31,
      "outputs": [
        {
          "output_type": "execute_result",
          "data": {
            "text/html": [
              "<div>\n",
              "<style scoped>\n",
              "    .dataframe tbody tr th:only-of-type {\n",
              "        vertical-align: middle;\n",
              "    }\n",
              "\n",
              "    .dataframe tbody tr th {\n",
              "        vertical-align: top;\n",
              "    }\n",
              "\n",
              "    .dataframe thead th {\n",
              "        text-align: right;\n",
              "    }\n",
              "</style>\n",
              "<table border=\"1\" class=\"dataframe\">\n",
              "  <thead>\n",
              "    <tr style=\"text-align: right;\">\n",
              "      <th></th>\n",
              "      <th>text</th>\n",
              "      <th>label</th>\n",
              "    </tr>\n",
              "  </thead>\n",
              "  <tbody>\n",
              "    <tr>\n",
              "      <th>0</th>\n",
              "      <td>علاقه حوزه هوش مصنوع مفاهیم پردازش تصویر ماشین...</td>\n",
              "      <td>2.0</td>\n",
              "    </tr>\n",
              "    <tr>\n",
              "      <th>1</th>\n",
              "      <td>صفو اینده تصور جواب بینی واقعیت پنجاه حدس دقیق...</td>\n",
              "      <td>2.0</td>\n",
              "    </tr>\n",
              "    <tr>\n",
              "      <th>2</th>\n",
              "      <td>مقاله اموزش برسی دستور رفع خطا پرداخته همراه و...</td>\n",
              "      <td>4.0</td>\n",
              "    </tr>\n",
              "    <tr>\n",
              "      <th>3</th>\n",
              "      <td>کارشناس امنیت باری مایکروسافت اژانس ایالات متح...</td>\n",
              "      <td>1.0</td>\n",
              "    </tr>\n",
              "    <tr>\n",
              "      <th>4</th>\n",
              "      <td>اسپیس ایل ماسک صحبت میذاشتم فضا ایده انسان دوس...</td>\n",
              "      <td>3.0</td>\n",
              "    </tr>\n",
              "  </tbody>\n",
              "</table>\n",
              "</div>"
            ],
            "text/plain": [
              "                                                text  label\n",
              "0  علاقه حوزه هوش مصنوع مفاهیم پردازش تصویر ماشین...    2.0\n",
              "1  صفو اینده تصور جواب بینی واقعیت پنجاه حدس دقیق...    2.0\n",
              "2  مقاله اموزش برسی دستور رفع خطا پرداخته همراه و...    4.0\n",
              "3  کارشناس امنیت باری مایکروسافت اژانس ایالات متح...    1.0\n",
              "4  اسپیس ایل ماسک صحبت میذاشتم فضا ایده انسان دوس...    3.0"
            ]
          },
          "metadata": {
            "tags": []
          },
          "execution_count": 31
        }
      ]
    },
    {
      "cell_type": "markdown",
      "metadata": {
        "id": "RpLObddZROJm"
      },
      "source": [
        "## Train,Validation,Test split\n",
        "\n",
        "To achieve a globalized model, we need to split the cleaned dataset into train, valid, test sets due to size of the data. In this tutorial, I have considered a rate of **0.1** for both *valid*, *test* sets. For splitting, I use `train_test_split` provided by Sklearn package with stratifying on the label for preserving the distribution balance."
      ]
    },
    {
      "cell_type": "code",
      "metadata": {
        "id": "DR_4CTGERLyw",
        "colab": {
          "base_uri": "https://localhost:8080/"
        },
        "outputId": "1b5f5715-397f-46e8-e924-56ba45909d3e"
      },
      "source": [
        "new_data['label_id'] = new_data['label'].apply(lambda t: labels.index(t))\n",
        "\n",
        "train, test = train_test_split(new_data, test_size=0.1, random_state=1, stratify=new_data['label'])\n",
        "train, valid = train_test_split(train, test_size=0.1, random_state=1, stratify=train['label'])\n",
        "\n",
        "train = train.reset_index(drop=True)\n",
        "valid = valid.reset_index(drop=True)\n",
        "test = test.reset_index(drop=True)\n",
        "\n",
        "x_train, y_train = train['text'].values.tolist(), train['label_id'].values.tolist()\n",
        "x_valid, y_valid = valid['text'].values.tolist(), valid['label_id'].values.tolist()\n",
        "x_test, y_test = test['text'].values.tolist(), test['label_id'].values.tolist()\n",
        "\n",
        "print(train.shape)\n",
        "print(valid.shape)\n",
        "print(test.shape)"
      ],
      "execution_count": 32,
      "outputs": [
        {
          "output_type": "stream",
          "text": [
            "(16661, 3)\n",
            "(1852, 3)\n",
            "(2057, 3)\n"
          ],
          "name": "stdout"
        }
      ]
    },
    {
      "cell_type": "markdown",
      "metadata": {
        "id": "17sghNPPRaOz"
      },
      "source": [
        "Now, my favorite part comes. First of all, I follow the model using *PyTorch*, and next, do the same processes using *TensorFlow* and finally use the ParsBERT script to do all the things once in a desired form for HuggignFace.\n",
        "\n",
        "![BERT INPUTS](https://res.cloudinary.com/m3hrdadfi/image/upload/v1595158991/kaggle/bert_inputs_w8rith.png)\n",
        "\n",
        "As you may know, the BERT model input is a combination of 3 embeddings.\n",
        "- Token embeddings: WordPiece token vocabulary (WordPiece is another word segmentation algorithm, similar to BPE)\n",
        "- Segment embeddings: for pair sentences [A-B] marked as $E_A$ or $E_B$ mean that it belongs to the first sentence or the second one.\n",
        "- Position embeddings: specify the position of words in a sentence"
      ]
    },
    {
      "cell_type": "markdown",
      "metadata": {
        "id": "G9eY5tJrwLUZ"
      },
      "source": [
        "## TensorFlow"
      ]
    },
    {
      "cell_type": "code",
      "metadata": {
        "id": "BuiOuFkxv_to"
      },
      "source": [
        "from transformers import BertConfig, BertTokenizer\n",
        "from transformers import TFBertModel, TFBertForSequenceClassification\n",
        "from transformers import glue_convert_examples_to_features\n",
        "\n",
        "import tensorflow as tf"
      ],
      "execution_count": 33,
      "outputs": []
    },
    {
      "cell_type": "markdown",
      "metadata": {
        "id": "X7Ro-8_pw_uw"
      },
      "source": [
        "### Configuration"
      ]
    },
    {
      "cell_type": "code",
      "metadata": {
        "id": "zx6k3XBxw_Nw"
      },
      "source": [
        "# general config\n",
        "MAX_LEN = 128\n",
        "TRAIN_BATCH_SIZE = 16\n",
        "VALID_BATCH_SIZE = 16\n",
        "TEST_BATCH_SIZE = 16\n",
        "\n",
        "EPOCHS = 3\n",
        "EEVERY_EPOCH = 1000\n",
        "LEARNING_RATE = 2e-5\n",
        "CLIP = 0.0\n",
        "\n",
        "MODEL_NAME_OR_PATH = 'HooshvareLab/bert-fa-base-uncased'\n",
        "OUTPUT_PATH = '/content/bert-fa-base-uncased-sentiment-taaghceh/pytorch_model.bin'\n",
        "\n",
        "os.makedirs(os.path.dirname(OUTPUT_PATH), exist_ok=True)"
      ],
      "execution_count": 34,
      "outputs": []
    },
    {
      "cell_type": "code",
      "metadata": {
        "id": "X8uZ7728RmCw",
        "colab": {
          "base_uri": "https://localhost:8080/"
        },
        "outputId": "012ed125-7bbe-40bb-e5f6-5905cd5af662"
      },
      "source": [
        "label2id = {label: i for i, label in enumerate(labels)}\n",
        "id2label = {v: k for k, v in label2id.items()}\n",
        "\n",
        "print(f'label2id: {label2id}')\n",
        "print(f'id2label: {id2label}')"
      ],
      "execution_count": 35,
      "outputs": [
        {
          "output_type": "stream",
          "text": [
            "label2id: {0.0: 0, 1.0: 1, 2.0: 2, 3.0: 3, 4.0: 4}\n",
            "id2label: {0: 0.0, 1: 1.0, 2: 2.0, 3: 3.0, 4: 4.0}\n"
          ],
          "name": "stdout"
        }
      ]
    },
    {
      "cell_type": "code",
      "metadata": {
        "id": "j4iFFI0lR5Nr",
        "colab": {
          "base_uri": "https://localhost:8080/",
          "height": 826,
          "referenced_widgets": [
            "a3b6b0533f8d4dc2b7a26c03f8cba244",
            "c420aadb6ac54725bc73d37ce285e17f",
            "d4efbe51a25341f28a7463076a4a9320",
            "99e443eea5634dd19866bc8bb9c419ce",
            "5a203e915baa426a8b88dc5ea2678eeb",
            "8de0d32ee1dd4b3ea97ae4379eb609fd",
            "bffc8b399f9c4c1cba9fbf04cbbdc2b9",
            "9054f71e5a3e487887df81f33c9ca392",
            "8b731623c43c4055a6ed772f2f0fb506",
            "0066f0c6b95c46a59bc9494a9f300dd4",
            "cd72d3aaab614e02ac7b2919f40a6d37",
            "5151c90ee96f4a13a541a12600862884",
            "a005b10148a14e11b9817535fac63b92",
            "d7d6cfa6fa67422ea1d47155231bdc01",
            "1509ec5c22bd4ba3920db583d6d9cbdc",
            "a91ccd25ebe946b5a2e2dd94b43c39e1"
          ]
        },
        "outputId": "1e7b6547-9ae9-4f7c-c7c7-464b60dc8e55"
      },
      "source": [
        "tokenizer = BertTokenizer.from_pretrained(MODEL_NAME_OR_PATH)\n",
        "config = BertConfig.from_pretrained(\n",
        "    MODEL_NAME_OR_PATH, **{\n",
        "        'label2id': label2id,\n",
        "        'id2label': id2label,\n",
        "    })\n",
        "\n",
        "print(config.to_json_string())"
      ],
      "execution_count": 36,
      "outputs": [
        {
          "output_type": "display_data",
          "data": {
            "application/vnd.jupyter.widget-view+json": {
              "model_id": "a3b6b0533f8d4dc2b7a26c03f8cba244",
              "version_minor": 0,
              "version_major": 2
            },
            "text/plain": [
              "HBox(children=(FloatProgress(value=0.0, description='Downloading', max=1198122.0, style=ProgressStyle(descript…"
            ]
          },
          "metadata": {
            "tags": []
          }
        },
        {
          "output_type": "stream",
          "text": [
            "\n"
          ],
          "name": "stdout"
        },
        {
          "output_type": "display_data",
          "data": {
            "application/vnd.jupyter.widget-view+json": {
              "model_id": "8b731623c43c4055a6ed772f2f0fb506",
              "version_minor": 0,
              "version_major": 2
            },
            "text/plain": [
              "HBox(children=(FloatProgress(value=0.0, description='Downloading', max=440.0, style=ProgressStyle(description_…"
            ]
          },
          "metadata": {
            "tags": []
          }
        },
        {
          "output_type": "stream",
          "text": [
            "\n",
            "{\n",
            "  \"architectures\": [\n",
            "    \"BertForMaskedLM\"\n",
            "  ],\n",
            "  \"attention_probs_dropout_prob\": 0.1,\n",
            "  \"gradient_checkpointing\": false,\n",
            "  \"hidden_act\": \"gelu\",\n",
            "  \"hidden_dropout_prob\": 0.1,\n",
            "  \"hidden_size\": 768,\n",
            "  \"id2label\": {\n",
            "    \"0\": 0.0,\n",
            "    \"1\": 1.0,\n",
            "    \"2\": 2.0,\n",
            "    \"3\": 3.0,\n",
            "    \"4\": 4.0\n",
            "  },\n",
            "  \"initializer_range\": 0.02,\n",
            "  \"intermediate_size\": 3072,\n",
            "  \"label2id\": {\n",
            "    \"0.0\": 0,\n",
            "    \"1.0\": 1,\n",
            "    \"2.0\": 2,\n",
            "    \"3.0\": 3,\n",
            "    \"4.0\": 4\n",
            "  },\n",
            "  \"layer_norm_eps\": 1e-12,\n",
            "  \"max_position_embeddings\": 512,\n",
            "  \"model_type\": \"bert\",\n",
            "  \"num_attention_heads\": 12,\n",
            "  \"num_hidden_layers\": 12,\n",
            "  \"pad_token_id\": 0,\n",
            "  \"position_embedding_type\": \"absolute\",\n",
            "  \"transformers_version\": \"4.5.1\",\n",
            "  \"type_vocab_size\": 2,\n",
            "  \"use_cache\": true,\n",
            "  \"vocab_size\": 100000\n",
            "}\n",
            "\n"
          ],
          "name": "stdout"
        }
      ]
    },
    {
      "cell_type": "markdown",
      "metadata": {
        "id": "ppvfKLczSFAG"
      },
      "source": [
        "### Input Embeddings / Dataset"
      ]
    },
    {
      "cell_type": "code",
      "metadata": {
        "id": "5_YqB7S7R9AK"
      },
      "source": [
        "class InputExample:\n",
        "    \"\"\" A single example for simple sequence classification. \"\"\"\n",
        "\n",
        "    def __init__(self, guid, text_a, text_b=None, label=None):\n",
        "        \"\"\" Constructs a InputExample. \"\"\"\n",
        "        self.guid = guid\n",
        "        self.text_a = text_a\n",
        "        self.text_b = text_b\n",
        "        self.label = label\n",
        "\n",
        "\n",
        "def make_examples(tokenizer, x, y=None, maxlen=128, output_mode=\"classification\", is_tf_dataset=True):\n",
        "    examples = []\n",
        "    y = y if isinstance(y, list) or isinstance(y, np.ndarray) else [None] * len(x)\n",
        "\n",
        "    for i, (_x, _y) in tqdm(enumerate(zip(x, y)), position=0, total=len(x)):\n",
        "        guid = \"%s\" % i\n",
        "        label = int(_y)\n",
        "        \n",
        "        if isinstance(_x, str):\n",
        "            text_a = _x\n",
        "            text_b = None\n",
        "        else:\n",
        "            assert len(_x) == 2\n",
        "            text_a = _x[0]\n",
        "            text_b = _x[1]\n",
        "        \n",
        "        examples.append(InputExample(guid=guid, text_a=text_a, text_b=text_b, label=label))\n",
        "    \n",
        "    features = glue_convert_examples_to_features(\n",
        "        examples, \n",
        "        tokenizer, \n",
        "        maxlen, \n",
        "        output_mode=output_mode, \n",
        "        label_list=list(np.unique(y)))\n",
        "\n",
        "    all_input_ids = []\n",
        "    all_attention_masks = []\n",
        "    all_token_type_ids = []\n",
        "    all_labels = []\n",
        "\n",
        "    for f in tqdm(features, position=0, total=len(examples)):\n",
        "        if is_tf_dataset:\n",
        "            all_input_ids.append(tf.constant(f.input_ids))\n",
        "            all_attention_masks.append(tf.constant(f.attention_mask))\n",
        "            all_token_type_ids.append(tf.constant(f.token_type_ids))\n",
        "            all_labels.append(tf.constant(f.label))\n",
        "        else:\n",
        "            all_input_ids.append(f.input_ids)\n",
        "            all_attention_masks.append(f.attention_mask)\n",
        "            all_token_type_ids.append(f.token_type_ids)\n",
        "            all_labels.append(f.label)\n",
        "\n",
        "    if is_tf_dataset:\n",
        "        dataset = tf.data.Dataset.from_tensor_slices(({\n",
        "            'input_ids': all_input_ids,\n",
        "            'attention_mask': all_attention_masks,\n",
        "            'token_type_ids': all_token_type_ids\n",
        "        }, all_labels))\n",
        "\n",
        "        return dataset, features\n",
        "    \n",
        "    xdata = [np.array(all_input_ids), np.array(all_attention_masks), np.array(all_token_type_ids)]\n",
        "    ydata = all_labels\n",
        "\n",
        "    return [xdata, ydata], features"
      ],
      "execution_count": 37,
      "outputs": []
    },
    {
      "cell_type": "code",
      "metadata": {
        "id": "I7x5C4XPSLFz",
        "colab": {
          "base_uri": "https://localhost:8080/",
          "height": 516,
          "referenced_widgets": [
            "fdb68f66ba454915a6728f84b26ae7f1",
            "284dc972a1204bd5a4ab276636f896c8",
            "74d0a87ab2454d8e9747b48fe1ebdb86",
            "5ecbf666256643449404d7cbe15c2f0d",
            "4f29168bcb0b4a1bb62c57906b1fb5b8",
            "b26cab6463e146ddb0a801a7f315611b",
            "87b1273234a54234981c387733f64d31",
            "6c82bdbb1e014db7a070a939d9839f17",
            "86e7c63e0cdc4025871d05696079b509",
            "7e58e44b2246424e89ce86f1e133afdd",
            "1e958b8d9d254e549f52ecffe59128e1",
            "c3736dbbae3d48dab669516de72d666b",
            "8fd8ce9db53e46c986bb0d0239ebbaf0",
            "6529a900f6ca4591baa23e27c180876e",
            "36efcca8d7314819816e220082d17e16",
            "b834cc657c894c438f924c0f8e5a2509",
            "f9792ce7e25145edbb5a89a763211962",
            "4bf0bb97a68449119146ca045cf4dcc9",
            "f3645e7ecb7448cf9208bb377b92c83e",
            "57e79fd02a424782a3a430f58474cab6",
            "f01e320fa4cf4ee0ae85fe9a0ef90921",
            "183ab83d9cf14db5a8cf65f58882c901",
            "ba573aa17dde465c826d6d8783aa61f6",
            "45a5faa0351c4e1ca6d7f14cc1d3347a",
            "699444ba5214485492b807772caafc30",
            "65a6f2c300ec481a87b26db16e1292aa",
            "de0be684a2e9406e89d4458c134ce615",
            "b482cb4b289741b989fd5ca69787789a",
            "62cb6690033c4d3c9b81973f31c3aa45",
            "59a7e1c07da74a7483e4ff0d620eacf5",
            "00b40eff383541d2ab73620fade6d5ee",
            "c2a6a11b0fe349f59771399889f93545",
            "f02f66ab8dd342c98eb1fc5c0cf6000e",
            "be77ecae36044aa4932b7bfab68e0609",
            "eb1d3de84ace41d3b689ebf4213354ec",
            "ffacfb262da841b0830236acd82a07f3",
            "49b20ebbf9c5433dbdb2977dcadc590e",
            "8f87ad8ca7e345a7a6f099ee17736533",
            "5cca860a4b4d42a480dcd119610df840",
            "ace0810437754e85bff344e4885cc52d",
            "d91317968628497db88325d355a213fa",
            "939b7fd91f3c4a8abd5e27ff3b50108c",
            "e3f1882b7fee44e49573115197bf87ba",
            "02aadda177ae4f1f875be5f6275612e0",
            "db2fa0064bbf4a5d8e29cd1247cc06d0",
            "6831a6940b8941af81b3a2f1a26e0a7e",
            "8a4abcfd7b264c908d869e7c871ede68",
            "12046460d14142ee843b0836a2112363",
            "39e9b1d9986047de9306991b00229e37",
            "979d68201b84440bbd5ed2eb37d51d3f",
            "704dabf28e5c4aebaa74e428ed71ea35",
            "d92a7684964f4f8ea32d0355ba00a7d2",
            "e0f1a3dfcb34466aae66d8b3c35003a8",
            "0222540f970f4725a7e5c37849baf68a",
            "8d34d31c3f16451e94a6f68ffafa302f",
            "249dc5b8d2cd4f34aa0bfe9e2e3ca102",
            "065a6c04ec0b408bb3d5d85feabba67d",
            "eb030b80a6554a188e7057417d8a9673",
            "01295779ab3345b79f55bb3c3432b0b0",
            "c517748261c04ec0b41557b4e8ce2e4c",
            "155d9ca3fcfe4ed49cb5a51e3523ea82",
            "8ae7dc57bbd64f998de7e0bf60a50e0d",
            "8a534d135d8440848dc6235dcb58fb84",
            "2cbc678a2bfe4d83a6f803acc716caee"
          ]
        },
        "outputId": "7aafdfc2-a03b-4b0e-f1db-0742fffb898a"
      },
      "source": [
        "train_dataset_base, train_examples = make_examples(tokenizer, x_train, y_train, maxlen=128)\n",
        "valid_dataset_base, valid_examples = make_examples(tokenizer, x_valid, y_valid, maxlen=128)\n",
        "\n",
        "test_dataset_base, test_examples = make_examples(tokenizer, x_test, y_test, maxlen=128)\n",
        "[xtest, ytest], test_examples = make_examples(tokenizer, x_test, y_test, maxlen=128, is_tf_dataset=False)"
      ],
      "execution_count": 38,
      "outputs": [
        {
          "output_type": "display_data",
          "data": {
            "application/vnd.jupyter.widget-view+json": {
              "model_id": "fdb68f66ba454915a6728f84b26ae7f1",
              "version_minor": 0,
              "version_major": 2
            },
            "text/plain": [
              "HBox(children=(FloatProgress(value=0.0, max=16661.0), HTML(value='')))"
            ]
          },
          "metadata": {
            "tags": []
          }
        },
        {
          "output_type": "stream",
          "text": [
            "\n"
          ],
          "name": "stdout"
        },
        {
          "output_type": "stream",
          "text": [
            "/usr/local/lib/python3.7/dist-packages/transformers/data/processors/glue.py:67: FutureWarning:\n",
            "\n",
            "This function will be removed from the library soon, preprocessing should be handled with the 🤗 Datasets library. You can have a look at this example script for pointers: https://github.com/huggingface/transformers/blob/master/examples/text-classification/run_glue.py\n",
            "\n"
          ],
          "name": "stderr"
        },
        {
          "output_type": "display_data",
          "data": {
            "application/vnd.jupyter.widget-view+json": {
              "model_id": "86e7c63e0cdc4025871d05696079b509",
              "version_minor": 0,
              "version_major": 2
            },
            "text/plain": [
              "HBox(children=(FloatProgress(value=0.0, max=16661.0), HTML(value='')))"
            ]
          },
          "metadata": {
            "tags": []
          }
        },
        {
          "output_type": "stream",
          "text": [
            "\n"
          ],
          "name": "stdout"
        },
        {
          "output_type": "display_data",
          "data": {
            "application/vnd.jupyter.widget-view+json": {
              "model_id": "f9792ce7e25145edbb5a89a763211962",
              "version_minor": 0,
              "version_major": 2
            },
            "text/plain": [
              "HBox(children=(FloatProgress(value=0.0, max=1852.0), HTML(value='')))"
            ]
          },
          "metadata": {
            "tags": []
          }
        },
        {
          "output_type": "stream",
          "text": [
            "\n"
          ],
          "name": "stdout"
        },
        {
          "output_type": "display_data",
          "data": {
            "application/vnd.jupyter.widget-view+json": {
              "model_id": "699444ba5214485492b807772caafc30",
              "version_minor": 0,
              "version_major": 2
            },
            "text/plain": [
              "HBox(children=(FloatProgress(value=0.0, max=1852.0), HTML(value='')))"
            ]
          },
          "metadata": {
            "tags": []
          }
        },
        {
          "output_type": "stream",
          "text": [
            "\n"
          ],
          "name": "stdout"
        },
        {
          "output_type": "display_data",
          "data": {
            "application/vnd.jupyter.widget-view+json": {
              "model_id": "f02f66ab8dd342c98eb1fc5c0cf6000e",
              "version_minor": 0,
              "version_major": 2
            },
            "text/plain": [
              "HBox(children=(FloatProgress(value=0.0, max=2057.0), HTML(value='')))"
            ]
          },
          "metadata": {
            "tags": []
          }
        },
        {
          "output_type": "stream",
          "text": [
            "\n"
          ],
          "name": "stdout"
        },
        {
          "output_type": "display_data",
          "data": {
            "application/vnd.jupyter.widget-view+json": {
              "model_id": "d91317968628497db88325d355a213fa",
              "version_minor": 0,
              "version_major": 2
            },
            "text/plain": [
              "HBox(children=(FloatProgress(value=0.0, max=2057.0), HTML(value='')))"
            ]
          },
          "metadata": {
            "tags": []
          }
        },
        {
          "output_type": "stream",
          "text": [
            "\n"
          ],
          "name": "stdout"
        },
        {
          "output_type": "display_data",
          "data": {
            "application/vnd.jupyter.widget-view+json": {
              "model_id": "39e9b1d9986047de9306991b00229e37",
              "version_minor": 0,
              "version_major": 2
            },
            "text/plain": [
              "HBox(children=(FloatProgress(value=0.0, max=2057.0), HTML(value='')))"
            ]
          },
          "metadata": {
            "tags": []
          }
        },
        {
          "output_type": "stream",
          "text": [
            "\n"
          ],
          "name": "stdout"
        },
        {
          "output_type": "display_data",
          "data": {
            "application/vnd.jupyter.widget-view+json": {
              "model_id": "065a6c04ec0b408bb3d5d85feabba67d",
              "version_minor": 0,
              "version_major": 2
            },
            "text/plain": [
              "HBox(children=(FloatProgress(value=0.0, max=2057.0), HTML(value='')))"
            ]
          },
          "metadata": {
            "tags": []
          }
        },
        {
          "output_type": "stream",
          "text": [
            "\n"
          ],
          "name": "stdout"
        }
      ]
    },
    {
      "cell_type": "code",
      "metadata": {
        "id": "eOkiA4c6SeKP",
        "colab": {
          "base_uri": "https://localhost:8080/"
        },
        "outputId": "8cbb9948-39db-4a8d-9e7e-8c9b66ab1a09"
      },
      "source": [
        "for value in train_dataset_base.take(1):\n",
        "    print(f'     input_ids: {value[0][\"input_ids\"]}')\n",
        "    print(f'attention_mask: {value[0][\"attention_mask\"]}')\n",
        "    print(f'token_type_ids: {value[0][\"token_type_ids\"]}')\n",
        "    print(f'        target: {value[1]}')"
      ],
      "execution_count": 39,
      "outputs": [
        {
          "output_type": "stream",
          "text": [
            "     input_ids: [    2 67138 63863  2795  4373  7289 10782  8336 71117  3919  8417  3948\n",
            "  3357  3629  6597 10884  2910  5232 27989  2005  3805  4836 17730  3598\n",
            "     4     0     0     0     0     0     0     0     0     0     0     0\n",
            "     0     0     0     0     0     0     0     0     0     0     0     0\n",
            "     0     0     0     0     0     0     0     0     0     0     0     0\n",
            "     0     0     0     0     0     0     0     0     0     0     0     0\n",
            "     0     0     0     0     0     0     0     0     0     0     0     0\n",
            "     0     0     0     0     0     0     0     0     0     0     0     0\n",
            "     0     0     0     0     0     0     0     0     0     0     0     0\n",
            "     0     0     0     0     0     0     0     0     0     0     0     0\n",
            "     0     0     0     0     0     0     0     0]\n",
            "attention_mask: [1 1 1 1 1 1 1 1 1 1 1 1 1 1 1 1 1 1 1 1 1 1 1 1 1 0 0 0 0 0 0 0 0 0 0 0 0\n",
            " 0 0 0 0 0 0 0 0 0 0 0 0 0 0 0 0 0 0 0 0 0 0 0 0 0 0 0 0 0 0 0 0 0 0 0 0 0\n",
            " 0 0 0 0 0 0 0 0 0 0 0 0 0 0 0 0 0 0 0 0 0 0 0 0 0 0 0 0 0 0 0 0 0 0 0 0 0\n",
            " 0 0 0 0 0 0 0 0 0 0 0 0 0 0 0 0 0]\n",
            "token_type_ids: [0 0 0 0 0 0 0 0 0 0 0 0 0 0 0 0 0 0 0 0 0 0 0 0 0 0 0 0 0 0 0 0 0 0 0 0 0\n",
            " 0 0 0 0 0 0 0 0 0 0 0 0 0 0 0 0 0 0 0 0 0 0 0 0 0 0 0 0 0 0 0 0 0 0 0 0 0\n",
            " 0 0 0 0 0 0 0 0 0 0 0 0 0 0 0 0 0 0 0 0 0 0 0 0 0 0 0 0 0 0 0 0 0 0 0 0 0\n",
            " 0 0 0 0 0 0 0 0 0 0 0 0 0 0 0 0 0]\n",
            "        target: 4\n"
          ],
          "name": "stdout"
        }
      ]
    },
    {
      "cell_type": "code",
      "metadata": {
        "id": "sGPW0b6PSsMN"
      },
      "source": [
        "def get_training_dataset(dataset, batch_size):\n",
        "    dataset = dataset.repeat()\n",
        "    dataset = dataset.shuffle(2048)\n",
        "    dataset = dataset.batch(batch_size)\n",
        "\n",
        "    return dataset\n",
        "\n",
        "def get_validation_dataset(dataset, batch_size):\n",
        "    dataset = dataset.batch(batch_size)\n",
        "\n",
        "    return dataset"
      ],
      "execution_count": 40,
      "outputs": []
    },
    {
      "cell_type": "code",
      "metadata": {
        "id": "3JC5rd6YVEHc",
        "colab": {
          "base_uri": "https://localhost:8080/"
        },
        "outputId": "68c2b736-e1e9-4d46-b024-df819d891c04"
      },
      "source": [
        "train_dataset = get_training_dataset(train_dataset_base, TRAIN_BATCH_SIZE)\n",
        "valid_dataset = get_training_dataset(valid_dataset_base, VALID_BATCH_SIZE)\n",
        "\n",
        "train_steps = len(train_examples) // TRAIN_BATCH_SIZE\n",
        "valid_steps = len(valid_examples) // VALID_BATCH_SIZE\n",
        "\n",
        "train_steps, valid_steps"
      ],
      "execution_count": 41,
      "outputs": [
        {
          "output_type": "execute_result",
          "data": {
            "text/plain": [
              "(1041, 115)"
            ]
          },
          "metadata": {
            "tags": []
          },
          "execution_count": 41
        }
      ]
    },
    {
      "cell_type": "markdown",
      "metadata": {
        "id": "PAi2TF78VNux"
      },
      "source": [
        "### Model"
      ]
    },
    {
      "cell_type": "code",
      "metadata": {
        "id": "WwsARx2QVLjK"
      },
      "source": [
        "def build_model(model_name, config, learning_rate=3e-5):\n",
        "    model = TFBertForSequenceClassification.from_pretrained(model_name, config=config)\n",
        "\n",
        "    optimizer = tf.keras.optimizers.Adam(learning_rate=learning_rate)\n",
        "    loss = tf.keras.losses.SparseCategoricalCrossentropy(from_logits=True)\n",
        "    metric = tf.keras.metrics.SparseCategoricalAccuracy('accuracy')\n",
        "    model.compile(optimizer=optimizer, loss=loss, metrics=[metric])\n",
        "\n",
        "    return model"
      ],
      "execution_count": 42,
      "outputs": []
    },
    {
      "cell_type": "code",
      "metadata": {
        "id": "8aFLw-MQVT_V",
        "colab": {
          "base_uri": "https://localhost:8080/",
          "height": 162,
          "referenced_widgets": [
            "8bf2c013656342558da40f769bf6e35e",
            "0aa8fa84eb914e858234f94e3af2a4f8",
            "b2d0339df8c3407e9ad2c1ed71f82eed",
            "09feb00efa404e91975deae5bdf18b28",
            "b1ec7f949f114f6c823dcd851e53dce5",
            "4b5e307736b943e9a808e1d63d82d46d",
            "00b8bfb86feb4634be2bf5af1343ad21",
            "62cdba1cd00d4b22a7ac852adae4f3c8"
          ]
        },
        "outputId": "4a36006d-f449-4af4-ec8c-1db9613beeeb"
      },
      "source": [
        "model = build_model(MODEL_NAME_OR_PATH, config, learning_rate=LEARNING_RATE)"
      ],
      "execution_count": 43,
      "outputs": [
        {
          "output_type": "display_data",
          "data": {
            "application/vnd.jupyter.widget-view+json": {
              "model_id": "8bf2c013656342558da40f769bf6e35e",
              "version_minor": 0,
              "version_major": 2
            },
            "text/plain": [
              "HBox(children=(FloatProgress(value=0.0, description='Downloading', max=963211760.0, style=ProgressStyle(descri…"
            ]
          },
          "metadata": {
            "tags": []
          }
        },
        {
          "output_type": "stream",
          "text": [
            "\n"
          ],
          "name": "stdout"
        },
        {
          "output_type": "stream",
          "text": [
            "All model checkpoint layers were used when initializing TFBertForSequenceClassification.\n",
            "\n",
            "Some layers of TFBertForSequenceClassification were not initialized from the model checkpoint at HooshvareLab/bert-fa-base-uncased and are newly initialized: ['classifier']\n",
            "You should probably TRAIN this model on a down-stream task to be able to use it for predictions and inference.\n"
          ],
          "name": "stderr"
        }
      ]
    },
    {
      "cell_type": "code",
      "metadata": {
        "colab": {
          "base_uri": "https://localhost:8080/"
        },
        "id": "s7PQE2a6TP-i",
        "outputId": "9cf6c491-36b9-43a5-aecf-c5de7671e217"
      },
      "source": [
        "model.summary()"
      ],
      "execution_count": 44,
      "outputs": [
        {
          "output_type": "stream",
          "text": [
            "Model: \"tf_bert_for_sequence_classification\"\n",
            "_________________________________________________________________\n",
            "Layer (type)                 Output Shape              Param #   \n",
            "=================================================================\n",
            "bert (TFBertMainLayer)       multiple                  162841344 \n",
            "_________________________________________________________________\n",
            "dropout_37 (Dropout)         multiple                  0         \n",
            "_________________________________________________________________\n",
            "classifier (Dense)           multiple                  3845      \n",
            "=================================================================\n",
            "Total params: 162,845,189\n",
            "Trainable params: 162,845,189\n",
            "Non-trainable params: 0\n",
            "_________________________________________________________________\n"
          ],
          "name": "stdout"
        }
      ]
    },
    {
      "cell_type": "markdown",
      "metadata": {
        "id": "jJrah6BGVfA2"
      },
      "source": [
        "### Training"
      ]
    },
    {
      "cell_type": "code",
      "metadata": {
        "id": "i3qOIz1WVZLw",
        "colab": {
          "base_uri": "https://localhost:8080/"
        },
        "outputId": "6766b4cf-1ae3-454c-a375-0bea0a55d95c"
      },
      "source": [
        "%%time\n",
        "\n",
        "r = model.fit(\n",
        "    train_dataset,\n",
        "    validation_data=valid_dataset,\n",
        "    steps_per_epoch=train_steps,\n",
        "    validation_steps=valid_steps,\n",
        "    epochs=EPOCHS,\n",
        "    verbose=1)\n",
        "\n",
        "final_accuracy = r.history['val_accuracy']\n",
        "print('FINAL ACCURACY MEAN: ', np.mean(final_accuracy))"
      ],
      "execution_count": 45,
      "outputs": [
        {
          "output_type": "stream",
          "text": [
            "Epoch 1/3\n",
            "WARNING:tensorflow:The parameters `output_attentions`, `output_hidden_states` and `use_cache` cannot be updated when calling a model.They have to be set to True/False in the config object (i.e.: `config=XConfig.from_pretrained('name', output_attentions=True)`).\n",
            "WARNING:tensorflow:AutoGraph could not transform <bound method Socket.send of <zmq.sugar.socket.Socket object at 0x7f0b63b54d00>> and will run it as-is.\n",
            "Please report this to the TensorFlow team. When filing the bug, set the verbosity to 10 (on Linux, `export AUTOGRAPH_VERBOSITY=10`) and attach the full output.\n",
            "Cause: module, class, method, function, traceback, frame, or code object was expected, got cython_function_or_method\n",
            "To silence this warning, decorate the function with @tf.autograph.experimental.do_not_convert\n",
            "WARNING: AutoGraph could not transform <bound method Socket.send of <zmq.sugar.socket.Socket object at 0x7f0b63b54d00>> and will run it as-is.\n",
            "Please report this to the TensorFlow team. When filing the bug, set the verbosity to 10 (on Linux, `export AUTOGRAPH_VERBOSITY=10`) and attach the full output.\n",
            "Cause: module, class, method, function, traceback, frame, or code object was expected, got cython_function_or_method\n",
            "To silence this warning, decorate the function with @tf.autograph.experimental.do_not_convert\n",
            "WARNING:tensorflow:AutoGraph could not transform <function wrap at 0x7f0b7f3ffd40> and will run it as-is.\n",
            "Cause: while/else statement not yet supported\n",
            "To silence this warning, decorate the function with @tf.autograph.experimental.do_not_convert\n",
            "WARNING: AutoGraph could not transform <function wrap at 0x7f0b7f3ffd40> and will run it as-is.\n",
            "Cause: while/else statement not yet supported\n",
            "To silence this warning, decorate the function with @tf.autograph.experimental.do_not_convert\n",
            "WARNING:tensorflow:The parameter `return_dict` cannot be set in graph mode and will always be set to `True`.\n",
            "WARNING:tensorflow:The parameters `output_attentions`, `output_hidden_states` and `use_cache` cannot be updated when calling a model.They have to be set to True/False in the config object (i.e.: `config=XConfig.from_pretrained('name', output_attentions=True)`).\n",
            "WARNING:tensorflow:The parameter `return_dict` cannot be set in graph mode and will always be set to `True`.\n",
            "1041/1041 [==============================] - ETA: 0s - loss: 0.4146 - accuracy: 0.8536WARNING:tensorflow:The parameters `output_attentions`, `output_hidden_states` and `use_cache` cannot be updated when calling a model.They have to be set to True/False in the config object (i.e.: `config=XConfig.from_pretrained('name', output_attentions=True)`).\n",
            "WARNING:tensorflow:The parameter `return_dict` cannot be set in graph mode and will always be set to `True`.\n",
            "1041/1041 [==============================] - 518s 450ms/step - loss: 0.4144 - accuracy: 0.8537 - val_loss: 0.1008 - val_accuracy: 0.9620\n",
            "Epoch 2/3\n",
            "1041/1041 [==============================] - 467s 448ms/step - loss: 0.0803 - accuracy: 0.9721 - val_loss: 0.0876 - val_accuracy: 0.9712\n",
            "Epoch 3/3\n",
            "1041/1041 [==============================] - 466s 448ms/step - loss: 0.0445 - accuracy: 0.9855 - val_loss: 0.0748 - val_accuracy: 0.9810\n",
            "FINAL ACCURACY MEAN:  0.9713767965634664\n",
            "CPU times: user 10min 39s, sys: 7min 44s, total: 18min 24s\n",
            "Wall time: 24min 11s\n"
          ],
          "name": "stdout"
        }
      ]
    },
    {
      "cell_type": "code",
      "metadata": {
        "id": "JwIpJ1PIiOf6"
      },
      "source": [
        "# save the model\n",
        "\n",
        "model.save_pretrained(os.path.dirname(OUTPUT_PATH))"
      ],
      "execution_count": 46,
      "outputs": []
    },
    {
      "cell_type": "markdown",
      "metadata": {
        "id": "hdJdgOecf3Ez"
      },
      "source": [
        "### Evaluation / Prediction"
      ]
    },
    {
      "cell_type": "code",
      "metadata": {
        "id": "VsgURdVH9V5w",
        "colab": {
          "base_uri": "https://localhost:8080/"
        },
        "outputId": "1c9da1d6-b58c-4424-bf10-79a1d38d0215"
      },
      "source": [
        "ev = model.evaluate(test_dataset_base.batch(TEST_BATCH_SIZE))\n",
        "print()\n",
        "print(f'Evaluation: {ev}')\n",
        "print()\n",
        "\n",
        "predictions = model.predict(xtest)\n",
        "ypred = predictions[0].argmax(axis=-1).tolist()\n",
        "\n",
        "print()\n",
        "print(classification_report(ytest, ypred))\n",
        "# print(classification_report(ytest, ypred, target_names= labels))\n",
        "\n",
        "print()\n",
        "\n",
        "print(f'F1: {f1_score(ytest, ypred, average=\"weighted\")}')"
      ],
      "execution_count": 47,
      "outputs": [
        {
          "output_type": "stream",
          "text": [
            "129/129 [==============================] - 18s 140ms/step - loss: 0.0670 - accuracy: 0.9820\n",
            "\n",
            "Evaluation: [0.06697806715965271, 0.9820126295089722]\n",
            "\n",
            "WARNING:tensorflow:The parameters `output_attentions`, `output_hidden_states` and `use_cache` cannot be updated when calling a model.They have to be set to True/False in the config object (i.e.: `config=XConfig.from_pretrained('name', output_attentions=True)`).\n",
            "WARNING:tensorflow:The parameter `return_dict` cannot be set in graph mode and will always be set to `True`.\n",
            "\n",
            "              precision    recall  f1-score   support\n",
            "\n",
            "           0       1.00      1.00      1.00       412\n",
            "           1       0.94      0.99      0.96       411\n",
            "           2       1.00      1.00      1.00       411\n",
            "           3       1.00      1.00      1.00       412\n",
            "           4       0.99      0.93      0.96       411\n",
            "\n",
            "    accuracy                           0.98      2057\n",
            "   macro avg       0.98      0.98      0.98      2057\n",
            "weighted avg       0.98      0.98      0.98      2057\n",
            "\n",
            "\n",
            "F1: 0.9819812766849446\n"
          ],
          "name": "stdout"
        }
      ]
    },
    {
      "cell_type": "code",
      "metadata": {
        "id": "F3GEfHS3cYU_",
        "colab": {
          "base_uri": "https://localhost:8080/"
        },
        "outputId": "d274ad47-91b6-4aa9-c784-bdb018bef6cc"
      },
      "source": [
        "from sklearn import metrics \n",
        "print(metrics.classification_report(ytest, ypred))"
      ],
      "execution_count": 48,
      "outputs": [
        {
          "output_type": "stream",
          "text": [
            "              precision    recall  f1-score   support\n",
            "\n",
            "           0       1.00      1.00      1.00       412\n",
            "           1       0.94      0.99      0.96       411\n",
            "           2       1.00      1.00      1.00       411\n",
            "           3       1.00      1.00      1.00       412\n",
            "           4       0.99      0.93      0.96       411\n",
            "\n",
            "    accuracy                           0.98      2057\n",
            "   macro avg       0.98      0.98      0.98      2057\n",
            "weighted avg       0.98      0.98      0.98      2057\n",
            "\n"
          ],
          "name": "stdout"
        }
      ]
    },
    {
      "cell_type": "markdown",
      "metadata": {
        "id": "t2biiOavkVQM"
      },
      "source": [
        "##Plot Loss And Accuracy"
      ]
    },
    {
      "cell_type": "code",
      "metadata": {
        "id": "_e9HOKTzkOvd"
      },
      "source": [
        "import matplotlib.pyplot as plt\n",
        "\n",
        "def plot_history(history):\n",
        "    acc = history.history['accuracy']\n",
        "    val_acc = history.history['val_accuracy']\n",
        "    loss = history.history['loss']\n",
        "    val_loss = history.history['val_loss']\n",
        "    x = range(1, len(acc) + 1)\n",
        "\n",
        "    plt.figure(figsize=(12, 5))\n",
        "    plt.subplot(1, 2, 1)\n",
        "    plt.plot(x, acc, 'b', label='Training acc')\n",
        "    plt.plot(x, val_acc, 'r', label='Validation acc')\n",
        "    plt.title('Training and validation accuracy')\n",
        "    plt.legend()\n",
        "    plt.subplot(1, 2, 2)\n",
        "    plt.plot(x, loss, 'b', label='Training loss')\n",
        "    plt.plot(x, val_loss, 'r', label='Validation loss')\n",
        "    plt.title('Training and validation loss')\n",
        "    plt.legend()"
      ],
      "execution_count": 49,
      "outputs": []
    },
    {
      "cell_type": "code",
      "metadata": {
        "colab": {
          "base_uri": "https://localhost:8080/",
          "height": 336
        },
        "id": "c9uMbSnjrWjp",
        "outputId": "0ae1cb82-31d8-48cb-9d74-39552c514941"
      },
      "source": [
        "plot_history(r)"
      ],
      "execution_count": 50,
      "outputs": [
        {
          "output_type": "display_data",
          "data": {
            "image/png": "[encoded data removed]",
            "text/plain": [
              "<Figure size 864x360 with 2 Axes>"
            ]
          },
          "metadata": {
            "tags": [],
            "needs_background": "light"
          }
        }
      ]
    }
  ]
}