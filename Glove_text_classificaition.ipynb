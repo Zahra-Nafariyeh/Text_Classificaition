{
  "nbformat": 4,
  "nbformat_minor": 0,
  "metadata": {
    "accelerator": "TPU",
    "colab": {
      "name": "Glove_text_classificaition.ipynb",
      "provenance": [],
      "collapsed_sections": [],
      "include_colab_link": true
    },
    "coursera": {
      "course_slug": "nlp-sequence-models",
      "graded_item_id": "RNnEs",
      "launcher_item_id": "acNYU"
    },
    "kernelspec": {
      "display_name": "Python 3",
      "language": "python",
      "name": "python3"
    },
    "language_info": {
      "codemirror_mode": {
        "name": "ipython",
        "version": 3
      },
      "file_extension": ".py",
      "mimetype": "text/x-python",
      "name": "python",
      "nbconvert_exporter": "python",
      "pygments_lexer": "ipython3",
      "version": "3.8.5"
    }
  },
  "cells": [
    {
      "cell_type": "markdown",
      "metadata": {
        "id": "view-in-github",
        "colab_type": "text"
      },
      "source": [
        "<a href=\"https://colab.research.google.com/github/Zahra-Nafariyeh/Text_Classificaition/blob/main/Glove_text_classificaition.ipynb\" target=\"_parent\"><img src=\"https://colab.research.google.com/assets/colab-badge.svg\" alt=\"Open In Colab\"/></a>"
      ]
    },
    {
      "cell_type": "code",
      "metadata": {
        "colab": {
          "base_uri": "https://localhost:8080/"
        },
        "id": "An742aE3bZUf",
        "outputId": "a97af153-a4b6-4d70-b7ca-ceca728e4903"
      },
      "source": [
        "from google.colab import drive\r\n",
        "drive.mount('/content/gdrive')"
      ],
      "execution_count": null,
      "outputs": [
        {
          "output_type": "stream",
          "text": [
            "Mounted at /content/gdrive\n"
          ],
          "name": "stdout"
        }
      ]
    },
    {
      "cell_type": "code",
      "metadata": {
        "colab": {
          "base_uri": "https://localhost:8080/"
        },
        "id": "AFDy8hFKbZgm",
        "outputId": "594cc85b-11b8-4dd0-956f-503a5d0c2a99"
      },
      "source": [
        "cd /content/gdrive/My\\ Drive/Glov/2"
      ],
      "execution_count": null,
      "outputs": [
        {
          "output_type": "stream",
          "text": [
            "/content/gdrive/My Drive/Glov/2\n"
          ],
          "name": "stdout"
        }
      ]
    },
    {
      "cell_type": "code",
      "metadata": {
        "colab": {
          "base_uri": "https://localhost:8080/"
        },
        "id": "6bSOqPcON30k",
        "outputId": "45b10db6-d13f-44f6-a67c-948db7e764cc"
      },
      "source": [
        "!ls"
      ],
      "execution_count": null,
      "outputs": [
        {
          "output_type": "stream",
          "text": [
            " 1_43_basic_text_classificaition.ipynb\n",
            " 1_text_classificaition.ipynb\n",
            " 2_07_text-classification-Emojify.ipynb\n",
            " 2_text_classificaition.ipynb\n",
            "'Copy of 07_text-classification-Emojify.ipynb'\n",
            " vectors.zip\n",
            " vocab.txt\n"
          ],
          "name": "stdout"
        }
      ]
    },
    {
      "cell_type": "code",
      "metadata": {
        "id": "icFKW5csu9dP"
      },
      "source": [
        "# z = read_csv('train_emoji.csv')\r\n",
        "# z2 = read_csv('tesss.csv')\r\n",
        "# z"
      ],
      "execution_count": null,
      "outputs": []
    },
    {
      "cell_type": "code",
      "metadata": {
        "colab": {
          "base_uri": "https://localhost:8080/"
        },
        "id": "BBns15kFiTJY",
        "outputId": "eedaa782-c271-4f5b-ca16-d02bb4f2a1ce"
      },
      "source": [
        "import numpy as np\n",
        "import matplotlib.pyplot as plt\n",
        "import keras\n",
        "%matplotlib inline\n",
        "\n",
        "\n",
        "import csv\n",
        "import json\n",
        "import pandas as pd\n",
        "import numpy as np\n",
        "from tqdm import tqdm\n",
        "import os\n",
        "import re\n",
        "import tensorflow as tf\n",
        "import tensorflow_datasets as tfds\n",
        "from sklearn.model_selection import train_test_split\n",
        "\n",
        "import nltk\n",
        "nltk.download('stopwords')\n",
        "nltk.download('punkt')\n",
        "nltk.download('wordnet')\n",
        "import string\n",
        "# import contractions\n",
        "from nltk.tokenize import word_tokenize\n",
        "from nltk.corpus import stopwords, wordnet\n",
        "from nltk.stem import WordNetLemmatizer\n",
        "from nltk.tokenize import word_tokenize, TweetTokenizer\n",
        "\n",
        "# from nltk.stem import WordNetLemmatizerplt.xticks(rotation=70)\n",
        "pd.options.mode.chained_assignment = None\n",
        "pd.set_option('display.max_colwidth', 100)\n",
        "%matplotlib inline\n",
        "\n",
        "from nltk.stem import WordNetLemmatizer\n",
        "wordnet_lemmatizer = WordNetLemmatizer()\n",
        "\n",
        "stop = set(nltk.corpus.stopwords.words('english'))\n",
        " \n",
        "\n",
        "\n",
        "from nltk.stem import PorterStemmer \n",
        "from nltk.tokenize import word_tokenize \n",
        "\n",
        "from gensim.models.fasttext import FastText\n",
        " \n",
        "from sklearn.decomposition import PCA\n",
        "from sklearn.manifold import TSNE\n",
        "import seaborn as sns\n",
        "import matplotlib.pyplot as plt\n",
        " \n",
        "# Lemmatization\n",
        "from nltk.stem import WordNetLemmatizer\n",
        "stemmer = WordNetLemmatizer()\n",
        "\n",
        "from nltk.stem import PorterStemmer \n",
        "from nltk.tokenize import word_tokenize \n",
        "   \n",
        "ps = PorterStemmer() "
      ],
      "execution_count": null,
      "outputs": [
        {
          "output_type": "stream",
          "text": [
            "[nltk_data] Downloading package stopwords to /root/nltk_data...\n",
            "[nltk_data]   Unzipping corpora/stopwords.zip.\n",
            "[nltk_data] Downloading package punkt to /root/nltk_data...\n",
            "[nltk_data]   Unzipping tokenizers/punkt.zip.\n",
            "[nltk_data] Downloading package wordnet to /root/nltk_data...\n",
            "[nltk_data]   Unzipping corpora/wordnet.zip.\n"
          ],
          "name": "stdout"
        }
      ]
    },
    {
      "cell_type": "markdown",
      "metadata": {
        "id": "ErIzQqeBiTJg"
      },
      "source": [
        "### <div style=\"direction:rtl;text-align:right;font-family:B Lotus, B Nazanin, Tahoma\"> تابع کمکی برای خواند مجموعه داده\n",
        "</div>\n"
      ]
    },
    {
      "cell_type": "code",
      "metadata": {
        "id": "QI7J3_qfiTJl"
      },
      "source": [
        "import csv\n",
        "def read_csv(filename):\n",
        "    phrase = []\n",
        "    emoji = []\n",
        "\n",
        "    with open (filename) as csvDataFile:\n",
        "        csvReader = csv.reader(csvDataFile)\n",
        "\n",
        "        for row in csvReader:\n",
        "            phrase.append(row[0])\n",
        "            emoji.append(row[1])\n",
        "\n",
        "    X = np.asarray(phrase)\n",
        "    Y = np.asarray(emoji, dtype=int)\n",
        "\n",
        "    return X, Y"
      ],
      "execution_count": null,
      "outputs": []
    },
    {
      "cell_type": "code",
      "metadata": {
        "colab": {
          "base_uri": "https://localhost:8080/"
        },
        "id": "GdA2yPaya1cy",
        "outputId": "d4d956d6-77a6-4afa-9658-d2ef63914be7"
      },
      "source": [
        "cd /content/gdrive/My\\ Drive/Dataset/"
      ],
      "execution_count": null,
      "outputs": [
        {
          "output_type": "stream",
          "text": [
            "/content/gdrive/My Drive/Dataset\n"
          ],
          "name": "stdout"
        }
      ]
    },
    {
      "cell_type": "code",
      "metadata": {
        "id": "sKky6gbjA7KO"
      },
      "source": [
        "# X_train, Y_train = read_csv('train_emoji.csv')\r\n",
        "# X_test, Y_test = read_csv('tesss.csv')\r\n",
        "\r\n",
        "\r\n",
        "df = pd.read_csv(\"yelp_review.csv\")\r\n",
        "df.head(3)\r\n",
        "df =df[0:1000]"
      ],
      "execution_count": null,
      "outputs": []
    },
    {
      "cell_type": "code",
      "metadata": {
        "id": "CZ8EL_AzGQ32",
        "colab": {
          "base_uri": "https://localhost:8080/"
        },
        "outputId": "2f093900-9c90-4566-b458-4908113690a6"
      },
      "source": [
        "print(df.shape)"
      ],
      "execution_count": null,
      "outputs": [
        {
          "output_type": "stream",
          "text": [
            "(1000, 9)\n"
          ],
          "name": "stdout"
        }
      ]
    },
    {
      "cell_type": "code",
      "metadata": {
        "colab": {
          "base_uri": "https://localhost:8080/",
          "height": 580
        },
        "id": "ySnfYxIlVD9S",
        "outputId": "275dbb9e-00cb-4f10-9ae0-c9224595cb69"
      },
      "source": [
        "df.head(3)"
      ],
      "execution_count": null,
      "outputs": [
        {
          "output_type": "execute_result",
          "data": {
            "text/html": [
              "<div>\n",
              "<style scoped>\n",
              "    .dataframe tbody tr th:only-of-type {\n",
              "        vertical-align: middle;\n",
              "    }\n",
              "\n",
              "    .dataframe tbody tr th {\n",
              "        vertical-align: top;\n",
              "    }\n",
              "\n",
              "    .dataframe thead th {\n",
              "        text-align: right;\n",
              "    }\n",
              "</style>\n",
              "<table border=\"1\" class=\"dataframe\">\n",
              "  <thead>\n",
              "    <tr style=\"text-align: right;\">\n",
              "      <th></th>\n",
              "      <th>review_id</th>\n",
              "      <th>user_id</th>\n",
              "      <th>business_id</th>\n",
              "      <th>stars</th>\n",
              "      <th>date</th>\n",
              "      <th>text</th>\n",
              "      <th>useful</th>\n",
              "      <th>funny</th>\n",
              "      <th>cool</th>\n",
              "    </tr>\n",
              "  </thead>\n",
              "  <tbody>\n",
              "    <tr>\n",
              "      <th>0</th>\n",
              "      <td>vkVSCC7xljjrAI4UGfnKEQ</td>\n",
              "      <td>bv2nCi5Qv5vroFiqKGopiw</td>\n",
              "      <td>AEx2SYEUJmTxVVB18LlCwA</td>\n",
              "      <td>5</td>\n",
              "      <td>2016-05-28</td>\n",
              "      <td>Super simple place but amazing nonetheless. It's been around since the 30's and they still serve...</td>\n",
              "      <td>0</td>\n",
              "      <td>0</td>\n",
              "      <td>0</td>\n",
              "    </tr>\n",
              "    <tr>\n",
              "      <th>1</th>\n",
              "      <td>n6QzIUObkYshz4dz2QRJTw</td>\n",
              "      <td>bv2nCi5Qv5vroFiqKGopiw</td>\n",
              "      <td>VR6GpWIda3SfvPC-lg9H3w</td>\n",
              "      <td>5</td>\n",
              "      <td>2016-05-28</td>\n",
              "      <td>Small unassuming place that changes their menu every so often. Cool decor and vibe inside their ...</td>\n",
              "      <td>0</td>\n",
              "      <td>0</td>\n",
              "      <td>0</td>\n",
              "    </tr>\n",
              "    <tr>\n",
              "      <th>2</th>\n",
              "      <td>MV3CcKScW05u5LVfF6ok0g</td>\n",
              "      <td>bv2nCi5Qv5vroFiqKGopiw</td>\n",
              "      <td>CKC0-MOWMqoeWf6s-szl8g</td>\n",
              "      <td>5</td>\n",
              "      <td>2016-05-28</td>\n",
              "      <td>Lester's is located in a beautiful neighborhood and has been there since 1951. They are known fo...</td>\n",
              "      <td>0</td>\n",
              "      <td>0</td>\n",
              "      <td>0</td>\n",
              "    </tr>\n",
              "  </tbody>\n",
              "</table>\n",
              "</div>"
            ],
            "text/plain": [
              "                review_id                 user_id  ... funny  cool\n",
              "0  vkVSCC7xljjrAI4UGfnKEQ  bv2nCi5Qv5vroFiqKGopiw  ...     0     0\n",
              "1  n6QzIUObkYshz4dz2QRJTw  bv2nCi5Qv5vroFiqKGopiw  ...     0     0\n",
              "2  MV3CcKScW05u5LVfF6ok0g  bv2nCi5Qv5vroFiqKGopiw  ...     0     0\n",
              "\n",
              "[3 rows x 9 columns]"
            ]
          },
          "metadata": {
            "tags": []
          },
          "execution_count": 7
        }
      ]
    },
    {
      "cell_type": "code",
      "metadata": {
        "colab": {
          "base_uri": "https://localhost:8080/"
        },
        "id": "8YfoMJw9WSsG",
        "outputId": "c902e569-b4de-403d-813a-00f0e372cc9a"
      },
      "source": [
        "df.columns"
      ],
      "execution_count": null,
      "outputs": [
        {
          "output_type": "execute_result",
          "data": {
            "text/plain": [
              "Index(['review_id', 'user_id', 'business_id', 'stars', 'date', 'text',\n",
              "       'useful', 'funny', 'cool'],\n",
              "      dtype='object')"
            ]
          },
          "metadata": {
            "tags": []
          },
          "execution_count": 8
        }
      ]
    },
    {
      "cell_type": "code",
      "metadata": {
        "id": "x4jJ_wkJBysk",
        "colab": {
          "base_uri": "https://localhost:8080/"
        },
        "outputId": "9c46c8bb-2c46-4bdb-9704-2618338129c1"
      },
      "source": [
        "df.stars.unique()"
      ],
      "execution_count": null,
      "outputs": [
        {
          "output_type": "execute_result",
          "data": {
            "text/plain": [
              "array([5, 4, 3, 1, 2])"
            ]
          },
          "metadata": {
            "tags": []
          },
          "execution_count": 8
        }
      ]
    },
    {
      "cell_type": "markdown",
      "metadata": {
        "id": "PKcPJ2s_WEcY"
      },
      "source": [
        "##convert lable, zero start"
      ]
    },
    {
      "cell_type": "code",
      "metadata": {
        "colab": {
          "base_uri": "https://localhost:8080/"
        },
        "id": "tzFW31f8XhDa",
        "outputId": "48c6fbdb-5f50-4c0a-9935-5af472f72de6"
      },
      "source": [
        "df[\"stars\"].replace({1: 0, 2: 1,3: 2, 4: 3,5: 4}, inplace=True)\r\n",
        "\r\n",
        "# print(df)\r\n",
        "df[df['stars'] ==5].count()\r\n"
      ],
      "execution_count": null,
      "outputs": [
        {
          "output_type": "execute_result",
          "data": {
            "text/plain": [
              "review_id      0\n",
              "user_id        0\n",
              "business_id    0\n",
              "stars          0\n",
              "date           0\n",
              "text           0\n",
              "useful         0\n",
              "funny          0\n",
              "cool           0\n",
              "dtype: int64"
            ]
          },
          "metadata": {
            "tags": []
          },
          "execution_count": 9
        }
      ]
    },
    {
      "cell_type": "code",
      "metadata": {
        "colab": {
          "base_uri": "https://localhost:8080/",
          "height": 369
        },
        "id": "GxkkcQAa94LL",
        "outputId": "b9394f98-f995-4716-fc0a-4b993074a5ed"
      },
      "source": [
        "print(\"class 0 : \",len(df.loc[df.stars == 0 ])) \r\n",
        "print(\"class 1 : \",len(df.loc[df.stars == 1 ])) \r\n",
        "print(\"class 2 : \",len(df.loc[df.stars == 2 ])) \r\n",
        "print(\"class 3 : \",len(df.loc[df.stars == 3 ])) \r\n",
        "print(\"class 4 : \",len(df.loc[df.stars == 4 ])) \r\n",
        "\r\n",
        "target_count = df.stars.value_counts()\r\n",
        "target_count.plot(kind='bar', title='Count (Lable)');"
      ],
      "execution_count": null,
      "outputs": [
        {
          "output_type": "stream",
          "text": [
            "class 0 :  69\n",
            "class 1 :  111\n",
            "class 2 :  259\n",
            "class 3 :  332\n",
            "class 4 :  229\n"
          ],
          "name": "stdout"
        },
        {
          "output_type": "display_data",
          "data": {
            "image/png": "[encoded data removed]",
            "text/plain": [
              "<Figure size 432x288 with 1 Axes>"
            ]
          },
          "metadata": {
            "tags": [],
            "needs_background": "light"
          }
        }
      ]
    },
    {
      "cell_type": "code",
      "metadata": {
        "id": "Jgd6oT59_J49"
      },
      "source": [
        "# data = data.target.resample(0)\r\n",
        "# print(\"class 0 : \",data[data.target == 0].shape) \r\n",
        "from sklearn.utils import resample\r\n",
        "\r\n",
        "\r\n",
        "# Upsample minority class #2770\r\n",
        "class_0 = resample( df[df.stars== 0 ], \r\n",
        "                                replace=True,     # sample with replacement\r\n",
        "                                n_samples=259,    # to match majority class\r\n",
        "                                random_state=123) # reproducible results\r\n",
        "\r\n",
        "\r\n",
        "class_1 = resample( df[df.stars== 1 ], \r\n",
        "                                replace=True,     # sample with replacement\r\n",
        "                                n_samples=259,    # to match majority class\r\n",
        "                                random_state=123) # reproducible results\r\n",
        "\r\n",
        "class_2 = resample( df[df.stars== 2 ], \r\n",
        "                                replace=True,     # sample with replacement\r\n",
        "                                n_samples=259,    # to match majority class\r\n",
        "                                random_state=123) # reproducible results \r\n",
        "\r\n",
        "\r\n",
        "class_3 = resample( df[df.stars== 3 ], \r\n",
        "                                replace=True,     # sample with replacement\r\n",
        "                                n_samples=259,    # to match majority class\r\n",
        "                                random_state=123) # reproducible results\r\n",
        "\r\n",
        "\r\n",
        "\r\n",
        "class_4 = resample( df[df.stars== 4 ], \r\n",
        "                                replace=True,     # sample with replacement\r\n",
        "                                n_samples=259,    # to match majority class\r\n",
        "                                random_state=123) # reproducible results \r\n",
        "                                                                                                                                                                                                                                                                                                         "
      ],
      "execution_count": null,
      "outputs": []
    },
    {
      "cell_type": "code",
      "metadata": {
        "id": "1FWx3y8E_j6q"
      },
      "source": [
        "df = pd.concat([class_0,class_1,class_2,class_3,class_4 ])#, class_2 ,class_3,\r\n",
        "                    #  class_4,class_5, class_6 ,class_7,\r\n",
        "                    #  class_8,class_9, class_10 ,class_11])\r\n",
        "# df"
      ],
      "execution_count": null,
      "outputs": []
    },
    {
      "cell_type": "code",
      "metadata": {
        "colab": {
          "base_uri": "https://localhost:8080/",
          "height": 369
        },
        "id": "cpl1lxe-CgRi",
        "outputId": "9e4bd11a-311a-4536-eb8b-dbdfaf4b74bd"
      },
      "source": [
        "print(\"class 0 : \",len(df.loc[df.stars == 0 ])) \r\n",
        "print(\"class 1 : \",len(df.loc[df.stars == 1 ])) \r\n",
        "print(\"class 2 : \",len(df.loc[df.stars == 2 ])) \r\n",
        "print(\"class 3 : \",len(df.loc[df.stars == 3 ])) \r\n",
        "print(\"class 4 : \",len(df.loc[df.stars == 4 ])) \r\n",
        "\r\n",
        "target_count = df.stars.value_counts()\r\n",
        "target_count.plot(kind='bar', title='Count (Lable)');"
      ],
      "execution_count": null,
      "outputs": [
        {
          "output_type": "stream",
          "text": [
            "class 0 :  259\n",
            "class 1 :  259\n",
            "class 2 :  259\n",
            "class 3 :  259\n",
            "class 4 :  259\n"
          ],
          "name": "stdout"
        },
        {
          "output_type": "display_data",
          "data": {
            "image/png": "[encoded data removed]",
            "text/plain": [
              "<Figure size 432x288 with 1 Axes>"
            ]
          },
          "metadata": {
            "tags": [],
            "needs_background": "light"
          }
        }
      ]
    },
    {
      "cell_type": "code",
      "metadata": {
        "id": "sn1NQSUp_yJl"
      },
      "source": [
        "#shuffle the dataset\r\n",
        "df = df.sample(frac=1).reset_index(drop=True)\r\n",
        "# res_df.polarity = res_df.polarity.astype('str')\r\n",
        "# df"
      ],
      "execution_count": null,
      "outputs": []
    },
    {
      "cell_type": "code",
      "metadata": {
        "id": "1b5JGVnC_yMY"
      },
      "source": [
        ""
      ],
      "execution_count": null,
      "outputs": []
    },
    {
      "cell_type": "markdown",
      "metadata": {
        "id": "UA2mEOscB82M"
      },
      "source": [
        "##Preeprocess"
      ]
    },
    {
      "cell_type": "code",
      "metadata": {
        "id": "IOCQAqgclmdO"
      },
      "source": [
        "# a['t'] = ['How are you', 'are', 'You']\r\n",
        "# a = pd.DataFrame(a)\r\n",
        "# a.shape\r\n",
        "# a['t'] = a['t'].apply(lambda x: \" \".join(x for x in x.split() if  not(x[0].isupper())))\r\n",
        "# a['t']\r\n"
      ],
      "execution_count": null,
      "outputs": []
    },
    {
      "cell_type": "code",
      "metadata": {
        "colab": {
          "base_uri": "https://localhost:8080/",
          "height": 806
        },
        "id": "j1ggjB2gB8UX",
        "outputId": "223a6072-9529-4cab-dc7e-860a793f2dad"
      },
      "source": [
        "\r\n",
        "#############################################################################\r\n",
        "#  def Cleaning_df(df):\r\n",
        "       #convert all word to lower case\r\n",
        "df['text']=df['text'].str.lower()\r\n",
        "       #Removes unicode strings like \"\\u002c\" and \"x96\"\r\n",
        "df['text']= df['text'].str.replace(r'(\\\\u[0-9A-Fa-f]+)', '')\r\n",
        "\r\n",
        "df['text']= df['text'].str.replace(r'[^\\x00-\\x7f]', '')\r\n",
        "       #convert any url to URL\r\n",
        "\r\n",
        "df['text'] = df['text'].replace(r'http\\S+', 'URL', regex=True).replace(r'www\\S+', 'URL', regex=True)\r\n",
        "       #Convert any @Username to \"AT_USER\"\r\n",
        "\r\n",
        "df['text'] = df['text'].replace('@[^\\s]+','AT_USER' ,regex=True)\r\n",
        "df['text']=df['text'].str.replace('\\d+', '')\r\n",
        "\r\n",
        "# df['text'] = df['text'].apply(lambda x: \" \".join(x for x in x.split(') if x not in x.isdigit()))\r\n",
        "\r\n",
        "       #tokenize\r\n",
        "df['text'] = df.apply(lambda row: nltk.word_tokenize(row['text']), axis=1)\r\n",
        "       \r\n",
        "       \r\n",
        "       #Remove additional white spaces\r\n",
        "df['text'] = df['text'].replace('[\\s]+', ' ', regex=True)\r\n",
        "df['text'] = df['text'].replace('[\\n]+', ' ', regex=True)\r\n",
        "       #Remove not alphanumeric symbols white spaces\r\n",
        "\r\n",
        "df['text'] = df['text'].replace('[^\\w]', ' ', regex=True)\r\n",
        "\r\n",
        "       #Removes hastag in front of a word \"\"\"\r\n",
        "\r\n",
        "df['text'] = df['text'].replace('#([^\\s]+)', r'\\1')\r\n",
        "\r\n",
        "        #Remove :( or :)\r\n",
        "\r\n",
        "df['text'] = df['text'].replace(':)','')\r\n",
        "df['text'] = df['text'].replace(':(','')\r\n",
        "\r\n",
        "#         #remove number\r\n",
        "# df['text']=df['text'].str.replace('\\d+', '')\r\n",
        "# df['text'] = df['text'].apply(lambda x: \"\".join([x for x in x.split() if not x.isdigit()]))\r\n",
        "\r\n",
        "\r\n",
        "#         #remove multiple exclamation\r\n",
        "df['text'] = df['text'].replace(r\"(\\!)\\1+\", ' ')\r\n",
        "#         #remove multiple question marks\r\n",
        "df['text'] = df['text'].replace(r\"(\\?)\\1+\", ' ')\r\n",
        "#         #remove multistop\r\n",
        "df['text'] = df['text'].astype(str).replace(r\"(\\.)\\1+\", ' ')\r\n",
        "#         #Removes emoticons from text\r\n",
        "df['text'] = df['text'].str.replace(':\\)|;\\)|:-\\)|\\(-:|:-D|=D|:P|xD|X-p|\\^\\^|:-*|\\^\\.\\^|\\^\\-\\^|\\^\\_\\^|\\,-\\)|\\)-:|:\\'\\(|:\\(|:-\\(|:\\S|T\\.T|\\.\\_\\.|:<|:-\\S|:-<|\\*\\-\\*|:O|=O|=\\-O|O\\.o|XO|O\\_O|:-\\@|=/|:/|X\\-\\(|>\\.<|>=\\(|D:', \"r\")\r\n",
        "\r\n",
        "df['text'] = df['text'].str.strip()\r\n",
        "\r\n",
        "#         #remove punctuation\r\n",
        "df['text'] = df['text'].str.replace(r'[^\\w\\s]+', '')\r\n",
        "        #remove stop word\r\n",
        "df['text'] = df['text'].apply(lambda x: \" \".join(x for x in x.split() if x not in stop))\r\n",
        "\r\n",
        "        #correcting spelling\r\n",
        "# df['text'].apply(lambda x: str(TextBlob(x).correct()))\r\n",
        "        #extracting a root word\r\n",
        "df['text'] = df['text'].apply(lambda x: \" \".join( ps.stem(x) for x in x.split()))\r\n",
        "\r\n",
        "        #Lemmatization is a process of\r\n",
        "        #  extracting a root word by considering the vocabulary. For example, “good,”\r\n",
        "        # “better,” or “best” is lemmatized into good\r\n",
        "df['text'] = df['text'].apply(lambda x: \" \".join([wordnet_lemmatizer.lemmatize(word) for word in x.split()]))\r\n",
        "\r\n",
        "\r\n",
        "################################################################\r\n",
        "#حذف اسامی خاص در هر سطر موجود در دیتافریم باید بعد از ریشه یابی انجام شود چون ریشه یابی ممکنه لغت معمولی حاصل کنه\r\n",
        "df['text'] = df['text'].apply(lambda x: \" \".join(x for x in x.split() if  not(x[0].isupper())))\r\n",
        "\r\n",
        "# Make all text as Lower Case\r\n",
        "df['text'] = df['text'].apply(lambda x: \" \".join(x.lower() for x in x.split())) \r\n",
        "# Remove Punctuations\r\n",
        "df['text'] = df['text'].str.replace('[^\\w\\s]','')\r\n",
        "# Remove \\n and \\t in each text\r\n",
        "df['text'] = df['text'].str.replace('\\n',' ', regex=True).replace('\\t',' ', regex=True)\r\n",
        "# Remove Stopwords\r\n",
        "df['text'] = df['text'].apply(lambda x: \" \".join(x for x in x.split() if x not in stop))\r\n",
        "# Find 30 top Common or most frequent Words\r\n",
        "freq = pd.Series(' '.join(df['text']).split()).value_counts()[:30]\r\n",
        "# Find 50 top rare or least frequent Words\r\n",
        "rare = pd.Series(' '.join(df['text']).split()).value_counts()[-50:]\r\n",
        "# Remove Rare Words\r\n",
        "rare = list(rare.index)\r\n",
        "df['text'] = df['text'].apply(lambda x: \" \".join(x for x in x.split() if x not in rare))\r\n",
        "# Remove Whitespace from beginning and the end of the text\r\n",
        "df['text'] = df['text'].str.strip()\r\n",
        "# Remove Numbers\r\n",
        "df['text'] = df['text'].apply(lambda x: \" \".join(x for x in x.split() if not x.isdigit()))\r\n",
        "df.head(3)\r\n",
        "\r\n",
        "\r\n",
        "\r\n",
        "# # import these modules \r\n",
        "# from nltk.stem import PorterStemmer \r\n",
        "# from nltk.tokenize import word_tokenize \r\n",
        "   \r\n",
        "# ps = PorterStemmer() \r\n",
        "  \r\n",
        "\r\n",
        "  \r\n",
        "# for w in words: \r\n",
        "#     print(w, \" : \", ps.stem(w)) \r\n"
      ],
      "execution_count": null,
      "outputs": [
        {
          "output_type": "execute_result",
          "data": {
            "text/html": [
              "<div>\n",
              "<style scoped>\n",
              "    .dataframe tbody tr th:only-of-type {\n",
              "        vertical-align: middle;\n",
              "    }\n",
              "\n",
              "    .dataframe tbody tr th {\n",
              "        vertical-align: top;\n",
              "    }\n",
              "\n",
              "    .dataframe thead th {\n",
              "        text-align: right;\n",
              "    }\n",
              "</style>\n",
              "<table border=\"1\" class=\"dataframe\">\n",
              "  <thead>\n",
              "    <tr style=\"text-align: right;\">\n",
              "      <th></th>\n",
              "      <th>review_id</th>\n",
              "      <th>user_id</th>\n",
              "      <th>business_id</th>\n",
              "      <th>stars</th>\n",
              "      <th>date</th>\n",
              "      <th>text</th>\n",
              "      <th>useful</th>\n",
              "      <th>funny</th>\n",
              "      <th>cool</th>\n",
              "    </tr>\n",
              "  </thead>\n",
              "  <tbody>\n",
              "    <tr>\n",
              "      <th>0</th>\n",
              "      <td>iPqFD9u2K2KRK99tcruL_A</td>\n",
              "      <td>nOTl4aPC4tKHK35T3bNauQ</td>\n",
              "      <td>h0TKP2PK0QaAqvqdILU1Vg</td>\n",
              "      <td>3</td>\n",
              "      <td>2015-02-07</td>\n",
              "      <td>went sister boyfriend drink hungri order appet share drink fine mix drink small side food realli...</td>\n",
              "      <td>5</td>\n",
              "      <td>0</td>\n",
              "      <td>0</td>\n",
              "    </tr>\n",
              "    <tr>\n",
              "      <th>1</th>\n",
              "      <td>EY1mL968hGQt5xWgILX7gw</td>\n",
              "      <td>u0LXt3Uea_GidxRW1xcsfg</td>\n",
              "      <td>AF_VU15nNsqIg7-y9uiQug</td>\n",
              "      <td>1</td>\n",
              "      <td>2011-01-06</td>\n",
              "      <td>went friend purchas groupon back april groupon review pretti good place sure amount groupon sold...</td>\n",
              "      <td>1</td>\n",
              "      <td>0</td>\n",
              "      <td>1</td>\n",
              "    </tr>\n",
              "    <tr>\n",
              "      <th>2</th>\n",
              "      <td>BF0ANB54sc_f-3_howQBCg</td>\n",
              "      <td>ssuXFjkH4neiBgwv-oN4IA</td>\n",
              "      <td>JlNeaOymdVbE6_bubqjohg</td>\n",
              "      <td>0</td>\n",
              "      <td>2014-08-09</td>\n",
              "      <td>alway go chevo chandler delici one ahwatuke differ reason order chicken roll taco today tini lil...</td>\n",
              "      <td>3</td>\n",
              "      <td>0</td>\n",
              "      <td>0</td>\n",
              "    </tr>\n",
              "  </tbody>\n",
              "</table>\n",
              "</div>"
            ],
            "text/plain": [
              "                review_id                 user_id  ... funny  cool\n",
              "0  iPqFD9u2K2KRK99tcruL_A  nOTl4aPC4tKHK35T3bNauQ  ...     0     0\n",
              "1  EY1mL968hGQt5xWgILX7gw  u0LXt3Uea_GidxRW1xcsfg  ...     0     1\n",
              "2  BF0ANB54sc_f-3_howQBCg  ssuXFjkH4neiBgwv-oN4IA  ...     0     0\n",
              "\n",
              "[3 rows x 9 columns]"
            ]
          },
          "metadata": {
            "tags": []
          },
          "execution_count": 14
        }
      ]
    },
    {
      "cell_type": "code",
      "metadata": {
        "id": "3kcAQ4W0QbBo"
      },
      "source": [
        "df = df.drop(columns=['review_id', 'user_id', 'business_id', 'date', 'useful', 'funny','cool'])"
      ],
      "execution_count": null,
      "outputs": []
    },
    {
      "cell_type": "code",
      "metadata": {
        "colab": {
          "base_uri": "https://localhost:8080/"
        },
        "id": "N_byJsNSQpuz",
        "outputId": "9ddfe405-3b2b-42f4-c8c4-d10b52e1c52b"
      },
      "source": [
        "df.stars.unique()"
      ],
      "execution_count": null,
      "outputs": [
        {
          "output_type": "execute_result",
          "data": {
            "text/plain": [
              "array([3, 1, 0, 2, 4])"
            ]
          },
          "metadata": {
            "tags": []
          },
          "execution_count": 16
        }
      ]
    },
    {
      "cell_type": "code",
      "metadata": {
        "colab": {
          "base_uri": "https://localhost:8080/"
        },
        "id": "FtovWtnLTaAH",
        "outputId": "1be1a679-f956-479c-a981-924c934de252"
      },
      "source": [
        "df.columns"
      ],
      "execution_count": null,
      "outputs": [
        {
          "output_type": "execute_result",
          "data": {
            "text/plain": [
              "Index(['stars', 'text'], dtype='object')"
            ]
          },
          "metadata": {
            "tags": []
          },
          "execution_count": 17
        }
      ]
    },
    {
      "cell_type": "code",
      "metadata": {
        "id": "E1O6e1IHiTJo"
      },
      "source": [
        "# X_train,Y_train = df['stars', 'text'][0:8000]\n",
        "\n",
        "\n",
        "X_train = df['text'][0:800]\n",
        "Y_train = df['stars'][0:800]\n",
        "\n",
        "X_test = df['text'][801:1000]   \n",
        "Y_test = df['stars'][801:1000]\n",
        "# df_f =tuple((df1,df2))\n",
        "# X_train\n",
        "\n",
        "# X_train = X_train.reset_index()\n",
        "# Y_train = Y_train.reset_index()\n",
        "\n",
        "\n",
        "# X_test = X_test.reset_index(drop=True)\n",
        "# Y_test = Y_test.reset_index(drop=True)"
      ],
      "execution_count": null,
      "outputs": []
    },
    {
      "cell_type": "code",
      "metadata": {
        "colab": {
          "base_uri": "https://localhost:8080/"
        },
        "id": "APsk6nXLnEM-",
        "outputId": "c76efdf4-8538-4831-c906-d36015994db4"
      },
      "source": [
        "X_test.shape , Y_test.shape"
      ],
      "execution_count": null,
      "outputs": [
        {
          "output_type": "execute_result",
          "data": {
            "text/plain": [
              "((199,), (199,))"
            ]
          },
          "metadata": {
            "tags": []
          },
          "execution_count": 16
        }
      ]
    },
    {
      "cell_type": "code",
      "metadata": {
        "colab": {
          "base_uri": "https://localhost:8080/"
        },
        "id": "OUJ-ALDYP3qO",
        "outputId": "53002c16-04dc-4c23-c7c4-93a3c2c6f992"
      },
      "source": [
        "Y_train.unique()\r\n",
        "Y_test.unique()"
      ],
      "execution_count": null,
      "outputs": [
        {
          "output_type": "execute_result",
          "data": {
            "text/plain": [
              "array([0, 3, 4, 2, 1])"
            ]
          },
          "metadata": {
            "tags": []
          },
          "execution_count": 19
        }
      ]
    },
    {
      "cell_type": "markdown",
      "metadata": {
        "id": "DYmFc3MIckcN"
      },
      "source": [
        "##  مینی بچ ها باید طول یکسان داشته باشند"
      ]
    },
    {
      "cell_type": "code",
      "metadata": {
        "colab": {
          "base_uri": "https://localhost:8080/"
        },
        "id": "lrqyxI6YiTJt",
        "outputId": "fcf61ab3-910a-4cd2-8b7b-a5e57d137da6"
      },
      "source": [
        "maxLen = len(max(X_train, key=len).split())\n",
        "maxLen"
      ],
      "execution_count": null,
      "outputs": [
        {
          "output_type": "execute_result",
          "data": {
            "text/plain": [
              "491"
            ]
          },
          "metadata": {
            "tags": []
          },
          "execution_count": 20
        }
      ]
    },
    {
      "cell_type": "markdown",
      "metadata": {
        "id": "U6QPxil1iTJ1"
      },
      "source": [
        "### <div style=\"direction:rtl;text-align:right;font-family:B Lotus, B Nazanin, Tahoma\"> تابع کمکی تبدیل label ها به Emoji\n",
        "</div>\n"
      ]
    },
    {
      "cell_type": "code",
      "metadata": {
        "colab": {
          "base_uri": "https://localhost:8080/"
        },
        "id": "mfD_P12piTJ3",
        "outputId": "1351816b-52e0-4226-c751-f775894365a3"
      },
      "source": [
        "!pip install emoji\n",
        "import emoji \n",
        "\n",
        "emoji_dictionary = {\"0\": \"\\u2764\\uFE0F\",    # :heart: prints a black instead of red heart depending on the font\n",
        "                    \"1\": \":baseball:\",\n",
        "                    \"2\": \":smile:\",\n",
        "                    \"3\": \":disappointed:\",\n",
        "                    \"4\": \":fork_and_knife:\"}\n",
        "\n",
        "def label_to_emoji(label):\n",
        "\n",
        "    return emoji.emojize(emoji_dictionary[str(label)], use_aliases=True)"
      ],
      "execution_count": null,
      "outputs": [
        {
          "output_type": "stream",
          "text": [
            "Requirement already satisfied: emoji in /usr/local/lib/python3.6/dist-packages (0.6.0)\n"
          ],
          "name": "stdout"
        }
      ]
    },
    {
      "cell_type": "code",
      "metadata": {
        "colab": {
          "base_uri": "https://localhost:8080/"
        },
        "id": "7Md1K9NwiTJ4",
        "outputId": "d756d406-1d6a-4fe6-9229-f0fe6c63befc"
      },
      "source": [
        "index = 4\n",
        "print(X_train[index], label_to_emoji(Y_train[index]))"
      ],
      "execution_count": null,
      "outputs": [
        {
          "output_type": "stream",
          "text": [
            "game play fun sure level servic worth price use go time first year open sinc standard serv staff serious gone hill pretti patient person come server last time gone track someon get servic bay let take last night exampl r friend minut someon final came tabl say hello take drink order luckili time decid food otherwis know long would could order eaten food refil chip way thank food runner server brought friend drink forgotten bar instead new one made brought drink tabl almost ice melt track could ask get new one made saw food runner busser twice number time saw actual server whole night place busi top le stellar servic food overpr get ye excel concept interest mediocr best recommend r go choos earlier day spend le game play save time might least worth pay overal experi ⚾\n"
          ],
          "name": "stdout"
        }
      ]
    },
    {
      "cell_type": "markdown",
      "metadata": {
        "id": "eOxxe_3qiTJ9"
      },
      "source": [
        "### <div style=\"direction:rtl;text-align:right;font-family:B Lotus, B Nazanin, Tahoma\">   تبدیل Labelها به بردار One-Hot\n",
        "</div>\n"
      ]
    },
    {
      "cell_type": "code",
      "metadata": {
        "colab": {
          "base_uri": "https://localhost:8080/"
        },
        "id": "ksho2HnHOD0y",
        "outputId": "041dec71-2884-4eea-dd87-1b1954ac77bb"
      },
      "source": [
        "Y_train.shape"
      ],
      "execution_count": null,
      "outputs": [
        {
          "output_type": "execute_result",
          "data": {
            "text/plain": [
              "(800,)"
            ]
          },
          "metadata": {
            "tags": []
          },
          "execution_count": 44
        }
      ]
    },
    {
      "cell_type": "code",
      "metadata": {
        "id": "nBrIeWXNiTJ-"
      },
      "source": [
        "Y_oh_train =  keras.utils.to_categorical(Y_train,  5)\n",
        "Y_oh_test =  keras.utils.to_categorical(Y_test, 5)"
      ],
      "execution_count": null,
      "outputs": []
    },
    {
      "cell_type": "code",
      "metadata": {
        "colab": {
          "base_uri": "https://localhost:8080/"
        },
        "id": "RyX7iLT1iTKA",
        "outputId": "a1c4c294-4dc9-4a92-a956-e27c64a35480"
      },
      "source": [
        "index = 50\n",
        "print(Y_train[index], \"is converted into one hot\", Y_oh_train[index])"
      ],
      "execution_count": null,
      "outputs": [
        {
          "output_type": "stream",
          "text": [
            "3 is converted into one hot [0. 0. 0. 1. 0.]\n"
          ],
          "name": "stdout"
        }
      ]
    },
    {
      "cell_type": "markdown",
      "metadata": {
        "id": "euLyCCeuiTKC"
      },
      "source": [
        "### <div style=\"direction:rtl;text-align:right;font-family:B Lotus, B Nazanin, Tahoma\"> تابع کمکی برای خواندن embedding از پیش آموزش داده شده.\n",
        "</div>\n",
        "##Pretrain  Glov Embedding"
      ]
    },
    {
      "cell_type": "code",
      "metadata": {
        "id": "jzGXETafiTKD"
      },
      "source": [
        "def read_glove_vecs(glove_file):\n",
        "    with open(glove_file, encoding=\"utf8\") as f:\n",
        "        words = set()\n",
        "        word_to_vec_map = {}\n",
        "        for line in f:\n",
        "            line = line.strip().split()\n",
        "            curr_word = line[0]\n",
        "            words.add(curr_word)\n",
        "            word_to_vec_map[curr_word] = np.array(line[1:], dtype=np.float64)\n",
        "            # print('1zzzzzzzzzzz')\n",
        "            # print(type(word_to_vec_map))\n",
        "            # print(word_to_vec_map)\n",
        "            # print(word_to_vec_map[curr_word])\n",
        "            # print('2zzzzzzzzzzz')\n",
        "        i = 1\n",
        "        words_to_index = {}\n",
        "        index_to_words = {}\n",
        "        for w in sorted(words):\n",
        "            words_to_index[w] = i\n",
        "            index_to_words[i] = w\n",
        "            i = i + 1\n",
        "    return words_to_index, index_to_words, word_to_vec_map"
      ],
      "execution_count": null,
      "outputs": []
    },
    {
      "cell_type": "code",
      "metadata": {
        "id": "9wkfYPcUiTKE"
      },
      "source": [
        "word_to_index, index_to_word, word_to_vec_map = read_glove_vecs('glove.6B.50d.txt')"
      ],
      "execution_count": null,
      "outputs": []
    },
    {
      "cell_type": "code",
      "metadata": {
        "colab": {
          "base_uri": "https://localhost:8080/"
        },
        "id": "qzHLILIlOd7B",
        "outputId": "159fc54a-9ad4-4e91-e9c0-aeab60cd34f1"
      },
      "source": [
        "type(index_to_word)"
      ],
      "execution_count": null,
      "outputs": [
        {
          "output_type": "execute_result",
          "data": {
            "text/plain": [
              "dict"
            ]
          },
          "metadata": {
            "tags": []
          },
          "execution_count": 49
        }
      ]
    },
    {
      "cell_type": "code",
      "metadata": {
        "id": "tWAOjd1PQmOF",
        "colab": {
          "base_uri": "https://localhost:8080/"
        },
        "outputId": "a5587b25-aab5-455c-d575-da87f836c14f"
      },
      "source": [
        "# word_to_index['none'] ---> 263564\r\n",
        "# word_to_index['akhavanpour']\r\n",
        "# word_to_index['unk']--->372306\r\n",
        "word_to_vec_map[\"unk\"]"
      ],
      "execution_count": null,
      "outputs": [
        {
          "output_type": "execute_result",
          "data": {
            "text/plain": [
              "array([-7.9149e-01,  8.6617e-01,  1.1998e-01,  9.2287e-04,  2.7760e-01,\n",
              "       -4.9185e-01,  5.0195e-01,  6.0792e-04, -2.5845e-01,  1.7865e-01,\n",
              "        2.5350e-01,  7.6572e-01,  5.0664e-01,  4.0250e-01, -2.1388e-03,\n",
              "       -2.8397e-01, -5.0324e-01,  3.0449e-01,  5.1779e-01,  1.5090e-02,\n",
              "       -3.5031e-01, -1.1278e+00,  3.3253e-01, -3.5250e-01,  4.1326e-02,\n",
              "        1.0863e+00,  3.3910e-02,  3.3564e-01,  4.9745e-01, -7.0131e-02,\n",
              "       -1.2192e+00, -4.8512e-01, -3.8512e-02, -1.3554e-01, -1.6380e-01,\n",
              "        5.2321e-01, -3.1318e-01, -1.6550e-01,  1.1909e-01, -1.5115e-01,\n",
              "       -1.5621e-01, -6.2655e-01, -6.2336e-01, -4.2150e-01,  4.1873e-01,\n",
              "       -9.2472e-01,  1.1049e+00, -2.9996e-01, -6.3003e-03,  3.9540e-01])"
            ]
          },
          "metadata": {
            "tags": []
          },
          "execution_count": 50
        }
      ]
    },
    {
      "cell_type": "code",
      "metadata": {
        "colab": {
          "base_uri": "https://localhost:8080/"
        },
        "id": "QG7XrdWdiTKG",
        "outputId": "e3bddb25-ff89-43c3-e240-080895f49689"
      },
      "source": [
        "word = \"ali\"\n",
        "index = 113317\n",
        "print(\"the index of\", word, \"in the vocabulary is\", word_to_index[word])\n",
        "print(\"the\", str(index) + \"th word in the vocabulary is\", index_to_word[index])"
      ],
      "execution_count": null,
      "outputs": [
        {
          "output_type": "stream",
          "text": [
            "the index of ali in the vocabulary is 51314\n",
            "the 113317th word in the vocabulary is cucumber\n"
          ],
          "name": "stdout"
        }
      ]
    },
    {
      "cell_type": "code",
      "metadata": {
        "colab": {
          "base_uri": "https://localhost:8080/"
        },
        "id": "steL5CZ1iTKI",
        "outputId": "07321bfb-fa34-4612-842c-33c44ebfa26b"
      },
      "source": [
        "word_to_vec_map[\"ali\"]"
      ],
      "execution_count": null,
      "outputs": [
        {
          "output_type": "execute_result",
          "data": {
            "text/plain": [
              "array([-0.71587 ,  0.7874  ,  0.71305 , -0.089955,  1.366   , -1.3149  ,\n",
              "        0.7309  ,  0.79725 ,  0.47211 ,  0.53347 ,  0.37542 , -0.10256 ,\n",
              "       -1.0003  , -0.31226 ,  0.26217 ,  0.92426 ,  0.43014 , -0.015593,\n",
              "        0.4149  ,  0.88286 ,  0.10869 ,  0.95213 ,  1.1807  ,  0.06445 ,\n",
              "       -0.05814 , -1.797   , -0.18432 , -0.41754 , -0.73625 ,  1.1607  ,\n",
              "        1.5932  , -0.70268 , -0.61621 ,  0.47118 ,  0.95046 ,  0.35206 ,\n",
              "        0.6072  ,  0.59339 , -0.47091 ,  1.4916  ,  0.27146 ,  1.8252  ,\n",
              "       -1.2073  , -0.80058 ,  0.52558 , -0.33346 , -1.4102  , -0.21514 ,\n",
              "        0.12945 , -0.69603 ])"
            ]
          },
          "metadata": {
            "tags": []
          },
          "execution_count": 132
        }
      ]
    },
    {
      "cell_type": "markdown",
      "metadata": {
        "id": "EmO1VMo-Z7fJ"
      },
      "source": [
        "################################\r\n",
        "##Part 2"
      ]
    },
    {
      "cell_type": "code",
      "metadata": {
        "id": "IG9TODZpYpA0"
      },
      "source": [
        ""
      ],
      "execution_count": null,
      "outputs": []
    },
    {
      "cell_type": "code",
      "metadata": {
        "id": "zRZHVr2WYpEc"
      },
      "source": [
        ""
      ],
      "execution_count": null,
      "outputs": []
    },
    {
      "cell_type": "code",
      "metadata": {
        "id": "hJT1nae0YC-d"
      },
      "source": [
        ""
      ],
      "execution_count": null,
      "outputs": []
    },
    {
      "cell_type": "code",
      "metadata": {
        "id": "aAxkuepLiTKY"
      },
      "source": [
        "import numpy as np\n",
        "np.random.seed(0)\n",
        "from keras.models import Model\n",
        "from keras.layers import Dense, Input, Dropout, LSTM, Activation\n",
        "from keras.layers.embeddings import Embedding\n",
        "from keras.preprocessing import sequence\n",
        "from keras.initializers import glorot_uniform\n",
        "np.random.seed(1)"
      ],
      "execution_count": null,
      "outputs": []
    },
    {
      "cell_type": "markdown",
      "metadata": {
        "id": "ZUD6Z3xYiTKc"
      },
      "source": [
        "### <div style=\"direction:rtl;text-align:right;font-family:B Lotus, B Nazanin, Tahoma\">   تبدیل جمله به indexها \n",
        "</div>\n",
        "<div style=\"direction:rtl;text-align:right;font-family:B Lotus, B Nazanin, Tahoma\">  \n",
        "این تابع طول تمام جمله ها را نیز یکسان میکند.\n",
        "</div>\n",
        "\n"
      ]
    },
    {
      "cell_type": "code",
      "metadata": {
        "id": "KOPzWuXLiTKd"
      },
      "source": [
        "\n",
        "def sentences_to_indices(X, word_to_index, max_len):\n",
        "    # print('1zzzzzzzzzzzzzzzzzzzzz')\n",
        "    # print('یعنی چندتا جمله داریم1:',X.shape)\n",
        "    m = X.shape[0]                                   # number of training examples\n",
        "    \n",
        "    # Initialize X_indices as a numpy matrix of zeros and the correct shape (≈ 1 line)\n",
        "    X_indices = np.zeros((m, max_len))\n",
        "    \n",
        "    for i in range(m):                               # loop over training examples\n",
        "        # print('2zzzzzzzzzzzzzzzzzzzzz')\n",
        "\n",
        "        # Convert the ith training sentence in lower case and split is into words. You should get a list of words.\n",
        "        try:\n",
        "            sentence_words = X[i].lower().split()\n",
        "            # print('2یعنی چندتا جمله داریم:',X.shape)\n",
        "        except:\n",
        "            sentence_words = X[i].split()\n",
        "            # print('EEzzzzzzzzzzzzzzzzzzzzz')\n",
        "        # Loop over the words of sentence_words\n",
        "        # print('AE2zzzzzzzzzzzzzzzzzzzzz')\n",
        "        for j, w in enumerate(sentence_words):\n",
        "            # Set the (i,j)th entry of X_indices to the index of the correct word.\n",
        "\n",
        "            try:\n",
        "                X_indices[i, j] = word_to_index[w]\n",
        "                # print('3zzzzzzzzzzzzzzzzzzzzz')\n",
        "            except:\n",
        "                \n",
        "                X_indices[i, j] = 372306\n",
        "                \n",
        "            # print('5یعنی چندتا جمله داریم:',X.shape)\n",
        "    return X_indices"
      ],
      "execution_count": null,
      "outputs": []
    },
    {
      "cell_type": "markdown",
      "metadata": {
        "id": "coFGIPQxiTKe"
      },
      "source": [
        "Run the following cell to check what `sentences_to_indices()` does, and check your results."
      ]
    },
    {
      "cell_type": "code",
      "metadata": {
        "colab": {
          "base_uri": "https://localhost:8080/"
        },
        "id": "gGbx3EyZiTKg",
        "outputId": "e1046697-cdf2-4041-92c0-cf731b304375"
      },
      "source": [
        "X1 = np.array([\"funny lol\", \"lets play baseball\", \"food is ready for you\"])\n",
        "X1_indices = sentences_to_indices(X1,word_to_index, max_len = 5)\n",
        "print(\"X1 =\", X1)\n",
        "print(\"X1_indices =\\n\", X1_indices)"
      ],
      "execution_count": null,
      "outputs": [
        {
          "output_type": "stream",
          "text": [
            "X1 = ['funny lol' 'lets play baseball' 'food is ready for you']\n",
            "X1_indices =\n",
            " [[155345. 225122.      0.      0.      0.]\n",
            " [220930. 286375.  69714.      0.      0.]\n",
            " [151204. 192973. 302254. 151349. 394475.]]\n"
          ],
          "name": "stdout"
        }
      ]
    },
    {
      "cell_type": "markdown",
      "metadata": {
        "id": "IKV5m-ybiTKh"
      },
      "source": [
        "### <div style=\"direction:rtl;text-align:right;font-family:B Lotus, B Nazanin, Tahoma\">   تابعی برای ایجاد لایه Embedding و لود وزن های از پیش آموزش داده شده \n",
        "</div>"
      ]
    },
    {
      "cell_type": "code",
      "metadata": {
        "id": "70iyoKFqiTKj"
      },
      "source": [
        "from keras.layers import Embedding\n",
        "def pretrained_embedding_layer(word_to_vec_map, word_to_index):\n",
        "    \n",
        "    vocab_len = len(word_to_index) + 1                  # adding 1 to fit Keras embedding (requirement)\n",
        "    emb_dim = word_to_vec_map[\"cucumber\"].shape[0]      # define dimensionality of your GloVe word vectors (= 50)\n",
        "    \n",
        "    # Initialize the embedding matrix as a numpy array of zeros of shape (vocab_len, dimensions of word vectors = emb_dim)\n",
        "    emb_matrix = np.zeros((vocab_len, emb_dim))\n",
        "    \n",
        "    # Set each row \"index\" of the embedding matrix to be the word vector representation of the \"index\"th word of the vocabulary\n",
        "    for word, index in word_to_index.items():\n",
        "        emb_matrix[index, :] = word_to_vec_map[word]\n",
        "\n",
        "    # Define Keras embedding layer with the correct output/input sizes, make it trainable. Use Embedding(...). Make sure to set trainable=False. \n",
        "    embedding_layer = Embedding(vocab_len, emb_dim, trainable = False)\n",
        "\n",
        "    # Build the embedding layer, it is required before setting the weights of the embedding layer. Do not modify the \"None\".\n",
        "    embedding_layer.build((None,))\n",
        "    \n",
        "    # Set the weights of the embedding layer to the embedding matrix. Your layer is now pretrained.\n",
        "    embedding_layer.set_weights([emb_matrix])\n",
        "    \n",
        "    return embedding_layer"
      ],
      "execution_count": null,
      "outputs": []
    },
    {
      "cell_type": "markdown",
      "metadata": {
        "id": "b-Q6rdz9iTKl"
      },
      "source": [
        "## 2.3 Building the Emojifier-V2\n"
      ]
    },
    {
      "cell_type": "code",
      "metadata": {
        "id": "bqlHubTFiTKm"
      },
      "source": [
        "from keras.layers import Input\n",
        "from keras.layers import LSTM\n",
        "from keras.layers import Dense, Dropout\n",
        "from keras.models import Model\n",
        "\n",
        "def Emojify_V2(input_shape, word_to_vec_map, word_to_index):\n",
        "\n",
        "    # Define sentence_indices as the input of the graph, it should be of shape input_shape and dtype 'int32' (as it contains indices).\n",
        "    # #####################################################\n",
        "\n",
        "    sentence_indices = Input(input_shape, dtype = np.int32)\n",
        "    \n",
        "    # Create the embedding layer pretrained with GloVe Vectors (≈1 line)\n",
        "    embedding_layer = pretrained_embedding_layer(word_to_vec_map, word_to_index)\n",
        "    \n",
        "    # Propagate sentence_indices through your embedding layer, you get back the embeddings\n",
        "    embeddings = embedding_layer(sentence_indices)\n",
        "    \n",
        "    # ###########################################################\n",
        "\n",
        "    # Propagate the embeddings through an LSTM layer with 128-dimensional hidden state\n",
        "    # Be careful, the returned output should be a batch of sequences.\n",
        "    X = LSTM(128, return_sequences=True)(embeddings)\n",
        "    # Add dropout with a probability of 0.5\n",
        "    X = Dropout(0.5)(X)\n",
        "    # Propagate X trough another LSTM layer with 128-dimensional hidden state\n",
        "    # Be careful, the returned output should be a single hidden state, not a batch of sequences.\n",
        "    X = LSTM(128)(X)\n",
        "    # Add dropout with a probability of 0.5\n",
        "    X = Dropout(0.5)(X)\n",
        "    # Propagate X through a Dense layer with softmax activation to get back a batch of 5-dimensional vectors.\n",
        "    X = Dense(5, activation = 'softmax')(X)\n",
        "    \n",
        "    # Create Model instance which converts sentence_indices into X.\n",
        "    model = Model(sentence_indices, X)\n",
        "    \n",
        "    \n",
        "    return model"
      ],
      "execution_count": null,
      "outputs": []
    },
    {
      "cell_type": "code",
      "metadata": {
        "colab": {
          "base_uri": "https://localhost:8080/"
        },
        "id": "xDOFLXmuiTKp",
        "scrolled": false,
        "outputId": "97cdb76d-8555-4e05-fe04-ae0ee58ddea0"
      },
      "source": [
        "model = Emojify_V2((maxLen,), word_to_vec_map, word_to_index)\n",
        "model.summary()"
      ],
      "execution_count": null,
      "outputs": [
        {
          "output_type": "stream",
          "text": [
            "Model: \"functional_1\"\n",
            "_________________________________________________________________\n",
            "Layer (type)                 Output Shape              Param #   \n",
            "=================================================================\n",
            "input_1 (InputLayer)         [(None, 491)]             0         \n",
            "_________________________________________________________________\n",
            "embedding (Embedding)        (None, 491, 50)           20000050  \n",
            "_________________________________________________________________\n",
            "lstm (LSTM)                  (None, 491, 128)          91648     \n",
            "_________________________________________________________________\n",
            "dropout (Dropout)            (None, 491, 128)          0         \n",
            "_________________________________________________________________\n",
            "lstm_1 (LSTM)                (None, 128)               131584    \n",
            "_________________________________________________________________\n",
            "dropout_1 (Dropout)          (None, 128)               0         \n",
            "_________________________________________________________________\n",
            "dense (Dense)                (None, 5)                 645       \n",
            "=================================================================\n",
            "Total params: 20,223,927\n",
            "Trainable params: 223,877\n",
            "Non-trainable params: 20,000,050\n",
            "_________________________________________________________________\n"
          ],
          "name": "stdout"
        }
      ]
    },
    {
      "cell_type": "code",
      "metadata": {
        "id": "3gynxbHjiTKs"
      },
      "source": [
        "model.compile(loss='categorical_crossentropy', optimizer='adam', metrics=['accuracy'])"
      ],
      "execution_count": null,
      "outputs": []
    },
    {
      "cell_type": "code",
      "metadata": {
        "id": "somtpmuLuE7s"
      },
      "source": [
        "\r\n",
        "def sentences_to_indices(X, word_to_index, max_len):\r\n",
        "    # print('1zzzzzzzzzzzzzzzzzzzzz')\r\n",
        "    # print('یعنی چندتا جمله داریم1:',X.shape)\r\n",
        "    m = X.shape[0]                                   # number of training examples\r\n",
        "    \r\n",
        "    # Initialize X_indices as a numpy matrix of zeros and the correct shape (≈ 1 line)\r\n",
        "    X_indices = np.zeros((m, max_len))\r\n",
        "    \r\n",
        "    for i in range(m):                               # loop over training examples\r\n",
        "        # print('2zzzzzzzzzzzzzzzzzzzzz')\r\n",
        "\r\n",
        "        # Convert the ith training sentence in lower case and split is into words. You should get a list of words.\r\n",
        "        try:\r\n",
        "            sentence_words = X[i].lower().split()\r\n",
        "            # print('2یعنی چندتا جمله داریم:',X.shape)\r\n",
        "        except:\r\n",
        "            sentence_words = X[i].split()\r\n",
        "            # print('EEzzzzzzzzzzzzzzzzzzzzz')\r\n",
        "        # Loop over the words of sentence_words\r\n",
        "        # print('AE2zzzzzzzzzzzzzzzzzzzzz')\r\n",
        "        for j, w in enumerate(sentence_words):\r\n",
        "            # Set the (i,j)th entry of X_indices to the index of the correct word.\r\n",
        "\r\n",
        "            try:\r\n",
        "                X_indices[i, j] = word_to_index[w]\r\n",
        "                # print('3zzzzzzzzzzzzzzzzzzzzz')\r\n",
        "            except:\r\n",
        "                \r\n",
        "                # print(i,j)\r\n",
        "                X_indices[i, j] = 372306\r\n",
        "                \r\n",
        "            # print('5یعنی چندتا جمله داریم:',X.shape)\r\n",
        "    return X_indices"
      ],
      "execution_count": null,
      "outputs": []
    },
    {
      "cell_type": "code",
      "metadata": {
        "id": "b2NFMz6jiTKu"
      },
      "source": [
        "X_train_indices = sentences_to_indices(X_train, word_to_index, maxLen)\n",
        "Y_train_oh = keras.utils.to_categorical(Y_train, 5)"
      ],
      "execution_count": null,
      "outputs": []
    },
    {
      "cell_type": "code",
      "metadata": {
        "colab": {
          "base_uri": "https://localhost:8080/"
        },
        "id": "BKdvaWCkiTKx",
        "scrolled": true,
        "outputId": "6c8dbadd-98eb-4de9-f183-21886f6295af"
      },
      "source": [
        "model.fit(X_train_indices, Y_train_oh, epochs = 5, batch_size = 32, shuffle=True)"
      ],
      "execution_count": null,
      "outputs": [
        {
          "output_type": "stream",
          "text": [
            "Epoch 1/5\n",
            "25/25 [==============================] - 23s 920ms/step - loss: 1.6105 - accuracy: 0.1950\n",
            "Epoch 2/5\n",
            "25/25 [==============================] - 23s 918ms/step - loss: 1.6083 - accuracy: 0.2288\n",
            "Epoch 3/5\n",
            "25/25 [==============================] - 23s 925ms/step - loss: 1.6082 - accuracy: 0.2262\n",
            "Epoch 4/5\n",
            "25/25 [==============================] - 24s 942ms/step - loss: 1.6087 - accuracy: 0.2262\n",
            "Epoch 5/5\n",
            "25/25 [==============================] - 23s 920ms/step - loss: 1.6056 - accuracy: 0.2250\n"
          ],
          "name": "stdout"
        },
        {
          "output_type": "execute_result",
          "data": {
            "text/plain": [
              "<tensorflow.python.keras.callbacks.History at 0x7fe7b4d43588>"
            ]
          },
          "metadata": {
            "tags": []
          },
          "execution_count": 35
        }
      ]
    },
    {
      "cell_type": "code",
      "metadata": {
        "id": "k0nTxmVX0S4f"
      },
      "source": [
        "X_test = X_test.reset_index(drop=True)\r\n",
        "Y_test = Y_test.reset_index(drop=True)"
      ],
      "execution_count": null,
      "outputs": []
    },
    {
      "cell_type": "code",
      "metadata": {
        "colab": {
          "base_uri": "https://localhost:8080/"
        },
        "id": "RyrVAavziTK0",
        "scrolled": true,
        "outputId": "fbc941a5-7cf1-41fa-98d8-d9d677a4f038"
      },
      "source": [
        "X_test_indices = sentences_to_indices(X_test, word_to_index,  maxLen)\n",
        "Y_test_oh = keras.utils.to_categorical(Y_test, 5)\n",
        "loss, acc = model.evaluate(X_test_indices, Y_test_oh)\n",
        "print()\n",
        "print(\"Test accuracy = \", acc)"
      ],
      "execution_count": null,
      "outputs": [
        {
          "output_type": "stream",
          "text": [
            "7/7 [==============================] - 1s 200ms/step - loss: 1.6206 - accuracy: 0.1256\n",
            "\n",
            "Test accuracy =  0.12562814354896545\n"
          ],
          "name": "stdout"
        }
      ]
    },
    {
      "cell_type": "markdown",
      "metadata": {
        "id": "W3Ci9UvBiTK2"
      },
      "source": [
        "You should get a test accuracy between 80% and 95%. Run the cell below to see the mislabelled examples. "
      ]
    },
    {
      "cell_type": "code",
      "metadata": {
        "colab": {
          "base_uri": "https://localhost:8080/"
        },
        "id": "ypAI8Z1wiTK3",
        "outputId": "d41990ad-46d0-46dd-e711-d7d386c9383a"
      },
      "source": [
        "# This code allows you to see the mislabelled examples\n",
        "C = 5\n",
        "# y_test_oh = np.eye(C)[Y_test.reshape(-1)]\n",
        "X_test_indices = sentences_to_indices(X_test, word_to_index, maxLen)\n",
        "pred = model.predict(X_test_indices)\n",
        "for i in range(len(X_test)):\n",
        "    x = X_test_indices\n",
        "    num = np.argmax(pred[i])\n",
        "    if(num != Y_test[i]):\n",
        "        print('Expected emoji:'+ label_to_emoji(Y_test[i]) + ' prediction: '+ X_test[i] + label_to_emoji(num).strip())"
      ],
      "execution_count": null,
      "outputs": [
        {
          "output_type": "stream",
          "text": [
            "Expected emoji:❤️ prediction: realli excit hear restaur come toronto final open friend realli excit tri place servic great felt like forgotten u nt care servic everyth came one time friend order ginger beer came two separ time almost go back make long took absolut vegetarian option except one cold noodl mushroom bun vegetarian pork belli bun noth special piec meat bun vegetarian friend order bun plain could experi well liter gave u plain sauc kimchi momofuko ramen aw bland mushi bite could nt handl eat anymor momofuko place go want real ramen better experi instant noodl😞\n",
            "Expected emoji:❤️ prediction: could give offic star would refer offic friend found husband colon issu extrem sick need dr set appt almost week time told need medic record sent offic even day appoint still mention medic record receiv wait wait room minut call back girl work told u dr would see u hasnt seen medic record husband made appoint person took note mention prior current issu kid husband total love go gi dr fun said put request thursday friday afternoon minut get half record dr still wont see monday come husband call nope still record went hospit directli got everyth need brought back offic told dr review tuesday come husband call told someth miss dr still wont look record unless complet point know still get run around today wednesday call first call answer servic answer told keep call mayb someon answer final got answer ask dr review record put hold offic person come back said nurs patient would call back said ill wait minut later came phone said dr wont see said need go back dr test year half ago kid run around told nope week worth wast time staff doesnt know hell rude could give shit patient dr never even got chang speak probabl money least impress got nice big silver bmw sit dr haikal park would nt tell worst enemi go offic word advic look anoth dr one staff tie shoe😞\n",
            "Expected emoji:🍴 prediction: never experienc customiz pizza place love especi appreci vegan chees option well awesom select top much fun much delici ca nt wait come back😞\n",
            "Expected emoji:❤️ prediction: girlfriend live vega nearli year boulder citi mani time never actual stop anywher get ga today decid play tourist boulder citi shop friendli staff one empti coffe cup anoth establish upon enter store saw trash behind counter inquir whether could throw empti cup antiqu clerk made rude comment yeah go ahead good appar ask repeat thought perhap misunderstood glare needle say left short look around overal great time boulder citi today plan return definit skip place😞\n",
            "Expected emoji:😄 prediction: stop pick dozen donut earli morn meet found select donut minim nt even sugar donut thought basic must donut also thought bit price guy counter nice ca nt complain custom servic staff love donut nt appeal😞\n",
            "Expected emoji:🍴 prediction: cycl pub la vega blast got groupon rent bike u afternoon tour bar fun last downtown la vega chang much better wide age rang group earli mid everyon much fun driver toni knowledg friendli plain fun would recommend anyon look someth differ away strip wo nt disappoint😞\n",
            "Expected emoji:❤️ prediction: believ food great custom servic beyond horrend thought get fastfood dinein servic took minut even order food wasnt even gon na order much begin love food need fix time manag😞\n",
            "Expected emoji:😄 prediction: vegan ca nt help love guilti pleasur green everi awhil everyth tast like real meat food would typic enjoy make meatatarian like happi though sure vegan like assum dri soda sell homemad lemon limead amaz one favorit reason come alway leav extrem full satisfi ca nt bring make routin part lunch rotat everyth seem overli process order look tast like😞\n",
            "Expected emoji:⚾ prediction: luxor one small step excalibur compliment anyon know area surfac bad start see thing mainten clearli prioriti also elev horribl shimmi shake time room kind ok issu get consist temperatur shower room hallway elev need updat tight budget pinch place😞\n",
            "Expected emoji:❤️ prediction: place refus go back manag chang sometim last year place took huge dive wors one waitress work entir restaur servic huge lack result last time went half price appet told could nt separ bill brought u one larg bill oh could nt subtract half price app need manag nt found differ item cost half price item got made bill well hell suppos divid bill base item nt order actual shockingli stupid guess best could threw cash one threw towel food continu subpar best price great even half price servic horrend terribl place wast time money😞\n",
            "Expected emoji:❤️ prediction: dont wast money substandard food place ride name aloney could make better pasta home favour pay littl extra eat somewher el love pasta place pay penn chicken mediocr best gotten hint see parmessan chees jar tabl didnt even stay coff ice cream came😞\n",
            "Expected emoji:🍴 prediction: food good black bleu one favorit juciey tasti treat bare batter broccilli yummi well preivous review locat last servral time servic great concern appear address😞\n",
            "Expected emoji:❤️ prediction: food bland authent meant cater custom never eaten vietnames food definit return😞\n",
            "Expected emoji:🍴 prediction: cycl pub la vega blast got groupon rent bike u afternoon tour bar fun last downtown la vega chang much better wide age rang group earli mid everyon much fun driver toni knowledg friendli plain fun would recommend anyon look someth differ away strip wo nt disappoint😞\n",
            "Expected emoji:❤️ prediction: thought tidi flower great reput florist guess wrong valentin day boyfriend order rose tidi howev flower deliv order place order long stem rose mix orchid charg show small vase short cut rose green tabl ornament realli valentin day flower speak anoth friend someth similar happen fiance order dozen rose valentin day germani surpris never show call complaint actual call friend confirm whether receiv flower nt said would resend deliv wrong place understand valentin day busiest day florist mistak happen way handl would expect florist natur😞\n",
            "Expected emoji:😄 prediction: area today stop quick lunch mini shrimp rice noodl thing beef shrimp peel peel beef tend bit much gristl rice ok neither one u like macaroni noodl water excel😞\n",
            "Expected emoji:🍴 prediction: realli like place came rock star beer fest bummer ran beer wine quickli realli like vibe place definit plan come back swim😞\n",
            "Expected emoji:🍴 prediction: half dozen time year everi visit pleasur god good drink excel love ambianc bar perfect place take date😞\n",
            "Expected emoji:❤️ prediction: disgust ever experienc time crave sushi much even philadelphia roll platter would ever revolt could nt finish roll hope nt first experi left heartbroken sad wish never decid give place chanc decor amaz menu look uniqu spectacular even roll look amazingli tempt brought home love affair stop superfici nt date type😞\n",
            "Expected emoji:⚾ prediction: abridg r gon na real love pizzeria bianco actual wait line rate would probabl lower group lucki enough receiv last tabl without wait mayb fact hard impress pizza mayb fluke wo nt happen least everyon keep tell honestli nt impress pizza receiv sadli leftov took home end toss afraid tri worri write awhil sit unfinish nearli year end opinion nt chang sit still scare return someon drag parti someth probabl give anoth shot hate write place singl trip honestli felt eh whole thing thank none visit town guest cri take😞\n",
            "Expected emoji:⚾ prediction: love sprint death fan store want bring back day nt put name list show huge screen front store purchas accessori phone place access rather back store want day ask question account without put list ca nt find someth kiosk arizona mill resort store ca nt stand😞\n",
            "Expected emoji:🍴 prediction: great custom servic love thier rib creme brulea cheesecak artichok lobster dip sooo good😞\n",
            "Expected emoji:🍴 prediction: topic mr white would frequent come offic place cowork use work near new time past week though came quit often often enough monday plan lunch togeth thursday hungri talk mr white took shortli u pile car head good ol soul food ca nt even begin tell wonder place like walk grandma kitchen get great meal use love enjoy mouth water stomach sing even chanc sit like meal price make much easier also like select side dish red koolaid delici mason jar like lolo staff friendli one cowork crave ox tail start big discus u waitress mention mr larri might know avail appar day even came tabl talk u friend also got ox tail tri realli damn good probabl order avail next time came around went piec smother chicken fri chicken gravi red bean rice wow lot food devour chicken fairli quickli delici best friend chicken asid grandma red bean rice packag bring home dinner tonight delici imagin also tast one bite peach cobbler la mode peach one favorit fruit damn right nt definit must sure still read pack go move😞\n",
            "Expected emoji:⚾ prediction: start everi intent good review place food amaz love give prop local joint pop sky harbor carnita burrito minu pico de gallo ew tomato phenomen perfect size perfect combin proport ingredi carnita made want marri long wait tabl order food go put name well alreadi eaten starv sat tabl readi crank work wait flight get tabl carri laptop bag nearli imposs nt know restaur airport continu new restaur realli wish gotten right server arriv notifi order minut ago tabl nt avail time sinc alreadi finish like glass water minut came back water inform condescend manner wait tabl fill would ask leav even though ate tabl avail consid pay custom star drop three seriou bullshit say clear tabl still bullshit exactli soon got stop point got left one said see soon one said good flight fact heard laugh walk away sorri airport need sensit someon sit restaur sometim decent choic sometim arriv batshit earli scare miss flight sometim flight delay hour nt want sit crappi airport chair nt even one avail scenario good captiv audienc peopl nt drive downtown phoenix sky harbor eat airport blanco go home immedi starv order take tabl avail still want sit nt love food servic enough go elsewher next time may even drive chain restaur hall😞\n",
            "Expected emoji:😄 prediction: star review go amaz servic charm rooftop patio disappoint food came cold drink solid noth write home think good place come group bc servic love huge menu drink skip food though😞\n",
            "Expected emoji:😄 prediction: three fabul thing arcadia r bar actual look good daytim floor beauti fabric chair complement clean everi nfl game shown sunday includ packerslion even label waitress knew exactli one shown hard pick one breakfast menu end choos banana foster pancak bird hole need tri enough probabl come back least anoth time tri fantast breakfast item mayb dinner look equal plea howev annoy dealt r packerslion game play patio nice howev sound receiv anoth game annoy servic littl slow server would frequent come check u almost miss breakfast cut time howev offer split check well appreci mimosa huge mimosay one friend told section back video game play area kid seem like nice ad touch also😞\n",
            "Expected emoji:❤️ prediction: whole place basic suck even wors mani bad experi place need give year ago sheppard centr alright place live yong sheppard groceri store across street basic would need st sheppard centr good sheppard centr major subway stop huge busi area somehow store keep fail case store nice handi would consid mall errand live away except major reason come gone sheppard centr use hour free park huge draw could go park run pick mail someth shopper drug mart way got rid half hour think pretti pathet crappi mall oh pay excel staff say yeah let tell staff work first also know ticket machin pay park ticket like break time go park garag drive ticket booth park nonpark spot block traffic go pay guy sit around offic offic tv screen park garag car broken fault sign say liabl soooo tv screen watch peopl car get broken laugh right back stori knew machin broke went inmal securityinfo booth ask guy behind booth phone person convers saw turn away continu ten minut final got phone made like come turn away last second start go paper final call said excus told busi made point move toward slowli possibl nt time staff member rude dog allow subway walk subway entranc hold dog arm secur guard chase tell dog allow told head subway follow make sure yeah realli want take dog dollarstor clearli lie go stop peopl break car bayview villag street one subway stop shopper groceri store post offic black photographi cloth store like sheppard centr also chapter starbuck lcbo good restaur peopl polit bathroom nicer mine home park free basic sheppard centr bite done😞\n",
            "Expected emoji:❤️ prediction: scant select electr guitar match incred pushi sale staff sale staff aggress push equip interest describ interest sale person becam aggress offens came eastwood dealer eastwood guitar😞\n",
            "Expected emoji:🍴 prediction: gem tuck away alley green valley district area nt let fool go almost feel like longer la vega nevada rather differ part world romant intim feel food delici drink fantast came yesterday meet someon friend mine dominiqu bartend comment abil make incred drink add posit comment whether ask someth menu someth menu one best drink get vega live littl testifi think ad live music soon littl patio front right artist add experi definit recommend😞\n",
            "Expected emoji:🍴 prediction: cycl pub la vega blast got groupon rent bike u afternoon tour bar fun last downtown la vega chang much better wide age rang group earli mid everyon much fun driver toni knowledg friendli plain fun would recommend anyon look someth differ away strip wo nt disappoint😞\n",
            "Expected emoji:❤️ prediction: girlfriend live vega nearli year boulder citi mani time never actual stop anywher get ga today decid play tourist boulder citi shop friendli staff one empti coffe cup anoth establish upon enter store saw trash behind counter inquir whether could throw empti cup antiqu clerk made rude comment yeah go ahead good appar ask repeat thought perhap misunderstood glare needle say left short look around overal great time boulder citi today plan return definit skip place😞\n",
            "Expected emoji:🍴 prediction: look oliv garden much warmer older one plu feel upscal place super clean come often cours time issu anytim issu manag fix quick alway come tabl😞\n",
            "Expected emoji:❤️ prediction: came locat boca park honestli like one lot better one feel small cramp got hot tea usual alway good sambalatt got contain fresh fruit turn mold probabl said someth opt throw come back glad nt get sick mold gross guy nt keep produc around coupl day el peopl run travesti😞\n",
            "Expected emoji:⚾ prediction: love sprint death fan store want bring back day nt put name list show huge screen front store purchas accessori phone place access rather back store want day ask question account without put list ca nt find someth kiosk arizona mill resort store ca nt stand😞\n",
            "Expected emoji:🍴 prediction: oh mygod ohmygod thought first time came enjoy coffe spectacular came back crepe consid mind blown outsid major curb appeal love use color sit coffe bar outsid whole room come mani seat option someth everyon one night movi play outsid kind place peopl come back kind place phoenix desper need downtown star reach highest notch though went gut instinct order peanut butter cup crepe see huge fan rees cup howev feel nearli imposs imit one get flavor combin right end sadli disappoint fear order peanut butter cup crepe jobot like take bunch rees melt crepe still full dinner damn nt eat entir thing staff super friendli convers friend sat counter indulg sweet tooth sweet teeth word back often manag r😞\n",
            "Expected emoji:😄 prediction: girl stop dinner even waitress great polit friendli quick food good love green salsa taco littl upset nt serv blend margarita one serv pretti good major neg noisi place part reason hold sort event reason coupl kid run around screech top lung visit hope next time littl quieter perhap invest blender blend margarita😞\n",
            "Expected emoji:⚾ prediction: kind backassward place still cling cash polici dive bar ca nt trust give clean glass trust offer complimentari sprinkl crab toilet seat b wholesom radar entertain cash front may also give crab sinner c cruddi breakfast diner tri instil aura greatest gener rememb time back newfangl internet contrapt walk uphil way waist deep snow demon harpi tri steal ident pant ding time pencil origin pancak hous answer bubbl smiley face scantron sheet well chang answer littl substitut oh charg minimum dollar substitut deviat menu straight retard releg short bu remaind term see also tini claus state liberti add gratuiti order sneaki defin term troubl maker keep eye strict cellphon polici interest idea place obnoxi loud nt see caus stipul sinc saw waitress pas ca nt fathom respect guess tri say nt think fulli develop theme rework passag turn back monday full credit bring next point oph great idea wide varieti friend brodog scottstiud old folk famili brunch realli nice see make effort make everyon feel includ waitstaff crappi hon ters perfunctori cold like littl automaton whir around restaur order better hope nt need anyth el human feel program model eat get peopl wait seat repeat give gall think charg three piec dinki bacon oph realli disappoint sinc nt allow substitut sinc none entre come side asid massiv amount carbi bland pancak practic forc peopl order certain menu item la cart food overpr breakfast two cost u buck nt even get much food shame assign saturday detent remaind month mayb teach respect let move coursework food deliv actual quit good egg michael even though would like substitut canadian bacon could nt justifi ridicul extra charg alreadi pricey entre four thin potato pancak yolk poach egg creat love littl dip sauc sausag beneath jujitsu tast bud smithereen awesomos english muffin base crispiti delici accompani mushroom sauc term kid use today suck big dangli donkey ball flavorless white sauc mushroom float around look bore lot life ca nt justifi cream sauc unless good gravi suck donkey ball blue oph potato pancak made crappi sauc though thin littl hashbrown patti sour cream applesauc yum mr man order spinach crepe side order homefri redonkul overpr bacon homefri stand aspect meal spinach fill soggi tasteless mushroom filler even came complet bland mushroom dip crap could tast none chees claim quit disappoint oph homework last minut one nt clear potenti howev sinc grade cumul go give c tut tut tut complain earn😞\n",
            "Expected emoji:🍴 prediction: abridg r cowork drop packag event venu meet space awesom unabridg r realli one review cohoot yet cohoot great space old build th street near roosevelt place small busi selfemploy anyon el interest space work hous allow brainstorm social bounc idea rate drop one time visit packag fulltim inhabit work environ open collabor space meet room use need sever time profession organ meet social event everi time find hard leav welcom vibe creativ abound place astound need place work day get element place call home busi spot hold meet swanki sexi space hold hour galleri social event place still convinc swing check sure wo nt mind😞\n",
            "Expected emoji:❤️ prediction: locat worst food qualiti fail big locat use order frequent seem food horribl dri time stop order complain cara occas seem nt realli care custom particular locat deliv assum caus franchis restaur give swiss chalet bad name manag promis correct problem full seem like give peopl dri day old chicken get away complain give half cost meal actual expect order bewar😞\n",
            "Expected emoji:⚾ prediction: love sprint death fan store want bring back day nt put name list show huge screen front store purchas accessori phone place access rather back store want day ask question account without put list ca nt find someth kiosk arizona mill resort store ca nt stand😞\n",
            "Expected emoji:🍴 prediction: nt even take longer minut meal everyon thank recommend cafe carumba lunch venu friday could recommend anyth el though close offic nt well serv breakfast til pm everi day absolut noth disappoint experi larg group u gather friday arriv receiv room back long tabl absolut perfect server true gem water tabl arriv put wishi washy came order start mimosa despit pulpi typic nt care absolut enchant came wine glass instead champagn glass better r came time order could nt move past breakfast menu thought settl perfect treat told server underground breakfast menu includ five differ type egg benedict ye heard correctli say five tradit one one avocado one portabello one crab cake instead english muffin cowork got steak one decid tri food first start arriv told brought done stay hot began worri would eat without everyon worri last mayb second instantli rest food brought silenc follow least first minut asid messag thank grunt happi potato heavenli everyon say need also recommend egg benedict steak instead canadian bacon typic breakfast ask anyon could nt finish last egg benedict manag two mimosa though yum end meal sever brought foil rose attach still ca nt men sweet end food phenomen mimosa exquisit larger one elsewher servic prompt extrem friendli back😞\n",
            "Expected emoji:😄 prediction: stop yesterday lunch nt especi hungri group sinc never tri red robin give go place busi seat immedi seat near window right away notic dri food window sill good sign order fish chip even though nt hungri enjoy finish also tri tast girlfriend burger okay better food servic decent eat clean window sill😞\n",
            "Expected emoji:⚾ prediction: look better tast appetis menu let poor execut pro r good select beer tap tall reason price nice decor ambianc abl follow leaf game tv volum low enough hold convers servic cheer accommod bit slow albeit busi saturday night con r food fri cold twice carnivor plate littl protein softshel crab sandwich clearli undercook realli par bar let alon gastropub😞\n",
            "Expected emoji:🍴 prediction: smash burger someth el special mean must make meat tasti full flavor common find burger could eat plain swear could skinni fri yummi pickl fan fri pickl slice buttermilk ranch dip come locat sinc open yet disappoint servic fast friendli😞\n",
            "Expected emoji:❤️ prediction: believ food great custom servic beyond horrend thought get fastfood dinein servic took minut even order food wasnt even gon na order much begin love food need fix time manag😞\n",
            "Expected emoji:🍴 prediction: nt even take longer minut meal everyon thank recommend cafe carumba lunch venu friday could recommend anyth el though close offic nt well serv breakfast til pm everi day absolut noth disappoint experi larg group u gather friday arriv receiv room back long tabl absolut perfect server true gem water tabl arriv put wishi washy came order start mimosa despit pulpi typic nt care absolut enchant came wine glass instead champagn glass better r came time order could nt move past breakfast menu thought settl perfect treat told server underground breakfast menu includ five differ type egg benedict ye heard correctli say five tradit one one avocado one portabello one crab cake instead english muffin cowork got steak one decid tri food first start arriv told brought done stay hot began worri would eat without everyon worri last mayb second instantli rest food brought silenc follow least first minut asid messag thank grunt happi potato heavenli everyon say need also recommend egg benedict steak instead canadian bacon typic breakfast ask anyon could nt finish last egg benedict manag two mimosa though yum end meal sever brought foil rose attach still ca nt men sweet end food phenomen mimosa exquisit larger one elsewher servic prompt extrem friendli back😞\n",
            "Expected emoji:❤️ prediction: place alway dirti grimi twice back custom servic horribl😞\n",
            "Expected emoji:❤️ prediction: girlfriend live vega nearli year boulder citi mani time never actual stop anywher get ga today decid play tourist boulder citi shop friendli staff one empti coffe cup anoth establish upon enter store saw trash behind counter inquir whether could throw empti cup antiqu clerk made rude comment yeah go ahead good appar ask repeat thought perhap misunderstood glare needle say left short look around overal great time boulder citi today plan return definit skip place😞\n",
            "Expected emoji:⚾ prediction: friend visit carli whim one night art walk never rememb specif see phoenix descript brochur expect someth el sure realli upset nt mind charm got littl disappoint could tell friend ye servic slow necessarili best howev least opinion expect minut walk scope place order pear panini orang mojito pear panini extrem delici occas sinc thought tri imit home orang mojito nt tast orang end nt worth ask anoth one speed servic decent place prepar go get would nt go way go realli enjoy pear panini😞\n",
            "Expected emoji:❤️ prediction: love smith compani experienc best custom servic locat tropicana jone brother law avid hot wheel collector smith recent got new hotwheel sode kick visit everi one nw sw minu one pull let buy want one box season stuff isl block mgr would let u buy told u come back day never understand store refus male money buy sell product😞\n",
            "Expected emoji:🍴 prediction: valentin day date took dinner first late reserv date corpor gig run late extrem accommod friendli arriv got fresh beauti red rose ladi come receiv one seat immedi differ server attend u one wine one salad anoth rest need blown away romant set incred servic impress food vegetarian option limit never fear vegetarian entre chang day went mushroom ravioli oh wow good raspberri cheesecak got dessert chose berri tart instead glad cheesecak would nt gotten tri otherwis word good everyth experi extrem posit tad pricey side want realli give woman romant even perfect place go unless vegan raw foodi thank hugo cellar love even😞\n",
            "Expected emoji:❤️ prediction: last weekend decid go hunt see could find deal worthi trade current car newer model went two dealership one familiar closer home exact car want never made second trip alreadi put car salesman lower bar peopl mind whole new level low nt want end day want stapl thing peopl head would stay away dealership walk dealership know want still want brow first research also first car buy experi first mazda well awar line oh yeah also car fanat nt mind hunt salesman right away realli alreadi knew want coincident without say want first car decid show one seen onlin inventori soon enough test drive great car expect ask simpl question could detail specif particular perimet alarm instal car salesman answer make think would fun ask hood know come next fun part fun mean extrem annoy process take time longer negoti process first part estim trade valu car though decid wrap first round price negoti right bat undercut coupl grand least trade cool told trade valu nt accept ask could find specif price plan elig receiv blank look would expect dealership employe know variou standard price plan also let know want know offer avail wait awhil came back chang trade give price plan elig sinc still need explain look told situat need buy new car told car perfectli fine amaz condit nt desper let know price gotten anoth dealership ideal want said nt want play negoti game want know close could get thing quickli got line treat great disrespect given excus excus attack attack one point recommend lea explain want lea given rant nt put enough mile car stupid buy realli okay nt enough also attack ask lowest price ask want compani lose money kept inform get paid commiss goe number car sell guess mayb look like nt know car dealership work car buy process goe one point ask want payment wise told put rang scrap piec paper x line told sign said nt comfort sign scrap piec paper payment price rang without detail inform becam agit end let know nt go anywher nt think price go need told economi way figur price would lower purchas car much better economi abl get better deal ask could price plan certif back given sarcast whatev want repuls way treat email custom servic dealership never receiv respons believ would ignor situat like though review surpris anymor slightli detail avail blog nt want write novel unless want oop guess alreadi r😞\n",
            "Expected emoji:❤️ prediction: food bland authent meant cater custom never eaten vietnames food definit return😞\n",
            "Expected emoji:❤️ prediction: read review yelp boyfriend decid give place tri especi sinc mission tri ramen everi citi visit realli excit nyc realli good ramen listen review start gyoza appet good everyon say pan fri thin layer skin aftertast soap water known sinc glass water serv u disgust order jumbo sumo ramen bewar big bowl noodl expect sumo ramen came half boil egg seawe pork belli veggi noodl pork belli good soup tasteless definit would go back😞\n",
            "Expected emoji:😄 prediction: would inclin give place star sinc possibl round went sunday lunch group winterlici got choic appet entre dessert arriv first tabl wait u restaur busi point waiter attent water wine menu parti final arriv order chipotl sweet potato goat chees dip averag salad look much better got better review soup dip liter dollap dip side plate crostini end piec pickl cauliflow slice onion middl dip good pickl cauliflow alright nice combin crostini pickl veggi dip top crostini origin want order doubl pork slider saw arriv someon el tabl liter one singl mini pork sandwich thinli cut fri side look good appet size chicken sandwich reason size order good realli like bread macaroni also reason size sampl fine nt blow away dessert highlight meal everyon think peopl order mouss thought fine peopl order love husband love appl terrin tri good like flavour creme brule much top toast harden consist thin hard candi hard break spoon got stuck teeth servic consist good complaint none u wine lunch although drink ca nt comment tapa bar expect size small size small expect price accordingli andor sharabl portion gave price dish purchas individu would hard share would nt realli worth nice winterlici meal sure would first choic go back😞\n",
            "Expected emoji:😄 prediction: eaten place mani time close la vega strip locat alway pack nt matter go insid use drive plan wait also keep mind nt best neighborhood😞\n",
            "Expected emoji:❤️ prediction: yep still suck stay work choic bed stiff gener uncomfort heatingcool unit turn often temperatur best shut sleep sinc extrem noisi televis older casino area reek smoke need invest higher volum air cleaner walk elev requir burn cloth get odor decent food option lastli host cheerlead competit young kid two thing casino would host type event organ repres child would choos casino casino annoy disturb visitor noth say famili like gambl booz smoke great parent😞\n",
            "Expected emoji:⚾ prediction: ca nt believ place twice arizona center event short time hungri actual best place get quick bite averag takeout pizzapasta joint like mom pop sbarro ever pizza pasta nt quick deal sad part last time especi nt even rememb eat shortli still hungri fill also note plan grab beer want pay card min card transact situat either pay cash grab sun chip put minimum level😞\n",
            "Expected emoji:❤️ prediction: read review yelp boyfriend decid give place tri especi sinc mission tri ramen everi citi visit realli excit nyc realli good ramen listen review start gyoza appet good everyon say pan fri thin layer skin aftertast soap water known sinc glass water serv u disgust order jumbo sumo ramen bewar big bowl noodl expect sumo ramen came half boil egg seawe pork belli veggi noodl pork belli good soup tasteless definit would go back😞\n",
            "Expected emoji:⚾ prediction: nt often give two star rate let explain go buy item go hard time find thing like end buy found worker friendli help well one instanc close nt hurri let finish shop laugh joke bought item plan sell agre mani review tri luck somewher el brought whole bag item took one gave nt make feel like noth ca nt say observ steal mention nt plan bring anyth sell anyway bottom line r buy nt sell😞\n",
            "Expected emoji:❤️ prediction: read review place thought would take famili give tri drive circl time realiz place close could nt find😞\n",
            "Expected emoji:😄 prediction: pub nice clean one came grab food girl sinc thai place hour wait stuck normal pub food r burger fri grill chees sandwich burger present great come fri onion ring pile top decent burger girlfriend got grill chees sandwich bacon said good look menu mani option choos especi pictur includ thing pictur alway look better real thing sheppard pie look yummi saw anoth tabl get nt look appeal😞\n",
            "Expected emoji:🍴 prediction: never disappoint show seen torch theater never fact usual time laugh hardest entir life go often though mean laugh hard lot wonder get physic condit oh well worth tournament cage match phoenix improv march mad playoff pimmp amaz troup search x mail order bride light rail pirat galapago improv class guarante good time one perform good hop one mani show soon😞\n",
            "Expected emoji:🍴 prediction: got best pizza ever eaten fabul crust world top wonder recommend place everyon😞\n",
            "Expected emoji:😄 prediction: heard rave review came expect built tast serv size littl small veggi burger good nt mindblow like locat like back friend tri food moment favorit vegetarianfriendli place town😞\n",
            "Expected emoji:❤️ prediction: without doubt worst breakfast place temp definit tri everi dish sound almost perfect alway someth come short okay servic experi also terribl great breakfast place nearbi ca nt imagin place last long😞\n",
            "Expected emoji:❤️ prediction: realli like chicken biscuit seem trend chain clean tabl lobbi sit look two employe clearli break ever tabl dirti😞\n",
            "Expected emoji:😄 prediction: born bred toronto friend brought claim favourit tri eggplant black bean sauc menu item waitress offer put togeth ho fun lo mien food great oili side care tasti servic quit slow realli wave get water later bill also forgot part order remind reason bump star would recommend vegetarian friendli delici go feel patient😞\n",
            "Expected emoji:😄 prediction: abridg r asid inconsist deal price great wax worth trip unabridg r european wax center recommend new stylist end fall love hair salon nt wax admit enter locat first time thought sign cult gave one odd feel end went back though eyebrow wax least pain wax ever room clean waxer nice friendli made sure nt allerg anyth pleasant price super reason first visit told plan could sign declin told book next appoint advanc get nt told piec paper someth need order redeem return week later nt given discount assur next time see happen third time prove discount attach may enough leav want come back also nt like toy😞\n",
            "Expected emoji:⚾ prediction: realli look forward good brisket one fav saw lot review place want see tast well staff realli nice courteou order lunch sampler platter brisket rib girlfriend order lunch sampler chicken rib impress mean fresh brisket melt mouth look tast like reheat brisket look tast dri tri mask put sauc better brisket fat loui food truck disappointingwa impress rib either bare meat mostli bone spici kick ask girlfriend chicken chicken thing show still pink raw turn right bat nt even touch ribsth thing enjoy fri enjoy soup kind food push disappoint place way overr food wise expect fresh melt mouth brisket smoke hous fell way short thing place go staff think good bbq sadli mistaken nt know experi good bbq give star simpli caus staff mayb expect littl high😞\n",
            "Expected emoji:🍴 prediction: imagin minut wait realli long line line ride see menu wall order option anywher near someon could take order yell hey want nt afraid nt surpris either keep cool order dog immedi start think want fri ring onion ring prepar call upon watch hot dog mutil front eye appear tray look like hot mess decapit food never fear though amaz well worth wait one best dog ever favorit white hot bratwurst whenev know go end saliv like pavlov dog hour booth classic hot dog stand style pennant line along top wall fantast look one start whole convers research one day basketbal team knew noth😞\n",
            "Expected emoji:🍴 prediction: realiz prepar deploy oversea sever month sound morbid probabl estat plan case anyth happen case someth came person affair gone unabl take care fellow volunt event work mention husband estat plan might worthwhil check even though east valley offic glendal assur easi carefre experi believ actual see lawyer alway pictur complic expens thing said would nt understand without use legal jargon dictionari howev heath sat discus differ type document avail use well answer question regard also ask question affair order creat document need end need simpl estat plan packag differ document left day give heath inform need draft document sinc nt live nearbi email draft document complet review abl ask question hand show pick document sign pay small fee charg wit avail everyth painless highli recommend visit heath estat plan need😞\n",
            "Expected emoji:😄 prediction: town one night work immedi need stay main part strip casino nearli stratospher ok intend leav casino much stop monorail help get around especi attend event convent center got great rate consid mani convent town park rel easi need add sign park garag better job point casino entranc check check quick painless front desk employe friendli help room small couch foot bed face bed enough room walk around bed four side room modern bed couch made plastic top cushionsmattress turn light light bed frame couch frame insid amus second bed comfort enough face window downsid face window tv mount wall side bed watch tv bed annoy bathroom sink bedroom area behind headboard bed toilet one side slide door shower side similar slide door odd set deal breaker sever good dine option insid casino definit plu get chanc gambl trip speak casino floor activ casino good size look well put togeth overal ok option intend stay entir trip invest monorail pas price right give tri😞\n",
            "Expected emoji:🍴 prediction: small unassum place chang menu everi often cool decor vibe insid seat restaur call reserv beef tartar pork belli start salmon dish lamb meal main everyth incred could go length list ingredi realli make dish amaz honestli need go bit outsid downtown montreal take metro le minut walk station😞\n",
            "Expected emoji:❤️ prediction: wors custom servic ever manag duti rude nt care neg feel place said would never come back restaur gone downhil sinc renov😞\n",
            "Expected emoji:⚾ prediction: never eaten place alway crowd decid must mean someth run errand nt eaten whole day decid final give place shot order chicken sandwich ice tea ice tea nt appear ice tea dark reddish colour tast like water pomegran juic ined super gross think mayb made mistak ca nt see menu anyth el might girl took order pour drink gave said ice tea sooooo ew sandwich alright alright aroma sauc garlic mayo sort good roast red pepper mozzerella sandwich good bread good chicken sort cheap crappi chicken find subway sort compress chickenlik white meat fake grill mark tast realli took away overal sandwich soup salad cours hot beverag serv place well write yet good first impress😞\n",
            "Expected emoji:⚾ prediction: live mesa deliv sub sandwich tweekiest tweaker nt feel shame admit whole area resid dead zone get itch go tear town wast away lazi afternoon enjoy nice dinner think place north south west temp like brain one littl electr dog collar thing attach start stray far east give sublimin zap era mesa map mind natur stray cat usual place visit meet suggest thing alway end pretti good time go drink price reason gener strong side bartend friendli quick serv music pretti good never dj spin use like fact air condit smoke room side plush couch big televis crowd alway diver friendli easi engag slur convers nt special oomph much rather frequent hollywood alley coupl mile south pool live music unfortun also black list mesa mayb find way revers program tweaker morman tweaker mormon tweaker mormon😞\n",
            "Expected emoji:😄 prediction: chine version cheesecak factori came friend thursday night r pm told min wait friend walk pm tri make reserv person said would nt take wind sit bar bypass wait serv full menu bar well noth crazi differ menu bartend realli nice sat hour order crispi green bean realli tasti pao tofu weird crispi tofu serv top bed broccoli vegetarian fri rice ok also serv lot broccoli back tri noodl dish😞\n",
            "Expected emoji:🍴 prediction: imagin minut wait realli long line line ride see menu wall order option anywher near someon could take order yell hey want nt afraid nt surpris either keep cool order dog immedi start think want fri ring onion ring prepar call upon watch hot dog mutil front eye appear tray look like hot mess decapit food never fear though amaz well worth wait one best dog ever favorit white hot bratwurst whenev know go end saliv like pavlov dog hour booth classic hot dog stand style pennant line along top wall fantast look one start whole convers research one day basketbal team knew noth😞\n",
            "Expected emoji:🍴 prediction: hell one drag ticoz serious call friend disappoint sadden everyon kept secret usual crave breakfast morn abl convinc amaz toni meet somewher recommend ticoz go limb say probabl tie one best breakfast ever similar bri practic nontomato diet therefor usual issu mani place eat suspect would order everyth today minu tomato howev clearli wrong let start salsa chip brunch yum one salsa pineappl base would made complet content breakfast arriv time fashion would ask take two away replac three bowl pineappl salsa establish make great salsa without use tomato hard find along salsa chip swear nt eat salsa spoon despit desir mimosa yep super fantast minim amount pulp also appreci mention look sunshini happi went huevo ranchero breakfast compris egg way like green chili pull pork potato um plea sir may anoth one perfectli size meal front load salsa chip made happi insid consum server told would spici kick littl one would welcom step away food servic prompt staff super friendli moment walk door could take sunglass head door way home convers prompt much appreci price also extrem reason although menu brunch limit least half item appeal mean hope futur trip ador laid back decor perfect sunday morn color warm invit seat creativ bigger chair tabl though almost nt work short peopl manag want go back😞\n",
            "Expected emoji:😄 prediction: fun easi place littl easi hike due easi access sometim get lot peopl also proxim town get strang peopl sometim hide bush drug know knew coupl went walk late even got mug wan na watch😞\n",
            "Expected emoji:🍴 prediction: ode top liquor look upon well stock shelv smile let mix n match heart desir though sober check back awhil bomber pint fifth sure spark fire social lube offer smooth n cheap champagn brewski liquor wine clever friendli staff ask help leap serv impend hangov mine also stock cigarett drunk treat true boozehound know select ca nt beat amateur poetri hour end return regularli schedul yelp review scroll😞\n",
            "Expected emoji:😄 prediction: review place bear name thai restaur list rememb first time visit thai long day offic nt realli feel like go need food usual alway crave sushi thai cowork recommend thai accept takeout anxious call pad thai soon head pick start pour mean like tornado warn later night pour storm half tempt cancel order get deliveri glad nt time arriv bad second took run across street complet soak walk establish close empti everyon stop stare like awkward episod movi worth usual person handl cheap chine takeout like thai littl upscal howev true except perfect heat tast amaz back nearli everi visit pgh sinc😞\n",
            "Expected emoji:😄 prediction: happen side town visit sister even decid order place enjoy actual order visit well order varieti food good except spare rib went right trash mostli bone gristl everyth el good fast😞\n",
            "Expected emoji:❤️ prediction: sever time karaok place realli nt fun go occasion karaok fairli close live decid visit place karaok lot listen sing lucki get sing everi hour drink overpr servic slow wan na go watch sing good regular way notic get sing lot food also decent look great place sing karaok look elsewher😞\n",
            "Expected emoji:⚾ prediction: improv alot year se morecasho front use see live street allot past sever old woman work front wait let rephras one older woman work front sever busi worknow least mani younger folk work line find way give person would star store clean well stock kmart one place find mapl nut goodi nt know nt tri ca nt eat one one thing locat never ad sinc put rack rack cloth sale front employe common watch peopl walk😞\n",
            "Expected emoji:😄 prediction: live vega year fan show one even bore decid drive check place first keep mind nt one better area town would nt want walk around area night driven mani time day alway seen larg line wait get came even check line abl walk right much smaller appear tv also nt seem clean tv visit person realli impress small store varieti stuff sale small section sell pawn star memorabilia work strip one hotel spoken mani tourist visit place accord heard charact see show rare work case even visit well big fan show might worth visit assur place entertain televis person😞\n",
            "Expected emoji:❤️ prediction: use come back great bar well longer longer great bar😞\n",
            "Expected emoji:⚾ prediction: went friend purchas groupon back april groupon review pretti good place sure amount groupon sold servic attitud gone downhil littl late appt call ahead notifi get answer machin got receptionist rude said typic nt take appt late book back back time take look around salon peopl get nail done two girl nail realli nice friend kept smudg almost dri nail fix twice end day pay hst top tip overal would go back😞\n",
            "Expected emoji:🍴 prediction: great pizza wing prize great flavor wing good time order😞\n",
            "Expected emoji:🍴 prediction: visit place numer time year magic forest alway magic experi highli recommend dress warm get chilli😞\n",
            "Expected emoji:😄 prediction: review place bear name thai restaur list rememb first time visit thai long day offic nt realli feel like go need food usual alway crave sushi thai cowork recommend thai accept takeout anxious call pad thai soon head pick start pour mean like tornado warn later night pour storm half tempt cancel order get deliveri glad nt time arriv bad second took run across street complet soak walk establish close empti everyon stop stare like awkward episod movi worth usual person handl cheap chine takeout like thai littl upscal howev true except perfect heat tast amaz back nearli everi visit pgh sinc😞\n",
            "Expected emoji:🍴 prediction: barro digiorno wish could rise crust crap swear could eat barro everi day without arteri protest would could cheaper compar pricier option like venezia spinato chees high qualiti salti melti nt skimp crust chewi thick awesom rad mega crust bubbl near edg top alway high qualiti gener wing thick juici deep fri crisp smother perfect amount sauc deliv three mile away make super happi😞\n",
            "Expected emoji:❤️ prediction: avoid place cost quiet middl age man got kick complain much noisi neighbor blast bass music hour day night noisi live condit get much alway go walk park across street pas time watch drug transact😞\n",
            "Expected emoji:❤️ prediction: never rent car provid ri airport three day estim charg return car actual charg accid head airport minut late incur extra charg never rent compani😞\n",
            "Expected emoji:❤️ prediction: food okay servic terribl friend order dri noodl dish instead brought one soup instead remak entir dish pour soup gave back bowl realli nt like peopl dish nt seem like custom come first take busi elsewher😞\n",
            "Expected emoji:❤️ prediction: walk fri electron like walk costco idiocraci overwhelm top poorli organ good experi label wayfind disast need figur section someth could possibl belong one stand line age tri get type assist first time ever attempt go found great thing reason price head checkout want scream horribl checkout procedur line long reason wait someon tell line go like constantli buy thing best buy christma recent hunt backup netbook similar batteri backup use travel cell phone laptop hard find someth tip first tri direct two item tri one wrong today came back return tri person return line four peopl work took minut even abl speak employe took anoth minut return one item disast final head find anoth replac decid ask employe knew small netbook tip direct igo tri last time inform tri differ igo packag last time netbook tip nt work ask knew anyth el look said need help anyth el walk away attempt tri igo packag suggest found came home work care sorri realli hate give say one good thing store resort time sinc close hous everyon say random odd thing look fairli reason price experi fact time never walk happi custom😞\n",
            "Expected emoji:❤️ prediction: tri book appoint use voucher friend given manipedifoot massag left messag never heard back final decid email request appoint respons got back new ownership longer accept voucher disappoint😞\n",
            "Expected emoji:😄 prediction: attent busi owner r play kyot establish may result automat deduct one star aural assault elev music redux offens everi fiber penetr ear ball leav slight tic person suffer afflict consid warn blare tune haunt soul chicago gyro place rock solid choic mash mediterranean chicago dawg menu gimung realli pretti intimid luckili keep chip away order someth differ time food realli pretti inexpens run six buck gyro meal deal come fri drink around eight gyro plate come hummu delici beef asid irrat hatr kaaaywhhhyooooohteee smoooooth jaaaazz gyro littl dri side underdress like gener meat pita top notch slap like singl tomato slice load madr onion tini squirt sauc along bottom appreci well pack gyro mean meat squirt littl shit top side pita lubric meat hole nt go cucumb would also pleasant addit sir madam nt go anyhoodl dole solid three star fill tummi leav quit satisfi😞\n",
            "Expected emoji:🍴 prediction: hike canyon coupl time sceneri realli amaz read previou review hike laugh sometim call area candycan canyon learn real name mention strenuou hike novic someon shape😞\n",
            "Expected emoji:🍴 prediction: franki tiki room vega vantag fun never better take room life souvenir glass awesom ca nt drink two three thank franki make biggest vacat awesom😞\n",
            "Expected emoji:⚾ prediction: time ever return buy simpl accessori knowledg put bike get hot pink awesom sock love extent two occas first start bike search inform store employe go use bike ask bike may suit need shown one row bike pretti much manufactur told could offer ton bike store second time bike friend new bike ladi eleanor friend question bike fairli good answer question howev appal stop dead track ask wrong bike panick short til realiz go overboard fact pedal pedal sinc bike nt much frame center employe kept go must awkward pedal call employe gawk make odd comment bike funni enough way woman drool gorgeou bike interest design ask got polit told nt landi😞\n",
            "Expected emoji:⚾ prediction: realli enjoy noodl signatur pork bun seem someth everyon order rave like pork pure fat nt gristli greasi greas posit drip hand huge unappet could nt tast cucumb nt see evid scallion basic pure fat wrap bland bun guess enjoy realli fatti greasi appet right deal realli ca nt stress enough fatti pork pure white greasi fat either chang name dish pork fat bun plea add actual pork noodl howev quit good like flavour combin dan dan noodl spici pork dri scallop peanut enjoy could realli tast peanut littl disappoint pork ground pork instead shred pork made dish seem cheaper le inspir like atmospher seat long tabl share space whoever place next seat long bench middl bench lift leg saw guy struggl imagin girl wear skirt grace way go honest place nt blow away enough make consciou effort return certainli nt terribl nt realli good either😞\n",
            "Expected emoji:😄 prediction: chine version cheesecak factori came friend thursday night r pm told min wait friend walk pm tri make reserv person said would nt take wind sit bar bypass wait serv full menu bar well noth crazi differ menu bartend realli nice sat hour order crispi green bean realli tasti pao tofu weird crispi tofu serv top bed broccoli vegetarian fri rice ok also serv lot broccoli back tri noodl dish😞\n",
            "Expected emoji:⚾ prediction: know know rule thumb cool peopl dog well pretti cool also also job also volunt mean also nt time dog deserv instead cat dog may look like cat plea nt let fool dog use litter box jump fenc fetch alway want play also cat find nearli noth interest wag n wash even though mention cat suppli even though cat store even though cat wag tail probabl great dog cat😞\n",
            "Expected emoji:⚾ prediction: stop dinner close hotel abl seat immedi outdoor seat chose sinc nice even seat self lack staff nice top game come around often enough made error feel like someth simpl order breakfast burro come stuf scrambl egg green chile potato cheddar chees chose add sausag good size enough fill flavor touch bland abl overcom hot sauc bad place look afford bar food probabl ok😞\n",
            "Expected emoji:❤️ prediction: girlfriend live vega nearli year boulder citi mani time never actual stop anywher get ga today decid play tourist boulder citi shop friendli staff one empti coffe cup anoth establish upon enter store saw trash behind counter inquir whether could throw empti cup antiqu clerk made rude comment yeah go ahead good appar ask repeat thought perhap misunderstood glare needle say left short look around overal great time boulder citi today plan return definit skip place😞\n",
            "Expected emoji:❤️ prediction: thought tidi flower great reput florist guess wrong valentin day boyfriend order rose tidi howev flower deliv order place order long stem rose mix orchid charg show small vase short cut rose green tabl ornament realli valentin day flower speak anoth friend someth similar happen fiance order dozen rose valentin day germani surpris never show call complaint actual call friend confirm whether receiv flower nt said would resend deliv wrong place understand valentin day busiest day florist mistak happen way handl would expect florist natur😞\n",
            "Expected emoji:⚾ prediction: small locat seat front hard get place order wait receiv everyon end smoosh togeth wait certainli take time ask flavour latt ex caramel latt nope list menu order regular latt noth special tri food item noth particularli good take pas way better coffe shop mall😞\n",
            "Expected emoji:🍴 prediction: valentin day date took dinner first late reserv date corpor gig run late extrem accommod friendli arriv got fresh beauti red rose ladi come receiv one seat immedi differ server attend u one wine one salad anoth rest need blown away romant set incred servic impress food vegetarian option limit never fear vegetarian entre chang day went mushroom ravioli oh wow good raspberri cheesecak got dessert chose berri tart instead glad cheesecak would nt gotten tri otherwis word good everyth experi extrem posit tad pricey side want realli give woman romant even perfect place go unless vegan raw foodi thank hugo cellar love even😞\n",
            "Expected emoji:🍴 prediction: tri deep fri mushroom good dip ranch atmospher place friendli fun menu build custom order someon life simpli order straight menu would like dinner😞\n",
            "Expected emoji:❤️ prediction: food bland authent meant cater custom never eaten vietnames food definit return😞\n",
            "Expected emoji:😄 prediction: typic mcdonald food typic employe typic wait time typic clientel typic typic😞\n",
            "Expected emoji:⚾ prediction: get first dog pound mr watson monoclewear schnauzer miz voucher free vet visit citi part deal place right middl hood natur took wee pup first visit call ahead time make appoint clarifi voucher good one free visit given clear thermomet insert awkward place littl pup weigh measur found total awesom end vet visit present bill odd buck pretti heavi complain wtf mate said phone waiv initi visit fee let u go merri way cross check price vet get littl booger vaccin sure enough charg vet visit addit vaccin fee go blue cross anim clinic street charg flat fee vaccin offic visit nothin sure beat crappi clinic petsmart charg straight fee vaccin waiv vet visit like still mail list though get yearli checkup remind littl pupperoni😞\n",
            "Expected emoji:🍴 prediction: love love love tast caribbean brais oxtail heavenli succul fall bone tender audibl moan delight entir meal plantain brais cabbag side perfect side rice pigeon pea perfect sop oxtail sauc jerk chicken also fantast sinc busi hoard oxtail nt get tri much jerk smoki spici highlight chicken instead overpow side least nt fight make sure tri hibiscu flower drink sorrel clove float accompani earthi spici flavor palat meat well similar jicama offer mexican joint atmospher place wonder warm invit eclect bold paint decor wall reminisc caribbean fauxrattan chair help vibe also couch one side restaur kind place judg decor noth hous match respect kind like invit friend hous dinner mom whoop amaz ethnic food never get kraft mac n chees hous clearli famili joint age bum around kitchen kiddo bring water adolesc hip hop ring tone take order matriarch keep line energet engag utterli delici next time need leav room cassava coconut cake much harder may think trust oh also interest breakfast option like smoke fish nt worri also regular old egg menu check one morn someth outsid norm😞\n",
            "Expected emoji:❤️ prediction: unfortun look forward tri place got sat minut could breath ventil enough u way smoki small place make around mayb ill tri take rate base experi restaur food😞\n",
            "Expected emoji:😄 prediction: ok dinner option palm decor insid cool servic ok food solid price seem ok add hurri though especi add appet side order sever option tabl could tri thing tri littl bit follow gener tao chicken boil beef tenderloin spici szechuan sauc kung pao beef tenderloin american style white rice ok none stood except bad time busi reserv need weekend peak time want make reserv though😞\n",
            "Expected emoji:😄 prediction: decent altern morn cafe servic slow greatest coffe good tri differ type recent stay happi food ok tri ham egg crepe flavor ok portion huge good valu ok option coffe quick breakfast snack😞\n",
            "Expected emoji:⚾ prediction: think nt like el salvadoran food either accident consum cardboard polym display model lieu actual entre serious dri bland food even toss water hot sauc pile bland meat carb nt realli improv edibl appet platter chicken white rice weird white sauc dri side salad bland white platter food plu side salad iceberg radish garnish dress anyth know tast like pile lettuc mayb ignor prick mayb order wrong thing mayb nt like el salvadoran although love everyth el central american pupusa crazi delici though would total return😞\n",
            "Expected emoji:🍴 prediction: sat bar minut wait tabl excel select qualiti licquor happi see good assort whiskey start meal goat chees queso fundido excel far best queso fundido mayb ever bring good varieti bread tabl partial cornbread littl piec jalapeno bake entre chose cascabel chile crust rabbitt great come tenderloin leg meat tender sauc ad great flavor even toast cou cou tasti place alway busi book reserv sever day advanc specif time mind😞\n",
            "Expected emoji:⚾ prediction: experi start great saw philli cheesesteak nacho tri order larg portion two peopl plenti chees even use chees whiz like true philli sandwhich plenti chees littl meat eat top chip meat gone realli need doubl meat dinner attempt order blt bacon settl chicken strip standard issu chicken strip meal bad could frozen food section groceri store server nice attent easi though place nearli empti😞\n",
            "Expected emoji:⚾ prediction: feel overli energet wander food court casino find someth take back room yet tri earl sandwich gave tri servic start poorli stood order area time anyon even acknowledg reason friendli help almost walk away oddli enough order sandwich instead order baja chicken stuf potato come butter sour cream jalapeno presum chicken ask mine without tomato normal come potato came rel quickli potato good flavor jalapeno nice touch potato good size fill issu potato complet lack chicken sure go back correct issu first experi lack tri earl tri sandwich time😞\n",
            "Expected emoji:🍴 prediction: pamper day feel compel updat review includ new awesom experienc addit brow wax daniel facial amaz recent came back month trip camp part wonder help revit face take away damag set done ask question help determin best procedur made entir session relax comfort certainli last facial tiffani patient came return pedicur four month hike boot sock time well except shower got wear wonder flip flop foot pure disast zone spare horrid detail bad actual littl embarrass even though knew typic walk million time better final came back surpris find stylist left schedul appoint ashley told would afraid sometim interest hair decis fantast rather tri reign help set free even show natur vegan product line help put natur curl hair everyth pure magic would recommend heartbeat total love hair😞\n",
            "Expected emoji:❤️ prediction: start month ago slammedmi truck curb destroy wheel rim took truck discount tire get replac abl got factori rim new tire follow day could day miss deliveri dealership took get align across street said best could best well realli bad stir wheel hold straight truck would go straight left go hous whole truck went left discount tire told recommend go qualiti star rancho brought later day said would bout control arm crack still pull need work later day call said would anoth hundr someth anoth part realli sorri tri fix keep find problem went pay see got test drive told bill eight hundr someth annoy want truck fix howev done test drive said better perfect ask time let keep day would call updat run around gut feel someth wrong went said want truck back gave u speech process turn insur whole front end passeng side need replac said hell took truck home way notic hold wheel level went left let go quick pull right fight keep straight also notic got home bang drive side door frame miss paint along door call rel worri bout truck sure go told take arrow align would take look send custom issu align made appoint took morn pretti far mechan talk u minut ask background problem said give hour went back work fear anoth big bill thank nt happen went said fix align also wheel worn wrong drive unexpect thing happen nt charg dime said alreadi paid enough sorri much troubl get fix😞\n",
            "Expected emoji:❤️ prediction: give place gotten burrito thing place sever occas alway subpar bland food overcook sometim burnt nacho result nt bother go order well year well today crave mexican sinc toronto huge lack mexican restaur choic busi work home husband decid order barburrito deliveri also mention go justeatca barburrito charg deliveri orderitca charg nt know order websit restaur tip anyon decid order place went ahead place order reject barburrito busi right restaur list two differ food order site wo nt deliv nt feel inclin serious learn lesson nt give place second even third chanc place nt even give first chanc worth😞\n",
            "Expected emoji:❤️ prediction: ugh get happi littl area temp coffe hair salon cute boutiqu shop dive bar fresh easi add walmart littl part die day saw come soon sign littl part die everi time see build admit nt cross intersect southern rural much anymor howev chanc would look specif item weekend place knew carri model found first discontinu walmart put best pair loungewear meet dancewear forc store small thank god larg vastli size super jungl first attempt search item success head custom servic see could check see anoth store item gave inform list compani websit use given back blank stare appar inform list websit onlin store item use look inventori tri gain back brain cell😞\n",
            "Expected emoji:🍴 prediction: went itali coupl time pizza realli resembl ambianc classi perfect date famili diner price great good qualiti food good servic come back sure😞\n",
            "Expected emoji:😄 prediction: locat recent open insid planet hollywood miracl mile shop typic starbuck la vega strip price mediocr servic small select sandwich salad nt seen strip starbuck😞\n",
            "Expected emoji:⚾ prediction: start everi intent good review place food amaz love give prop local joint pop sky harbor carnita burrito minu pico de gallo ew tomato phenomen perfect size perfect combin proport ingredi carnita made want marri long wait tabl order food go put name well alreadi eaten starv sat tabl readi crank work wait flight get tabl carri laptop bag nearli imposs nt know restaur airport continu new restaur realli wish gotten right server arriv notifi order minut ago tabl nt avail time sinc alreadi finish like glass water minut came back water inform condescend manner wait tabl fill would ask leav even though ate tabl avail consid pay custom star drop three seriou bullshit say clear tabl still bullshit exactli soon got stop point got left one said see soon one said good flight fact heard laugh walk away sorri airport need sensit someon sit restaur sometim decent choic sometim arriv batshit earli scare miss flight sometim flight delay hour nt want sit crappi airport chair nt even one avail scenario good captiv audienc peopl nt drive downtown phoenix sky harbor eat airport blanco go home immedi starv order take tabl avail still want sit nt love food servic enough go elsewher next time may even drive chain restaur hall😞\n",
            "Expected emoji:🍴 prediction: runner run keep shape sport someon challeng half marathon nt turn challeng often notic shoe trick decid head sole sport see exactli could way good comfort cute run shoe first thing made run treadmil video tape learn run like baffoon nt stop sole sport help find perfect pair baffoon run shoe though one still cute walk great pair shoe runningwork apparel feel great subpar run capabl back sever time sinc water belt item stellar first time even help find non black pair run capri pj chang half order purpl come whether hate run love run go😞\n",
            "Expected emoji:⚾ prediction: eh prove realli chain type person swung weekend friend hope score sheet music entir volum collect guitar mayb piano guitar restrung store seem small cramp music select leav everyth desir sad individu song even amount book small also plu side everyon nice restr guitar grab food howev still prefer small local music store😞\n",
            "Expected emoji:⚾ prediction: drive place everyday way work alway curiou yesterday decid stop give tri order shrimp po boy sandwich girl order blt blt edibl shrimp po boy picki eater abl take two bite po boy tast like old greas shrimp tasteless waiter stop ask food told horribl smile walk away think must misheard lol option may better got one shot make first impress impress left wo nt u come back😞\n",
            "Expected emoji:🍴 prediction: know updat rate get amaz experi everi time walk store recent day ago hope find bit good luck cloth depart wear cargo pant forev combin abl fit cargo pant die skirt jinia talk least hour got see new thing go catch end tri piec never thought would work includ skirt made neckti strapless mini dress end result look fabul walk neckti skirt absolut favorit piec everyon seen think true gem neckti line also includ brooch purs definit must see nt yet truli miss😞\n",
            "Expected emoji:❤️ prediction: know differenti lot tomato base mexican food fuck italian oregano basil hot salsa today put quotat mark around guess suppos spici tast like sloppi joe mix chile nt ask freakin mexitalian burrito consist worst pseudomexican food busi best thing said form turd pure fuel food😞\n",
            "Expected emoji:⚾ prediction: love good burger ca nt say love place excit tri place open made one visit nt back sinc nt rememb order sometim ago obvious unimpress burger recal throw fri away disgust enough memor plu side place neat clean staff friendli quick enough food nt appeal would give anoth tri nt think unless someon el buy😞\n",
            "Expected emoji:🍴 prediction: parti philli chees steak egg roll read previou review nt sure go good tri one saus see meat tast froozemicrowav nice flavor dip saus great ceasar salad decent oz bacon wrap filet good filet hint bacon flavor mix well pepper sadli side stole show mac chees amaz real chees someth made mouth water share whole tabl could see great ice cake one favorit waitress anoth place walk daniel bright person come back sure😞\n",
            "Expected emoji:⚾ prediction: went friend purchas groupon back april groupon review pretti good place sure amount groupon sold servic attitud gone downhil littl late appt call ahead notifi get answer machin got receptionist rude said typic nt take appt late book back back time take look around salon peopl get nail done two girl nail realli nice friend kept smudg almost dri nail fix twice end day pay hst top tip overal would go back😞\n",
            "Expected emoji:😄 prediction: happen side town visit sister even decid order place enjoy actual order visit well order varieti food good except spare rib went right trash mostli bone gristl everyth el good fast😞\n",
            "Expected emoji:🍴 prediction: live way west side vega sever occas driven way boulder citi one burger girlfriend stop today usual servic great place realli pack stand around awhil get tabl nt mind know food worth wait even busi staff remain friendli cheer definit back😞\n",
            "Expected emoji:❤️ prediction: want nt give shit attitud servic dept staff take car servic horribl experi servic dept staff take one first last time take car avoid😞\n",
            "Expected emoji:❤️ prediction: use come back great bar well longer longer great bar😞\n",
            "Expected emoji:🍴 prediction: realli like place came rock star beer fest bummer ran beer wine quickli realli like vibe place definit plan come back swim😞\n",
            "Expected emoji:⚾ prediction: went late lunch mom weekend one plop bff around long boomboom creat crayon masterpiec wall want salad somewher downtown place never want go age either close green free lolo collard nt count palatt cheuvront cibo florist mom decid coach willi perfect luncheon destin cuz thought salad onlin look purdi tasti right nt judg book cover sinc even mcdonald look pretti good commerci swing pick si dash coach willi thought name sound like bastard love filli poni express stud mayb purebr dog name like sir charl mcwigglesworth easi find park plenti patio neato sunken bar seem like novelti horsesho shape booth comfi invit atmospher upscaley sport bar compani vivaci waitress engag attent bacon wrap prawn succul satisfi woodchuck cider tast crisp peari big ole smile face salad time salad cost ten dollar expect tasteless expans iceburg lettuc head chef use iceburg lettuc varieti salad green chose end tasteless tacki trailer trash field green world say got ta get pretenti salad use micro green grown organ hot hous fuck sake iceburg airplan cafeteria place ever encount iceburg fanci pant wedg salad form class acknowledg fact iceburg tasteless filler devoid nutrient sort coach willi food compar airplan fare ahem ye salad anyway everyon el seem enjoy despit offens iceburg ate equal tasteless southwestern chicken mass came top pick around lettuc filler lunch fun bacon wrap prawn rockin salad suck sinc get le stellar review state straight nobodi get persnicketi lunch crap salad sure fun place drink game quick lunch cowork take stand iceburg lettuc elimin principl alon asid use filler see navajo taco garnish anybodi want join one woman campaign😞\n",
            "Expected emoji:🍴 prediction: spring mountain nation recreat area gener term much titl cover hike trail picnic area motel restaur ski mountain bike camp enjoy outdoor liter someth everyon ca nt find someth enjoy got problem😞\n",
            "Expected emoji:❤️ prediction: servic bad let exchang ingredi chang girlfriend pizza charg expens place sauc tast like regular supermarket tomato sauc crust chewi paid never go back anymor😞\n",
            "Expected emoji:⚾ prediction: say band saw prankster jester room fantast venu fond mind realli comment jester room spent entir visit think biggest issu layout longer wider nt realli appropri music venu decid grab bar chair move middl sure peopl bad could see band opinion ruin small intim show addit servic slow waitress seem get confus took u good half hour sat anyon stop see would like anyth go band worthwhil pretti much😞\n",
            "Expected emoji:😄 prediction: tri let bad press friend huge fan love sway review therefor breakfast joint middl road friend first mention head lunch curiou read review scare trust said friend allow led blindli anoth two hippi joint item factor star rate r first foremost nt love certainli nt hate either someon want go back would agre thing menu intrigu enough want tri nt like decor much pizza joint much stoner side hippi nauseat degre random old stove nt scream hippi person prefer happi hippi oooh awesom alliter anoth bam green chile burger got pretti damn good wish heat kick notch solid plea nearli swallow thing whole lemonad love tri mango time good blood orang still solid find breakfast menu appeal want instead lunch disappoint also heard nt serv breakfast day though one peopl dine get breakfast think around pm rememb correctli fri terribl love crinkl fri dri unabl enjoy fri nt suppos healthi give greas even ad sauc tri sriracha good never fri😞\n",
            "Expected emoji:😄 prediction: use hardcor mamma mia groupi sort lukewarm meh place wing alway suck weird cloy sweet nt present vinegar domin sauc alway soggi kind big bummer pizza big star nt know seem like slow notic declin qualiti le top burnt crust often chees seem congeal five minut take go box mouth use lot hot sandwich drink special chicken parm cordon bleu meatbal sub delici offer much regular plenti portion use plu might person beef drink came two slice special scale back much smaller cup extra coupl gulp soda per transact realli translat much increas syrup cost extra six ounc drink realli hurt busi one last point end sighinduc session servic mamma mia realli pretti crappi grant never friendliest pizza joint serious nt get love express review never seen happi ters profession transact chatti one lucki get much acknowledg upon approach counter usual blank stare cashier wait speak follow price whatev want thank minut nada pretti sure scowl counter gal fast becom fix nt get wrong still go stop quick coupl slice nt get excit use use super groupi mamma mia sad day😞\n",
            "Expected emoji:😄 prediction: would recommend reserv especi peak hour weekend line system walk littl ineffici said good casual option decor cool well appoint sat experi good server attent friendli seat conveni outer edg got qualiti peopl watch meal order huevo ranchero black bean consist crisp tortilla top chorizo cheddar chees hickman farm egg good brunch size portion flavor combin togeth nice littl bias though love chorizo😞\n",
            "Expected emoji:⚾ prediction: place ton potenti anywher close level yet prime locat bar larg differ seat option high minimum black jack tabl insid decor set cool plenti televis catch game great select whiskey scotch sever uncommon option includ sever high end choic problem drink price like high end establish staff clientel level get imposs control casino go pay top shelf booz expect least minimum level civil guess get old grumpi staff nice well vers fine select avail also overheard one tell custom next good mix drink guess least whiskey bar mani drink neat rock later even dj came play good select music clearli play preset set list mix song horribl thing go get save money let pandora handl music😞\n",
            "Expected emoji:⚾ prediction: big burger fan want check place sinc open yong street first impress guy serv u realli pleasant friendli recommend signatur burger got one sinc realli hungri also got big chuck also got onion ring fri got go unfortun impress patti filler easili detect mani burger joint tell filler burger patti agre signatur disappoint big chuck take big mac think would prefer big mac like take sauc fri ehh think thing enjoy onion ring spend burger hope get good burger least first last time visit holi chuck say get paid case got rip would recommend😞\n",
            "Expected emoji:😄 prediction: nt care mani mill avenu establish school year drunken frat boy play alpha male soror girl slutti exhibitionist thing hit sour note howev hour colleg bing drink say saturday day drink summer winter break realli enjoy mill avenu one favorit place strip fat tuesday see weak weak slushi drink slush puppi mr misti ice mother pina colada nutshel like fat tuesday pure sugar ice blend melang delici grant red frozen drink tast exact octan pina colada thing blue raspberri mango delici flavor end big old hangov overindulg sinc frozen take much longer sip one regular mix drink save money still mess provid go octan rout make sure tri atom cherri nuclear cherri whatev call cent downright pain delici experi go group recommend bring po fun mill avenu splurg round watch even manliest macho man agre everclear soak cherri pain bitch confront circumst nt get food sucktast mani awesom option around mill bother😞\n",
            "Expected emoji:❤️ prediction: tri book appt use voucher month countless phone call respons yet agre buyer bewar warn wish review place post previou purchas voucher😞\n",
            "Expected emoji:😄 prediction: locat food court luxor hotel wo nt get vibe johnni rocket cours la vega strip everyth overpr burger okay nt seem qualiti locat eaten😞\n",
            "Expected emoji:❤️ prediction: yet tri wasabi nt bother expens food disgust order sushi tabl everyth el ie salad soup cook food get go get food bland sushi tast like anyth even sure fish fresh weekend everyon seem snow crab leg come forget fightwait inlin get probabl easier eat mandarin anyon suggest go highli recommend go somewher el😞\n",
            "Expected emoji:😄 prediction: tri let bad press friend huge fan love sway review therefor breakfast joint middl road friend first mention head lunch curiou read review scare trust said friend allow led blindli anoth two hippi joint item factor star rate r first foremost nt love certainli nt hate either someon want go back would agre thing menu intrigu enough want tri nt like decor much pizza joint much stoner side hippi nauseat degre random old stove nt scream hippi person prefer happi hippi oooh awesom alliter anoth bam green chile burger got pretti damn good wish heat kick notch solid plea nearli swallow thing whole lemonad love tri mango time good blood orang still solid find breakfast menu appeal want instead lunch disappoint also heard nt serv breakfast day though one peopl dine get breakfast think around pm rememb correctli fri terribl love crinkl fri dri unabl enjoy fri nt suppos healthi give greas even ad sauc tri sriracha good never fri😞\n",
            "Expected emoji:🍴 prediction: hand favorit hangout live akron mile hous old back road smack dab middl gorgeou sceneri larg indoor area sit well larg outdoor area well pond vineyard site well beat bar scene sever reason first could bring dinner enjoy bottl wine dinner friend reason end locat sever birthday parti u would grab tabl bring delici tapa someon would bring cake sever bottl wine still abl convers back road easi get home never traffic board game avail also snack plate wine incred rememb day first tast red kiss time nt even bottl avail hous bottl month later thanksgiv gave mani friend famili member present perfect combin chocol red wine neither like separ irresist ice wine die love parti wine crazi gnome label also forget owner incred friendli everi tine came call regard someth alway gave friend excel servic whenev arriv area someth pas😞\n",
            "Expected emoji:❤️ prediction: review casino big time gambler love play play tabl hate lose money play long time even lose go broke excit hear ny ny ad tabl blackjack work got gambl first time usual wait seat open usual take minut issu one issu dealer complet lack person tri multipl occas matter get rare speak deal like robot given tri go elsewher game need😞\n",
            "Expected emoji:⚾ prediction: feel overli energet wander food court casino find someth take back room yet tri earl sandwich gave tri servic start poorli stood order area time anyon even acknowledg reason friendli help almost walk away oddli enough order sandwich instead order baja chicken stuf potato come butter sour cream jalapeno presum chicken ask mine without tomato normal come potato came rel quickli potato good flavor jalapeno nice touch potato good size fill issu potato complet lack chicken sure go back correct issu first experi lack tri earl tri sandwich time😞\n",
            "Expected emoji:🍴 prediction: say four peak probabl least time past month live phoenix pretti bad also show awesom four peak first beer fantast love sever brew specif peach ale hop knot season time tri even style appreci well craft food never bad never pizza beer bread burger appet wing never let probabl best pub food ever fri die want great appet group go spinach dip swear dish come never goe empti realli joke order one dinner quickli becam full offer friend abl finish half place insan huge lot differ area sit depend mood great spot prefer littl cover patio area side best true four peak alway busi never wait minut seat even group servic never suffer crowd hous😞\n",
            "Expected emoji:⚾ prediction: friend visit carli whim one night art walk never rememb specif see phoenix descript brochur expect someth el sure realli upset nt mind charm got littl disappoint could tell friend ye servic slow necessarili best howev least opinion expect minut walk scope place order pear panini orang mojito pear panini extrem delici occas sinc thought tri imit home orang mojito nt tast orang end nt worth ask anoth one speed servic decent place prepar go get would nt go way go realli enjoy pear panini😞\n",
            "Expected emoji:⚾ prediction: end moroco rent entir restaur parti want decad dessert went look select decid want person behind counter ask take order said want sit would nt take order instead u sit look menu explain knew want alreadi said back minut fine nt rush littl confus ten minut sat wait final came order cell phone rang took call walk away around corner build wait five minut finish call final took order umm pretti shock unprofession laugh order order basic new york cheesecak friend order appl cheesecak cheesecak good realli like order cappuccino flavor san pellegrino good big size cheesecak bit frozen middl know nt fresh sort took away experi anyway fine time dessert good great servic disappoint go back ye moroco close😞\n",
            "Expected emoji:⚾ prediction: say band saw prankster jester room fantast venu fond mind realli comment jester room spent entir visit think biggest issu layout longer wider nt realli appropri music venu decid grab bar chair move middl sure peopl bad could see band opinion ruin small intim show addit servic slow waitress seem get confus took u good half hour sat anyon stop see would like anyth go band worthwhil pretti much😞\n",
            "Expected emoji:❤️ prediction: locat worst food qualiti fail big locat use order frequent seem food horribl dri time stop order complain cara occas seem nt realli care custom particular locat deliv assum caus franchis restaur give swiss chalet bad name manag promis correct problem full seem like give peopl dri day old chicken get away complain give half cost meal actual expect order bewar😞\n",
            "Expected emoji:🍴 prediction: ate month ago ca nt wait visit first visit realli enjoy food great mayb hurrican made seem way prompt friendli servic great food back soon😞\n",
            "Expected emoji:❤️ prediction: read review yelp boyfriend decid give place tri especi sinc mission tri ramen everi citi visit realli excit nyc realli good ramen listen review start gyoza appet good everyon say pan fri thin layer skin aftertast soap water known sinc glass water serv u disgust order jumbo sumo ramen bewar big bowl noodl expect sumo ramen came half boil egg seawe pork belli veggi noodl pork belli good soup tasteless definit would go back😞\n",
            "Expected emoji:⚾ prediction: area absolut starv crave pub fare seem fit bill especi good review found soso decor r anoth review mention decor seem miss someth agre bore booth gap seat meet wooden bench part hold seat part hard describ look cheap crappi like broken tabl unbalanc waitress came stuck would stop rock small cramp food r select pretti standard pub fare bit expens side order chicken curri dish ask want spici mild ask mild either mild spici would hate tri actual spici made mistak curri come chicken sauc rice sort fri crisp nice rice bland howev spice curri kill tastebud husband chose burger overal good although charg two dollar bacon chees burger expens burger alreadi sure bacon ad anyth chees admit realli good burger atmospher servic r servic fine sinc seem trend god intent make detest child eat anoth loud rude childneglig parent situat see post malaysian place anoth situat child scream run around parent sit ignor rest peopl restaur suffer group older individu across u kept lean make comment u two ladi nearbi grumbl breath problem could easili solv restaur kid part parti parti room adjac separ rest dine room room door close prop wide open waitress go quietli shut door problem solv get annoy nt bother order dessert bad actual look great group across u order comment good yeah actual would given pub star even without scream kid scream kid problem probabl would stay dessert know mayb guy would get star said nt overpr okay food poor atmospher😞\n",
            "Expected emoji:🍴 prediction: stumbl upon littl shopp feel compel put old english spin sinc cutesi littl store wit end father birthday could nt think thing get unhelp man ever whatta want whatev like nt get anyth oh beacon hope tuck away tini littl strip mall sandwich dunkin donut japanes food mart liquor store simpl sign advertis irish gift salvat heraldri irish pride would offer chotchk actual give anyon like leprechaun print boxer kiss irish tie wear one day year nope place class act first enter store shock much stuff cram onto floor space would claustrophob util barrier also decor stuff lead differ area store owner also run place immedi greet pleasantli surpris wide varieti irish theme offer everyth goofi offer imagin beauti jewelri china crystal ware even whole section import irish food includ tea sweet refriger stuff like sausag end glasswar decor pewter insignia rang celtic knot claddagh ring peopl friendli immedi help find anyth need order nt call competit see secur special someth someth appreci frequent place sinc snatch guin theme merchandis friend fun irish gift member famili dad even purchas wed ring place love celtic cake topper man woman knot work circl price wee bit steep wo nt wallet cri protest import good specialti shop complet understand nt forget sign shamacu shamrockcactu nyuk nyuk newslett arriv quarterli sort recipi stori special merchandis want keep know highland game make wick shepard pie😞\n",
            "Expected emoji:⚾ prediction: servic terribl ask get drink food water food pretti good nacho appet stack foot high golf great view fantast main food arriv togeth littl confus pizza arriv first follow soup min later chip salsa min cancel😞\n",
            "Expected emoji:🍴 prediction: solid beer christma ale defin holiday season move away long time ago whenev home tri make stop great lake great vibe super chill stellar food beer😞\n",
            "Expected emoji:😄 prediction: came girlfriend one sunday afternoon place take long time serv food took almost hour give u food make sure give lot time definit lazi brunch place definit recommend pancak bewar portion size huge😞\n",
            "Expected emoji:😄 prediction: hail server gave go contain caramel popcorn way deeper sexier stori caramel popcorn get back attent nice littl place thursday night rather peac quiet relax atmospher doctor order night catch friend nt seen awhil seem small amaz much space realli start arnold palmer delici much stay entir night everyth menu look good noth realli stood fantasticihavetohavethatrightnow good crave flavor late went green chile stew item small right amount food pretti good flavor killer part night though dessert nt decid share one u agre chocol cake caramel expect cake expect gelato expect caramel expect caramel corn holi mouthgasm st franci fan super sweet thing mix salti total found eat almost everi last bit cake heaven tri cake one point believ mention want marri whomev respons end dessert fantast mood great none dish scream may back cake though😞\n",
            "Expected emoji:⚾ prediction: food good part fall short speed valu togo option conveni take way long offer good portion solid food price like higher level locat kobe beef chili chees fri quit tasti chili fri good flavor queso chees dip ok flavor ok expect bold flavor chorizo bad option patient pay littl worth😞\n",
            "Expected emoji:🍴 prediction: short summari offici love flw tour took convinc get membership next time go back two friend wander month ago get cultur took minut guid tour believ everyth gorgeou tour guid extrem knowledg abl preach u line rehears tell stori show knowledg appli life today abl take pictur tour nt happen lot museum day took everyth could camera die left feel complet inspir await next visit😞\n"
          ],
          "name": "stdout"
        }
      ]
    },
    {
      "cell_type": "markdown",
      "metadata": {
        "id": "6g_31cDuiTK5"
      },
      "source": [
        "Now you can try it on your own example. Write your own sentence below. "
      ]
    },
    {
      "cell_type": "code",
      "metadata": {
        "colab": {
          "base_uri": "https://localhost:8080/"
        },
        "id": "h3HKpbS6iTK7",
        "outputId": "66f8601c-5a5e-4194-f2e1-c17ea7f06192"
      },
      "source": [
        "# Change the sentence below to see your prediction. Make sure all the words are in the Glove embeddings.  \n",
        "x_test = np.array(['not feeling happy'])\n",
        "X_test_indices = sentences_to_indices(x_test, word_to_index, maxLen)\n",
        "print(x_test[0] +' '+  label_to_emoji(np.argmax(model.predict(X_test_indices))))"
      ],
      "execution_count": null,
      "outputs": [
        {
          "output_type": "stream",
          "text": [
            "not feeling happy 😞\n"
          ],
          "name": "stdout"
        }
      ]
    },
    {
      "cell_type": "code",
      "metadata": {
        "id": "gVMBRmTM1coD"
      },
      "source": [
        ""
      ],
      "execution_count": null,
      "outputs": []
    }
  ]
}